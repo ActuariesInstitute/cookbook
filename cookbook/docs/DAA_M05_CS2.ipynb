{
 "cells": [
  {
   "cell_type": "markdown",
   "metadata": {
    "id": "Hsmm1hugzhev"
   },
   "source": [
    "# Py: Handwriting Recognition\n",
    "Originally published in DAA M05 Classification and neural networks.\n",
    "## Case Study 2\n",
    "\n",
    "### Purpose:\n",
    "This case study involves building neural networks to recognise handwritten digits from zero to nine. The case study also compares the performance of the neural networks built to the performance of a gradient boosting machine (GBM) built to solve the same problem.\n",
    "\n",
    "### References:\n",
    "The dataset used in this case study is a famous Modified National Institute of Standards and Technology (MNIST) dataset of handwritten images (http://yann.lecun.com/exdb/mnist/). The MNIST dataset is popular for use in benchmarking classification algorithms.\n",
    "\n",
    "The dataset has 42,000 observations, each representing a greyscale image of a hand-drawn digit from zero to nine. Each image is 28 pixels in height and 28 pixels in width, making a total of 784 pixels (28x28). Each pixel has a single pixel value associated with it, from 0 to 255, indicating the lightness or darkness of that pixel. Higher pixel values represent darker pixels. The dataset represents these images as 784 features, with each feature representing a different pixel in the image.\n",
    "\n",
    "The dataset also contains one response ('label') that takes integer values from zero to nine, indicatating the digit drawn in each image."
   ]
  },
  {
   "cell_type": "markdown",
   "metadata": {
    "id": "KLhysEkOy1M1"
   },
   "source": [
    "## Packages\n",
    "This section imports the packages that will be required for this exercise/case study.\n",
    "\n",
    "We'll use:\n",
    "\n",
    "\n",
    "*   pandas for data management\n",
    "*   numpy for mathematical operations\n",
    "*   Support functions from matplotlib, sklearns, seaborn packages\n",
    "*   keras, from the tensorflow package, for fitting the neural networks"
   ]
  },
  {
   "cell_type": "code",
   "execution_count": null,
   "metadata": {
    "id": "lOOaFEDww3Xa"
   },
   "outputs": [],
   "source": [
    "import pandas as pd # For data management.\n",
    "import numpy as np # For mathematical operations.\n",
    "\n",
    "# Matplotlib and Seaborn are used for plotting.\n",
    "import matplotlib.pyplot as plt\n",
    "import matplotlib.image as mpimg\n",
    "import seaborn as sns\n",
    "%matplotlib inline\n",
    "\n",
    "# Various scikit-learn functions to help with modelling and diagnostics.\n",
    "from sklearn.model_selection import train_test_split\n",
    "from sklearn.metrics import confusion_matrix\n",
    "import itertools\n",
    "\n",
    "# Keras, from the Tensorflow package, is used for fitting the neural networks.\n",
    "from keras.utils.np_utils import to_categorical\n",
    "from keras.models import Sequential\n",
    "from keras.layers import Dense, Dropout, Flatten, Conv2D, MaxPool2D\n",
    "from keras.optimizers import RMSprop, SGD\n",
    "from keras.preprocessing.image import ImageDataGenerator\n",
    "from keras.callbacks import ReduceLROnPlateau\n",
    "from tensorflow.keras.utils import plot_model\n",
    "\n",
    "import os\n",
    "from google.colab import files"
   ]
  },
  {
   "cell_type": "markdown",
   "metadata": {
    "id": "degOq8-dKt5n"
   },
   "source": [
    "## Functions\n",
    "\n",
    "This section defines functions that will be used for this exercise/case study."
   ]
  },
  {
   "cell_type": "code",
   "execution_count": null,
   "metadata": {
    "id": "cWGRJVd3LBF0"
   },
   "outputs": [],
   "source": [
    "# Define a function to split the data into train, validation, and test sets.\n",
    "# This function uses the train_test_split function from the sklearn package\n",
    "# to do the actual data splitting.\n",
    "\n",
    "def create_data_splits(dataset, response_col):\n",
    "    # Split data into train/test (80%, 20%).\n",
    "    train_full, test = train_test_split(dataset, test_size = 0.2, random_state = 123)\n",
    "\n",
    "    # Create a validation set from the training data (20%).\n",
    "    train, validation = train_test_split(train_full, test_size = 0.2, random_state = 234)\n",
    "\n",
    "    # Create train and validation model matrices and response vectors.\n",
    "    # For the response vector, convert Churn Yes/No to 1/0\n",
    "\n",
    "    train_x = train.drop(labels=response_col, axis=1)\n",
    "    train_y = train[response_col]\n",
    "    train_y.index = range(len(train_y))\n",
    "\n",
    "    validation_x = validation.drop(labels=response_col, axis=1)\n",
    "    validation_y = validation[response_col]\n",
    "    validation_y.index = range(len(validation_y))\n",
    "\n",
    "    test_x = test.drop(labels=response_col, axis=1)\n",
    "    test_y = test[response_col]\n",
    "    test_y.index = range(len(test_y))\n",
    "\n",
    "    return train_x, train_y, validation_x, validation_y, test_x, test_y"
   ]
  },
  {
   "cell_type": "code",
   "execution_count": null,
   "metadata": {
    "id": "ik25IoYqsLWo"
   },
   "outputs": [],
   "source": [
    "# Define a function to generate a confusion matrix to observe a model's results.\n",
    "def plot_confusion_matrix(cm, classes,\n",
    "                          normalise=False,\n",
    "                          title='Confusion matrix',\n",
    "                          cmap=plt.cm.Blues):\n",
    "    '''\n",
    "    This function prints and plots a confusion matrix.\n",
    "    Normalisation of the matrix can be applied by setting `normalise=True`.\n",
    "    Normalisation ensures that the sum of each row in the confusion matrix is 1.\n",
    "    '''\n",
    "    plt.imshow(cm, interpolation='nearest', cmap=cmap)\n",
    "    plt.title(title)\n",
    "    plt.colorbar()\n",
    "    tick_marks = np.arange(len(classes))\n",
    "    plt.xticks(tick_marks, classes, rotation=45)\n",
    "    plt.yticks(tick_marks, classes)\n",
    "\n",
    "    if normalise:\n",
    "        cm = cm.astype('float') / cm.sum(axis=1)[:, np.newaxis]\n",
    "\n",
    "    thresh = cm.max() / 2.\n",
    "    for i, j in itertools.product(range(cm.shape[0]), range(cm.shape[1])):\n",
    "        plt.text(j, i, cm[i, j],\n",
    "                 horizontalalignment='center',\n",
    "                 color='white' if cm[i, j] > thresh else 'black')\n",
    "\n",
    "    plt.tight_layout()\n",
    "    plt.ylabel('True response')\n",
    "    plt.xlabel('Predicted response')"
   ]
  },
  {
   "cell_type": "markdown",
   "metadata": {
    "id": "j71pFblD2kdV"
   },
   "source": [
    "## Data\n",
    "This section:\n",
    "- imports the data that will be used in the modelling;\n",
    "- explores the data; and\n",
    "- prepares the data for modelling."
   ]
  },
  {
   "cell_type": "markdown",
   "metadata": {
    "id": "clLTBYpNvzCh"
   },
   "source": [
    "### Import data\n",
    "\n",
    "The code below uploads the csv file to google colab, and then reads it into a pandas data frame.\n",
    "\n",
    "Note that the MNIST dataset is large (75MB) hence it is slow to upload using the 'files.upload()' method.\n",
    "\n",
    "An alternative, faster method to upload the dataset is to first save it\n",
    "to Google Drive (https://drive.google.com/drive/my-drive) in a folder called 'DAA datasets' and then upload the file into Colab directly from Google Drive.\n",
    "\n",
    "The Google Drive method is used below. The 'files.upload()' method is also included (commented out with ##) in case you would prefer to avoid using Google Drive."
   ]
  },
  {
   "cell_type": "code",
   "execution_count": null,
   "metadata": {
    "colab": {
     "base_uri": "https://localhost:8080/"
    },
    "id": "LfF8NKv_KlQR",
    "outputId": "7f2094d5-3242-46a7-85c1-7d861c3c958a"
   },
   "outputs": [
    {
     "name": "stdout",
     "output_type": "stream",
     "text": [
      "Mounted at /content/gdrive/\n"
     ]
    }
   ],
   "source": [
    "# Mount your Google Drive.\n",
    "\n",
    "# If you are using the suggested method of uploading directly from Google\n",
    "# Drive, you first need to run the code below to mount your Google Drive\n",
    "# folder to Colab so that it can be accessed in Colab.\n",
    "from google.colab import drive\n",
    "drive.mount('/content/gdrive/',force_remount=True)\n",
    "  # After running this code, you should follow the steps shown in the\n",
    "  # output box below:\n",
    "  #    1. click on the link to Google Drive;\n",
    "  #    2. login to Google Drive;\n",
    "  #    3. copy the authorization code provided;\n",
    "  #    4. paste the authorization code into the box below."
   ]
  },
  {
   "cell_type": "code",
   "execution_count": null,
   "metadata": {
    "id": "vFqxkLuoKpr-"
   },
   "outputs": [],
   "source": [
    "# Specify the Google Drive folder that your datasets are saved in.\n",
    "infolder = '/content/gdrive/My Drive/DAA datasets/'"
   ]
  },
  {
   "cell_type": "code",
   "execution_count": null,
   "metadata": {
    "id": "g0_jR1BU2kHv"
   },
   "outputs": [],
   "source": [
    "# Import the dataset from Google Drive.\n",
    "\n",
    "# Specify the filename from your Google Drive.\n",
    "file = 'DAA_M05_CS2_data.csv'\n",
    "\n",
    "# Read in the data from your Google Drive folder.\n",
    "dataset = pd.read_csv (infolder+file)\n",
    "\n",
    "# Alternative (slower) method:\n",
    "# files.upload()\n",
    "  # When prompted, select the DAA_M05_CS2_data.csv dataset to upload.\n",
    "  # Note that this may take some time to upload as the file is large.\n",
    "# dataset = pd.read_csv('/content/DAA_M05_CS2_data.csv', header = 0)"
   ]
  },
  {
   "cell_type": "markdown",
   "metadata": {
    "id": "xIh2C1I05KbV"
   },
   "source": [
    "### Explore data (EDA)\n",
    "Prior to commencing any modelling, the code below observes:\n",
    "\n",
    "- the features in the dataset and their types;\n",
    "- the count of the number of observations for each response class.\n",
    "\n",
    "Graphical observations of the images will be made later in the notebook once the data has been pre-processed."
   ]
  },
  {
   "cell_type": "code",
   "execution_count": null,
   "metadata": {
    "colab": {
     "base_uri": "https://localhost:8080/"
    },
    "id": "vqO5aO2s5KCW",
    "outputId": "a22180a4-907e-4047-9c4b-fcc5d1d921b2"
   },
   "outputs": [
    {
     "data": {
      "text/plain": [
       "label       int64\n",
       "pixel0      int64\n",
       "pixel1      int64\n",
       "pixel2      int64\n",
       "pixel3      int64\n",
       "            ...  \n",
       "pixel779    int64\n",
       "pixel780    int64\n",
       "pixel781    int64\n",
       "pixel782    int64\n",
       "pixel783    int64\n",
       "Length: 785, dtype: object"
      ]
     },
     "execution_count": 7,
     "metadata": {
      "tags": []
     },
     "output_type": "execute_result"
    }
   ],
   "source": [
    "# Check the types of each feature and the response variable ('label').\n",
    "dataset.dtypes"
   ]
  },
  {
   "cell_type": "code",
   "execution_count": null,
   "metadata": {
    "colab": {
     "base_uri": "https://localhost:8080/",
     "height": 481
    },
    "id": "ar25AZyy7Ur_",
    "outputId": "cf444b3b-0820-4df9-878c-afa8462b69d3"
   },
   "outputs": [
    {
     "name": "stdout",
     "output_type": "stream",
     "text": [
      "1    4684\n",
      "7    4401\n",
      "3    4351\n",
      "9    4188\n",
      "2    4177\n",
      "6    4137\n",
      "0    4132\n",
      "4    4072\n",
      "8    4063\n",
      "5    3795\n",
      "Name: label, dtype: int64\n"
     ]
    },
    {
     "data": {
      "image/png": "[encoded data removed]",
      "text/plain": [
       "<Figure size 432x288 with 1 Axes>"
      ]
     },
     "metadata": {
      "needs_background": "light",
      "tags": []
     },
     "output_type": "display_data"
    }
   ],
   "source": [
    "# Extract the counts for each response class (digit) and build a barplot of these\n",
    "# counts for each of interpretation.\n",
    "sns.countplot(x='label',data=dataset)\n",
    "print(dataset['label'].value_counts())"
   ]
  },
  {
   "cell_type": "markdown",
   "metadata": {
    "id": "hrS2B_AVLYYh"
   },
   "source": [
    "### Prepare data\n",
    "The dataset will be pre-processed so that neural networks can be built with the data.\n"
   ]
  },
  {
   "cell_type": "code",
   "execution_count": null,
   "metadata": {
    "id": "Ot096UAr51zc"
   },
   "outputs": [],
   "source": [
    "## Split the dataset into a train, validation, and test set. \n",
    "train_x, train_y, validation_x, validation_y, test_x, test_y \\\n",
    "= create_data_splits(dataset, 'label')"
   ]
  },
  {
   "cell_type": "code",
   "execution_count": null,
   "metadata": {
    "id": "NEqw4D48_ZUe"
   },
   "outputs": [],
   "source": [
    "# Rescale the features from being in the range [0,255] to [0:1].\n",
    "train_x = train_x/255.0\n",
    "validation_x = validation_x/255.0\n",
    "test_x = test_x/255.0"
   ]
  },
  {
   "cell_type": "code",
   "execution_count": null,
   "metadata": {
    "id": "ioiJNJoOBQqs"
   },
   "outputs": [],
   "source": [
    "# Reshape the features for each observation from being a vector of size 784\n",
    "# to being a matrix of size 28x28.\n",
    "# This is required for building the convolutional neural network (CNN) below.\n",
    "train_cnn_x = train_x.values.reshape(-1, 28, 28, 1)\n",
    "validation_cnn_x = validation_x.values.reshape(-1, 28, 28, 1)\n",
    "test_cnn_x = test_x.values.reshape(-1, 28, 28, 1)"
   ]
  },
  {
   "cell_type": "markdown",
   "metadata": {
    "id": "X4pnmU5ip2Qo"
   },
   "source": [
    "### View observations\n",
    "The code below visualises an observation (hand-written digit) from each of the response classes."
   ]
  },
  {
   "cell_type": "code",
   "execution_count": null,
   "metadata": {
    "colab": {
     "base_uri": "https://localhost:8080/",
     "height": 295
    },
    "id": "pmQ69roMx-Fw",
    "outputId": "ad428418-a9fb-4b8d-f17a-32148e5dc077"
   },
   "outputs": [
    {
     "data": {
      "image/png": "[encoded data removed]",
      "text/plain": [
       "<Figure size 720x360 with 10 Axes>"
      ]
     },
     "metadata": {
      "needs_background": "light",
      "tags": []
     },
     "output_type": "display_data"
    }
   ],
   "source": [
    "# Visualise an example from each of the response classes\n",
    "# (the digits from 0 to 9).\n",
    "fig = plt.figure(figsize=(10,5))\n",
    "rows = 2\n",
    "columns = 5\n",
    "for i in range(0, 10):\n",
    "    fig.add_subplot(rows, columns, i+1)\n",
    "    plt.imshow(train_cnn_x[train_y[train_y == i].index[0]][:,:,0])\n",
    "plt.show()\n"
   ]
  },
  {
   "cell_type": "code",
   "execution_count": null,
   "metadata": {
    "id": "5XOQbbR6BBys"
   },
   "outputs": [],
   "source": [
    "# Encode the response from a continuous (integer) to a categorical variable.\n",
    "train_y = to_categorical(train_y, num_classes=10)\n",
    "validation_y = to_categorical(validation_y, num_classes=10)\n",
    "test_y = to_categorical(test_y, num_classes=10)"
   ]
  },
  {
   "cell_type": "markdown",
   "metadata": {
    "id": "6Wr9C-fWTIXi"
   },
   "source": [
    "## Modelling\n",
    "This section:\n",
    "- fits a model;\n",
    "- evaluates the fitted model;\n",
    "- improves the model; and\n",
    "- selects a final model."
   ]
  },
  {
   "cell_type": "markdown",
   "metadata": {
    "id": "YArrBJcd2Zrt"
   },
   "source": [
    "### Fit a 'vanilla' neural network (NN 1)\n",
    "\n",
    "The code below uses Keras to construct a neural network with:\n",
    "- two hidden layers, each with 16 neurons and the ReLU activation function; and\n",
    "- one output layer with 10 neurons (representing each of the digits from zero to nine) and the softmax activation function.\n",
    "\n"
   ]
  },
  {
   "cell_type": "code",
   "execution_count": null,
   "metadata": {
    "colab": {
     "base_uri": "https://localhost:8080/"
    },
    "id": "SIGEcNkCUeAb",
    "outputId": "862745d1-2e0c-4a1b-dcc9-c6fb0f8552d8"
   },
   "outputs": [
    {
     "name": "stdout",
     "output_type": "stream",
     "text": [
      "Epoch 1/100\n",
      "27/27 [==============================] - 15s 45ms/step - loss: 2.3151 - accuracy: 0.2446 - val_loss: 1.7465 - val_accuracy: 0.5091\n",
      "Epoch 2/100\n",
      "27/27 [==============================] - 0s 10ms/step - loss: 1.5326 - accuracy: 0.5798 - val_loss: 1.2235 - val_accuracy: 0.6375\n",
      "Epoch 3/100\n",
      "27/27 [==============================] - 0s 10ms/step - loss: 1.0348 - accuracy: 0.7174 - val_loss: 0.9488 - val_accuracy: 0.7458\n",
      "Epoch 4/100\n",
      "27/27 [==============================] - 0s 9ms/step - loss: 0.8250 - accuracy: 0.7855 - val_loss: 0.7745 - val_accuracy: 0.7920\n",
      "Epoch 5/100\n",
      "27/27 [==============================] - 0s 9ms/step - loss: 0.6958 - accuracy: 0.8282 - val_loss: 0.6063 - val_accuracy: 0.8637\n",
      "Epoch 6/100\n",
      "27/27 [==============================] - 0s 9ms/step - loss: 0.6122 - accuracy: 0.8567 - val_loss: 0.5702 - val_accuracy: 0.8676\n",
      "Epoch 7/100\n",
      "27/27 [==============================] - 0s 9ms/step - loss: 0.5323 - accuracy: 0.8819 - val_loss: 0.5421 - val_accuracy: 0.8677\n",
      "Epoch 8/100\n",
      "27/27 [==============================] - 0s 8ms/step - loss: 0.5298 - accuracy: 0.8752 - val_loss: 0.5103 - val_accuracy: 0.8781\n",
      "Epoch 9/100\n",
      "27/27 [==============================] - 0s 8ms/step - loss: 0.5078 - accuracy: 0.8821 - val_loss: 0.5211 - val_accuracy: 0.8740\n",
      "Epoch 10/100\n",
      "27/27 [==============================] - 0s 9ms/step - loss: 0.5283 - accuracy: 0.8699 - val_loss: 0.4585 - val_accuracy: 0.8949\n",
      "Epoch 11/100\n",
      "27/27 [==============================] - 0s 9ms/step - loss: 0.4399 - accuracy: 0.9025 - val_loss: 0.4475 - val_accuracy: 0.8954\n",
      "Epoch 12/100\n",
      "27/27 [==============================] - 0s 9ms/step - loss: 0.4456 - accuracy: 0.8947 - val_loss: 0.4344 - val_accuracy: 0.8954\n",
      "Epoch 13/100\n",
      "27/27 [==============================] - 0s 9ms/step - loss: 0.4174 - accuracy: 0.9017 - val_loss: 0.4228 - val_accuracy: 0.9004\n",
      "Epoch 14/100\n",
      "27/27 [==============================] - 0s 9ms/step - loss: 0.4039 - accuracy: 0.9086 - val_loss: 0.4070 - val_accuracy: 0.9033\n",
      "Epoch 15/100\n",
      "27/27 [==============================] - 0s 8ms/step - loss: 0.3862 - accuracy: 0.9101 - val_loss: 0.4063 - val_accuracy: 0.9049\n",
      "Epoch 16/100\n",
      "27/27 [==============================] - 0s 8ms/step - loss: 0.4001 - accuracy: 0.9050 - val_loss: 0.4302 - val_accuracy: 0.8914\n",
      "Epoch 17/100\n",
      "27/27 [==============================] - 0s 8ms/step - loss: 0.4028 - accuracy: 0.9035 - val_loss: 0.4242 - val_accuracy: 0.8932\n",
      "Epoch 18/100\n",
      "27/27 [==============================] - 0s 9ms/step - loss: 0.3794 - accuracy: 0.9103 - val_loss: 0.3810 - val_accuracy: 0.9098\n",
      "Epoch 19/100\n",
      "27/27 [==============================] - 0s 9ms/step - loss: 0.3781 - accuracy: 0.9096 - val_loss: 0.3804 - val_accuracy: 0.9062\n",
      "Epoch 20/100\n",
      "27/27 [==============================] - 0s 9ms/step - loss: 0.3524 - accuracy: 0.9180 - val_loss: 0.3746 - val_accuracy: 0.9107\n",
      "Epoch 21/100\n",
      "27/27 [==============================] - 0s 8ms/step - loss: 0.3491 - accuracy: 0.9185 - val_loss: 0.3635 - val_accuracy: 0.9149\n",
      "Epoch 22/100\n",
      "27/27 [==============================] - 0s 9ms/step - loss: 0.3717 - accuracy: 0.9088 - val_loss: 0.3559 - val_accuracy: 0.9162\n",
      "Epoch 23/100\n",
      "27/27 [==============================] - 0s 9ms/step - loss: 0.3390 - accuracy: 0.9204 - val_loss: 0.3566 - val_accuracy: 0.9135\n",
      "Epoch 24/100\n",
      "27/27 [==============================] - 0s 9ms/step - loss: 0.3342 - accuracy: 0.9208 - val_loss: 0.3585 - val_accuracy: 0.9122\n",
      "Epoch 25/100\n",
      "27/27 [==============================] - 0s 9ms/step - loss: 0.3475 - accuracy: 0.9141 - val_loss: 0.5478 - val_accuracy: 0.8427\n",
      "Epoch 26/100\n",
      "27/27 [==============================] - 0s 9ms/step - loss: 0.3700 - accuracy: 0.9058 - val_loss: 0.3408 - val_accuracy: 0.9159\n",
      "Epoch 27/100\n",
      "27/27 [==============================] - 0s 9ms/step - loss: 0.3206 - accuracy: 0.9245 - val_loss: 0.3390 - val_accuracy: 0.9176\n",
      "Epoch 28/100\n",
      "27/27 [==============================] - 0s 8ms/step - loss: 0.3139 - accuracy: 0.9261 - val_loss: 0.3434 - val_accuracy: 0.9153\n",
      "Epoch 29/100\n",
      "27/27 [==============================] - 0s 8ms/step - loss: 0.3077 - accuracy: 0.9274 - val_loss: 0.3823 - val_accuracy: 0.9034\n",
      "Epoch 30/100\n",
      "27/27 [==============================] - 0s 9ms/step - loss: 0.3163 - accuracy: 0.9246 - val_loss: 0.3473 - val_accuracy: 0.9141\n",
      "Epoch 31/100\n",
      "27/27 [==============================] - 0s 9ms/step - loss: 0.3253 - accuracy: 0.9197 - val_loss: 0.3307 - val_accuracy: 0.9168\n",
      "Epoch 32/100\n",
      "27/27 [==============================] - 0s 8ms/step - loss: 0.3066 - accuracy: 0.9247 - val_loss: 0.3275 - val_accuracy: 0.9165\n",
      "Epoch 33/100\n",
      "27/27 [==============================] - 0s 8ms/step - loss: 0.3109 - accuracy: 0.9226 - val_loss: 0.3207 - val_accuracy: 0.9208\n",
      "Epoch 34/100\n",
      "27/27 [==============================] - 0s 9ms/step - loss: 0.2910 - accuracy: 0.9316 - val_loss: 0.3172 - val_accuracy: 0.9207\n",
      "Epoch 35/100\n",
      "27/27 [==============================] - 0s 10ms/step - loss: 0.2891 - accuracy: 0.9336 - val_loss: 0.3135 - val_accuracy: 0.9237\n",
      "Epoch 36/100\n",
      "27/27 [==============================] - 0s 8ms/step - loss: 0.3016 - accuracy: 0.9255 - val_loss: 0.3177 - val_accuracy: 0.9219\n",
      "Epoch 37/100\n",
      "27/27 [==============================] - 0s 9ms/step - loss: 0.2999 - accuracy: 0.9254 - val_loss: 0.3148 - val_accuracy: 0.9219\n",
      "Epoch 38/100\n",
      "27/27 [==============================] - 0s 10ms/step - loss: 0.2851 - accuracy: 0.9334 - val_loss: 0.3096 - val_accuracy: 0.9220\n",
      "Epoch 39/100\n",
      "27/27 [==============================] - 0s 11ms/step - loss: 0.2778 - accuracy: 0.9350 - val_loss: 0.3523 - val_accuracy: 0.9098\n",
      "Epoch 40/100\n",
      "27/27 [==============================] - 0s 10ms/step - loss: 0.3069 - accuracy: 0.9246 - val_loss: 0.3049 - val_accuracy: 0.9240\n",
      "Epoch 41/100\n",
      "27/27 [==============================] - 0s 10ms/step - loss: 0.2810 - accuracy: 0.9321 - val_loss: 0.2976 - val_accuracy: 0.9265\n",
      "Epoch 42/100\n",
      "27/27 [==============================] - 0s 10ms/step - loss: 0.2737 - accuracy: 0.9353 - val_loss: 0.2923 - val_accuracy: 0.9280\n",
      "Epoch 43/100\n",
      "27/27 [==============================] - 0s 11ms/step - loss: 0.2629 - accuracy: 0.9365 - val_loss: 0.2970 - val_accuracy: 0.9259\n",
      "Epoch 44/100\n",
      "27/27 [==============================] - 0s 10ms/step - loss: 0.2933 - accuracy: 0.9245 - val_loss: 0.2898 - val_accuracy: 0.9311\n",
      "Epoch 45/100\n",
      "27/27 [==============================] - 0s 10ms/step - loss: 0.2724 - accuracy: 0.9328 - val_loss: 0.7612 - val_accuracy: 0.8058\n",
      "Epoch 46/100\n",
      "27/27 [==============================] - 0s 11ms/step - loss: 0.3563 - accuracy: 0.9100 - val_loss: 0.2892 - val_accuracy: 0.9302\n",
      "Epoch 47/100\n",
      "27/27 [==============================] - 0s 10ms/step - loss: 0.2669 - accuracy: 0.9378 - val_loss: 0.3020 - val_accuracy: 0.9262\n",
      "Epoch 48/100\n",
      "27/27 [==============================] - 0s 11ms/step - loss: 0.2654 - accuracy: 0.9362 - val_loss: 0.2895 - val_accuracy: 0.9307\n",
      "Epoch 49/100\n",
      "27/27 [==============================] - 0s 10ms/step - loss: 0.2610 - accuracy: 0.9385 - val_loss: 0.2917 - val_accuracy: 0.9293\n",
      "Epoch 50/100\n",
      "27/27 [==============================] - 0s 10ms/step - loss: 0.2598 - accuracy: 0.9377 - val_loss: 0.3160 - val_accuracy: 0.9217\n",
      "Epoch 51/100\n",
      "27/27 [==============================] - 0s 10ms/step - loss: 0.2606 - accuracy: 0.9375 - val_loss: 0.2882 - val_accuracy: 0.9296\n",
      "Epoch 52/100\n",
      "27/27 [==============================] - 0s 10ms/step - loss: 0.2559 - accuracy: 0.9399 - val_loss: 0.2832 - val_accuracy: 0.9301\n",
      "Epoch 53/100\n",
      "27/27 [==============================] - 0s 9ms/step - loss: 0.2603 - accuracy: 0.9359 - val_loss: 0.3014 - val_accuracy: 0.9228\n",
      "Epoch 54/100\n",
      "27/27 [==============================] - 0s 9ms/step - loss: 0.2562 - accuracy: 0.9402 - val_loss: 0.2768 - val_accuracy: 0.9312\n",
      "Epoch 55/100\n",
      "27/27 [==============================] - 0s 8ms/step - loss: 0.2511 - accuracy: 0.9401 - val_loss: 0.3112 - val_accuracy: 0.9198\n",
      "Epoch 56/100\n",
      "27/27 [==============================] - 0s 8ms/step - loss: 0.2464 - accuracy: 0.9444 - val_loss: 0.2726 - val_accuracy: 0.9339\n",
      "Epoch 57/100\n",
      "27/27 [==============================] - 0s 8ms/step - loss: 0.2421 - accuracy: 0.9451 - val_loss: 0.3067 - val_accuracy: 0.9204\n",
      "Epoch 58/100\n",
      "27/27 [==============================] - 0s 9ms/step - loss: 0.2560 - accuracy: 0.9378 - val_loss: 0.2675 - val_accuracy: 0.9323\n",
      "Epoch 59/100\n",
      "27/27 [==============================] - 0s 9ms/step - loss: 0.2388 - accuracy: 0.9439 - val_loss: 0.2696 - val_accuracy: 0.9320\n",
      "Epoch 60/100\n",
      "27/27 [==============================] - 0s 9ms/step - loss: 0.2404 - accuracy: 0.9444 - val_loss: 0.2718 - val_accuracy: 0.9317\n",
      "Epoch 61/100\n",
      "27/27 [==============================] - 0s 9ms/step - loss: 0.2464 - accuracy: 0.9417 - val_loss: 0.2892 - val_accuracy: 0.9262\n",
      "Epoch 62/100\n",
      "27/27 [==============================] - 0s 9ms/step - loss: 0.2377 - accuracy: 0.9462 - val_loss: 0.2771 - val_accuracy: 0.9321\n",
      "Epoch 63/100\n",
      "27/27 [==============================] - 0s 9ms/step - loss: 0.2311 - accuracy: 0.9448 - val_loss: 0.2738 - val_accuracy: 0.9320\n",
      "Epoch 64/100\n",
      "27/27 [==============================] - 0s 9ms/step - loss: 0.2375 - accuracy: 0.9430 - val_loss: 0.2587 - val_accuracy: 0.9356\n",
      "Epoch 65/100\n",
      "27/27 [==============================] - 0s 9ms/step - loss: 0.2375 - accuracy: 0.9433 - val_loss: 0.2662 - val_accuracy: 0.9333\n",
      "Epoch 66/100\n",
      "27/27 [==============================] - 0s 9ms/step - loss: 0.2292 - accuracy: 0.9458 - val_loss: 0.2689 - val_accuracy: 0.9342\n",
      "Epoch 67/100\n",
      "27/27 [==============================] - 0s 8ms/step - loss: 0.2284 - accuracy: 0.9460 - val_loss: 0.2618 - val_accuracy: 0.9330\n",
      "Epoch 68/100\n",
      "27/27 [==============================] - 0s 8ms/step - loss: 0.2261 - accuracy: 0.9478 - val_loss: 0.9709 - val_accuracy: 0.7655\n",
      "Epoch 69/100\n",
      "27/27 [==============================] - 0s 9ms/step - loss: 0.4117 - accuracy: 0.8988 - val_loss: 0.2681 - val_accuracy: 0.9354\n",
      "Epoch 70/100\n",
      "27/27 [==============================] - 0s 10ms/step - loss: 0.2274 - accuracy: 0.9477 - val_loss: 0.2647 - val_accuracy: 0.9344\n",
      "Epoch 71/100\n",
      "27/27 [==============================] - 0s 10ms/step - loss: 0.2359 - accuracy: 0.9431 - val_loss: 0.2571 - val_accuracy: 0.9385\n",
      "Epoch 72/100\n",
      "27/27 [==============================] - 0s 10ms/step - loss: 0.2114 - accuracy: 0.9515 - val_loss: 0.2536 - val_accuracy: 0.9381\n",
      "Epoch 73/100\n",
      "27/27 [==============================] - 0s 10ms/step - loss: 0.2211 - accuracy: 0.9467 - val_loss: 0.2820 - val_accuracy: 0.9290\n",
      "Epoch 74/100\n",
      "27/27 [==============================] - 0s 11ms/step - loss: 0.2353 - accuracy: 0.9411 - val_loss: 0.2491 - val_accuracy: 0.9381\n",
      "Epoch 75/100\n",
      "27/27 [==============================] - 0s 10ms/step - loss: 0.2138 - accuracy: 0.9505 - val_loss: 0.2733 - val_accuracy: 0.9307\n",
      "Epoch 76/100\n",
      "27/27 [==============================] - 0s 10ms/step - loss: 0.2254 - accuracy: 0.9472 - val_loss: 0.2976 - val_accuracy: 0.9213\n",
      "Epoch 77/100\n",
      "27/27 [==============================] - 0s 9ms/step - loss: 0.2364 - accuracy: 0.9418 - val_loss: 0.2509 - val_accuracy: 0.9384\n",
      "Epoch 78/100\n",
      "27/27 [==============================] - 0s 9ms/step - loss: 0.2150 - accuracy: 0.9506 - val_loss: 0.2494 - val_accuracy: 0.9396\n",
      "Epoch 79/100\n",
      "27/27 [==============================] - 0s 9ms/step - loss: 0.2170 - accuracy: 0.9477 - val_loss: 0.2658 - val_accuracy: 0.9330\n",
      "Epoch 80/100\n",
      "27/27 [==============================] - 0s 8ms/step - loss: 0.2141 - accuracy: 0.9479 - val_loss: 0.2889 - val_accuracy: 0.9277\n",
      "Epoch 81/100\n",
      "27/27 [==============================] - 0s 8ms/step - loss: 0.2298 - accuracy: 0.9419 - val_loss: 0.2424 - val_accuracy: 0.9394\n",
      "Epoch 82/100\n",
      "27/27 [==============================] - 0s 9ms/step - loss: 0.3034 - accuracy: 0.9248 - val_loss: 0.2559 - val_accuracy: 0.9363\n",
      "Epoch 83/100\n",
      "27/27 [==============================] - 0s 8ms/step - loss: 0.2114 - accuracy: 0.9525 - val_loss: 0.2554 - val_accuracy: 0.9362\n",
      "Epoch 84/100\n",
      "27/27 [==============================] - 0s 9ms/step - loss: 0.2040 - accuracy: 0.9549 - val_loss: 0.2489 - val_accuracy: 0.9393\n",
      "Epoch 85/100\n",
      "27/27 [==============================] - 0s 10ms/step - loss: 0.2080 - accuracy: 0.9523 - val_loss: 0.2530 - val_accuracy: 0.9365\n",
      "Epoch 86/100\n",
      "27/27 [==============================] - 0s 11ms/step - loss: 0.2186 - accuracy: 0.9469 - val_loss: 0.2409 - val_accuracy: 0.9412\n",
      "Epoch 87/100\n",
      "27/27 [==============================] - 0s 11ms/step - loss: 0.2038 - accuracy: 0.9527 - val_loss: 0.2485 - val_accuracy: 0.9368\n",
      "Epoch 88/100\n",
      "27/27 [==============================] - 0s 11ms/step - loss: 0.2182 - accuracy: 0.9484 - val_loss: 0.2673 - val_accuracy: 0.9311\n",
      "Epoch 89/100\n",
      "27/27 [==============================] - 0s 9ms/step - loss: 0.2100 - accuracy: 0.9507 - val_loss: 0.2537 - val_accuracy: 0.9382\n",
      "Epoch 90/100\n",
      "27/27 [==============================] - 0s 9ms/step - loss: 0.2042 - accuracy: 0.9530 - val_loss: 0.2603 - val_accuracy: 0.9318\n",
      "Epoch 91/100\n",
      "27/27 [==============================] - 0s 8ms/step - loss: 0.2247 - accuracy: 0.9434 - val_loss: 0.2457 - val_accuracy: 0.9408\n",
      "Epoch 92/100\n",
      "27/27 [==============================] - 0s 9ms/step - loss: 0.2075 - accuracy: 0.9500 - val_loss: 0.2383 - val_accuracy: 0.9420\n",
      "Epoch 93/100\n",
      "27/27 [==============================] - 0s 9ms/step - loss: 0.2049 - accuracy: 0.9528 - val_loss: 0.2361 - val_accuracy: 0.9424\n",
      "Epoch 94/100\n",
      "27/27 [==============================] - 0s 9ms/step - loss: 0.1960 - accuracy: 0.9534 - val_loss: 0.2883 - val_accuracy: 0.9241\n",
      "Epoch 95/100\n",
      "27/27 [==============================] - 0s 8ms/step - loss: 0.1989 - accuracy: 0.9541 - val_loss: 0.2343 - val_accuracy: 0.9438\n",
      "Epoch 96/100\n",
      "27/27 [==============================] - 0s 9ms/step - loss: 0.1969 - accuracy: 0.9540 - val_loss: 0.2818 - val_accuracy: 0.9283\n",
      "Epoch 97/100\n",
      "27/27 [==============================] - 0s 9ms/step - loss: 0.2042 - accuracy: 0.9515 - val_loss: 0.2425 - val_accuracy: 0.9400\n",
      "Epoch 98/100\n",
      "27/27 [==============================] - 0s 9ms/step - loss: 0.2272 - accuracy: 0.9439 - val_loss: 0.2342 - val_accuracy: 0.9426\n",
      "Epoch 99/100\n",
      "27/27 [==============================] - 0s 9ms/step - loss: 0.1941 - accuracy: 0.9554 - val_loss: 0.2313 - val_accuracy: 0.9442\n",
      "Epoch 100/100\n",
      "27/27 [==============================] - 0s 9ms/step - loss: 0.1920 - accuracy: 0.9562 - val_loss: 0.2426 - val_accuracy: 0.9391\n"
     ]
    }
   ],
   "source": [
    "# Specify the model's architecture.\n",
    "nn_model = Sequential()\n",
    "nn_model.add(Dense(16, input_dim= 784, kernel_initializer='normal', activation='relu'))\n",
    "nn_model.add(Dense(16, activation='relu', kernel_regularizer='l2'))\n",
    "nn_model.add(Dense(10, activation='softmax'))\n",
    "\n",
    "# Compile the model.\n",
    "opt = SGD(learning_rate=0.2, momentum=0.0)\n",
    "  # This specifies that regular stochastic gradient descent (SGD) should be\n",
    "  # used with a learning rate of 0.2.\n",
    "  # Momentum = 0 specifies that the regular SGD algorithm should be used\n",
    "  # 'without momentum'.\n",
    "  # SGD with momentum is a variant on regular SGD that uses an\n",
    "  # exponential moving average of current and past gradients rather than just\n",
    "  # the gradient for the current iteration.\n",
    "nn_model.compile(\n",
    "    loss='categorical_crossentropy', \n",
    "      # The 'categorical_crossentropy' loss function is useful\n",
    "      # for an integer response variable.\n",
    "    optimizer =  opt,\n",
    "\n",
    "    metrics=['accuracy'],\n",
    ")\n",
    "nn_hist = nn_model.fit(np.array(train_x), np.array(train_y), epochs=100,batch_size=1000, validation_data = (validation_x, validation_y))"
   ]
  },
  {
   "cell_type": "markdown",
   "metadata": {
    "id": "1qlwyEeLS_gb"
   },
   "source": [
    "### Evaluate NN 1"
   ]
  },
  {
   "cell_type": "code",
   "execution_count": null,
   "metadata": {
    "colab": {
     "base_uri": "https://localhost:8080/",
     "height": 313
    },
    "id": "OyvmhM-JFTmo",
    "outputId": "d123297d-4813-423e-8d40-1f0eb3a54362"
   },
   "outputs": [
    {
     "data": {
      "text/plain": [
       "<matplotlib.legend.Legend at 0x7f70d30f1ed0>"
      ]
     },
     "execution_count": 15,
     "metadata": {
      "tags": []
     },
     "output_type": "execute_result"
    },
    {
     "data": {
      "image/png": "[encoded data removed]",
      "text/plain": [
       "<Figure size 432x288 with 1 Axes>"
      ]
     },
     "metadata": {
      "needs_background": "light",
      "tags": []
     },
     "output_type": "display_data"
    }
   ],
   "source": [
    "# Plot the accuracy of the fitted model after each epoch.\n",
    "# An epoch is a full cycle through the training data.\n",
    "plt.plot(nn_hist.history['accuracy'], color='dodgerblue')\n",
    "plt.plot(nn_hist.history['val_accuracy'],color='orange')\n",
    "plt.title('NN1 model accuracy')\n",
    "plt.ylabel('accuracy')\n",
    "plt.xlabel('epoch')\n",
    "plt.legend(['train','validation'], loc='lower right')\n"
   ]
  },
  {
   "cell_type": "markdown",
   "metadata": {
    "id": "leOZKW01_3Gs"
   },
   "source": [
    "The plot above confirms that the model has converged on an optimal solution, with both training and validation accuracy increasing rapidly over the first 10 or so epochs and then flattening out after that. Not much further improvement in accuracy is obtained after the first 10 or so epochs."
   ]
  },
  {
   "cell_type": "markdown",
   "metadata": {
    "id": "LZk6-cVZx9hy"
   },
   "source": [
    "### Fit a convolutional neural network (CNN)\n",
    "Next, a convolutional neural network (CNN) is constructed. CNNs are outlined in Section 5.7.1 of Module 5.\n",
    "\n",
    "The CNN below will use two convolutional layers with a 5x5 filter/kernel."
   ]
  },
  {
   "cell_type": "code",
   "execution_count": null,
   "metadata": {
    "id": "YNoohnC51um5"
   },
   "outputs": [],
   "source": [
    "cnn_model = Sequential()\n",
    "\n",
    "cnn_model.add(Conv2D(filters = 16, kernel_size = (5,5), \n",
    "                 activation ='relu', input_shape = (28,28,1)))\n",
    "  # Notice from the input_shape = (28,28,1) term above\n",
    "  # that the CNN takes as input the 28x28 matrix of pixel features\n",
    "  # rather than the flattened vector of all 784 pixel features. \n",
    "cnn_model.add(Conv2D(filters = 16, kernel_size = (5,5), \n",
    "                 activation ='relu'))\n",
    "cnn_model.add(MaxPool2D(pool_size=(2,2)))\n",
    "\n",
    "cnn_model.add(Flatten())\n",
    "  # Flatten() converts the matrix outputs from the convolutional layers\n",
    "  # back into vectors for feeding into the output layer. \n",
    "cnn_model.add(Dense(10, activation = 'softmax'))"
   ]
  },
  {
   "cell_type": "code",
   "execution_count": null,
   "metadata": {
    "colab": {
     "base_uri": "https://localhost:8080/"
    },
    "id": "uI4qQ1kO1109",
    "outputId": "9db59b33-dd4d-44ce-ab97-fda7be90e6e1"
   },
   "outputs": [
    {
     "name": "stdout",
     "output_type": "stream",
     "text": [
      "Epoch 1/10\n",
      "2688/2688 [==============================] - 53s 19ms/step - loss: 0.6349 - accuracy: 0.8015 - val_loss: 0.1751 - val_accuracy: 0.9519\n",
      "Epoch 2/10\n",
      "2688/2688 [==============================] - 50s 19ms/step - loss: 0.1224 - accuracy: 0.9646 - val_loss: 0.1287 - val_accuracy: 0.9640\n",
      "Epoch 3/10\n",
      "2688/2688 [==============================] - 51s 19ms/step - loss: 0.0981 - accuracy: 0.9716 - val_loss: 0.1016 - val_accuracy: 0.9746\n",
      "Epoch 4/10\n",
      "2688/2688 [==============================] - 51s 19ms/step - loss: 0.0709 - accuracy: 0.9801 - val_loss: 0.1501 - val_accuracy: 0.9595\n",
      "Epoch 5/10\n",
      "2688/2688 [==============================] - 50s 19ms/step - loss: 0.0871 - accuracy: 0.9753 - val_loss: 0.2210 - val_accuracy: 0.9524\n",
      "Epoch 6/10\n",
      "2688/2688 [==============================] - 51s 19ms/step - loss: 0.0847 - accuracy: 0.9759 - val_loss: 0.0999 - val_accuracy: 0.9714\n",
      "Epoch 7/10\n",
      "2688/2688 [==============================] - 50s 19ms/step - loss: 0.0646 - accuracy: 0.9807 - val_loss: 0.1246 - val_accuracy: 0.9732\n",
      "Epoch 8/10\n",
      "2688/2688 [==============================] - 50s 19ms/step - loss: 0.0718 - accuracy: 0.9806 - val_loss: 0.1906 - val_accuracy: 0.9626\n",
      "Epoch 9/10\n",
      "2688/2688 [==============================] - 51s 19ms/step - loss: 0.0695 - accuracy: 0.9802 - val_loss: 0.1612 - val_accuracy: 0.9655\n",
      "Epoch 10/10\n",
      "2688/2688 [==============================] - 51s 19ms/step - loss: 0.0736 - accuracy: 0.9818 - val_loss: 0.1937 - val_accuracy: 0.9592\n"
     ]
    }
   ],
   "source": [
    "# Define the regular stochastic gradient descent (SGD) optimiser (without\n",
    "# momentum, a learning rate of 0.2 and the crossentropy loss function.\n",
    "# to be used in the fitting of the model.\n",
    "opt = SGD(learning_rate=0.2, momentum=0.0)\n",
    "cnn_model.compile(optimizer = opt , loss = 'categorical_crossentropy',\n",
    "                  metrics=['accuracy'])\n",
    "\n",
    "epochs = 10\n",
    "batch_size = 10\n",
    "\n",
    "# Fit the CNN and capture the error and accuracy rates from the fitted model\n",
    "# after each epoch.\n",
    "cnn_hist = cnn_model.fit(train_cnn_x, train_y, batch_size = batch_size,\n",
    "                         epochs = epochs,\n",
    "                         validation_data = (validation_cnn_x, validation_y))"
   ]
  },
  {
   "cell_type": "markdown",
   "metadata": {
    "id": "Zej77hCgCwef"
   },
   "source": [
    "You should note that the CNN takes much longer to fit than the vanilla neural network (NN 1)."
   ]
  },
  {
   "cell_type": "markdown",
   "metadata": {
    "id": "v_viJKSHC7c1"
   },
   "source": [
    "### Evaluate CNN"
   ]
  },
  {
   "cell_type": "code",
   "execution_count": null,
   "metadata": {
    "colab": {
     "base_uri": "https://localhost:8080/",
     "height": 313
    },
    "id": "5mCGxlRmHxtf",
    "outputId": "fa0ddb29-9999-45a2-ab85-07d843988731"
   },
   "outputs": [
    {
     "data": {
      "text/plain": [
       "<matplotlib.legend.Legend at 0x7f70d2d09850>"
      ]
     },
     "execution_count": 18,
     "metadata": {
      "tags": []
     },
     "output_type": "execute_result"
    },
    {
     "data": {
      "image/png": "[encoded data removed]",
      "text/plain": [
       "<Figure size 432x288 with 1 Axes>"
      ]
     },
     "metadata": {
      "needs_background": "light",
      "tags": []
     },
     "output_type": "display_data"
    }
   ],
   "source": [
    "# Plot the accuracy of the CNN against each epoch\n",
    "# to ensure that the model has converged on an\n",
    "# optimal solution.\n",
    "plt.plot(cnn_hist.history['accuracy'],color='dodgerblue')\n",
    "plt.plot(cnn_hist.history['val_accuracy'],color='orange')\n",
    "plt.title('CNN model accuracy')\n",
    "plt.ylabel('accuracy')\n",
    "plt.xlabel('epoch')\n",
    "plt.legend(['train', 'validation'], loc='lower right')"
   ]
  },
  {
   "cell_type": "markdown",
   "metadata": {
    "id": "DAnf_bKAUX2v"
   },
   "source": [
    "The graph of the accuracy suggests that the model may not have converged yet,since the validation accuracy is still volatile after 10 epochs. You can try to obtain a higher accuracy on the validation data by increasing the number of epochs used to train the model."
   ]
  },
  {
   "cell_type": "code",
   "execution_count": null,
   "metadata": {
    "colab": {
     "base_uri": "https://localhost:8080/"
    },
    "id": "VlBzKk4cEZ5W",
    "outputId": "e718d977-10b9-4aca-f9ea-8b84c4047cf6"
   },
   "outputs": [
    {
     "data": {
      "text/plain": [
       "{'CNN': 0.9592261910438538, 'NN 1': 0.9391369223594666}"
      ]
     },
     "execution_count": 19,
     "metadata": {
      "tags": []
     },
     "output_type": "execute_result"
    }
   ],
   "source": [
    "# Compare the accuracy obtained under the vanilla neural network (NN 1)\n",
    "# to that obtained under the CNN.\n",
    "{'CNN':cnn_hist.history['val_accuracy'][-1],\n",
    " 'NN 1': nn_hist.history['val_accuracy'][-1]}"
   ]
  },
  {
   "cell_type": "markdown",
   "metadata": {
    "id": "RR9yh1qmFtkf"
   },
   "source": [
    "The CNN had a higher accuracy after 10 epochs compared to the vanilla neural network after 100 epochs. However, the CNN took substantially more time to train. The final choice of which model to use should take into account the business context and, in particular, the value that the business assigns to a model's accuracy compared to its training efficiency."
   ]
  },
  {
   "cell_type": "markdown",
   "metadata": {
    "id": "Owe7TXwiGK-6"
   },
   "source": [
    "### Select the final model"
   ]
  },
  {
   "cell_type": "code",
   "execution_count": null,
   "metadata": {
    "id": "krb-hUHiGQQd"
   },
   "outputs": [],
   "source": [
    "# Select the final model and call it `nn_model_final`.\n",
    "# In this case, it is assumed that model accuracy is\n",
    "# more important than model training speed, hence the\n",
    "# CNN is chosen.\n",
    "nn_model_final = cnn_model\n",
    "test_x_final = test_cnn_x"
   ]
  },
  {
   "cell_type": "markdown",
   "metadata": {
    "id": "vVY2qMZVLVjy"
   },
   "source": [
    "## Observations"
   ]
  },
  {
   "cell_type": "markdown",
   "metadata": {
    "id": "bOmRXTdNx5Ms"
   },
   "source": [
    "### Predict on the test set\n",
    "Now that a final fitted model has been selected, it can be used to make predictions on the test set."
   ]
  },
  {
   "cell_type": "code",
   "execution_count": null,
   "metadata": {
    "id": "h26tgO_0FLmQ"
   },
   "outputs": [],
   "source": [
    "# Make predictions on the test set.\n",
    "test_preds = nn_model_final.predict(test_x_final)\n",
    "# Convert the predictions (y_hat_gk) to class predictions (G(Xi.)).\n",
    "test_preds_classes = np.argmax(test_preds,axis = 1)\n",
    "# Convert the encoded responses (i.e. 0s and 1s to a single vector Numpy array\n",
    "# contained classes 0, 1, 2, ..., 9.\n",
    "test_y_classes = np.argmax(test_y,axis = 1)"
   ]
  },
  {
   "cell_type": "markdown",
   "metadata": {
    "id": "OUNCSSdYHl47"
   },
   "source": [
    "Note that even though the CNN took a long time to train, it is very quick to score (i.e. make predictions based on a set of unseen observations)."
   ]
  },
  {
   "cell_type": "code",
   "execution_count": null,
   "metadata": {
    "colab": {
     "base_uri": "https://localhost:8080/",
     "height": 311
    },
    "id": "PSKIhNcUJYxb",
    "outputId": "93958cc6-0129-427e-8c3e-5f7b42fa8458"
   },
   "outputs": [
    {
     "data": {
      "image/png": "[encoded data removed]",
      "text/plain": [
       "<Figure size 432x288 with 2 Axes>"
      ]
     },
     "metadata": {
      "needs_background": "light",
      "tags": []
     },
     "output_type": "display_data"
    }
   ],
   "source": [
    "# Use the confusion matrix function defined at the top of the notebook\n",
    "# to observe the number of observations that have been\n",
    "# misclassified by the final model.\n",
    "\n",
    "# Compute the confusion matrix.\n",
    "confusion_mtx = confusion_matrix(test_y_classes, test_preds_classes) \n",
    "# Plot the confusion matrix.\n",
    "plot_confusion_matrix(confusion_mtx, classes = range(10))"
   ]
  },
  {
   "cell_type": "markdown",
   "metadata": {
    "id": "yu-21pnQIvPl"
   },
   "source": [
    "The confusion matrix above shows that the majority of observations have been correctly classified, as previously indicated by the high accuracy obtained from this model."
   ]
  },
  {
   "cell_type": "markdown",
   "metadata": {
    "id": "JDtG9JDOqGmv"
   },
   "source": [
    "### Observe example misclassifications\n",
    "The code below allows you to observe some of the images that were misclassified by the final model. This information might be useful in working out particular types of images that the model found hard to classify correctly, which might inform how to further improve the model. "
   ]
  },
  {
   "cell_type": "code",
   "execution_count": null,
   "metadata": {
    "colab": {
     "base_uri": "https://localhost:8080/",
     "height": 479
    },
    "id": "y_1I5PMfKLAF",
    "outputId": "4854f9d0-e0ef-4e96-af0f-5fe76f353f8b"
   },
   "outputs": [
    {
     "name": "stdout",
     "output_type": "stream",
     "text": [
      "1. Actual digit: 9 Predicted digit: 7\n",
      "2. Actual digit: 0 Predicted digit: 3\n",
      "3. Actual digit: 9 Predicted digit: 4\n",
      "4. Actual digit: 0 Predicted digit: 5\n",
      "5. Actual digit: 9 Predicted digit: 8\n",
      "6. Actual digit: 9 Predicted digit: 4\n",
      "7. Actual digit: 9 Predicted digit: 4\n",
      "8. Actual digit: 1 Predicted digit: 6\n",
      "9. Actual digit: 9 Predicted digit: 6\n",
      "10. Actual digit: 5 Predicted digit: 3\n"
     ]
    },
    {
     "data": {
      "image/png": "[encoded data removed]",
      "text/plain": [
       "<Figure size 720x360 with 10 Axes>"
      ]
     },
     "metadata": {
      "needs_background": "light",
      "tags": []
     },
     "output_type": "display_data"
    }
   ],
   "source": [
    "# Create a vector that allows errors to be identified.\n",
    "errors = test_y_classes - test_preds_classes\n",
    "error_indexes = np.where(errors != 0)\n",
    "\n",
    "# Plot the first 10 errors.\n",
    "fig = plt.figure(figsize=(10,5))\n",
    "rows = 2\n",
    "columns = 5\n",
    "for i in range(0, 10):\n",
    "    print(str(i+1)+'. Actual digit: ' + str(test_y_classes[error_indexes[0][i]]) +\n",
    "          ' Predicted digit: ' + str(test_preds_classes[error_indexes[0][i]]))\n",
    "    fig.add_subplot(rows, columns, i+1)\n",
    "    plt.imshow(test_x_final[error_indexes[0][i]][:,:,0]);\n",
    "plt.show()\n"
   ]
  }
 ],
 "metadata": {
  "colab": {
   "collapsed_sections": [],
   "name": "DAA_M05_CS2.ipynb",
   "provenance": [],
   "toc_visible": true
  },
  "kernelspec": {
   "display_name": "Python 3",
   "language": "python",
   "name": "python3"
  },
  "language_info": {
   "codemirror_mode": {
    "name": "ipython",
    "version": 3
   },
   "file_extension": ".py",
   "mimetype": "text/x-python",
   "name": "python",
   "nbconvert_exporter": "python",
   "pygments_lexer": "ipython3",
   "version": "3.9.1"
  }
 },
 "nbformat": 4,
 "nbformat_minor": 1
}
