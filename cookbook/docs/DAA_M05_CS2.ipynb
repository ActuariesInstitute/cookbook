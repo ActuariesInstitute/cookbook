{
 "cells": [
  {
   "cell_type": "markdown",
   "metadata": {
    "id": "Hsmm1hugzhev"
   },
   "source": [
    "# Py: Image Recognition\n",
    "This notebook was originally created by AUTHOR’S NAME for the Data Analytics Applications subject.\n",
    "\n",
    "Originally published in DAA M05 Classification and neural networks as *Case Study 2*.\n",
    "\n",
    "***The Data Analytics Application is a Fellowship Applications (Module 3) subject with the Actuaries Institute that aims to teach students how to apply a range of data analytics skills, such as neural networks, natural language processing, unsupervised learning and optimisation techniques, together with their professional judgement, to solve a variety of complex and challenging business problems. The business problems used as examples in this subject are drawn from a wide range of industries.***\n",
    "\n",
    "***Find out more about the course [here](https://www.actuaries.asn.au/education-program/fellowship/subjects-and-syllabus/data-analytics-applications-subject).***"
   ]
  },
  {
   "cell_type": "markdown",
   "metadata": {},
   "source": [
    "### Define the Problem:\n",
    "Another popular use of neural networks is in image detection. Examples of ways in which neural network image classifiers might be used to solve business problems include:\n",
    "\n",
    " * analysing drone images to make the insurance claims management process more efficient, such as by classifying the level of damage caused to a property following a natural disaster; and\n",
    " * extracting information from handwritten correspondence from customers, such as information on insurance claims forms to be entered into the claims database.\n",
    "\n",
    "This case study investigates the use of a neural network to decipher handwritten digits (from zero to nine). This might be a useful tool if, for example, you are trying to automate the process of sorting mail based on postcodes written on the front of envelopes. Of course, the task of training a neural network to recognise hand-written digits can also be extended to recognising hand-written letters and then words.\n"
   ]
  },
  {
   "cell_type": "markdown",
   "metadata": {
    "id": "Hsmm1hugzhev"
   },
   "source": [
    "### Purpose:\n",
    "This case study by Elliot Dawson involves building neural networks to recognise handwritten digits from zero to nine. The case study also compares the performance of the neural networks built to the performance of a gradient boosting machine (GBM) built to solve the same problem.\n",
    "\n",
    "### References:\n",
    "The dataset used in this case study is a famous Modified National Institute of Standards and Technology (MNIST) dataset of handwritten images (http://yann.lecun.com/exdb/mnist/). The MNIST dataset is popular for use in benchmarking classification algorithms.\n",
    "\n",
    "The dataset has 42,000 observations, each representing a greyscale image of a hand-drawn digit from zero to nine. Each image is 28 pixels in height and 28 pixels in width, making a total of 784 pixels (28x28). Each pixel has a single pixel value associated with it, from 0 to 255, indicating the lightness or darkness of that pixel. Higher pixel values represent darker pixels. The dataset represents these images as 784 features, with each feature representing a different pixel in the image.\n",
    "\n",
    "The dataset also contains one response ('label') that takes integer values from zero to nine, indicatating the digit drawn in each image."
   ]
  },
  {
   "cell_type": "markdown",
   "metadata": {
    "id": "KLhysEkOy1M1"
   },
   "source": [
    "## Packages\n",
    "This section imports the packages that will be required for this exercise/case study.\n",
    "\n",
    "We'll use:\n",
    "\n",
    "\n",
    "*   pandas for data management\n",
    "*   numpy for mathematical operations\n",
    "*   Support functions from matplotlib, sklearns, seaborn packages\n",
    "*   keras, from the tensorflow package, for fitting the neural networks"
   ]
  },
  {
   "cell_type": "code",
   "execution_count": 1,
   "metadata": {
    "id": "lOOaFEDww3Xa"
   },
   "outputs": [],
   "source": [
    "import pandas as pd # For data management.\n",
    "import numpy as np # For mathematical operations.\n",
    "\n",
    "# Matplotlib and Seaborn are used for plotting.\n",
    "import matplotlib.pyplot as plt\n",
    "import matplotlib.image as mpimg\n",
    "import seaborn as sns\n",
    "%matplotlib inline\n",
    "\n",
    "# Various scikit-learn functions to help with modelling and diagnostics.\n",
    "from sklearn.model_selection import train_test_split\n",
    "from sklearn.metrics import confusion_matrix\n",
    "import itertools\n",
    "\n",
    "# Keras, from the Tensorflow package, is used for fitting the neural networks.\n",
    "from keras.utils.np_utils import to_categorical\n",
    "from keras.models import Sequential\n",
    "from keras.layers import Dense, Dropout, Flatten, Conv2D, MaxPool2D\n",
    "from keras.optimizers import RMSprop, SGD\n",
    "from keras.preprocessing.image import ImageDataGenerator\n",
    "from keras.callbacks import ReduceLROnPlateau\n",
    "from tensorflow.keras.utils import plot_model\n",
    "\n",
    "import os"
   ]
  },
  {
   "cell_type": "markdown",
   "metadata": {
    "id": "degOq8-dKt5n"
   },
   "source": [
    "## Functions\n",
    "\n",
    "This section defines functions that will be used for this exercise/case study."
   ]
  },
  {
   "cell_type": "code",
   "execution_count": 2,
   "metadata": {
    "id": "cWGRJVd3LBF0"
   },
   "outputs": [],
   "source": [
    "# Define a function to split the data into train, validation, and test sets.\n",
    "# This function uses the train_test_split function from the sklearn package\n",
    "# to do the actual data splitting.\n",
    "\n",
    "def create_data_splits(dataset, response_col):\n",
    "    # Split data into train/test (80%, 20%).\n",
    "    train_full, test = train_test_split(dataset, test_size = 0.2, random_state = 123)\n",
    "\n",
    "    # Create a validation set from the training data (20%).\n",
    "    train, validation = train_test_split(train_full, test_size = 0.2, random_state = 234)\n",
    "\n",
    "    # Create train and validation model matrices and response vectors.\n",
    "    # For the response vector, convert Churn Yes/No to 1/0\n",
    "\n",
    "    train_x = train.drop(labels=response_col, axis=1)\n",
    "    train_y = train[response_col]\n",
    "    train_y.index = range(len(train_y))\n",
    "\n",
    "    validation_x = validation.drop(labels=response_col, axis=1)\n",
    "    validation_y = validation[response_col]\n",
    "    validation_y.index = range(len(validation_y))\n",
    "\n",
    "    test_x = test.drop(labels=response_col, axis=1)\n",
    "    test_y = test[response_col]\n",
    "    test_y.index = range(len(test_y))\n",
    "\n",
    "    return train_x, train_y, validation_x, validation_y, test_x, test_y"
   ]
  },
  {
   "cell_type": "code",
   "execution_count": 3,
   "metadata": {
    "id": "ik25IoYqsLWo"
   },
   "outputs": [],
   "source": [
    "# Define a function to generate a confusion matrix to observe a model's results.\n",
    "def plot_confusion_matrix(cm, classes,\n",
    "                          normalise=False,\n",
    "                          title='Confusion matrix',\n",
    "                          cmap=plt.cm.Blues):\n",
    "    '''\n",
    "    This function prints and plots a confusion matrix.\n",
    "    Normalisation of the matrix can be applied by setting `normalise=True`.\n",
    "    Normalisation ensures that the sum of each row in the confusion matrix is 1.\n",
    "    '''\n",
    "    plt.imshow(cm, interpolation='nearest', cmap=cmap)\n",
    "    plt.title(title)\n",
    "    plt.colorbar()\n",
    "    tick_marks = np.arange(len(classes))\n",
    "    plt.xticks(tick_marks, classes, rotation=45)\n",
    "    plt.yticks(tick_marks, classes)\n",
    "\n",
    "    if normalise:\n",
    "        cm = cm.astype('float') / cm.sum(axis=1)[:, np.newaxis]\n",
    "\n",
    "    thresh = cm.max() / 2.\n",
    "    for i, j in itertools.product(range(cm.shape[0]), range(cm.shape[1])):\n",
    "        plt.text(j, i, cm[i, j],\n",
    "                 horizontalalignment='center',\n",
    "                 color='white' if cm[i, j] > thresh else 'black')\n",
    "\n",
    "    plt.tight_layout()\n",
    "    plt.ylabel('True response')\n",
    "    plt.xlabel('Predicted response')"
   ]
  },
  {
   "cell_type": "markdown",
   "metadata": {
    "id": "j71pFblD2kdV"
   },
   "source": [
    "## Data\n",
    "This section:\n",
    "- imports the data that will be used in the modelling;\n",
    "- explores the data; and\n",
    "- prepares the data for modelling."
   ]
  },
  {
   "cell_type": "markdown",
   "metadata": {
    "id": "clLTBYpNvzCh"
   },
   "source": [
    "### Import data\n",
    "\n",
    "The code below reads the CSV into a pandas data frame.\n",
    "\n",
    "Note that the MNIST dataset is large (75MB) hence it has been zipped, but pandas reads it natively."
   ]
  },
  {
   "cell_type": "code",
   "execution_count": 4,
   "metadata": {
    "id": "vFqxkLuoKpr-"
   },
   "outputs": [],
   "source": [
    "# Specify the folder or URL datasets are saved in.\n",
    "infolder = 'https://actuariesinstitute.github.io/cookbook/_static/daa_datasets/'"
   ]
  },
  {
   "cell_type": "code",
   "execution_count": 5,
   "metadata": {
    "id": "g0_jR1BU2kHv"
   },
   "outputs": [],
   "source": [
    "# Specify the filename.\n",
    "file = 'DAA_M05_CS2_data.csv.zip'\n",
    "\n",
    "# Read in the data from your Google Drive folder.\n",
    "dataset = pd.read_csv (infolder+file)"
   ]
  },
  {
   "cell_type": "markdown",
   "metadata": {
    "id": "xIh2C1I05KbV"
   },
   "source": [
    "### Explore data (EDA)\n",
    "Prior to commencing any modelling, the code below observes:\n",
    "\n",
    "- the features in the dataset and their types;\n",
    "- the count of the number of observations for each response class.\n",
    "\n",
    "Graphical observations of the images will be made later in the notebook once the data has been pre-processed."
   ]
  },
  {
   "cell_type": "code",
   "execution_count": 6,
   "metadata": {
    "colab": {
     "base_uri": "https://localhost:8080/"
    },
    "id": "vqO5aO2s5KCW",
    "outputId": "a22180a4-907e-4047-9c4b-fcc5d1d921b2"
   },
   "outputs": [
    {
     "data": {
      "text/plain": [
       "label       int64\n",
       "pixel0      int64\n",
       "pixel1      int64\n",
       "pixel2      int64\n",
       "pixel3      int64\n",
       "            ...  \n",
       "pixel779    int64\n",
       "pixel780    int64\n",
       "pixel781    int64\n",
       "pixel782    int64\n",
       "pixel783    int64\n",
       "Length: 785, dtype: object"
      ]
     },
     "execution_count": 6,
     "metadata": {},
     "output_type": "execute_result"
    }
   ],
   "source": [
    "# Check the types of each feature and the response variable ('label').\n",
    "dataset.dtypes"
   ]
  },
  {
   "cell_type": "code",
   "execution_count": 7,
   "metadata": {
    "colab": {
     "base_uri": "https://localhost:8080/",
     "height": 481
    },
    "id": "ar25AZyy7Ur_",
    "outputId": "cf444b3b-0820-4df9-878c-afa8462b69d3"
   },
   "outputs": [
    {
     "name": "stdout",
     "output_type": "stream",
     "text": [
      "1    4684\n",
      "7    4401\n",
      "3    4351\n",
      "9    4188\n",
      "2    4177\n",
      "6    4137\n",
      "0    4132\n",
      "4    4072\n",
      "8    4063\n",
      "5    3795\n",
      "Name: label, dtype: int64\n"
     ]
    },
    {
     "data": {
      "image/png": "[encoded data removed]",
      "text/plain": [
       "<Figure size 432x288 with 1 Axes>"
      ]
     },
     "metadata": {
      "needs_background": "light"
     },
     "output_type": "display_data"
    }
   ],
   "source": [
    "# Extract the counts for each response class (digit) and build a barplot of these\n",
    "# counts for each of interpretation.\n",
    "sns.countplot(x='label',data=dataset)\n",
    "print(dataset['label'].value_counts())"
   ]
  },
  {
   "cell_type": "markdown",
   "metadata": {
    "id": "hrS2B_AVLYYh"
   },
   "source": [
    "### Prepare data\n",
    "The dataset will be pre-processed so that neural networks can be built with the data.\n"
   ]
  },
  {
   "cell_type": "code",
   "execution_count": 8,
   "metadata": {
    "id": "Ot096UAr51zc"
   },
   "outputs": [],
   "source": [
    "## Split the dataset into a train, validation, and test set. \n",
    "train_x, train_y, validation_x, validation_y, test_x, test_y \\\n",
    "= create_data_splits(dataset, 'label')"
   ]
  },
  {
   "cell_type": "code",
   "execution_count": 9,
   "metadata": {
    "id": "NEqw4D48_ZUe"
   },
   "outputs": [],
   "source": [
    "# Rescale the features from being in the range [0,255] to [0:1].\n",
    "train_x = train_x/255.0\n",
    "validation_x = validation_x/255.0\n",
    "test_x = test_x/255.0"
   ]
  },
  {
   "cell_type": "code",
   "execution_count": 10,
   "metadata": {
    "id": "ioiJNJoOBQqs"
   },
   "outputs": [],
   "source": [
    "# Reshape the features for each observation from being a vector of size 784\n",
    "# to being a matrix of size 28x28.\n",
    "# This is required for building the convolutional neural network (CNN) below.\n",
    "train_cnn_x = train_x.values.reshape(-1, 28, 28, 1)\n",
    "validation_cnn_x = validation_x.values.reshape(-1, 28, 28, 1)\n",
    "test_cnn_x = test_x.values.reshape(-1, 28, 28, 1)"
   ]
  },
  {
   "cell_type": "markdown",
   "metadata": {
    "id": "X4pnmU5ip2Qo"
   },
   "source": [
    "### View observations\n",
    "The code below visualises an observation (hand-written digit) from each of the response classes."
   ]
  },
  {
   "cell_type": "code",
   "execution_count": 11,
   "metadata": {
    "colab": {
     "base_uri": "https://localhost:8080/",
     "height": 295
    },
    "id": "pmQ69roMx-Fw",
    "outputId": "ad428418-a9fb-4b8d-f17a-32148e5dc077"
   },
   "outputs": [
    {
     "data": {
      "image/png": "[encoded data removed]",
      "text/plain": [
       "<Figure size 720x360 with 10 Axes>"
      ]
     },
     "metadata": {
      "needs_background": "light"
     },
     "output_type": "display_data"
    }
   ],
   "source": [
    "# Visualise an example from each of the response classes\n",
    "# (the digits from 0 to 9).\n",
    "fig = plt.figure(figsize=(10,5))\n",
    "rows = 2\n",
    "columns = 5\n",
    "for i in range(0, 10):\n",
    "    fig.add_subplot(rows, columns, i+1)\n",
    "    plt.imshow(train_cnn_x[train_y[train_y == i].index[0]][:,:,0])\n",
    "plt.show()\n"
   ]
  },
  {
   "cell_type": "code",
   "execution_count": 12,
   "metadata": {
    "id": "5XOQbbR6BBys"
   },
   "outputs": [],
   "source": [
    "# Encode the response from a continuous (integer) to a categorical variable.\n",
    "train_y = to_categorical(train_y, num_classes=10)\n",
    "validation_y = to_categorical(validation_y, num_classes=10)\n",
    "test_y = to_categorical(test_y, num_classes=10)"
   ]
  },
  {
   "cell_type": "markdown",
   "metadata": {
    "id": "6Wr9C-fWTIXi"
   },
   "source": [
    "## Modelling\n",
    "This section:\n",
    "- fits a model;\n",
    "- evaluates the fitted model;\n",
    "- improves the model; and\n",
    "- selects a final model."
   ]
  },
  {
   "cell_type": "markdown",
   "metadata": {
    "id": "YArrBJcd2Zrt"
   },
   "source": [
    "### Fit a 'vanilla' neural network (NN 1)\n",
    "\n",
    "The code below uses Keras to construct a neural network with:\n",
    "- two hidden layers, each with 16 neurons and the ReLU activation function; and\n",
    "- one output layer with 10 neurons (representing each of the digits from zero to nine) and the softmax activation function.\n",
    "\n"
   ]
  },
  {
   "cell_type": "code",
   "execution_count": 13,
   "metadata": {
    "colab": {
     "base_uri": "https://localhost:8080/"
    },
    "id": "SIGEcNkCUeAb",
    "outputId": "862745d1-2e0c-4a1b-dcc9-c6fb0f8552d8"
   },
   "outputs": [
    {
     "name": "stdout",
     "output_type": "stream",
     "text": [
      "Epoch 1/100\n",
      "27/27 [==============================] - 10s 21ms/step - loss: 2.2099 - accuracy: 0.2815 - val_loss: 1.5056 - val_accuracy: 0.5580\n",
      "Epoch 2/100\n",
      "27/27 [==============================] - 0s 4ms/step - loss: 1.2441 - accuracy: 0.6751 - val_loss: 1.0109 - val_accuracy: 0.7324\n",
      "Epoch 3/100\n",
      "27/27 [==============================] - 0s 4ms/step - loss: 0.8064 - accuracy: 0.8128 - val_loss: 0.6254 - val_accuracy: 0.8704\n",
      "Epoch 4/100\n",
      "27/27 [==============================] - 0s 6ms/step - loss: 0.6322 - accuracy: 0.8601 - val_loss: 0.5649 - val_accuracy: 0.8813\n",
      "Epoch 5/100\n",
      "27/27 [==============================] - 0s 4ms/step - loss: 0.5453 - accuracy: 0.8848 - val_loss: 0.5192 - val_accuracy: 0.8894\n",
      "Epoch 6/100\n",
      "27/27 [==============================] - 0s 5ms/step - loss: 0.5109 - accuracy: 0.8878 - val_loss: 0.4891 - val_accuracy: 0.8958\n",
      "Epoch 7/100\n",
      "27/27 [==============================] - 0s 4ms/step - loss: 0.4799 - accuracy: 0.8963 - val_loss: 0.4731 - val_accuracy: 0.8969\n",
      "Epoch 8/100\n",
      "27/27 [==============================] - 0s 5ms/step - loss: 0.4613 - accuracy: 0.8972 - val_loss: 0.4463 - val_accuracy: 0.9006\n",
      "Epoch 9/100\n",
      "27/27 [==============================] - 0s 4ms/step - loss: 0.4240 - accuracy: 0.9088 - val_loss: 0.4260 - val_accuracy: 0.9037\n",
      "Epoch 10/100\n",
      "27/27 [==============================] - 0s 4ms/step - loss: 0.4239 - accuracy: 0.9051 - val_loss: 0.4166 - val_accuracy: 0.9055\n",
      "Epoch 11/100\n",
      "27/27 [==============================] - 0s 4ms/step - loss: 0.4069 - accuracy: 0.9097 - val_loss: 0.3972 - val_accuracy: 0.9094\n",
      "Epoch 12/100\n",
      "27/27 [==============================] - 0s 4ms/step - loss: 0.4006 - accuracy: 0.9084 - val_loss: 0.3894 - val_accuracy: 0.9101\n",
      "Epoch 13/100\n",
      "27/27 [==============================] - 0s 4ms/step - loss: 0.3797 - accuracy: 0.9142 - val_loss: 0.3957 - val_accuracy: 0.9082\n",
      "Epoch 14/100\n",
      "27/27 [==============================] - 0s 5ms/step - loss: 0.3699 - accuracy: 0.9154 - val_loss: 0.3702 - val_accuracy: 0.9146\n",
      "Epoch 15/100\n",
      "27/27 [==============================] - 0s 5ms/step - loss: 0.3464 - accuracy: 0.9215 - val_loss: 0.3825 - val_accuracy: 0.9097\n",
      "Epoch 16/100\n",
      "27/27 [==============================] - 0s 4ms/step - loss: 0.3588 - accuracy: 0.9170 - val_loss: 0.3644 - val_accuracy: 0.9146\n",
      "Epoch 17/100\n",
      "27/27 [==============================] - 0s 4ms/step - loss: 0.3460 - accuracy: 0.9204 - val_loss: 0.3608 - val_accuracy: 0.9159\n",
      "Epoch 18/100\n",
      "27/27 [==============================] - 0s 4ms/step - loss: 0.3409 - accuracy: 0.9215 - val_loss: 0.3529 - val_accuracy: 0.9186\n",
      "Epoch 19/100\n",
      "27/27 [==============================] - 0s 5ms/step - loss: 0.3302 - accuracy: 0.9220 - val_loss: 0.3485 - val_accuracy: 0.9170\n",
      "Epoch 20/100\n",
      "27/27 [==============================] - 0s 4ms/step - loss: 0.3380 - accuracy: 0.9185 - val_loss: 0.3405 - val_accuracy: 0.9192\n",
      "Epoch 21/100\n",
      "27/27 [==============================] - 0s 4ms/step - loss: 0.3135 - accuracy: 0.9294 - val_loss: 0.3444 - val_accuracy: 0.9189\n",
      "Epoch 22/100\n",
      "27/27 [==============================] - 0s 4ms/step - loss: 0.3127 - accuracy: 0.9286 - val_loss: 0.3367 - val_accuracy: 0.9193\n",
      "Epoch 23/100\n",
      "27/27 [==============================] - 0s 4ms/step - loss: 0.3137 - accuracy: 0.9281 - val_loss: 0.3713 - val_accuracy: 0.9040\n",
      "Epoch 24/100\n",
      "27/27 [==============================] - 0s 4ms/step - loss: 0.3454 - accuracy: 0.9149 - val_loss: 0.3292 - val_accuracy: 0.9207\n",
      "Epoch 25/100\n",
      "27/27 [==============================] - 0s 4ms/step - loss: 0.3047 - accuracy: 0.9282 - val_loss: 0.3552 - val_accuracy: 0.9113\n",
      "Epoch 26/100\n",
      "27/27 [==============================] - 0s 7ms/step - loss: 0.3171 - accuracy: 0.9241 - val_loss: 0.4023 - val_accuracy: 0.8930\n",
      "Epoch 27/100\n",
      "27/27 [==============================] - 0s 5ms/step - loss: 0.3202 - accuracy: 0.9231 - val_loss: 0.3204 - val_accuracy: 0.9231\n",
      "Epoch 28/100\n",
      "27/27 [==============================] - 0s 4ms/step - loss: 0.2993 - accuracy: 0.9312 - val_loss: 0.3280 - val_accuracy: 0.9189\n",
      "Epoch 29/100\n",
      "27/27 [==============================] - 0s 5ms/step - loss: 0.2936 - accuracy: 0.9330 - val_loss: 0.3078 - val_accuracy: 0.9269\n",
      "Epoch 30/100\n",
      "27/27 [==============================] - 0s 4ms/step - loss: 0.2880 - accuracy: 0.9308 - val_loss: 0.3068 - val_accuracy: 0.9265\n",
      "Epoch 31/100\n",
      "27/27 [==============================] - 0s 4ms/step - loss: 0.2944 - accuracy: 0.9294 - val_loss: 0.3418 - val_accuracy: 0.9112\n",
      "Epoch 32/100\n",
      "27/27 [==============================] - 0s 4ms/step - loss: 0.2891 - accuracy: 0.9311 - val_loss: 0.3098 - val_accuracy: 0.9254\n",
      "Epoch 33/100\n",
      "27/27 [==============================] - 0s 4ms/step - loss: 0.2817 - accuracy: 0.9327 - val_loss: 0.3269 - val_accuracy: 0.9165\n",
      "Epoch 34/100\n",
      "27/27 [==============================] - 0s 5ms/step - loss: 0.2825 - accuracy: 0.9340 - val_loss: 0.3027 - val_accuracy: 0.9265\n",
      "Epoch 35/100\n",
      "27/27 [==============================] - 0s 4ms/step - loss: 0.2914 - accuracy: 0.9286 - val_loss: 0.3074 - val_accuracy: 0.9250\n",
      "Epoch 36/100\n",
      "27/27 [==============================] - 0s 5ms/step - loss: 0.2730 - accuracy: 0.9333 - val_loss: 0.2950 - val_accuracy: 0.9292\n",
      "Epoch 37/100\n",
      "27/27 [==============================] - 0s 4ms/step - loss: 0.2721 - accuracy: 0.9356 - val_loss: 0.3119 - val_accuracy: 0.9214\n",
      "Epoch 38/100\n",
      "27/27 [==============================] - 0s 4ms/step - loss: 0.2742 - accuracy: 0.9357 - val_loss: 0.3431 - val_accuracy: 0.9110\n",
      "Epoch 39/100\n",
      "27/27 [==============================] - 0s 5ms/step - loss: 0.2709 - accuracy: 0.9363 - val_loss: 0.2962 - val_accuracy: 0.9292\n",
      "Epoch 40/100\n",
      "27/27 [==============================] - 0s 4ms/step - loss: 0.2662 - accuracy: 0.9352 - val_loss: 0.2864 - val_accuracy: 0.9315\n",
      "Epoch 41/100\n",
      "27/27 [==============================] - 0s 4ms/step - loss: 0.2598 - accuracy: 0.9406 - val_loss: 0.2823 - val_accuracy: 0.9329\n",
      "Epoch 42/100\n",
      "27/27 [==============================] - 0s 5ms/step - loss: 0.2579 - accuracy: 0.9380 - val_loss: 0.3021 - val_accuracy: 0.9260\n",
      "Epoch 43/100\n",
      "27/27 [==============================] - 0s 4ms/step - loss: 0.2590 - accuracy: 0.9380 - val_loss: 0.2788 - val_accuracy: 0.9353\n",
      "Epoch 44/100\n",
      "27/27 [==============================] - 0s 4ms/step - loss: 0.2564 - accuracy: 0.9377 - val_loss: 0.2814 - val_accuracy: 0.9321\n",
      "Epoch 45/100\n",
      "27/27 [==============================] - 0s 4ms/step - loss: 0.2594 - accuracy: 0.9382 - val_loss: 0.2809 - val_accuracy: 0.9320\n",
      "Epoch 46/100\n",
      "27/27 [==============================] - 0s 4ms/step - loss: 0.2541 - accuracy: 0.9383 - val_loss: 0.2771 - val_accuracy: 0.9330\n",
      "Epoch 47/100\n",
      "27/27 [==============================] - 0s 4ms/step - loss: 0.2407 - accuracy: 0.9423 - val_loss: 0.3206 - val_accuracy: 0.9185\n",
      "Epoch 48/100\n",
      "27/27 [==============================] - 0s 4ms/step - loss: 0.2656 - accuracy: 0.9351 - val_loss: 0.2762 - val_accuracy: 0.9335\n",
      "Epoch 49/100\n",
      "27/27 [==============================] - 0s 4ms/step - loss: 0.2513 - accuracy: 0.9406 - val_loss: 0.2785 - val_accuracy: 0.9321\n",
      "Epoch 50/100\n",
      "27/27 [==============================] - 0s 4ms/step - loss: 0.2551 - accuracy: 0.9375 - val_loss: 0.3124 - val_accuracy: 0.9186\n",
      "Epoch 51/100\n",
      "27/27 [==============================] - 0s 4ms/step - loss: 0.2606 - accuracy: 0.9361 - val_loss: 0.2755 - val_accuracy: 0.9335\n",
      "Epoch 52/100\n",
      "27/27 [==============================] - 0s 4ms/step - loss: 0.2470 - accuracy: 0.9397 - val_loss: 0.2696 - val_accuracy: 0.9342\n",
      "Epoch 53/100\n",
      "27/27 [==============================] - 0s 5ms/step - loss: 0.2377 - accuracy: 0.9443 - val_loss: 0.2854 - val_accuracy: 0.9298\n",
      "Epoch 54/100\n",
      "27/27 [==============================] - 0s 4ms/step - loss: 0.2380 - accuracy: 0.9442 - val_loss: 0.2646 - val_accuracy: 0.9362\n",
      "Epoch 55/100\n",
      "27/27 [==============================] - 0s 4ms/step - loss: 0.2441 - accuracy: 0.9408 - val_loss: 0.2625 - val_accuracy: 0.9363\n",
      "Epoch 56/100\n",
      "27/27 [==============================] - 0s 4ms/step - loss: 0.2314 - accuracy: 0.9438 - val_loss: 0.4236 - val_accuracy: 0.8827\n",
      "Epoch 57/100\n",
      "27/27 [==============================] - 0s 4ms/step - loss: 0.3651 - accuracy: 0.9004 - val_loss: 0.2671 - val_accuracy: 0.9360\n",
      "Epoch 58/100\n",
      "27/27 [==============================] - 0s 4ms/step - loss: 0.2324 - accuracy: 0.9467 - val_loss: 0.2648 - val_accuracy: 0.9350\n"
     ]
    },
    {
     "name": "stdout",
     "output_type": "stream",
     "text": [
      "Epoch 59/100\n",
      "27/27 [==============================] - 0s 4ms/step - loss: 0.2334 - accuracy: 0.9434 - val_loss: 0.2662 - val_accuracy: 0.9330\n",
      "Epoch 60/100\n",
      "27/27 [==============================] - 0s 4ms/step - loss: 0.2302 - accuracy: 0.9451 - val_loss: 0.2598 - val_accuracy: 0.9369\n",
      "Epoch 61/100\n",
      "27/27 [==============================] - 0s 4ms/step - loss: 0.2249 - accuracy: 0.9452 - val_loss: 0.2736 - val_accuracy: 0.9336\n",
      "Epoch 62/100\n",
      "27/27 [==============================] - 0s 4ms/step - loss: 0.2476 - accuracy: 0.9393 - val_loss: 0.2775 - val_accuracy: 0.9302\n",
      "Epoch 63/100\n",
      "27/27 [==============================] - 0s 4ms/step - loss: 0.2338 - accuracy: 0.9436 - val_loss: 0.2733 - val_accuracy: 0.9317\n",
      "Epoch 64/100\n",
      "27/27 [==============================] - 0s 7ms/step - loss: 0.2251 - accuracy: 0.9463 - val_loss: 0.2655 - val_accuracy: 0.9368\n",
      "Epoch 65/100\n",
      "27/27 [==============================] - 0s 4ms/step - loss: 0.2173 - accuracy: 0.9496 - val_loss: 0.2594 - val_accuracy: 0.9381\n",
      "Epoch 66/100\n",
      "27/27 [==============================] - 0s 4ms/step - loss: 0.2423 - accuracy: 0.9404 - val_loss: 0.2560 - val_accuracy: 0.9378\n",
      "Epoch 67/100\n",
      "27/27 [==============================] - 0s 4ms/step - loss: 0.2196 - accuracy: 0.9476 - val_loss: 0.2703 - val_accuracy: 0.9348\n",
      "Epoch 68/100\n",
      "27/27 [==============================] - 0s 4ms/step - loss: 0.2415 - accuracy: 0.9410 - val_loss: 0.2514 - val_accuracy: 0.9388\n",
      "Epoch 69/100\n",
      "27/27 [==============================] - 0s 4ms/step - loss: 0.2171 - accuracy: 0.9488 - val_loss: 0.2537 - val_accuracy: 0.9385\n",
      "Epoch 70/100\n",
      "27/27 [==============================] - 0s 4ms/step - loss: 0.2249 - accuracy: 0.9455 - val_loss: 0.2586 - val_accuracy: 0.9372\n",
      "Epoch 71/100\n",
      "27/27 [==============================] - 0s 4ms/step - loss: 0.2170 - accuracy: 0.9468 - val_loss: 0.2672 - val_accuracy: 0.9323\n",
      "Epoch 72/100\n",
      "27/27 [==============================] - 0s 4ms/step - loss: 0.3373 - accuracy: 0.9106 - val_loss: 0.2716 - val_accuracy: 0.9339\n",
      "Epoch 73/100\n",
      "27/27 [==============================] - 0s 4ms/step - loss: 0.2126 - accuracy: 0.9513 - val_loss: 0.2579 - val_accuracy: 0.9360\n",
      "Epoch 74/100\n",
      "27/27 [==============================] - 0s 5ms/step - loss: 0.2085 - accuracy: 0.9523 - val_loss: 0.2495 - val_accuracy: 0.9396\n",
      "Epoch 75/100\n",
      "27/27 [==============================] - 0s 4ms/step - loss: 0.2078 - accuracy: 0.9523 - val_loss: 0.2482 - val_accuracy: 0.9406\n",
      "Epoch 76/100\n",
      "27/27 [==============================] - 0s 4ms/step - loss: 0.2061 - accuracy: 0.9537 - val_loss: 0.4634 - val_accuracy: 0.8626\n",
      "Epoch 77/100\n",
      "27/27 [==============================] - 0s 4ms/step - loss: 0.3739 - accuracy: 0.9011 - val_loss: 0.2510 - val_accuracy: 0.9396\n",
      "Epoch 78/100\n",
      "27/27 [==============================] - 0s 4ms/step - loss: 0.2078 - accuracy: 0.9518 - val_loss: 0.2498 - val_accuracy: 0.9387\n",
      "Epoch 79/100\n",
      "27/27 [==============================] - 0s 4ms/step - loss: 0.2020 - accuracy: 0.9521 - val_loss: 0.2516 - val_accuracy: 0.9366\n",
      "Epoch 80/100\n",
      "27/27 [==============================] - 0s 5ms/step - loss: 0.2179 - accuracy: 0.9465 - val_loss: 0.2454 - val_accuracy: 0.9402\n",
      "Epoch 81/100\n",
      "27/27 [==============================] - 0s 4ms/step - loss: 0.2144 - accuracy: 0.9482 - val_loss: 0.2432 - val_accuracy: 0.9408\n",
      "Epoch 82/100\n",
      "27/27 [==============================] - 0s 4ms/step - loss: 0.2014 - accuracy: 0.9525 - val_loss: 0.2628 - val_accuracy: 0.9345\n",
      "Epoch 83/100\n",
      "27/27 [==============================] - 0s 4ms/step - loss: 0.2173 - accuracy: 0.9465 - val_loss: 0.2523 - val_accuracy: 0.9406\n",
      "Epoch 84/100\n",
      "27/27 [==============================] - 0s 4ms/step - loss: 0.2507 - accuracy: 0.9385 - val_loss: 0.2562 - val_accuracy: 0.9402\n",
      "Epoch 85/100\n",
      "27/27 [==============================] - 0s 5ms/step - loss: 0.2067 - accuracy: 0.9524 - val_loss: 0.2549 - val_accuracy: 0.9363\n",
      "Epoch 86/100\n",
      "27/27 [==============================] - 0s 4ms/step - loss: 0.2019 - accuracy: 0.9517 - val_loss: 0.2504 - val_accuracy: 0.9363\n",
      "Epoch 87/100\n",
      "27/27 [==============================] - 0s 5ms/step - loss: 0.1985 - accuracy: 0.9539 - val_loss: 0.2401 - val_accuracy: 0.9393\n",
      "Epoch 88/100\n",
      "27/27 [==============================] - 0s 4ms/step - loss: 0.1965 - accuracy: 0.9535 - val_loss: 0.2436 - val_accuracy: 0.9405\n",
      "Epoch 89/100\n",
      "27/27 [==============================] - 0s 4ms/step - loss: 0.2016 - accuracy: 0.9529 - val_loss: 0.2437 - val_accuracy: 0.9406\n",
      "Epoch 90/100\n",
      "27/27 [==============================] - 0s 4ms/step - loss: 0.1986 - accuracy: 0.9535 - val_loss: 0.2384 - val_accuracy: 0.9429\n",
      "Epoch 91/100\n",
      "27/27 [==============================] - 0s 4ms/step - loss: 0.1947 - accuracy: 0.9543 - val_loss: 0.2517 - val_accuracy: 0.9381\n",
      "Epoch 92/100\n",
      "27/27 [==============================] - 0s 4ms/step - loss: 0.3445 - accuracy: 0.9111 - val_loss: 0.2552 - val_accuracy: 0.9381\n",
      "Epoch 93/100\n",
      "27/27 [==============================] - 0s 5ms/step - loss: 0.2036 - accuracy: 0.9551 - val_loss: 0.2441 - val_accuracy: 0.9408\n",
      "Epoch 94/100\n",
      "27/27 [==============================] - 0s 4ms/step - loss: 0.1923 - accuracy: 0.9556 - val_loss: 0.2360 - val_accuracy: 0.9420\n",
      "Epoch 95/100\n",
      "27/27 [==============================] - 0s 4ms/step - loss: 0.1978 - accuracy: 0.9549 - val_loss: 0.2430 - val_accuracy: 0.9387\n",
      "Epoch 96/100\n",
      "27/27 [==============================] - 0s 4ms/step - loss: 0.1924 - accuracy: 0.9555 - val_loss: 0.2343 - val_accuracy: 0.9411\n",
      "Epoch 97/100\n",
      "27/27 [==============================] - 0s 4ms/step - loss: 0.1909 - accuracy: 0.9547 - val_loss: 0.2388 - val_accuracy: 0.9417\n",
      "Epoch 98/100\n",
      "27/27 [==============================] - 0s 4ms/step - loss: 0.1945 - accuracy: 0.9537 - val_loss: 0.2380 - val_accuracy: 0.9414\n",
      "Epoch 99/100\n",
      "27/27 [==============================] - 0s 4ms/step - loss: 0.1873 - accuracy: 0.9566 - val_loss: 0.2418 - val_accuracy: 0.9420\n",
      "Epoch 100/100\n",
      "27/27 [==============================] - 0s 4ms/step - loss: 0.2002 - accuracy: 0.9523 - val_loss: 0.3419 - val_accuracy: 0.9074\n"
     ]
    }
   ],
   "source": [
    "# Specify the model's architecture.\n",
    "nn_model = Sequential()\n",
    "nn_model.add(Dense(16, input_dim= 784, kernel_initializer='normal', activation='relu'))\n",
    "nn_model.add(Dense(16, activation='relu', kernel_regularizer='l2'))\n",
    "nn_model.add(Dense(10, activation='softmax'))\n",
    "\n",
    "# Compile the model.\n",
    "opt = SGD(learning_rate=0.2, momentum=0.0)\n",
    "  # This specifies that regular stochastic gradient descent (SGD) should be\n",
    "  # used with a learning rate of 0.2.\n",
    "  # Momentum = 0 specifies that the regular SGD algorithm should be used\n",
    "  # 'without momentum'.\n",
    "  # SGD with momentum is a variant on regular SGD that uses an\n",
    "  # exponential moving average of current and past gradients rather than just\n",
    "  # the gradient for the current iteration.\n",
    "nn_model.compile(\n",
    "    loss='categorical_crossentropy', \n",
    "      # The 'categorical_crossentropy' loss function is useful\n",
    "      # for an integer response variable.\n",
    "    optimizer =  opt,\n",
    "\n",
    "    metrics=['accuracy'],\n",
    ")\n",
    "nn_hist = nn_model.fit(np.array(train_x), np.array(train_y), epochs=100,batch_size=1000, validation_data = (validation_x, validation_y))"
   ]
  },
  {
   "cell_type": "markdown",
   "metadata": {
    "id": "1qlwyEeLS_gb"
   },
   "source": [
    "### Evaluate NN 1"
   ]
  },
  {
   "cell_type": "code",
   "execution_count": 14,
   "metadata": {
    "colab": {
     "base_uri": "https://localhost:8080/",
     "height": 313
    },
    "id": "OyvmhM-JFTmo",
    "outputId": "d123297d-4813-423e-8d40-1f0eb3a54362"
   },
   "outputs": [
    {
     "data": {
      "text/plain": [
       "<matplotlib.legend.Legend at 0x158a0e820>"
      ]
     },
     "execution_count": 14,
     "metadata": {},
     "output_type": "execute_result"
    },
    {
     "data": {
      "image/png": "[encoded data removed]",
      "text/plain": [
       "<Figure size 432x288 with 1 Axes>"
      ]
     },
     "metadata": {
      "needs_background": "light"
     },
     "output_type": "display_data"
    }
   ],
   "source": [
    "# Plot the accuracy of the fitted model after each epoch.\n",
    "# An epoch is a full cycle through the training data.\n",
    "plt.plot(nn_hist.history['accuracy'], color='dodgerblue')\n",
    "plt.plot(nn_hist.history['val_accuracy'],color='orange')\n",
    "plt.title('NN1 model accuracy')\n",
    "plt.ylabel('accuracy')\n",
    "plt.xlabel('epoch')\n",
    "plt.legend(['train','validation'], loc='lower right')\n"
   ]
  },
  {
   "cell_type": "markdown",
   "metadata": {
    "id": "leOZKW01_3Gs"
   },
   "source": [
    "The plot above confirms that the model has converged on an optimal solution, with both training and validation accuracy increasing rapidly over the first 10 or so epochs and then flattening out after that. Not much further improvement in accuracy is obtained after the first 10 or so epochs."
   ]
  },
  {
   "cell_type": "markdown",
   "metadata": {
    "id": "LZk6-cVZx9hy"
   },
   "source": [
    "### Fit a convolutional neural network (CNN)\n",
    "Next, a convolutional neural network (CNN) is constructed. CNNs are outlined in Section 5.7.1 of Module 5.\n",
    "\n",
    "The CNN below will use two convolutional layers with a 5x5 filter/kernel."
   ]
  },
  {
   "cell_type": "code",
   "execution_count": 15,
   "metadata": {
    "id": "YNoohnC51um5"
   },
   "outputs": [],
   "source": [
    "cnn_model = Sequential()\n",
    "\n",
    "cnn_model.add(Conv2D(filters = 16, kernel_size = (5,5), \n",
    "                 activation ='relu', input_shape = (28,28,1)))\n",
    "  # Notice from the input_shape = (28,28,1) term above\n",
    "  # that the CNN takes as input the 28x28 matrix of pixel features\n",
    "  # rather than the flattened vector of all 784 pixel features. \n",
    "cnn_model.add(Conv2D(filters = 16, kernel_size = (5,5), \n",
    "                 activation ='relu'))\n",
    "cnn_model.add(MaxPool2D(pool_size=(2,2)))\n",
    "\n",
    "cnn_model.add(Flatten())\n",
    "  # Flatten() converts the matrix outputs from the convolutional layers\n",
    "  # back into vectors for feeding into the output layer. \n",
    "cnn_model.add(Dense(10, activation = 'softmax'))"
   ]
  },
  {
   "cell_type": "code",
   "execution_count": 16,
   "metadata": {
    "colab": {
     "base_uri": "https://localhost:8080/"
    },
    "id": "uI4qQ1kO1109",
    "outputId": "9db59b33-dd4d-44ce-ab97-fda7be90e6e1"
   },
   "outputs": [
    {
     "name": "stdout",
     "output_type": "stream",
     "text": [
      "Epoch 1/10\n",
      "2688/2688 [==============================] - 39s 14ms/step - loss: 0.5627 - accuracy: 0.8213 - val_loss: 0.1404 - val_accuracy: 0.9598\n",
      "Epoch 2/10\n",
      "2688/2688 [==============================] - 37s 14ms/step - loss: 1.4409 - accuracy: 0.4482 - val_loss: 2.3045 - val_accuracy: 0.1101\n",
      "Epoch 3/10\n",
      "2688/2688 [==============================] - 33s 12ms/step - loss: 2.3051 - accuracy: 0.1083 - val_loss: 2.3063 - val_accuracy: 0.1019\n",
      "Epoch 4/10\n",
      "2688/2688 [==============================] - 33s 12ms/step - loss: 2.3055 - accuracy: 0.1062 - val_loss: 2.3081 - val_accuracy: 0.1052\n",
      "Epoch 5/10\n",
      "2688/2688 [==============================] - 33s 12ms/step - loss: 2.3057 - accuracy: 0.1069 - val_loss: 2.3020 - val_accuracy: 0.1052\n",
      "Epoch 6/10\n",
      "2688/2688 [==============================] - 32s 12ms/step - loss: 2.3057 - accuracy: 0.1063 - val_loss: 2.3067 - val_accuracy: 0.1025\n",
      "Epoch 7/10\n",
      "2688/2688 [==============================] - 32s 12ms/step - loss: 2.3060 - accuracy: 0.1047 - val_loss: 2.3024 - val_accuracy: 0.1101\n",
      "Epoch 8/10\n",
      "2688/2688 [==============================] - 33s 12ms/step - loss: 2.3057 - accuracy: 0.1058 - val_loss: 2.3071 - val_accuracy: 0.0967\n",
      "Epoch 9/10\n",
      "2688/2688 [==============================] - 32s 12ms/step - loss: 2.3055 - accuracy: 0.1054 - val_loss: 2.3079 - val_accuracy: 0.1052\n",
      "Epoch 10/10\n",
      "2688/2688 [==============================] - 31s 11ms/step - loss: 2.3066 - accuracy: 0.1053 - val_loss: 2.3040 - val_accuracy: 0.1092\n"
     ]
    }
   ],
   "source": [
    "# Define the regular stochastic gradient descent (SGD) optimiser (without\n",
    "# momentum, a learning rate of 0.2 and the crossentropy loss function.\n",
    "# to be used in the fitting of the model.\n",
    "opt = SGD(learning_rate=0.2, momentum=0.0)\n",
    "cnn_model.compile(optimizer = opt , loss = 'categorical_crossentropy',\n",
    "                  metrics=['accuracy'])\n",
    "\n",
    "epochs = 10\n",
    "batch_size = 10\n",
    "\n",
    "# Fit the CNN and capture the error and accuracy rates from the fitted model\n",
    "# after each epoch.\n",
    "cnn_hist = cnn_model.fit(train_cnn_x, train_y, batch_size = batch_size,\n",
    "                         epochs = epochs,\n",
    "                         validation_data = (validation_cnn_x, validation_y))"
   ]
  },
  {
   "cell_type": "markdown",
   "metadata": {
    "id": "Zej77hCgCwef"
   },
   "source": [
    "You should note that the CNN takes much longer to fit than the vanilla neural network (NN 1)."
   ]
  },
  {
   "cell_type": "markdown",
   "metadata": {
    "id": "v_viJKSHC7c1"
   },
   "source": [
    "### Evaluate CNN"
   ]
  },
  {
   "cell_type": "code",
   "execution_count": 17,
   "metadata": {
    "colab": {
     "base_uri": "https://localhost:8080/",
     "height": 313
    },
    "id": "5mCGxlRmHxtf",
    "outputId": "fa0ddb29-9999-45a2-ab85-07d843988731"
   },
   "outputs": [
    {
     "data": {
      "text/plain": [
       "<matplotlib.legend.Legend at 0x158de8fd0>"
      ]
     },
     "execution_count": 17,
     "metadata": {},
     "output_type": "execute_result"
    },
    {
     "data": {
      "image/png": "[encoded data removed]",
      "text/plain": [
       "<Figure size 432x288 with 1 Axes>"
      ]
     },
     "metadata": {
      "needs_background": "light"
     },
     "output_type": "display_data"
    }
   ],
   "source": [
    "# Plot the accuracy of the CNN against each epoch\n",
    "# to ensure that the model has converged on an\n",
    "# optimal solution.\n",
    "plt.plot(cnn_hist.history['accuracy'],color='dodgerblue')\n",
    "plt.plot(cnn_hist.history['val_accuracy'],color='orange')\n",
    "plt.title('CNN model accuracy')\n",
    "plt.ylabel('accuracy')\n",
    "plt.xlabel('epoch')\n",
    "plt.legend(['train', 'validation'], loc='lower right')"
   ]
  },
  {
   "cell_type": "markdown",
   "metadata": {
    "id": "DAnf_bKAUX2v"
   },
   "source": [
    "The graph of the accuracy suggests that the model may not have converged yet,since the validation accuracy is still volatile after 10 epochs. You can try to obtain a higher accuracy on the validation data by increasing the number of epochs used to train the model."
   ]
  },
  {
   "cell_type": "code",
   "execution_count": 18,
   "metadata": {
    "colab": {
     "base_uri": "https://localhost:8080/"
    },
    "id": "VlBzKk4cEZ5W",
    "outputId": "e718d977-10b9-4aca-f9ea-8b84c4047cf6"
   },
   "outputs": [
    {
     "data": {
      "text/plain": [
       "{'CNN': 0.10922618955373764, 'NN 1': 0.9074404835700989}"
      ]
     },
     "execution_count": 18,
     "metadata": {},
     "output_type": "execute_result"
    }
   ],
   "source": [
    "# Compare the accuracy obtained under the vanilla neural network (NN 1)\n",
    "# to that obtained under the CNN.\n",
    "{'CNN':cnn_hist.history['val_accuracy'][-1],\n",
    " 'NN 1': nn_hist.history['val_accuracy'][-1]}"
   ]
  },
  {
   "cell_type": "markdown",
   "metadata": {
    "id": "RR9yh1qmFtkf"
   },
   "source": [
    "The CNN had a higher accuracy after 10 epochs compared to the vanilla neural network after 100 epochs. However, the CNN took substantially more time to train. The final choice of which model to use should take into account the business context and, in particular, the value that the business assigns to a model's accuracy compared to its training efficiency."
   ]
  },
  {
   "cell_type": "markdown",
   "metadata": {
    "id": "Owe7TXwiGK-6"
   },
   "source": [
    "### Select the final model"
   ]
  },
  {
   "cell_type": "code",
   "execution_count": 19,
   "metadata": {
    "id": "krb-hUHiGQQd"
   },
   "outputs": [],
   "source": [
    "# Select the final model and call it `nn_model_final`.\n",
    "# In this case, it is assumed that model accuracy is\n",
    "# more important than model training speed, hence the\n",
    "# CNN is chosen.\n",
    "nn_model_final = cnn_model\n",
    "test_x_final = test_cnn_x"
   ]
  },
  {
   "cell_type": "markdown",
   "metadata": {
    "id": "vVY2qMZVLVjy"
   },
   "source": [
    "## Observations"
   ]
  },
  {
   "cell_type": "markdown",
   "metadata": {
    "id": "bOmRXTdNx5Ms"
   },
   "source": [
    "### Predict on the test set\n",
    "Now that a final fitted model has been selected, it can be used to make predictions on the test set."
   ]
  },
  {
   "cell_type": "code",
   "execution_count": 20,
   "metadata": {
    "id": "h26tgO_0FLmQ"
   },
   "outputs": [],
   "source": [
    "# Make predictions on the test set.\n",
    "test_preds = nn_model_final.predict(test_x_final)\n",
    "# Convert the predictions (y_hat_gk) to class predictions (G(Xi.)).\n",
    "test_preds_classes = np.argmax(test_preds,axis = 1)\n",
    "# Convert the encoded responses (i.e. 0s and 1s to a single vector Numpy array\n",
    "# contained classes 0, 1, 2, ..., 9.\n",
    "test_y_classes = np.argmax(test_y,axis = 1)"
   ]
  },
  {
   "cell_type": "markdown",
   "metadata": {
    "id": "OUNCSSdYHl47"
   },
   "source": [
    "Note that even though the CNN took a long time to train, it is very quick to score (i.e. make predictions based on a set of unseen observations)."
   ]
  },
  {
   "cell_type": "code",
   "execution_count": 21,
   "metadata": {
    "colab": {
     "base_uri": "https://localhost:8080/",
     "height": 311
    },
    "id": "PSKIhNcUJYxb",
    "outputId": "93958cc6-0129-427e-8c3e-5f7b42fa8458"
   },
   "outputs": [
    {
     "data": {
      "image/png": "[encoded data removed]",
      "text/plain": [
       "<Figure size 432x288 with 2 Axes>"
      ]
     },
     "metadata": {
      "needs_background": "light"
     },
     "output_type": "display_data"
    }
   ],
   "source": [
    "# Use the confusion matrix function defined at the top of the notebook\n",
    "# to observe the number of observations that have been\n",
    "# misclassified by the final model.\n",
    "\n",
    "# Compute the confusion matrix.\n",
    "confusion_mtx = confusion_matrix(test_y_classes, test_preds_classes) \n",
    "# Plot the confusion matrix.\n",
    "plot_confusion_matrix(confusion_mtx, classes = range(10))"
   ]
  },
  {
   "cell_type": "markdown",
   "metadata": {
    "id": "yu-21pnQIvPl"
   },
   "source": [
    "The confusion matrix above shows that the majority of observations have been correctly classified, as previously indicated by the high accuracy obtained from this model."
   ]
  },
  {
   "cell_type": "markdown",
   "metadata": {
    "id": "JDtG9JDOqGmv"
   },
   "source": [
    "### Observe example misclassifications\n",
    "The code below allows you to observe some of the images that were misclassified by the final model. This information might be useful in working out particular types of images that the model found hard to classify correctly, which might inform how to further improve the model. "
   ]
  },
  {
   "cell_type": "code",
   "execution_count": 22,
   "metadata": {
    "colab": {
     "base_uri": "https://localhost:8080/",
     "height": 479
    },
    "id": "y_1I5PMfKLAF",
    "outputId": "4854f9d0-e0ef-4e96-af0f-5fe76f353f8b"
   },
   "outputs": [
    {
     "name": "stdout",
     "output_type": "stream",
     "text": [
      "1. Actual digit: 2 Predicted digit: 3\n",
      "2. Actual digit: 2 Predicted digit: 3\n",
      "3. Actual digit: 0 Predicted digit: 3\n",
      "4. Actual digit: 9 Predicted digit: 3\n",
      "5. Actual digit: 4 Predicted digit: 3\n",
      "6. Actual digit: 6 Predicted digit: 3\n",
      "7. Actual digit: 2 Predicted digit: 3\n",
      "8. Actual digit: 9 Predicted digit: 3\n",
      "9. Actual digit: 7 Predicted digit: 3\n",
      "10. Actual digit: 0 Predicted digit: 3\n"
     ]
    },
    {
     "data": {
      "image/png": "[encoded data removed]",
      "text/plain": [
       "<Figure size 720x360 with 10 Axes>"
      ]
     },
     "metadata": {
      "needs_background": "light"
     },
     "output_type": "display_data"
    }
   ],
   "source": [
    "# Create a vector that allows errors to be identified.\n",
    "errors = test_y_classes - test_preds_classes\n",
    "error_indexes = np.where(errors != 0)\n",
    "\n",
    "# Plot the first 10 errors.\n",
    "fig = plt.figure(figsize=(10,5))\n",
    "rows = 2\n",
    "columns = 5\n",
    "for i in range(0, 10):\n",
    "    print(str(i+1)+'. Actual digit: ' + str(test_y_classes[error_indexes[0][i]]) +\n",
    "          ' Predicted digit: ' + str(test_preds_classes[error_indexes[0][i]]))\n",
    "    fig.add_subplot(rows, columns, i+1)\n",
    "    plt.imshow(test_x_final[error_indexes[0][i]][:,:,0]);\n",
    "plt.show()\n"
   ]
  }
 ],
 "metadata": {
  "colab": {
   "collapsed_sections": [],
   "name": "DAA_M05_CS2.ipynb",
   "provenance": [],
   "toc_visible": true
  },
  "kernelspec": {
   "display_name": "Python 3",
   "language": "python",
   "name": "python3"
  },
  "language_info": {
   "codemirror_mode": {
    "name": "ipython",
    "version": 3
   },
   "file_extension": ".py",
   "mimetype": "text/x-python",
   "name": "python",
   "nbconvert_exporter": "python",
   "pygments_lexer": "ipython3",
   "version": "3.9.1"
  }
 },
 "nbformat": 4,
 "nbformat_minor": 1
}
