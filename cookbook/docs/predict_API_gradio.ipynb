{
 "cells": [
  {
   "attachments": {},
   "cell_type": "markdown",
   "metadata": {},
   "source": [
    "# Py: Productionising predictive models as API\n",
    "----\n",
    "*By Jacky Poon*\n",
    "\n",
    "Once a model is complete, there may be a need to deliver ongoing predictions in some way. The quintessential example for actuaries in insurance would be a pricing model, where, by some mechanism, the modelled prices need to be calculated and displayed to potential customers. However, applications extend beyond this - for example scoring models for triaging requests, identifying fraud, marketing and operational decisions. \n",
    "\n",
    "No matter the application, it is very useful when designing predictive models to have:\n",
    "\n",
    " 1. A graphical interface for making predictions for data scientists and stakeholders to review and\n",
    " 2. Something that serves an API that IT-managed systems can link to obtain the predictions - e.g. to then display the calculated prices to customer.\n",
    "\n",
    "Thanks to a tip from a friend, we explore [**Gradio**](https://gradio.app). Gradio is used by the likes of Google, Amazon and Facebook, and appears to meet both of those above use cases in a very easy to use Python package. "
   ]
  },
  {
   "cell_type": "code",
   "execution_count": 1,
   "metadata": {},
   "outputs": [],
   "source": [
    "import gradio as gr\n",
    "from datetime import datetime as dt"
   ]
  },
  {
   "attachments": {},
   "cell_type": "markdown",
   "metadata": {},
   "source": [
    "First we need a model to productionise. For the example, we have the ``price`` function below. It is intended to be a simplified but algorithmic travel insurance pricing model, with all factor values being fictional. To show how ``gradio`` handles both multiple inputs and multiple outputs, the function returns the price before taxes, and a separate tax amount. In practice a pricing model may have many financial output values.\n",
    "\n",
    "Since any python can be used, it is possible to reference any python packages or functions, score from a saved GBM, GLM or NN model and perform any calculations. Lightgbm, sci-kit learn all have means to save and load models. "
   ]
  },
  {
   "cell_type": "code",
   "execution_count": 2,
   "metadata": {},
   "outputs": [],
   "source": [
    "def price(destination, age1, age2, start_date, end_date, ski_cover):\n",
    "    \"\"\"\n",
    "    Return the price of travel insurance\n",
    "    \"\"\"\n",
    "    base_price_per_day = 7\n",
    "    dest_factor = lambda d: 2.0 if d == \"USA\" else 1.0  # e.g. USA medical costs drive higher prices\n",
    "    age_factor = lambda a: 2.5 if a > 70 else 1.0  # e.g. older ages more vulnerable to health events\n",
    "    ski_factor = lambda s: 1.7 if s else 1.0  # e.g. skiing is a risky holiday activity\n",
    "    trip_duration = (dt.strptime(end_date, \"%Y-%m-%d\") - dt.strptime(start_date, \"%Y-%m-%d\")).days + 1\n",
    "    assert trip_duration > 0\n",
    "\n",
    "    price_before_tax = (\n",
    "        base_price_per_day * \n",
    "        trip_duration * \n",
    "        dest_factor(destination) * \n",
    "        (\n",
    "            age_factor(age1) + \n",
    "            # Age2 = -1 for no second traveller\n",
    "            (age_factor(age2) if age2 > 0 else 0)        \n",
    "        ) * \n",
    "        ski_factor(ski_cover)\n",
    "    )\n",
    "    price_before_tax_rounded = round(price_before_tax, 2)\n",
    "    taxes = round(price_before_tax_rounded * 0.12, 2)  # Fictional tax rate, users encouraged to seek own tax advice\n",
    "    return price_before_tax, taxes"
   ]
  },
  {
   "attachments": {},
   "cell_type": "markdown",
   "metadata": {},
   "source": [
    "The gradio interface starts a server (on the laptop or machine running this Python code) that provides both the GUI and API functionality.\n",
    "\n",
    "The ``Interface`` takes in some definitions of the UI, which implies the types of inputs that are needed. \n",
    "\n",
    "This will print a message of ``To create a public link, set `share=True` in `launch()`.`` and the graphical interface to input and score the model will be displayed below. Initially this is only accessible to the users of the local machine at this stage for the data scientist to prototype and refine confidentially. \n",
    "\n",
    "When the data scientist is ready to make this internally or publically accessible, expectation would be to work with the tech team on the best way to host this securely and then `share=True` can be set. "
   ]
  },
  {
   "cell_type": "code",
   "execution_count": 3,
   "metadata": {},
   "outputs": [
    {
     "name": "stdout",
     "output_type": "stream",
     "text": [
      "Running on local URL:  http://127.0.0.1:7860\n",
      "\n",
      "To create a public link, set `share=True` in `launch()`.\n"
     ]
    },
    {
     "data": {
      "text/html": [
       "<div><iframe src=\"http://127.0.0.1:7860/\" width=\"100%\" height=\"500\" allow=\"autoplay; camera; microphone; clipboard-read; clipboard-write;\" frameborder=\"0\" allowfullscreen></iframe></div>"
      ],
      "text/plain": [
       "<IPython.core.display.HTML object>"
      ]
     },
     "metadata": {},
     "output_type": "display_data"
    },
    {
     "data": {
      "text/plain": []
     },
     "execution_count": 3,
     "metadata": {},
     "output_type": "execute_result"
    }
   ],
   "source": [
    "gradio_interface = gr.Interface(\n",
    "    fn = price,\n",
    "    inputs = [\n",
    "        # Destination: category - dropdown input\n",
    "        gr.Dropdown([\"USA\", \"Rest of World\"], value=\"USA\"),  \n",
    "        # Ages: number - slider input\n",
    "        gr.Slider(0, 130, value=30),\n",
    "        gr.Slider(-1, 130),\n",
    "        # Travel dates - Gradio does not have a native date object at time of writing\n",
    "        # So string input is used\n",
    "        gr.Textbox(\"2023-07-01\"),\n",
    "        gr.Textbox(\"2023-12-01\"),\n",
    "        # Ski cover: boolean true/false - use a checkbox\n",
    "        gr.Checkbox()\n",
    "    ],\n",
    "    outputs = [\n",
    "        gr.Number(label=\"Price\"),\n",
    "        gr.Number(label=\"Tax\")\n",
    "    ]\n",
    ")\n",
    "gradio_interface.launch()"
   ]
  },
  {
   "attachments": {},
   "cell_type": "markdown",
   "metadata": {},
   "source": [
    "Screenshots of the output:\n",
    "![image.png](/_static/gradio.png)"
   ]
  },
  {
   "cell_type": "markdown",
   "metadata": {},
   "source": [
    "At the bottom of the panel (scroll down if needed), when the gradio server is running, click on \"Use via API\" to get details of the API as well as sample Python code for querying it. As a data scientist, one can provide this API specification to the tech team so that other systems interfacing with this prediction server can submit data and receive predictions in a pre-agreed format. \n",
    "\n",
    "This will provide something like the below:"
   ]
  },
  {
   "cell_type": "code",
   "execution_count": 4,
   "metadata": {},
   "outputs": [
    {
     "data": {
      "text/plain": [
       "[4312.0, 517.44]"
      ]
     },
     "execution_count": 4,
     "metadata": {},
     "output_type": "execute_result"
    }
   ],
   "source": [
    "import requests\n",
    "\n",
    "response = requests.post(\"http://127.0.0.1:7860/run/predict\", json={\n",
    "  \"data\": [\n",
    "    \"USA\",\n",
    "    30,\n",
    "    19,\n",
    "    \"2023-07-01\",\n",
    "    \"2023-12-01\",\n",
    "    False,\n",
    "]}).json()\n",
    "\n",
    "response[\"data\"]"
   ]
  },
  {
   "attachments": {},
   "cell_type": "markdown",
   "metadata": {},
   "source": [
    "Running it returns a list with the price, and the tax amount.\n",
    "\n",
    "So the idea for production use would be this Python code could run on a server or in a docker container on the cloud, and the other systems would use the API to query it and get the required predictions (in this case, prices and financials). And during development, gradio can also be used by the data scientist and stakeholders to test and review individual predictions. \n",
    "\n",
    "This is a short article as the **gradio** package just appears to be very user friendly to use. \n",
    "\n",
    "For further development on this idea, some tips on best practices to that would work with this approach:\n",
    " * Important model code can be [version controlled](https://actuariesinstitute.github.io/cookbook/docs/version_control.html) to reduce risk of errors.\n",
    " * Data and models can be [version controlled too.](https://dvc.org/doc/use-cases/versioning-data-and-models)\n",
    " * Continuous Integration tools can perform automated testing of the API whenever there is a change, and automate deployment of updated models. \n",
    " * Performance is relevant to scalability to a high number of predictions per second. Upgrading to latest Python version may also help with performance, 3.11 claims [10-60% performance improvement](https://docs.python.org/3/whatsnew/3.11.html)\n",
    " * [Numba](https://numba.pydata.org) can also provide just-in-time compilation to speed up Python calculations (like those used for the financial calculations above) at scale. \n",
    " * [Caching results from recent queries](https://docs.python.org/3/library/functools.html#functools.lru_cache) may also be helpful to performance if the calculations are time consuming, but duplicate queries are expected. "
   ]
  }
 ],
 "metadata": {
  "kernelspec": {
   "display_name": "base",
   "language": "python",
   "name": "python3"
  },
  "language_info": {
   "codemirror_mode": {
    "name": "ipython",
    "version": 3
   },
   "file_extension": ".py",
   "mimetype": "text/x-python",
   "name": "python",
   "nbconvert_exporter": "python",
   "pygments_lexer": "ipython3",
   "version": "3.10.8"
  },
  "orig_nbformat": 4,
  "vscode": {
   "interpreter": {
    "hash": "7d2d48a3c396e19c74953a179129ff08c1156a4fd8939b1a2b9bbdf461ec6348"
   }
  }
 },
 "nbformat": 4,
 "nbformat_minor": 2
}
