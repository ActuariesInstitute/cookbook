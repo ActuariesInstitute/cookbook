{
 "cells": [
  {
   "cell_type": "raw",
   "id": "eae31387",
   "metadata": {},
   "source": [
    "---\n",
    "title: \"Decision trees\"\n",
    "description: | \n",
    "  A brief into to decision tree classification techniques with a few simple worked examples using (life) insurance data on disability income.\n",
    "author: \"[Charlie Jiang ](https://www.linkedin.com/in/charlie-jiang/)\"\n",
    "output: \n",
    "    self_contained: false\n",
    "bibliography: ../_bibliography/references.bib \n",
    "link-citations: yes\n",
    "---"
   ]
  },
  {
   "cell_type": "markdown",
   "id": "572a4b6c-da64-4714-a976-341cdbbd77cc",
   "metadata": {},
   "source": [
    "# R: Decision Tree Applications"
   ]
  },
  {
   "cell_type": "markdown",
   "id": "62cecbe7",
   "metadata": {},
   "source": [
    "# Overview \n",
    "## Background \n",
    "A decision tree is a flowchart-like structure which models the decisions and their possible consequences, including chance of event outcomes, resource costs, and utility.\n",
    "\n",
    "In a decision tree, each internal node is split by a single feature. The tree then develops branches leading to lower level of subgroups that increases the homogeneity of the elements within that group. The split on a feature is not influenced by other features. Such division process is repeated until all leaf nodes are reached. The paths from root to leaf represent classification rules.\n",
    "\n",
    "![Evolution of Tree-based Algorithms (source: https://www.kaggle.com/prashant111/xgboost-k-fold-cv-feature-importance)](../_static/trees/tree_based_algorithms.jpeg)"
   ]
  },
  {
   "cell_type": "markdown",
   "id": "7eb4ed7d",
   "metadata": {},
   "source": [
    "## Libraries\n",
    "A list of packages used in the recipes below."
   ]
  },
  {
   "cell_type": "code",
   "execution_count": 1,
   "id": "9fcde470",
   "metadata": {
    "message": false,
    "name": "Setup",
    "tags": [
     "remove_output"
    ],
    "warning": false
   },
   "outputs": [
    {
     "name": "stderr",
     "output_type": "stream",
     "text": [
      "\n",
      "Attaching package: 'dplyr'\n",
      "\n",
      "\n",
      "The following objects are masked from 'package:stats':\n",
      "\n",
      "    filter, lag\n",
      "\n",
      "\n",
      "The following objects are masked from 'package:base':\n",
      "\n",
      "    intersect, setdiff, setequal, union\n",
      "\n",
      "\n",
      "\n",
      "Attaching package: 'MASS'\n",
      "\n",
      "\n",
      "The following object is masked from 'package:dplyr':\n",
      "\n",
      "    select\n",
      "\n",
      "\n",
      "Type 'citation(\"pROC\")' for a citation.\n",
      "\n",
      "\n",
      "Attaching package: 'pROC'\n",
      "\n",
      "\n",
      "The following objects are masked from 'package:stats':\n",
      "\n",
      "    cov, smooth, var\n",
      "\n",
      "\n",
      "Loading required package: lattice\n",
      "\n",
      "randomForest 4.6-14\n",
      "\n",
      "Type rfNews() to see new features/changes/bug fixes.\n",
      "\n",
      "\n",
      "Attaching package: 'randomForest'\n",
      "\n",
      "\n",
      "The following object is masked from 'package:ggplot2':\n",
      "\n",
      "    margin\n",
      "\n",
      "\n",
      "The following object is masked from 'package:dplyr':\n",
      "\n",
      "    combine\n",
      "\n",
      "\n",
      "\n",
      "Attaching package: 'xgboost'\n",
      "\n",
      "\n",
      "The following object is masked from 'package:dplyr':\n",
      "\n",
      "    slice\n",
      "\n",
      "\n"
     ]
    }
   ],
   "source": [
    "library(rmdformats)     # theme for the HTML doc\n",
    "library(bookdown)       # bibliography formatting\n",
    "library(scales)         # data formatting  \n",
    "library(dplyr)          # tidyverse: data manipulation\n",
    "library(tidyr)          # tidyverse: tidy messy data\n",
    "library(MASS)           # statistics\n",
    "library(ggplot2)        # tidyverse: graphs\n",
    "library(ggthemes)       # tidyverse: additional themes for ggplot, optional\n",
    "library(pROC)           # visualising ROC curves\n",
    "library(caret)          # for Classification And REgression Training\n",
    "library(rpart)          # Decision tree algorithm\n",
    "library(rpart.plot)     # Plot for decision tree\n",
    "library(randomForest)   # random forest algorithm\n",
    "library(xgboost)        # XGBoost algorithm"
   ]
  },
  {
   "cell_type": "markdown",
   "id": "f187b79c",
   "metadata": {},
   "source": [
    "# Prepare Data\n",
    "Let's use the same dataset as in the \"Regression\" article. That data looked at disability income insurance experience."
   ]
  },
  {
   "cell_type": "code",
   "execution_count": 2,
   "id": "37e29dfc",
   "metadata": {
    "name": "Load data"
   },
   "outputs": [],
   "source": [
    "rm(list = ls())\n",
    "load(file = \"../_static/trees/data.RData\",)"
   ]
  },
  {
   "cell_type": "markdown",
   "id": "d996308d",
   "metadata": {},
   "source": [
    "Split data into training and testing sets:"
   ]
  },
  {
   "cell_type": "code",
   "execution_count": 3,
   "id": "8dab1114",
   "metadata": {
    "class.source": "fold-show",
    "name": "Split data"
   },
   "outputs": [
    {
     "data": {
      "text/html": [
       "600000"
      ],
      "text/latex": [
       "600000"
      ],
      "text/markdown": [
       "600000"
      ],
      "text/plain": [
       "[1] 600000"
      ]
     },
     "metadata": {},
     "output_type": "display_data"
    }
   ],
   "source": [
    "# Determine the number of rows for training\n",
    "nrow(df)\n",
    "# Create a random sample of row IDs\n",
    "sample_rows <- sample(nrow(df),0.75*nrow(df))\n",
    "# Create the training dataset\n",
    "df_train <- df[sample_rows,]\n",
    "# Create the test dataset\n",
    "df_test <- df[-sample_rows,]\n",
    "\n",
    "\n",
    "samp_cv <- sample(1:nrow(df_test),100000)\n",
    "df_cv <- df_test[samp_cv,]\n",
    "df_test2 <- df_test[-samp_cv,]\n",
    "\n",
    "# One hot encoding\n",
    "train_label <- df_train$inc_count_tot\n",
    "cv_label <- df_cv$inc_count_tot\n",
    "test_label <- df_test2$inc_count_tot"
   ]
  },
  {
   "cell_type": "markdown",
   "id": "8af95cc0",
   "metadata": {},
   "source": [
    "# Decision tree\n",
    "## Introduction to decision trees\n",
    "Decision trees uses a technique called \"divide-and-conquer\", which divides the dataset into partitions with similar values for the outcome of interest. To divide-and-conquer, the algorithm looks for an initial split that creates the two most homogeneous groups, and repeat this process till all the leaf nodes are reached.\n",
    "\n",
    "Leaf nodes represent the final outcome of all the determinations, which are the lowest levels of decision trees. It describes the classes (or types) of the output variable in classification problems, or its predicted values in regression problems.\n",
    "\n",
    "An obvious question is how does the algorithm decide where to split the dataset? For example, if one of the factors is \"age\", how does the model know to split it at age 30, 40, or 50, in order to achieve the best \"two most homogeneous\" groups? For classification trees, the common solutions are Gini impurity and Entropy.\n",
    "\n",
    "### Gini impurity\n",
    "Gini impurity is a common approach to calculate the goodness of split in a numeric way, which helps decide where to split the dataset.\n",
    "\n",
    "Gini impurity is a measurement of the likelihood of an incorrect classification of the sample randomly selected. The lower the Gini impurity, the less likely a mis-classification will occur, and the subgroup is \"purer\". It reaches 0 when the dataset contains only one class (\"purest\" scenario).\n",
    "\n",
    "Gini impurity is denoted as\n",
    "$G(x) = \\sum_{i=1}^n P(x_i)(1 - P(x_i)) = 1 - \\sum^n_{i=1} P(x_i)^2$\n",
    "where $p_k$ is the probability of a correct classification within the subgroup. \n",
    "\n",
    "![Gini Impurity calculation](../_static/trees/gini_impurity.png)\n",
    "\n",
    "In the example of whether having chest pain in relation to heart disease, the Gini impurity can be calculated as follows:\n",
    "\n",
    "$P_1 = P\\text{(Has heart disease with chest pain)} = \\frac{105}{105 + 39} = 0.7862$\n",
    "$P_2 = P\\text{(No heart disease with chest pain)} = \\frac{39}{105 + 39} = 0.2708$\n",
    "$P_3 = P\\text{(Has heart disease without chest pain)} = \\frac{34}{34 + 125} = 0.2138$\n",
    "$P_4 = P\\text{(No heart disease without chest pain)} = \\frac{125}{34 + 125} = 0.7292$\n",
    "The Gini impurity for the left group is\n",
    "$ G(Left) = 1 - P_1^2 - P_2^2 = 0.3950$\n",
    "\n",
    "The Gini impurity for the right group is\n",
    "$ G(Right) = 1 - P_3^2 - P_4^2 = 0.3362$\n",
    "\n",
    "The overall Gini impurity for the division is a weighted average of the Gini impurity of the two groups, based on the number of observations within each group.\n",
    "\n",
    "$ G = \\frac{144}{144 + 159} \\times G(Left) + \\frac{159}{144 + 159} \\times G(Right) = 0.364$\n",
    "\n",
    "Similarly, the Gini impurity for whether having good blood circulation as condition is 0.360. In this case, it is a slightly better indicator than whether having chest pain. \n",
    "\n",
    "### Entropy\n",
    "Entropy is a concept in information theory introduced by Claude Shannon in his 1948 paper \"A Methematical Theory of Communication\". It is denoted as follows\n",
    "$ H(x) =  - \\sum_{i=1}^n P(x_i)ln(P(x_i))$\n",
    "\n",
    "Entropy varies between $[0, 1]$ while Gini impurity varies $[0,0.5]$. The two have very similar distribution especially when Entropy is compared to twice of the Gini impurity. The conclusion from the two are mostly the same (only disagree in 2% of time). In many cases Gini impurity is favoured, as Entropy requires more computational power for using log function.\n",
    "\n",
    "### Information gain\n",
    "After we get (information) entropy, we can calculate the information gain for a particular feature when learning.\n",
    "\n",
    "Suppose one of the features is gender. If we choose to split dataset by gender, then can be sub-divided into 2 groups, $D_{male}$ and $D_{female}$. So the entropy after splitting by gender, is the weighted average of the entropy of the two sets\n",
    "\n",
    "$ \\frac{D_{male}}{D}H(D_{male}) + \\frac{D_{female}}{D}H(D_{female}) $\n",
    "\n",
    "When compared to the information entropy prior to the split, the reduction is the information gain, denoted as\n",
    "\n",
    "$ Gain(D, feature)=H(D)-\\sum^{N}_{i=1}\\frac{D_i}{D}H(D_i) $\n",
    "\n",
    "The information gain is then used to determine whether it's better or worse off to perform a further split, and which feature yields higher gain.\n",
    "\n",
    "### Information gain ratio\n",
    "One potential issue with information gain is that it prefers features with more categories. For instance, if we choose to split by personal ID which is a unique value, the entire dataset will be divided into $N$ groups where $N$ is also the number of data points. In this case, the entropy of each group will be zero given there is only 1 observation and the accuracy of classification reaches 100%, which then makes the second term (average entropy after split) of above formula zero. Apparently such division is not meaningful even though it maximises the information gain.\n",
    "\n",
    "To improve this, the information gain ratio was developed. It is written as\n",
    "\n",
    "$ Gain\\_ratio(D, feature)=\\frac{Gain(D, feature)}{IV(feature)}$\n",
    "where $IV(feature)$ can be further denoted as\n",
    "\n",
    "$ IV(feature)=-\\sum_{i=1}^N \\frac{D_i}{D}ln(\\frac{D_i}{D})$\n",
    "\n",
    "This looks similar to information entropy, which essentially evaluates the purity of the feature. If the feature only has few categories, it's \"purer\" and the $IV$ values is smaller, vice versa. Therefore it adds a penalty on selecting features with many categories.\n",
    "\n",
    "However, information gain ratio is still not perfect, as it tends to choose features with less categories. Therefore, C4.5, a typical algorithm that uses information gain ratio, also uses information gain. It first calculates the average of information gain of all possible splits, and then choose the split with information gain above this average but also has the maximum information gain ratio, as the best split. \n",
    "\n",
    "## Classification tree example\n",
    "Let's model whether a policy has any claim incident, by looking at indicator of sickness ($\\text{inc_count_sick}$) and accident ($\\text{inc_count_acc}$). Apparently the dependent variable ($\\text{inc_count_tot}$) is fully determined by the two indicators. \"Class\" method is used here to train the classification tree."
   ]
  },
  {
   "cell_type": "code",
   "execution_count": 4,
   "id": "269cc67d",
   "metadata": {
    "class.source": "fold-show",
    "name": "incidence modelling"
   },
   "outputs": [
    {
     "data": {
      "image/png": "[encoded data removed]",
      "text/plain": [
       "plot without title"
      ]
     },
     "metadata": {
      "image/png": {
       "height": 420,
       "width": 420
      }
     },
     "output_type": "display_data"
    },
    {
     "data": {
      "image/png": "[encoded data removed]",
      "text/plain": [
       "plot without title"
      ]
     },
     "metadata": {
      "image/png": {
       "height": 420,
       "width": 420
      }
     },
     "output_type": "display_data"
    }
   ],
   "source": [
    "classi_tree <- rpart(inc_count_tot ~ inc_count_acc + inc_count_sick,\n",
    "                        data = df_train,\n",
    "                        method = \"class\")\n",
    "\n",
    "plotcp(classi_tree, minline=TRUE)\n",
    "rpart.plot(classi_tree)\n"
   ]
  },
  {
   "cell_type": "markdown",
   "id": "1d56411c",
   "metadata": {},
   "source": [
    "As shown above, any policy having sickness or accident has a claim incident, in line with expectation.   "
   ]
  },
  {
   "cell_type": "markdown",
   "id": "f8105475",
   "metadata": {
    "lines_to_next_cell": 0
   },
   "source": [
    "## Regression tree\n",
    "A regression tree is basically a decision tree that is used for the task of regression which can be used to predict continuous valued outputs instead of discrete outputs.\n",
    "\n",
    "Unlike classification tree, we cannot calculate the Gini impurity or entropy since we are predicting continuous variables. Therefore, another measure is required to tell how much our predictions deviate from the original target and that’s the entry-point of mean square error.\n",
    "\n",
    "### Mean square error (MSE)\n",
    "Mean square error is defined as\n",
    "$ MSE = \\frac{1}{n} \\sum_{i=1}^n (y_i - \\hat{y}_i)^2 $\n",
    "where $y_i$ is the actual value and $\\hat{y}_i$ is the predicted value. This is the same approach used in linear regression, which aims to minimise the difference between the actual and predicted values.\n",
    "\n",
    "Note that regression tree uses piecewise linear functions, which fits a linear function to a certain interval. if we keep dividing the dataset, the tree is able to depict any kind of non-linear trends asymptotically. This is more flexible than simple linear regression.\n",
    "\n",
    "## Regression tree example\n",
    "Let's create a scenario where termination of claims is driven by age of the claimant. Decision tree will be used to split the dataset based on age and see if result is in line with our expectation.\n",
    "\n",
    "### Data prep"
   ]
  },
  {
   "cell_type": "code",
   "execution_count": 5,
   "id": "c40455f7",
   "metadata": {
    "class.source": "fold-show",
    "name": "Termination Modelling data"
   },
   "outputs": [
    {
     "data": {
      "image/png": "[encoded data removed]",
      "text/plain": [
       "plot without title"
      ]
     },
     "metadata": {
      "image/png": {
       "height": 420,
       "width": 420
      }
     },
     "output_type": "display_data"
    }
   ],
   "source": [
    "# select all claims\n",
    "df_term <- df_train %>% filter(inc_count_tot >0) \n",
    "\n",
    "# add dummy claim duration data. Duration (i.e. in days) is usually considered following \n",
    "# an exponential distribution but in our recent study it follows a gamma distribution better. \n",
    "# To simplify, here we use exponential distribution CDF to back solve the x. \n",
    "# Assume lambda is 1/180 so that the average claim duration is 180 days.\n",
    "df_term <- df_term %>% \n",
    "  mutate(term_day = case_when(age <= 45 ~ ceiling(log(1 - runif(nrow(df_term)))/(-1/90)),\n",
    "                              age <= 50 ~ ceiling(log(1 - runif(nrow(df_term)))/(-1/180)),\n",
    "                                   TRUE ~ ceiling(log(1 - runif(nrow(df_term)))/(-1/360))\n",
    "                              ))\n",
    "\n",
    "plot(df_term$age, df_term$term_day, xlab = \"AGE\", ylab = \"Time to Recover (Days)\")"
   ]
  },
  {
   "cell_type": "markdown",
   "id": "a67d8aad",
   "metadata": {},
   "source": [
    "### Fit regression tree"
   ]
  },
  {
   "cell_type": "code",
   "execution_count": 6,
   "id": "ef4f7bc7",
   "metadata": {
    "class.source": "fold-show",
    "name": "Termination Modelling"
   },
   "outputs": [
    {
     "data": {
      "image/png": "[encoded data removed]",
      "text/plain": [
       "plot without title"
      ]
     },
     "metadata": {
      "image/png": {
       "height": 420,
       "width": 420
      }
     },
     "output_type": "display_data"
    },
    {
     "name": "stdout",
     "output_type": "stream",
     "text": [
      "\n",
      "Regression tree:\n",
      "rpart(formula = term_day ~ age, data = df_term, method = \"anova\", \n",
      "    control = rpart.control(xval = 5, minbucket = 4, cp = 5e-04))\n",
      "\n",
      "Variables actually used in tree construction:\n",
      "[1] age\n",
      "\n",
      "Root node error: 172016888/2453 = 70125\n",
      "\n",
      "n= 2453 \n",
      "\n",
      "          CP nsplit rel error  xerror     xstd\n",
      "1 0.17203375      0   1.00000 1.00165 0.078322\n",
      "2 0.02148370      1   0.82797 0.83236 0.065199\n",
      "3 0.00398784      2   0.80648 0.81096 0.064604\n",
      "4 0.00136321      4   0.79851 0.81948 0.066336\n",
      "5 0.00081531      5   0.79714 0.81562 0.065884\n",
      "6 0.00079889      6   0.79633 0.81574 0.065899\n",
      "7 0.00075895      7   0.79553 0.81557 0.065889\n",
      "8 0.00050000      8   0.79477 0.81557 0.065889\n"
     ]
    },
    {
     "data": {
      "image/png": "[encoded data removed]",
      "text/plain": [
       "plot without title"
      ]
     },
     "metadata": {
      "image/png": {
       "height": 420,
       "width": 420
      }
     },
     "output_type": "display_data"
    },
    {
     "data": {
      "image/png": "[encoded data removed]",
      "text/plain": [
       "plot without title"
      ]
     },
     "metadata": {
      "image/png": {
       "height": 420,
       "width": 420
      }
     },
     "output_type": "display_data"
    }
   ],
   "source": [
    "ageGroup_split <- rpart(term_day ~ age,\n",
    "                        data = df_term,\n",
    "                        method = \"anova\",\n",
    "                        control = rpart.control(xval=5, minbucket=4, cp=0.0005))\n",
    "\n",
    "plotcp(ageGroup_split, minline=TRUE)\n",
    "rpart.plot(ageGroup_split)\n",
    "printcp(ageGroup_split)\n",
    "\n",
    "# increase cp the learning rate to prune the trees\n",
    "ageGroup_pruned <- prune(ageGroup_split, cp=0.005)\n",
    "rpart.plot(ageGroup_pruned)\n"
   ]
  },
  {
   "cell_type": "markdown",
   "id": "2ad7ef32",
   "metadata": {},
   "source": [
    "The pruned tree splits the dataset into 3 subgroups which are exactly same as what has been defined in the data prep.\n",
    "\n",
    "# Random forest\n",
    "## Introduction of random forest\n",
    "Random forest is an ensemble learning method that applies bootstrap aggregating, or Bagging, and a random selection of features, to enhance the overall performance by creating a number of trees. For classification tasks, the output of the random forest is the class selected by most trees. For regression tasks, the mean or average prediction of the individual trees is returned.\n",
    "\n",
    "Bootstrap is a sampling technique. Sampling is to randomly pick data points from a known sample as such to form a new sample, either with or without replacement. Random forest uses sampling with replacement, which is to choose from a set (or original data) of size $n$, to form a new set (or sample) of size $n$.\n",
    "\n",
    "With replacement, each data point has a chance of $\\frac{1}{n}$ to be selected, and after $n$ selections, the probability that a data point is not selected, is $(1 - \\frac{1}{n})^n$. When $n \\to \\infty$, this converges to $\\frac{1}{e} \\approx 0.368$. This means around 36.8% data will not be selected into the new sample, which are called \"Out of Bag\" (OOB) data.\n",
    "\n",
    "The earlier random decision forests by Tin Kam Ho used the “random subspace method”, where each tree got a random subset of features. However, a few years later, Leo Breiman described the procedure of selecting different subsets of features for each node (while a tree was given the full set of features). Leo Breiman’s formulation has become the “trademark” random forest algorithm that we typically refer to these days when we speak of “random forest”. \n",
    "\n",
    "With the randomness in sampling of data points and features, random forest can control over-fitting well. Meanwhile, as random forest uses multiple decision trees, it also helps reduce the variance. If we treat each tree as a $iid$ random variable $X_i$ with variance $\\sigma^2$, variance of their mean is\n",
    "$ Var(\\frac{1}{n} \\sum X_i) = \\frac{\\sigma^2}{n}$\n",
    "where $n$ denotes the number of trees.\n",
    "\n",
    "## Train random forest model"
   ]
  },
  {
   "cell_type": "code",
   "execution_count": 7,
   "id": "3e3dd362",
   "metadata": {
    "name": "Random Forest for incidence projection"
   },
   "outputs": [
    {
     "name": "stdout",
     "output_type": "stream",
     "text": [
      "\n",
      "Call:\n",
      " randomForest(formula = as.factor(inc_count_tot) ~ ., data = new_train2,      ntree = 100, sampsize = c(500, 500), importance = T) \n",
      "               Type of random forest: classification\n",
      "                     Number of trees: 100\n",
      "No. of variables tried at each split: 4\n",
      "\n",
      "        OOB estimate of  error rate: 38.13%\n",
      "Confusion matrix:\n",
      "       0      1 class.error\n",
      "0 276844 170703   0.3814192\n",
      "1    863   1590   0.3518141\n"
     ]
    }
   ],
   "source": [
    "\n",
    "new_train2 <- model.matrix(~ inc_count_tot  \n",
    "                      + cal_year\n",
    "                      + policy_year\n",
    "                      + sex                           \n",
    "                      + smoker\n",
    "                      + benefit_period\n",
    "                      + waiting_period\n",
    "                      + occupation\n",
    "                      + age          \n",
    "                      + sum_assured             \n",
    "                       , data = df_train)\n",
    "\n",
    "new_cv2 <- model.matrix(~ inc_count_tot  \n",
    "                      + cal_year\n",
    "                      + policy_year\n",
    "                      + sex                           \n",
    "                      + smoker\n",
    "                      + benefit_period\n",
    "                      + waiting_period\n",
    "                      + occupation\n",
    "                      + age          \n",
    "                      + sum_assured             \n",
    "                       , data = df_cv)\n",
    "\n",
    "new_test2 <- model.matrix(~ inc_count_tot  \n",
    "                      + cal_year\n",
    "                      + policy_year\n",
    "                      + sex                           \n",
    "                      + smoker\n",
    "                      + benefit_period\n",
    "                      + waiting_period\n",
    "                      + occupation\n",
    "                      + age          \n",
    "                      + sum_assured             \n",
    "                       , data = df_test2)\n",
    "\n",
    "new_train2 <- as.data.frame(new_train2) %>% rename(., Default = \"(Intercept)\")\n",
    "new_cv2 <- as.data.frame(new_cv2) %>% rename(., Default = \"(Intercept)\")\n",
    "new_test2 <- as.data.frame(new_test2) %>% rename(., Default = \"(Intercept)\")\n",
    "\n",
    "rf.fit = randomForest(as.factor(inc_count_tot) ~., data=new_train2, \n",
    "                      ntree=100, \n",
    "                      sampsize=c(500,500),\n",
    "                      importance=T)\n",
    "\n",
    "print(rf.fit)"
   ]
  },
  {
   "cell_type": "markdown",
   "id": "a09f0060",
   "metadata": {},
   "source": [
    "Plotting variable importance:"
   ]
  },
  {
   "cell_type": "code",
   "execution_count": 8,
   "id": "7a4743f3",
   "metadata": {
    "fig.height": 6.5,
    "fig.width": 10,
    "name": "variable importance fig"
   },
   "outputs": [
    {
     "data": {
      "image/png": "[encoded data removed]",
      "text/plain": [
       "plot without title"
      ]
     },
     "metadata": {
      "image/png": {
       "height": 420,
       "width": 420
      }
     },
     "output_type": "display_data"
    }
   ],
   "source": [
    "varImpPlot(rf.fit)"
   ]
  },
  {
   "cell_type": "markdown",
   "id": "4dde1571",
   "metadata": {},
   "source": [
    "Confusion matrix and ROC:"
   ]
  },
  {
   "cell_type": "code",
   "execution_count": 9,
   "id": "7882a7ff",
   "metadata": {
    "name": "Random Forest for incidence projection cont."
   },
   "outputs": [
    {
     "data": {
      "text/plain": [
       "Confusion Matrix and Statistics\n",
       "\n",
       "          Reference\n",
       "Prediction     0     1\n",
       "         0 30786   102\n",
       "         1 18945   167\n",
       "                                          \n",
       "               Accuracy : 0.6191          \n",
       "                 95% CI : (0.6148, 0.6233)\n",
       "    No Information Rate : 0.9946          \n",
       "    P-Value [Acc > NIR] : 1               \n",
       "                                          \n",
       "                  Kappa : 0.0067          \n",
       "                                          \n",
       " Mcnemar's Test P-Value : <2e-16          \n",
       "                                          \n",
       "            Sensitivity : 0.619050        \n",
       "            Specificity : 0.620818        \n",
       "         Pos Pred Value : 0.996698        \n",
       "         Neg Pred Value : 0.008738        \n",
       "             Prevalence : 0.994620        \n",
       "         Detection Rate : 0.615720        \n",
       "   Detection Prevalence : 0.617760        \n",
       "      Balanced Accuracy : 0.619934        \n",
       "                                          \n",
       "       'Positive' Class : 0               \n",
       "                                          "
      ]
     },
     "metadata": {},
     "output_type": "display_data"
    },
    {
     "name": "stderr",
     "output_type": "stream",
     "text": [
      "Setting levels: control = 0, case = 1\n",
      "\n",
      "Setting direction: controls < cases\n",
      "\n"
     ]
    },
    {
     "data": {
      "text/plain": [
       "\n",
       "Call:\n",
       "roc.formula(formula = new_test2$inc_count_tot ~ rf.predict2[,     2], plot = TRUE, print.auc = TRUE)\n",
       "\n",
       "Data: rf.predict2[, 2] in 49731 controls (new_test2$inc_count_tot 0) < 269 cases (new_test2$inc_count_tot 1).\n",
       "Area under the curve: 0.6683"
      ]
     },
     "metadata": {},
     "output_type": "display_data"
    },
    {
     "data": {
      "image/png": "[encoded data removed]",
      "text/plain": [
       "plot without title"
      ]
     },
     "metadata": {
      "image/png": {
       "height": 420,
       "width": 420
      }
     },
     "output_type": "display_data"
    }
   ],
   "source": [
    "\n",
    "rf.predict = predict(rf.fit, new_test2)\n",
    "confusionMatrix(as.factor(rf.predict), as.factor(new_test2$inc_count_tot))\n",
    "\n",
    "rf.predict2 = predict(rf.fit, new_test2, type=\"prob\")\n",
    "roc(new_test2$inc_count_tot ~ rf.predict2[,2], plot = TRUE, print.auc = TRUE)\n"
   ]
  },
  {
   "cell_type": "markdown",
   "id": "8b8d943d",
   "metadata": {},
   "source": [
    "# XGBoost\n",
    "## A gentle intro to gradient boosting\n",
    "Before talking about XGBoost, let's take a look at gradient boosting decision trees (GBDT). Unlike Bagging technique used by random forest, Boosting sums up all the trees instead of taking majority vote. All the trees (or weak learners) are dependent. At every training iteration, the misclassified samples at the previous training step will be assigned higher weight. The predicted outcome is the weighted sum of all the learners.\n",
    "\n",
    "As an example, to predict the age of a person (say actual value is 40):\n",
    "* the GBDT model trains the first weak learner (or tree) to make a prediction of 30. Apparently the variance of this prediction against actual value is 10. \n",
    "* Then in the next tree, it makes another prediction of age 6 (out of 10), which reduces the variance to 4. \n",
    "* Then in the third tree, the predicted age is 3 (out of 4), with variance down to 1. \n",
    "* The last tree predicts the age of 1 (out of 1). \n",
    "* Finally, if we add up all the 4 trees, we will end up having a predicted value of age 40.\n",
    "\n",
    "![Intuition behind gradient boosting (source: https://explained.ai/gradient-boosting/index.html)](../_static/trees/golf-gbdt.png)\n",
    "\n",
    "Just like playing golf, GBDT model tries to explain the residual of the previous fitting. Actually, the algorithm uses negative gradient to approximate the residual. For each sample point, the loss function is in the form of\n",
    "$ l(y_i, \\hat{y}_i) = \\frac{1}{2}(y_i - \\hat{y}_i)^2$\n",
    "Note that this is just same as mean square error, the $\\frac{1}{2}$ at the front is just to offset the coefficient 2 that will emerge when calculating derivative, without changing the overall trend. Thus, the negative gradient is\n",
    "$ -\\frac{\\partial l}{\\partial \\hat{y}_i} = (y_i - \\hat{y}_i)$\n",
    "which is exactly the variance between the actual and predicted value.\n",
    "\n",
    "## Pros and cons of GBDT\n",
    "Pros:\n",
    "\n",
    "* Fast predicting process, allowing multi-thread computation.\n",
    "* Works well on dense data.\n",
    "* Good interpretability and robustness, can automatically find higher order relationships between the features.\n",
    "\n",
    "Cons:\n",
    "\n",
    "* SVM and neural network may perform better than GBDT on sparse data.\n",
    "* Training takes longer as trees are inter-dependent.\n",
    "\n",
    "## GBDT vs Random Forest\n",
    "Similarity:\n",
    "\n",
    "* Both contains multiple trees, and all trees are involved in determining final result.\n",
    "* Both can handle classification or regression problems.\n",
    "\n",
    "Difference:\n",
    "\n",
    "* Trees in random forest can be derived in parallel, however for GBDT they need to come one after another.\n",
    "* Random forest uses majority vote, while GBDT takes weighted sum of all trees.\n",
    "* Random forest is not sensitive to outliers, but GBDT is.\n",
    "* Random forest reduces the model variance, and GBDT reduces the model bias.\n",
    "\n",
    "## Introduction of XGBoost\n",
    "XGBoost stands for eXtreme Gradient Boosting and is developed on the framework of gradient boosting by Tianqi Chen et. al. It inherits the nature of GBDT model and has made several enhancements to be more powerful and efficient.\n",
    "\n",
    "One of the main features about XGBoost is that it has enabled parallel computing. Unlike random forest where each tree is mutually independent, XGBoost as a variant of GBDT still needs to generate trees in sequence. The way it realises parallel learning is by introducing a block structure. As stated in the paper, the most timing consuming part of tree learning is to get the data into sorted order. The algorithm stores data in in-memory units called \"block\", with each column sorted by the corresponding feature value. By doing so, the input data only needs to be computed once before training, and the blocks can be re-used in later iterations.\n",
    "\n",
    "While machine learning algorithms have support for tuning and can work with external programs, XGBoost has built-in parameters for regularisation and cross-validation to make sure both bias and variance is kept at a minimal.\n",
    "\n",
    "## XGBoost vs Original GBDT\n",
    "* XGBoost uses L2 norm which controls over-fitting and allows model to converge faster than L1 norm. For more information about regularisation, this article is a good reading https://www.kaggle.com/residentmario/l1-norms-versus-l2-norms\n",
    "\n",
    "* The original GBDT only uses the first order derivative of the loss function, while XGBoost uses both the first and second order derivatives (by Taylor series). Second order derivative allows gradient to descend faster in the right direction.\n",
    "\n",
    "* The original GBDT uses tree base learner, while XGBoost also supports other types such as linear learner. Though in most cases, we may not use linear learner as a base learner, because adding multiple linear models together still yields a linear model.\n",
    "\n",
    "* The original GBDT uses all data points in every iteration. XGBoost randomly samples the data to prevent over-fitting.\n",
    "\n",
    "* XGBoost can handle missing values. Common treatments are to: 1) use median values, or 2) do so but also consider the similarity of the data point against all others (proximity measures). The strategy in XGBoost is to put all samples where the value of the split feature is unknown in one of the two children (left or right sub-tree), whichever side gives optimised training loss. Clever isn't it? This assumes that the training data and predicting data have same distribution.\n",
    "\n",
    "## Train XGBoost model"
   ]
  },
  {
   "cell_type": "code",
   "execution_count": 10,
   "id": "8744c4f3",
   "metadata": {
    "lines_to_next_cell": 0,
    "name": "xgboost for incidence prediction"
   },
   "outputs": [
    {
     "name": "stdout",
     "output_type": "stream",
     "text": [
      "[1]\ttrain-logloss:0.680530\tval-logloss:0.680454 \n",
      "Multiple eval metrics are present. Will use val_logloss for early stopping.\n",
      "Will train until val_logloss hasn't improved in 50 rounds.\n",
      "\n",
      "[11]\ttrain-logloss:0.626824\tval-logloss:0.627098 \n",
      "[21]\ttrain-logloss:0.608418\tval-logloss:0.609160 \n",
      "[31]\ttrain-logloss:0.596263\tval-logloss:0.597342 \n",
      "[41]\ttrain-logloss:0.585442\tval-logloss:0.586823 \n",
      "[51]\ttrain-logloss:0.577694\tval-logloss:0.579185 \n",
      "[61]\ttrain-logloss:0.571021\tval-logloss:0.572678 \n",
      "[71]\ttrain-logloss:0.565651\tval-logloss:0.567431 \n",
      "[81]\ttrain-logloss:0.558594\tval-logloss:0.560511 \n",
      "[91]\ttrain-logloss:0.553997\tval-logloss:0.556084 \n",
      "[100]\ttrain-logloss:0.550225\tval-logloss:0.552311 \n"
     ]
    },
    {
     "data": {
      "text/plain": [
       "                Length Class              Mode       \n",
       "handle               1 xgb.Booster.handle externalptr\n",
       "raw             556926 -none-             raw        \n",
       "best_iteration       1 -none-             numeric    \n",
       "best_ntreelimit      1 -none-             numeric    \n",
       "best_score           1 -none-             numeric    \n",
       "best_msg             1 -none-             character  \n",
       "niter                1 -none-             numeric    \n",
       "evaluation_log       3 data.table         list       \n",
       "call                 9 -none-             call       \n",
       "params              11 -none-             list       \n",
       "callbacks            3 -none-             list       \n",
       "feature_names       18 -none-             character  \n",
       "nfeatures            1 -none-             numeric    "
      ]
     },
     "metadata": {},
     "output_type": "display_data"
    },
    {
     "data": {
      "text/plain": [
       "Confusion Matrix and Statistics\n",
       "\n",
       "          Reference\n",
       "Prediction     0     1\n",
       "         0 33350   112\n",
       "         1 16381   157\n",
       "                                         \n",
       "               Accuracy : 0.6701         \n",
       "                 95% CI : (0.666, 0.6743)\n",
       "    No Information Rate : 0.9946         \n",
       "    P-Value [Acc > NIR] : 1              \n",
       "                                         \n",
       "                  Kappa : 0.0082         \n",
       "                                         \n",
       " Mcnemar's Test P-Value : <2e-16         \n",
       "                                         \n",
       "            Sensitivity : 0.670608       \n",
       "            Specificity : 0.583643       \n",
       "         Pos Pred Value : 0.996653       \n",
       "         Neg Pred Value : 0.009493       \n",
       "             Prevalence : 0.994620       \n",
       "         Detection Rate : 0.667000       \n",
       "   Detection Prevalence : 0.669240       \n",
       "      Balanced Accuracy : 0.627125       \n",
       "                                         \n",
       "       'Positive' Class : 0              \n",
       "                                         "
      ]
     },
     "metadata": {},
     "output_type": "display_data"
    },
    {
     "name": "stderr",
     "output_type": "stream",
     "text": [
      "Setting levels: control = 0, case = 1\n",
      "\n",
      "Setting direction: controls < cases\n",
      "\n"
     ]
    },
    {
     "data": {
      "text/plain": [
       "\n",
       "Call:\n",
       "roc.formula(formula = test_label ~ xgb_pred1, plot = TRUE, print.auc = TRUE)\n",
       "\n",
       "Data: xgb_pred1 in 49731 controls (test_label 0) < 269 cases (test_label 1).\n",
       "Area under the curve: 0.6811"
      ]
     },
     "metadata": {},
     "output_type": "display_data"
    },
    {
     "data": {
      "image/png": "[encoded data removed]",
      "text/plain": [
       "plot without title"
      ]
     },
     "metadata": {
      "image/png": {
       "height": 420,
       "width": 420
      }
     },
     "output_type": "display_data"
    }
   ],
   "source": [
    "\n",
    "\n",
    "new_train <- model.matrix(inc_count_tot  ~ \n",
    "                        cal_year\n",
    "                      + policy_year\n",
    "                      + sex                           \n",
    "                      + smoker\n",
    "                      + benefit_period\n",
    "                      + waiting_period\n",
    "                      + occupation\n",
    "                      + age          \n",
    "                      + sum_assured             \n",
    "                       , data = df_train)\n",
    "\n",
    "new_cv <- model.matrix(inc_count_tot  ~ \n",
    "                        cal_year\n",
    "                      + policy_year\n",
    "                      + sex                           \n",
    "                      + smoker\n",
    "                      + benefit_period\n",
    "                      + waiting_period\n",
    "                      + occupation\n",
    "                      + age          \n",
    "                      + sum_assured             \n",
    "                       , data = df_cv)\n",
    "\n",
    "new_test <- model.matrix(inc_count_tot  ~ \n",
    "                        cal_year\n",
    "                      + policy_year\n",
    "                      + sex                           \n",
    "                      + smoker\n",
    "                      + benefit_period\n",
    "                      + waiting_period\n",
    "                      + occupation\n",
    "                      + age          \n",
    "                      + sum_assured             \n",
    "                       , data = df_test2)\n",
    "\n",
    "\n",
    "# prepare xgb matrix \n",
    "DM_train <- xgb.DMatrix(data = new_train, label = train_label) \n",
    "DM_cv <- xgb.DMatrix(data = new_cv, label = cv_label)\n",
    "DM_test <- xgb.DMatrix(data = new_test, label = test_label)\n",
    "\n",
    "# Given the dataset is highly imbalanced, we use 'scale_pos_weight' \n",
    "# to re-balance it which is the number of negative observations (i.e. \"0\") \n",
    "# over the number of positive observations (i.e. \"1\").\n",
    "n_pos <- df_train %>% filter(inc_count_tot==1) %>% nrow(.)\n",
    "n_neg <- df_train %>% filter(inc_count_tot==0) %>% nrow(.)\n",
    "\n",
    "params <- list(booster = \"gbtree\"\n",
    "               , objective = \"binary:logistic\"\n",
    "               , eta=0.1\n",
    "               , gamma=0\n",
    "               , max_depth=6\n",
    "               , min_child_weight=1\n",
    "               , subsample=1\n",
    "               , colsample_bytree=1\n",
    "               , scale_pos_weight=n_neg/n_pos)\n",
    "\n",
    "# xgb training with watchlist to show cross-validation\n",
    "xgb1 <- xgb.train(params = params, data = DM_train, nrounds = 100, watchlist = list(train=DM_train, val=DM_cv)\n",
    "                   ,print_every_n = 10\n",
    "                   ,early_stopping_rounds = 50\n",
    "                   ,maximize = F, eval_metric = \"logloss\")\n",
    "\n",
    "summary(xgb1)\n",
    "xgb_pred1 <- predict (xgb1, DM_test)\n",
    "\n",
    "confusionMatrix(as.factor(as.numeric(xgb_pred1 >0.5)), as.factor(test_label))\n",
    "\n",
    "roc(test_label ~ xgb_pred1, plot = TRUE, print.auc = TRUE)\n"
   ]
  },
  {
   "cell_type": "markdown",
   "id": "e50e19bd",
   "metadata": {},
   "source": []
  }
 ],
 "metadata": {
  "jupytext": {
   "cell_metadata_filter": "fig.height,tags,message,warning,name,class.source,fig.width,-all",
   "main_language": "R",
   "notebook_metadata_filter": "-all"
  },
  "kernelspec": {
   "display_name": "R",
   "language": "R",
   "name": "ir"
  },
  "language_info": {
   "codemirror_mode": "r",
   "file_extension": ".r",
   "mimetype": "text/x-r-source",
   "name": "R",
   "pygments_lexer": "r",
   "version": "3.6.3"
  }
 },
 "nbformat": 4,
 "nbformat_minor": 5
}
