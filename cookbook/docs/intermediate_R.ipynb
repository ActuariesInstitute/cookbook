{
 "cells": [
  {
   "cell_type": "markdown",
   "id": "e7d9c33e",
   "metadata": {},
   "source": [
    "# Next Steps With R"
   ]
  },
  {
   "cell_type": "markdown",
   "id": "4eafabc0",
   "metadata": {},
   "source": [
    "The Young Actuaries Program (YAP) and Young Data Analytics Working Group (YDAWG) presented [an introductory / intermediate session on data frames, visualisation and machine learning](https://github.com/ActuariesInstitute/YAP-YDAWG-R-Workshop). Click on the link to [the repository](https://github.com/ActuariesInstitute/YAP-YDAWG-R-Workshop) and follow instructions to clone and download the sample code, then watch the full session below:"
   ]
  },
  {
   "cell_type": "code",
   "execution_count": 4,
   "id": "75503cdb",
   "metadata": {},
   "outputs": [
    {
     "data": {
      "text/html": [
       "\n",
       "        <iframe\n",
       "            width=\"560\"\n",
       "            height=\"315\"\n",
       "            src=\"https://www.youtube.com/embed/_SvfEdp8_1c\"\n",
       "            frameborder=\"0\"\n",
       "            allowfullscreen\n",
       "        ></iframe>\n",
       "        "
      ],
      "text/plain": [
       "<IPython.lib.display.IFrame at 0x10c979730>"
      ]
     },
     "execution_count": 4,
     "metadata": {},
     "output_type": "execute_result"
    }
   ],
   "source": [
    "from IPython.display import IFrame\n",
    "\n",
    "# Embed Youtube in a Notebook\n",
    "IFrame(\n",
    "    src=\"https://www.youtube.com/embed/_SvfEdp8_1c\",\n",
    "    width=\"560\",\n",
    "    height=\"315\"\n",
    ")"
   ]
  }
 ],
 "metadata": {
  "kernelspec": {
   "display_name": "Python 3",
   "language": "python",
   "name": "python3"
  },
  "language_info": {
   "codemirror_mode": {
    "name": "ipython",
    "version": 3
   },
   "file_extension": ".py",
   "mimetype": "text/x-python",
   "name": "python",
   "nbconvert_exporter": "python",
   "pygments_lexer": "ipython3",
   "version": "3.9.1"
  }
 },
 "nbformat": 4,
 "nbformat_minor": 5
}
