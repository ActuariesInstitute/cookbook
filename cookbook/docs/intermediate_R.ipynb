{
 "cells": [
  {
   "cell_type": "markdown",
   "id": "e7d9c33e",
   "metadata": {},
   "source": [
    "# Next Steps With R"
   ]
  },
  {
   "cell_type": "markdown",
   "id": "4eafabc0",
   "metadata": {},
   "source": [
    "The Young Actuaries Program (YAP) and Young Data Analytics Working Group (YDAWG) presented [an introductory / intermediate session on data frames, visualisation and machine learning](https://github.com/ActuariesInstitute/YAP-YDAWG-R-Workshop). Click on the link to [the repository](https://github.com/ActuariesInstitute/YAP-YDAWG-R-Workshop) and follow instructions to clone and download the sample code, then watch the full session below:"
   ]
  },
  {
   "cell_type": "code",
   "execution_count": 1,
   "id": "75503cdb",
   "metadata": {},
   "outputs": [
    {
     "name": "stderr",
     "output_type": "stream",
     "text": [
      "/Users/Jacky/opt/miniconda3/lib/python3.9/site-packages/IPython/core/display.py:724: UserWarning: Consider using IPython.display.IFrame instead\n",
      "  warnings.warn(\"Consider using IPython.display.IFrame instead\")\n"
     ]
    },
    {
     "data": {
      "text/html": [
       "<iframe width=\"560\" height=\"315\" src=\"https://www.youtube.com/embed/_SvfEdp8_1c\" title=\"YouTube video player\" frameborder=\"0\" allow=\"accelerometer; autoplay; clipboard-write; encrypted-media; gyroscope; picture-in-picture\" allowfullscreen></iframe>"
      ],
      "text/plain": [
       "<IPython.core.display.HTML object>"
      ]
     },
     "execution_count": 1,
     "metadata": {},
     "output_type": "execute_result"
    }
   ],
   "source": [
    "from IPython.display import HTML\n",
    "\n",
    "# Youtube\n",
    "HTML('<iframe width=\"560\" height=\"315\" src=\"https://www.youtube.com/embed/_SvfEdp8_1c\" title=\"YouTube video player\" frameborder=\"0\" allow=\"accelerometer; autoplay; clipboard-write; encrypted-media; gyroscope; picture-in-picture\" allowfullscreen></iframe>')\n"
   ]
  }
 ],
 "metadata": {
  "kernelspec": {
   "display_name": "Python 3",
   "language": "python",
   "name": "python3"
  },
  "language_info": {
   "codemirror_mode": {
    "name": "ipython",
    "version": 3
   },
   "file_extension": ".py",
   "mimetype": "text/x-python",
   "name": "python",
   "nbconvert_exporter": "python",
   "pygments_lexer": "ipython3",
   "version": "3.9.1"
  }
 },
 "nbformat": 4,
 "nbformat_minor": 5
}
