{
 "cells": [
  {
   "cell_type": "markdown",
   "metadata": {
    "id": "n57Z6l44owPP"
   },
   "source": [
    "# Py: Socio-Economic Index Construction (for UNSW Python Workshop)\n",
    "**This notebook was originally created by Andres Villegas Ramirez for the Data Analytics Applications subject, as *Case study 1 - The Socio-Economic Indexes for Areas*  in the *DAA M06 Unsupervised learning* module.**\n",
    "\n",
    "**Data Analytics Applications is a Fellowship Applications (Module 3) subject with the Actuaries Institute that aims to teach students how to apply a range of data analytics skills, such as neural networks, natural language processing, unsupervised learning and optimisation techniques, together with their professional judgement, to solve a variety of complex and challenging business problems. The business problems used as examples in this subject are drawn from a wide range of industries.**\n",
    "\n",
    "**Find out more about the course [here](https://www.actuaries.asn.au/education-program/fellowship/subjects-and-syllabus/data-analytics-applications-subject).**\n",
    "\n",
    "### Purpose:\n",
    "This case study demonstrates the use of principal component analysis (PCA) in the construction of an index to rank the socio-economic status of different geographical areas within a country. Such an index can be useful to identify areas that require funding or services, or as input for research into the relationship between socio-economic conditions and other outcomes in different areas.\n",
    "\n",
    "In Australia, the Australian Bureau of Statistics (ABS) produces such indexes, referred to as the Socio-Economic Indexes for Areas (SEIFA). SEIFA rank areas in Australia based on their relative socio-economic advantage and disadvantage.\n",
    "\n",
    "This notebook replicates the methodology adopted by the ABS in Python in constructing one of these indexes - **Index of Economic Resources, or IER**."
   ]
  },
  {
   "cell_type": "markdown",
   "metadata": {
    "id": "yz1W0kBWo9PT"
   },
   "source": [
    "## Packages\n"
   ]
  },
  {
   "cell_type": "code",
   "execution_count": 1,
   "metadata": {
    "id": "0TjzN-iNof0n"
   },
   "outputs": [],
   "source": [
    "# Import required Python packages\n",
    "\n",
    "import numpy as np\n",
    "import pandas as pd\n",
    "\n",
    "from sklearn.decomposition import PCA\n",
    "from sklearn.preprocessing import StandardScaler\n",
    "import matplotlib.pyplot as plt\n",
    "\n",
    "from scipy.stats import pearsonr\n"
   ]
  },
  {
   "cell_type": "markdown",
   "metadata": {
    "id": "GYQkwOSrqFRq"
   },
   "source": [
    "## Functions\n"
   ]
  },
  {
   "cell_type": "code",
   "execution_count": 2,
   "metadata": {
    "id": "Vq2cQK_VqGe5"
   },
   "outputs": [],
   "source": [
    "\n",
    "# Define a function to obtain the explained variances from the PCA features.\n",
    "\n",
    "def plot_explained_variances(pca):\n",
    "\n",
    "    exp_var_pca = pca.explained_variance_ratio_\n",
    "\n",
    "    cum_sum_var = np.cumsum(exp_var_pca)\n",
    "    \n",
    "    plt.bar(range(1,len(exp_var_pca)+1), exp_var_pca, alpha=0.5, align='center',\n",
    "            label='Individual explained variance',color='dodgerblue')\n",
    "    plt.ylabel('Explained variance ratio')\n",
    "    plt.xlabel('Principal component')\n",
    "    plt.legend(loc='best')\n",
    "    plt.tight_layout()\n",
    "    plt.show()"
   ]
  },
  {
   "cell_type": "markdown",
   "metadata": {
    "id": "hJuvYNOlpJ1Z"
   },
   "source": [
    "## Data\n"
   ]
  },
  {
   "cell_type": "markdown",
   "metadata": {
    "id": "lovF0NrWpTWe"
   },
   "source": [
    "### Import data"
   ]
  },
  {
   "cell_type": "code",
   "execution_count": 3,
   "metadata": {
    "id": "urD5MJqzIazq"
   },
   "outputs": [],
   "source": [
    "# Import data\n",
    "## File 1: Standardised socio-economic variables published by the ABS\n",
    "## File 2: IER scores by Statistical Area 1 published by the ABS\n",
    "\n",
    "infolder = 'https://actuariesinstitute.github.io/cookbook/_static/daa_datasets/'\n",
    "\n",
    "file1 = 'standardised_variables_seifa_2021_cut.csv'\n",
    "file2 = 'IER_2021.csv'\n",
    "\n",
    "data1 = pd.read_csv(infolder + file1)\n",
    "data2 = pd.read_csv(infolder + file2)\n"
   ]
  },
  {
   "cell_type": "markdown",
   "metadata": {
    "id": "sS-NQGlIpTHG"
   },
   "source": [
    "### Explore data (EDA)"
   ]
  },
  {
   "cell_type": "code",
   "execution_count": 4,
   "metadata": {
    "colab": {
     "base_uri": "https://localhost:8080/",
     "height": 226
    },
    "id": "NFyjAJ1Dpe2l",
    "outputId": "640094cc-1b53-422c-b0d0-69dcd6e8fa7a"
   },
   "outputs": [
    {
     "data": {
      "text/html": [
       "<div>\n",
       "<style scoped>\n",
       "    .dataframe tbody tr th:only-of-type {\n",
       "        vertical-align: middle;\n",
       "    }\n",
       "\n",
       "    .dataframe tbody tr th {\n",
       "        vertical-align: top;\n",
       "    }\n",
       "\n",
       "    .dataframe thead th {\n",
       "        text-align: right;\n",
       "    }\n",
       "</style>\n",
       "<table border=\"1\" class=\"dataframe\">\n",
       "  <thead>\n",
       "    <tr style=\"text-align: right;\">\n",
       "      <th></th>\n",
       "      <th>SA1_2021</th>\n",
       "      <th>INC_LOW</th>\n",
       "      <th>INC_HIGH</th>\n",
       "      <th>UNEMPLOYED_IER</th>\n",
       "      <th>HIGHBED</th>\n",
       "      <th>HIGHMORTGAGE</th>\n",
       "      <th>LOWRENT</th>\n",
       "      <th>OWNING</th>\n",
       "      <th>MORTGAGE</th>\n",
       "      <th>GROUP</th>\n",
       "      <th>LONE</th>\n",
       "      <th>OVERCROWD</th>\n",
       "      <th>NOCAR</th>\n",
       "      <th>ONEPARENT</th>\n",
       "      <th>UNINCORP</th>\n",
       "    </tr>\n",
       "  </thead>\n",
       "  <tbody>\n",
       "    <tr>\n",
       "      <th>0</th>\n",
       "      <td>10102100701</td>\n",
       "      <td>0.031160</td>\n",
       "      <td>-0.451226</td>\n",
       "      <td>-0.640348</td>\n",
       "      <td>0.002302</td>\n",
       "      <td>-0.315616</td>\n",
       "      <td>-0.195546</td>\n",
       "      <td>1.265090</td>\n",
       "      <td>0.248182</td>\n",
       "      <td>-0.906393</td>\n",
       "      <td>0.352968</td>\n",
       "      <td>0.197170</td>\n",
       "      <td>-0.361674</td>\n",
       "      <td>-0.087881</td>\n",
       "      <td>0.533110</td>\n",
       "    </tr>\n",
       "    <tr>\n",
       "      <th>1</th>\n",
       "      <td>10102100702</td>\n",
       "      <td>-0.745478</td>\n",
       "      <td>0.235597</td>\n",
       "      <td>-0.640348</td>\n",
       "      <td>0.740474</td>\n",
       "      <td>-0.011638</td>\n",
       "      <td>-0.300570</td>\n",
       "      <td>2.303529</td>\n",
       "      <td>-0.853053</td>\n",
       "      <td>-0.906393</td>\n",
       "      <td>0.315177</td>\n",
       "      <td>-0.151010</td>\n",
       "      <td>-0.737816</td>\n",
       "      <td>-1.513208</td>\n",
       "      <td>1.846095</td>\n",
       "    </tr>\n",
       "    <tr>\n",
       "      <th>2</th>\n",
       "      <td>10102100703</td>\n",
       "      <td>0.207462</td>\n",
       "      <td>-0.333816</td>\n",
       "      <td>-1.026506</td>\n",
       "      <td>-0.412767</td>\n",
       "      <td>-0.914661</td>\n",
       "      <td>0.039633</td>\n",
       "      <td>0.596459</td>\n",
       "      <td>-0.596547</td>\n",
       "      <td>-0.491148</td>\n",
       "      <td>0.676963</td>\n",
       "      <td>-0.101682</td>\n",
       "      <td>-0.425240</td>\n",
       "      <td>0.078716</td>\n",
       "      <td>0.486319</td>\n",
       "    </tr>\n",
       "    <tr>\n",
       "      <th>3</th>\n",
       "      <td>10102100704</td>\n",
       "      <td>0.383411</td>\n",
       "      <td>-0.417133</td>\n",
       "      <td>-0.635951</td>\n",
       "      <td>-0.958854</td>\n",
       "      <td>-0.394348</td>\n",
       "      <td>0.175210</td>\n",
       "      <td>1.052949</td>\n",
       "      <td>-0.732048</td>\n",
       "      <td>-0.553435</td>\n",
       "      <td>1.376609</td>\n",
       "      <td>-0.402858</td>\n",
       "      <td>-0.528653</td>\n",
       "      <td>0.949299</td>\n",
       "      <td>0.808398</td>\n",
       "    </tr>\n",
       "    <tr>\n",
       "      <th>4</th>\n",
       "      <td>10102100705</td>\n",
       "      <td>0.334499</td>\n",
       "      <td>0.256282</td>\n",
       "      <td>-0.022986</td>\n",
       "      <td>-0.403616</td>\n",
       "      <td>-0.585547</td>\n",
       "      <td>-0.369140</td>\n",
       "      <td>0.660152</td>\n",
       "      <td>-0.591981</td>\n",
       "      <td>-0.906393</td>\n",
       "      <td>0.951129</td>\n",
       "      <td>-0.710058</td>\n",
       "      <td>-0.477578</td>\n",
       "      <td>-1.048310</td>\n",
       "      <td>0.795448</td>\n",
       "    </tr>\n",
       "  </tbody>\n",
       "</table>\n",
       "</div>"
      ],
      "text/plain": [
       "      SA1_2021   INC_LOW  INC_HIGH  UNEMPLOYED_IER   HIGHBED  HIGHMORTGAGE  \\\n",
       "0  10102100701  0.031160 -0.451226       -0.640348  0.002302     -0.315616   \n",
       "1  10102100702 -0.745478  0.235597       -0.640348  0.740474     -0.011638   \n",
       "2  10102100703  0.207462 -0.333816       -1.026506 -0.412767     -0.914661   \n",
       "3  10102100704  0.383411 -0.417133       -0.635951 -0.958854     -0.394348   \n",
       "4  10102100705  0.334499  0.256282       -0.022986 -0.403616     -0.585547   \n",
       "\n",
       "    LOWRENT    OWNING  MORTGAGE     GROUP      LONE  OVERCROWD     NOCAR  \\\n",
       "0 -0.195546  1.265090  0.248182 -0.906393  0.352968   0.197170 -0.361674   \n",
       "1 -0.300570  2.303529 -0.853053 -0.906393  0.315177  -0.151010 -0.737816   \n",
       "2  0.039633  0.596459 -0.596547 -0.491148  0.676963  -0.101682 -0.425240   \n",
       "3  0.175210  1.052949 -0.732048 -0.553435  1.376609  -0.402858 -0.528653   \n",
       "4 -0.369140  0.660152 -0.591981 -0.906393  0.951129  -0.710058 -0.477578   \n",
       "\n",
       "   ONEPARENT  UNINCORP  \n",
       "0  -0.087881  0.533110  \n",
       "1  -1.513208  1.846095  \n",
       "2   0.078716  0.486319  \n",
       "3   0.949299  0.808398  \n",
       "4  -1.048310  0.795448  "
      ]
     },
     "execution_count": 4,
     "metadata": {},
     "output_type": "execute_result"
    }
   ],
   "source": [
    "## Inspect data\n",
    "\n",
    "data1.head()\n"
   ]
  },
  {
   "cell_type": "code",
   "execution_count": 5,
   "metadata": {
    "colab": {
     "base_uri": "https://localhost:8080/",
     "height": 206
    },
    "id": "O8HJAnG-Snrm",
    "outputId": "8f0433bd-35eb-4323-9a6b-2f3c90cdb0e3"
   },
   "outputs": [
    {
     "data": {
      "text/html": [
       "<div>\n",
       "<style scoped>\n",
       "    .dataframe tbody tr th:only-of-type {\n",
       "        vertical-align: middle;\n",
       "    }\n",
       "\n",
       "    .dataframe tbody tr th {\n",
       "        vertical-align: top;\n",
       "    }\n",
       "\n",
       "    .dataframe thead th {\n",
       "        text-align: right;\n",
       "    }\n",
       "</style>\n",
       "<table border=\"1\" class=\"dataframe\">\n",
       "  <thead>\n",
       "    <tr style=\"text-align: right;\">\n",
       "      <th></th>\n",
       "      <th>SA1_2021</th>\n",
       "      <th>IER_2021</th>\n",
       "    </tr>\n",
       "  </thead>\n",
       "  <tbody>\n",
       "    <tr>\n",
       "      <th>0</th>\n",
       "      <td>10102100701</td>\n",
       "      <td>1023.037282</td>\n",
       "    </tr>\n",
       "    <tr>\n",
       "      <th>1</th>\n",
       "      <td>10102100702</td>\n",
       "      <td>1088.576036</td>\n",
       "    </tr>\n",
       "    <tr>\n",
       "      <th>2</th>\n",
       "      <td>10102100703</td>\n",
       "      <td>986.1022032</td>\n",
       "    </tr>\n",
       "    <tr>\n",
       "      <th>3</th>\n",
       "      <td>10102100704</td>\n",
       "      <td>965.4964701</td>\n",
       "    </tr>\n",
       "    <tr>\n",
       "      <th>4</th>\n",
       "      <td>10102100705</td>\n",
       "      <td>1013.432808</td>\n",
       "    </tr>\n",
       "  </tbody>\n",
       "</table>\n",
       "</div>"
      ],
      "text/plain": [
       "      SA1_2021     IER_2021\n",
       "0  10102100701  1023.037282\n",
       "1  10102100702  1088.576036\n",
       "2  10102100703  986.1022032\n",
       "3  10102100704  965.4964701\n",
       "4  10102100705  1013.432808"
      ]
     },
     "execution_count": 5,
     "metadata": {},
     "output_type": "execute_result"
    }
   ],
   "source": [
    "data2.head()"
   ]
  },
  {
   "cell_type": "markdown",
   "metadata": {
    "id": "jHcf9W8Tpfo3"
   },
   "source": [
    "### Prepare data"
   ]
  },
  {
   "cell_type": "markdown",
   "metadata": {
    "id": "_led5PnxYIRT"
   },
   "source": [
    "#### Dataset 1\n",
    "\n",
    "| Variable name | Variable description |\n",
    "|---------------|----------------------|\n",
    "| INC_LOW | Per cent of people living in households with stated annual household equivalised income between $1 and $25,999 (approx. 1st and 2nd deciles) |\n",
    "| LOWRENT | Per cent of occupied private dwellings paying rent less than $250 per week (excluding $0 per week) |\n",
    "| NOCAR | Per cent of occupied private dwellings with no cars |\n",
    "| LONE | Per cent of occupied private dwellings who are lone person occupied private dwellings |\n",
    "| ONEPARENT | Per cent of one parent families with dependent offspring only |\n",
    "| OVERCROWD | Per cent of occupied private dwellings requiring one or more extra bedrooms (based on Canadian National Occupancy Standard) |\n",
    "| UNEMPLOYED_IER | Per cent of people aged 15 years and over who are unemployed |\n",
    "| GROUP | Per cent of occupied private dwellings who are group occupied private dwellings |\n",
    "| OWNING | Per cent of occupied private dwellings owning dwelling without a mortgage |\n",
    "| UNINCORP | Per cent of dwellings with at least one person who is an owner of an unincorporated enterprise |\n",
    "| INC_HIGH | Per cent of people with stated annual household equivalised income greater than $91,000 |\n",
    "| HIGHMORTGAGE | Per cent of occupied private dwellings paying mortgage greater than $2,800 per month |\n",
    "| MORTGAGE | Per cent of occupied private dwellings owning dwelling (with a mortgage) |\n",
    "| HIGHBED | Per cent of occupied private dwellings with four or more bedrooms |\n",
    "\"\"\"\n"
   ]
  },
  {
   "cell_type": "code",
   "execution_count": 6,
   "metadata": {},
   "outputs": [],
   "source": [
    "# Select variables ABS uses to calibrate the IER (per their methodology)\n",
    "\n",
    "variable_IER = [\n",
    "    'SA1_2021',\n",
    "    'INC_LOW',\n",
    "    'LOWRENT',\n",
    "    'NOCAR',\n",
    "    'LONE',\n",
    "    'ONEPARENT',\n",
    "    'OVERCROWD',\n",
    "    'UNEMPLOYED_IER',\n",
    "    'GROUP',\n",
    "    'OWNING',\n",
    "    'UNINCORP',\n",
    "    'INC_HIGH',\n",
    "    'HIGHMORTGAGE',\n",
    "    'MORTGAGE',\n",
    "    'HIGHBED'\n",
    "\n",
    "]\n",
    "\n",
    "data1_IER = data1[variable_IER]\n"
   ]
  },
  {
   "cell_type": "code",
   "execution_count": 7,
   "metadata": {},
   "outputs": [
    {
     "name": "stdout",
     "output_type": "stream",
     "text": [
      "<class 'pandas.core.frame.DataFrame'>\n",
      "RangeIndex: 59430 entries, 0 to 59429\n",
      "Data columns (total 15 columns):\n",
      " #   Column          Non-Null Count  Dtype  \n",
      "---  ------          --------------  -----  \n",
      " 0   SA1_2021        59430 non-null  int64  \n",
      " 1   INC_LOW         59427 non-null  float64\n",
      " 2   LOWRENT         59400 non-null  float64\n",
      " 3   NOCAR           59422 non-null  float64\n",
      " 4   LONE            59430 non-null  float64\n",
      " 5   ONEPARENT       59319 non-null  float64\n",
      " 6   OVERCROWD       59417 non-null  float64\n",
      " 7   UNEMPLOYED_IER  59429 non-null  float64\n",
      " 8   GROUP           59430 non-null  float64\n",
      " 9   OWNING          59423 non-null  float64\n",
      " 10  UNINCORP        59430 non-null  float64\n",
      " 11  INC_HIGH        59427 non-null  float64\n",
      " 12  HIGHMORTGAGE    59400 non-null  float64\n",
      " 13  MORTGAGE        59423 non-null  float64\n",
      " 14  HIGHBED         59422 non-null  float64\n",
      "dtypes: float64(14), int64(1)\n",
      "memory usage: 6.8 MB\n"
     ]
    }
   ],
   "source": [
    "# Inspect data type for these variables\n",
    "\n",
    "data1_IER.info()"
   ]
  },
  {
   "cell_type": "code",
   "execution_count": 8,
   "metadata": {},
   "outputs": [
    {
     "name": "stdout",
     "output_type": "stream",
     "text": [
      "SA1_2021            0\n",
      "INC_LOW             3\n",
      "LOWRENT            30\n",
      "NOCAR               8\n",
      "LONE                0\n",
      "ONEPARENT         111\n",
      "OVERCROWD          13\n",
      "UNEMPLOYED_IER      1\n",
      "GROUP               0\n",
      "OWNING              7\n",
      "UNINCORP            0\n",
      "INC_HIGH            3\n",
      "HIGHMORTGAGE       30\n",
      "MORTGAGE            7\n",
      "HIGHBED             8\n",
      "dtype: int64\n"
     ]
    }
   ],
   "source": [
    "# Remove missing values\n",
    "\n",
    "print(data1_IER.isna().sum())\n",
    "data1_IER_dropna = data1_IER.dropna()"
   ]
  },
  {
   "cell_type": "code",
   "execution_count": 9,
   "metadata": {
    "colab": {
     "base_uri": "https://localhost:8080/"
    },
    "id": "SzzD-qo8phpn",
    "outputId": "8c66096b-9428-4483-9aee-7434ccb19a2d"
   },
   "outputs": [
    {
     "name": "stdout",
     "output_type": "stream",
     "text": [
      "       SA1_2021   INC_LOW   LOWRENT     NOCAR      LONE  ONEPARENT  OVERCROWD  \\\n",
      "50  10102100921 -0.694978 -0.149470  0.026395  2.161618   0.016894   0.614584   \n",
      "51  10102100923 -0.399570 -0.230663 -0.392438  0.346039   0.479932  -0.327006   \n",
      "53  10102100925 -1.184584 -0.369694 -0.584525  1.995606   1.010923   0.163947   \n",
      "54  10102100926 -0.755434  0.636737  0.194704  1.770099  -0.418760   0.828480   \n",
      "55  10102100927 -0.534872 -0.113768 -0.443336 -0.248692  -0.929502   0.042116   \n",
      "\n",
      "    UNEMPLOYED_IER     GROUP    OWNING  UNINCORP  INC_HIGH  HIGHMORTGAGE  \\\n",
      "50       -0.768433 -0.298797 -1.379936 -1.409706  0.565708     -0.711816   \n",
      "51       -0.502225 -0.435782 -0.068099 -1.078581  0.417556     -0.309550   \n",
      "53        0.393123  0.492720 -1.552475 -0.869567  0.401089     -0.914661   \n",
      "54        0.562322  1.018832 -1.283807 -0.853606 -0.501616     -0.914661   \n",
      "55       -0.591322  0.001803 -0.652794 -0.622710  0.248079      0.145029   \n",
      "\n",
      "    MORTGAGE   HIGHBED  \n",
      "50 -0.075949 -1.407022  \n",
      "51  0.780225  0.198026  \n",
      "53 -0.382142 -1.473097  \n",
      "54 -1.468772 -1.443632  \n",
      "55  0.547895  0.465557  \n",
      "[[-6.97384349e-01 -1.49102654e-01  2.73842498e-02  2.18456511e+00\n",
      "   1.68271418e-02  6.21443888e-01 -7.82538918e-01 -3.01193486e-01\n",
      "  -1.38687638e+00 -1.42934823e+00  5.65712045e-01 -7.14208804e-01\n",
      "  -8.01255787e-02 -1.41014150e+00]\n",
      " [-4.00578528e-01 -2.30600290e-01 -3.93807726e-01  3.52373086e-01\n",
      "   4.80225191e-01 -3.29406608e-01 -5.11392783e-01 -4.39108873e-01\n",
      "  -7.01834243e-02 -1.09373813e+00  4.17385805e-01 -3.11130864e-01\n",
      "   7.79986710e-01  1.96337876e-01]\n",
      " [-1.18930828e+00 -3.70152778e-01 -5.86976088e-01  2.01703428e+00\n",
      "   1.01162817e+00  1.66375413e-01  4.00564091e-01  4.95697733e-01\n",
      "  -1.56005434e+00 -8.81893199e-01  4.00899556e-01 -9.17462999e-01\n",
      "  -3.87727179e-01 -1.47627516e+00]\n",
      " [-7.58127412e-01  6.40055426e-01  1.96640397e-01  1.78946385e+00\n",
      "  -4.19164718e-01  8.37443911e-01  5.72902051e-01  1.02538267e+00\n",
      "  -1.29039226e+00 -8.65715951e-01 -5.02866086e-01 -9.17462999e-01\n",
      "  -1.47935650e+00 -1.44678433e+00]\n",
      " [-5.36520854e-01 -1.13266264e-01 -4.44992083e-01 -2.47800227e-01\n",
      "  -9.30303140e-01  4.33461879e-02 -6.02142493e-01  1.44766450e-03\n",
      "  -6.57042865e-01 -6.31693191e-01  2.47710087e-01  1.44364950e-01\n",
      "   5.46588117e-01  4.64107182e-01]]\n"
     ]
    }
   ],
   "source": [
    "\n",
    "# Perform PCA\n",
    "\n",
    "## Initiate the PCA.\n",
    "pca_data = data1_IER_dropna.iloc[:,1:]\n",
    "\n",
    "## Prep data for PCA modelling later\n",
    "sc = StandardScaler()\n",
    "sc.fit(pca_data)\n",
    "pca_data = sc.transform(pca_data)\n",
    "\n",
    "## Inspect outputs, each row represents a SA1 \n",
    "\n",
    "print(data1_IER_dropna[50:55])\n",
    "print(pca_data[50:55])"
   ]
  },
  {
   "cell_type": "markdown",
   "metadata": {
    "id": "-3n3p9ZLYK7z"
   },
   "source": [
    "#### Compare against published IER score"
   ]
  },
  {
   "cell_type": "code",
   "execution_count": 10,
   "metadata": {
    "colab": {
     "base_uri": "https://localhost:8080/"
    },
    "id": "eXRyMNfFDVD-",
    "outputId": "fe4b3da6-55e2-437a-966a-7244c9443c10"
   },
   "outputs": [
    {
     "name": "stdout",
     "output_type": "stream",
     "text": [
      "<class 'pandas.core.frame.DataFrame'>\n",
      "RangeIndex: 59421 entries, 0 to 59420\n",
      "Data columns (total 2 columns):\n",
      " #   Column    Non-Null Count  Dtype  \n",
      "---  ------    --------------  -----  \n",
      " 0   SA1_2021  59421 non-null  int64  \n",
      " 1   IER_2021  59303 non-null  float64\n",
      "dtypes: float64(1), int64(1)\n",
      "memory usage: 928.6 KB\n",
      "None\n",
      "\n",
      "\n",
      "      SA1_2021     IER_2021\n",
      "0  10102100701  1023.037282\n",
      "1  10102100702  1088.576036\n",
      "2  10102100703   986.102203\n",
      "3  10102100704   965.496470\n",
      "4  10102100705  1013.432808\n",
      "\n",
      "\n",
      "SA1_2021      0\n",
      "IER_2021    118\n",
      "dtype: int64\n"
     ]
    }
   ],
   "source": [
    "\n",
    "# Extract first two columns in the desired data type\n",
    "\n",
    "ABS_IER_S1 = data2.iloc[:, [0, 1]]\n",
    "\n",
    "ABS_IER_S1['IER_2021'] = pd.to_numeric(ABS_IER_S1['IER_2021'],\n",
    "                                        errors='coerce')\n",
    "ABS_IER_S1['SA1_2021'] = pd.to_numeric(ABS_IER_S1['SA1_2021'],\n",
    "                                        errors='coerce', downcast='integer')\n",
    "\n",
    "\n",
    "print(ABS_IER_S1.info())\n",
    "print('\\n')\n",
    "print(ABS_IER_S1.head())\n",
    "print('\\n')\n",
    "print(ABS_IER_S1.isna().sum())"
   ]
  },
  {
   "cell_type": "code",
   "execution_count": 11,
   "metadata": {},
   "outputs": [
    {
     "name": "stdout",
     "output_type": "stream",
     "text": [
      "SA1_2021      0\n",
      "IER_2021    118\n",
      "dtype: int64\n",
      "59303\n",
      "59303\n"
     ]
    }
   ],
   "source": [
    "## Remove missing value\n",
    "\n",
    "print(ABS_IER_S1.isna().sum())\n",
    "ABS_IER_S1_dropna = ABS_IER_S1.dropna()\n",
    "\n",
    "print(len(data1_IER_dropna))\n",
    "print(len(ABS_IER_S1_dropna))\n"
   ]
  },
  {
   "cell_type": "code",
   "execution_count": 12,
   "metadata": {},
   "outputs": [],
   "source": [
    "join = pd.merge(ABS_IER_S1_dropna, data1_IER_dropna, how = 'left', on = 'SA1_2021')\n",
    "#join.to_csv('check_join.csv')"
   ]
  },
  {
   "cell_type": "markdown",
   "metadata": {
    "id": "RbVApXlRNGxc"
   },
   "source": [
    "## Modelling\n",
    "This section performs the PCA to recreate the ABS's IER Index."
   ]
  },
  {
   "cell_type": "markdown",
   "metadata": {
    "id": "G7GFB5a0NYlv"
   },
   "source": [
    "### Fit the model"
   ]
  },
  {
   "cell_type": "code",
   "execution_count": 13,
   "metadata": {
    "colab": {
     "base_uri": "https://localhost:8080/",
     "height": 297
    },
    "id": "cBaaLohENFnQ",
    "outputId": "5571fdab-2562-4492-f4f3-7b81842816d3"
   },
   "outputs": [
    {
     "data": {
      "image/png": "[encoded data removed]",
      "text/plain": [
       "<Figure size 640x480 with 1 Axes>"
      ]
     },
     "metadata": {},
     "output_type": "display_data"
    }
   ],
   "source": [
    "\n",
    "# Initiate the PCA.\n",
    "pca = PCA()\n",
    "\n",
    "# Fit the PCA model to determine the transformed features.\n",
    "pca.fit_transform(pca_data)\n",
    "\n",
    "# Plot variance explained by principal components\n",
    "plot_explained_variances(pca)"
   ]
  },
  {
   "cell_type": "markdown",
   "metadata": {
    "id": "unyVI39kNcfX"
   },
   "source": [
    "Principal component 1 (PC1) explains over 30% of the variance in the data. PC1 is used as the basis of calculating the IER. "
   ]
  },
  {
   "cell_type": "code",
   "execution_count": 14,
   "metadata": {
    "colab": {
     "base_uri": "https://localhost:8080/"
    },
    "id": "WXU3xxJA2mT0",
    "outputId": "6bc847e3-5624-4446-adde-2f42e1d4ab2b"
   },
   "outputs": [
    {
     "name": "stdout",
     "output_type": "stream",
     "text": [
      "[ 0.32791953  0.32001365  0.31651578  0.3077993   0.24378481  0.23155534\n",
      "  0.21769425  0.1757376  -0.1520873  -0.21158613 -0.23359675 -0.28563562\n",
      " -0.29586762 -0.33499547]\n"
     ]
    }
   ],
   "source": [
    "# Inspect principal component for an SA1 (first row)\n",
    "\n",
    "print(pca.components_[0])"
   ]
  },
  {
   "cell_type": "code",
   "execution_count": 15,
   "metadata": {
    "colab": {
     "base_uri": "https://localhost:8080/"
    },
    "id": "T354nCp84DNe",
    "outputId": "f273ea98-9e0d-482e-e501-ed8933c1fda3"
   },
   "outputs": [
    {
     "name": "stdout",
     "output_type": "stream",
     "text": [
      "[ 0.51729472  1.97543921 -0.30169348 ... -0.7857405  -1.70281309\n",
      " -0.11693581]\n"
     ]
    }
   ],
   "source": [
    "# Reverse sign (per ABS methodology)\n",
    "\n",
    "pca_data_transformed = -1.0*pca.fit_transform(pca_data)\n",
    "    \n",
    "print(pca_data_transformed[:,0])"
   ]
  },
  {
   "cell_type": "code",
   "execution_count": 16,
   "metadata": {
    "colab": {
     "base_uri": "https://localhost:8080/"
    },
    "id": "hkazVxm44xHt",
    "outputId": "69510bf0-679c-4cbf-c760-dd24dac5ff8b"
   },
   "outputs": [
    {
     "name": "stdout",
     "output_type": "stream",
     "text": [
      "          SA1_2021  IER_2021\n",
      "59298  90104100401  0.022187\n",
      "59299  90104100402 -0.055935\n",
      "59300  90104100403 -0.785740\n",
      "59301  90104100404 -1.702813\n",
      "59302  90104100407 -0.116936\n"
     ]
    }
   ],
   "source": [
    "\n",
    "# Establish a dataframe of first principal component by SA1 identifier / code\n",
    "\n",
    "pca1 = pd.DataFrame(pca_data_transformed[:,0], columns = ['IER_2021'])\n",
    "#pca1.to_csv('check_pca1.csv')\n",
    "\n",
    "IER_S1 = pd.concat([data1_IER_dropna['SA1_2021'].reset_index(drop=True), pca1]\n",
    "                    , axis=1)\n",
    "\n",
    "print(IER_S1.tail())\n"
   ]
  },
  {
   "cell_type": "code",
   "execution_count": 17,
   "metadata": {
    "colab": {
     "base_uri": "https://localhost:8080/"
    },
    "id": "LmyGgnzi6fNV",
    "outputId": "b9b2967b-1f23-422c-f25a-154661d5cba5"
   },
   "outputs": [
    {
     "name": "stdout",
     "output_type": "stream",
     "text": [
      "          SA1_2021  IER_2021  IER_recreated\n",
      "59298  90104100401  0.022187    1000.995399\n",
      "59299  90104100402 -0.055935     997.490510\n",
      "59300  90104100403 -0.785740     964.748521\n",
      "59301  90104100404 -1.702813     923.604956\n",
      "59302  90104100407 -0.116936     994.753789\n"
     ]
    }
   ],
   "source": [
    "# Standardise calibrated IER scores to mean of 1,000 and standard deviation of 100 (per ABS methodology)\n",
    "\n",
    "IER_S1['IER_recreated'] = (IER_S1['IER_2021']/IER_S1['IER_2021'].std())*100+1000\n",
    "\n",
    "print(IER_S1.tail())\n"
   ]
  },
  {
   "cell_type": "code",
   "execution_count": 18,
   "metadata": {
    "colab": {
     "base_uri": "https://localhost:8080/",
     "height": 295
    },
    "id": "t9j9bFXW7fnM",
    "outputId": "849f59a8-3eb0-43d5-cc27-c108a206e098"
   },
   "outputs": [
    {
     "data": {
      "image/png": "[encoded data removed]",
      "text/plain": [
       "<Figure size 640x480 with 1 Axes>"
      ]
     },
     "metadata": {},
     "output_type": "display_data"
    }
   ],
   "source": [
    "# Plot histogram of calibrated IER scores\n",
    "\n",
    "IER_S1.hist(column='IER_recreated', bins=100, color='dodgerblue')\n",
    "plt.title('Distribution of recreated IER scores')\n",
    "plt.xlabel('IER score')\n",
    "plt.ylabel('Frequency')\n",
    "\n",
    "plt.show()\n"
   ]
  },
  {
   "cell_type": "markdown",
   "metadata": {
    "id": "UmWfV1RrWXLl"
   },
   "source": [
    "### Evaluate the model\n"
   ]
  },
  {
   "cell_type": "code",
   "execution_count": 19,
   "metadata": {
    "colab": {
     "base_uri": "https://localhost:8080/",
     "height": 295
    },
    "id": "MquUyRp36381",
    "outputId": "45a48a8d-1fb5-4639-9c68-746cf4389bd7"
   },
   "outputs": [
    {
     "data": {
      "image/png": "[encoded data removed]",
      "text/plain": [
       "<Figure size 640x480 with 1 Axes>"
      ]
     },
     "metadata": {},
     "output_type": "display_data"
    }
   ],
   "source": [
    "# Plot histogram of publisehd IER scores\n",
    "\n",
    "ABS_IER_S1_dropna.hist(column='IER_2021', bins=100, color='dodgerblue')\n",
    "plt.title('Distribution of ABS IER scores')\n",
    "plt.xlabel('IER score')\n",
    "plt.ylabel('Frequency')\n",
    "\n",
    "plt.show()\n",
    "\n",
    "ABS_IER_S1_dropna.to_csv('check_ABS_IER_S1_dropna.csv')"
   ]
  },
  {
   "cell_type": "markdown",
   "metadata": {
    "id": "uCtBfZBNZQob"
   },
   "source": [
    "The two histograms are very similar in shape!"
   ]
  },
  {
   "cell_type": "code",
   "execution_count": 20,
   "metadata": {},
   "outputs": [],
   "source": [
    "# Extract columns we need\n",
    "\n",
    "IER_S1_reduce = IER_S1[['SA1_2021', 'IER_recreated']]"
   ]
  },
  {
   "cell_type": "code",
   "execution_count": 21,
   "metadata": {
    "colab": {
     "base_uri": "https://localhost:8080/"
    },
    "id": "xedTJD4W8Vrb",
    "outputId": "3a4e954d-1e9c-41ed-9125-7b8585f4618b"
   },
   "outputs": [
    {
     "name": "stdout",
     "output_type": "stream",
     "text": [
      "          SA1_2021     IER_2021  IER_recreated\n",
      "59298  90104100401  1000.369129    1000.995399\n",
      "59299  90104100402   996.979765     997.490510\n",
      "59300  90104100403   964.139169     964.748521\n",
      "59301  90104100404   923.050144     923.604956\n",
      "59302  90104100407   994.377312     994.753789\n"
     ]
    }
   ],
   "source": [
    "# Merge data frame (for plotting later)\n",
    "\n",
    "IER_join = pd.merge(ABS_IER_S1_dropna, IER_S1_reduce, how = 'left', on = 'SA1_2021')\n",
    "\n",
    "print(IER_join.tail())\n",
    "\n",
    "#IER_join.to_csv('check.csv')"
   ]
  },
  {
   "cell_type": "code",
   "execution_count": 22,
   "metadata": {},
   "outputs": [
    {
     "data": {
      "text/plain": [
       "SA1_2021         0\n",
       "IER_2021         0\n",
       "IER_recreated    0\n",
       "dtype: int64"
      ]
     },
     "execution_count": 22,
     "metadata": {},
     "output_type": "execute_result"
    }
   ],
   "source": [
    "# Check there's no missing value\n",
    "\n",
    "IER_join.isna().sum()"
   ]
  },
  {
   "cell_type": "code",
   "execution_count": 23,
   "metadata": {
    "colab": {
     "base_uri": "https://localhost:8080/",
     "height": 295
    },
    "id": "eZwkSl6ikN9H",
    "outputId": "d66571ce-c48f-4919-b60c-74fde3ab1b36"
   },
   "outputs": [
    {
     "data": {
      "image/png": "[encoded data removed]",
      "text/plain": [
       "<Figure size 640x480 with 1 Axes>"
      ]
     },
     "metadata": {},
     "output_type": "display_data"
    }
   ],
   "source": [
    "# Plot calibrated score vs. published score\n",
    "\n",
    "plt.scatter('IER_recreated', 'IER_2021', data = IER_join, color='dodgerblue')\n",
    "plt.title('Comparison of recreated and ABS IER scores')\n",
    "plt.xlabel('Recreated IER score')\n",
    "plt.ylabel('ABS IER score')\n",
    "\n",
    "plt.show()\n"
   ]
  },
  {
   "cell_type": "markdown",
   "metadata": {
    "id": "_xErYsU8lEuE"
   },
   "source": [
    "The above scatter plot shows that the two sets of indexes are very closely aligned."
   ]
  },
  {
   "cell_type": "code",
   "execution_count": 24,
   "metadata": {
    "colab": {
     "base_uri": "https://localhost:8080/"
    },
    "id": "aCwRr1D9lJmi",
    "outputId": "59fdfb18-b402-492d-e908-e44bd315e98b"
   },
   "outputs": [
    {
     "name": "stdout",
     "output_type": "stream",
     "text": [
      "The correlation between the ABS and recreated index is: 0.9999962803262905\n"
     ]
    }
   ],
   "source": [
    "# Inspect correlation\n",
    "\n",
    "correlation, _ = pearsonr(IER_join['IER_recreated'], IER_join['IER_2021'])\n",
    "print('The correlation between the ABS and recreated index is: '+str(correlation))"
   ]
  }
 ],
 "metadata": {
  "colab": {
   "provenance": [],
   "toc_visible": true
  },
  "kernelspec": {
   "display_name": "Python 3 (ipykernel)",
   "language": "python",
   "name": "python3"
  },
  "language_info": {
   "codemirror_mode": {
    "name": "ipython",
    "version": 3
   },
   "file_extension": ".py",
   "mimetype": "text/x-python",
   "name": "python",
   "nbconvert_exporter": "python",
   "pygments_lexer": "ipython3",
   "version": "3.11.3"
  }
 },
 "nbformat": 4,
 "nbformat_minor": 1
}
