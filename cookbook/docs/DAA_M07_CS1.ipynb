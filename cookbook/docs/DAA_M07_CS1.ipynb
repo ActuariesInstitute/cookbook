{
 "cells": [
  {
   "cell_type": "markdown",
   "metadata": {
    "id": "njI8FKEItd9W"
   },
   "source": [
    "# Py: Classifying automative reviews\n",
    "Originally published in DAA M07 Natural language processing.\n",
    "## Case study 7.1 - Classifying automative reviews\n",
    "\n",
    "### Purpose:\n",
    "This notebook walks through the use of NLP to analyse customer sentiment. It forms the basis of Case Study 1 in Module 7 and is referenced in multiple exercises throughout the module.\n",
    "\n",
    "The objective of the case study is to identify 'complaints' from a sample of YELP reviews for automotive companies. YELP is a North American review service where customers review different service providers. Reviewers write a text review and are then asked to rate the service on a five point scale.\n",
    "\n",
    "### References:\n",
    "The dataset that is used in this case study was sourced from a Kaggle competition in which YELP provided a set of reviews: https://www.kaggle.com/yelp-dataset/yelp-dataset.\n",
    "\n",
    "It contains information about businesses across 8 metropolitan areas in the USA and Canada.\n",
    "\n",
    "For this case study, the dataset has been refined to contain 50,000 reviews for companies tagged as 'automotive'."
   ]
  },
  {
   "cell_type": "markdown",
   "metadata": {
    "id": "i6Y14-b-TExF"
   },
   "source": [
    "## Packages\n",
    "This section installs packages that will be required for this exercise/case study."
   ]
  },
  {
   "cell_type": "code",
   "execution_count": 1,
   "metadata": {
    "colab": {
     "base_uri": "https://localhost:8080/"
    },
    "id": "7yh6NJoqtd9h",
    "outputId": "232d97a7-9593-4f3e-83eb-875b63724ce3"
   },
   "outputs": [
    {
     "name": "stdout",
     "output_type": "stream",
     "text": [
      "[nltk_data] Downloading package punkt to /root/nltk_data...\n",
      "[nltk_data]   Unzipping tokenizers/punkt.zip.\n"
     ]
    }
   ],
   "source": [
    "import json # Json is used to load json files.\n",
    "import os # os is used to join paths for windows and unix use.\n",
    "import random # For random number generation.\n",
    "import time # Useful for timing processes.\n",
    "\n",
    "from collections import Counter # Counter provides a quick way to add items in a list.\n",
    "from collections import defaultdict # Enhanced mapping dictionary that can take a default value.\n",
    "import numpy as np # For mathematical operations.\n",
    "import matplotlib.pyplot as plt # For plotting.\n",
    "\n",
    "from nltk.tokenize import word_tokenize\n",
    "  # 'word_tokenize' is a tokeniser for natural language.\n",
    "  # There are many such options available.\n",
    "import nltk\n",
    "nltk.download('punkt')\n",
    "\n",
    "# Sklearn has many useful machine learning packages.\n",
    "# The following are used in the notebook.\n",
    "from sklearn.model_selection import train_test_split\n",
    "from sklearn.linear_model import LogisticRegression\n",
    "from sklearn.preprocessing import StandardScaler\n",
    "from sklearn import metrics\n",
    "\n",
    "# Used to upload a file to Colab.\n",
    "from google.colab import files\n",
    "\n",
    "# Package used in the confusion matrix function.\n",
    "import itertools\n"
   ]
  },
  {
   "cell_type": "markdown",
   "metadata": {
    "id": "HdyuBuTTTij1"
   },
   "source": [
    "## Functions\n",
    "This section defines functions that will be used for this exercise/case study."
   ]
  },
  {
   "cell_type": "code",
   "execution_count": 2,
   "metadata": {
    "id": "PNRRGSdqTjg5"
   },
   "outputs": [],
   "source": [
    "# Define a function to load a json data file.\n",
    "def load_json(data_set_name, dir = '', verbose=True):\n",
    "    '''\n",
    "    This is a function to load the yelp dataset which is stored in json format.\n",
    "    Use the optional dir argument if the file is not in the same directory\n",
    "    as the notebook.\n",
    "    '''\n",
    "    if verbose:\n",
    "        print('loading', data_set_name, 'data ', end = '')\n",
    "        # If the user has set Verbose = True (or omitted this argument),\n",
    "        # these lines of code provide a message to the person running the code\n",
    "        # that the dataset is being loaded.\n",
    "    \n",
    "    filename = os.path.join(dir, data_set_name)\n",
    "    f = open(filename, encoding='utf8')\n",
    "\n",
    "    data_set = list()\n",
    "    for counter, line in enumerate(f):\n",
    "        data_set.append(json.loads(line))\n",
    "        \n",
    "        if verbose and ((counter % 100000) == 0):\n",
    "            print('.', end='')\n",
    "            # If the dataset is very big, these lines of code print '.'s to\n",
    "            # show that the import step is progressing.\n",
    "\n",
    "    f.close()\n",
    "    \n",
    "    if verbose: \n",
    "        print(' {:,} observations have been imported.'.format(len(data_set)))\n",
    "        # This statement summarises the number of observations that have been\n",
    "        # imported from the dataset.\n",
    "    \n",
    "    return data_set"
   ]
  },
  {
   "cell_type": "code",
   "execution_count": 3,
   "metadata": {
    "id": "jSUuz1h_-8eM"
   },
   "outputs": [],
   "source": [
    "# Define a function to print the Yelp reviews neatly.\n",
    "def print_review(review):\n",
    "    for item in ['business_id', 'stars', 'funny', 'review_id', 'date', 'useful',\n",
    "                 'user_id', 'cool']:\n",
    "        print('{:<12s}: {:}'.format(item, review[item]))\n",
    "    print ('text: \"', review['text'], '\"', sep = '')\n",
    "    # The default for print() is to put a space between each argument. \n",
    "    # Here sep='' is used to overrule this.\n",
    "    print()\n",
    "    \n",
    "    return"
   ]
  },
  {
   "cell_type": "code",
   "execution_count": 4,
   "metadata": {
    "id": "jv_QA5aNAPMB"
   },
   "outputs": [],
   "source": [
    "# Define a function to select reviews with a certain rating (number of stars).\n",
    "def sample_with_rating(review_data, rating, sample_size):\n",
    "    select_data = [data_row for data_row in review_data \\\n",
    "                   if data_row['stars'] == rating]\n",
    "    review_sample = random.sample(select_data, sample_size)\n",
    "    return review_sample"
   ]
  },
  {
   "cell_type": "code",
   "execution_count": 5,
   "metadata": {
    "id": "9EzaYmgDBgtv"
   },
   "outputs": [],
   "source": [
    "# Define a function to format the summary of review ratings.\n",
    "def print_review_count(review_count):\n",
    "    head_format = '{:<7s}  {:>10s} {:>10s}'\n",
    "    row_format = '{:<7}  {:>10,} {:>10.1%}'\n",
    "    \n",
    "    print(head_format.format('Stars', 'Total', 'Percent'))\n",
    "    print(head_format.format('-----', '-----', '-------'))\n",
    "        \n",
    "    total_reviews = sum([count for count in review_count.values()])\n",
    "\n",
    "    # Add the percent to a dictionary indexed in the same way.\n",
    "    review_perc = dict()\n",
    "    for rating, review in review_count.items():\n",
    "        review_perc[rating] = review/total_reviews\n",
    "    \n",
    "    for k in range(5, 0, -1):\n",
    "        print(row_format.format(('*'*k), review_count[k], review_perc[k]))\n",
    "\n",
    "    print(head_format.format('','-------','-------'))\n",
    "    print(row_format.format('Total', total_reviews, 1))"
   ]
  },
  {
   "cell_type": "code",
   "execution_count": 6,
   "metadata": {
    "id": "vXjUDOUUjLVm"
   },
   "outputs": [],
   "source": [
    "# Define a function to print some example reviews based on a user input\n",
    "# of 'min', 'max', 'average' etc summary function.\n",
    "def print_certain_reviews(data, summ_func, descr):\n",
    "    # The 'summ_func' will be 'min', 'max', 'average', 'median' etc.\n",
    "    certain_review = summ_func([length for (review, length) in data])\n",
    "    reviews = [review for (review, length) in data if length == certain_review]\n",
    "    review_count = len(reviews)\n",
    "    if review_count == 1:\n",
    "        print(\"Below is the 1 {:s} review of {:,} words:\".format(descr, certain_review))\n",
    "    else:\n",
    "        print(\"Below are the {:,} {:s} reviews of {:,} words:\".format(review_count, descr, certain_review))\n",
    "      \n",
    "    for review in reviews:\n",
    "        print('\"',review,'\"')\n",
    "    print()"
   ]
  },
  {
   "cell_type": "code",
   "execution_count": 7,
   "metadata": {
    "id": "dzXLDKVKtd9_",
    "tags": []
   },
   "outputs": [],
   "source": [
    "# Define a function to perform the Bag of Words vectorisation.\n",
    "def vectorise_data(data_set, vocab):\n",
    "    matrix = []\n",
    "    for k, review in enumerate(data_set):\n",
    "        if k % 1000 == 0:\n",
    "            print('.', end='')\n",
    "            # Prints '.' every 1,000 reviews so that you\n",
    "            # know the code is still running.\n",
    "        token_count = Counter(review['tokens'])\n",
    "            # Create a count of all the unique tokens in the review.\n",
    "        matrix.append([token_count.get(token, 0) for token in vocab])\n",
    "            # The token counts for the review are added to 'matrix'. \n",
    "            # The 'get' function of Counter is used to return a 0\n",
    "            # for any tokens in the vocabulary that are not in a review.\n",
    "    print()\n",
    "    \n",
    "    return matrix"
   ]
  },
  {
   "cell_type": "code",
   "execution_count": 34,
   "metadata": {
    "id": "OJMAGu5EQCSF"
   },
   "outputs": [],
   "source": [
    "# Define a function to calculate a range of success metrics for a fitted model.\n",
    "def return_metrics(y, y_pred):\n",
    "    scores = dict()\n",
    "    scores['Accuracy'] = metrics.accuracy_score(y, y_pred)\n",
    "    scores['F1-score'] = metrics.f1_score(y, y_pred, average='binary', pos_label=True)\n",
    "    scores['Precision'] = metrics.precision_score(y, y_pred, pos_label=True)\n",
    "    scores['Recall'] = metrics.recall_score(y, y_pred, pos_label=True)   \n",
    "    scores['Confusion Matrix'] = metrics.confusion_matrix(y, y_pred)\n",
    "\n",
    "    return scores"
   ]
  },
  {
   "cell_type": "code",
   "execution_count": 31,
   "metadata": {
    "id": "pm8fM0QCTRaF"
   },
   "outputs": [],
   "source": [
    "# Define a function to plot confusion matrices in an easy to visualise format.\n",
    "def plot_confusion_matrix(cm, classes,\n",
    "                          title='Confusion matrix',\n",
    "                          cmap=plt.cm.Blues):\n",
    "    '''\n",
    "    This function prints and plots a nicely formatted confusion matrix.\n",
    "    '''\n",
    "    plt.imshow(cm, interpolation='nearest', cmap=cmap)\n",
    "    plt.title(title)\n",
    "    plt.colorbar()\n",
    "    tick_marks = np.arange(len(classes))\n",
    "    plt.xticks(tick_marks, classes, rotation=45)\n",
    "    plt.yticks(tick_marks, classes)\n",
    "\n",
    "    thresh = cm.max() / 2.\n",
    "    for i, j in itertools.product(range(cm.shape[0]), range(cm.shape[1])):\n",
    "        plt.text(j, i, cm[i, j],\n",
    "                 horizontalalignment='center',\n",
    "                 color='white' if cm[i, j] > thresh else 'black')\n",
    "\n",
    "    plt.tight_layout()\n",
    "    plt.ylabel('True response')\n",
    "    plt.xlabel('Predicted response')"
   ]
  },
  {
   "cell_type": "code",
   "execution_count": 32,
   "metadata": {
    "id": "VnItZVATQlGN"
   },
   "outputs": [],
   "source": [
    "# Define a function to print out the success metrics of a model.\n",
    "def print_scores(scores, confused = False):\n",
    "    print(('{:^9} '*4).format(*scores.keys()))\n",
    "    print(('{:^9.1%} '*4).format(*scores.values()))\n",
    "\n",
    "    if confused:\n",
    "            plot_confusion_matrix(scores['Confusion Matrix'],\n",
    "                                   classes = ['Non-complaint', 'Complaint'])"
   ]
  },
  {
   "cell_type": "markdown",
   "metadata": {
    "id": "upjgBFUTTmId"
   },
   "source": [
    "## Data\n",
    "This section:\n",
    "- imports the data that will be used in the modelling;\n",
    "- explores the data; and\n",
    "- prepares the data for modelling."
   ]
  },
  {
   "cell_type": "markdown",
   "metadata": {
    "id": "5ypYqnjDTtYf"
   },
   "source": [
    "### Import data\n"
   ]
  },
  {
   "cell_type": "code",
   "execution_count": 11,
   "metadata": {
    "colab": {
     "base_uri": "https://localhost:8080/"
    },
    "id": "79P_eNSxv6kt",
    "outputId": "3941f74c-1035-45e4-cb20-813fb0674dee"
   },
   "outputs": [
    {
     "name": "stdout",
     "output_type": "stream",
     "text": [
      "Mounted at /content/gdrive/\n"
     ]
    }
   ],
   "source": [
    "# Mount your google drive to import the required data\n",
    "from google.colab import drive\n",
    "drive.mount('/content/gdrive/',force_remount=True)"
   ]
  },
  {
   "cell_type": "code",
   "execution_count": 12,
   "metadata": {
    "colab": {
     "base_uri": "https://localhost:8080/"
    },
    "id": "OVFWecR-bDq1",
    "outputId": "f0e49ea8-3cdd-47bf-d303-5b7e7ca3f11c"
   },
   "outputs": [
    {
     "name": "stdout",
     "output_type": "stream",
     "text": [
      "loading DAA_M07_CS1_data.json data . 50,000 observations have been imported.\n"
     ]
    }
   ],
   "source": [
    "# Specify the Google Drive folder that your datasets are saved in.\n",
    "infolder = '/content/gdrive/My Drive/DAA datasets/'\n",
    "\n",
    "# Specify the name of the dataset to be imported.\n",
    "file = 'DAA_M07_CS1_data.json'\n",
    "\n",
    "# Upload the required YELP file from your Google Drive folder.\n",
    "review_data = load_json(file,dir=infolder)\n",
    "\n",
    "# Alternatively, use the code below to upload the file\n",
    "# from your computer. This method is slower than the Google Drive method.\n",
    "\n",
    "#files.upload()\n",
    "  # When prompted, select the DAA_M07_CS1_data.json dataset to upload.\n",
    "  # Note that this may take some time to upload as the file is large.\n",
    "#review_data = load_json('DAA_M07_CS1_data.json')"
   ]
  },
  {
   "cell_type": "markdown",
   "metadata": {
    "id": "SySVliURtd9p"
   },
   "source": [
    "### Explore data (EDA)\n",
    "The following data exploration is performed below:\n",
    "- look at the features available in the data;\n",
    "- show some example reviews;\n",
    "- see how many reviews there are in each rating category; and\n",
    "- look at how long the reviews are.\n"
   ]
  },
  {
   "cell_type": "code",
   "execution_count": 13,
   "metadata": {
    "colab": {
     "base_uri": "https://localhost:8080/"
    },
    "id": "ZmKcMhoKtd9q",
    "outputId": "bdeb110f-9c0d-4c59-996b-ee5d5ec18351",
    "tags": []
   },
   "outputs": [
    {
     "name": "stdout",
     "output_type": "stream",
     "text": [
      "{'date', 'useful', 'user_id', 'stars', 'funny', 'business_id', 'cool', 'review_id', 'text'}\n",
      "{'date', 'useful', 'user_id', 'stars', 'funny', 'business_id', 'cool', 'review_id', 'text'}\n"
     ]
    }
   ],
   "source": [
    "# Extract the feature names from the data.\n",
    "features = {key for review in review_data for key in review.keys()}\n",
    "  # The '{}' brackets are used to define a set that contains unique entries.\n",
    "print(features)\n",
    "\n",
    "# The feature names could also be obtained used a for loop per the code below.\n",
    "# This is a less efficient way of extracting the information.\n",
    "features2 = set() # This creates an empty set.\n",
    "for review in review_data:\n",
    "    for key in review.keys():\n",
    "        features2.add(key)\n",
    "print(features2)"
   ]
  },
  {
   "cell_type": "code",
   "execution_count": 14,
   "metadata": {
    "colab": {
     "base_uri": "https://localhost:8080/"
    },
    "id": "-aHfNSzztd9u",
    "outputId": "0e5ff8fb-5121-452d-f3d4-9aee192754ae",
    "tags": []
   },
   "outputs": [
    {
     "name": "stdout",
     "output_type": "stream",
     "text": [
      "business_id : pFC7Ql65bA8zybvCgs_gvQ\n",
      "stars       : 5.0\n",
      "funny       : 1\n",
      "review_id   : TQO1clRhEY8Ysl6qwL5YYQ\n",
      "date        : 2016-07-19 16:10:38\n",
      "useful      : 1\n",
      "user_id     : t9dQ8x_fo08kYrhmYQCGZw\n",
      "cool        : 0\n",
      "text: \"Brooke again thank you for all you do.  Congratulations on your new role.  You have always been amazing in will do amazing and great things in your new role . \n",
      "\n",
      "Jose great meeting you in thank you for servicing my vehicle for the very first time.\"\n",
      "\n",
      "business_id : Z1MW0kBrXBnMWEZuUoWcwg\n",
      "stars       : 3.0\n",
      "funny       : 0\n",
      "review_id   : dfxRVj3YJrYmynuUtdIlOA\n",
      "date        : 2015-06-12 19:53:12\n",
      "useful      : 0\n",
      "user_id     : 2MF9_kjqFMceHfdXCoh7Ow\n",
      "cool        : 0\n",
      "text: \"I went into the office to buy SeaWorld tickets for Memorial Day Weekend, one would think this should be a quick painless process.  I'll start with the positive: I was greeted when I walked in the door and asked how I could be helped. Everyone was very nice and you couldn't beat the price of the tickets.  Now for the negative: The waiting time to buy some simple tickets was absolutely ridiculous.  I'm not over exaggerating when I say I was there for about 45 minutes just to buy tickets.  If it wasn't for the extremely good price of the tickets I would have been pretty upset.\"\n",
      "\n",
      "business_id : hr96Rla5BGsaZ2dlO99lcA\n",
      "stars       : 5.0\n",
      "funny       : 0\n",
      "review_id   : x1-7V5SssR06x2HvhzRPJw\n",
      "date        : 2016-11-26 04:49:29\n",
      "useful      : 0\n",
      "user_id     : do5hEAM5QCZLj6lagLl5jA\n",
      "cool        : 0\n",
      "text: \"Did a walk in today , they took me right away and had me out of there within the hour. Called around and they also had the best price for what I needed done. I would recommend them and I will be going back. Great experience!\"\n",
      "\n",
      "business_id : mJBeo-CC0VG6ebDniGfgqw\n",
      "stars       : 4.0\n",
      "funny       : 0\n",
      "review_id   : g5jLERCpwNxdXyqyJwGC7A\n",
      "date        : 2014-07-14 21:29:45\n",
      "useful      : 1\n",
      "user_id     : ZL0AEkN6n5_WY1t-N9qNTA\n",
      "cool        : 0\n",
      "text: \"Came here on a Friday midday.  My Tahoe had major water-spots on it from my sprinklers.  I told the guy I had 1:30.  He put 3 people to work on my vehicle and got the full detail completed within time.  These guys are good.\"\n",
      "\n",
      "business_id : HSdqe27QEUJqB2gFo84keA\n",
      "stars       : 1.0\n",
      "funny       : 0\n",
      "review_id   : F6SZs-EknxWUCm4A3hVQVQ\n",
      "date        : 2015-05-19 05:38:16\n",
      "useful      : 9\n",
      "user_id     : W8Kd84H6OBcTVqiKnHyGHg\n",
      "cool        : 0\n",
      "text: \"I was very disappointed with Towbin Dodge. I recently bought a 2014 Dodge Cummins Diesel. My truck had issues within the first 5000 miles. I had to pay out of my pocket to fix it. I was very disappointed but, I decided since I already had the truck to give it a second chance. Well, My truck had more problems when it reached 10,000 miles. I took the truck to Towbin Dodge and was told that it would take a week to get it fix. I was very angry but, I knew that I was not the only customer. It took them 10 days to figure out what was wrong with my truck. They tried to blame us that we put something in the diesel tank but, my husband told them that was not possible. When I tried to speak with a manager I was given the run around. They send me with a sale manager that had me waiting for an hour. I had to leave to run some errands. They manager told me to call him instead of going all the way to henderson. Well, I called him to get an update and he was not available. Several hours passed I had to go all the way to henderson to get an update on my vehicle. I went to look for the sales manager who told me that he was not able to do anything on his part because it was a different department. I was very angry. Why couldn't he told me that in the beginning. I would not have wasted my time with him if I knew that. I was referred to the same person who I gave the keys to in the first place. I told him that I want to speak to the general manger of there department. He told he he was not available. So I insisted to speak to some one. He told me that the other manager was on break. I was very upset. He saw how upset I was. He told me that he would be able to get me a rental for one day. I told him that one day would not make a different. I bought a new vehicle because I was having problems with my old vehicle and now it seems that my old vehicle works better than my new vehicle. Another issue when I picked up my truck from the service department it had a dent on the side. So they told me they could fix it but, I would have to leave it for another whole day. I was even more upset. They fix the dent but, I could still see it. \n",
      "\n",
      "At the end of the day the truck was fixs but, the engine light still comes on. I don't feel safe with my vehicle. I was told I could trade in my truck. So I went back to the same sales associate who sold me my vehicle. My payments are $600 a month which I could afford. However, If I would trade in my truck my new payments would go up to $899 a month. That is my mortgage payment for my house. My truck only being a few months old is only worth $32,000. When I'd  Payed $44,000 for it. I was once again disappointed with the news. I feel that when I was looking for a vehicle I had so many managers trying to sale me a vehicle and now that I am having issues I can't seem to find one. When I finally spoke to a manager he was VERY RUDE. \n",
      "\n",
      "I would not recommend any of my family nor my friends to buy a vehicle from Towbin Dodge in henderson. I would rather tell them to go to Carmax. They told me I quote \"I can't guarantee you that we are not selling you a defective vehicle\". I was very surprise with what they told me. If you can't guarantee me, that the vehicle that I purchased about 7 months ago is not going to brake down within the first couple of years. Then put a sign up saying that to your customers. I also spoke to Chrysler jeep dodge customer service. All they did was apologized to me but, that doesn't make me feel safe with my vehicle. I am a middle class hard working person and now I am paying for a vehicle that I am scared of driving my family in. If I would be able to give them zero stars I would. Customer satisfaction isn't their priority, they will say whatever to get you into a vehicle.\"\n",
      "\n"
     ]
    }
   ],
   "source": [
    "# Print a sample of 5 random reviews from the full dataset.\n",
    "review_sample = random.sample(review_data, 5)\n",
    "  # The 'sample' method in the 'random' package selects, without replacement,\n",
    "  # the number of items you want from a list.\n",
    "\n",
    "for review in review_sample:\n",
    "    print_review(review)"
   ]
  },
  {
   "cell_type": "code",
   "execution_count": 15,
   "metadata": {
    "colab": {
     "base_uri": "https://localhost:8080/"
    },
    "id": "9a5_butntd9w",
    "outputId": "896daf1a-e0d2-45b6-d716-6721863b9a27",
    "tags": []
   },
   "outputs": [
    {
     "name": "stdout",
     "output_type": "stream",
     "text": [
      "business_id : 5aeFlQjZlwJhR7gA-9VMWA\n",
      "stars       : 1.0\n",
      "funny       : 0\n",
      "review_id   : UYOLFQSiHa8zTqeUZibJGg\n",
      "date        : 2016-06-01 14:44:05\n",
      "useful      : 0\n",
      "user_id     : dwVq8M1x4xsffuH1nposYg\n",
      "cool        : 0\n",
      "text: \"While visiting Surprise I stopped by for a Car Wash.  I had heard it was a great place to go.\n",
      "And then.... When I got in my car I noticed a few things were left UNdone.  I opened the back gate to have them vaccum it.. not done!  My back seat had one one of the seats bent forward (its a 3 row seater) so when I figured, I can do this, no big deal!  I found that they had not cleaned the seats.. or vaccumed the floor in back (it's a new car, no ones been in there) The rims of the car were wet and spotted, the bottoms of ALL the doors were dripping wet and not wiped clean.  My dash wasn't wiped. The driver side was not vacuumed. When I said something to my cousin (who I was visiting) SHE said, well you \"have\" to tell them!, and go around and check it before you leave.. Stupid stupid me, I thought they would just DO a good job without having them to give directions... DUHHH!\"\n",
      "\n",
      "business_id : 56AoPhxyFk5PApcwn6PmdA\n",
      "stars       : 1.0\n",
      "funny       : 0\n",
      "review_id   : HNNjbwRpLaNKFkon78dfcA\n",
      "date        : 2016-05-28 03:55:49\n",
      "useful      : 3\n",
      "user_id     : R8CFkkwrfysNIXuk7F8A7A\n",
      "cool        : 0\n",
      "text: \"We have been trying to get a hold of Tristan Watson for the last 3 weeks.  We've called and left over 10 voice mails, 2 emails, and 1 visit in person.  Tristan has never called us back or reached out to us at all.  We even called the GM 3 days ago and no call back at all!!!!  The funny part is that we have told all our friends and family how great the experience was buying a Honda. (Even better then buying our BMW)  Come on AutoNation this is wrong all we want to know is if Tristan filed the paperwork for a refund of our gap.  (Sound pretty easy)  worst experience ever. We will never do business with AutoNation again thanks to Tristan and the GM.\"\n",
      "\n",
      "business_id : bEnCHV30ixbU5kRcJIt7Cw\n",
      "stars       : 1.0\n",
      "funny       : 0\n",
      "review_id   : 3zbVDeK2gdN4qEV3fOjQ0A\n",
      "date        : 2018-08-14 23:10:07\n",
      "useful      : 0\n",
      "user_id     : 7X9qh9MhgIs8wa6ixcI4Og\n",
      "cool        : 0\n",
      "text: \"Horrible customer service from the general manager says one thing and does another  stay away -ryan farrell\"\n",
      "\n",
      "business_id : HSdqe27QEUJqB2gFo84keA\n",
      "stars       : 1.0\n",
      "funny       : 0\n",
      "review_id   : ZjBPiSbRdj_Aly7SXhHRNQ\n",
      "date        : 2016-08-05 15:53:27\n",
      "useful      : 8\n",
      "user_id     : LjN3bW8TY6sNULt3l-G5DQ\n",
      "cool        : 0\n",
      "text: \"Terrible customer service! I've made 4 transactions in total with this place I.e two trades and two purchases and after this last purchase I won't be going to this dealership anymore. Service department is by far the least motivated staff I have ever met. They have no work ethic or general regard for customer experience...nobody takes pride in anything they do anymore and it really shows at this place. Never return calls, try to charge for services I didn't get. They lost my business for good\"\n",
      "\n",
      "business_id : w06XeeisI_2TUfYwqBU_lw\n",
      "stars       : 1.0\n",
      "funny       : 0\n",
      "review_id   : ae9Xwv7GOGXu-98F7P6EDw\n",
      "date        : 2017-06-14 19:34:24\n",
      "useful      : 1\n",
      "user_id     : EnDtv6sLdXe4fqng_tF15g\n",
      "cool        : 0\n",
      "text: \"Worst costumer service ever! Dropped off my car for an aliment, the guy tells me is going to take an hour. An hour later he tells me is going to take about an hour Again because he didn't see that there was a car before mine so when I told him he should of checked before giving me a time frame. He gives me attitude asking me if I do aliment, if I want to go back to the garage and do the aliment myself, asking me how much do I know about aliments. I asked to speak to the manager and they wouldn't call him. Kept saying he was in a meeting for about 20 mins, they went on saying the same thing over the next hour. I'm 100% sure he wouldn't talk reckless if I ever saw him outside of the shop. Wouldn't come back here even if my car broke down across the street from them.\"\n",
      "\n"
     ]
    }
   ],
   "source": [
    "# Print 5 random reviews with 1 star ratings using the\n",
    "# 'sample_with_rating' function defined at the top of the notebook.\n",
    "review_sample = sample_with_rating(review_data, rating=1, sample_size=5)\n",
    "for review in review_sample:\n",
    "    print_review(review)"
   ]
  },
  {
   "cell_type": "code",
   "execution_count": 16,
   "metadata": {
    "colab": {
     "base_uri": "https://localhost:8080/"
    },
    "id": "vN8kLDTRtd9x",
    "outputId": "e36bcd41-095e-446c-d40e-19879b1606e2",
    "tags": []
   },
   "outputs": [
    {
     "name": "stdout",
     "output_type": "stream",
     "text": [
      "Stars         Total    Percent\n",
      "-----         -----    -------\n",
      "*****        27,101      54.2%\n",
      "****          3,915       7.8%\n",
      "***           1,790       3.6%\n",
      "**            2,470       4.9%\n",
      "*            14,724      29.4%\n",
      "            -------    -------\n",
      "Total        50,000     100.0%\n"
     ]
    }
   ],
   "source": [
    "# Count the number of reviews in each rating category.\n",
    "# This is done using a counter as an efficient method to iterate through items.\n",
    "\n",
    "review_count = Counter([review['stars'] for review in review_data])\n",
    "  # A list constructor is used to produce a list of all the star ratings\n",
    "  # and the Counter function is then used to count how many reviews there are\n",
    "  # in each star rating group.\n",
    "  \n",
    "print_review_count(review_count)"
   ]
  },
  {
   "cell_type": "code",
   "execution_count": 17,
   "metadata": {
    "colab": {
     "base_uri": "https://localhost:8080/"
    },
    "id": "vJXWzM7Ktd91",
    "outputId": "29839b82-5d98-4209-8cae-d9a9b5042f83",
    "tags": []
   },
   "outputs": [
    {
     "name": "stdout",
     "output_type": "stream",
     "text": [
      "The longest character length in a review is 5,000.\n",
      "The shortest character length in a review is 1.\n",
      "The average character length of reviews is 630.\n",
      "The median character length of reviews is 436.\n",
      "\n",
      "The longest word length in a review is 1,051.\n",
      "The shortest word length in a review is 1.\n",
      "The average word length of reviews is 119.\n",
      "The median word lenth of reviews is 82.\n"
     ]
    }
   ],
   "source": [
    "# Check the length of different reviews.\n",
    "# A list constructor is used to produce a list of how long each review is\n",
    "# in characters. \n",
    "review_length_characters = [len(review['text']) for review in review_data]\n",
    "\n",
    "# Print summary statistics for the number of characters in each review.\n",
    "print('The longest character length in a review is {:,}.'.format(max(review_length_characters)))\n",
    "print('The shortest character length in a review is {:,}.'.format(min(review_length_characters)))\n",
    "print('The average character length of reviews is {:.0f}.'.format(np.mean(review_length_characters)))\n",
    "print('The median character length of reviews is {:.0f}.'.format(np.median(review_length_characters)))\n",
    "print()\n",
    "\n",
    "# A list constructor is used to produce a list of how long each review is\n",
    "# in words.\n",
    "review_length_words = [len(review['text'].split()) for review in review_data]\n",
    "  # The str.split() function breaks a string by approximate word breaks. \n",
    "\n",
    "## Print summary statistics for the number of words in each review.\n",
    "print('The longest word length in a review is {:,}.'.format(max(review_length_words)))\n",
    "print('The shortest word length in a review is {:,}.'.format(min(review_length_words)))\n",
    "print('The average word length of reviews is {:.0f}.'.format(np.mean(review_length_words)))\n",
    "print('The median word lenth of reviews is {:.0f}.'.format(np.median(review_length_words)))"
   ]
  },
  {
   "cell_type": "code",
   "execution_count": 18,
   "metadata": {
    "colab": {
     "base_uri": "https://localhost:8080/"
    },
    "id": "4tLD-2D_td93",
    "outputId": "aa302ce3-49e4-4d7d-9e3f-13d27b1da85c",
    "tags": []
   },
   "outputs": [
    {
     "name": "stdout",
     "output_type": "stream",
     "text": [
      "Below are the 4 shortest reviews of 1 words:\n",
      "\" L \"\n",
      "\" Great! \"\n",
      "\" :) \"\n",
      "\" :) \"\n",
      "\n",
      "Below is the 1 longest review of 1,051 words:\n",
      "\" CAUTION!!!!!! DO NOT GO HERE!!!! If I could I'd give this place a -5 star!!! That's the first red flag u should know. I have a long story & from reading ALOT of reviews id say about 98% of them r poor reviews about this place. About 5 of them r very similar to mine. So here's my horrible story and experience...It was last month in Oct of 2015 ,I've been hearing about the Tent sale on 83rd between Bell rd & T-bird. Sale started Oct 22nd. So I have a 2014 Crystler 200 & it was my first car I've owned, by this time I had it for about 7 months. My heart was set on a Kia Optima but ended up settling for the 200. So when we get there we are given a person to take us around to look at cars. We were with 2 guys, Brian & Tavo from Vans Chevy. Before I go on, Tavo is an amazing nice guy that is very honest, very helpful so I have nothing bad to say about Tavo. Anyways, Brian shows me a few white optimas but eventually I see a black one w/ black rims, pretty much wanted it . I test drove it & all. Sat down & we negotiated a lot mainly on payments. I wanted 0 down & $350/month. I wanted 0 down because I did not have anything to put down but my trade in & had to make my payment for my 200 on Oct 27th of $330. Brian told me after all the negotiations, ok how about u put down $330 of the payment u were gonna do for the 200 & I said, R u sure I can do that since I have to make that payment for my 200? He said yes, once you sign over the 200 to us you don't have to make payments to them. So I believed him & ended up doing $375/month for the Kia, which we financed with Sammy. Brian also stated that my credit score was great. So I had a good feeling no need for a cosigner which I didn't have for my 200. We swapped keys & the Kia was mine ! I finally felt like I was complete with the car I've been wanting and it was perfect for our baby on the way! About a week goes by & Sammy calls letting me know about the banks he's seeing which one will take the loan. In the mean time my credit union calls me a day after my payment for the 200 was due asking for the payment so I told them,car is not in my possession I traded it in & Brian told me I don't need to pay for this month. The credit union guy tells me that I'm still responsible for my loan payment until they do the pay off. I told him no that's not how it works & they told me diff,I don't have to pay u guys it's not in my possession. About a week & a half goes by & Sammy is asking if I have a cosigner. I say no. Try the TruWest bank my 200 is through.They accepted me. After almost two weeks I try calling & calling his number to speak with Sammy. I can't get through and I leave messages to the front desk to have him call me back . Days go by-nothing. I even call over there while I'm at work to see if he called the credit union, supposedly he said he did but I doubt he did cuz when I spoke w/ credit union they have no notes or record of them calling.\n",
      "I'm getting really impatient by now & it's taking longer than it should . I keep calling & finally speak w/ Sammy & he said we still \"need\" a cosigner to do this deal so I give him my fiancés info & I know for sure they could check if he qualifies in no less than 5 min. It took him another week & a half to tell me he wasn't approved either. I felt like he kept us in the dark & this whole time I'm still wondering if the Kia is going to be mine. At this time it's almost been 3 weeks of attempting phone calls to him. The girl just says he's with customers and I tell her to have him call me back & he doesn't for days.Credit union calls me letting me know that I'm being put into collections cuz of how late my payment is. We decide to drive all the way over there on nov 20th to see what is actually going on & we drove 20miles to speak w/ the finance manager. I told him the situation & said its been pretty Much a month & your finance guy hasn't pushed anything through. He was shocked,but I'm sure this isn't the first time . He had us sit & wait for a sales manager to help us. We sit & wait & wait, 40 min we are still waiting & I'm pissed so we just left back home. I called the next day to speak with the general manager & the lady said he was in a meeting and I asked how long,she said 2 hours. I said ok I'll call back but I just called back & left my name and number & said its really urgent and regarded Sammy w/ finance.Not even 30 min passed & GM called me. I told him my situation & he was very rude. I said you get all the paper work done Today cuz I'm getting my 200 tomorrow! He Didn't apologize & just said,So u are coming in tomorrow? I said Yes. He just bluntly said,Ok see u tomorrow. We get there & see Tavo. I told him I'm here to get my 200. He was shocked cuz he told us that the guys were just passing my file around not getting it done.they told Tavo to stay out of it & he's they one who was pushing it to get done. Overall I got my 200 back&Brian&Sammy didn't come out to like scared liars&cheaters! Never go here! Dont get anything done! \"\n",
      "\n"
     ]
    }
   ],
   "source": [
    "# Print some examples of the shortest and longest reviews.\n",
    "review_and_length = [(review['text'],len(review['text'].split())) for review in review_data]\n",
    "\n",
    "print_certain_reviews(review_and_length, min, 'shortest')\n",
    "print_certain_reviews(review_and_length, max, 'longest')"
   ]
  },
  {
   "cell_type": "code",
   "execution_count": 19,
   "metadata": {
    "colab": {
     "base_uri": "https://localhost:8080/"
    },
    "id": "sQTLSCfftd94",
    "outputId": "bcfdd3f8-e895-436e-b5f3-43b7129d55b2",
    "tags": []
   },
   "outputs": [
    {
     "name": "stdout",
     "output_type": "stream",
     "text": [
      "Word          Count\n",
      "----     ----------\n",
      "the         227,409\n",
      "and         201,289\n",
      "I           194,839\n",
      "to          183,683\n",
      "a           138,253\n",
      "was          92,536\n",
      "my           89,669\n",
      "for          70,787\n",
      "in           65,321\n",
      "of           65,069\n",
      "that         55,917\n",
      "they         55,752\n",
      "it           54,209\n",
      "car          49,644\n",
      "me           48,401\n",
      "with         46,183\n",
      "is           45,623\n",
      "on           44,690\n",
      "have         39,543\n",
      "you          34,432\n"
     ]
    }
   ],
   "source": [
    "# Print the 20 most common words across the whole corpus of complaints.\n",
    "word_count = Counter([word for review in review_data for word in review['text'].split()])\n",
    "print(\"{:<6} {:>12}\".format(\"Word\", \"Count\"))\n",
    "print(\"{:<6} {:>12}\".format(\"----\", \"----------\"))\n",
    "for word, count in word_count.most_common(20):\n",
    "    # 'most_common' is a helpful method that can be applied to Counter.\n",
    "    print(\"{:<6} {:>12,}\".format(word, count))"
   ]
  },
  {
   "cell_type": "markdown",
   "metadata": {
    "id": "gRf9t76kmFMH"
   },
   "source": [
    "### Prepare data\n",
    "This section performs the following NLP tasks:\n",
    "- tokenisation;\n",
    "- splitting the data into training and test sets;\n",
    "- defining the response variable;\n",
    "- creating the vocabulary;\n",
    "- cleaning; and\n",
    "- vectorisation.\n"
   ]
  },
  {
   "cell_type": "markdown",
   "metadata": {
    "id": "IVxtZOCytd95"
   },
   "source": [
    "#### Tokenise\n",
    "\n",
    "In the data exploration sections above, tokenising was performed using the Python str function 'split'. This function splits on white space and does not, for example, tokenise end of sentence markers such as '?' or '.' .\n",
    "\n",
    "The 'word_tokenize' tokeniser from the nltk package can provide a better tokenisation outcome than the 'split' function because it identifies items such as end of sentence markers."
   ]
  },
  {
   "cell_type": "code",
   "execution_count": 20,
   "metadata": {
    "colab": {
     "base_uri": "https://localhost:8080/"
    },
    "id": "ezh2F1wLtd96",
    "outputId": "f2d02841-c48d-4dff-ad2f-8a1de24650b4",
    "tags": []
   },
   "outputs": [
    {
     "name": "stdout",
     "output_type": "stream",
     "text": [
      "..................................................\n",
      "Tokenising took 49 seconds\n",
      "\n",
      "I had a great experience at this shop. The guys took very good care of my Blazer, and Andre is a wonderful mechanic. They did what they said they were going to do, for the price I expected. I just relocated to Las Vegas from Pittsburgh and was used to a private mechanic, not a chain store, but this Midas location will be now be my mechanics! I'm so happy!\n",
      "['I', 'had', 'a', 'great', 'experience', 'at', 'this', 'shop', '.', 'The', 'guys', 'took', 'very', 'good', 'care', 'of', 'my', 'Blazer', ',', 'and', 'Andre', 'is', 'a', 'wonderful', 'mechanic', '.', 'They', 'did', 'what', 'they', 'said', 'they', 'were', 'going', 'to', 'do', ',', 'for', 'the', 'price', 'I', 'expected', '.', 'I', 'just', 'relocated', 'to', 'Las', 'Vegas', 'from', 'Pittsburgh', 'and', 'was', 'used', 'to', 'a', 'private', 'mechanic', ',', 'not', 'a', 'chain', 'store', ',', 'but', 'this', 'Midas', 'location', 'will', 'be', 'now', 'be', 'my', 'mechanics', '!', 'I', \"'m\", 'so', 'happy', '!'] \n",
      "\n",
      "Gave this place a 2nd chance since it's close to home. Tried to get a reasonable deal there. Was put down by the sales person for trying to get a reasonable deal. Imagine trying to get a good deal smh.\n",
      "['Gave', 'this', 'place', 'a', '2nd', 'chance', 'since', 'it', \"'s\", 'close', 'to', 'home', '.', 'Tried', 'to', 'get', 'a', 'reasonable', 'deal', 'there', '.', 'Was', 'put', 'down', 'by', 'the', 'sales', 'person', 'for', 'trying', 'to', 'get', 'a', 'reasonable', 'deal', '.', 'Imagine', 'trying', 'to', 'get', 'a', 'good', 'deal', 'smh', '.'] \n",
      "\n",
      "This car wash provides a decent, quick, convenient wash. But the recent 66% increase in the minimum wash price (from $3 to $5) was a shock to me. There was no explanation for this increase anywhere upon entering the car wash, and no one at the pay station to ask. Was my car 66% cleaner? Not according to the remaining bird doodoo (see photo). Has my salary increased 66%? Aaaaahahahaha! With this and gas prices, inflation is here.\n",
      "['This', 'car', 'wash', 'provides', 'a', 'decent', ',', 'quick', ',', 'convenient', 'wash', '.', 'But', 'the', 'recent', '66', '%', 'increase', 'in', 'the', 'minimum', 'wash', 'price', '(', 'from', '$', '3', 'to', '$', '5', ')', 'was', 'a', 'shock', 'to', 'me', '.', 'There', 'was', 'no', 'explanation', 'for', 'this', 'increase', 'anywhere', 'upon', 'entering', 'the', 'car', 'wash', ',', 'and', 'no', 'one', 'at', 'the', 'pay', 'station', 'to', 'ask', '.', 'Was', 'my', 'car', '66', '%', 'cleaner', '?', 'Not', 'according', 'to', 'the', 'remaining', 'bird', 'doodoo', '(', 'see', 'photo', ')', '.', 'Has', 'my', 'salary', 'increased', '66', '%', '?', 'Aaaaahahahaha', '!', 'With', 'this', 'and', 'gas', 'prices', ',', 'inflation', 'is', 'here', '.'] \n",
      "\n",
      "I went to this car wash because they had a carpet shampoo. I used it to get the salt out of my trucks carpet. Unfortunately, the foaming solution left an awful oder in my truck. This oder has caused me headaches while driving. I contacted the owners and explained my situation via Email...they have not responded. I have since gone to Zappys car wash down the street and had it professionally shampooed. They got the oder out! I would recommend going down the street to Zappys rather than bother with Outback. They are less expensive and their wash does a better job .\n",
      "['I', 'went', 'to', 'this', 'car', 'wash', 'because', 'they', 'had', 'a', 'carpet', 'shampoo', '.', 'I', 'used', 'it', 'to', 'get', 'the', 'salt', 'out', 'of', 'my', 'trucks', 'carpet', '.', 'Unfortunately', ',', 'the', 'foaming', 'solution', 'left', 'an', 'awful', 'oder', 'in', 'my', 'truck', '.', 'This', 'oder', 'has', 'caused', 'me', 'headaches', 'while', 'driving', '.', 'I', 'contacted', 'the', 'owners', 'and', 'explained', 'my', 'situation', 'via', 'Email', '...', 'they', 'have', 'not', 'responded', '.', 'I', 'have', 'since', 'gone', 'to', 'Zappys', 'car', 'wash', 'down', 'the', 'street', 'and', 'had', 'it', 'professionally', 'shampooed', '.', 'They', 'got', 'the', 'oder', 'out', '!', 'I', 'would', 'recommend', 'going', 'down', 'the', 'street', 'to', 'Zappys', 'rather', 'than', 'bother', 'with', 'Outback', '.', 'They', 'are', 'less', 'expensive', 'and', 'their', 'wash', 'does', 'a', 'better', 'job', '.'] \n",
      "\n",
      "Dan and Rob provided me superior service and beat Discount Tires price by over a hundred dollars. I will continue going back to S&S tires for all my needs. Thanks guys.\n",
      "['Dan', 'and', 'Rob', 'provided', 'me', 'superior', 'service', 'and', 'beat', 'Discount', 'Tires', 'price', 'by', 'over', 'a', 'hundred', 'dollars', '.', 'I', 'will', 'continue', 'going', 'back', 'to', 'S', '&', 'S', 'tires', 'for', 'all', 'my', 'needs', '.', 'Thanks', 'guys', '.'] \n",
      "\n"
     ]
    }
   ],
   "source": [
    "t0 = time.time()\n",
    "  # This sets the starting time so the time taken\n",
    "  # to tokenise can be measured.\n",
    "\n",
    "# Tokenise the reviews using 'word_tokeniser'.\n",
    "for counter, review in enumerate(review_data):\n",
    "    if counter % 1000 == 1:\n",
    "        print ('.', end='')\n",
    "        # This prints a '.' every 1,000 reviews to reassure\n",
    "        # you that the code is still running.\n",
    "    review['tokens'] = word_tokenize(review['text'])\n",
    "        # word_tokenize is an nltk tokeniser.\n",
    "        # The set of tokens from each review is added to the review\n",
    "        # dictionary under a new dictionary index 'tokens'.\n",
    "print()\n",
    "\n",
    "print(\"Tokenising took {:.0f} seconds\".format(time.time()-t0))\n",
    "print()\n",
    "\n",
    "# Look at five sample sets of tokens across the whole data set.\n",
    "review_sample = random.sample(review_data, 5)\n",
    "for review in review_sample:\n",
    "    print(review['text'])\n",
    "    print(review['tokens'], '\\n')\n"
   ]
  },
  {
   "cell_type": "markdown",
   "metadata": {
    "id": "WgmnYAH6fF4O"
   },
   "source": [
    "#### Clean data\n",
    "The 'word_tokenize' tokeniser distinguishes between upper and lower case words such that 'Great' and 'great' are considered as two separate tokens. For this data set, such distinction between case may not be warranted and the model might perform better if all words are converted to their lower case form.\n",
    "This is done in the code below."
   ]
  },
  {
   "cell_type": "code",
   "execution_count": 48,
   "metadata": {
    "colab": {
     "base_uri": "https://localhost:8080/"
    },
    "id": "Sl9N_xLle9Kt",
    "outputId": "05eb6653-384d-4f61-9d69-81802780a09f"
   },
   "outputs": [
    {
     "name": "stdout",
     "output_type": "stream",
     "text": [
      "I came to this area in Arizona for a wedding and we had a free day... the tour with extreme Arizona exceeded our expectations! Davis & Freddy started our tour off slow to make sure my group was comfortable and by the end we were hitting pretty cool trails with steep drops and ridiculous terrain. The tour was just long enough & overall we had a great day!! Covered in dirt and all. Oh AND our tour guides came with excellent suggestions for things to do with the rest of our free time here! 10/10, would do again\n",
      "['i', 'came', 'to', 'this', 'area', 'in', 'arizona', 'for', 'a', 'wedding', 'and', 'we', 'had', 'a', 'free', 'day', '...', 'the', 'tour', 'with', 'extreme', 'arizona', 'exceeded', 'our', 'expectations', '!', 'davis', '&', 'freddy', 'started', 'our', 'tour', 'off', 'slow', 'to', 'make', 'sure', 'my', 'group', 'was', 'comfortable', 'and', 'by', 'the', 'end', 'we', 'were', 'hitting', 'pretty', 'cool', 'trails', 'with', 'steep', 'drops', 'and', 'ridiculous', 'terrain', '.', 'the', 'tour', 'was', 'just', 'long', 'enough', '&', 'overall', 'we', 'had', 'a', 'great', 'day', '!', '!', 'covered', 'in', 'dirt', 'and', 'all', '.', 'oh', 'and', 'our', 'tour', 'guides', 'came', 'with', 'excellent', 'suggestions', 'for', 'things', 'to', 'do', 'with', 'the', 'rest', 'of', 'our', 'free', 'time', 'here', '!', '10/10', ',', 'would', 'do', 'again'] \n",
      "\n",
      "We were so very pleased with the service we received from Able Lock and Key. They were the ONLY  ones that were on time at our new office building. We were given an honest quote and even though the installer and the owner were there for several hours and even came back on Monday, they charged us WAY less than anyone else quoted us! The project ended up being a lot more than we thought we needed, but the installer just set up shop and diligently worked on re-keying almost every lock, and we had 34! The quotes that we received from other companies in no way compare to the cost we ended up paying! In our opinion, Able Lock and Key do not have any competitors in Las Vegas or Henderson! Thank you for making this difficult process a very smooth transition. Complete Medical Consultants will be passing out your company's information and definitely  will be calling for anything that might come up in the future!\n",
      "['we', 'were', 'so', 'very', 'pleased', 'with', 'the', 'service', 'we', 'received', 'from', 'able', 'lock', 'and', 'key', '.', 'they', 'were', 'the', 'only', 'ones', 'that', 'were', 'on', 'time', 'at', 'our', 'new', 'office', 'building', '.', 'we', 'were', 'given', 'an', 'honest', 'quote', 'and', 'even', 'though', 'the', 'installer', 'and', 'the', 'owner', 'were', 'there', 'for', 'several', 'hours', 'and', 'even', 'came', 'back', 'on', 'monday', ',', 'they', 'charged', 'us', 'way', 'less', 'than', 'anyone', 'else', 'quoted', 'us', '!', 'the', 'project', 'ended', 'up', 'being', 'a', 'lot', 'more', 'than', 'we', 'thought', 'we', 'needed', ',', 'but', 'the', 'installer', 'just', 'set', 'up', 'shop', 'and', 'diligently', 'worked', 'on', 're-keying', 'almost', 'every', 'lock', ',', 'and', 'we', 'had', '34', '!', 'the', 'quotes', 'that', 'we', 'received', 'from', 'other', 'companies', 'in', 'no', 'way', 'compare', 'to', 'the', 'cost', 'we', 'ended', 'up', 'paying', '!', 'in', 'our', 'opinion', ',', 'able', 'lock', 'and', 'key', 'do', 'not', 'have', 'any', 'competitors', 'in', 'las', 'vegas', 'or', 'henderson', '!', 'thank', 'you', 'for', 'making', 'this', 'difficult', 'process', 'a', 'very', 'smooth', 'transition', '.', 'complete', 'medical', 'consultants', 'will', 'be', 'passing', 'out', 'your', 'company', \"'s\", 'information', 'and', 'definitely', 'will', 'be', 'calling', 'for', 'anything', 'that', 'might', 'come', 'up', 'in', 'the', 'future', '!'] \n",
      "\n",
      "Ok I gave them 2 chances. \n",
      "First try.Tried to get an estimate for my 40k service in December just before my warranty expired on my 2015 Macan S. Phone answered immediately and forwarded to another who took my information. I was told a service advisor would need to call me back with the price WHAT?  I was told I was being set to a service advisor. In the mean time called Chandler Porsche got the price I immediately on the phone. After waiting for the return call from Scottsdale Porsche which did not happen Chandler Porsche did the work. \n",
      "\n",
      "Second try. Called Scottsdale Porsche for brakes on my Macan. Immediately answered the call and once again sent me to a service advisor. Personally I don't think the second person is actually an advisor. Asked for a price and after they took the VIN number was told they would call back. Once again no return call. Geez what is with these guys. I moved here from Portland Or. and never experienced this kind of service. \n",
      "\n",
      "Called Chandler Porsche and was sent to the service advisor who not only gave me the price but checked stock to see if all parts were on hand. This is what one should expect from Porsche service. ChandlerPorsche is not the closest to me but they will have all my business. \n",
      "\n",
      "The choice for me Is clear wave at Scottsdale P. as I drive by to do business with Chandler Porsche.\n",
      "['ok', 'i', 'gave', 'them', '2', 'chances', '.', 'first', 'try.tried', 'to', 'get', 'an', 'estimate', 'for', 'my', '40k', 'service', 'in', 'december', 'just', 'before', 'my', 'warranty', 'expired', 'on', 'my', '2015', 'macan', 's.', 'phone', 'answered', 'immediately', 'and', 'forwarded', 'to', 'another', 'who', 'took', 'my', 'information', '.', 'i', 'was', 'told', 'a', 'service', 'advisor', 'would', 'need', 'to', 'call', 'me', 'back', 'with', 'the', 'price', 'what', '?', 'i', 'was', 'told', 'i', 'was', 'being', 'set', 'to', 'a', 'service', 'advisor', '.', 'in', 'the', 'mean', 'time', 'called', 'chandler', 'porsche', 'got', 'the', 'price', 'i', 'immediately', 'on', 'the', 'phone', '.', 'after', 'waiting', 'for', 'the', 'return', 'call', 'from', 'scottsdale', 'porsche', 'which', 'did', 'not', 'happen', 'chandler', 'porsche', 'did', 'the', 'work', '.', 'second', 'try', '.', 'called', 'scottsdale', 'porsche', 'for', 'brakes', 'on', 'my', 'macan', '.', 'immediately', 'answered', 'the', 'call', 'and', 'once', 'again', 'sent', 'me', 'to', 'a', 'service', 'advisor', '.', 'personally', 'i', 'do', \"n't\", 'think', 'the', 'second', 'person', 'is', 'actually', 'an', 'advisor', '.', 'asked', 'for', 'a', 'price', 'and', 'after', 'they', 'took', 'the', 'vin', 'number', 'was', 'told', 'they', 'would', 'call', 'back', '.', 'once', 'again', 'no', 'return', 'call', '.', 'geez', 'what', 'is', 'with', 'these', 'guys', '.', 'i', 'moved', 'here', 'from', 'portland', 'or', '.', 'and', 'never', 'experienced', 'this', 'kind', 'of', 'service', '.', 'called', 'chandler', 'porsche', 'and', 'was', 'sent', 'to', 'the', 'service', 'advisor', 'who', 'not', 'only', 'gave', 'me', 'the', 'price', 'but', 'checked', 'stock', 'to', 'see', 'if', 'all', 'parts', 'were', 'on', 'hand', '.', 'this', 'is', 'what', 'one', 'should', 'expect', 'from', 'porsche', 'service', '.', 'chandlerporsche', 'is', 'not', 'the', 'closest', 'to', 'me', 'but', 'they', 'will', 'have', 'all', 'my', 'business', '.', 'the', 'choice', 'for', 'me', 'is', 'clear', 'wave', 'at', 'scottsdale', 'p.', 'as', 'i', 'drive', 'by', 'to', 'do', 'business', 'with', 'chandler', 'porsche', '.'] \n",
      "\n",
      "Came to my front door, same day appointment and had my 2014 Audi Q5 looking better than it did pulling off the lot. Amazing job and great price.\n",
      "['came', 'to', 'my', 'front', 'door', ',', 'same', 'day', 'appointment', 'and', 'had', 'my', '2014', 'audi', 'q5', 'looking', 'better', 'than', 'it', 'did', 'pulling', 'off', 'the', 'lot', '.', 'amazing', 'job', 'and', 'great', 'price', '.'] \n",
      "\n",
      "Went here for an oil change since I had a coupon. The shop was clean, the staff friendly, and the wait reasonable. Went back about a week or two later for new tires because I got another coupon (I like a good deal) and because of my good experience the first time. Again the shop was clean, staff friendly, and the wait was reasonable. \n",
      "\n",
      "At first they weren't going to honor their coupon for $10 off a service of $50 or more because they said buying new tires and installing them is not a service. But this exclusion is not written on the coupon so they acknowledged this and honored their coupon this time only. Working with a customer over a misunderstanding is something I definitely appreciate. \n",
      "\n",
      "My only suggestion is that they get some women's magazines for female customers to read while waiting.\n",
      "['went', 'here', 'for', 'an', 'oil', 'change', 'since', 'i', 'had', 'a', 'coupon', '.', 'the', 'shop', 'was', 'clean', ',', 'the', 'staff', 'friendly', ',', 'and', 'the', 'wait', 'reasonable', '.', 'went', 'back', 'about', 'a', 'week', 'or', 'two', 'later', 'for', 'new', 'tires', 'because', 'i', 'got', 'another', 'coupon', '(', 'i', 'like', 'a', 'good', 'deal', ')', 'and', 'because', 'of', 'my', 'good', 'experience', 'the', 'first', 'time', '.', 'again', 'the', 'shop', 'was', 'clean', ',', 'staff', 'friendly', ',', 'and', 'the', 'wait', 'was', 'reasonable', '.', 'at', 'first', 'they', 'were', \"n't\", 'going', 'to', 'honor', 'their', 'coupon', 'for', '$', '10', 'off', 'a', 'service', 'of', '$', '50', 'or', 'more', 'because', 'they', 'said', 'buying', 'new', 'tires', 'and', 'installing', 'them', 'is', 'not', 'a', 'service', '.', 'but', 'this', 'exclusion', 'is', 'not', 'written', 'on', 'the', 'coupon', 'so', 'they', 'acknowledged', 'this', 'and', 'honored', 'their', 'coupon', 'this', 'time', 'only', '.', 'working', 'with', 'a', 'customer', 'over', 'a', 'misunderstanding', 'is', 'something', 'i', 'definitely', 'appreciate', '.', 'my', 'only', 'suggestion', 'is', 'that', 'they', 'get', 'some', 'women', \"'s\", 'magazines', 'for', 'female', 'customers', 'to', 'read', 'while', 'waiting', '.'] \n",
      "\n"
     ]
    }
   ],
   "source": [
    "# Convert the tokens for each review to lower case.\n",
    "for review in review_data:\n",
    "    review['tokens'] = [token.lower() for token in review['tokens']]\n",
    "\n",
    "# Look at another five sample sets of lower case tokens across the whole data set.\n",
    "review_sample = random.sample(review_data, 5)\n",
    "for review in review_sample:\n",
    "    print(review['text'])\n",
    "    print(review['tokens'], '\\n')"
   ]
  },
  {
   "cell_type": "markdown",
   "metadata": {
    "id": "xmUsKkGVtd97"
   },
   "source": [
    "#### Split into training and test data\n",
    "\n",
    "Now the data is partioned into a training and a test set. The chosen partion is 50% training and 50% test. This is because the dataset is quite large, with \n",
    "50,0000 reviews and having a large training set can cause Colab to crash when fitting the model. In practice, if RAM was not an issue, you might want to fit the model with more training data using, for example, an 80%/20% split.\n",
    "\n",
    "Note that as has been shown in previous case studies in this subject, you might want to further split the training data into a training and validation set. The validation dataset can then be used to select different hyperparameters for your model. Alternatively, cross-validation can be used on the training data to help you select these hyperparameters.\n",
    "\n",
    "This further splitting of the training data into a training and validation data set has been omitted from this case study."
   ]
  },
  {
   "cell_type": "code",
   "execution_count": 49,
   "metadata": {
    "colab": {
     "base_uri": "https://localhost:8080/"
    },
    "id": "3IkBy-bltd97",
    "outputId": "b3cd0b96-e200-4d9b-c4c2-eebefbce1176",
    "tags": []
   },
   "outputs": [
    {
     "name": "stdout",
     "output_type": "stream",
     "text": [
      "  training      test     total\n",
      "    25,000    25,000    50,000\n"
     ]
    }
   ],
   "source": [
    "train, test = train_test_split(review_data, test_size = 0.5)\n",
    "  # The Sklearn package 'train_test_split' is used to automate this step. \n",
    "print(('{:>10s}'*3).format('training', 'test', 'total'))\n",
    "print(('{:10,}'*3).format(len(train), len(test), len(review_data)))"
   ]
  },
  {
   "cell_type": "markdown",
   "metadata": {
    "id": "jPZir0SLtd97"
   },
   "source": [
    "#### Define response"
   ]
  },
  {
   "cell_type": "code",
   "execution_count": 50,
   "metadata": {
    "colab": {
     "base_uri": "https://localhost:8080/"
    },
    "id": "NNf_Izxqtd98",
    "outputId": "0e998e44-f09c-45d3-8502-71000e954717",
    "tags": []
   },
   "outputs": [
    {
     "name": "stdout",
     "output_type": "stream",
     "text": [
      "17194\n",
      "17194\n"
     ]
    }
   ],
   "source": [
    "# Define the response variable as 1 (a complaint) if the number of stars given\n",
    "# is 1 or 2. Otherwise define the response as 0 (non complaint).\n",
    "train_y = [review['stars']<3 for review in train]\n",
    "test_y = [review['stars']<3 for review in test]\n",
    "\n",
    "# Check the total number of complaints is still the same\n",
    "# across the training and test sets.\n",
    "print(sum(train_y+test_y))\n",
    "print(review_count[1]+review_count[2])"
   ]
  },
  {
   "cell_type": "markdown",
   "metadata": {
    "id": "zWt0rzqW4-lL"
   },
   "source": [
    "#### Create vocabulary\n",
    "A vocabulary is created, based on all reviews in the training dataset (the corpus).\n",
    "Note that the test data is not used to create the vocabulary as this is 'held out' until the end of the modelling process to test how well the model performs on unseen data."
   ]
  },
  {
   "cell_type": "code",
   "execution_count": 51,
   "metadata": {
    "colab": {
     "base_uri": "https://localhost:8080/"
    },
    "id": "5WHbnZc-td9_",
    "outputId": "e228d04b-a073-4e5e-ddd9-5fd3eebb4e9c",
    "tags": []
   },
   "outputs": [
    {
     "name": "stdout",
     "output_type": "stream",
     "text": [
      "The vocabulary has 40,922 tokens\n",
      "Some examples are: \n",
      "Count  Token \n",
      "    67 bc \n",
      "     1 2years \n",
      "     6 inn \n",
      "     1 congreve \n",
      "     9 discoloration \n",
      "     1 mobsters \n",
      "     1 caviar \n",
      "     1 kidney \n",
      "     1 brewery \n",
      "     3 fwy \n",
      "     5 verdict \n",
      "     1 oppprtunity \n",
      "     4 cigar \n",
      "    78 music \n",
      "     9 '04 \n",
      "     4 diminished \n",
      "   111 sending \n",
      "     4 hay \n",
      "     1 problem.the \n",
      "     1 505 \n",
      "     8 belong \n",
      "     7 dawn \n",
      "    11 sibel \n",
      "   139 plate \n",
      "     1 gerbercollision \n",
      "     1 /filters/ \n",
      "     4 calories \n",
      "     1 musil \n",
      "     4 gracias \n",
      "     1 sav \n",
      "     2 whipping \n",
      "     1 marshmallow \n",
      "     1 lightsaver \n",
      "     1 7-11s \n",
      "     1 diligence/research \n",
      "     4 boasted \n",
      "   101 thankfully \n",
      "     1 transistor \n",
      "     4 ever.. \n",
      "     7 marketplace \n",
      "     2 purchased/installed \n",
      "     1 giggle \n",
      "     7 dipstick \n",
      "     1 ccvg \n",
      "     1 mancave \n",
      "     1 93k \n",
      "     1 effectué \n",
      "     2 unvacuumed \n",
      "     1 ghantt \n",
      "    27 clay \n"
     ]
    }
   ],
   "source": [
    "# Create the vocabulary \n",
    "vocab_count = Counter([token for review in train for token in review['tokens']])\n",
    "print('The vocabulary has {:,} tokens'.format(len(vocab_count)))\n",
    "print('Some examples are: ')\n",
    "print('{:6s} {:s} '.format('Count', 'Token'))\n",
    "for token in random.sample(list(vocab_count), 50):\n",
    "    print('{1:6,} {0:s} '.format(token, vocab_count[token]))"
   ]
  },
  {
   "cell_type": "markdown",
   "metadata": {
    "id": "d2vyDatKtd-A"
   },
   "source": [
    "The vocabulary is large, with many unique tokens. The code below reduces the vocabulary to only include tokens that appear a certain number of times in the training corpus. The count of each word is not needed after this point so this is also dropped in the code below. \n",
    "\n",
    "The minimum count for a token to be retained in the vocabulary is a model parameter that can be varied later when tuning the model."
   ]
  },
  {
   "cell_type": "code",
   "execution_count": 52,
   "metadata": {
    "colab": {
     "base_uri": "https://localhost:8080/"
    },
    "id": "CeAXQaDHtd-A",
    "outputId": "e27fc616-3aa9-487f-d52f-05554b6db646",
    "tags": []
   },
   "outputs": [
    {
     "name": "stdout",
     "output_type": "stream",
     "text": [
      "There are 6,092 tokens used 15 or more times. Some examples are:\n",
      "neighbor\n",
      "thrilled\n",
      "tear\n",
      "xb\n",
      "conditioner\n",
      "patronize\n",
      "stu\n",
      "walk-in\n",
      "conditions\n",
      "interaction\n",
      "reply\n",
      "chandler\n",
      "wall\n",
      "patrick\n",
      "thankful\n",
      "case\n",
      "true\n",
      "le\n",
      "favorite\n",
      "goodbye\n"
     ]
    }
   ],
   "source": [
    "# Define the minimum count for a token to be retained.\n",
    "min_count = 15\n",
    "\n",
    "# Reduce the size of the vocabulary.\n",
    "vocab = {token for token, count in vocab_count.items() if count >= min_count}\n",
    "\n",
    "print('There are {:,} tokens used {:n} or more times. Some examples are:'.\n",
    "      format(len(vocab), min_count))\n",
    "for token in random.sample(vocab, 20):\n",
    "    print(token)"
   ]
  },
  {
   "cell_type": "code",
   "execution_count": 53,
   "metadata": {
    "id": "ynqboVmMtd-C"
   },
   "outputs": [],
   "source": [
    "# Convert the reduced vocab into a dictionary to make it easier to check each column\n",
    "# of the matrix later.\n",
    "vocab = {token: k for k, token in enumerate(vocab)}"
   ]
  },
  {
   "cell_type": "markdown",
   "metadata": {
    "id": "4BErIgfdtd98"
   },
   "source": [
    "#### Vectorise\n",
    "\n",
    "This section vectorises the tokens in the corpus using the Bag of Words approach. This involves creating a vector, for each review, that is as long as the corpus's vocabulary. The vector for each review shows how often each word in the vocabulary appears in the review.\n",
    "\n",
    "For example, assume a vocabulary contains the letters 'a' to 'e'. The text 'a, b, b, c, d' would be vectorised as follows:\n",
    "{a:1, b:2, c:1, d:1, e:0}.\n"
   ]
  },
  {
   "cell_type": "code",
   "execution_count": 54,
   "metadata": {
    "colab": {
     "base_uri": "https://localhost:8080/"
    },
    "id": "vMJV-48ktd-E",
    "outputId": "fbb6ab0d-5f2b-41d0-9273-a31012afb2dd",
    "tags": []
   },
   "outputs": [
    {
     "name": "stdout",
     "output_type": "stream",
     "text": [
      ".........................\n",
      ".........................\n"
     ]
    }
   ],
   "source": [
    "# Vectorise the training and test data.\n",
    "train_X = vectorise_data(train, vocab)\n",
    "test_X = vectorise_data(test,vocab)"
   ]
  },
  {
   "cell_type": "code",
   "execution_count": 55,
   "metadata": {
    "id": "1_uoL1ejSYdu"
   },
   "outputs": [],
   "source": [
    "# Create a scaler so that the features in the dataset (the vectorised tokens)\n",
    "# can be scaled to have a mean of 0 and a standard deviation of 1.\n",
    "# Even though the features in this dataset are all on the same scale already,\n",
    "# this step can sometimes help a model converge on an optimal solution\n",
    "# faster during the fitting process.\n",
    "scaler = StandardScaler()\n",
    "train_X_scaled = scaler.fit_transform(train_X)\n",
    "test_X_scaled = scaler.fit_transform(test_X)"
   ]
  },
  {
   "cell_type": "markdown",
   "metadata": {
    "id": "jsDRJMDetd-C"
   },
   "source": [
    "## Modelling\n",
    "\n",
    "A logistic regression model is now trained. The aim of this model is to predict whether a review is a complaint (i.e. has less than 3 stars) based on the vectorised features for each review."
   ]
  },
  {
   "cell_type": "code",
   "execution_count": 56,
   "metadata": {
    "colab": {
     "base_uri": "https://localhost:8080/"
    },
    "id": "mvcSba6Otd-F",
    "outputId": "44e4dfe9-83d6-4b57-e2ad-60e617548c39",
    "tags": []
   },
   "outputs": [
    {
     "name": "stderr",
     "output_type": "stream",
     "text": [
      "[Parallel(n_jobs=1)]: Using backend SequentialBackend with 1 concurrent workers.\n"
     ]
    },
    {
     "name": "stdout",
     "output_type": "stream",
     "text": [
      "max_iter reached after 1195 seconds\n"
     ]
    },
    {
     "name": "stderr",
     "output_type": "stream",
     "text": [
      "/usr/local/lib/python3.7/dist-packages/sklearn/linear_model/_sag.py:330: ConvergenceWarning: The max_iter was reached which means the coef_ did not converge\n",
      "  \"the coef_ did not converge\", ConvergenceWarning)\n",
      "[Parallel(n_jobs=1)]: Done   1 out of   1 | elapsed: 19.9min finished\n"
     ]
    },
    {
     "data": {
      "text/plain": [
       "LogisticRegression(C=5, class_weight=None, dual=False, fit_intercept=True,\n",
       "                   intercept_scaling=1, l1_ratio=None, max_iter=1000,\n",
       "                   multi_class='auto', n_jobs=None, penalty='l2',\n",
       "                   random_state=None, solver='sag', tol=0.0001, verbose=1,\n",
       "                   warm_start=False)"
      ]
     },
     "execution_count": 56,
     "metadata": {
      "tags": []
     },
     "output_type": "execute_result"
    }
   ],
   "source": [
    "# Specify the model.\n",
    "model = LogisticRegression(C = 5, solver = 'sag', verbose=1, max_iter=1000)\n",
    "  # This line of code creates a logistic regression model.\n",
    "  # 'C' is the inverse of regularisation strength and must be a positive float;\n",
    "  # smaller values of C specify stronger regularisation.\n",
    "  # solver = 'sag' specifies that the stochastic average gradient descent solver\n",
    "  # should be used to optimise the parameters of the model.  \n",
    "  # The model can be tuned by selecting different values for C and\n",
    "  # also by specifying other parameters for the LogisticRegression module.\n",
    "\n",
    "# Fit the model.\n",
    "model.fit(train_X, train_y)\n",
    "  # The training data can be supplied in several formats including\n",
    "  # a list of lists (a matrix) for the X data and a list for the y data or\n",
    "  # numpy arrays.\n"
   ]
  },
  {
   "cell_type": "markdown",
   "metadata": {
    "id": "uK0Zkb18XVEl"
   },
   "source": [
    "The warning message given above suggests that the model did not converge on an optimal solution after the maximum number of iterations (100) was performed. You could experiment with the model parameters to see if an optimal solution can be found.\n",
    "Either way, the evaluation section below suggests that the solution found, while not necessarily optimal, is still reasonably good."
   ]
  },
  {
   "cell_type": "code",
   "execution_count": 57,
   "metadata": {
    "id": "UAMypSJHtd-G",
    "tags": []
   },
   "outputs": [],
   "source": [
    "# Make predictions using the reviews in the test dataset.\n",
    "pred_y = model.predict(test_X)"
   ]
  },
  {
   "cell_type": "markdown",
   "metadata": {
    "id": "ZRk1uZUGtd-G"
   },
   "source": [
    "## Evaluate model\n",
    "The next section prints key metrics for the predictions."
   ]
  },
  {
   "cell_type": "code",
   "execution_count": 58,
   "metadata": {
    "colab": {
     "base_uri": "https://localhost:8080/",
     "height": 348
    },
    "id": "4GG9WIqxtd-H",
    "outputId": "286f2e4c-bb1d-4548-baca-d4a33346a288",
    "tags": []
   },
   "outputs": [
    {
     "name": "stdout",
     "output_type": "stream",
     "text": [
      "Accuracy  F1-score  Precision  Recall   \n",
      "  93.3%     90.2%     91.1%     89.4%   \n"
     ]
    },
    {
     "data": {
      "image/png": "[encoded data removed]",
      "text/plain": [
       "<Figure size 432x288 with 2 Axes>"
      ]
     },
     "metadata": {
      "needs_background": "light",
      "tags": []
     },
     "output_type": "display_data"
    }
   ],
   "source": [
    "# Use the return_metrics and print_scores functions defined at the top\n",
    "# of the notebook to review how well this logistic regression model\n",
    "# has predicted complaints and non-complaints.\n",
    "scores =  return_metrics(test_y, pred_y)\n",
    "print_scores(scores, confused = True)"
   ]
  },
  {
   "cell_type": "markdown",
   "metadata": {
    "id": "X1Un_YbXS_on"
   },
   "source": [
    "The results are reasonably good, with all printed metrics in the order of 90% or higher.\n",
    "\n",
    "This suggests that the model has identified a high proportion of both true complaints and true non-complaints and a low proportion of false complaints and false non-complaints."
   ]
  },
  {
   "cell_type": "code",
   "execution_count": 59,
   "metadata": {
    "colab": {
     "base_uri": "https://localhost:8080/",
     "height": 368
    },
    "id": "j1iKbZYBbnPE",
    "outputId": "3d98d5e0-4022-41f4-9f94-538ff68d90c9"
   },
   "outputs": [
    {
     "name": "stdout",
     "output_type": "stream",
     "text": [
      "The AUC for the model is:  0.9239601046659549\n"
     ]
    },
    {
     "data": {
      "image/png": "[encoded data removed]",
      "text/plain": [
       "<Figure size 360x360 with 1 Axes>"
      ]
     },
     "metadata": {
      "needs_background": "light",
      "tags": []
     },
     "output_type": "display_data"
    }
   ],
   "source": [
    "# Print a ROC curve and calculate the AUC for the model.\n",
    "print('The AUC for the model is: ', metrics.roc_auc_score(test_y, pred_y))\n",
    "\n",
    "# Retrieve the sensitivity (true positive rate) and false positive rate for\n",
    "# each threshold value (where the threshold value decides how high the\n",
    "# predicted probability of being a complaint has to be before an observation\n",
    "# is classified as a complaint.)\n",
    "\n",
    "false_positive_rate, true_positive_rate, threshold = metrics.roc_curve(test_y, pred_y)\n",
    "plt.subplots(1, figsize=(5,5))\n",
    "plt.title('Receiver Operating Characteristic - review classifier')\n",
    "plt.plot(false_positive_rate, true_positive_rate,color='dodgerblue')\n",
    "plt.plot([0, 1], ls=\"--\",color='black')\n",
    "plt.ylabel('Sensitivity (True Positive Rate)')\n",
    "plt.xlabel('False Positive Rate')\n",
    "plt.show()"
   ]
  },
  {
   "cell_type": "markdown",
   "metadata": {
    "id": "xHoSiICwtd-I"
   },
   "source": [
    "It is instructive to see which tokens have the greatest and smallest weights in the fitted model. The greatest weights imply that these words predict complaints while the smallest weights show that these words predict non-complaints."
   ]
  },
  {
   "cell_type": "code",
   "execution_count": 60,
   "metadata": {
    "colab": {
     "base_uri": "https://localhost:8080/"
    },
    "id": "Rsq-lPALtd-J",
    "outputId": "590bc3ac-5ce3-491a-bb79-4c3de8d836eb",
    "tags": []
   },
   "outputs": [
    {
     "name": "stdout",
     "output_type": "stream",
     "text": [
      "Words driving complaints:\n",
      "Word                   Weight\n",
      "----                   ------\n",
      "worst                     1.8\n",
      "rude                      1.6\n",
      "terrible                  1.5\n",
      "horrible                  1.4\n",
      "avoid                     1.2\n",
      "poor                      1.2\n",
      "unprofessional            1.1\n",
      "beware                    1.1\n",
      "response                  1.1\n",
      "awful                     1.0\n",
      "\n",
      "Words driving non-complaints:\n",
      "Word                   Weight\n",
      "----                   ------\n",
      "awesome                  -1.8\n",
      "amazing                  -1.7\n",
      "excellent                -1.5\n",
      "thank                    -1.4\n",
      "best                     -1.3\n",
      "professional             -1.3\n",
      "honest                   -1.2\n",
      "great                    -1.2\n",
      "reasonable               -1.2\n",
      "highly                   -1.2\n",
      "\n"
     ]
    }
   ],
   "source": [
    "# Retrieve the weights from the model for each token in the vocabulary.\n",
    "def print_by_weight(model, vocab, k = 5, verbose = True):\n",
    "    mod_coefs = model.coef_\n",
    "    \n",
    "    # Create a list of vocab words and their weights.\n",
    "    token_weight = list()\n",
    "    for token, count in vocab.items():\n",
    "        token_weight.append((token, mod_coefs[0, count]))\n",
    "   \n",
    "    # Sort and print the top k items.\n",
    "    def print_list(tokens):\n",
    "        print('{:20s}  {:>7s}'.format('Word', 'Weight'))\n",
    "        print('{:20s}  {:>7s}'.format('----', '------'))\n",
    "        for token in tokens:\n",
    "            print ('{:20s}  {:7.1f}'.format(*token))\n",
    "        print()\n",
    "        return\n",
    "\n",
    "    token_weight.sort(key = lambda x : x[1], reverse = True)\n",
    "    complaint_keywords = token_weight[:k]\n",
    "    print('Words driving complaints:')\n",
    "    print_list(token_weight[:k])\n",
    "    \n",
    "    token_weight.sort(key = lambda x : x[1])\n",
    "    non_complaint_keywords = token_weight[:k]\n",
    "    print('Words driving non-complaints:')\n",
    "    print_list(token_weight[:k])\n",
    "\n",
    "    return complaint_keywords, non_complaint_keywords\n",
    "\n",
    "complaint_keywords, non_complaint_keywords = print_by_weight(model, vocab, 10)"
   ]
  },
  {
   "cell_type": "markdown",
   "metadata": {
    "id": "qkRKLrhJd1um"
   },
   "source": [
    "## Comments\n",
    "\n",
    "The model fitted provides a reasonable prediction of whether each review is a complaint (less than 3 stars) or a non-complaint (3 or more stars). The output of the model also makes sense in that the top 'complaint' words all have clear negative sentiment and the top 'non-complaint' words all have clear positive sentiment.\n",
    "\n",
    "As an exercise, you should experiment with the tokenisation of reviews by trying the following:\n",
    "- remove standard stop words; and\n",
    "- perform stemming or lemmatisation.\n",
    "\n",
    "You may like to review the code in Case Study 2 first and then come back to try the above."
   ]
  }
 ],
 "metadata": {
  "colab": {
   "collapsed_sections": [
    "QENGw1c-td99",
    "tk4j1SXytd9_",
    "2MA6UG1utd-B",
    "4R7XbwkVtd-H",
    "YhmgCp3wtd-L",
    "0TMydqW1td-M"
   ],
   "name": "DAA_M07_CS1_v4.ipynb",
   "provenance": [],
   "toc_visible": true
  },
  "kernelspec": {
   "display_name": "Python 3",
   "language": "python",
   "name": "python3"
  },
  "language_info": {
   "codemirror_mode": {
    "name": "ipython",
    "version": 3
   },
   "file_extension": ".py",
   "mimetype": "text/x-python",
   "name": "python",
   "nbconvert_exporter": "python",
   "pygments_lexer": "ipython3",
   "version": "3.9.1"
  }
 },
 "nbformat": 4,
 "nbformat_minor": 1
}
