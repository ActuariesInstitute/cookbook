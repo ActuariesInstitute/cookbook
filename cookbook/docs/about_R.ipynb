{
 "cells": [
  {
   "cell_type": "markdown",
   "id": "4cc6bd81",
   "metadata": {},
   "source": [
    "# About R"
   ]
  },
  {
   "cell_type": "markdown",
   "id": "c36cb181",
   "metadata": {},
   "source": [
    "R is a programming language for data and statistics. \n",
    "\n",
    "It is free and open source, and in addition to the base functionality, many free libraries are available covering a number of statistical techniques. This makes it a strong language for use in actuarial and data science applications.\n",
    "\n",
    "The following sections includes materials from the [YAP-YDAWG-R-Workshop](https://github.com/ActuariesInstitute/YAP-YDAWG-R-Workshop) to help you get started with the language. "
   ]
  }
 ],
 "metadata": {
  "kernelspec": {
   "display_name": "Python 3",
   "language": "python",
   "name": "python3"
  },
  "language_info": {
   "codemirror_mode": {
    "name": "ipython",
    "version": 3
   },
   "file_extension": ".py",
   "mimetype": "text/x-python",
   "name": "python",
   "nbconvert_exporter": "python",
   "pygments_lexer": "ipython3",
   "version": "3.9.1"
  }
 },
 "nbformat": 4,
 "nbformat_minor": 5
}
