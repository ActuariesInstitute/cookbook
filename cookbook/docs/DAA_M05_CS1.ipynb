{
 "cells": [
  {
   "cell_type": "markdown",
   "metadata": {
    "id": "CXgHPzSBn24z"
   },
   "source": [
    "# Py: Customer Churn Classification\n",
    "Originally published in DAA M05 Classification and neural networks.\n",
    "## Case study 1 - Customer churn\n",
    "\n",
    "### Purpose:\n",
    "This notebook investigates the use of neural networks and gradient boosting machines for predicting which customers are likely to churn. This code is used in Case Study 1 in Module 5.\n",
    "\n",
    "### References:\n",
    "The dataset used in this notebook was sourced from a Kaggle competition  that aimed to predict customer churn behaviour for a telecommunications provider: https://www.kaggle.com/blastchar/telco-customer-churn.\n",
    "\n",
    "This dataset contains 7,043 rows (one for each customer) and 21 features, including information about each customer’s:\n",
    "- services with the company, such as phone, internet, online security, online backup, device protection, tech support, and streaming of TV and movies;\n",
    "- account information, such as how long they have been a customer, contract, payment method, paperless billing, monthly charges and total charges; and\n",
    "- demographic information, such as gender, age range, and whether they have a partner and dependents.\n",
    "\n",
    "The response variable in the dataset is labelled ‘Churn’. It represents whether each customer left the service provider in the month preceding the data extract date. "
   ]
  },
  {
   "cell_type": "markdown",
   "metadata": {
    "id": "BTNPqojQCxXf"
   },
   "source": [
    "## Packages\n",
    "This section imports the packages that will be required for this exercise/case study."
   ]
  },
  {
   "cell_type": "code",
   "execution_count": 1,
   "metadata": {
    "id": "t7HxyzzGCbzn"
   },
   "outputs": [],
   "source": [
    "import pandas as pd # Pandas is used for data management.\n",
    "import numpy as np # Numpy is used for mathematical operations.\n",
    "\n",
    "# Matplotlib and Seaborn are used for plotting.\n",
    "import matplotlib.pyplot as plt\n",
    "import matplotlib.image as mpimg\n",
    "import seaborn as sns\n",
    "%matplotlib inline\n",
    "\n",
    "import os\n",
    "from google.colab import files\n",
    "\n",
    "import itertools # Used in the confusion matrix function\n",
    "\n",
    "from tensorflow import keras # Keras, from the Tensorflow package is used for\n",
    "                             # building the neural networks.\n",
    "\n",
    "# The various functions below from the Scikit-learn package help with\n",
    "# modelling and diagnostics.\n",
    "from sklearn.preprocessing import LabelEncoder, MinMaxScaler\n",
    "from sklearn.model_selection import train_test_split\n",
    "from sklearn.metrics import log_loss\n",
    "from sklearn.ensemble import GradientBoostingClassifier # For building the GBM\n",
    "from sklearn.metrics import auc, roc_auc_score, confusion_matrix, f1_score\n",
    "from sklearn.inspection import plot_partial_dependence\n",
    "\n",
    "from tensorflow.keras.models import Sequential\n",
    "from tensorflow.keras.layers import Dense, BatchNormalization\n",
    "from tensorflow.keras.wrappers.scikit_learn import KerasRegressor\n",
    "\n",
    "import tensorflow as tf"
   ]
  },
  {
   "cell_type": "markdown",
   "metadata": {
    "id": "jDmEsRb2wkS_"
   },
   "source": [
    "## Functions\n",
    "The section below defines some general functions that are used in this notebook.\n",
    "Other functions that are specific to each type of model are defined in the section for that model."
   ]
  },
  {
   "cell_type": "code",
   "execution_count": 2,
   "metadata": {
    "id": "snKodlNJiKgl"
   },
   "outputs": [],
   "source": [
    "# Define a function to split the data into train, validation and test sets.\n",
    "# This uses the `train_test_split` function from the sklearn package to do the \n",
    "# actual data splitting.\n",
    "def create_data_splits(dataset, id_col, response_col):\n",
    "  '''\n",
    "  Splits the data into train, validation and test sets (64%, 16%, 20%)\n",
    "  All columns on `dataset` other than the `id_col` and `response_col` will be\n",
    "  used as features.\n",
    "  Params:\n",
    "    dataset: input dataset as a pandas data frame\n",
    "    id_col: (str) the name of the column containing the unique row identifier\n",
    "    response_col: (str) the name of the response column\n",
    "  Returns:\n",
    "    train_x: the training data (feature) matrix\n",
    "    train_y: the training data response vector\n",
    "    validation_x: the validation data (feature) matrix\n",
    "    validation_y: the validation data response vector\n",
    "    test_x: the test data (feature) matrix\n",
    "    test_y: the test data response vector\n",
    "  '''\n",
    "  # Split data into train/test (80%, 20%).\n",
    "  train_full, test = train_test_split(dataset, test_size = 0.2, random_state = 123)\n",
    "\n",
    "  # Create a validation set from the training data (20%).\n",
    "  train, validation = train_test_split(train_full, test_size = 0.2, random_state = 234)\n",
    "\n",
    "  # Create train and validation data feature matrices and response vectors\n",
    "  # For the response vectors, convert Churn Yes/No to 1/0\n",
    "\n",
    "  feature_cols = [i for i in dataset.columns if i not in id_col + response_col]\n",
    "\n",
    "  train_x = train[feature_cols]\n",
    "  train_y = train[response_col].eq('Yes').mul(1)\n",
    "\n",
    "  validation_x = validation[feature_cols]\n",
    "  validation_y = validation[response_col].eq('Yes').mul(1)\n",
    "\n",
    "  test_x = test[feature_cols]\n",
    "  test_y = test[response_col].eq('Yes').mul(1)\n",
    "\n",
    "  return train_x, train_y, validation_x, validation_y, test_x, test_y"
   ]
  },
  {
   "cell_type": "code",
   "execution_count": 3,
   "metadata": {
    "id": "07zrYh8E2Y3W"
   },
   "outputs": [],
   "source": [
    "# Define a function to print and plot a confusion matrix.\n",
    "def plot_confusion_matrix(cm, classes,\n",
    "                          normalise=False,\n",
    "                          title='Confusion matrix',\n",
    "                          cmap=plt.cm.Blues):\n",
    "    '''\n",
    "    This function prints and plots a confusion matrix.\n",
    "    Normalisation of the matrix can be applied by setting `normalise=True`.\n",
    "    Normalsiation ensures that the sum of each row in the confusion matrix is 1.\n",
    "    '''\n",
    "    plt.imshow(cm, interpolation='nearest', cmap=cmap)\n",
    "    plt.title(title)\n",
    "    plt.colorbar()\n",
    "    tick_marks = np.arange(len(classes))\n",
    "    plt.xticks(tick_marks, classes, rotation=45)\n",
    "    plt.yticks(tick_marks, classes)\n",
    "\n",
    "    if normalise:\n",
    "        cm = cm.astype('float') / cm.sum(axis=1)[:, np.newaxis]\n",
    "\n",
    "    thresh = cm.max() / 2.\n",
    "    for i, j in itertools.product(range(cm.shape[0]), range(cm.shape[1])):\n",
    "        plt.text(j, i, cm[i, j],\n",
    "                 horizontalalignment='center',\n",
    "                 color='white' if cm[i, j] > thresh else 'black')\n",
    "\n",
    "    plt.tight_layout()\n",
    "    plt.ylabel('True response')\n",
    "    plt.xlabel('Predicted response')"
   ]
  },
  {
   "cell_type": "markdown",
   "metadata": {
    "id": "68WtdIs5D3ci"
   },
   "source": [
    "## Data\n",
    "This section:\n",
    "- imports the data that will be used in the modelling;\n",
    "- explores the data; and\n",
    "- prepares the data for modelling."
   ]
  },
  {
   "cell_type": "markdown",
   "metadata": {
    "id": "NSdDC7_m_x-h"
   },
   "source": [
    "### Import data\n",
    "The below code will first upload the csv file to Google Colab, and the read it into a pandas data frame.\n",
    "\n",
    "When prompted, select the *DAA_M05_CS1_data.csv* dataset to upload."
   ]
  },
  {
   "cell_type": "code",
   "execution_count": 4,
   "metadata": {
    "colab": {
     "base_uri": "https://localhost:8080/",
     "height": 75,
     "resources": {
      "http://localhost:8080/nbextensions/google.colab/files.js": {
       "data": "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",
       "headers": [
        [
         "content-type",
         "application/javascript"
        ]
       ],
       "ok": true,
       "status": 200,
       "status_text": "OK"
      }
     }
    },
    "id": "vEjMiXe2CwcJ",
    "outputId": "cb33000d-ce37-42a5-afd9-cb55327c2ed9"
   },
   "outputs": [
    {
     "data": {
      "text/html": [
       "\n",
       "     <input type=\"file\" id=\"files-7680352d-7d84-4395-ad62-d6e1b01742be\" name=\"files[]\" multiple disabled\n",
       "        style=\"border:none\" />\n",
       "     <output id=\"result-7680352d-7d84-4395-ad62-d6e1b01742be\">\n",
       "      Upload widget is only available when the cell has been executed in the\n",
       "      current browser session. Please rerun this cell to enable.\n",
       "      </output>\n",
       "      <script src=\"/nbextensions/google.colab/files.js\"></script> "
      ],
      "text/plain": [
       "<IPython.core.display.HTML object>"
      ]
     },
     "metadata": {
      "tags": []
     },
     "output_type": "display_data"
    },
    {
     "name": "stdout",
     "output_type": "stream",
     "text": [
      "Saving DAA_M05_CS1_data.csv to DAA_M05_CS1_data.csv\n"
     ]
    }
   ],
   "source": [
    "files.upload()\n",
    "dataset = pd.read_csv('/content/DAA_M05_CS1_data.csv', header = 0)"
   ]
  },
  {
   "cell_type": "markdown",
   "metadata": {
    "id": "IRNab2i2Fl8F"
   },
   "source": [
    "### Explore data (EDA)\n",
    "Prior to commencing modelling, it is always a good idea to look at the data to get an understanding of the:\n",
    "* available features;\n",
    "* the data types of the features (numeric, categorical, dates, etc.);\n",
    "* the distribution and missingness of the features;\n",
    "* correlations between features; and\n",
    "* relationships between features and the response variable.\n",
    "\n",
    "The code below looks at some of these components of the Telco dataset."
   ]
  },
  {
   "cell_type": "code",
   "execution_count": 5,
   "metadata": {
    "colab": {
     "base_uri": "https://localhost:8080/"
    },
    "id": "KKD6X86NFh01",
    "outputId": "13f57d30-c720-4174-aafd-089f72998381"
   },
   "outputs": [
    {
     "name": "stdout",
     "output_type": "stream",
     "text": [
      "<class 'pandas.core.frame.DataFrame'>\n",
      "RangeIndex: 7043 entries, 0 to 7042\n",
      "Data columns (total 21 columns):\n",
      " #   Column            Non-Null Count  Dtype  \n",
      "---  ------            --------------  -----  \n",
      " 0   customerID        7043 non-null   object \n",
      " 1   gender            7043 non-null   object \n",
      " 2   SeniorCitizen     7043 non-null   int64  \n",
      " 3   Partner           7043 non-null   object \n",
      " 4   Dependents        7043 non-null   object \n",
      " 5   tenure            7043 non-null   int64  \n",
      " 6   PhoneService      7043 non-null   object \n",
      " 7   MultipleLines     7043 non-null   object \n",
      " 8   InternetService   7043 non-null   object \n",
      " 9   OnlineSecurity    7043 non-null   object \n",
      " 10  OnlineBackup      7043 non-null   object \n",
      " 11  DeviceProtection  7043 non-null   object \n",
      " 12  TechSupport       7043 non-null   object \n",
      " 13  StreamingTV       7043 non-null   object \n",
      " 14  StreamingMovies   7043 non-null   object \n",
      " 15  Contract          7043 non-null   object \n",
      " 16  PaperlessBilling  7043 non-null   object \n",
      " 17  PaymentMethod     7043 non-null   object \n",
      " 18  MonthlyCharges    7043 non-null   float64\n",
      " 19  TotalCharges      7043 non-null   object \n",
      " 20  Churn             7043 non-null   object \n",
      "dtypes: float64(1), int64(2), object(18)\n",
      "memory usage: 1.1+ MB\n",
      "None\n"
     ]
    }
   ],
   "source": [
    "# Check the available features, their data types and their missingness.\n",
    "print(dataset.info())"
   ]
  },
  {
   "cell_type": "code",
   "execution_count": 6,
   "metadata": {
    "colab": {
     "base_uri": "https://localhost:8080/"
    },
    "id": "7k4I0HoMGVPc",
    "outputId": "cdde39da-8582-4b84-dfd0-825fd3047b52"
   },
   "outputs": [
    {
     "data": {
      "text/plain": [
       "customerID          7043\n",
       "gender                 2\n",
       "SeniorCitizen          2\n",
       "Partner                2\n",
       "Dependents             2\n",
       "tenure                73\n",
       "PhoneService           2\n",
       "MultipleLines          3\n",
       "InternetService        3\n",
       "OnlineSecurity         3\n",
       "OnlineBackup           3\n",
       "DeviceProtection       3\n",
       "TechSupport            3\n",
       "StreamingTV            3\n",
       "StreamingMovies        3\n",
       "Contract               3\n",
       "PaperlessBilling       2\n",
       "PaymentMethod          4\n",
       "MonthlyCharges      1585\n",
       "TotalCharges        6531\n",
       "Churn                  2\n",
       "dtype: int64"
      ]
     },
     "execution_count": 6,
     "metadata": {
      "tags": []
     },
     "output_type": "execute_result"
    }
   ],
   "source": [
    "# Check the number of unique values for each feature.\n",
    "dataset.nunique()"
   ]
  },
  {
   "cell_type": "code",
   "execution_count": 7,
   "metadata": {
    "colab": {
     "base_uri": "https://localhost:8080/",
     "height": 313
    },
    "id": "xYMt6WQTh3SO",
    "outputId": "c2b22f52-463a-4b07-8ee1-04bfe69b9b73"
   },
   "outputs": [
    {
     "data": {
      "text/html": [
       "<div>\n",
       "<style scoped>\n",
       "    .dataframe tbody tr th:only-of-type {\n",
       "        vertical-align: middle;\n",
       "    }\n",
       "\n",
       "    .dataframe tbody tr th {\n",
       "        vertical-align: top;\n",
       "    }\n",
       "\n",
       "    .dataframe thead th {\n",
       "        text-align: right;\n",
       "    }\n",
       "</style>\n",
       "<table border=\"1\" class=\"dataframe\">\n",
       "  <thead>\n",
       "    <tr style=\"text-align: right;\">\n",
       "      <th></th>\n",
       "      <th>customerID</th>\n",
       "      <th>gender</th>\n",
       "      <th>SeniorCitizen</th>\n",
       "      <th>Partner</th>\n",
       "      <th>Dependents</th>\n",
       "      <th>tenure</th>\n",
       "      <th>PhoneService</th>\n",
       "      <th>MultipleLines</th>\n",
       "      <th>InternetService</th>\n",
       "      <th>OnlineSecurity</th>\n",
       "      <th>OnlineBackup</th>\n",
       "      <th>DeviceProtection</th>\n",
       "      <th>TechSupport</th>\n",
       "      <th>StreamingTV</th>\n",
       "      <th>StreamingMovies</th>\n",
       "      <th>Contract</th>\n",
       "      <th>PaperlessBilling</th>\n",
       "      <th>PaymentMethod</th>\n",
       "      <th>MonthlyCharges</th>\n",
       "      <th>TotalCharges</th>\n",
       "      <th>Churn</th>\n",
       "    </tr>\n",
       "  </thead>\n",
       "  <tbody>\n",
       "    <tr>\n",
       "      <th>0</th>\n",
       "      <td>7590-VHVEG</td>\n",
       "      <td>Female</td>\n",
       "      <td>0</td>\n",
       "      <td>Yes</td>\n",
       "      <td>No</td>\n",
       "      <td>1</td>\n",
       "      <td>No</td>\n",
       "      <td>No phone service</td>\n",
       "      <td>DSL</td>\n",
       "      <td>No</td>\n",
       "      <td>Yes</td>\n",
       "      <td>No</td>\n",
       "      <td>No</td>\n",
       "      <td>No</td>\n",
       "      <td>No</td>\n",
       "      <td>Month-to-month</td>\n",
       "      <td>Yes</td>\n",
       "      <td>Electronic check</td>\n",
       "      <td>29.85</td>\n",
       "      <td>29.85</td>\n",
       "      <td>No</td>\n",
       "    </tr>\n",
       "    <tr>\n",
       "      <th>1</th>\n",
       "      <td>5575-GNVDE</td>\n",
       "      <td>Male</td>\n",
       "      <td>0</td>\n",
       "      <td>No</td>\n",
       "      <td>No</td>\n",
       "      <td>34</td>\n",
       "      <td>Yes</td>\n",
       "      <td>No</td>\n",
       "      <td>DSL</td>\n",
       "      <td>Yes</td>\n",
       "      <td>No</td>\n",
       "      <td>Yes</td>\n",
       "      <td>No</td>\n",
       "      <td>No</td>\n",
       "      <td>No</td>\n",
       "      <td>One year</td>\n",
       "      <td>No</td>\n",
       "      <td>Mailed check</td>\n",
       "      <td>56.95</td>\n",
       "      <td>1889.5</td>\n",
       "      <td>No</td>\n",
       "    </tr>\n",
       "    <tr>\n",
       "      <th>2</th>\n",
       "      <td>3668-QPYBK</td>\n",
       "      <td>Male</td>\n",
       "      <td>0</td>\n",
       "      <td>No</td>\n",
       "      <td>No</td>\n",
       "      <td>2</td>\n",
       "      <td>Yes</td>\n",
       "      <td>No</td>\n",
       "      <td>DSL</td>\n",
       "      <td>Yes</td>\n",
       "      <td>Yes</td>\n",
       "      <td>No</td>\n",
       "      <td>No</td>\n",
       "      <td>No</td>\n",
       "      <td>No</td>\n",
       "      <td>Month-to-month</td>\n",
       "      <td>Yes</td>\n",
       "      <td>Mailed check</td>\n",
       "      <td>53.85</td>\n",
       "      <td>108.15</td>\n",
       "      <td>Yes</td>\n",
       "    </tr>\n",
       "    <tr>\n",
       "      <th>3</th>\n",
       "      <td>7795-CFOCW</td>\n",
       "      <td>Male</td>\n",
       "      <td>0</td>\n",
       "      <td>No</td>\n",
       "      <td>No</td>\n",
       "      <td>45</td>\n",
       "      <td>No</td>\n",
       "      <td>No phone service</td>\n",
       "      <td>DSL</td>\n",
       "      <td>Yes</td>\n",
       "      <td>No</td>\n",
       "      <td>Yes</td>\n",
       "      <td>Yes</td>\n",
       "      <td>No</td>\n",
       "      <td>No</td>\n",
       "      <td>One year</td>\n",
       "      <td>No</td>\n",
       "      <td>Bank transfer (automatic)</td>\n",
       "      <td>42.30</td>\n",
       "      <td>1840.75</td>\n",
       "      <td>No</td>\n",
       "    </tr>\n",
       "    <tr>\n",
       "      <th>4</th>\n",
       "      <td>9237-HQITU</td>\n",
       "      <td>Female</td>\n",
       "      <td>0</td>\n",
       "      <td>No</td>\n",
       "      <td>No</td>\n",
       "      <td>2</td>\n",
       "      <td>Yes</td>\n",
       "      <td>No</td>\n",
       "      <td>Fiber optic</td>\n",
       "      <td>No</td>\n",
       "      <td>No</td>\n",
       "      <td>No</td>\n",
       "      <td>No</td>\n",
       "      <td>No</td>\n",
       "      <td>No</td>\n",
       "      <td>Month-to-month</td>\n",
       "      <td>Yes</td>\n",
       "      <td>Electronic check</td>\n",
       "      <td>70.70</td>\n",
       "      <td>151.65</td>\n",
       "      <td>Yes</td>\n",
       "    </tr>\n",
       "  </tbody>\n",
       "</table>\n",
       "</div>"
      ],
      "text/plain": [
       "   customerID  gender  SeniorCitizen  ... MonthlyCharges TotalCharges  Churn\n",
       "0  7590-VHVEG  Female              0  ...          29.85        29.85     No\n",
       "1  5575-GNVDE    Male              0  ...          56.95       1889.5     No\n",
       "2  3668-QPYBK    Male              0  ...          53.85       108.15    Yes\n",
       "3  7795-CFOCW    Male              0  ...          42.30      1840.75     No\n",
       "4  9237-HQITU  Female              0  ...          70.70       151.65    Yes\n",
       "\n",
       "[5 rows x 21 columns]"
      ]
     },
     "execution_count": 7,
     "metadata": {
      "tags": []
     },
     "output_type": "execute_result"
    }
   ],
   "source": [
    "# Print out the first 5 observations in the data.\n",
    "dataset.head()"
   ]
  },
  {
   "cell_type": "markdown",
   "metadata": {
    "id": "2hKrluuwiE0Z"
   },
   "source": [
    "###  Prepare data\n",
    "\n",
    "Some data preparation is needed before the modelling can begin.\n",
    "\n",
    "From the summaries in the EDA section above you can see that:\n",
    "- `customerID` is the unique identifier for each observation;\n",
    "- `Churn` is the response and takes values 'Yes' and 'No' with a 'Yes' rate of 26.5% (= 1,869/(5,174+1,869));\n",
    "- `Tenure`, `MonthlyCharges` and `TotalCharges` are numeric features;\n",
    "  - `TotalCharges` is stored as categorical;\n",
    "- all other features are categorical (though many with only 2 levels); and\n",
    "- missing values are not a significant concern."
   ]
  },
  {
   "cell_type": "code",
   "execution_count": 8,
   "metadata": {
    "colab": {
     "base_uri": "https://localhost:8080/"
    },
    "id": "rZAYu74Ti38g",
    "outputId": "c3ec2324-4da7-415d-8f78-705e363eb235"
   },
   "outputs": [
    {
     "name": "stdout",
     "output_type": "stream",
     "text": [
      "gender ['Female' 'Male']\n",
      "SeniorCitizen [0 1]\n",
      "Partner ['Yes' 'No']\n",
      "Dependents ['No' 'Yes']\n",
      "PhoneService ['No' 'Yes']\n",
      "MultipleLines ['No phone service' 'No' 'Yes']\n",
      "InternetService ['DSL' 'Fiber optic' 'No']\n",
      "OnlineSecurity ['No' 'Yes' 'No internet service']\n",
      "OnlineBackup ['Yes' 'No' 'No internet service']\n",
      "DeviceProtection ['No' 'Yes' 'No internet service']\n",
      "TechSupport ['No' 'Yes' 'No internet service']\n",
      "StreamingTV ['No' 'Yes' 'No internet service']\n",
      "StreamingMovies ['No' 'Yes' 'No internet service']\n",
      "Contract ['Month-to-month' 'One year' 'Two year']\n",
      "PaperlessBilling ['Yes' 'No']\n",
      "PaymentMethod ['Electronic check' 'Mailed check' 'Bank transfer (automatic)'\n",
      " 'Credit card (automatic)']\n",
      "Churn ['No' 'Yes']\n"
     ]
    }
   ],
   "source": [
    "# Define the ID and response columns\n",
    "id_col = ['customerID']\n",
    "response_col = ['Churn']\n",
    "\n",
    "# Get the list of features by type.\n",
    "# Categorical features can be identified as those columns with only a few levels.\n",
    "# This code selects the list of features with < 6 levels and puts the names \n",
    "# into a list, excluding the id_col and response_col.\n",
    "cat_cols = dataset.nunique()[dataset.nunique() < 6].keys().tolist()\n",
    "cat_cols = [x for x in cat_cols if x not in id_col + response_col]\n",
    "\n",
    "# Numerical features are left after the categorical features have been removed.\n",
    "# List comprehension is used below to select the set of feature names not\n",
    "# contained in the cat_cols, id_col, or response_col lists.\n",
    "num_cols = [x for x in dataset.columns if x not in cat_cols + id_col + response_col]\n",
    "\n",
    "# Convert TotalCharges to numeric and set equal to 0 where blank.\n",
    "dataset.loc[dataset['TotalCharges'] == ' ','TotalCharges'] = 0\n",
    "dataset['TotalCharges'] = pd.to_numeric(dataset['TotalCharges'])\n",
    "\n",
    "# Check the number of levels for each categorical feature and the\n",
    "# response variable.\n",
    "for cat_col in cat_cols + response_col:\n",
    "  print(cat_col, dataset[cat_col].unique())"
   ]
  },
  {
   "cell_type": "code",
   "execution_count": 9,
   "metadata": {
    "colab": {
     "base_uri": "https://localhost:8080/"
    },
    "id": "XxNuVrXpUE3a",
    "outputId": "07cbfed1-5d04-42b9-9182-22ecd2cde6c2"
   },
   "outputs": [
    {
     "data": {
      "text/plain": [
       "customerID           object\n",
       "gender               object\n",
       "SeniorCitizen         int64\n",
       "Partner              object\n",
       "Dependents           object\n",
       "tenure                int64\n",
       "PhoneService         object\n",
       "MultipleLines        object\n",
       "InternetService      object\n",
       "OnlineSecurity       object\n",
       "OnlineBackup         object\n",
       "DeviceProtection     object\n",
       "TechSupport          object\n",
       "StreamingTV          object\n",
       "StreamingMovies      object\n",
       "Contract             object\n",
       "PaperlessBilling     object\n",
       "PaymentMethod        object\n",
       "MonthlyCharges      float64\n",
       "TotalCharges        float64\n",
       "Churn                object\n",
       "dtype: object"
      ]
     },
     "execution_count": 9,
     "metadata": {
      "tags": []
     },
     "output_type": "execute_result"
    }
   ],
   "source": [
    "# Check the updated feature types\n",
    "dataset.dtypes"
   ]
  },
  {
   "cell_type": "markdown",
   "metadata": {
    "id": "cLPD99HTwXTg"
   },
   "source": [
    "Now that the data has been cleaned up, the marginal relationship between the features and the response can be analysed."
   ]
  },
  {
   "cell_type": "code",
   "execution_count": 10,
   "metadata": {
    "colab": {
     "base_uri": "https://localhost:8080/",
     "height": 1000
    },
    "id": "8hGzvSALVT67",
    "outputId": "551ebb05-dceb-40f1-cb43-2a7d2a0728be"
   },
   "outputs": [
    {
     "data": {
      "text/plain": [
       "<matplotlib.axes._subplots.AxesSubplot at 0x7f4ea41c6750>"
      ]
     },
     "execution_count": 10,
     "metadata": {
      "tags": []
     },
     "output_type": "execute_result"
    },
    {
     "data": {
      "image/png": "[encoded data removed]",
      "text/plain": [
       "<Figure size 432x288 with 1 Axes>"
      ]
     },
     "metadata": {
      "needs_background": "light",
      "tags": []
     },
     "output_type": "display_data"
    },
    {
     "data": {
      "image/png": "[encoded data removed]",
      "text/plain": [
       "<Figure size 432x288 with 1 Axes>"
      ]
     },
     "metadata": {
      "needs_background": "light",
      "tags": []
     },
     "output_type": "display_data"
    },
    {
     "data": {
      "image/png": "[encoded data removed]",
      "text/plain": [
       "<Figure size 432x288 with 1 Axes>"
      ]
     },
     "metadata": {
      "needs_background": "light",
      "tags": []
     },
     "output_type": "display_data"
    },
    {
     "data": {
      "image/png": "[encoded data removed]",
      "text/plain": [
       "<Figure size 432x288 with 1 Axes>"
      ]
     },
     "metadata": {
      "needs_background": "light",
      "tags": []
     },
     "output_type": "display_data"
    },
    {
     "data": {
      "image/png": "[encoded data removed]",
      "text/plain": [
       "<Figure size 432x288 with 1 Axes>"
      ]
     },
     "metadata": {
      "needs_background": "light",
      "tags": []
     },
     "output_type": "display_data"
    },
    {
     "data": {
      "image/png": "[encoded data removed]",
      "text/plain": [
       "<Figure size 432x288 with 1 Axes>"
      ]
     },
     "metadata": {
      "needs_background": "light",
      "tags": []
     },
     "output_type": "display_data"
    },
    {
     "data": {
      "image/png": "[encoded data removed]",
      "text/plain": [
       "<Figure size 432x288 with 1 Axes>"
      ]
     },
     "metadata": {
      "needs_background": "light",
      "tags": []
     },
     "output_type": "display_data"
    },
    {
     "data": {
      "image/png": "[encoded data removed]",
      "text/plain": [
       "<Figure size 432x288 with 1 Axes>"
      ]
     },
     "metadata": {
      "needs_background": "light",
      "tags": []
     },
     "output_type": "display_data"
    },
    {
     "data": {
      "image/png": "[encoded data removed]",
      "text/plain": [
       "<Figure size 432x288 with 1 Axes>"
      ]
     },
     "metadata": {
      "needs_background": "light",
      "tags": []
     },
     "output_type": "display_data"
    },
    {
     "data": {
      "image/png": "[encoded data removed]",
      "text/plain": [
       "<Figure size 432x288 with 1 Axes>"
      ]
     },
     "metadata": {
      "needs_background": "light",
      "tags": []
     },
     "output_type": "display_data"
    },
    {
     "data": {
      "image/png": "[encoded data removed]",
      "text/plain": [
       "<Figure size 432x288 with 1 Axes>"
      ]
     },
     "metadata": {
      "needs_background": "light",
      "tags": []
     },
     "output_type": "display_data"
    },
    {
     "data": {
      "image/png": "[encoded data removed]",
      "text/plain": [
       "<Figure size 432x288 with 1 Axes>"
      ]
     },
     "metadata": {
      "needs_background": "light",
      "tags": []
     },
     "output_type": "display_data"
    },
    {
     "data": {
      "image/png": "[encoded data removed]",
      "text/plain": [
       "<Figure size 432x288 with 1 Axes>"
      ]
     },
     "metadata": {
      "needs_background": "light",
      "tags": []
     },
     "output_type": "display_data"
    },
    {
     "data": {
      "image/png": "[encoded data removed]",
      "text/plain": [
       "<Figure size 432x288 with 1 Axes>"
      ]
     },
     "metadata": {
      "needs_background": "light",
      "tags": []
     },
     "output_type": "display_data"
    },
    {
     "data": {
      "image/png": "[encoded data removed]",
      "text/plain": [
       "<Figure size 432x288 with 1 Axes>"
      ]
     },
     "metadata": {
      "needs_background": "light",
      "tags": []
     },
     "output_type": "display_data"
    },
    {
     "data": {
      "image/png": "[encoded data removed]",
      "text/plain": [
       "<Figure size 432x288 with 1 Axes>"
      ]
     },
     "metadata": {
      "needs_background": "light",
      "tags": []
     },
     "output_type": "display_data"
    },
    {
     "data": {
      "image/png": "[encoded data removed]",
      "text/plain": [
       "<Figure size 432x288 with 1 Axes>"
      ]
     },
     "metadata": {
      "needs_background": "light",
      "tags": []
     },
     "output_type": "display_data"
    },
    {
     "data": {
      "image/png": "[encoded data removed]",
      "text/plain": [
       "<Figure size 432x288 with 1 Axes>"
      ]
     },
     "metadata": {
      "needs_background": "light",
      "tags": []
     },
     "output_type": "display_data"
    },
    {
     "data": {
      "image/png": "[encoded data removed]",
      "text/plain": [
       "<Figure size 432x288 with 1 Axes>"
      ]
     },
     "metadata": {
      "needs_background": "light",
      "tags": []
     },
     "output_type": "display_data"
    }
   ],
   "source": [
    "# Plot the mean churn rate by each of the candidate features.\n",
    "\n",
    "# Loop over each feature.\n",
    "for feature in [\n",
    "    'gender',\n",
    "    'SeniorCitizen',\n",
    "    'Partner',\n",
    "    'Dependents',\n",
    "    'tenure',\n",
    "    'PhoneService',\n",
    "    'MultipleLines',\n",
    "    'InternetService',\n",
    "    'OnlineSecurity',\n",
    "    'OnlineBackup',\n",
    "    'DeviceProtection',\n",
    "    'TechSupport',\n",
    "    'StreamingTV',\n",
    "    'StreamingMovies',\n",
    "    'Contract',\n",
    "    'PaperlessBilling',\n",
    "    'PaymentMethod',\n",
    "]:\n",
    "    (\n",
    "        # create a binary 1/0 response column, where 1 indicates Churn = 'Yes';\n",
    "        # group by the values of the current feature;\n",
    "        # calculate the mean of the response; and\n",
    "        # plot.\n",
    "        dataset[[feature]]\n",
    "        .assign(Response=np.where(dataset.Churn == 'Yes', 1, 0))\n",
    "        .groupby(feature)\n",
    "        .agg('mean')\n",
    "        .plot.bar(color='Dodgerblue')\n",
    "    )\n",
    "\n",
    "\n",
    "(\n",
    "    # The same is done for MonthlyCharges except that the value is rounded\n",
    "    # to the nearest $10 using np.round(, -1).\n",
    "    dataset[['MonthlyCharges']]\n",
    "    .assign(\n",
    "        Feature_MonthlyCharges=np.round(dataset['MonthlyCharges'], -1),\n",
    "        Response=np.where(dataset.Churn == 'Yes', 1, 0),\n",
    "    )\n",
    "    .drop(columns=['MonthlyCharges'])\n",
    "    .groupby('Feature_MonthlyCharges')\n",
    "    .agg('mean')\n",
    "    .plot.bar(color='Dodgerblue')\n",
    ")\n",
    "\n",
    "\n",
    "(\n",
    "    # TotalCharges is rounded to the nearest $1,000 using np.round(, -3).\n",
    "    dataset[['TotalCharges']]\n",
    "    .assign(\n",
    "        Feature_TotalCharges=np.round(dataset['TotalCharges'], -3),\n",
    "        Response=np.where(dataset.Churn == 'Yes', 1, 0),\n",
    "    )\n",
    "    .drop(columns=['TotalCharges'])\n",
    "    .groupby('Feature_TotalCharges')\n",
    "    .agg('mean')\n",
    "    .plot.bar(color='Dodgerblue')\n",
    ")\n"
   ]
  },
  {
   "cell_type": "markdown",
   "metadata": {
    "id": "8Q9_LoYPGyEk"
   },
   "source": [
    "## Modelling\n",
    "This section:\n",
    "- fits some models; and\n",
    "- evaluates the fitted models."
   ]
  },
  {
   "cell_type": "markdown",
   "metadata": {
    "id": "1Mu5hyKhkQxU"
   },
   "source": [
    "### Gradient Boosting Machine (GBM)\n",
    "\n",
    "The first model to be fitted is a Gradient Boosting Machine (GBM).\n",
    "GBM applies boosting (see Section 5.3.3 of Module 5) in the context of decision trees.\n",
    "\n",
    "The GBM will be used as a benchmark to compare to a neural network fitted later on.\n",
    "\n",
    "To fit the GBM, the `GradientBoostingClassifier()` from the sklearn package is used."
   ]
  },
  {
   "cell_type": "markdown",
   "metadata": {
    "id": "SzAdmA6XyVeM"
   },
   "source": [
    "#### Prepare data\n",
    "To prepare the data for the GBM model, the code below:\n",
    "- one hot encodes the categorical features; and\n",
    "- splits the data into train, validation, and test sets."
   ]
  },
  {
   "cell_type": "code",
   "execution_count": 11,
   "metadata": {
    "id": "xrV5Dk86Ae1D"
   },
   "outputs": [],
   "source": [
    "# One-hot encode categorical features including an indicator for NAs.\n",
    "dataset_gbm = pd.get_dummies(dataset, columns=cat_cols, dummy_na=True)\n",
    "\n",
    "# Split the data into train, valiation, and test sets.\n",
    "train_gbm_x, train_gbm_y, \\\n",
    "validation_gbm_x, validation_gbm_y, \\\n",
    "test_gbm_x, test_gbm_y \\\n",
    "= create_data_splits(dataset_gbm, id_col, response_col)\n"
   ]
  },
  {
   "cell_type": "markdown",
   "metadata": {
    "id": "s4wQY9j_t8N7"
   },
   "source": [
    "#### Fit initial GBM (GBM 1)"
   ]
  },
  {
   "cell_type": "markdown",
   "metadata": {
    "id": "Bbf6vdy2yjC6"
   },
   "source": [
    "To create and train the model, 20% of the training data will be used as an (internal) validation set for early stopping, to prevent overfitting. The model will stop training if no improvement on this validation data has been observed for 50 consecutive iterations.\n",
    "This is specified with `validation_fraction = 0.2` and `n_iter_no_change = 50`.\n",
    "\n",
    "Other hyperparameters used in the training:\n",
    "- `n_estimators = 1000`: specifies a maximum of 1,000 trees;\n",
    "- `learning_rate = 0.1`: sets the learning rate to 10%;\n",
    "- `random_state = 1234`: initialises the random seed for the model, for reproducibility; and\n",
    "- `verbose = 1`: requests additional information be printed during training.\n"
   ]
  },
  {
   "cell_type": "code",
   "execution_count": 12,
   "metadata": {
    "colab": {
     "base_uri": "https://localhost:8080/"
    },
    "id": "u32cLppPkfyg",
    "outputId": "11673d7f-294c-496e-a10a-63dcc204a59f"
   },
   "outputs": [
    {
     "name": "stdout",
     "output_type": "stream",
     "text": [
      "      Iter       Train Loss   Remaining Time \n",
      "         1           1.1021           10.00s\n",
      "         2           1.0617            9.96s\n",
      "         3           1.0286            9.88s\n",
      "         4           1.0003           10.32s\n",
      "         5           0.9774           10.08s\n",
      "         6           0.9570            9.94s\n",
      "         7           0.9398            9.84s\n",
      "         8           0.9251            9.75s\n",
      "         9           0.9115            9.69s\n",
      "        10           0.8997            9.62s\n",
      "        20           0.8311            8.98s\n",
      "        30           0.7995            8.81s\n",
      "        40           0.7822            8.65s\n",
      "        50           0.7657            8.48s\n",
      "        60           0.7534            8.38s\n",
      "        70           0.7434            8.26s\n",
      "        80           0.7341            8.18s\n"
     ]
    },
    {
     "data": {
      "text/plain": [
       "GradientBoostingClassifier(ccp_alpha=0.0, criterion='friedman_mse', init=None,\n",
       "                           learning_rate=0.1, loss='deviance', max_depth=3,\n",
       "                           max_features=None, max_leaf_nodes=None,\n",
       "                           min_impurity_decrease=0.0, min_impurity_split=None,\n",
       "                           min_samples_leaf=1, min_samples_split=2,\n",
       "                           min_weight_fraction_leaf=0.0, n_estimators=1000,\n",
       "                           n_iter_no_change=50, presort='deprecated',\n",
       "                           random_state=1234, subsample=1.0, tol=0.0001,\n",
       "                           validation_fraction=0.2, verbose=1,\n",
       "                           warm_start=False)"
      ]
     },
     "execution_count": 12,
     "metadata": {
      "tags": []
     },
     "output_type": "execute_result"
    }
   ],
   "source": [
    "# Specify the GBM model.\n",
    "gbm_model = GradientBoostingClassifier(n_estimators = 1000,\n",
    "                                       learning_rate = 0.1,\n",
    "                                       validation_fraction = 0.2,\n",
    "                                       n_iter_no_change = 50,\n",
    "                                       verbose = 1,\n",
    "                                       random_state = 1234)\n",
    "# Train the model.\n",
    "# 'train_gbm_y.values.ravel()' converts the series of response values into\n",
    "# a 1D array which is the format expected by the .fit() method\n",
    "gbm_model.fit(train_gbm_x, train_gbm_y.values.ravel())"
   ]
  },
  {
   "cell_type": "markdown",
   "metadata": {
    "id": "2oWLtQqgtzkQ"
   },
   "source": [
    "#### Evaluate GBM 1\n",
    "The code below looks at some basic goodness of fit measures."
   ]
  },
  {
   "cell_type": "code",
   "execution_count": 13,
   "metadata": {
    "id": "35Q1S4S5NPFj"
   },
   "outputs": [],
   "source": [
    "# Score the validation dataset.\n",
    "\n",
    "# Obtain the predicted churn probabilities (Y_hat).\n",
    "# The code below returns these in an array of form ([Prob(0), Prob(1)]).\n",
    "# Keep the Prob(1) values only, i.e. the predicted churn probability (Y_hat).\n",
    "train_y_preds = gbm_model.predict_proba(train_gbm_x)[:, 1] \n",
    "validation_y_preds = gbm_model.predict_proba(validation_gbm_x)[:, 1] \n",
    "\n",
    "# Obtain the predicted churn outcomes, G(X).\n",
    "# Returns the predicted class as 0 for 'no churn' or 1 for 'churn'.\n",
    "train_y_class = gbm_model.predict(train_gbm_x)\n",
    "validation_y_class = gbm_model.predict(validation_gbm_x)"
   ]
  },
  {
   "cell_type": "code",
   "execution_count": 14,
   "metadata": {
    "colab": {
     "base_uri": "https://localhost:8080/"
    },
    "id": "uP7T228hnnjI",
    "outputId": "f9236f00-e9aa-4007-fec3-54f870499237"
   },
   "outputs": [
    {
     "data": {
      "text/plain": [
       "{'train': 0.8774950558946257, 'validation': 0.8589570358298064}"
      ]
     },
     "execution_count": 14,
     "metadata": {
      "tags": []
     },
     "output_type": "execute_result"
    }
   ],
   "source": [
    "# Calculate the AUC on train and validation data.\n",
    "{'train': roc_auc_score(train_gbm_y.values.ravel(), train_y_preds),\n",
    " 'validation': roc_auc_score(validation_gbm_y.values.ravel(), validation_y_preds)}"
   ]
  },
  {
   "cell_type": "code",
   "execution_count": 15,
   "metadata": {
    "colab": {
     "base_uri": "https://localhost:8080/",
     "height": 311
    },
    "id": "IIfYW40wnq-S",
    "outputId": "16c799c4-58e6-44bf-f3f7-67f878bed71c"
   },
   "outputs": [
    {
     "data": {
      "image/png": "[encoded data removed]",
      "text/plain": [
       "<Figure size 432x288 with 2 Axes>"
      ]
     },
     "metadata": {
      "needs_background": "light",
      "tags": []
     },
     "output_type": "display_data"
    }
   ],
   "source": [
    "# Print the confusion matrix at a 50% threshold using the training data.\n",
    "conf_mat_gbm1_train = confusion_matrix(train_gbm_y, train_y_class)\n",
    "plot_confusion_matrix(conf_mat_gbm1_train, [0, 1])"
   ]
  },
  {
   "cell_type": "code",
   "execution_count": 16,
   "metadata": {
    "colab": {
     "base_uri": "https://localhost:8080/",
     "height": 311
    },
    "id": "gqjXc02yTapm",
    "outputId": "ebfab00e-507b-4a37-ca3b-08ff6bea3747"
   },
   "outputs": [
    {
     "data": {
      "image/png": "[encoded data removed]",
      "text/plain": [
       "<Figure size 432x288 with 2 Axes>"
      ]
     },
     "metadata": {
      "needs_background": "light",
      "tags": []
     },
     "output_type": "display_data"
    }
   ],
   "source": [
    "# Print the confusion matrix at a 50% threshold using the validation data.\n",
    "conf_mat_gbm1_validation = confusion_matrix(validation_gbm_y, validation_y_class)\n",
    "plot_confusion_matrix(conf_mat_gbm1_validation, [0, 1])"
   ]
  },
  {
   "cell_type": "code",
   "execution_count": 17,
   "metadata": {
    "colab": {
     "base_uri": "https://localhost:8080/"
    },
    "id": "Fn0LGsAkpWE4",
    "outputId": "7ededd03-b214-4449-bf25-aa7d379b2581"
   },
   "outputs": [
    {
     "data": {
      "text/plain": [
       "{'train': 0.6495086569957885, 'validation': 0.5618860510805501}"
      ]
     },
     "execution_count": 17,
     "metadata": {
      "tags": []
     },
     "output_type": "execute_result"
    }
   ],
   "source": [
    "# Calculate the F1 score.\n",
    "{'train': f1_score(train_gbm_y, train_y_class),\n",
    " 'validation': f1_score(validation_gbm_y, validation_y_class)}"
   ]
  },
  {
   "cell_type": "markdown",
   "metadata": {
    "id": "qMBcM6430o0-"
   },
   "source": [
    "#### Estimate feature importance\n",
    "\n",
    "Feature importance provides a measure of how much the model predictions rely on a particular feature. The higher the importance of a feature, the more it contributes to the model's performance.\n",
    "\n",
    "The code below plot the importance of each feature in the GBM."
   ]
  },
  {
   "cell_type": "code",
   "execution_count": 18,
   "metadata": {
    "colab": {
     "base_uri": "https://localhost:8080/",
     "height": 952
    },
    "id": "UoQNg_JA0ulU",
    "outputId": "90e10e21-ac09-4195-919d-b0ba025a3c30"
   },
   "outputs": [
    {
     "data": {
      "text/plain": [
       "<matplotlib.axes._subplots.AxesSubplot at 0x7f4e9b0af890>"
      ]
     },
     "execution_count": 18,
     "metadata": {
      "tags": []
     },
     "output_type": "execute_result"
    },
    {
     "data": {
      "image/png": "[encoded data removed]",
      "text/plain": [
       "<Figure size 864x1152 with 1 Axes>"
      ]
     },
     "metadata": {
      "needs_background": "light",
      "tags": []
     },
     "output_type": "display_data"
    }
   ],
   "source": [
    "# Create a dictionary with name-importance pairs.\n",
    "gbm_feat_imps = dict()\n",
    "for feature, importance in zip(train_gbm_x.columns, gbm_model.feature_importances_):\n",
    "  gbm_feat_imps[feature] = importance\n",
    "\n",
    "# Convert to a dataframe and order by importance.\n",
    "# Note: the feature names become the index for the dataframe, and the importance \n",
    "# is the first column (index 0).\n",
    "gbm_fi = pd.DataFrame.from_dict(gbm_feat_imps, orient = 'index').rename(columns = {0: 'Importance'})\n",
    "gbm_fi.sort_values(by = 'Importance', inplace = True)\n",
    "\n",
    "# Plot the feature importances.\n",
    "gbm_fi.plot(kind = 'barh', \\\n",
    "            figsize = (12,16), \\\n",
    "            title = 'Feature importance', \\\n",
    "            color = 'Dodgerblue'\n",
    ")"
   ]
  },
  {
   "cell_type": "markdown",
   "metadata": {
    "id": "PvLoo4aOUFep"
   },
   "source": [
    "#### Examine effect of features\n",
    "It is important to understand the shape of the effects learned by the model, in order to:\n",
    "- understand what the model is doing; and\n",
    "- assess whether what the model has learned is reasonable given the business context.\n",
    "\n",
    "A partial dependence plot (PDP) shows how each feature affects a model's predictions. Partial dependence is calculated after a model has been fitted, by examining how the model’s predictions change when the value for one feature (or sometimes two or more features) is changed, with the values of all other features being held constant.\n",
    "\n",
    "PDPs are used below to visualise the effect shapes for the model's four most important features.\n",
    "\n",
    "The y-axis of a PDP represents the marginal impact of the feature on the response variable. For example, if the calculated partial dependence is 0 on some part of the PDP line, then for that value of the feature, there is no impact on the response variable, relative to some central tendency of the response variable, which might be its mean or median value.\n",
    "\n",
    "You are not required to know how to calculate a PDP for this subject. For this case study, you can use the PDPs below to visualise the effect shapes for the model's four most important features."
   ]
  },
  {
   "cell_type": "code",
   "execution_count": 19,
   "metadata": {
    "colab": {
     "base_uri": "https://localhost:8080/"
    },
    "id": "ZzDVIhftAaKK",
    "outputId": "eef54b22-07bd-42ea-d264-63c5228764d0"
   },
   "outputs": [
    {
     "data": {
      "text/plain": [
       "[0, 1, 2, 50]"
      ]
     },
     "execution_count": 19,
     "metadata": {
      "tags": []
     },
     "output_type": "execute_result"
    }
   ],
   "source": [
    "# Extract the column indices for the four most important features\n",
    "# on the training data.\n",
    "gbm_pdp_idx = [i for i in range(len(train_gbm_x.columns)) if \\\n",
    "               train_gbm_x.columns[i] in gbm_fi.tail(4).index.tolist()]\n",
    "gbm_pdp_idx"
   ]
  },
  {
   "cell_type": "code",
   "execution_count": 20,
   "metadata": {
    "colab": {
     "base_uri": "https://localhost:8080/"
    },
    "id": "BaO48vwAUWM6",
    "outputId": "172f2277-a6d5-4434-b346-b5d3adfa945f"
   },
   "outputs": [
    {
     "data": {
      "text/plain": [
       "Index(['tenure', 'MonthlyCharges', 'TotalCharges', 'Contract_Month-to-month'], dtype='object')"
      ]
     },
     "execution_count": 20,
     "metadata": {
      "tags": []
     },
     "output_type": "execute_result"
    }
   ],
   "source": [
    "# Check that the right columns have been identified.\n",
    "train_gbm_x.columns[gbm_pdp_idx]"
   ]
  },
  {
   "cell_type": "code",
   "execution_count": 21,
   "metadata": {
    "colab": {
     "base_uri": "https://localhost:8080/",
     "height": 1000
    },
    "id": "ztdypqSspoUg",
    "outputId": "65fbfb02-37e2-406a-d2ae-7db5355e9c76"
   },
   "outputs": [
    {
     "data": {
      "image/png": "[encoded data removed]",
      "text/plain": [
       "<Figure size 432x288 with 2 Axes>"
      ]
     },
     "metadata": {
      "needs_background": "light",
      "tags": []
     },
     "output_type": "display_data"
    },
    {
     "data": {
      "image/png": "[encoded data removed]",
      "text/plain": [
       "<Figure size 432x288 with 2 Axes>"
      ]
     },
     "metadata": {
      "needs_background": "light",
      "tags": []
     },
     "output_type": "display_data"
    },
    {
     "data": {
      "image/png": "[encoded data removed]",
      "text/plain": [
       "<Figure size 432x288 with 2 Axes>"
      ]
     },
     "metadata": {
      "needs_background": "light",
      "tags": []
     },
     "output_type": "display_data"
    },
    {
     "data": {
      "image/png": "[encoded data removed]",
      "text/plain": [
       "<Figure size 432x288 with 2 Axes>"
      ]
     },
     "metadata": {
      "needs_background": "light",
      "tags": []
     },
     "output_type": "display_data"
    }
   ],
   "source": [
    "# Produce partial dependence plots.\n",
    "# Loop over each feature rather than provide a list as this makes it\n",
    "# easier to plot the data. \n",
    "for idx in gbm_pdp_idx:\n",
    "  plot_partial_dependence(gbm_model, train_gbm_x, features = [idx],\n",
    "                          line_kw={'color': 'Dodgerblue'})"
   ]
  },
  {
   "cell_type": "markdown",
   "metadata": {
    "id": "-c6j4gvPFZp6"
   },
   "source": [
    "These plots show that the churn rate:\n",
    "- decreases with tenure;\n",
    "- increases with monthly charges;\n",
    "- has an unclear relationship with total charges (but this will be affected by the correlation between monthly and total charges); and\n",
    "- increases for those on a monthly contract.\n",
    "\n",
    "\n",
    "Note that a PDP for a binary feature like ‘Contract_Month-to-month’ is a bit misleading, as the feature can only take values of 0 or 1, so there are only two points on this PDP that make sense. What is important to take away from this PDP is that people on a month-to-month contract are more likely to be predicted to churn than those on a one or two month contract.\n",
    "\n",
    "This finding can be used to sense check the model’s predictions. In this case, we have already seen from the Explore Data section above that, across the entire dataset, people on a month-to-month contract have a 43% churn rate, compared to 11% for those on a one year contract and 3% for those on a two year contract, so the direction of the PDP outcomes for the feature 'Contract_Month-to-month' makes sense."
   ]
  },
  {
   "cell_type": "markdown",
   "metadata": {
    "id": "jHagH5kZuWK_"
   },
   "source": [
    "#### Improve the model (GBM 2)\n",
    "Check the documentation for `GradientBoostingClassifier()` to see the hyperparameters available and try a few combinations to improve the performance.\n",
    "\n",
    "The code below shows some experimentation with hyperparameter values."
   ]
  },
  {
   "cell_type": "code",
   "execution_count": 22,
   "metadata": {
    "colab": {
     "base_uri": "https://localhost:8080/"
    },
    "id": "Xtef6r_xurQE",
    "outputId": "1c2d57bd-a0f7-42d5-8674-a960f416c9e4"
   },
   "outputs": [
    {
     "name": "stdout",
     "output_type": "stream",
     "text": [
      "      Iter       Train Loss   Remaining Time \n",
      "         1           1.1497           12.94s\n",
      "         2           1.1455           13.87s\n",
      "         3           1.1414           15.68s\n",
      "         4           1.1374           15.88s\n",
      "         5           1.1335           15.41s\n",
      "         6           1.1296           15.02s\n",
      "         7           1.1258           14.81s\n",
      "         8           1.1221           14.57s\n",
      "         9           1.1185           14.37s\n",
      "        10           1.1150           14.26s\n",
      "        20           1.0827           13.33s\n",
      "        30           1.0556           12.95s\n",
      "        40           1.0325           12.87s\n",
      "        50           1.0118           12.66s\n",
      "        60           0.9929           12.50s\n",
      "        70           0.9757           12.47s\n",
      "        80           0.9611           12.45s\n",
      "        90           0.9483           12.64s\n",
      "       100           0.9369           12.55s\n",
      "       200           0.8682           11.67s\n",
      "       300           0.8394           11.01s\n",
      "       400           0.8240           10.29s\n",
      "       500           0.8144            9.62s\n",
      "       600           0.8074            8.93s\n",
      "       700           0.8014            8.33s\n",
      "       800           0.7965            7.67s\n"
     ]
    },
    {
     "data": {
      "text/plain": [
       "GradientBoostingClassifier(ccp_alpha=0.0, criterion='friedman_mse', init=None,\n",
       "                           learning_rate=0.01, loss='deviance', max_depth=2,\n",
       "                           max_features=None, max_leaf_nodes=None,\n",
       "                           min_impurity_decrease=0.0, min_impurity_split=None,\n",
       "                           min_samples_leaf=1, min_samples_split=2,\n",
       "                           min_weight_fraction_leaf=0.0, n_estimators=2000,\n",
       "                           n_iter_no_change=50, presort='deprecated',\n",
       "                           random_state=1234, subsample=1.0, tol=0.0001,\n",
       "                           validation_fraction=0.2, verbose=1,\n",
       "                           warm_start=False)"
      ]
     },
     "execution_count": 22,
     "metadata": {
      "tags": []
     },
     "output_type": "execute_result"
    }
   ],
   "source": [
    "# Add additional regularisation by capping the depth of trees at 2 and\n",
    "# decreasing the learning rate for the model.\n",
    "# Increase the number of trees (n_estimators) to counter some of the effect\n",
    "# of the lower learning rate.\n",
    "gbm_model_v2 = GradientBoostingClassifier(n_estimators = 2000,\n",
    "                                          learning_rate = 0.01,\n",
    "                                          max_depth = 2,\n",
    "                                          validation_fraction = 0.2,\n",
    "                                          n_iter_no_change = 50,\n",
    "                                          verbose = 1,\n",
    "                                          random_state = 1234)\n",
    "gbm_model_v2.fit(train_gbm_x, train_gbm_y.values.ravel())"
   ]
  },
  {
   "cell_type": "markdown",
   "metadata": {
    "id": "GiHL9RZ3u6X9"
   },
   "source": [
    "#### Evaluate GBM 2"
   ]
  },
  {
   "cell_type": "code",
   "execution_count": 23,
   "metadata": {
    "id": "tkAsDGFPvSwK"
   },
   "outputs": [],
   "source": [
    "# Score the validation dataset.\n",
    "\n",
    "# Obtain the predicted churn probabilities, Y_hat.\n",
    "validation_y_preds_v2 = gbm_model_v2.predict_proba(validation_gbm_x)[:, 1] \n",
    "\n",
    "# Obtain the predicted churn outcomes, G(X).\n",
    "validation_y_class_v2 = gbm_model_v2.predict(validation_gbm_x)"
   ]
  },
  {
   "cell_type": "code",
   "execution_count": 24,
   "metadata": {
    "colab": {
     "base_uri": "https://localhost:8080/"
    },
    "id": "8SJaOTogF0xQ",
    "outputId": "098cb059-2214-4296-eb2a-11a810f4283e"
   },
   "outputs": [
    {
     "data": {
      "text/plain": [
       "{'new': 0.861474435196195, 'old': 0.8589570358298064}"
      ]
     },
     "execution_count": 24,
     "metadata": {
      "tags": []
     },
     "output_type": "execute_result"
    }
   ],
   "source": [
    "# Compare the AUC on validation data under model 1 ('old') and model 2 ('new').\n",
    "{'new':roc_auc_score(validation_gbm_y.values.ravel(), validation_y_preds_v2),\n",
    " 'old':roc_auc_score(validation_gbm_y.values.ravel(), validation_y_preds)}"
   ]
  },
  {
   "cell_type": "code",
   "execution_count": 25,
   "metadata": {
    "colab": {
     "base_uri": "https://localhost:8080/",
     "height": 311
    },
    "id": "jn4ODx_6F_yS",
    "outputId": "4d895586-74d4-491d-ac90-756db2192f12"
   },
   "outputs": [
    {
     "data": {
      "image/png": "[encoded data removed]",
      "text/plain": [
       "<Figure size 432x288 with 2 Axes>"
      ]
     },
     "metadata": {
      "needs_background": "light",
      "tags": []
     },
     "output_type": "display_data"
    }
   ],
   "source": [
    "# Plot the confusion matrix at 50% threshold for model 2 - validation data\n",
    "conf_mat_gbm2_validation = confusion_matrix(validation_gbm_y, validation_y_class_v2)\n",
    "plot_confusion_matrix(conf_mat_gbm2_validation, [0, 1])"
   ]
  },
  {
   "cell_type": "code",
   "execution_count": 26,
   "metadata": {
    "colab": {
     "base_uri": "https://localhost:8080/",
     "height": 311
    },
    "id": "ImzHbEnGU-Ln",
    "outputId": "c8242240-5adf-43bd-9a0d-f9bbc743a4b9"
   },
   "outputs": [
    {
     "data": {
      "image/png": "[encoded data removed]",
      "text/plain": [
       "<Figure size 432x288 with 2 Axes>"
      ]
     },
     "metadata": {
      "needs_background": "light",
      "tags": []
     },
     "output_type": "display_data"
    }
   ],
   "source": [
    "# Plot the confusion matrix at 50% threshold for model 1 - validation data\n",
    "plot_confusion_matrix(conf_mat_gbm1_validation, [0, 1])"
   ]
  },
  {
   "cell_type": "code",
   "execution_count": 27,
   "metadata": {
    "colab": {
     "base_uri": "https://localhost:8080/"
    },
    "id": "EVkfuEQ2GItU",
    "outputId": "58b3ba03-5f9b-47ae-de8a-41400915b1b6"
   },
   "outputs": [
    {
     "data": {
      "text/plain": [
       "{'new': 0.5697211155378485, 'old': 0.5618860510805501}"
      ]
     },
     "execution_count": 27,
     "metadata": {
      "tags": []
     },
     "output_type": "execute_result"
    }
   ],
   "source": [
    "# Compare the F1 score for the two models.\n",
    "{'new':f1_score(validation_gbm_y, validation_y_class_v2),\n",
    " 'old':f1_score(validation_gbm_y, validation_y_class)}"
   ]
  },
  {
   "cell_type": "markdown",
   "metadata": {
    "id": "DFAKxwzbVJLK"
   },
   "source": [
    "The AUC and F1 scores shown above indicate that the changes made to create GBM 2 have had some small (relatively immaterial) improvements on the GBM's performance."
   ]
  },
  {
   "cell_type": "markdown",
   "metadata": {
    "id": "sKzjRgI9vUE6"
   },
   "source": [
    "#### Select final model (GBM final)\n"
   ]
  },
  {
   "cell_type": "code",
   "execution_count": 28,
   "metadata": {
    "id": "CvjDIWiFve24"
   },
   "outputs": [],
   "source": [
    "# Select the final model and call it `gbm_model_final`.\n",
    "gbm_model_final = gbm_model_v2"
   ]
  },
  {
   "cell_type": "code",
   "execution_count": 29,
   "metadata": {
    "id": "9sM1t8K1a4xi"
   },
   "outputs": [],
   "source": [
    "# Obtain the predicted churn probabilities, Y_hat, for the validation data.\n",
    "validation_gbm_preds_final = gbm_model_final.predict_proba(validation_gbm_x)[:, 1] \n",
    "\n",
    "# Obtain the predicted churn outcomes, G(X) for the validation data.\n",
    "validation_gbm_class_final = gbm_model_final.predict(validation_gbm_x)"
   ]
  },
  {
   "cell_type": "markdown",
   "metadata": {
    "id": "OUW3-lptvrb4"
   },
   "source": [
    "### Simple neural networks built from first principles\n",
    "In this section a neural network is built from first principles.\n",
    "While you will not generally need to build a network from first principles, by reviewing the code below, along with Sections 5.5.2, 5.5.3, and 5.5.4 of Module 5, you should obtain a good understanding of what is going on 'under the hood' of a neural network.\n",
    "\n",
    "To simplify the calculations below:\n",
    "- the simple neural networks will be limited to at most 1 hidden layer (the first neural network has no hidden layers);\n",
    "- a sigmoid activation function is used;\n",
    "- mean-squared error (MSE) is used as the loss function; and\n",
    "- the loss function is optimised using backpropagation.\n"
   ]
  },
  {
   "cell_type": "markdown",
   "metadata": {
    "id": "4GlJLUYQR_ri"
   },
   "source": [
    "#### Prepare data"
   ]
  },
  {
   "cell_type": "markdown",
   "metadata": {
    "id": "SRSSehSlSGcD"
   },
   "source": [
    "Categorical features must be encoded as numeric.\n",
    "\n",
    "The categorical feature with $k$ levels is encoded as follows:\n",
    "- $k - 1$ binary features are created;\n",
    "- the $j^{th}$ feature takes the value $1$ if the categorical feature takes the $j^{th}$ level;\n",
    "- otherwise the $j^{th}$ feature takes the value 0."
   ]
  },
  {
   "cell_type": "code",
   "execution_count": 30,
   "metadata": {
    "id": "LB7vzpXFCega"
   },
   "outputs": [],
   "source": [
    "# Use the get_dummies() function from the pandas package to produce the encoding.\n",
    "# The drop_first = True argument tells pandas to drop the binary indicator for \n",
    "# the first level, so the function returns k-1 rather than k features.\n",
    "dataset_nn = pd.get_dummies(dataset, columns=cat_cols, drop_first=True)"
   ]
  },
  {
   "cell_type": "code",
   "execution_count": 31,
   "metadata": {
    "id": "BF5rKmULSmwH"
   },
   "outputs": [],
   "source": [
    "# Split the data into train, validation, and test datasets.\n",
    "train_nn_x, train_nn_y, \\\n",
    "validation_nn_x, validation_nn_y, \\\n",
    "test_nn_x, test_nn_y \\\n",
    "= create_data_splits(dataset_nn, id_col, response_col)"
   ]
  },
  {
   "cell_type": "markdown",
   "metadata": {
    "id": "bZ6T4480S87S"
   },
   "source": [
    "When fitting neural networks it is common to scale the features to a 0-1 range. You can also scale to have standard deviation 1. In this case, only the range is scaled for simplicity.\n",
    "\n",
    "The response vector also needs to be converted to a numpy array for training the neural network."
   ]
  },
  {
   "cell_type": "code",
   "execution_count": 32,
   "metadata": {
    "id": "x_HFt3DwS7NG"
   },
   "outputs": [],
   "source": [
    "# Scale features to lie in [0, 1].\n",
    "scaler = MinMaxScaler()\n",
    "scaler.fit(train_nn_x)\n",
    "input = scaler.transform(train_nn_x)\n",
    "\n",
    "# Convert the response vector to a Numpy array.\n",
    "response = train_nn_y.to_numpy()\n",
    "\n",
    "# Prepare the validation and test datasets also.\n",
    "response_validation = validation_nn_y.to_numpy()\n",
    "input_validation = scaler.transform(validation_nn_x)\n",
    "response_test = test_nn_y.to_numpy()\n",
    "input_test = scaler.transform(test_nn_x)"
   ]
  },
  {
   "cell_type": "markdown",
   "metadata": {
    "id": "IMFzSe_tv8ue"
   },
   "source": [
    "#### Fit a single layer neural network (NN 1)\n",
    "\n",
    "In its simplest form, a neural network can be reduced to a basic regression model (see Exercise 5.16 in Module 5). In the example below, a logistic regression model is constructed within the framework of a single cell neural network.\n",
    "\n",
    "In this network, the single neuron performs the following operations on the $i^{th}$ training observation (i.e. the $i^{th}$ row of data):\n",
    "- multiplies the input vector, $X_{i.}$, by the weights for the neuron, $a^{T}$ and adds a bias term $a_0$;\n",
    "$$f(X_{i.}) = a_0+a^{T}X_{i.}\\tag{1}$$\n",
    "\n",
    "- the output of this linear function is then transformed using a non-linear activation function (in this case the sigmoid function);\n",
    "$$\\hat{y}_{i,1} = sigmoid(f(X_{i.})) = sigmoid(a_0+a^{T}X_{i.})\\tag{2}$$ \n",
    "\n",
    "As outlined in Section 5.5.2 of Module 5, there are a range of activation functions that can be used, and different problems require different functions.\n",
    "\n",
    "The output of this first and final neuron is then fed into a loss function. Loss functions are discussed in Section 5.2 of Module 5. For simplicity, the mean-squared error is used here, so that the formula for the loss function is:\n",
    "\n",
    "$$J = \\frac{1}{n}\\sum_{i=1}^{n}(y_{i}-\\hat{y}_{i,1})^{2}\\tag{3}$$\n",
    "\n",
    "Backpropagation via gradient descent is then used to minimise this loss function. As described in Section 5.5.4, gradient descent computes the gradients of the loss function with respect to the parameters $a^{T}$ and $a_{0}$. It uses these gradients to iteratively update the model's parameters,  taking small steps towards minimising the loss function.\n",
    "\n",
    "A single step of gradient descent involves the following computations:\n",
    "1. Compute the gradients of J with respect to the weights $a_j,  j=0,...,p$, denoted by $\\partial a_j$.\n",
    "2. Update the parameters $a_j, j=0,...,p$ as follows:\n",
    "$$a_j=a_j-\\alpha \\partial a_j$$\n",
    "3. Using the updated parameters, perform another iteration of forward propagation over the entire set of training data to compute the new loss and gradients.\n",
    "4. Continue iterating for a set number of updates over the entire training dataset, known as epochs.\n",
    "\n",
    "The diagram below shows the way in which each gradient descent step moves closer to a global minimum for the loss of the model. Note that in the diagram, $w$ refers to $a_j$ and 'cost' refers to 'loss'. \n",
    "\n",
    "![b.png](data:image/png;base64,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)\n",
    "\n",
    "\n",
    "<figcaption>Image source: https://medium.com/analytics-vidhya/artificial-neural-networks-part-3-loss-and-cost-functions-and-gradient-descent-76e650bc5162</figcaption>\n",
    "\n",
    "\n",
    "\n",
    "The parameter $\\alpha$ above is the learning rate as described in Section 5.4.2.  In practice, this parameter is very important and will require some experimentation so that the learning rate: \n",
    "- is not too small such that the algorithm will take too long to converge to an optimal set of weights; and \n",
    "- is not too large such that convergence may not occur at all as the algorithm continually overshoots the minimum point on the loss function."
   ]
  },
  {
   "cell_type": "code",
   "execution_count": 33,
   "metadata": {
    "id": "E8NSlbZVBbkK"
   },
   "outputs": [],
   "source": [
    "# Define the sigmoid function (to be used as the activation function).\n",
    "def sigmoid(x):\n",
    "  '''\n",
    "  Sigmoid activation function\n",
    "  Params:\n",
    "    x: a float or integer value\n",
    "  Return:\n",
    "    The value of the sigmoid function evaluated at x (float)\n",
    "  '''\n",
    "  return 1.0/(1.0+np.exp(-x))"
   ]
  },
  {
   "cell_type": "markdown",
   "metadata": {
    "id": "zU_RndmAIZmF"
   },
   "source": [
    "The function below defines the first derivative of the sigmoid function which will be used in backpropagation when fitting the neural network. The first derivative of the sigmoid function is given by:\n",
    "\n",
    "$$\n",
    "\\begin{align} \\cr\n",
    "\\frac{d}{dx} \\left(\\frac{1}{1 + \\exp(-x)}\\right) &= \\frac{\\exp(-x)}{(1 + \\exp(-x))^2} \\cr \\cr\n",
    " &= sigmoid(x) \\times (1 - sigmoid(x))\n",
    " \\end{align}\n",
    "$$"
   ]
  },
  {
   "cell_type": "markdown",
   "metadata": {
    "id": "-Y0TrF6L2tsr"
   },
   "source": [
    "The cells below define some functions that will be used to train the model and make predictions."
   ]
  },
  {
   "cell_type": "code",
   "execution_count": 34,
   "metadata": {
    "id": "1cSrizZ0QtyZ"
   },
   "outputs": [],
   "source": [
    "# Define the first derivative of the sigmoid function.\n",
    "def dsigmoid(x):\n",
    "  '''\n",
    "  Derivative of the sigmoid function evaluated at x\n",
    "  Params:\n",
    "    x: value the function will be evaluated at\n",
    "  Return:\n",
    "    The value of the function evaluated at x (float)\n",
    "  '''\n",
    "  \n",
    "  return sigmoid(x)*(1.0 - sigmoid(x))"
   ]
  },
  {
   "cell_type": "code",
   "execution_count": 35,
   "metadata": {
    "id": "ph0aJt2fRGb4"
   },
   "outputs": [],
   "source": [
    "# Define the mean-squared error loss function.\n",
    "def mse_loss(response, pred):\n",
    "  ''' \n",
    "  Mean-squared error loss function\n",
    "  Params:\n",
    "    response: the vector of responses, Y\n",
    "    pred: the vector of predicted values, Y_hat\n",
    "  Return:\n",
    "    The MSE value (float)\n",
    "  '''\n",
    "  \n",
    "  return ((response - pred)**2).sum()/response.shape[0]"
   ]
  },
  {
   "cell_type": "code",
   "execution_count": 36,
   "metadata": {
    "id": "3ntBDGnUCc1j"
   },
   "outputs": [],
   "source": [
    "# Define a function to provide random starting values for the weights and bias term.\n",
    "def init_params(n_p, n_h = 1, range = 0.1, start = -0.05):\n",
    "  '''\n",
    "  Randomly initializes weights and initialises biases to 0\n",
    "  Params:\n",
    "    n_p: number of features (size of input array)\n",
    "    n_h: number of neurons in layer, defaults to 1\n",
    "    range: range of random initalisation, defaults to 0.1\n",
    "    start: lowest value of random initialisation, defaults to -0.05\n",
    "  Returns:\n",
    "    a0: bias vector\n",
    "    aT: random weights vector\n",
    "  '''\n",
    "  a0 = np.zeros((1, n_h))\n",
    "  aT = np.random.rand(n_p, n_h) * range + start\n",
    "  return a0, aT\n",
    "\n",
    "\n",
    "# Set the random seed for reproducibility.\n",
    "np.random.seed(1235)\n",
    "\n",
    "# Initialise the network weights.\n",
    "# Note that the bias is initialised to zero and weights to a random value\n",
    "# uniformly in the range [-0.05, 0.05].\n",
    "# This range is set to match the default for keras (which will be tested later).\n",
    "bias, weights = init_params(n_p = train_nn_x.shape[1],\n",
    "                            n_h = 1,\n",
    "                            range = 0.1,\n",
    "                            start = -0.05)\n"
   ]
  },
  {
   "cell_type": "code",
   "execution_count": 37,
   "metadata": {
    "id": "8vYSLRBycaMT"
   },
   "outputs": [],
   "source": [
    "# Define a function to perform the forward pass over the data. This will be used\n",
    "# for training the model. Once the weights have been selected, it will also\n",
    "# serve as the prediction function.\n",
    "# The function is fairly simple. The input is a vector with dimension equal to\n",
    "# the number of features in the dataset (20). There is a single output neuron\n",
    "# and no hidden layers.\n",
    "def fwd_pass1(input, bias, weights, keep_intermediate = False):\n",
    "  '''\n",
    "  Performs the forward pass calculations for a single neuron network\n",
    "  Params:\n",
    "    input: input data frame\n",
    "    bias: bias parameter\n",
    "    weights: weights vector\n",
    "    keep_intermediate: (logical) keep the intermediate results?\n",
    "                       If True, returns the linear score in addition to the \n",
    "                       output value y_hat after the activation function has\n",
    "                       been applied.\n",
    "  '''\n",
    "\n",
    "  # Calculate the value for the neuron on the linear scale,\n",
    "  # using the sum-product of the inputs and weights, plus the bias term\n",
    "  f = np.dot(input, weights) + bias\n",
    "\n",
    "  # Apply the activation function\n",
    "  y_hat = sigmoid(f)    # final output\n",
    "\n",
    "  if keep_intermediate:\n",
    "    return f, y_hat\n",
    "  else:\n",
    "    return y_hat"
   ]
  },
  {
   "cell_type": "markdown",
   "metadata": {
    "id": "WT4oIAtP3CuV"
   },
   "source": [
    "The learning rate and number of training iterations are then defined below."
   ]
  },
  {
   "cell_type": "code",
   "execution_count": 38,
   "metadata": {
    "id": "8zhiLedzDQ9V"
   },
   "outputs": [],
   "source": [
    "# Initialise the hyperparameters.\n",
    "\n",
    "# Set the learning rate - must be in (0, 1].\n",
    "learn_rate = 0.2\n",
    "\n",
    "# Set the number of training iterations.\n",
    "n_rounds = 500"
   ]
  },
  {
   "cell_type": "markdown",
   "metadata": {
    "id": "I87pIl673HNU"
   },
   "source": [
    "The model can now be trained using the functions and hyperparameters specified above."
   ]
  },
  {
   "cell_type": "code",
   "execution_count": 39,
   "metadata": {
    "colab": {
     "base_uri": "https://localhost:8080/"
    },
    "id": "-lxN3y4DRDhu",
    "outputId": "0640cfd3-c915-49b1-c7b3-5340f79c1ae5"
   },
   "outputs": [
    {
     "name": "stdout",
     "output_type": "stream",
     "text": [
      "iter 0 MSE: 0.2674449173283448\n",
      "iter 25 MSE: 0.18042793537210974\n",
      "iter 50 MSE: 0.1695903881202274\n",
      "iter 75 MSE: 0.16375575000190337\n",
      "iter 100 MSE: 0.15956370573799242\n",
      "iter 125 MSE: 0.1563918167751347\n",
      "iter 150 MSE: 0.15393250776603987\n",
      "iter 175 MSE: 0.15198658083135239\n",
      "iter 200 MSE: 0.15041856028584913\n",
      "iter 225 MSE: 0.14913420464122898\n",
      "iter 250 MSE: 0.14806660930424229\n",
      "iter 275 MSE: 0.1471673599402955\n",
      "iter 300 MSE: 0.14640079912380527\n",
      "iter 325 MSE: 0.14574023742870543\n",
      "iter 350 MSE: 0.1451654004269753\n",
      "iter 375 MSE: 0.14466067664172322\n",
      "iter 400 MSE: 0.14421389450896388\n",
      "iter 425 MSE: 0.14381545501845847\n",
      "iter 450 MSE: 0.14345770750271378\n",
      "iter 475 MSE: 0.14313449424136288\n"
     ]
    }
   ],
   "source": [
    "# Train the model by implementing the gradient descent algorithm over n_rounds\n",
    "# of iterations.\n",
    "for _ in range(n_rounds):\n",
    "\n",
    "  # Perform a forward propagation.\n",
    "  f, y_hat = fwd_pass1(input, bias, weights, True)\n",
    "\n",
    "\n",
    "  # Perform the back-propagation step.\n",
    "  # This involves calculating the partial derivative of the loss function\n",
    "  # with respect to the weights.\n",
    "\n",
    "  # Calculate the partial derivative of the loss function (J)\n",
    "  # with respect to the output (y_hat_i)\n",
    "  # J = (y_i - y_hat_i)^2 -> dJ/dy_hat_i = -2(y_i - y_hat_i) = 2(y_hat_i-y_i)\n",
    "  # In the calculation below, the factor of 2 is dropped as this does not\n",
    "  # impact the minimum value of the loss function.\n",
    "  dJ_dyhat = (y_hat-response)\n",
    "\n",
    "  # Calculate the partial derivate of the output (y_hat_i)\n",
    "  # with respect to the linear values of the neuron (f(X_i)).\n",
    "  # The output is simply the activation function applied to the linear values\n",
    "  # so the derivative is just the derivative of the activation function.\n",
    "  dyhat_df = dsigmoid(f)\n",
    "\n",
    "  # The partial derivative of the linear values of the neuron (f(X_i))\n",
    "  # with respect to the weights is just the inputs (X_i)\n",
    "  # because linear values (f(X_i))= a1*x1 + a2*x2 + ... \n",
    "\n",
    "  # Calculate the gradient of the loss function, excluding the input values\n",
    "  # because these are constants.\n",
    "  # This is a useful intermediate calculation step to capture.\n",
    "  delta = dJ_dyhat*dyhat_df\n",
    "\n",
    "  # Update the weights.\n",
    "  weights_old = weights\n",
    "  weights -= learn_rate * np.dot(input.T, delta) / input.shape[0]\n",
    "\n",
    "  # Update the bias.\n",
    "  bias -= learn_rate * np.sum(delta, axis = 0) / input.shape[0]\n",
    "\n",
    "  # Print the loss calculated after every 25th iteration.\n",
    "  if np.mod(_, 25) == 0:\n",
    "    print(f'iter {_} MSE: {mse_loss(response, y_hat)}')"
   ]
  },
  {
   "cell_type": "markdown",
   "metadata": {
    "id": "AK-v3wZvX8Zd"
   },
   "source": [
    "#### Evaluate NN 1\n",
    "\n",
    "The cells below assess the module using the AUC measure and by plotting the confusion matrix.\n",
    "They also compare the single layer neural network to the final GBM model."
   ]
  },
  {
   "cell_type": "code",
   "execution_count": 40,
   "metadata": {
    "id": "P0d46u1o8p0V"
   },
   "outputs": [],
   "source": [
    "# Now create predictions with the weights from the training step above,\n",
    "# using the fwd_pass1 function. \n",
    "pred_nn1_train = fwd_pass1(input, bias, weights, False)\n",
    "pred_nn1_validation = fwd_pass1(input_validation, bias, weights, False)"
   ]
  },
  {
   "cell_type": "code",
   "execution_count": 41,
   "metadata": {
    "colab": {
     "base_uri": "https://localhost:8080/"
    },
    "id": "Om76QHxLdL6L",
    "outputId": "2058a39b-6698-40db-a472-0504dc9d0628"
   },
   "outputs": [
    {
     "data": {
      "text/plain": [
       "{'train': 0.8299297457961795, 'validation': 0.8414724395699427}"
      ]
     },
     "execution_count": 41,
     "metadata": {
      "tags": []
     },
     "output_type": "execute_result"
    }
   ],
   "source": [
    "# Print the training and validation AUC.\n",
    "{'train':roc_auc_score(response, pred_nn1_train),\n",
    " 'validation':roc_auc_score(response_validation, pred_nn1_validation)}"
   ]
  },
  {
   "cell_type": "code",
   "execution_count": 42,
   "metadata": {
    "colab": {
     "base_uri": "https://localhost:8080/",
     "height": 311
    },
    "id": "CGoyDBHRZvn6",
    "outputId": "9c309b9d-8cf3-47d2-fc53-767020700cde"
   },
   "outputs": [
    {
     "data": {
      "image/png": "[encoded data removed]",
      "text/plain": [
       "<Figure size 432x288 with 2 Axes>"
      ]
     },
     "metadata": {
      "needs_background": "light",
      "tags": []
     },
     "output_type": "display_data"
    }
   ],
   "source": [
    "# Plot the confusion matrix, with predictions converted to \n",
    "# binary classes using a 50% threshold.\n",
    "pred_nn1_validation_class = np.where(pred_nn1_validation > 0.5, 1, 0)\n",
    "\n",
    "conf_mat_nn1_validation = confusion_matrix_new = confusion_matrix(\n",
    "    response_validation, pred_nn1_validation_class)\n",
    "plot_confusion_matrix(conf_mat_nn1_validation, [0, 1])"
   ]
  },
  {
   "cell_type": "markdown",
   "metadata": {
    "id": "mBgMFxVWbPr1"
   },
   "source": [
    "The output from the single layer neural network can now be compared to the output from the final GBM."
   ]
  },
  {
   "cell_type": "code",
   "execution_count": 43,
   "metadata": {
    "colab": {
     "base_uri": "https://localhost:8080/"
    },
    "id": "IA4fBcnebSvf",
    "outputId": "c360e3c2-dd42-4bd9-8957-88d1a99c02b5"
   },
   "outputs": [
    {
     "data": {
      "text/plain": [
       "{'GBM final': 0.861474435196195, 'NN 1': 0.8414724395699427}"
      ]
     },
     "execution_count": 43,
     "metadata": {
      "tags": []
     },
     "output_type": "execute_result"
    }
   ],
   "source": [
    "{'GBM final':roc_auc_score(response_validation, validation_gbm_preds_final),\n",
    " 'NN 1': roc_auc_score(response_validation, pred_nn1_validation)}"
   ]
  },
  {
   "cell_type": "code",
   "execution_count": 44,
   "metadata": {
    "colab": {
     "base_uri": "https://localhost:8080/",
     "height": 311
    },
    "id": "ixqk5t58alp2",
    "outputId": "aec1ddfd-6144-4fb8-bbe9-432f93a3a84b"
   },
   "outputs": [
    {
     "data": {
      "image/png": "[encoded data removed]",
      "text/plain": [
       "<Figure size 432x288 with 2 Axes>"
      ]
     },
     "metadata": {
      "needs_background": "light",
      "tags": []
     },
     "output_type": "display_data"
    }
   ],
   "source": [
    "conf_mat_gbm_validation = confusion_matrix(validation_gbm_y, validation_gbm_class_final)\n",
    "plot_confusion_matrix(conf_mat_gbm_validation, [0, 1])"
   ]
  },
  {
   "cell_type": "markdown",
   "metadata": {
    "id": "SQc1-6KMbHxi"
   },
   "source": [
    "The AUC is slighly higher (better) under the final GBM than under the single layer neural network. However, the very simple neural network isn't far behind the more complicated GBM and has an AUC above 0.84, so this still seems to be a reasonable model for predicting churn."
   ]
  },
  {
   "cell_type": "markdown",
   "metadata": {
    "id": "0AuIKIZXSXpv"
   },
   "source": [
    "#### Fit a multi-layer neural network (NN 2)\n",
    "\n",
    "The single layer neural network (NN 1) can now be extended to a more complex model in an attempt to improve the predictive capability of the neural network.\n",
    "\n",
    "This second neural network (NN 2) will have one hidden layer with four neurons. Again, the sigmoid activation function will be used in the hidden and output layers and mean-squared error will be used as the loss function.\n",
    "\n",
    "For the time-being, this will still be built and trained from first principles. Again, while it will rarely be necessary for you to build a neural network from first principles, you should review the code below to get a better sense of what is going on within a neural network with a hidden layer.\n",
    "\n",
    "To train this network, the following two steps will again be performed:\n",
    "1. a forward propagation step to pass the data through the network from start to finish; and\n",
    "2. a backpropagation step to pass the error back through the network, from the end output (where the error is first observed) to the start of the network (i.e. the input layer).\n",
    "\n",
    "The neurons in the network's hidden layer perform identical operations to those performed by the single neuron in the first neural network. For example, the first neuron in the hidden layer does the following:\n",
    "$$f(X_{i.}) = a_{01} + a_{1}^{T}X_{i.} $$\n",
    "$$Z_{1,1} = \\sigma (f(X_{i.})) = \\sigma (a_{01} + a_{1}^{T}X_{i.})$$"
   ]
  },
  {
   "cell_type": "markdown",
   "metadata": {
    "id": "dBDo8lIBYD8n"
   },
   "source": [
    "The sigmoid, dsigmoid, mse_loss and init_params functions that were defined for the purpose of fitting NN 1 can also be used for NN 2.\n",
    "\n",
    "The following function defines how the forward propagation step should proceed for NN2 that has one hidden layer with four neurons."
   ]
  },
  {
   "cell_type": "code",
   "execution_count": 45,
   "metadata": {
    "id": "TZ5T-VHUZJ6h"
   },
   "outputs": [],
   "source": [
    "def fwd_pass2(input, l1_bias, l1_weights, l2_bias, l2_weights, keep_intermediate = False):\n",
    "  '''\n",
    "  Performs the forward propagation calculations for a network with a single hidden layer.\n",
    "  Params:\n",
    "    input: input data\n",
    "    l1_bias: bias for layer 1 (the hidden layer)\n",
    "    l1_weights: weights for layer 1\n",
    "    l2_bias: bias for layer 2 (the output layer)\n",
    "    l2_weights: weights for layer 2\n",
    "    keep_intermediate: (logical) keep the intermediate results? \n",
    "                       If True, returns the linear scores and activations for\n",
    "                       the hidden and output layers.\n",
    "  '''\n",
    "\n",
    "  # Calculate the neurons in layer 1 (the hidden layer).\n",
    "  f1 = np.matmul(input, l1_weights) + l1_bias # linear score\n",
    "  z1 = sigmoid(f1)                            # activation\n",
    "\n",
    "  # Output layer\n",
    "  f2 = np.dot(z1, l2_weights) + l2_bias       # linear score \n",
    "  y_hat = sigmoid(f2)                         # activation: final output\n",
    "\n",
    "  if keep_intermediate:\n",
    "    return f1, z1, f2, y_hat\n",
    "  else:\n",
    "    return y_hat"
   ]
  },
  {
   "cell_type": "markdown",
   "metadata": {
    "id": "BUJ3ixfKT8RH"
   },
   "source": [
    "The learning rate and number of training iterations are then defined below."
   ]
  },
  {
   "cell_type": "code",
   "execution_count": 46,
   "metadata": {
    "id": "-a1gDhZrUE3R"
   },
   "outputs": [],
   "source": [
    "# Set the learning rate - must be in (0, 1].\n",
    "learn_rate = 0.2\n",
    "\n",
    "# Set the number of training iterations.\n",
    "n_rounds = 500\n",
    "\n",
    "# Specify the desired number of neurons in the hidden layer.\n",
    "hidden_neurons = 4\n",
    "\n",
    "# Set the random seed for reproducibility.\n",
    "np.random.seed(1235)\n",
    "\n",
    "# Initialise the weights for the hidden layer.\n",
    "l1_bias, l1_weights = init_params(n_p = input.shape[1], n_h = hidden_neurons, range = 0.1, start = -0.05)\n",
    "\n",
    "# Initialise the weights for the output layer.\n",
    "l2_bias, l2_weights = init_params(n_p = l1_weights.shape[1], n_h = 1, range = 0.1, start = -0.05)"
   ]
  },
  {
   "cell_type": "markdown",
   "metadata": {
    "id": "K4CIRGhtUMPX"
   },
   "source": [
    "The model can now be trained using the functions and hyperparameters specified above."
   ]
  },
  {
   "cell_type": "code",
   "execution_count": 47,
   "metadata": {
    "colab": {
     "base_uri": "https://localhost:8080/"
    },
    "id": "pU4dNLnCZqFI",
    "outputId": "1c954c94-aa94-4474-e7d2-51c974f5148b"
   },
   "outputs": [
    {
     "name": "stdout",
     "output_type": "stream",
     "text": [
      "iter 0 : 0.2511001577139275\n",
      "iter 25 : 0.21041550733934317\n",
      "iter 50 : 0.19913895871849857\n",
      "iter 75 : 0.19548216749243946\n",
      "iter 100 : 0.1940608216259812\n",
      "iter 125 : 0.1933855313335157\n",
      "iter 150 : 0.19298164332895798\n",
      "iter 175 : 0.19268104914715317\n",
      "iter 200 : 0.19241961955198858\n",
      "iter 225 : 0.19217148993015826\n",
      "iter 250 : 0.19192567962778895\n",
      "iter 275 : 0.19167721705008536\n",
      "iter 300 : 0.19142361898305546\n",
      "iter 325 : 0.19116345236013363\n",
      "iter 350 : 0.19089573547094899\n",
      "iter 375 : 0.19061968576294885\n",
      "iter 400 : 0.19033461306845686\n",
      "iter 425 : 0.1900398745690468\n",
      "iter 450 : 0.1897348562620397\n",
      "iter 475 : 0.18941896598690924\n"
     ]
    }
   ],
   "source": [
    "for _ in range(n_rounds):\n",
    "\n",
    "  '''\n",
    "  The model is trained by first performing a forward pass to get the predictions,\n",
    "  followed by a backward pass to 'propagate' the loss back through each of the\n",
    "  neurons.\n",
    "  This is repeated each iteration until the network has converged or \n",
    "  the maximum number of rounds has been reached.\n",
    "\n",
    "  The following notation is used in this function: \n",
    "    ln_weights: the weights matrix (one column per neuron) for layer n\n",
    "    ln_bias: vector of bias values (one per neuron) for layer n\n",
    "    fn: vector of linear scores (one per neuron) for layer n\n",
    "    zn: vector of activations (one per neuron) for layer n\n",
    "  '''\n",
    "\n",
    "  # Perform the forward pass.\n",
    "  f1, z1, f2, y_hat = fwd_pass2(input, l1_bias, l1_weights, l2_bias, l2_weights, True)\n",
    "\n",
    "  # Perform the backpropagation step.\n",
    "  # Perform the intermediate calculations for the loss function gradients.\n",
    "  delta2 = (y_hat - response) * dsigmoid(f2)        \n",
    "  delta1 = np.dot(delta2, l2_weights.T) * dsigmoid(f1)\n",
    "\n",
    "  dloss_dweight2 = np.dot(z1.T, delta2)/input.shape[0]\n",
    "    # Gradient with respect to the layer 2 weights.\n",
    "  dloss_dweight1 = np.matmul(input.T, delta1)/input.shape[0]\n",
    "    # Gradient with respect to the layer 1 weights.\n",
    "\n",
    "  # Update the weights.\n",
    "  l2_weights -= learn_rate * dloss_dweight2\n",
    "  l1_weights -= learn_rate * dloss_dweight1\n",
    "\n",
    "  # Update the bias terms.\n",
    "  l2_bias -= learn_rate * np.sum(delta2, axis = 0) / input.shape[0]\n",
    "  l1_bias -= learn_rate * np.sum(delta1, axis = 0) / input.shape[0]\n",
    "\n",
    "  # Print the loss after every 25th iteration.\n",
    "  if np.mod(_, 25) == 0:\n",
    "    print('iter', _, ':', mse_loss(response, y_hat))"
   ]
  },
  {
   "cell_type": "markdown",
   "metadata": {
    "id": "YKTK4jhoaU7b"
   },
   "source": [
    "#### Evaluate NN 2"
   ]
  },
  {
   "cell_type": "code",
   "execution_count": 48,
   "metadata": {
    "id": "t_wj4-ByaUdO"
   },
   "outputs": [],
   "source": [
    "pred_nn2_train = fwd_pass2(input, l1_bias, l1_weights, l2_bias, l2_weights, False)\n",
    "pred_nn2_validation = fwd_pass2(input_validation, l1_bias, l1_weights, l2_bias, l2_weights, False)"
   ]
  },
  {
   "cell_type": "code",
   "execution_count": 49,
   "metadata": {
    "colab": {
     "base_uri": "https://localhost:8080/"
    },
    "id": "dJPVXh0e2KDB",
    "outputId": "99bc7f00-4cbc-41d1-db4f-5338393d4364"
   },
   "outputs": [
    {
     "data": {
      "text/plain": [
       "{'train': 0.8136249709132997, 'validation': 0.8250833589715872}"
      ]
     },
     "execution_count": 49,
     "metadata": {
      "tags": []
     },
     "output_type": "execute_result"
    }
   ],
   "source": [
    "{'train':roc_auc_score(response, pred_nn2_train),\n",
    " 'validation':roc_auc_score(response_validation, pred_nn2_validation)}"
   ]
  },
  {
   "cell_type": "code",
   "execution_count": 50,
   "metadata": {
    "colab": {
     "base_uri": "https://localhost:8080/"
    },
    "id": "6WaOuwfLeO1A",
    "outputId": "cabfbf8b-c42a-4013-8b42-436dbc600880"
   },
   "outputs": [
    {
     "data": {
      "text/plain": [
       "{'1. NN 2': 0.8250833589715872,\n",
       " '2. NN 1': 0.8414724395699427,\n",
       " '3. GBM final': 0.861474435196195}"
      ]
     },
     "execution_count": 50,
     "metadata": {
      "tags": []
     },
     "output_type": "execute_result"
    }
   ],
   "source": [
    "# Compare NN 2 to GBM final and NN 1\n",
    "{'1. NN 2':roc_auc_score(response_validation, pred_nn2_validation),\n",
    " '2. NN 1':roc_auc_score(response_validation, pred_nn1_validation),\n",
    " '3. GBM final': roc_auc_score(response_validation, validation_gbm_preds_final)}"
   ]
  },
  {
   "cell_type": "markdown",
   "metadata": {
    "id": "wrCE9BG4ftFf"
   },
   "source": [
    "The slightly more complex neural network with one hidden layer (NN 2) performed slightly worse on the validation data than the very simple one neuron neural network (NN 1). Both performaed slightly worse than the GBM but still had AUCs over 83%.\n"
   ]
  },
  {
   "cell_type": "markdown",
   "metadata": {
    "id": "HBAc28kUZrPi"
   },
   "source": [
    "### Neural networks using Keras\n",
    "\n",
    "This section demonstrates how to fit a neural network using Python's Keras package. Keras, which runs on top of the TensorFlow library, does all of the calculations shown above for the simple neural networks, taking a lot of the hard work out of building a neural network.\n",
    "\n",
    "The following steps are used to build the neural networks using Keras:\n",
    "\n",
    "- use `Sequential()` to specify a feedforward neural network;\n",
    "- use the `.add()` method to add layers to the network, combined with `Dense()` to specify a dense layer (where all the neurons are fully connected to the preceding layer)."
   ]
  },
  {
   "cell_type": "markdown",
   "metadata": {
    "id": "HxPg91IteIej"
   },
   "source": [
    "#### Fit a single layer neural network with Keras (NN 3)\n",
    "The following options are taken to align the first Keras model with NN 2:\n",
    "- SGD optimiser: this optimises using stochastic gradient descent with momentum. By setting `momentum = 0.0`, `batch_size` to the input data size, and `steps_per_epoch = 1` the basic backpropagation algorithm is recovered.\n",
    "- `bias_initializer = 'zeros'` and `kernel_initializer = 'random_uniform'`: this sets the initial bias values to 0 and the weights to random uniform (defaulted to a range of [-0.05, 0.05] as used in the simple neural networks above."
   ]
  },
  {
   "cell_type": "code",
   "execution_count": 51,
   "metadata": {
    "colab": {
     "base_uri": "https://localhost:8080/"
    },
    "id": "rmHQC2BPXHs1",
    "outputId": "9ec75db5-c6c0-4098-c458-e1bee65101b2"
   },
   "outputs": [
    {
     "name": "stdout",
     "output_type": "stream",
     "text": [
      "Epoch 1/500\n",
      "1/1 - 1s - loss: 0.2498 - mse: 0.2498\n",
      "Epoch 2/500\n",
      "1/1 - 0s - loss: 0.2444 - mse: 0.2444\n",
      "Epoch 3/500\n",
      "1/1 - 0s - loss: 0.2396 - mse: 0.2396\n",
      "Epoch 4/500\n",
      "1/1 - 0s - loss: 0.2353 - mse: 0.2353\n",
      "Epoch 5/500\n",
      "1/1 - 0s - loss: 0.2314 - mse: 0.2314\n",
      "Epoch 6/500\n",
      "1/1 - 0s - loss: 0.2279 - mse: 0.2279\n",
      "Epoch 7/500\n",
      "1/1 - 0s - loss: 0.2247 - mse: 0.2247\n",
      "Epoch 8/500\n",
      "1/1 - 0s - loss: 0.2218 - mse: 0.2218\n",
      "Epoch 9/500\n",
      "1/1 - 0s - loss: 0.2193 - mse: 0.2193\n",
      "Epoch 10/500\n",
      "1/1 - 0s - loss: 0.2170 - mse: 0.2170\n",
      "Epoch 11/500\n",
      "1/1 - 0s - loss: 0.2149 - mse: 0.2149\n",
      "Epoch 12/500\n",
      "1/1 - 0s - loss: 0.2130 - mse: 0.2130\n",
      "Epoch 13/500\n",
      "1/1 - 0s - loss: 0.2113 - mse: 0.2113\n",
      "Epoch 14/500\n",
      "1/1 - 0s - loss: 0.2098 - mse: 0.2098\n",
      "Epoch 15/500\n",
      "1/1 - 0s - loss: 0.2084 - mse: 0.2084\n",
      "Epoch 16/500\n",
      "1/1 - 0s - loss: 0.2071 - mse: 0.2071\n",
      "Epoch 17/500\n",
      "1/1 - 0s - loss: 0.2060 - mse: 0.2060\n",
      "Epoch 18/500\n",
      "1/1 - 0s - loss: 0.2050 - mse: 0.2050\n",
      "Epoch 19/500\n",
      "1/1 - 0s - loss: 0.2040 - mse: 0.2040\n",
      "Epoch 20/500\n",
      "1/1 - 0s - loss: 0.2032 - mse: 0.2032\n",
      "Epoch 21/500\n",
      "1/1 - 0s - loss: 0.2024 - mse: 0.2024\n",
      "Epoch 22/500\n",
      "1/1 - 0s - loss: 0.2017 - mse: 0.2017\n",
      "Epoch 23/500\n",
      "1/1 - 0s - loss: 0.2011 - mse: 0.2011\n",
      "Epoch 24/500\n",
      "1/1 - 0s - loss: 0.2005 - mse: 0.2005\n",
      "Epoch 25/500\n",
      "1/1 - 0s - loss: 0.1999 - mse: 0.1999\n",
      "Epoch 26/500\n",
      "1/1 - 0s - loss: 0.1994 - mse: 0.1994\n",
      "Epoch 27/500\n",
      "1/1 - 0s - loss: 0.1990 - mse: 0.1990\n",
      "Epoch 28/500\n",
      "1/1 - 0s - loss: 0.1986 - mse: 0.1986\n",
      "Epoch 29/500\n",
      "1/1 - 0s - loss: 0.1982 - mse: 0.1982\n",
      "Epoch 30/500\n",
      "1/1 - 0s - loss: 0.1978 - mse: 0.1978\n",
      "Epoch 31/500\n",
      "1/1 - 0s - loss: 0.1975 - mse: 0.1975\n",
      "Epoch 32/500\n",
      "1/1 - 0s - loss: 0.1972 - mse: 0.1972\n",
      "Epoch 33/500\n",
      "1/1 - 0s - loss: 0.1970 - mse: 0.1970\n",
      "Epoch 34/500\n",
      "1/1 - 0s - loss: 0.1967 - mse: 0.1967\n",
      "Epoch 35/500\n",
      "1/1 - 0s - loss: 0.1965 - mse: 0.1965\n",
      "Epoch 36/500\n",
      "1/1 - 0s - loss: 0.1963 - mse: 0.1963\n",
      "Epoch 37/500\n",
      "1/1 - 0s - loss: 0.1961 - mse: 0.1961\n",
      "Epoch 38/500\n",
      "1/1 - 0s - loss: 0.1959 - mse: 0.1959\n",
      "Epoch 39/500\n",
      "1/1 - 0s - loss: 0.1957 - mse: 0.1957\n",
      "Epoch 40/500\n",
      "1/1 - 0s - loss: 0.1955 - mse: 0.1955\n",
      "Epoch 41/500\n",
      "1/1 - 0s - loss: 0.1954 - mse: 0.1954\n",
      "Epoch 42/500\n",
      "1/1 - 0s - loss: 0.1953 - mse: 0.1953\n",
      "Epoch 43/500\n",
      "1/1 - 0s - loss: 0.1951 - mse: 0.1951\n",
      "Epoch 44/500\n",
      "1/1 - 0s - loss: 0.1950 - mse: 0.1950\n",
      "Epoch 45/500\n",
      "1/1 - 0s - loss: 0.1949 - mse: 0.1949\n",
      "Epoch 46/500\n",
      "1/1 - 0s - loss: 0.1948 - mse: 0.1948\n",
      "Epoch 47/500\n",
      "1/1 - 0s - loss: 0.1947 - mse: 0.1947\n",
      "Epoch 48/500\n",
      "1/1 - 0s - loss: 0.1946 - mse: 0.1946\n",
      "Epoch 49/500\n",
      "1/1 - 0s - loss: 0.1945 - mse: 0.1945\n",
      "Epoch 50/500\n",
      "1/1 - 0s - loss: 0.1944 - mse: 0.1944\n",
      "Epoch 51/500\n",
      "1/1 - 0s - loss: 0.1943 - mse: 0.1943\n",
      "Epoch 52/500\n",
      "1/1 - 0s - loss: 0.1943 - mse: 0.1943\n",
      "Epoch 53/500\n",
      "1/1 - 0s - loss: 0.1942 - mse: 0.1942\n",
      "Epoch 54/500\n",
      "1/1 - 0s - loss: 0.1941 - mse: 0.1941\n",
      "Epoch 55/500\n",
      "1/1 - 0s - loss: 0.1941 - mse: 0.1941\n",
      "Epoch 56/500\n",
      "1/1 - 0s - loss: 0.1940 - mse: 0.1940\n",
      "Epoch 57/500\n",
      "1/1 - 0s - loss: 0.1940 - mse: 0.1940\n",
      "Epoch 58/500\n",
      "1/1 - 0s - loss: 0.1939 - mse: 0.1939\n",
      "Epoch 59/500\n",
      "1/1 - 0s - loss: 0.1939 - mse: 0.1939\n",
      "Epoch 60/500\n",
      "1/1 - 0s - loss: 0.1938 - mse: 0.1938\n",
      "Epoch 61/500\n",
      "1/1 - 0s - loss: 0.1938 - mse: 0.1938\n",
      "Epoch 62/500\n",
      "1/1 - 0s - loss: 0.1937 - mse: 0.1937\n",
      "Epoch 63/500\n",
      "1/1 - 0s - loss: 0.1937 - mse: 0.1937\n",
      "Epoch 64/500\n",
      "1/1 - 0s - loss: 0.1936 - mse: 0.1936\n",
      "Epoch 65/500\n",
      "1/1 - 0s - loss: 0.1936 - mse: 0.1936\n",
      "Epoch 66/500\n",
      "1/1 - 0s - loss: 0.1936 - mse: 0.1936\n",
      "Epoch 67/500\n",
      "1/1 - 0s - loss: 0.1935 - mse: 0.1935\n",
      "Epoch 68/500\n",
      "1/1 - 0s - loss: 0.1935 - mse: 0.1935\n",
      "Epoch 69/500\n",
      "1/1 - 0s - loss: 0.1934 - mse: 0.1934\n",
      "Epoch 70/500\n",
      "1/1 - 0s - loss: 0.1934 - mse: 0.1934\n",
      "Epoch 71/500\n",
      "1/1 - 0s - loss: 0.1934 - mse: 0.1934\n",
      "Epoch 72/500\n",
      "1/1 - 0s - loss: 0.1934 - mse: 0.1934\n",
      "Epoch 73/500\n",
      "1/1 - 0s - loss: 0.1933 - mse: 0.1933\n",
      "Epoch 74/500\n",
      "1/1 - 0s - loss: 0.1933 - mse: 0.1933\n",
      "Epoch 75/500\n",
      "1/1 - 0s - loss: 0.1933 - mse: 0.1933\n",
      "Epoch 76/500\n",
      "1/1 - 0s - loss: 0.1932 - mse: 0.1932\n",
      "Epoch 77/500\n",
      "1/1 - 0s - loss: 0.1932 - mse: 0.1932\n",
      "Epoch 78/500\n",
      "1/1 - 0s - loss: 0.1932 - mse: 0.1932\n",
      "Epoch 79/500\n",
      "1/1 - 0s - loss: 0.1932 - mse: 0.1932\n",
      "Epoch 80/500\n",
      "1/1 - 0s - loss: 0.1931 - mse: 0.1931\n",
      "Epoch 81/500\n",
      "1/1 - 0s - loss: 0.1931 - mse: 0.1931\n",
      "Epoch 82/500\n",
      "1/1 - 0s - loss: 0.1931 - mse: 0.1931\n",
      "Epoch 83/500\n",
      "1/1 - 0s - loss: 0.1931 - mse: 0.1931\n",
      "Epoch 84/500\n",
      "1/1 - 0s - loss: 0.1930 - mse: 0.1930\n",
      "Epoch 85/500\n",
      "1/1 - 0s - loss: 0.1930 - mse: 0.1930\n",
      "Epoch 86/500\n",
      "1/1 - 0s - loss: 0.1930 - mse: 0.1930\n",
      "Epoch 87/500\n",
      "1/1 - 0s - loss: 0.1930 - mse: 0.1930\n",
      "Epoch 88/500\n",
      "1/1 - 0s - loss: 0.1929 - mse: 0.1929\n",
      "Epoch 89/500\n",
      "1/1 - 0s - loss: 0.1929 - mse: 0.1929\n",
      "Epoch 90/500\n",
      "1/1 - 0s - loss: 0.1929 - mse: 0.1929\n",
      "Epoch 91/500\n",
      "1/1 - 0s - loss: 0.1929 - mse: 0.1929\n",
      "Epoch 92/500\n",
      "1/1 - 0s - loss: 0.1928 - mse: 0.1928\n",
      "Epoch 93/500\n",
      "1/1 - 0s - loss: 0.1928 - mse: 0.1928\n",
      "Epoch 94/500\n",
      "1/1 - 0s - loss: 0.1928 - mse: 0.1928\n",
      "Epoch 95/500\n",
      "1/1 - 0s - loss: 0.1928 - mse: 0.1928\n",
      "Epoch 96/500\n",
      "1/1 - 0s - loss: 0.1928 - mse: 0.1928\n",
      "Epoch 97/500\n",
      "1/1 - 0s - loss: 0.1927 - mse: 0.1927\n",
      "Epoch 98/500\n",
      "1/1 - 0s - loss: 0.1927 - mse: 0.1927\n",
      "Epoch 99/500\n",
      "1/1 - 0s - loss: 0.1927 - mse: 0.1927\n",
      "Epoch 100/500\n",
      "1/1 - 0s - loss: 0.1927 - mse: 0.1927\n",
      "Epoch 101/500\n",
      "1/1 - 0s - loss: 0.1927 - mse: 0.1927\n",
      "Epoch 102/500\n",
      "1/1 - 0s - loss: 0.1926 - mse: 0.1926\n",
      "Epoch 103/500\n",
      "1/1 - 0s - loss: 0.1926 - mse: 0.1926\n",
      "Epoch 104/500\n",
      "1/1 - 0s - loss: 0.1926 - mse: 0.1926\n",
      "Epoch 105/500\n",
      "1/1 - 0s - loss: 0.1926 - mse: 0.1926\n",
      "Epoch 106/500\n",
      "1/1 - 0s - loss: 0.1926 - mse: 0.1926\n",
      "Epoch 107/500\n",
      "1/1 - 0s - loss: 0.1925 - mse: 0.1925\n",
      "Epoch 108/500\n",
      "1/1 - 0s - loss: 0.1925 - mse: 0.1925\n",
      "Epoch 109/500\n",
      "1/1 - 0s - loss: 0.1925 - mse: 0.1925\n",
      "Epoch 110/500\n",
      "1/1 - 0s - loss: 0.1925 - mse: 0.1925\n",
      "Epoch 111/500\n",
      "1/1 - 0s - loss: 0.1925 - mse: 0.1925\n",
      "Epoch 112/500\n",
      "1/1 - 0s - loss: 0.1924 - mse: 0.1924\n",
      "Epoch 113/500\n",
      "1/1 - 0s - loss: 0.1924 - mse: 0.1924\n",
      "Epoch 114/500\n",
      "1/1 - 0s - loss: 0.1924 - mse: 0.1924\n",
      "Epoch 115/500\n",
      "1/1 - 0s - loss: 0.1924 - mse: 0.1924\n",
      "Epoch 116/500\n",
      "1/1 - 0s - loss: 0.1924 - mse: 0.1924\n",
      "Epoch 117/500\n",
      "1/1 - 0s - loss: 0.1923 - mse: 0.1923\n",
      "Epoch 118/500\n",
      "1/1 - 0s - loss: 0.1923 - mse: 0.1923\n",
      "Epoch 119/500\n",
      "1/1 - 0s - loss: 0.1923 - mse: 0.1923\n",
      "Epoch 120/500\n",
      "1/1 - 0s - loss: 0.1923 - mse: 0.1923\n",
      "Epoch 121/500\n",
      "1/1 - 0s - loss: 0.1923 - mse: 0.1923\n",
      "Epoch 122/500\n",
      "1/1 - 0s - loss: 0.1922 - mse: 0.1922\n",
      "Epoch 123/500\n",
      "1/1 - 0s - loss: 0.1922 - mse: 0.1922\n",
      "Epoch 124/500\n",
      "1/1 - 0s - loss: 0.1922 - mse: 0.1922\n",
      "Epoch 125/500\n",
      "1/1 - 0s - loss: 0.1922 - mse: 0.1922\n",
      "Epoch 126/500\n",
      "1/1 - 0s - loss: 0.1922 - mse: 0.1922\n",
      "Epoch 127/500\n",
      "1/1 - 0s - loss: 0.1921 - mse: 0.1921\n",
      "Epoch 128/500\n",
      "1/1 - 0s - loss: 0.1921 - mse: 0.1921\n",
      "Epoch 129/500\n",
      "1/1 - 0s - loss: 0.1921 - mse: 0.1921\n",
      "Epoch 130/500\n",
      "1/1 - 0s - loss: 0.1921 - mse: 0.1921\n",
      "Epoch 131/500\n",
      "1/1 - 0s - loss: 0.1921 - mse: 0.1921\n",
      "Epoch 132/500\n",
      "1/1 - 0s - loss: 0.1920 - mse: 0.1920\n",
      "Epoch 133/500\n",
      "1/1 - 0s - loss: 0.1920 - mse: 0.1920\n",
      "Epoch 134/500\n",
      "1/1 - 0s - loss: 0.1920 - mse: 0.1920\n",
      "Epoch 135/500\n",
      "1/1 - 0s - loss: 0.1920 - mse: 0.1920\n",
      "Epoch 136/500\n",
      "1/1 - 0s - loss: 0.1920 - mse: 0.1920\n",
      "Epoch 137/500\n",
      "1/1 - 0s - loss: 0.1919 - mse: 0.1919\n",
      "Epoch 138/500\n",
      "1/1 - 0s - loss: 0.1919 - mse: 0.1919\n",
      "Epoch 139/500\n",
      "1/1 - 0s - loss: 0.1919 - mse: 0.1919\n",
      "Epoch 140/500\n",
      "1/1 - 0s - loss: 0.1919 - mse: 0.1919\n",
      "Epoch 141/500\n",
      "1/1 - 0s - loss: 0.1919 - mse: 0.1919\n",
      "Epoch 142/500\n",
      "1/1 - 0s - loss: 0.1918 - mse: 0.1918\n",
      "Epoch 143/500\n",
      "1/1 - 0s - loss: 0.1918 - mse: 0.1918\n",
      "Epoch 144/500\n",
      "1/1 - 0s - loss: 0.1918 - mse: 0.1918\n",
      "Epoch 145/500\n",
      "1/1 - 0s - loss: 0.1918 - mse: 0.1918\n",
      "Epoch 146/500\n",
      "1/1 - 0s - loss: 0.1918 - mse: 0.1918\n",
      "Epoch 147/500\n",
      "1/1 - 0s - loss: 0.1917 - mse: 0.1917\n",
      "Epoch 148/500\n",
      "1/1 - 0s - loss: 0.1917 - mse: 0.1917\n",
      "Epoch 149/500\n",
      "1/1 - 0s - loss: 0.1917 - mse: 0.1917\n",
      "Epoch 150/500\n",
      "1/1 - 0s - loss: 0.1917 - mse: 0.1917\n",
      "Epoch 151/500\n",
      "1/1 - 0s - loss: 0.1916 - mse: 0.1916\n",
      "Epoch 152/500\n",
      "1/1 - 0s - loss: 0.1916 - mse: 0.1916\n",
      "Epoch 153/500\n",
      "1/1 - 0s - loss: 0.1916 - mse: 0.1916\n",
      "Epoch 154/500\n",
      "1/1 - 0s - loss: 0.1916 - mse: 0.1916\n",
      "Epoch 155/500\n",
      "1/1 - 0s - loss: 0.1916 - mse: 0.1916\n",
      "Epoch 156/500\n",
      "1/1 - 0s - loss: 0.1915 - mse: 0.1915\n",
      "Epoch 157/500\n",
      "1/1 - 0s - loss: 0.1915 - mse: 0.1915\n",
      "Epoch 158/500\n",
      "1/1 - 0s - loss: 0.1915 - mse: 0.1915\n",
      "Epoch 159/500\n",
      "1/1 - 0s - loss: 0.1915 - mse: 0.1915\n",
      "Epoch 160/500\n",
      "1/1 - 0s - loss: 0.1915 - mse: 0.1915\n",
      "Epoch 161/500\n",
      "1/1 - 0s - loss: 0.1914 - mse: 0.1914\n",
      "Epoch 162/500\n",
      "1/1 - 0s - loss: 0.1914 - mse: 0.1914\n",
      "Epoch 163/500\n",
      "1/1 - 0s - loss: 0.1914 - mse: 0.1914\n",
      "Epoch 164/500\n",
      "1/1 - 0s - loss: 0.1914 - mse: 0.1914\n",
      "Epoch 165/500\n",
      "1/1 - 0s - loss: 0.1914 - mse: 0.1914\n",
      "Epoch 166/500\n",
      "1/1 - 0s - loss: 0.1913 - mse: 0.1913\n",
      "Epoch 167/500\n",
      "1/1 - 0s - loss: 0.1913 - mse: 0.1913\n",
      "Epoch 168/500\n",
      "1/1 - 0s - loss: 0.1913 - mse: 0.1913\n",
      "Epoch 169/500\n",
      "1/1 - 0s - loss: 0.1913 - mse: 0.1913\n",
      "Epoch 170/500\n",
      "1/1 - 0s - loss: 0.1912 - mse: 0.1912\n",
      "Epoch 171/500\n",
      "1/1 - 0s - loss: 0.1912 - mse: 0.1912\n",
      "Epoch 172/500\n",
      "1/1 - 0s - loss: 0.1912 - mse: 0.1912\n",
      "Epoch 173/500\n",
      "1/1 - 0s - loss: 0.1912 - mse: 0.1912\n",
      "Epoch 174/500\n",
      "1/1 - 0s - loss: 0.1912 - mse: 0.1912\n",
      "Epoch 175/500\n",
      "1/1 - 0s - loss: 0.1911 - mse: 0.1911\n",
      "Epoch 176/500\n",
      "1/1 - 0s - loss: 0.1911 - mse: 0.1911\n",
      "Epoch 177/500\n",
      "1/1 - 0s - loss: 0.1911 - mse: 0.1911\n",
      "Epoch 178/500\n",
      "1/1 - 0s - loss: 0.1911 - mse: 0.1911\n",
      "Epoch 179/500\n",
      "1/1 - 0s - loss: 0.1911 - mse: 0.1911\n",
      "Epoch 180/500\n",
      "1/1 - 0s - loss: 0.1910 - mse: 0.1910\n",
      "Epoch 181/500\n",
      "1/1 - 0s - loss: 0.1910 - mse: 0.1910\n",
      "Epoch 182/500\n",
      "1/1 - 0s - loss: 0.1910 - mse: 0.1910\n",
      "Epoch 183/500\n",
      "1/1 - 0s - loss: 0.1910 - mse: 0.1910\n",
      "Epoch 184/500\n",
      "1/1 - 0s - loss: 0.1909 - mse: 0.1909\n",
      "Epoch 185/500\n",
      "1/1 - 0s - loss: 0.1909 - mse: 0.1909\n",
      "Epoch 186/500\n",
      "1/1 - 0s - loss: 0.1909 - mse: 0.1909\n",
      "Epoch 187/500\n",
      "1/1 - 0s - loss: 0.1909 - mse: 0.1909\n",
      "Epoch 188/500\n",
      "1/1 - 0s - loss: 0.1909 - mse: 0.1909\n",
      "Epoch 189/500\n",
      "1/1 - 0s - loss: 0.1908 - mse: 0.1908\n",
      "Epoch 190/500\n",
      "1/1 - 0s - loss: 0.1908 - mse: 0.1908\n",
      "Epoch 191/500\n",
      "1/1 - 0s - loss: 0.1908 - mse: 0.1908\n",
      "Epoch 192/500\n",
      "1/1 - 0s - loss: 0.1908 - mse: 0.1908\n",
      "Epoch 193/500\n",
      "1/1 - 0s - loss: 0.1907 - mse: 0.1907\n",
      "Epoch 194/500\n",
      "1/1 - 0s - loss: 0.1907 - mse: 0.1907\n",
      "Epoch 195/500\n",
      "1/1 - 0s - loss: 0.1907 - mse: 0.1907\n",
      "Epoch 196/500\n",
      "1/1 - 0s - loss: 0.1907 - mse: 0.1907\n",
      "Epoch 197/500\n",
      "1/1 - 0s - loss: 0.1906 - mse: 0.1906\n",
      "Epoch 198/500\n",
      "1/1 - 0s - loss: 0.1906 - mse: 0.1906\n",
      "Epoch 199/500\n",
      "1/1 - 0s - loss: 0.1906 - mse: 0.1906\n",
      "Epoch 200/500\n",
      "1/1 - 0s - loss: 0.1906 - mse: 0.1906\n",
      "Epoch 201/500\n",
      "1/1 - 0s - loss: 0.1906 - mse: 0.1906\n",
      "Epoch 202/500\n",
      "1/1 - 0s - loss: 0.1905 - mse: 0.1905\n",
      "Epoch 203/500\n",
      "1/1 - 0s - loss: 0.1905 - mse: 0.1905\n",
      "Epoch 204/500\n",
      "1/1 - 0s - loss: 0.1905 - mse: 0.1905\n",
      "Epoch 205/500\n",
      "1/1 - 0s - loss: 0.1905 - mse: 0.1905\n",
      "Epoch 206/500\n",
      "1/1 - 0s - loss: 0.1904 - mse: 0.1904\n",
      "Epoch 207/500\n",
      "1/1 - 0s - loss: 0.1904 - mse: 0.1904\n",
      "Epoch 208/500\n",
      "1/1 - 0s - loss: 0.1904 - mse: 0.1904\n",
      "Epoch 209/500\n",
      "1/1 - 0s - loss: 0.1904 - mse: 0.1904\n",
      "Epoch 210/500\n",
      "1/1 - 0s - loss: 0.1903 - mse: 0.1903\n",
      "Epoch 211/500\n",
      "1/1 - 0s - loss: 0.1903 - mse: 0.1903\n",
      "Epoch 212/500\n",
      "1/1 - 0s - loss: 0.1903 - mse: 0.1903\n",
      "Epoch 213/500\n",
      "1/1 - 0s - loss: 0.1903 - mse: 0.1903\n",
      "Epoch 214/500\n",
      "1/1 - 0s - loss: 0.1902 - mse: 0.1902\n",
      "Epoch 215/500\n",
      "1/1 - 0s - loss: 0.1902 - mse: 0.1902\n",
      "Epoch 216/500\n",
      "1/1 - 0s - loss: 0.1902 - mse: 0.1902\n",
      "Epoch 217/500\n",
      "1/1 - 0s - loss: 0.1902 - mse: 0.1902\n",
      "Epoch 218/500\n",
      "1/1 - 0s - loss: 0.1901 - mse: 0.1901\n",
      "Epoch 219/500\n",
      "1/1 - 0s - loss: 0.1901 - mse: 0.1901\n",
      "Epoch 220/500\n",
      "1/1 - 0s - loss: 0.1901 - mse: 0.1901\n",
      "Epoch 221/500\n",
      "1/1 - 0s - loss: 0.1901 - mse: 0.1901\n",
      "Epoch 222/500\n",
      "1/1 - 0s - loss: 0.1901 - mse: 0.1901\n",
      "Epoch 223/500\n",
      "1/1 - 0s - loss: 0.1900 - mse: 0.1900\n",
      "Epoch 224/500\n",
      "1/1 - 0s - loss: 0.1900 - mse: 0.1900\n",
      "Epoch 225/500\n",
      "1/1 - 0s - loss: 0.1900 - mse: 0.1900\n",
      "Epoch 226/500\n",
      "1/1 - 0s - loss: 0.1900 - mse: 0.1900\n",
      "Epoch 227/500\n",
      "1/1 - 0s - loss: 0.1899 - mse: 0.1899\n",
      "Epoch 228/500\n",
      "1/1 - 0s - loss: 0.1899 - mse: 0.1899\n",
      "Epoch 229/500\n",
      "1/1 - 0s - loss: 0.1899 - mse: 0.1899\n",
      "Epoch 230/500\n",
      "1/1 - 0s - loss: 0.1899 - mse: 0.1899\n",
      "Epoch 231/500\n",
      "1/1 - 0s - loss: 0.1898 - mse: 0.1898\n",
      "Epoch 232/500\n",
      "1/1 - 0s - loss: 0.1898 - mse: 0.1898\n",
      "Epoch 233/500\n",
      "1/1 - 0s - loss: 0.1898 - mse: 0.1898\n",
      "Epoch 234/500\n",
      "1/1 - 0s - loss: 0.1898 - mse: 0.1898\n",
      "Epoch 235/500\n",
      "1/1 - 0s - loss: 0.1897 - mse: 0.1897\n",
      "Epoch 236/500\n",
      "1/1 - 0s - loss: 0.1897 - mse: 0.1897\n",
      "Epoch 237/500\n",
      "1/1 - 0s - loss: 0.1897 - mse: 0.1897\n",
      "Epoch 238/500\n",
      "1/1 - 0s - loss: 0.1896 - mse: 0.1896\n",
      "Epoch 239/500\n",
      "1/1 - 0s - loss: 0.1896 - mse: 0.1896\n",
      "Epoch 240/500\n",
      "1/1 - 0s - loss: 0.1896 - mse: 0.1896\n",
      "Epoch 241/500\n",
      "1/1 - 0s - loss: 0.1896 - mse: 0.1896\n",
      "Epoch 242/500\n",
      "1/1 - 0s - loss: 0.1895 - mse: 0.1895\n",
      "Epoch 243/500\n",
      "1/1 - 0s - loss: 0.1895 - mse: 0.1895\n",
      "Epoch 244/500\n",
      "1/1 - 0s - loss: 0.1895 - mse: 0.1895\n",
      "Epoch 245/500\n",
      "1/1 - 0s - loss: 0.1895 - mse: 0.1895\n",
      "Epoch 246/500\n",
      "1/1 - 0s - loss: 0.1894 - mse: 0.1894\n",
      "Epoch 247/500\n",
      "1/1 - 0s - loss: 0.1894 - mse: 0.1894\n",
      "Epoch 248/500\n",
      "1/1 - 0s - loss: 0.1894 - mse: 0.1894\n",
      "Epoch 249/500\n",
      "1/1 - 0s - loss: 0.1894 - mse: 0.1894\n",
      "Epoch 250/500\n",
      "1/1 - 0s - loss: 0.1893 - mse: 0.1893\n",
      "Epoch 251/500\n",
      "1/1 - 0s - loss: 0.1893 - mse: 0.1893\n",
      "Epoch 252/500\n",
      "1/1 - 0s - loss: 0.1893 - mse: 0.1893\n",
      "Epoch 253/500\n",
      "1/1 - 0s - loss: 0.1893 - mse: 0.1893\n",
      "Epoch 254/500\n",
      "1/1 - 0s - loss: 0.1892 - mse: 0.1892\n",
      "Epoch 255/500\n",
      "1/1 - 0s - loss: 0.1892 - mse: 0.1892\n",
      "Epoch 256/500\n",
      "1/1 - 0s - loss: 0.1892 - mse: 0.1892\n",
      "Epoch 257/500\n",
      "1/1 - 0s - loss: 0.1891 - mse: 0.1891\n",
      "Epoch 258/500\n",
      "1/1 - 0s - loss: 0.1891 - mse: 0.1891\n",
      "Epoch 259/500\n",
      "1/1 - 0s - loss: 0.1891 - mse: 0.1891\n",
      "Epoch 260/500\n",
      "1/1 - 0s - loss: 0.1891 - mse: 0.1891\n",
      "Epoch 261/500\n",
      "1/1 - 0s - loss: 0.1890 - mse: 0.1890\n",
      "Epoch 262/500\n",
      "1/1 - 0s - loss: 0.1890 - mse: 0.1890\n",
      "Epoch 263/500\n",
      "1/1 - 0s - loss: 0.1890 - mse: 0.1890\n",
      "Epoch 264/500\n",
      "1/1 - 0s - loss: 0.1890 - mse: 0.1890\n",
      "Epoch 265/500\n",
      "1/1 - 0s - loss: 0.1889 - mse: 0.1889\n",
      "Epoch 266/500\n",
      "1/1 - 0s - loss: 0.1889 - mse: 0.1889\n",
      "Epoch 267/500\n",
      "1/1 - 0s - loss: 0.1889 - mse: 0.1889\n",
      "Epoch 268/500\n",
      "1/1 - 0s - loss: 0.1888 - mse: 0.1888\n",
      "Epoch 269/500\n",
      "1/1 - 0s - loss: 0.1888 - mse: 0.1888\n",
      "Epoch 270/500\n",
      "1/1 - 0s - loss: 0.1888 - mse: 0.1888\n",
      "Epoch 271/500\n",
      "1/1 - 0s - loss: 0.1888 - mse: 0.1888\n",
      "Epoch 272/500\n",
      "1/1 - 0s - loss: 0.1887 - mse: 0.1887\n",
      "Epoch 273/500\n",
      "1/1 - 0s - loss: 0.1887 - mse: 0.1887\n",
      "Epoch 274/500\n",
      "1/1 - 0s - loss: 0.1887 - mse: 0.1887\n",
      "Epoch 275/500\n",
      "1/1 - 0s - loss: 0.1886 - mse: 0.1886\n",
      "Epoch 276/500\n",
      "1/1 - 0s - loss: 0.1886 - mse: 0.1886\n",
      "Epoch 277/500\n",
      "1/1 - 0s - loss: 0.1886 - mse: 0.1886\n",
      "Epoch 278/500\n",
      "1/1 - 0s - loss: 0.1886 - mse: 0.1886\n",
      "Epoch 279/500\n",
      "1/1 - 0s - loss: 0.1885 - mse: 0.1885\n",
      "Epoch 280/500\n",
      "1/1 - 0s - loss: 0.1885 - mse: 0.1885\n",
      "Epoch 281/500\n",
      "1/1 - 0s - loss: 0.1885 - mse: 0.1885\n",
      "Epoch 282/500\n",
      "1/1 - 0s - loss: 0.1884 - mse: 0.1884\n",
      "Epoch 283/500\n",
      "1/1 - 0s - loss: 0.1884 - mse: 0.1884\n",
      "Epoch 284/500\n",
      "1/1 - 0s - loss: 0.1884 - mse: 0.1884\n",
      "Epoch 285/500\n",
      "1/1 - 0s - loss: 0.1884 - mse: 0.1884\n",
      "Epoch 286/500\n",
      "1/1 - 0s - loss: 0.1883 - mse: 0.1883\n",
      "Epoch 287/500\n",
      "1/1 - 0s - loss: 0.1883 - mse: 0.1883\n",
      "Epoch 288/500\n",
      "1/1 - 0s - loss: 0.1883 - mse: 0.1883\n",
      "Epoch 289/500\n",
      "1/1 - 0s - loss: 0.1882 - mse: 0.1882\n",
      "Epoch 290/500\n",
      "1/1 - 0s - loss: 0.1882 - mse: 0.1882\n",
      "Epoch 291/500\n",
      "1/1 - 0s - loss: 0.1882 - mse: 0.1882\n",
      "Epoch 292/500\n",
      "1/1 - 0s - loss: 0.1882 - mse: 0.1882\n",
      "Epoch 293/500\n",
      "1/1 - 0s - loss: 0.1881 - mse: 0.1881\n",
      "Epoch 294/500\n",
      "1/1 - 0s - loss: 0.1881 - mse: 0.1881\n",
      "Epoch 295/500\n",
      "1/1 - 0s - loss: 0.1881 - mse: 0.1881\n",
      "Epoch 296/500\n",
      "1/1 - 0s - loss: 0.1880 - mse: 0.1880\n",
      "Epoch 297/500\n",
      "1/1 - 0s - loss: 0.1880 - mse: 0.1880\n",
      "Epoch 298/500\n",
      "1/1 - 0s - loss: 0.1880 - mse: 0.1880\n",
      "Epoch 299/500\n",
      "1/1 - 0s - loss: 0.1879 - mse: 0.1879\n",
      "Epoch 300/500\n",
      "1/1 - 0s - loss: 0.1879 - mse: 0.1879\n",
      "Epoch 301/500\n",
      "1/1 - 0s - loss: 0.1879 - mse: 0.1879\n",
      "Epoch 302/500\n",
      "1/1 - 0s - loss: 0.1878 - mse: 0.1878\n",
      "Epoch 303/500\n",
      "1/1 - 0s - loss: 0.1878 - mse: 0.1878\n",
      "Epoch 304/500\n",
      "1/1 - 0s - loss: 0.1878 - mse: 0.1878\n",
      "Epoch 305/500\n",
      "1/1 - 0s - loss: 0.1878 - mse: 0.1878\n",
      "Epoch 306/500\n",
      "1/1 - 0s - loss: 0.1877 - mse: 0.1877\n",
      "Epoch 307/500\n",
      "1/1 - 0s - loss: 0.1877 - mse: 0.1877\n",
      "Epoch 308/500\n",
      "1/1 - 0s - loss: 0.1877 - mse: 0.1877\n",
      "Epoch 309/500\n",
      "1/1 - 0s - loss: 0.1876 - mse: 0.1876\n",
      "Epoch 310/500\n",
      "1/1 - 0s - loss: 0.1876 - mse: 0.1876\n",
      "Epoch 311/500\n",
      "1/1 - 0s - loss: 0.1876 - mse: 0.1876\n",
      "Epoch 312/500\n",
      "1/1 - 0s - loss: 0.1875 - mse: 0.1875\n",
      "Epoch 313/500\n",
      "1/1 - 0s - loss: 0.1875 - mse: 0.1875\n",
      "Epoch 314/500\n",
      "1/1 - 0s - loss: 0.1875 - mse: 0.1875\n",
      "Epoch 315/500\n",
      "1/1 - 0s - loss: 0.1874 - mse: 0.1874\n",
      "Epoch 316/500\n",
      "1/1 - 0s - loss: 0.1874 - mse: 0.1874\n",
      "Epoch 317/500\n",
      "1/1 - 0s - loss: 0.1874 - mse: 0.1874\n",
      "Epoch 318/500\n",
      "1/1 - 0s - loss: 0.1873 - mse: 0.1873\n",
      "Epoch 319/500\n",
      "1/1 - 0s - loss: 0.1873 - mse: 0.1873\n",
      "Epoch 320/500\n",
      "1/1 - 0s - loss: 0.1873 - mse: 0.1873\n",
      "Epoch 321/500\n",
      "1/1 - 0s - loss: 0.1872 - mse: 0.1872\n",
      "Epoch 322/500\n",
      "1/1 - 0s - loss: 0.1872 - mse: 0.1872\n",
      "Epoch 323/500\n",
      "1/1 - 0s - loss: 0.1872 - mse: 0.1872\n",
      "Epoch 324/500\n",
      "1/1 - 0s - loss: 0.1872 - mse: 0.1872\n",
      "Epoch 325/500\n",
      "1/1 - 0s - loss: 0.1871 - mse: 0.1871\n",
      "Epoch 326/500\n",
      "1/1 - 0s - loss: 0.1871 - mse: 0.1871\n",
      "Epoch 327/500\n",
      "1/1 - 0s - loss: 0.1871 - mse: 0.1871\n",
      "Epoch 328/500\n",
      "1/1 - 0s - loss: 0.1870 - mse: 0.1870\n",
      "Epoch 329/500\n",
      "1/1 - 0s - loss: 0.1870 - mse: 0.1870\n",
      "Epoch 330/500\n",
      "1/1 - 0s - loss: 0.1870 - mse: 0.1870\n",
      "Epoch 331/500\n",
      "1/1 - 0s - loss: 0.1869 - mse: 0.1869\n",
      "Epoch 332/500\n",
      "1/1 - 0s - loss: 0.1869 - mse: 0.1869\n",
      "Epoch 333/500\n",
      "1/1 - 0s - loss: 0.1869 - mse: 0.1869\n",
      "Epoch 334/500\n",
      "1/1 - 0s - loss: 0.1868 - mse: 0.1868\n",
      "Epoch 335/500\n",
      "1/1 - 0s - loss: 0.1868 - mse: 0.1868\n",
      "Epoch 336/500\n",
      "1/1 - 0s - loss: 0.1868 - mse: 0.1868\n",
      "Epoch 337/500\n",
      "1/1 - 0s - loss: 0.1867 - mse: 0.1867\n",
      "Epoch 338/500\n",
      "1/1 - 0s - loss: 0.1867 - mse: 0.1867\n",
      "Epoch 339/500\n",
      "1/1 - 0s - loss: 0.1866 - mse: 0.1866\n",
      "Epoch 340/500\n",
      "1/1 - 0s - loss: 0.1866 - mse: 0.1866\n",
      "Epoch 341/500\n",
      "1/1 - 0s - loss: 0.1866 - mse: 0.1866\n",
      "Epoch 342/500\n",
      "1/1 - 0s - loss: 0.1865 - mse: 0.1865\n",
      "Epoch 343/500\n",
      "1/1 - 0s - loss: 0.1865 - mse: 0.1865\n",
      "Epoch 344/500\n",
      "1/1 - 0s - loss: 0.1865 - mse: 0.1865\n",
      "Epoch 345/500\n",
      "1/1 - 0s - loss: 0.1864 - mse: 0.1864\n",
      "Epoch 346/500\n",
      "1/1 - 0s - loss: 0.1864 - mse: 0.1864\n",
      "Epoch 347/500\n",
      "1/1 - 0s - loss: 0.1864 - mse: 0.1864\n",
      "Epoch 348/500\n",
      "1/1 - 0s - loss: 0.1863 - mse: 0.1863\n",
      "Epoch 349/500\n",
      "1/1 - 0s - loss: 0.1863 - mse: 0.1863\n",
      "Epoch 350/500\n",
      "1/1 - 0s - loss: 0.1863 - mse: 0.1863\n",
      "Epoch 351/500\n",
      "1/1 - 0s - loss: 0.1862 - mse: 0.1862\n",
      "Epoch 352/500\n",
      "1/1 - 0s - loss: 0.1862 - mse: 0.1862\n",
      "Epoch 353/500\n",
      "1/1 - 0s - loss: 0.1862 - mse: 0.1862\n",
      "Epoch 354/500\n",
      "1/1 - 0s - loss: 0.1861 - mse: 0.1861\n",
      "Epoch 355/500\n",
      "1/1 - 0s - loss: 0.1861 - mse: 0.1861\n",
      "Epoch 356/500\n",
      "1/1 - 0s - loss: 0.1861 - mse: 0.1861\n",
      "Epoch 357/500\n",
      "1/1 - 0s - loss: 0.1860 - mse: 0.1860\n",
      "Epoch 358/500\n",
      "1/1 - 0s - loss: 0.1860 - mse: 0.1860\n",
      "Epoch 359/500\n",
      "1/1 - 0s - loss: 0.1859 - mse: 0.1859\n",
      "Epoch 360/500\n",
      "1/1 - 0s - loss: 0.1859 - mse: 0.1859\n",
      "Epoch 361/500\n",
      "1/1 - 0s - loss: 0.1859 - mse: 0.1859\n",
      "Epoch 362/500\n",
      "1/1 - 0s - loss: 0.1858 - mse: 0.1858\n",
      "Epoch 363/500\n",
      "1/1 - 0s - loss: 0.1858 - mse: 0.1858\n",
      "Epoch 364/500\n",
      "1/1 - 0s - loss: 0.1858 - mse: 0.1858\n",
      "Epoch 365/500\n",
      "1/1 - 0s - loss: 0.1857 - mse: 0.1857\n",
      "Epoch 366/500\n",
      "1/1 - 0s - loss: 0.1857 - mse: 0.1857\n",
      "Epoch 367/500\n",
      "1/1 - 0s - loss: 0.1857 - mse: 0.1857\n",
      "Epoch 368/500\n",
      "1/1 - 0s - loss: 0.1856 - mse: 0.1856\n",
      "Epoch 369/500\n",
      "1/1 - 0s - loss: 0.1856 - mse: 0.1856\n",
      "Epoch 370/500\n",
      "1/1 - 0s - loss: 0.1855 - mse: 0.1855\n",
      "Epoch 371/500\n",
      "1/1 - 0s - loss: 0.1855 - mse: 0.1855\n",
      "Epoch 372/500\n",
      "1/1 - 0s - loss: 0.1855 - mse: 0.1855\n",
      "Epoch 373/500\n",
      "1/1 - 0s - loss: 0.1854 - mse: 0.1854\n",
      "Epoch 374/500\n",
      "1/1 - 0s - loss: 0.1854 - mse: 0.1854\n",
      "Epoch 375/500\n",
      "1/1 - 0s - loss: 0.1854 - mse: 0.1854\n",
      "Epoch 376/500\n",
      "1/1 - 0s - loss: 0.1853 - mse: 0.1853\n",
      "Epoch 377/500\n",
      "1/1 - 0s - loss: 0.1853 - mse: 0.1853\n",
      "Epoch 378/500\n",
      "1/1 - 0s - loss: 0.1852 - mse: 0.1852\n",
      "Epoch 379/500\n",
      "1/1 - 0s - loss: 0.1852 - mse: 0.1852\n",
      "Epoch 380/500\n",
      "1/1 - 0s - loss: 0.1852 - mse: 0.1852\n",
      "Epoch 381/500\n",
      "1/1 - 0s - loss: 0.1851 - mse: 0.1851\n",
      "Epoch 382/500\n",
      "1/1 - 0s - loss: 0.1851 - mse: 0.1851\n",
      "Epoch 383/500\n",
      "1/1 - 0s - loss: 0.1851 - mse: 0.1851\n",
      "Epoch 384/500\n",
      "1/1 - 0s - loss: 0.1850 - mse: 0.1850\n",
      "Epoch 385/500\n",
      "1/1 - 0s - loss: 0.1850 - mse: 0.1850\n",
      "Epoch 386/500\n",
      "1/1 - 0s - loss: 0.1849 - mse: 0.1849\n",
      "Epoch 387/500\n",
      "1/1 - 0s - loss: 0.1849 - mse: 0.1849\n",
      "Epoch 388/500\n",
      "1/1 - 0s - loss: 0.1849 - mse: 0.1849\n",
      "Epoch 389/500\n",
      "1/1 - 0s - loss: 0.1848 - mse: 0.1848\n",
      "Epoch 390/500\n",
      "1/1 - 0s - loss: 0.1848 - mse: 0.1848\n",
      "Epoch 391/500\n",
      "1/1 - 0s - loss: 0.1847 - mse: 0.1847\n",
      "Epoch 392/500\n",
      "1/1 - 0s - loss: 0.1847 - mse: 0.1847\n",
      "Epoch 393/500\n",
      "1/1 - 0s - loss: 0.1847 - mse: 0.1847\n",
      "Epoch 394/500\n",
      "1/1 - 0s - loss: 0.1846 - mse: 0.1846\n",
      "Epoch 395/500\n",
      "1/1 - 0s - loss: 0.1846 - mse: 0.1846\n",
      "Epoch 396/500\n",
      "1/1 - 0s - loss: 0.1845 - mse: 0.1845\n",
      "Epoch 397/500\n",
      "1/1 - 0s - loss: 0.1845 - mse: 0.1845\n",
      "Epoch 398/500\n",
      "1/1 - 0s - loss: 0.1845 - mse: 0.1845\n",
      "Epoch 399/500\n",
      "1/1 - 0s - loss: 0.1844 - mse: 0.1844\n",
      "Epoch 400/500\n",
      "1/1 - 0s - loss: 0.1844 - mse: 0.1844\n",
      "Epoch 401/500\n",
      "1/1 - 0s - loss: 0.1843 - mse: 0.1843\n",
      "Epoch 402/500\n",
      "1/1 - 0s - loss: 0.1843 - mse: 0.1843\n",
      "Epoch 403/500\n",
      "1/1 - 0s - loss: 0.1843 - mse: 0.1843\n",
      "Epoch 404/500\n",
      "1/1 - 0s - loss: 0.1842 - mse: 0.1842\n",
      "Epoch 405/500\n",
      "1/1 - 0s - loss: 0.1842 - mse: 0.1842\n",
      "Epoch 406/500\n",
      "1/1 - 0s - loss: 0.1841 - mse: 0.1841\n",
      "Epoch 407/500\n",
      "1/1 - 0s - loss: 0.1841 - mse: 0.1841\n",
      "Epoch 408/500\n",
      "1/1 - 0s - loss: 0.1841 - mse: 0.1841\n",
      "Epoch 409/500\n",
      "1/1 - 0s - loss: 0.1840 - mse: 0.1840\n",
      "Epoch 410/500\n",
      "1/1 - 0s - loss: 0.1840 - mse: 0.1840\n",
      "Epoch 411/500\n",
      "1/1 - 0s - loss: 0.1839 - mse: 0.1839\n",
      "Epoch 412/500\n",
      "1/1 - 0s - loss: 0.1839 - mse: 0.1839\n",
      "Epoch 413/500\n",
      "1/1 - 0s - loss: 0.1839 - mse: 0.1839\n",
      "Epoch 414/500\n",
      "1/1 - 0s - loss: 0.1838 - mse: 0.1838\n",
      "Epoch 415/500\n",
      "1/1 - 0s - loss: 0.1838 - mse: 0.1838\n",
      "Epoch 416/500\n",
      "1/1 - 0s - loss: 0.1837 - mse: 0.1837\n",
      "Epoch 417/500\n",
      "1/1 - 0s - loss: 0.1837 - mse: 0.1837\n",
      "Epoch 418/500\n",
      "1/1 - 0s - loss: 0.1836 - mse: 0.1836\n",
      "Epoch 419/500\n",
      "1/1 - 0s - loss: 0.1836 - mse: 0.1836\n",
      "Epoch 420/500\n",
      "1/1 - 0s - loss: 0.1836 - mse: 0.1836\n",
      "Epoch 421/500\n",
      "1/1 - 0s - loss: 0.1835 - mse: 0.1835\n",
      "Epoch 422/500\n",
      "1/1 - 0s - loss: 0.1835 - mse: 0.1835\n",
      "Epoch 423/500\n",
      "1/1 - 0s - loss: 0.1834 - mse: 0.1834\n",
      "Epoch 424/500\n",
      "1/1 - 0s - loss: 0.1834 - mse: 0.1834\n",
      "Epoch 425/500\n",
      "1/1 - 0s - loss: 0.1834 - mse: 0.1834\n",
      "Epoch 426/500\n",
      "1/1 - 0s - loss: 0.1833 - mse: 0.1833\n",
      "Epoch 427/500\n",
      "1/1 - 0s - loss: 0.1833 - mse: 0.1833\n",
      "Epoch 428/500\n",
      "1/1 - 0s - loss: 0.1832 - mse: 0.1832\n",
      "Epoch 429/500\n",
      "1/1 - 0s - loss: 0.1832 - mse: 0.1832\n",
      "Epoch 430/500\n",
      "1/1 - 0s - loss: 0.1831 - mse: 0.1831\n",
      "Epoch 431/500\n",
      "1/1 - 0s - loss: 0.1831 - mse: 0.1831\n",
      "Epoch 432/500\n",
      "1/1 - 0s - loss: 0.1831 - mse: 0.1831\n",
      "Epoch 433/500\n",
      "1/1 - 0s - loss: 0.1830 - mse: 0.1830\n",
      "Epoch 434/500\n",
      "1/1 - 0s - loss: 0.1830 - mse: 0.1830\n",
      "Epoch 435/500\n",
      "1/1 - 0s - loss: 0.1829 - mse: 0.1829\n",
      "Epoch 436/500\n",
      "1/1 - 0s - loss: 0.1829 - mse: 0.1829\n",
      "Epoch 437/500\n",
      "1/1 - 0s - loss: 0.1828 - mse: 0.1828\n",
      "Epoch 438/500\n",
      "1/1 - 0s - loss: 0.1828 - mse: 0.1828\n",
      "Epoch 439/500\n",
      "1/1 - 0s - loss: 0.1827 - mse: 0.1827\n",
      "Epoch 440/500\n",
      "1/1 - 0s - loss: 0.1827 - mse: 0.1827\n",
      "Epoch 441/500\n",
      "1/1 - 0s - loss: 0.1827 - mse: 0.1827\n",
      "Epoch 442/500\n",
      "1/1 - 0s - loss: 0.1826 - mse: 0.1826\n",
      "Epoch 443/500\n",
      "1/1 - 0s - loss: 0.1826 - mse: 0.1826\n",
      "Epoch 444/500\n",
      "1/1 - 0s - loss: 0.1825 - mse: 0.1825\n",
      "Epoch 445/500\n",
      "1/1 - 0s - loss: 0.1825 - mse: 0.1825\n",
      "Epoch 446/500\n",
      "1/1 - 0s - loss: 0.1824 - mse: 0.1824\n",
      "Epoch 447/500\n",
      "1/1 - 0s - loss: 0.1824 - mse: 0.1824\n",
      "Epoch 448/500\n",
      "1/1 - 0s - loss: 0.1824 - mse: 0.1824\n",
      "Epoch 449/500\n",
      "1/1 - 0s - loss: 0.1823 - mse: 0.1823\n",
      "Epoch 450/500\n",
      "1/1 - 0s - loss: 0.1823 - mse: 0.1823\n",
      "Epoch 451/500\n",
      "1/1 - 0s - loss: 0.1822 - mse: 0.1822\n",
      "Epoch 452/500\n",
      "1/1 - 0s - loss: 0.1822 - mse: 0.1822\n",
      "Epoch 453/500\n",
      "1/1 - 0s - loss: 0.1821 - mse: 0.1821\n",
      "Epoch 454/500\n",
      "1/1 - 0s - loss: 0.1821 - mse: 0.1821\n",
      "Epoch 455/500\n",
      "1/1 - 0s - loss: 0.1820 - mse: 0.1820\n",
      "Epoch 456/500\n",
      "1/1 - 0s - loss: 0.1820 - mse: 0.1820\n",
      "Epoch 457/500\n",
      "1/1 - 0s - loss: 0.1819 - mse: 0.1819\n",
      "Epoch 458/500\n",
      "1/1 - 0s - loss: 0.1819 - mse: 0.1819\n",
      "Epoch 459/500\n",
      "1/1 - 0s - loss: 0.1819 - mse: 0.1819\n",
      "Epoch 460/500\n",
      "1/1 - 0s - loss: 0.1818 - mse: 0.1818\n",
      "Epoch 461/500\n",
      "1/1 - 0s - loss: 0.1818 - mse: 0.1818\n",
      "Epoch 462/500\n",
      "1/1 - 0s - loss: 0.1817 - mse: 0.1817\n",
      "Epoch 463/500\n",
      "1/1 - 0s - loss: 0.1817 - mse: 0.1817\n",
      "Epoch 464/500\n",
      "1/1 - 0s - loss: 0.1816 - mse: 0.1816\n",
      "Epoch 465/500\n",
      "1/1 - 0s - loss: 0.1816 - mse: 0.1816\n",
      "Epoch 466/500\n",
      "1/1 - 0s - loss: 0.1815 - mse: 0.1815\n",
      "Epoch 467/500\n",
      "1/1 - 0s - loss: 0.1815 - mse: 0.1815\n",
      "Epoch 468/500\n",
      "1/1 - 0s - loss: 0.1814 - mse: 0.1814\n",
      "Epoch 469/500\n",
      "1/1 - 0s - loss: 0.1814 - mse: 0.1814\n",
      "Epoch 470/500\n",
      "1/1 - 0s - loss: 0.1813 - mse: 0.1813\n",
      "Epoch 471/500\n",
      "1/1 - 0s - loss: 0.1813 - mse: 0.1813\n",
      "Epoch 472/500\n",
      "1/1 - 0s - loss: 0.1812 - mse: 0.1812\n",
      "Epoch 473/500\n",
      "1/1 - 0s - loss: 0.1812 - mse: 0.1812\n",
      "Epoch 474/500\n",
      "1/1 - 0s - loss: 0.1812 - mse: 0.1812\n",
      "Epoch 475/500\n",
      "1/1 - 0s - loss: 0.1811 - mse: 0.1811\n",
      "Epoch 476/500\n",
      "1/1 - 0s - loss: 0.1811 - mse: 0.1811\n",
      "Epoch 477/500\n",
      "1/1 - 0s - loss: 0.1810 - mse: 0.1810\n",
      "Epoch 478/500\n",
      "1/1 - 0s - loss: 0.1810 - mse: 0.1810\n",
      "Epoch 479/500\n",
      "1/1 - 0s - loss: 0.1809 - mse: 0.1809\n",
      "Epoch 480/500\n",
      "1/1 - 0s - loss: 0.1809 - mse: 0.1809\n",
      "Epoch 481/500\n",
      "1/1 - 0s - loss: 0.1808 - mse: 0.1808\n",
      "Epoch 482/500\n",
      "1/1 - 0s - loss: 0.1808 - mse: 0.1808\n",
      "Epoch 483/500\n",
      "1/1 - 0s - loss: 0.1807 - mse: 0.1807\n",
      "Epoch 484/500\n",
      "1/1 - 0s - loss: 0.1807 - mse: 0.1807\n",
      "Epoch 485/500\n",
      "1/1 - 0s - loss: 0.1806 - mse: 0.1806\n",
      "Epoch 486/500\n",
      "1/1 - 0s - loss: 0.1806 - mse: 0.1806\n",
      "Epoch 487/500\n",
      "1/1 - 0s - loss: 0.1805 - mse: 0.1805\n",
      "Epoch 488/500\n",
      "1/1 - 0s - loss: 0.1805 - mse: 0.1805\n",
      "Epoch 489/500\n",
      "1/1 - 0s - loss: 0.1804 - mse: 0.1804\n",
      "Epoch 490/500\n",
      "1/1 - 0s - loss: 0.1804 - mse: 0.1804\n",
      "Epoch 491/500\n",
      "1/1 - 0s - loss: 0.1803 - mse: 0.1803\n",
      "Epoch 492/500\n",
      "1/1 - 0s - loss: 0.1803 - mse: 0.1803\n",
      "Epoch 493/500\n",
      "1/1 - 0s - loss: 0.1802 - mse: 0.1802\n",
      "Epoch 494/500\n",
      "1/1 - 0s - loss: 0.1802 - mse: 0.1802\n",
      "Epoch 495/500\n",
      "1/1 - 0s - loss: 0.1801 - mse: 0.1801\n",
      "Epoch 496/500\n",
      "1/1 - 0s - loss: 0.1801 - mse: 0.1801\n",
      "Epoch 497/500\n",
      "1/1 - 0s - loss: 0.1800 - mse: 0.1800\n",
      "Epoch 498/500\n",
      "1/1 - 0s - loss: 0.1800 - mse: 0.1800\n",
      "Epoch 499/500\n",
      "1/1 - 0s - loss: 0.1799 - mse: 0.1799\n",
      "Epoch 500/500\n",
      "1/1 - 0s - loss: 0.1799 - mse: 0.1799\n"
     ]
    },
    {
     "data": {
      "text/plain": [
       "<tensorflow.python.keras.callbacks.History at 0x7f4ea48717d0>"
      ]
     },
     "execution_count": 51,
     "metadata": {
      "tags": []
     },
     "output_type": "execute_result"
    }
   ],
   "source": [
    "# Set the seed for the random number generator, for reproducibility of the results.\n",
    "np.random.seed(1235)\n",
    "\n",
    "# Build a model with 1 (dense) hidden layer, 4 neurons and\n",
    "# a sigmoid activation function.\n",
    "model = Sequential()\n",
    "model.add(Dense(4, input_dim = input.shape[1], activation = 'sigmoid', kernel_initializer = 'random_uniform'))\n",
    "model.add(Dense(1, activation = 'sigmoid', kernel_initializer = 'random_uniform'))\n",
    "\n",
    "# Specify the optimiser to use.\n",
    "opt = keras.optimizers.SGD(learning_rate=0.2, momentum=0.0)\n",
    "\n",
    "# Compile the model using the mean-squared error loss function.\n",
    "model.compile(\n",
    "    loss = 'mse',\n",
    "    metrics = ['mse'],\n",
    "    optimizer = opt    \n",
    ")\n",
    "\n",
    "# Train the model.\n",
    "model.fit(input, \n",
    "          response, \n",
    "          epochs = 500, \n",
    "          batch_size = input.shape[0],\n",
    "          steps_per_epoch = 1, \n",
    "          verbose = 2)"
   ]
  },
  {
   "cell_type": "code",
   "execution_count": 52,
   "metadata": {
    "id": "vbwe9BkXaOnb"
   },
   "outputs": [],
   "source": [
    "# Obtain the predictions on the training and validation data.\n",
    "keras_train_preds = model.predict(input)\n",
    "keras_validation_preds = model.predict(input_validation)"
   ]
  },
  {
   "cell_type": "markdown",
   "metadata": {
    "id": "wSa-5AbffeJj"
   },
   "source": [
    "#### Evaluate NN 3"
   ]
  },
  {
   "cell_type": "code",
   "execution_count": 53,
   "metadata": {
    "colab": {
     "base_uri": "https://localhost:8080/"
    },
    "id": "20JjbCLdap5M",
    "outputId": "2b55c234-29c7-4d6a-fcf6-8445b89a5d70"
   },
   "outputs": [
    {
     "data": {
      "text/plain": [
       "{'train': 0.8083811267744154, 'validation': 0.8200444026841174}"
      ]
     },
     "execution_count": 53,
     "metadata": {
      "tags": []
     },
     "output_type": "execute_result"
    }
   ],
   "source": [
    "# Calculate the AUC on the training and validation data.\n",
    "{'train':roc_auc_score(response, keras_train_preds), 'validation':roc_auc_score(response_validation, keras_validation_preds)}"
   ]
  },
  {
   "cell_type": "code",
   "execution_count": 54,
   "metadata": {
    "colab": {
     "base_uri": "https://localhost:8080/"
    },
    "id": "uApJAjKBgJbi",
    "outputId": "2e5bc270-a57c-4f5c-dd92-48f35761ba26"
   },
   "outputs": [
    {
     "data": {
      "text/plain": [
       "{'1. NN 3': 0.8200444026841174,\n",
       " '2. NN 2': 0.8250833589715872,\n",
       " '3. NN 1': 0.8414724395699427,\n",
       " '4. GBM final': 0.861474435196195}"
      ]
     },
     "execution_count": 54,
     "metadata": {
      "tags": []
     },
     "output_type": "execute_result"
    }
   ],
   "source": [
    "# Compare the AUCs under all models built to date.\n",
    "{'1. NN 3': roc_auc_score(response_validation, keras_validation_preds),\n",
    " '2. NN 2': roc_auc_score(response_validation, pred_nn2_validation),\n",
    " '3. NN 1': roc_auc_score(response_validation, pred_nn1_validation),\n",
    " '4. GBM final': roc_auc_score(response_validation, validation_gbm_preds_final)}"
   ]
  },
  {
   "cell_type": "markdown",
   "metadata": {
    "id": "YGJx-hsrgWz0"
   },
   "source": [
    "As expected, the AUC for NN 3 (Neural network with 4 hidden neurons using Keras) is very similar to that for NN 2 (neural network with 4 hidden neurons built from first principles). All three neural networks underperform the GBM final model. "
   ]
  },
  {
   "cell_type": "markdown",
   "metadata": {
    "id": "-zL-gGEHa2je"
   },
   "source": [
    "#### Fit a more complex model with Keras\n",
    "\n",
    "Now, the power of Keras will be used to easily extend the simple single hidden layer model into a more complex neural network.\n",
    "\n",
    "There are many features available in Keras. The code below makes the following relatively simple adjustments to NN 3:\n",
    "- add a second hidden (dense) layer;\n",
    "- increase the number of neurons in each hidden layer to eight;\n",
    "- use a ReLU activation function for the hidden layers;\n",
    "- apply regularisation to the weights to avoid the model overfitting to the training data;\n",
    "- use a binary cross-entropy loss (logistic loss for a binary classifier); and\n",
    "- use the more advanced Adam optimizer, in place of standard backpropagation.\n",
    "\n",
    "Details of these options and more can be found on the keras webpage: https://keras.io/"
   ]
  },
  {
   "cell_type": "code",
   "execution_count": 55,
   "metadata": {
    "colab": {
     "base_uri": "https://localhost:8080/"
    },
    "id": "m5AypssyZ8Ov",
    "outputId": "214f4eb7-2375-45ff-8d80-b8e43d708d3f"
   },
   "outputs": [
    {
     "name": "stdout",
     "output_type": "stream",
     "text": [
      "Epoch 1/100\n",
      "5/5 [==============================] - 1s 9ms/step - loss: 0.9189 - binary_crossentropy: 0.7093\n",
      "Epoch 2/100\n",
      "5/5 [==============================] - 0s 2ms/step - loss: 0.8880 - binary_crossentropy: 0.6814\n",
      "Epoch 3/100\n",
      "5/5 [==============================] - 0s 2ms/step - loss: 0.8609 - binary_crossentropy: 0.6574\n",
      "Epoch 4/100\n",
      "5/5 [==============================] - 0s 3ms/step - loss: 0.8373 - binary_crossentropy: 0.6367\n",
      "Epoch 5/100\n",
      "5/5 [==============================] - 0s 2ms/step - loss: 0.8172 - binary_crossentropy: 0.6196\n",
      "Epoch 6/100\n",
      "5/5 [==============================] - 0s 2ms/step - loss: 0.7999 - binary_crossentropy: 0.6053\n",
      "Epoch 7/100\n",
      "5/5 [==============================] - 0s 3ms/step - loss: 0.7848 - binary_crossentropy: 0.5932\n",
      "Epoch 8/100\n",
      "5/5 [==============================] - 0s 2ms/step - loss: 0.7718 - binary_crossentropy: 0.5833\n",
      "Epoch 9/100\n",
      "5/5 [==============================] - 0s 2ms/step - loss: 0.7598 - binary_crossentropy: 0.5742\n",
      "Epoch 10/100\n",
      "5/5 [==============================] - 0s 2ms/step - loss: 0.7485 - binary_crossentropy: 0.5659\n",
      "Epoch 11/100\n",
      "5/5 [==============================] - 0s 3ms/step - loss: 0.7381 - binary_crossentropy: 0.5585\n",
      "Epoch 12/100\n",
      "5/5 [==============================] - 0s 3ms/step - loss: 0.7279 - binary_crossentropy: 0.5514\n",
      "Epoch 13/100\n",
      "5/5 [==============================] - 0s 3ms/step - loss: 0.7184 - binary_crossentropy: 0.5448\n",
      "Epoch 14/100\n",
      "5/5 [==============================] - 0s 3ms/step - loss: 0.7091 - binary_crossentropy: 0.5385\n",
      "Epoch 15/100\n",
      "5/5 [==============================] - 0s 2ms/step - loss: 0.7003 - binary_crossentropy: 0.5326\n",
      "Epoch 16/100\n",
      "5/5 [==============================] - 0s 2ms/step - loss: 0.6917 - binary_crossentropy: 0.5269\n",
      "Epoch 17/100\n",
      "5/5 [==============================] - 0s 3ms/step - loss: 0.6834 - binary_crossentropy: 0.5214\n",
      "Epoch 18/100\n",
      "5/5 [==============================] - 0s 3ms/step - loss: 0.6754 - binary_crossentropy: 0.5162\n",
      "Epoch 19/100\n",
      "5/5 [==============================] - 0s 3ms/step - loss: 0.6677 - binary_crossentropy: 0.5112\n",
      "Epoch 20/100\n",
      "5/5 [==============================] - 0s 2ms/step - loss: 0.6604 - binary_crossentropy: 0.5066\n",
      "Epoch 21/100\n",
      "5/5 [==============================] - 0s 3ms/step - loss: 0.6533 - binary_crossentropy: 0.5022\n",
      "Epoch 22/100\n",
      "5/5 [==============================] - 0s 2ms/step - loss: 0.6465 - binary_crossentropy: 0.4980\n",
      "Epoch 23/100\n",
      "5/5 [==============================] - 0s 4ms/step - loss: 0.6401 - binary_crossentropy: 0.4940\n",
      "Epoch 24/100\n",
      "5/5 [==============================] - 0s 2ms/step - loss: 0.6339 - binary_crossentropy: 0.4903\n",
      "Epoch 25/100\n",
      "5/5 [==============================] - 0s 2ms/step - loss: 0.6279 - binary_crossentropy: 0.4867\n",
      "Epoch 26/100\n",
      "5/5 [==============================] - 0s 2ms/step - loss: 0.6223 - binary_crossentropy: 0.4835\n",
      "Epoch 27/100\n",
      "5/5 [==============================] - 0s 2ms/step - loss: 0.6168 - binary_crossentropy: 0.4803\n",
      "Epoch 28/100\n",
      "5/5 [==============================] - 0s 3ms/step - loss: 0.6115 - binary_crossentropy: 0.4774\n",
      "Epoch 29/100\n",
      "5/5 [==============================] - 0s 3ms/step - loss: 0.6066 - binary_crossentropy: 0.4747\n",
      "Epoch 30/100\n",
      "5/5 [==============================] - 0s 3ms/step - loss: 0.6017 - binary_crossentropy: 0.4721\n",
      "Epoch 31/100\n",
      "5/5 [==============================] - 0s 3ms/step - loss: 0.5971 - binary_crossentropy: 0.4696\n",
      "Epoch 32/100\n",
      "5/5 [==============================] - 0s 2ms/step - loss: 0.5926 - binary_crossentropy: 0.4674\n",
      "Epoch 33/100\n",
      "5/5 [==============================] - 0s 3ms/step - loss: 0.5884 - binary_crossentropy: 0.4652\n",
      "Epoch 34/100\n",
      "5/5 [==============================] - 0s 3ms/step - loss: 0.5843 - binary_crossentropy: 0.4631\n",
      "Epoch 35/100\n",
      "5/5 [==============================] - 0s 3ms/step - loss: 0.5803 - binary_crossentropy: 0.4612\n",
      "Epoch 36/100\n",
      "5/5 [==============================] - 0s 4ms/step - loss: 0.5765 - binary_crossentropy: 0.4594\n",
      "Epoch 37/100\n",
      "5/5 [==============================] - 0s 2ms/step - loss: 0.5728 - binary_crossentropy: 0.4577\n",
      "Epoch 38/100\n",
      "5/5 [==============================] - 0s 3ms/step - loss: 0.5693 - binary_crossentropy: 0.4561\n",
      "Epoch 39/100\n",
      "5/5 [==============================] - 0s 3ms/step - loss: 0.5659 - binary_crossentropy: 0.4547\n",
      "Epoch 40/100\n",
      "5/5 [==============================] - 0s 2ms/step - loss: 0.5626 - binary_crossentropy: 0.4532\n",
      "Epoch 41/100\n",
      "5/5 [==============================] - 0s 3ms/step - loss: 0.5594 - binary_crossentropy: 0.4519\n",
      "Epoch 42/100\n",
      "5/5 [==============================] - 0s 2ms/step - loss: 0.5563 - binary_crossentropy: 0.4506\n",
      "Epoch 43/100\n",
      "5/5 [==============================] - 0s 3ms/step - loss: 0.5533 - binary_crossentropy: 0.4494\n",
      "Epoch 44/100\n",
      "5/5 [==============================] - 0s 3ms/step - loss: 0.5503 - binary_crossentropy: 0.4481\n",
      "Epoch 45/100\n",
      "5/5 [==============================] - 0s 4ms/step - loss: 0.5475 - binary_crossentropy: 0.4470\n",
      "Epoch 46/100\n",
      "5/5 [==============================] - 0s 3ms/step - loss: 0.5447 - binary_crossentropy: 0.4459\n",
      "Epoch 47/100\n",
      "5/5 [==============================] - 0s 3ms/step - loss: 0.5419 - binary_crossentropy: 0.4449\n",
      "Epoch 48/100\n",
      "5/5 [==============================] - 0s 4ms/step - loss: 0.5394 - binary_crossentropy: 0.4439\n",
      "Epoch 49/100\n",
      "5/5 [==============================] - 0s 3ms/step - loss: 0.5369 - binary_crossentropy: 0.4430\n",
      "Epoch 50/100\n",
      "5/5 [==============================] - 0s 3ms/step - loss: 0.5344 - binary_crossentropy: 0.4421\n",
      "Epoch 51/100\n",
      "5/5 [==============================] - 0s 4ms/step - loss: 0.5320 - binary_crossentropy: 0.4412\n",
      "Epoch 52/100\n",
      "5/5 [==============================] - 0s 3ms/step - loss: 0.5297 - binary_crossentropy: 0.4404\n",
      "Epoch 53/100\n",
      "5/5 [==============================] - 0s 3ms/step - loss: 0.5275 - binary_crossentropy: 0.4396\n",
      "Epoch 54/100\n",
      "5/5 [==============================] - 0s 3ms/step - loss: 0.5254 - binary_crossentropy: 0.4389\n",
      "Epoch 55/100\n",
      "5/5 [==============================] - 0s 3ms/step - loss: 0.5233 - binary_crossentropy: 0.4382\n",
      "Epoch 56/100\n",
      "5/5 [==============================] - 0s 3ms/step - loss: 0.5212 - binary_crossentropy: 0.4375\n",
      "Epoch 57/100\n",
      "5/5 [==============================] - 0s 3ms/step - loss: 0.5193 - binary_crossentropy: 0.4369\n",
      "Epoch 58/100\n",
      "5/5 [==============================] - 0s 3ms/step - loss: 0.5174 - binary_crossentropy: 0.4363\n",
      "Epoch 59/100\n",
      "5/5 [==============================] - 0s 3ms/step - loss: 0.5155 - binary_crossentropy: 0.4357\n",
      "Epoch 60/100\n",
      "5/5 [==============================] - 0s 3ms/step - loss: 0.5137 - binary_crossentropy: 0.4351\n",
      "Epoch 61/100\n",
      "5/5 [==============================] - 0s 3ms/step - loss: 0.5120 - binary_crossentropy: 0.4346\n",
      "Epoch 62/100\n",
      "5/5 [==============================] - 0s 3ms/step - loss: 0.5103 - binary_crossentropy: 0.4340\n",
      "Epoch 63/100\n",
      "5/5 [==============================] - 0s 3ms/step - loss: 0.5086 - binary_crossentropy: 0.4335\n",
      "Epoch 64/100\n",
      "5/5 [==============================] - 0s 3ms/step - loss: 0.5071 - binary_crossentropy: 0.4332\n",
      "Epoch 65/100\n",
      "5/5 [==============================] - 0s 4ms/step - loss: 0.5055 - binary_crossentropy: 0.4326\n",
      "Epoch 66/100\n",
      "5/5 [==============================] - 0s 3ms/step - loss: 0.5040 - binary_crossentropy: 0.4321\n",
      "Epoch 67/100\n",
      "5/5 [==============================] - 0s 3ms/step - loss: 0.5025 - binary_crossentropy: 0.4317\n",
      "Epoch 68/100\n",
      "5/5 [==============================] - 0s 3ms/step - loss: 0.5010 - binary_crossentropy: 0.4312\n",
      "Epoch 69/100\n",
      "5/5 [==============================] - 0s 4ms/step - loss: 0.4997 - binary_crossentropy: 0.4309\n",
      "Epoch 70/100\n",
      "5/5 [==============================] - 0s 2ms/step - loss: 0.4983 - binary_crossentropy: 0.4303\n",
      "Epoch 71/100\n",
      "5/5 [==============================] - 0s 2ms/step - loss: 0.4970 - binary_crossentropy: 0.4300\n",
      "Epoch 72/100\n",
      "5/5 [==============================] - 0s 3ms/step - loss: 0.4958 - binary_crossentropy: 0.4297\n",
      "Epoch 73/100\n",
      "5/5 [==============================] - 0s 3ms/step - loss: 0.4946 - binary_crossentropy: 0.4295\n",
      "Epoch 74/100\n",
      "5/5 [==============================] - 0s 3ms/step - loss: 0.4933 - binary_crossentropy: 0.4292\n",
      "Epoch 75/100\n",
      "5/5 [==============================] - 0s 3ms/step - loss: 0.4921 - binary_crossentropy: 0.4289\n",
      "Epoch 76/100\n",
      "5/5 [==============================] - 0s 3ms/step - loss: 0.4910 - binary_crossentropy: 0.4287\n",
      "Epoch 77/100\n",
      "5/5 [==============================] - 0s 3ms/step - loss: 0.4898 - binary_crossentropy: 0.4283\n",
      "Epoch 78/100\n",
      "5/5 [==============================] - 0s 2ms/step - loss: 0.4888 - binary_crossentropy: 0.4281\n",
      "Epoch 79/100\n",
      "5/5 [==============================] - 0s 4ms/step - loss: 0.4881 - binary_crossentropy: 0.4282\n",
      "Epoch 80/100\n",
      "5/5 [==============================] - 0s 2ms/step - loss: 0.4866 - binary_crossentropy: 0.4275\n",
      "Epoch 81/100\n",
      "5/5 [==============================] - 0s 3ms/step - loss: 0.4856 - binary_crossentropy: 0.4272\n",
      "Epoch 82/100\n",
      "5/5 [==============================] - 0s 3ms/step - loss: 0.4845 - binary_crossentropy: 0.4270\n",
      "Epoch 83/100\n",
      "5/5 [==============================] - 0s 3ms/step - loss: 0.4835 - binary_crossentropy: 0.4268\n",
      "Epoch 84/100\n",
      "5/5 [==============================] - 0s 3ms/step - loss: 0.4824 - binary_crossentropy: 0.4265\n",
      "Epoch 85/100\n",
      "5/5 [==============================] - 0s 2ms/step - loss: 0.4814 - binary_crossentropy: 0.4263\n",
      "Epoch 86/100\n",
      "5/5 [==============================] - 0s 3ms/step - loss: 0.4805 - binary_crossentropy: 0.4261\n",
      "Epoch 87/100\n",
      "5/5 [==============================] - 0s 2ms/step - loss: 0.4796 - binary_crossentropy: 0.4259\n",
      "Epoch 88/100\n",
      "5/5 [==============================] - 0s 2ms/step - loss: 0.4787 - binary_crossentropy: 0.4257\n",
      "Epoch 89/100\n",
      "5/5 [==============================] - 0s 2ms/step - loss: 0.4779 - binary_crossentropy: 0.4256\n",
      "Epoch 90/100\n",
      "5/5 [==============================] - 0s 4ms/step - loss: 0.4771 - binary_crossentropy: 0.4255\n",
      "Epoch 91/100\n",
      "5/5 [==============================] - 0s 2ms/step - loss: 0.4762 - binary_crossentropy: 0.4253\n",
      "Epoch 92/100\n",
      "5/5 [==============================] - 0s 2ms/step - loss: 0.4754 - binary_crossentropy: 0.4252\n",
      "Epoch 93/100\n",
      "5/5 [==============================] - 0s 4ms/step - loss: 0.4747 - binary_crossentropy: 0.4251\n",
      "Epoch 94/100\n",
      "5/5 [==============================] - 0s 2ms/step - loss: 0.4740 - binary_crossentropy: 0.4250\n",
      "Epoch 95/100\n",
      "5/5 [==============================] - 0s 3ms/step - loss: 0.4733 - binary_crossentropy: 0.4248\n",
      "Epoch 96/100\n",
      "5/5 [==============================] - 0s 2ms/step - loss: 0.4726 - binary_crossentropy: 0.4247\n",
      "Epoch 97/100\n",
      "5/5 [==============================] - 0s 2ms/step - loss: 0.4719 - binary_crossentropy: 0.4245\n",
      "Epoch 98/100\n",
      "5/5 [==============================] - 0s 2ms/step - loss: 0.4712 - binary_crossentropy: 0.4245\n",
      "Epoch 99/100\n",
      "5/5 [==============================] - 0s 3ms/step - loss: 0.4706 - binary_crossentropy: 0.4245\n",
      "Epoch 100/100\n",
      "5/5 [==============================] - 0s 3ms/step - loss: 0.4700 - binary_crossentropy: 0.4244\n"
     ]
    },
    {
     "data": {
      "text/plain": [
       "<tensorflow.python.keras.callbacks.History at 0x7f4ea47e9610>"
      ]
     },
     "execution_count": 55,
     "metadata": {
      "tags": []
     },
     "output_type": "execute_result"
    }
   ],
   "source": [
    "np.random.seed(1235)\n",
    "\n",
    "# Construct the adjusted neural network model.\n",
    "model2 = Sequential()\n",
    "model2.add(Dense(8, input_dim= input.shape[1], activation='relu', kernel_regularizer='l2'))\n",
    "model2.add(Dense(8, activation='relu', kernel_regularizer='l2'))\n",
    "model2.add(Dense(1, activation='sigmoid'))\n",
    "# Compile the model using the Adam optimiser and the logistic loss function\n",
    "# for a binary classifier (binary_cross_entropy).\n",
    "model2.compile(\n",
    "    loss='binary_crossentropy',\n",
    "    optimizer=tf.keras.optimizers.Adam(learning_rate=0.001),\n",
    "    metrics=['binary_crossentropy'],\n",
    ")\n",
    "model2.fit(input, response, epochs=100, batch_size=1000)\n"
   ]
  },
  {
   "cell_type": "code",
   "execution_count": 56,
   "metadata": {
    "id": "yNGNwUFJbVr2"
   },
   "outputs": [],
   "source": [
    "# Obtain the predictions on the training and validation data.\n",
    "keras2_train_preds = model2.predict(input)\n",
    "keras2_validation_preds = model2.predict(input_validation)"
   ]
  },
  {
   "cell_type": "markdown",
   "metadata": {
    "id": "kfVQn5_GjARo"
   },
   "source": [
    "#### Evaluate NN 4"
   ]
  },
  {
   "cell_type": "code",
   "execution_count": 57,
   "metadata": {
    "colab": {
     "base_uri": "https://localhost:8080/"
    },
    "id": "QrWKfoATsGPN",
    "outputId": "bf4df01b-6353-4ee2-a40c-f152a6ea8e8c"
   },
   "outputs": [
    {
     "data": {
      "text/plain": [
       "{'train': 0.8392144233533125, 'validation': 0.855034382977308}"
      ]
     },
     "execution_count": 57,
     "metadata": {
      "tags": []
     },
     "output_type": "execute_result"
    }
   ],
   "source": [
    "# Calculate the AUC on the training and validation data.\n",
    "{'train':roc_auc_score(response, keras2_train_preds), 'validation':roc_auc_score(response_validation, keras2_validation_preds)}"
   ]
  },
  {
   "cell_type": "code",
   "execution_count": 58,
   "metadata": {
    "colab": {
     "base_uri": "https://localhost:8080/"
    },
    "id": "cItlRSK0sRj5",
    "outputId": "c83ebf1f-15f9-4254-a93c-f64931537a76"
   },
   "outputs": [
    {
     "data": {
      "text/plain": [
       "1.0426683971973514"
      ]
     },
     "execution_count": 58,
     "metadata": {
      "tags": []
     },
     "output_type": "execute_result"
    }
   ],
   "source": [
    "# Calculate the relative improvement in AUC between NN 4 and NN 3\n",
    "# using the validation data.\n",
    "roc_auc_score(response_validation, keras2_validation_preds) / roc_auc_score(response_validation, keras_validation_preds)\n"
   ]
  },
  {
   "cell_type": "markdown",
   "metadata": {
    "id": "wv0yOqNgip_-"
   },
   "source": [
    "The modifications made to the first Keras model (NN 3) to produce NN 4 have resulted in a slight improvement in the AUC."
   ]
  },
  {
   "cell_type": "code",
   "execution_count": 59,
   "metadata": {
    "colab": {
     "base_uri": "https://localhost:8080/"
    },
    "id": "HEe0WaNcetys",
    "outputId": "78afc9d9-a8e3-4954-dc2d-7e0025069f05"
   },
   "outputs": [
    {
     "data": {
      "text/plain": [
       "{'1. NN 4 (Keras2)': 0.855034382977308,\n",
       " '2. NN 3 (Keras1)': 0.8200444026841174,\n",
       " '3. NN 2': 0.8250833589715872,\n",
       " '4. NN 1': 0.8414724395699427,\n",
       " '5. GBM final': 0.861474435196195}"
      ]
     },
     "execution_count": 59,
     "metadata": {
      "tags": []
     },
     "output_type": "execute_result"
    }
   ],
   "source": [
    "# Compare the results of all five models built in this notebook.\n",
    "{'1. NN 4 (Keras2)': roc_auc_score(response_validation, keras2_validation_preds),\n",
    " '2. NN 3 (Keras1)': roc_auc_score(response_validation, keras_validation_preds),\n",
    " '3. NN 2': roc_auc_score(response_validation, pred_nn2_validation),\n",
    " '4. NN 1': roc_auc_score(response_validation, pred_nn1_validation),\n",
    " '5. GBM final': roc_auc_score(response_validation, validation_gbm_preds_final)}"
   ]
  },
  {
   "cell_type": "markdown",
   "metadata": {
    "id": "ATdF5rw5jqXL"
   },
   "source": [
    "## Evaluation and observations\n",
    "\n",
    "The Keras model provides the best performance (based on AUC) of the neural networks, but still underperforms the GBM.\n",
    "\n",
    "As an exercise, play around with some of the features available in Keras and try to build a neural network that outperforms the GBM on the validation data.\n",
    "\n",
    "You should note that the test data (20% of the original dataset) was not used in any of the modelling above. This is because it should be held-out until a final model has been selected. The test data can then be used to estimate the expected error of the final model on unseen data."
   ]
  }
 ],
 "metadata": {
  "colab": {
   "collapsed_sections": [],
   "name": "DAA_M05_CS1.ipynb",
   "provenance": [],
   "toc_visible": true
  },
  "kernelspec": {
   "display_name": "Python 3",
   "language": "python",
   "name": "python3"
  },
  "language_info": {
   "codemirror_mode": {
    "name": "ipython",
    "version": 3
   },
   "file_extension": ".py",
   "mimetype": "text/x-python",
   "name": "python",
   "nbconvert_exporter": "python",
   "pygments_lexer": "ipython3",
   "version": "3.9.1"
  }
 },
 "nbformat": 4,
 "nbformat_minor": 1
}
