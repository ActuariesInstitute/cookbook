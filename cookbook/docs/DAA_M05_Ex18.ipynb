{
 "cells": [
  {
   "cell_type": "markdown",
   "metadata": {
    "id": "CCQnFPoHrj0A"
   },
   "source": [
    "# Py: Neural Net Spam Detection\n",
    "Originally published in DAA M05 Classification and neural networks.\n",
    "## Exercise 5.18 - Spam detection with a neural network\n",
    "\n",
    "### Purpose:\n",
    "This notebook fits a neural network to the spam dataset that is described in Section 5.1.2 of Module 5. This code is used in Exercise 5.18.\n",
    "\n",
    "### References:\n",
    "The spam dataset is sourced from the University of California, Irvine Machine Learning Repository:   Hopkins, M., Reeber, E., Forman, G., and Suermondt, J. (1999). Spambase Data Set [Dataset]. https://archive.ics.uci.edu/ml/datasets/Spambase.\n",
    "\n",
    "This dataset contains the following:\n",
    "- 4,601 observations, each representing an email originally collected from a Hewlett-Packard email server, of which 1,813 (39%) were identified as spam;\n",
    "- 57 continuous features:\n",
    "  - 48 features of type ‘word_freq_WORD’ that represent the percentage (0 to 100) of words in the email that match ‘WORD’;\n",
    "  - 6 features of type ‘char_freq_CHAR’ that represent the percentage (0 to 100) of characters in the email that match ‘CHAR’;\n",
    "  - 1 feature, ‘capital_run_length_average’, that is the average length of uninterrupted sequences of capital letters in the email;\n",
    "  - 1 feature, ‘capital_run_length_longest’, that is the length of the longest uninterrupted sequence of capital letters in the email; and\n",
    "  - 1 feature, ‘capital_run_length_total’, that is the total number of capital letters in the email; and\n",
    "- a binary response variable that takes on a value 0 if the email is not spam and 1 if the email is spam."
   ]
  },
  {
   "cell_type": "markdown",
   "metadata": {
    "id": "ApdQIoJ9iO6t"
   },
   "source": [
    "## Packages\n",
    "This section imports the packages that will be required for this exercise/case study."
   ]
  },
  {
   "cell_type": "code",
   "execution_count": null,
   "metadata": {
    "id": "PtZcfo9S0Iz3"
   },
   "outputs": [],
   "source": [
    "import numpy as np\n",
    "import pandas as pd\n",
    "import matplotlib.pyplot as plt\n",
    "\n",
    "# Used to build the neural network and evaluate it.\n",
    "from sklearn.model_selection import train_test_split\n",
    "from sklearn.preprocessing import StandardScaler\n",
    "from sklearn.preprocessing import OneHotEncoder\n",
    "from tensorflow.keras import Sequential\n",
    "from tensorflow.keras.layers import Dense"
   ]
  },
  {
   "cell_type": "markdown",
   "metadata": {
    "id": "2i3kNl1iiZxx"
   },
   "source": [
    "## Data\n",
    "This section:\n",
    "- imports the data that will be used in the modelling; and\n",
    "- explores the data."
   ]
  },
  {
   "cell_type": "markdown",
   "metadata": {
    "id": "JdK7T28iicnA"
   },
   "source": [
    "### Import data"
   ]
  },
  {
   "cell_type": "code",
   "execution_count": null,
   "metadata": {
    "id": "PtzjVpkd0I0j",
    "scrolled": true
   },
   "outputs": [],
   "source": [
    "# Create a list of headings for the data.\n",
    "namearray = [\n",
    "'word_freq_make',\n",
    "'word_freq_address',\n",
    "'word_freq_all',\n",
    "'word_freq_3d',\n",
    "'word_freq_our',\n",
    "'word_freq_over',\n",
    "'word_freq_remove',\n",
    "'word_freq_internet',\n",
    "'word_freq_order',\n",
    "'word_freq_mail',\n",
    "'word_freq_receive',\n",
    "'word_freq_will',\n",
    "'word_freq_people',\n",
    "'word_freq_report',\n",
    "'word_freq_addresses',\n",
    "'word_freq_free',\n",
    "'word_freq_business',\n",
    "'word_freq_email',\n",
    "'word_freq_you',\n",
    "'word_freq_credit',\n",
    "'word_freq_your',\n",
    "'word_freq_font',\n",
    "'word_freq_000',\n",
    "'word_freq_money',\n",
    "'word_freq_hp',\n",
    "'word_freq_hpl',\n",
    "'word_freq_george',\n",
    "'word_freq_650',\n",
    "'word_freq_lab',\n",
    "'word_freq_labs',\n",
    "'word_freq_telnet',\n",
    "'word_freq_857',\n",
    "'word_freq_data',\n",
    "'word_freq_415',\n",
    "'word_freq_85',\n",
    "'word_freq_technology',\n",
    "'word_freq_1999',\n",
    "'word_freq_parts',\n",
    "'word_freq_pm',\n",
    "'word_freq_direct',\n",
    "'word_freq_cs',\n",
    "'word_freq_meeting',\n",
    "'word_freq_original',\n",
    "'word_freq_project',\n",
    "'word_freq_re',\n",
    "'word_freq_edu',\n",
    "'word_freq_table',\n",
    "'word_freq_conference',\n",
    "'char_freq_;',\n",
    "'char_freq_(',\n",
    "'char_freq_[',\n",
    "'char_freq_!',\n",
    "'char_freq_$',\n",
    "'char_freq_#',\n",
    "'capital_run_length_average',\n",
    "'capital_run_length_longest',\n",
    "'capital_run_length_total',\n",
    "'Spam_fl' ]\n",
    "\n",
    "# Read in the data from the Stanford website.\n",
    "spam = pd.read_csv(\"http://www.web.stanford.edu/~hastie/ElemStatLearn/datasets/spam.data\", delim_whitespace=True, \n",
    "                   header=None,\n",
    "                   names=namearray\n",
    "                 )"
   ]
  },
  {
   "cell_type": "markdown",
   "metadata": {
    "id": "09rPRrT1ijJH"
   },
   "source": [
    "### Explore data (EDA)"
   ]
  },
  {
   "cell_type": "code",
   "execution_count": null,
   "metadata": {
    "colab": {
     "base_uri": "https://localhost:8080/"
    },
    "id": "LfdpSgVAioVE",
    "outputId": "6d0cf748-32da-4d60-a847-bb34819b03d2"
   },
   "outputs": [
    {
     "name": "stdout",
     "output_type": "stream",
     "text": [
      "<class 'pandas.core.frame.DataFrame'>\n",
      "RangeIndex: 4601 entries, 0 to 4600\n",
      "Data columns (total 58 columns):\n",
      " #   Column                      Non-Null Count  Dtype  \n",
      "---  ------                      --------------  -----  \n",
      " 0   word_freq_make              4601 non-null   float64\n",
      " 1   word_freq_address           4601 non-null   float64\n",
      " 2   word_freq_all               4601 non-null   float64\n",
      " 3   word_freq_3d                4601 non-null   float64\n",
      " 4   word_freq_our               4601 non-null   float64\n",
      " 5   word_freq_over              4601 non-null   float64\n",
      " 6   word_freq_remove            4601 non-null   float64\n",
      " 7   word_freq_internet          4601 non-null   float64\n",
      " 8   word_freq_order             4601 non-null   float64\n",
      " 9   word_freq_mail              4601 non-null   float64\n",
      " 10  word_freq_receive           4601 non-null   float64\n",
      " 11  word_freq_will              4601 non-null   float64\n",
      " 12  word_freq_people            4601 non-null   float64\n",
      " 13  word_freq_report            4601 non-null   float64\n",
      " 14  word_freq_addresses         4601 non-null   float64\n",
      " 15  word_freq_free              4601 non-null   float64\n",
      " 16  word_freq_business          4601 non-null   float64\n",
      " 17  word_freq_email             4601 non-null   float64\n",
      " 18  word_freq_you               4601 non-null   float64\n",
      " 19  word_freq_credit            4601 non-null   float64\n",
      " 20  word_freq_your              4601 non-null   float64\n",
      " 21  word_freq_font              4601 non-null   float64\n",
      " 22  word_freq_000               4601 non-null   float64\n",
      " 23  word_freq_money             4601 non-null   float64\n",
      " 24  word_freq_hp                4601 non-null   float64\n",
      " 25  word_freq_hpl               4601 non-null   float64\n",
      " 26  word_freq_george            4601 non-null   float64\n",
      " 27  word_freq_650               4601 non-null   float64\n",
      " 28  word_freq_lab               4601 non-null   float64\n",
      " 29  word_freq_labs              4601 non-null   float64\n",
      " 30  word_freq_telnet            4601 non-null   float64\n",
      " 31  word_freq_857               4601 non-null   float64\n",
      " 32  word_freq_data              4601 non-null   float64\n",
      " 33  word_freq_415               4601 non-null   float64\n",
      " 34  word_freq_85                4601 non-null   float64\n",
      " 35  word_freq_technology        4601 non-null   float64\n",
      " 36  word_freq_1999              4601 non-null   float64\n",
      " 37  word_freq_parts             4601 non-null   float64\n",
      " 38  word_freq_pm                4601 non-null   float64\n",
      " 39  word_freq_direct            4601 non-null   float64\n",
      " 40  word_freq_cs                4601 non-null   float64\n",
      " 41  word_freq_meeting           4601 non-null   float64\n",
      " 42  word_freq_original          4601 non-null   float64\n",
      " 43  word_freq_project           4601 non-null   float64\n",
      " 44  word_freq_re                4601 non-null   float64\n",
      " 45  word_freq_edu               4601 non-null   float64\n",
      " 46  word_freq_table             4601 non-null   float64\n",
      " 47  word_freq_conference        4601 non-null   float64\n",
      " 48  char_freq_;                 4601 non-null   float64\n",
      " 49  char_freq_(                 4601 non-null   float64\n",
      " 50  char_freq_[                 4601 non-null   float64\n",
      " 51  char_freq_!                 4601 non-null   float64\n",
      " 52  char_freq_$                 4601 non-null   float64\n",
      " 53  char_freq_#                 4601 non-null   float64\n",
      " 54  capital_run_length_average  4601 non-null   float64\n",
      " 55  capital_run_length_longest  4601 non-null   int64  \n",
      " 56  capital_run_length_total    4601 non-null   int64  \n",
      " 57  Spam_fl                     4601 non-null   int64  \n",
      "dtypes: float64(55), int64(3)\n",
      "memory usage: 2.0 MB\n",
      "None\n",
      "   word_freq_make  word_freq_address  ...  capital_run_length_total  Spam_fl\n",
      "0            0.00               0.64  ...                       278        1\n",
      "1            0.21               0.28  ...                      1028        1\n",
      "2            0.06               0.00  ...                      2259        1\n",
      "3            0.00               0.00  ...                       191        1\n",
      "4            0.00               0.00  ...                       191        1\n",
      "5            0.00               0.00  ...                        54        1\n",
      "6            0.00               0.00  ...                       112        1\n",
      "7            0.00               0.00  ...                        49        1\n",
      "8            0.15               0.00  ...                      1257        1\n",
      "9            0.06               0.12  ...                       749        1\n",
      "\n",
      "[10 rows x 58 columns]\n"
     ]
    }
   ],
   "source": [
    "# Check the dimensions of the data.\n",
    "print(spam.info())\n",
    "\n",
    "# Print the first 10 observations from the data.\n",
    "print(spam.head(10))\n"
   ]
  },
  {
   "cell_type": "markdown",
   "metadata": {
    "id": "LZZqIwRsi5Xc"
   },
   "source": [
    "## Modelling\n",
    "This section:\n",
    "- fits a model; and\n",
    "- evaluates the fitted model."
   ]
  },
  {
   "cell_type": "markdown",
   "metadata": {
    "id": "for0Y3hai6NC"
   },
   "source": [
    "### Fit model"
   ]
  },
  {
   "cell_type": "code",
   "execution_count": null,
   "metadata": {
    "colab": {
     "base_uri": "https://localhost:8080/"
    },
    "id": "hQQxkgjE0I2Q",
    "outputId": "c6951cbe-5e5f-4df9-c311-df119ae12cdc"
   },
   "outputs": [
    {
     "name": "stdout",
     "output_type": "stream",
     "text": [
      "Epoch 1/100\n",
      "54/54 [==============================] - 1s 7ms/step - loss: 0.6300 - accuracy: 0.7084 - val_loss: 0.5662 - val_accuracy: 0.7498\n",
      "Epoch 2/100\n",
      "54/54 [==============================] - 0s 2ms/step - loss: 0.4901 - accuracy: 0.8203 - val_loss: 0.4174 - val_accuracy: 0.8497\n",
      "Epoch 3/100\n",
      "54/54 [==============================] - 0s 2ms/step - loss: 0.3554 - accuracy: 0.8838 - val_loss: 0.2950 - val_accuracy: 0.9001\n",
      "Epoch 4/100\n",
      "54/54 [==============================] - 0s 2ms/step - loss: 0.2765 - accuracy: 0.9067 - val_loss: 0.2381 - val_accuracy: 0.9209\n",
      "Epoch 5/100\n",
      "54/54 [==============================] - 0s 2ms/step - loss: 0.2392 - accuracy: 0.9151 - val_loss: 0.2084 - val_accuracy: 0.9314\n",
      "Epoch 6/100\n",
      "54/54 [==============================] - 0s 2ms/step - loss: 0.2187 - accuracy: 0.9223 - val_loss: 0.1920 - val_accuracy: 0.9305\n",
      "Epoch 7/100\n",
      "54/54 [==============================] - 0s 2ms/step - loss: 0.2042 - accuracy: 0.9275 - val_loss: 0.1829 - val_accuracy: 0.9366\n",
      "Epoch 8/100\n",
      "54/54 [==============================] - 0s 2ms/step - loss: 0.1938 - accuracy: 0.9299 - val_loss: 0.1750 - val_accuracy: 0.9392\n",
      "Epoch 9/100\n",
      "54/54 [==============================] - 0s 2ms/step - loss: 0.1857 - accuracy: 0.9313 - val_loss: 0.1717 - val_accuracy: 0.9409\n",
      "Epoch 10/100\n",
      "54/54 [==============================] - 0s 2ms/step - loss: 0.1786 - accuracy: 0.9351 - val_loss: 0.1665 - val_accuracy: 0.9409\n",
      "Epoch 11/100\n",
      "54/54 [==============================] - 0s 2ms/step - loss: 0.1732 - accuracy: 0.9357 - val_loss: 0.1632 - val_accuracy: 0.9366\n",
      "Epoch 12/100\n",
      "54/54 [==============================] - 0s 2ms/step - loss: 0.1684 - accuracy: 0.9380 - val_loss: 0.1604 - val_accuracy: 0.9366\n",
      "Epoch 13/100\n",
      "54/54 [==============================] - 0s 2ms/step - loss: 0.1649 - accuracy: 0.9388 - val_loss: 0.1571 - val_accuracy: 0.9409\n",
      "Epoch 14/100\n",
      "54/54 [==============================] - 0s 2ms/step - loss: 0.1611 - accuracy: 0.9420 - val_loss: 0.1567 - val_accuracy: 0.9401\n",
      "Epoch 15/100\n",
      "54/54 [==============================] - 0s 2ms/step - loss: 0.1577 - accuracy: 0.9417 - val_loss: 0.1538 - val_accuracy: 0.9401\n",
      "Epoch 16/100\n",
      "54/54 [==============================] - 0s 2ms/step - loss: 0.1551 - accuracy: 0.9441 - val_loss: 0.1532 - val_accuracy: 0.9435\n",
      "Epoch 17/100\n",
      "54/54 [==============================] - 0s 2ms/step - loss: 0.1522 - accuracy: 0.9470 - val_loss: 0.1511 - val_accuracy: 0.9427\n",
      "Epoch 18/100\n",
      "54/54 [==============================] - 0s 2ms/step - loss: 0.1492 - accuracy: 0.9464 - val_loss: 0.1499 - val_accuracy: 0.9444\n",
      "Epoch 19/100\n",
      "54/54 [==============================] - 0s 2ms/step - loss: 0.1470 - accuracy: 0.9478 - val_loss: 0.1487 - val_accuracy: 0.9444\n",
      "Epoch 20/100\n",
      "54/54 [==============================] - 0s 2ms/step - loss: 0.1448 - accuracy: 0.9478 - val_loss: 0.1474 - val_accuracy: 0.9461\n",
      "Epoch 21/100\n",
      "54/54 [==============================] - 0s 2ms/step - loss: 0.1424 - accuracy: 0.9499 - val_loss: 0.1482 - val_accuracy: 0.9453\n",
      "Epoch 22/100\n",
      "54/54 [==============================] - 0s 2ms/step - loss: 0.1411 - accuracy: 0.9496 - val_loss: 0.1476 - val_accuracy: 0.9453\n",
      "Epoch 23/100\n",
      "54/54 [==============================] - 0s 2ms/step - loss: 0.1381 - accuracy: 0.9519 - val_loss: 0.1465 - val_accuracy: 0.9470\n",
      "Epoch 24/100\n",
      "54/54 [==============================] - 0s 2ms/step - loss: 0.1354 - accuracy: 0.9530 - val_loss: 0.1454 - val_accuracy: 0.9479\n",
      "Epoch 25/100\n",
      "54/54 [==============================] - 0s 2ms/step - loss: 0.1338 - accuracy: 0.9545 - val_loss: 0.1443 - val_accuracy: 0.9487\n",
      "Epoch 26/100\n",
      "54/54 [==============================] - 0s 3ms/step - loss: 0.1322 - accuracy: 0.9548 - val_loss: 0.1443 - val_accuracy: 0.9513\n",
      "Epoch 27/100\n",
      "54/54 [==============================] - 0s 2ms/step - loss: 0.1301 - accuracy: 0.9542 - val_loss: 0.1442 - val_accuracy: 0.9505\n",
      "Epoch 28/100\n",
      "54/54 [==============================] - 0s 2ms/step - loss: 0.1287 - accuracy: 0.9554 - val_loss: 0.1432 - val_accuracy: 0.9505\n",
      "Epoch 29/100\n",
      "54/54 [==============================] - 0s 2ms/step - loss: 0.1267 - accuracy: 0.9565 - val_loss: 0.1431 - val_accuracy: 0.9487\n",
      "Epoch 30/100\n",
      "54/54 [==============================] - 0s 2ms/step - loss: 0.1247 - accuracy: 0.9603 - val_loss: 0.1457 - val_accuracy: 0.9444\n",
      "Epoch 31/100\n",
      "54/54 [==============================] - 0s 2ms/step - loss: 0.1234 - accuracy: 0.9583 - val_loss: 0.1425 - val_accuracy: 0.9505\n",
      "Epoch 32/100\n",
      "54/54 [==============================] - 0s 2ms/step - loss: 0.1221 - accuracy: 0.9583 - val_loss: 0.1421 - val_accuracy: 0.9479\n",
      "Epoch 33/100\n",
      "54/54 [==============================] - 0s 2ms/step - loss: 0.1200 - accuracy: 0.9612 - val_loss: 0.1440 - val_accuracy: 0.9470\n",
      "Epoch 34/100\n",
      "54/54 [==============================] - 0s 2ms/step - loss: 0.1226 - accuracy: 0.9586 - val_loss: 0.1443 - val_accuracy: 0.9453\n",
      "Epoch 35/100\n",
      "54/54 [==============================] - 0s 2ms/step - loss: 0.1182 - accuracy: 0.9606 - val_loss: 0.1463 - val_accuracy: 0.9461\n",
      "Epoch 36/100\n",
      "54/54 [==============================] - 0s 2ms/step - loss: 0.1168 - accuracy: 0.9612 - val_loss: 0.1425 - val_accuracy: 0.9487\n",
      "Epoch 37/100\n",
      "54/54 [==============================] - 0s 2ms/step - loss: 0.1160 - accuracy: 0.9612 - val_loss: 0.1419 - val_accuracy: 0.9496\n",
      "Epoch 38/100\n",
      "54/54 [==============================] - 0s 2ms/step - loss: 0.1138 - accuracy: 0.9638 - val_loss: 0.1442 - val_accuracy: 0.9453\n",
      "Epoch 39/100\n",
      "54/54 [==============================] - 0s 2ms/step - loss: 0.1143 - accuracy: 0.9626 - val_loss: 0.1440 - val_accuracy: 0.9487\n",
      "Epoch 40/100\n",
      "54/54 [==============================] - 0s 2ms/step - loss: 0.1120 - accuracy: 0.9614 - val_loss: 0.1444 - val_accuracy: 0.9487\n",
      "Epoch 41/100\n",
      "54/54 [==============================] - 0s 2ms/step - loss: 0.1105 - accuracy: 0.9638 - val_loss: 0.1437 - val_accuracy: 0.9470\n",
      "Epoch 42/100\n",
      "54/54 [==============================] - 0s 2ms/step - loss: 0.1105 - accuracy: 0.9649 - val_loss: 0.1430 - val_accuracy: 0.9522\n",
      "Epoch 43/100\n",
      "54/54 [==============================] - 0s 2ms/step - loss: 0.1100 - accuracy: 0.9638 - val_loss: 0.1454 - val_accuracy: 0.9444\n",
      "Epoch 44/100\n",
      "54/54 [==============================] - 0s 3ms/step - loss: 0.1082 - accuracy: 0.9649 - val_loss: 0.1443 - val_accuracy: 0.9513\n",
      "Epoch 45/100\n",
      "54/54 [==============================] - 0s 2ms/step - loss: 0.1072 - accuracy: 0.9649 - val_loss: 0.1455 - val_accuracy: 0.9522\n",
      "Epoch 46/100\n",
      "54/54 [==============================] - 0s 2ms/step - loss: 0.1054 - accuracy: 0.9661 - val_loss: 0.1444 - val_accuracy: 0.9505\n",
      "Epoch 47/100\n",
      "54/54 [==============================] - 0s 2ms/step - loss: 0.1042 - accuracy: 0.9646 - val_loss: 0.1445 - val_accuracy: 0.9505\n",
      "Epoch 48/100\n",
      "54/54 [==============================] - 0s 2ms/step - loss: 0.1044 - accuracy: 0.9667 - val_loss: 0.1442 - val_accuracy: 0.9513\n",
      "Epoch 49/100\n",
      "54/54 [==============================] - 0s 2ms/step - loss: 0.1028 - accuracy: 0.9658 - val_loss: 0.1444 - val_accuracy: 0.9505\n",
      "Epoch 50/100\n",
      "54/54 [==============================] - 0s 2ms/step - loss: 0.1015 - accuracy: 0.9690 - val_loss: 0.1436 - val_accuracy: 0.9531\n",
      "Epoch 51/100\n",
      "54/54 [==============================] - 0s 2ms/step - loss: 0.1014 - accuracy: 0.9678 - val_loss: 0.1438 - val_accuracy: 0.9505\n",
      "Epoch 52/100\n",
      "54/54 [==============================] - 0s 2ms/step - loss: 0.1008 - accuracy: 0.9687 - val_loss: 0.1469 - val_accuracy: 0.9470\n",
      "Epoch 53/100\n",
      "54/54 [==============================] - 0s 2ms/step - loss: 0.1008 - accuracy: 0.9655 - val_loss: 0.1439 - val_accuracy: 0.9496\n",
      "Epoch 54/100\n",
      "54/54 [==============================] - 0s 2ms/step - loss: 0.0984 - accuracy: 0.9696 - val_loss: 0.1450 - val_accuracy: 0.9505\n",
      "Epoch 55/100\n",
      "54/54 [==============================] - 0s 2ms/step - loss: 0.0982 - accuracy: 0.9672 - val_loss: 0.1441 - val_accuracy: 0.9487\n",
      "Epoch 56/100\n",
      "54/54 [==============================] - 0s 2ms/step - loss: 0.0971 - accuracy: 0.9699 - val_loss: 0.1436 - val_accuracy: 0.9522\n",
      "Epoch 57/100\n",
      "54/54 [==============================] - 0s 2ms/step - loss: 0.0970 - accuracy: 0.9684 - val_loss: 0.1453 - val_accuracy: 0.9505\n",
      "Epoch 58/100\n",
      "54/54 [==============================] - 0s 2ms/step - loss: 0.0951 - accuracy: 0.9699 - val_loss: 0.1453 - val_accuracy: 0.9505\n",
      "Epoch 59/100\n",
      "54/54 [==============================] - 0s 2ms/step - loss: 0.0944 - accuracy: 0.9707 - val_loss: 0.1497 - val_accuracy: 0.9461\n",
      "Epoch 60/100\n",
      "54/54 [==============================] - 0s 2ms/step - loss: 0.0953 - accuracy: 0.9699 - val_loss: 0.1455 - val_accuracy: 0.9496\n",
      "Epoch 61/100\n",
      "54/54 [==============================] - 0s 3ms/step - loss: 0.0933 - accuracy: 0.9710 - val_loss: 0.1479 - val_accuracy: 0.9487\n",
      "Epoch 62/100\n",
      "54/54 [==============================] - 0s 2ms/step - loss: 0.0920 - accuracy: 0.9699 - val_loss: 0.1486 - val_accuracy: 0.9479\n",
      "Epoch 63/100\n",
      "54/54 [==============================] - 0s 2ms/step - loss: 0.0913 - accuracy: 0.9701 - val_loss: 0.1479 - val_accuracy: 0.9479\n",
      "Epoch 64/100\n",
      "54/54 [==============================] - 0s 2ms/step - loss: 0.0919 - accuracy: 0.9699 - val_loss: 0.1477 - val_accuracy: 0.9496\n",
      "Epoch 65/100\n",
      "54/54 [==============================] - 0s 2ms/step - loss: 0.0904 - accuracy: 0.9710 - val_loss: 0.1486 - val_accuracy: 0.9531\n",
      "Epoch 66/100\n",
      "54/54 [==============================] - 0s 2ms/step - loss: 0.0898 - accuracy: 0.9696 - val_loss: 0.1491 - val_accuracy: 0.9505\n",
      "Epoch 67/100\n",
      "54/54 [==============================] - 0s 2ms/step - loss: 0.0891 - accuracy: 0.9707 - val_loss: 0.1475 - val_accuracy: 0.9522\n",
      "Epoch 68/100\n",
      "54/54 [==============================] - 0s 2ms/step - loss: 0.0886 - accuracy: 0.9707 - val_loss: 0.1504 - val_accuracy: 0.9505\n",
      "Epoch 69/100\n",
      "54/54 [==============================] - 0s 2ms/step - loss: 0.0878 - accuracy: 0.9704 - val_loss: 0.1522 - val_accuracy: 0.9496\n",
      "Epoch 70/100\n",
      "54/54 [==============================] - 0s 2ms/step - loss: 0.0868 - accuracy: 0.9719 - val_loss: 0.1561 - val_accuracy: 0.9487\n",
      "Epoch 71/100\n",
      "54/54 [==============================] - 0s 2ms/step - loss: 0.0860 - accuracy: 0.9728 - val_loss: 0.1567 - val_accuracy: 0.9496\n",
      "Epoch 72/100\n",
      "54/54 [==============================] - 0s 2ms/step - loss: 0.0852 - accuracy: 0.9728 - val_loss: 0.1558 - val_accuracy: 0.9505\n",
      "Epoch 73/100\n",
      "54/54 [==============================] - 0s 2ms/step - loss: 0.0854 - accuracy: 0.9719 - val_loss: 0.1555 - val_accuracy: 0.9487\n",
      "Epoch 74/100\n",
      "54/54 [==============================] - 0s 2ms/step - loss: 0.0840 - accuracy: 0.9739 - val_loss: 0.1607 - val_accuracy: 0.9496\n",
      "Epoch 75/100\n",
      "54/54 [==============================] - 0s 2ms/step - loss: 0.0833 - accuracy: 0.9745 - val_loss: 0.1583 - val_accuracy: 0.9470\n",
      "Epoch 76/100\n",
      "54/54 [==============================] - 0s 2ms/step - loss: 0.0832 - accuracy: 0.9742 - val_loss: 0.1653 - val_accuracy: 0.9496\n",
      "Epoch 77/100\n",
      "54/54 [==============================] - 0s 2ms/step - loss: 0.0820 - accuracy: 0.9728 - val_loss: 0.1624 - val_accuracy: 0.9522\n",
      "Epoch 78/100\n",
      "54/54 [==============================] - 0s 2ms/step - loss: 0.0810 - accuracy: 0.9736 - val_loss: 0.1620 - val_accuracy: 0.9540\n",
      "Epoch 79/100\n",
      "54/54 [==============================] - 0s 2ms/step - loss: 0.0810 - accuracy: 0.9742 - val_loss: 0.1638 - val_accuracy: 0.9453\n",
      "Epoch 80/100\n",
      "54/54 [==============================] - 0s 2ms/step - loss: 0.0811 - accuracy: 0.9728 - val_loss: 0.1678 - val_accuracy: 0.9479\n",
      "Epoch 81/100\n",
      "54/54 [==============================] - 0s 2ms/step - loss: 0.0796 - accuracy: 0.9739 - val_loss: 0.1675 - val_accuracy: 0.9479\n",
      "Epoch 82/100\n",
      "54/54 [==============================] - 0s 2ms/step - loss: 0.0807 - accuracy: 0.9733 - val_loss: 0.1674 - val_accuracy: 0.9522\n",
      "Epoch 83/100\n",
      "54/54 [==============================] - 0s 2ms/step - loss: 0.0780 - accuracy: 0.9754 - val_loss: 0.1688 - val_accuracy: 0.9470\n",
      "Epoch 84/100\n",
      "54/54 [==============================] - 0s 2ms/step - loss: 0.0786 - accuracy: 0.9757 - val_loss: 0.1721 - val_accuracy: 0.9427\n",
      "Epoch 85/100\n",
      "54/54 [==============================] - 0s 2ms/step - loss: 0.0771 - accuracy: 0.9762 - val_loss: 0.1711 - val_accuracy: 0.9531\n",
      "Epoch 86/100\n",
      "54/54 [==============================] - 0s 2ms/step - loss: 0.0767 - accuracy: 0.9754 - val_loss: 0.1754 - val_accuracy: 0.9522\n",
      "Epoch 87/100\n",
      "54/54 [==============================] - 0s 2ms/step - loss: 0.0772 - accuracy: 0.9774 - val_loss: 0.1774 - val_accuracy: 0.9505\n",
      "Epoch 88/100\n",
      "54/54 [==============================] - 0s 2ms/step - loss: 0.0762 - accuracy: 0.9780 - val_loss: 0.1785 - val_accuracy: 0.9522\n",
      "Epoch 89/100\n",
      "54/54 [==============================] - 0s 2ms/step - loss: 0.0752 - accuracy: 0.9748 - val_loss: 0.1837 - val_accuracy: 0.9513\n",
      "Epoch 90/100\n",
      "54/54 [==============================] - 0s 2ms/step - loss: 0.0747 - accuracy: 0.9765 - val_loss: 0.1803 - val_accuracy: 0.9513\n",
      "Epoch 91/100\n",
      "54/54 [==============================] - 0s 2ms/step - loss: 0.0742 - accuracy: 0.9768 - val_loss: 0.1822 - val_accuracy: 0.9461\n",
      "Epoch 92/100\n",
      "54/54 [==============================] - 0s 2ms/step - loss: 0.0734 - accuracy: 0.9768 - val_loss: 0.1812 - val_accuracy: 0.9522\n",
      "Epoch 93/100\n",
      "54/54 [==============================] - 0s 2ms/step - loss: 0.0721 - accuracy: 0.9780 - val_loss: 0.1842 - val_accuracy: 0.9513\n",
      "Epoch 94/100\n",
      "54/54 [==============================] - 0s 2ms/step - loss: 0.0724 - accuracy: 0.9774 - val_loss: 0.1858 - val_accuracy: 0.9522\n",
      "Epoch 95/100\n",
      "54/54 [==============================] - 0s 3ms/step - loss: 0.0723 - accuracy: 0.9771 - val_loss: 0.1918 - val_accuracy: 0.9470\n",
      "Epoch 96/100\n",
      "54/54 [==============================] - 0s 2ms/step - loss: 0.0717 - accuracy: 0.9777 - val_loss: 0.1882 - val_accuracy: 0.9496\n",
      "Epoch 97/100\n",
      "54/54 [==============================] - 0s 2ms/step - loss: 0.0718 - accuracy: 0.9768 - val_loss: 0.1911 - val_accuracy: 0.9531\n",
      "Epoch 98/100\n",
      "54/54 [==============================] - 0s 2ms/step - loss: 0.0712 - accuracy: 0.9759 - val_loss: 0.1878 - val_accuracy: 0.9505\n",
      "Epoch 99/100\n",
      "54/54 [==============================] - 0s 2ms/step - loss: 0.0697 - accuracy: 0.9788 - val_loss: 0.1994 - val_accuracy: 0.9470\n",
      "Epoch 100/100\n",
      "54/54 [==============================] - 0s 2ms/step - loss: 0.0690 - accuracy: 0.9780 - val_loss: 0.1998 - val_accuracy: 0.9487\n"
     ]
    }
   ],
   "source": [
    "# Build a neural network to classify an email as spam or non-spam.\n",
    "\n",
    "# Change the pandas dataframe to numpy arrays containing the features (X) and response(Y).\n",
    "X = spam.iloc[:,:-1].values # Drops the last column of the dataframe that contains the spam indicator (response).\n",
    "Y = spam.iloc[:,57:58].values\n",
    "\n",
    "# Standardise the data so that each feature has mean 0 and standard deviation 1.\n",
    "sc = StandardScaler()\n",
    "X = sc.fit_transform(X)\n",
    "\n",
    "# Encode the response variable ('not spam' or 'spam') as 2 outcomes.\n",
    "ohe = OneHotEncoder()\n",
    "Y = ohe.fit_transform(Y).toarray()\n",
    "\n",
    "# Split the data into train and test sets \n",
    "X_train,X_test,Y_train,Y_test = train_test_split(X,Y,test_size = 0.25, random_state=42)\n",
    "                                # This separates the data into training (75%) and test (25%) datasets.\n",
    "\n",
    "# Build a neural network with two hidden layers, containing 28 hidden neurons\n",
    "# (16 neurons in the first hidden layer and 12 neurons in the second hidden layer).\n",
    "model = Sequential()\n",
    "# Create a hidden layer with 16 neurons, an input dimension of 57,\n",
    "# representing the features of the dataset and a ReLU activation function.\n",
    "model.add(Dense(16, input_dim=57, activation=\"relu\"))\n",
    "# Create a second hidden layer with 12 neurons and a ReLU activation function.\n",
    "model.add(Dense(12, activation=\"relu\"))\n",
    "# Create the output layer with 2 neurons representing 'spam' and 'not spam'.\n",
    "model.add(Dense(2, activation=\"softmax\"))\n",
    "\n",
    "# Compile the model using the binary cross entropy loss function (logistic loss),\n",
    "# the Adam optimiser (adaptive momentum estimation) which is an enhanced version\n",
    "# of stochastic gradient descent (SGD), and capture the accuracy of model predictions.\n",
    "model.compile(loss='binary_crossentropy', optimizer='adam', metrics=['accuracy'])                                         \n",
    "\n",
    "# Fit the model.\n",
    "history = model.fit(X_train, Y_train,validation_data = (X_test,Y_test), epochs=100, batch_size=64)"
   ]
  },
  {
   "cell_type": "markdown",
   "metadata": {
    "id": "IN1fFIdqk3AG"
   },
   "source": [
    "### Evaluate model"
   ]
  },
  {
   "cell_type": "code",
   "execution_count": null,
   "metadata": {
    "colab": {
     "base_uri": "https://localhost:8080/",
     "height": 295
    },
    "id": "56b1RN57k4iO",
    "outputId": "067743a1-a847-4471-fcf9-8e7b3a4b5c8d"
   },
   "outputs": [
    {
     "data": {
      "image/png": "[encoded data removed]",
      "text/plain": [
       "<Figure size 432x288 with 1 Axes>"
      ]
     },
     "metadata": {
      "needs_background": "light",
      "tags": []
     },
     "output_type": "display_data"
    }
   ],
   "source": [
    "# Plot the accuracy of the fitted model on the training and test data.\n",
    "plt.plot(history.history['accuracy'], color='dodgerblue')\n",
    "plt.plot(history.history['val_accuracy'],color='orange')\n",
    "plt.title('Model accuracy')\n",
    "plt.ylabel('Accuracy')\n",
    "plt.xlabel('Epoch')\n",
    "plt.legend(['Train', 'Test'], loc='upper left')\n",
    "plt.show()"
   ]
  },
  {
   "cell_type": "markdown",
   "metadata": {
    "id": "JEELzdjtl1VT"
   },
   "source": [
    "The plot of the model's accuracy against the number of epochs suggests that accuracy on the test data does not improve much beyond approximately 10 epochs (cycles through the full dataset)."
   ]
  }
 ],
 "metadata": {
  "colab": {
   "collapsed_sections": [],
   "name": "DAA_M05_Ex18.ipynb",
   "provenance": []
  },
  "kernelspec": {
   "display_name": "Python 3",
   "language": "python",
   "name": "python3"
  },
  "language_info": {
   "codemirror_mode": {
    "name": "ipython",
    "version": 3
   },
   "file_extension": ".py",
   "mimetype": "text/x-python",
   "name": "python",
   "nbconvert_exporter": "python",
   "pygments_lexer": "ipython3",
   "version": "3.9.1"
  }
 },
 "nbformat": 4,
 "nbformat_minor": 1
}
