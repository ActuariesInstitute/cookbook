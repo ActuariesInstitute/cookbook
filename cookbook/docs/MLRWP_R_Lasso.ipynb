{
 "cells": [
  {
   "cell_type": "raw",
   "id": "bf8a810a",
   "metadata": {},
   "source": [
    "---\n",
    "title: \"Self-assembling claim reserving models using the LASSO\"\n",
    "date: \"2021-05-17T16:00:00Z\"\n",
    "slug: f-lasso\n",
    "authors:\n",
    "  - gmcguire\n",
    "  - gtaylor\n",
    "tags:\n",
    "  - foundations\n",
    "  - lasso\n",
    "  - R\n",
    "\n",
    "---"
   ]
  },
  {
   "cell_type": "markdown",
   "id": "2114ff27",
   "metadata": {},
   "source": [
    "# R: Reserving with LASSO"
   ]
  },
  {
   "cell_type": "markdown",
   "id": "df00bda1",
   "metadata": {},
   "source": [
    "\n",
    "*In this post we look at how regularised regression techniques such as the LASSO can be used to set reserves for triangles.*"
   ]
  },
  {
   "cell_type": "markdown",
   "id": "f5155028",
   "metadata": {},
   "source": [
    "The [Foundation Workstream's first post](/mlr-blog/post/intro-to-foundations-blog/) set out a suggested path to getting to grips with machine learning. The first step was to start by applying GLMs to reserving and one way of doing this was covered in our most recent post ([Reserving with GLMs](https://institute-and-faculty-of-actuaries.github.io/mlr-blog/post/glms/)).\n",
    "\n",
    "In this post, we move onto the next step which is to use regularised regression methods. These allow us to build something that looks like a GLM but in a machine learning way - i.e. the machine selects the model.\n",
    "Put simply, regularisation techniques shrink or regularise regression parameters towards zero (excluding the intercept - this is normally not regularised, so in effect, this means that the fitted values are regularised towards the constant term in the regression). This penalises more complex models and reduces the risk of overfitting.\n",
    "\n",
    "Here we will be focussing on a particular type of regularised regression, called the LASSO. As well as shrinking the parameters towards zero, the LASSO also selects parameters (and their corresponding regressor) by explicitly setting some to zero. This makes it a particularly useful method.\n",
    "\n",
    "Below we will first provide a brief technical overview of the LASSO for those interested, before moving onto a practical example.   "
   ]
  },
  {
   "cell_type": "markdown",
   "id": "a14b1f77",
   "metadata": {},
   "source": [
    "# Introduction to the LASSO\n",
    "\n",
    "The LASSO (**L**east **A**bsolute **S**hrinkage and **S**election **O**perator) is a form of regularised regression. This means that the regression is subject to a penalty for the addition of each additional term in the predictor. The purpose of this is to prevent over-fitting of the model to data.\n",
    "\n",
    "## From GLMs ...\n",
    "\n",
    "The loss function associated with a GLM regression is the **deviance**, defined as\n",
    "\n",
    "$$D(y; X, \\hat{\\beta}) = -\\sum_{i=1}^N \\ell (y_i; X, \\hat{\\beta})  + \\text{other terms}$$\n",
    "\n",
    "where:\n",
    "\n",
    "* $y$ is the *N*-vector of observations $y_i$\n",
    "\n",
    "* $X$ is the regression design matrix\n",
    "\n",
    "* $\\beta$ is the *p*-vector of coefficients $\\beta_j$ in the linear predictor\n",
    "\n",
    "* $\\hat{\\beta}$ is the regression estimate of $\\beta$\n",
    "\n",
    "* $\\ell (y_i; X, \\hat{\\beta})$ is the log-likelihood of observation $y_i$\n",
    "\n",
    "* the other terms are of no great interest here."
   ]
  },
  {
   "cell_type": "markdown",
   "id": "43c825a5",
   "metadata": {},
   "source": [
    "Parameter estimation of a GLM can be performed by minimisation of the deviance with respect to $\\hat{\\beta}$, which is equivalent to maximisation of the likelihood.\n",
    "\n",
    "## ... to the LASSO\n",
    "\n",
    "The loss function for the LASSO version of this GLM is:\n",
    "\n",
    "$$\\mathcal{L} (y; X, \\hat{\\beta}) = D(y; X, \\hat{\\beta}) + \\lambda ||\\hat{\\beta}||_1$$\n",
    "\n",
    "where:\n",
    "\n",
    "* $\\lambda ||\\hat{\\beta}||_1$ is the parameter penalty or regularisation\n",
    "\n",
    "* $||\\hat{\\beta}||_1 = \\sum_{j=1}^p | \\hat{\\beta}_j|$ is the $L_1$ norm of $\\hat{\\beta}$ (which is the absolute value)\n",
    "\n",
    "* $\\lambda \\geq 0$ is a tuning parameter controlling the size of the penalty and therefore the amount of the regularisation.\n",
    "\n",
    "LASSO parameter estimation is effected by minimisation of $\\mathcal{L} (y; X, \\hat{\\beta})$ with respect to $\\hat{\\beta}$. The quantity $\\lambda ||\\hat{\\beta}||_1$ adds a penalty for each non-zero coefficient."
   ]
  },
  {
   "cell_type": "markdown",
   "id": "a9e7e6ff",
   "metadata": {},
   "source": [
    "## Model selection\n",
    "\n",
    "The non-differentiability of the penalty function tends to cause the occurrence of corner solutions in the minimisation, so that some coefficients $\\hat{\\beta}_j$ are forced to zero.  \n",
    "The strength of this effect increases with $\\lambda$. In the limit $\\lambda=0$, the LASSO is the same as the GLM; in the limit $\\lambda \\rightarrow \\infty$, the LASSO model becomes null, i.e. $\\hat{\\beta} = 0$ (other than the intercept if this has not been regularised). Thus, as $\\lambda$ increases from 0 to $\\infty$, the LASSO model shifts from the relatively complex GLM to increasingly simpler representations of the data.\n",
    "\n",
    "In practical use, models are fitted for a number of different possible values of $\\lambda$ (a path of values, from high to low).\n",
    "Cross-validation may then be used to select a particular $\\lambda$, and therefore model - one popular choice is the model which minimises the selected error measure over the different folds. Another popular alternative is to select the model with an average error across the folds that is one standard deviation away from the minimum. In this case, it is always the simpler model (i.e. higher $\\lambda$ value) that is selected with the aim of further reducing the risk of overfitting."
   ]
  },
  {
   "cell_type": "markdown",
   "id": "d15116ee",
   "metadata": {},
   "source": [
    "There is a Bayesian version of the LASSO (further details in the paper, and references therein), in which it is viewed as a hierarchical model, consisting of the original GLM with randomised parameters, each subject to the Laplace prior density:\n",
    "\n",
    "$$ \\pi(\\beta_j) = \\frac{1}{2} \\lambda \\exp( -\\lambda | \\beta_j |), \\space\\space\\space\\space -\\infty < \\beta_j < \\infty .$$\n",
    "\n",
    "The LASSO is dealt with in more detail in [Hastie T, Tibshirani R and Friedman J. (2009). **The Elements of Statistical Learning: Data Mining, Inference and Prediction**. Springer, New York USA.](https://web.stanford.edu/~hastie/ElemStatLearn/)"
   ]
  },
  {
   "cell_type": "markdown",
   "id": "021dde0b",
   "metadata": {},
   "source": [
    "# Using the LASSO for reserving\n",
    "\n",
    "In GIRO 2018 (and presented again at TIGI 2019), we, along with our co-author Hugh Miller, describe how the LASSO could be used to carry out reserving for a traditional triangle.\n",
    "The motivation behind this work was to develop an automatic method to construct a general insurance claims reserving model for data sets with complex features where simple approaches such as the chain ladder fail. In the past we have advocated the use of GLM models for such data sets, but the construction of a GLM is a time-consuming process, even for a skilled analyst. Our aim was to develop a procedure that produced a model similar to a GLM, but using machine learning techniques.\n",
    "\n",
    "We used the LASSO rather than other types of regularised regression, for the following reasons:\n",
    "\n",
    "* The ability of the LASSO to select parameters (by setting some parameter estimates to zero)\n",
    "* The LASSO leads to lower error variance in the fitted values (at the cost of some additional bias).\n",
    "\n",
    "This approach has performed well - as may be seen from the figures towards the end of this article, which show that the fitted curves can track the underlying specification quite closely, even in the presence of significant noise, or difficult to detect interactions. A paper describing the method is available on [SSRN](https://papers.ssrn.com/sol3/papers.cfm?abstract_id=3241906). This contains much more technical detail around the choice, use and implementation of the LASSO for the reserving problem.\n",
    "\n",
    "For the rest of this post, we will work through this method in a tutorial example.\n",
    "This is based on an existing [worked example](https://grainnemcguire.github.io/post/self-assembling-claim-reserving-models/) so if you've seen that one, then you may already be familiar with a lot of the content below."
   ]
  },
  {
   "cell_type": "markdown",
   "id": "1907df49",
   "metadata": {},
   "source": [
    "# Tutorial on how to use our LASSO technique for reserving\n",
    "\n",
    "In our paper we investigate the use of the LASSO using four synthetic (i.e. simulated) data sets as well as a real data set. This worked example will use the third simulated data set. The specifications for this data set are given in Section 4.2.1 of the paper. The main points to note are that this data set:\n",
    "\n",
    "* is a 40x40 triangle, with\n",
    "* accident and development period effects\n",
    "* calendar period effects (i.e. superimposed inflation)\n",
    "* a step-interaction between accident and development period for accident periods greater than 16 and development periods greater than 20 (note this affects only 10 cells of the triangle)"
   ]
  },
  {
   "cell_type": "markdown",
   "id": "fbe784f5",
   "metadata": {},
   "source": [
    "These effects are represented graphically below.\n"
   ]
  },
  {
   "cell_type": "code",
   "execution_count": 1,
   "id": "b641c96b",
   "metadata": {
    "lines_to_next_cell": 0,
    "message": false,
    "tags": [
     "remove_input"
    ],
    "warning": false
   },
   "outputs": [
    {
     "data": {
      "image/png": "[encoded data removed]",
      "text/plain": [
       "plot without title"
      ]
     },
     "metadata": {
      "image/png": {
       "height": 420,
       "width": 420
      }
     },
     "output_type": "display_data"
    }
   ],
   "source": [
    "library(data.table)\n",
    "library(ggplot2)\n",
    "library(patchwork)\n",
    "library(IRdisplay) # displays tables when in ipynb format\n",
    "\n",
    "mblue <- \"#4096b8\"\n",
    "\n",
    "\n",
    "# plot effects in data\n",
    "\n",
    "LinearSpline <- function(var, start, stop){\n",
    "    pmin(stop - start, pmax(0, var - start))\n",
    "}\n",
    "\n",
    "# acc\n",
    "acc_dt <- data.table(acc=1:40)\n",
    "acc_dt[, acc_m := log(100000)+0.1*LinearSpline(acc,1,15)+0.2*LinearSpline(acc,15,20) - 0.05*LinearSpline(acc,30,40)]\n",
    "\n",
    "g_acc <- ggplot(data=acc_dt, aes(x=acc, y=acc_m)) +\n",
    "  geom_line(size=1.5, colour=mblue) +\n",
    "  theme_classic() +\n",
    "  labs(x=NULL, y=NULL, title=\"Accident\")\n",
    "\n",
    "# dev\n",
    "dev_dt <- data.table(dev=1:40)\n",
    "dev_dt[, dev_m := (16/3 - 1)*log(dev)- (1/3)*dev]\n",
    "\n",
    "g_dev <- ggplot(data=dev_dt, aes(x=dev, y=dev_m)) +\n",
    "  geom_line(size=1.5, colour=mblue) +\n",
    "  theme_classic() +\n",
    "  labs(x=NULL, y=NULL, title=\"Development\")\n",
    "\n",
    "# cal\n",
    "gammafunc <- function(t){\n",
    "\tgg <-\n",
    "\t\tifelse( t<=12, gg <- 0.0075*LinearSpline(t,1,12),\n",
    "\t\t\t\tifelse(t<=24,  gg <- 0.0075*LinearSpline(12,1,12) + 0.001* (t-12)*(t-11)/2,\n",
    "\t\t\t\t\t   ifelse(t<=32, gg <- 0.0075*LinearSpline(12,1,12) + 0.001* (24-12)*(24-11)/2,\n",
    "\t\t\t\t\t   \t   ifelse(t<=40, gg <- 0.0075*LinearSpline(12,1,12) + 0.001* (24-12)*(24-11)/2 + 0.002*(t-32)*(t-31)/2,\n",
    "\t\t\t\t\t   \t   \t   0.0075*LinearSpline(12,1,12) + 0.001* (24-12)*(24-11)/2 + 0.002*(40-32)*(40-31)/2\n",
    "\t\t\t\t\t   \t   ))))\n",
    "\t1*gg  #can scale up shape here if desired\n",
    "}\n",
    "\n",
    "\n",
    "cal_dt <- data.table(cal=1:40)\n",
    "cal_dt[, cal_m := gammafunc(cal)]\n",
    "\n",
    "g_cal <- ggplot(data=cal_dt, aes(x=cal, y=cal_m)) +\n",
    "  geom_line(size=1.5, colour=mblue) +\n",
    "  theme_classic() +\n",
    "  labs(x=NULL, y=NULL, title=\"Calendar\")\n",
    "\n",
    "\n",
    "# interactions\n",
    "int_dt <- data.table(acc=rep(1:40, each=40), dev=rep(1:40, times=40))\n",
    "int_dt[, interaction := FALSE\n",
    "       ][acc>16 & dev>20, interaction := TRUE]\n",
    "\n",
    "g_int <- ggplot(data=int_dt, aes(x=dev, y=acc, colour=interaction)) +\n",
    "  geom_point(size=1) +\n",
    "  scale_colour_manual(values=c(\"white\", mblue)) +\n",
    "  scale_y_reverse()+\n",
    "  theme_classic() +\n",
    "  theme(legend.position = \"none\") +\n",
    "  labs(x=\"Development\", y=\"Accident\", title=\"Interaction\")\n",
    "\n",
    "\n",
    "(g_acc + g_dev) / (g_cal + g_int)\n",
    "\n"
   ]
  },
  {
   "cell_type": "markdown",
   "id": "fc069c79",
   "metadata": {},
   "source": []
  },
  {
   "cell_type": "markdown",
   "id": "c48b7ae7",
   "metadata": {},
   "source": [
    "## Initial Setup"
   ]
  },
  {
   "cell_type": "markdown",
   "id": "f6a35f00",
   "metadata": {},
   "source": [
    "First we must open R and load any libraries required. These include:\n",
    "\n",
    "* **data.table** for manipulating data\n",
    "* **glmnet** to fit the LASSO model\n",
    "* **ggplot2** and **patchwork** for graphing\n",
    "\n",
    "If you would prefer all data manipulation in base R, then refer to the [original version of this tutorial]([worked example](https://grainnemcguire.github.io/post/self-assembling-claim-reserving-models/)).\n",
    "\n",
    "\n"
   ]
  },
  {
   "cell_type": "code",
   "execution_count": 2,
   "id": "1bc37a47",
   "metadata": {
    "collapse": true,
    "lines_to_next_cell": 2
   },
   "outputs": [
    {
     "name": "stderr",
     "output_type": "stream",
     "text": [
      "Loading required package: Matrix\n",
      "\n",
      "Loaded glmnet 4.1-1\n",
      "\n"
     ]
    }
   ],
   "source": [
    "library(data.table)\n",
    "library(glmnet)\n",
    "library(ggplot2)\n",
    "library(patchwork)\n",
    "\n",
    "library(kableExtra) # format tables nicely\n",
    "library(magrittr)  # to use the pipe %>%\n",
    "\n",
    "# other setup\n",
    "options(\"scipen\"=99) # turn off scientific notation\n",
    "\n",
    "# colour palette for some plots\n",
    "# IFoA colours\n",
    "# primary colours\n",
    "dblue <- \"#113458\"\n",
    "mblue <- \"#4096b8\"\n",
    "gold <- \"#d9ab16\"\n",
    "lgrey <- \"#dcddd9\"\n",
    "dgrey <- \"#3f4548\"\n",
    "black <- \"#3F4548\"\n",
    "#secondary colours\n",
    "red <- \"#d01e45\"\n",
    "purple <- \"#8f4693\"\n",
    "orange <- \"#ee741d\"\n",
    "fuscia <- \"#e9458c\"\n",
    "violet <- \"#8076cf\"\n",
    "\n"
   ]
  },
  {
   "cell_type": "markdown",
   "id": "fd3a643e",
   "metadata": {},
   "source": [
    "## Generating the synthetic data set\n",
    "\n",
    "The functions defined below will generate data sets similar to those used in our paper.\n",
    "Here we'll use simulated data set 3, but we've included the code to generate the other data sets so that you can experiment with others if you wish.\n",
    "\n",
    "The utility function `LinearSpline()` will be widely used in this example - it takes a vector `var` and produces a spline piece between `start` and `stop` - flat (and 0) up to `start`, thereafter increasing to `stop` and then levelling out at this point. This is used both in the data generation and in the generation of basis functions for the LASSO."
   ]
  },
  {
   "cell_type": "code",
   "execution_count": 3,
   "id": "0c931071",
   "metadata": {
    "lines_to_next_cell": 2
   },
   "outputs": [],
   "source": [
    "LinearSpline <- function(var, start, stop){\n",
    "\tpmin(stop - start, pmax(0, var - start))\n",
    "}\n",
    "\n",
    "\n",
    "CreateSyntheticData<-function(whichsim, numperiods)\n",
    "{\n",
    "\n",
    "    # whichsim determins which data set to simulate\n",
    "    # numperiods determines the size of the triangle\n",
    "\n",
    "\t# create the acc/dev/cal parameters\n",
    "\tkk <- rep(1:numperiods, each = numperiods) #AQ\n",
    "\tjj <- rep(1:numperiods, times= numperiods) #DQ\n",
    "\ttt <- kk+jj-1 # PQ\n",
    "\n",
    "\t# set alpha/beta/gamma - hard-code up the sim values\n",
    "\tif (whichsim == 1){\n",
    "\t\talpha <- log(100000)+0.1*LinearSpline(kk,1,15)+0.2*LinearSpline(kk,15,20) - 0.05*LinearSpline(kk,30,40)\n",
    "\t\tbeta  <- (16/3 - 1)*log(jj)- (1/3)*jj\n",
    "\t\tgamma <- 0\n",
    "\t\tmu <- exp( alpha + beta + gamma)  \n",
    "\t}\n",
    "\telse if (whichsim == 2){\n",
    "\t\talpha <- log(100000)+0.1*LinearSpline(kk,1,15)+0.2*LinearSpline(kk,15,20) - 0.05*LinearSpline(kk,30,40)\n",
    "\t\tbeta  <- (16/3 - 1)*log(jj)- (1/3)*jj  # a is 16/3, b is 1/3\n",
    "\t\tgamma <- gammafunc(tt)\n",
    "\t\tmu <- exp( alpha + beta + gamma)  \n",
    "\t}\n",
    "\telse if (whichsim == 3){\n",
    "\t\talpha <- log(100000)+0.1*LinearSpline(kk,1,15)+0.2*LinearSpline(kk,15,20) - 0.05*LinearSpline(kk,30,40)\n",
    "\t\tbeta  <- (16/3 - 1)*log(jj)- (1/3)*jj  # a is 16/3, b is 1/3\n",
    "\t\tgamma <- gammafunc(tt)\n",
    "\t\tmu <- exp( alpha + beta + gamma + 0.3*beta*ifelse(kk>16 & jj>20,1,0))  \n",
    "\t}\n",
    "\telse if (whichsim == 4){\n",
    "\t\talpha <- log(100000)+0.1*LinearSpline(kk,1,15)+0.2*LinearSpline(kk,15,20) - 0.05*LinearSpline(kk,30,40)\n",
    "\t\tbeta  <- (16/3 - 1)*log(jj)- (1/3)*jj  # a is 16/3, b is 1/3\n",
    "\t\tgamma <- gammafunc(tt)\n",
    "\t\tmu <- exp( alpha + beta + gamma*((numperiods-1)-LinearSpline(jj,1,numperiods))/(numperiods-1) )  # need to check\n",
    "\t}\n",
    "\n",
    "\tvarbase <- (0.3 * mu[  kk==1 & jj ==16] )^2 # can scale variance up and down here\n",
    "\tCC  <-  varbase / mu[  kk==1 & jj ==16]\n",
    "\n",
    "\tvars   <- CC*mu\n",
    "\ttausq  <- log (vars / (mu^2) + 1)\n",
    "\n",
    "\tpmts <- exp( rnorm( numperiods^2, mean = log(mu)-0.5*tausq , sd = sqrt(tausq)  ) )\n",
    "\n",
    "\t# indicator for past/future = traint/test\n",
    "\ttrain_ind<-(tt<=numperiods)\n",
    "\n",
    "\t### data.table for output\n",
    "\tfull<-data.table(pmts, acc=as.integer(kk), dev=as.integer(jj), cal=as.integer(tt), mu, train_ind )\n",
    "\tfull\n",
    "}\n",
    "\n",
    "\n",
    "#---------------------------\n",
    "# function to generate calendar period effects used in CreateSyntheticData()\n",
    "# written as a seperate function for convenience\n",
    "\n",
    "gammafunc <- function(t){\n",
    "\tgg <-\n",
    "\t\tifelse( t<=12, gg <- 0.0075*LinearSpline(t,1,12),\n",
    "\t\t\t\tifelse(t<=24,  gg <- 0.0075*LinearSpline(12,1,12) + 0.001* (t-12)*(t-11)/2,\n",
    "\t\t\t\t\t   ifelse(t<=32, gg <- 0.0075*LinearSpline(12,1,12) + 0.001* (24-12)*(24-11)/2,\n",
    "\t\t\t\t\t   \t   ifelse(t<=40, gg <- 0.0075*LinearSpline(12,1,12) + 0.001* (24-12)*(24-11)/2 + 0.002*(t-32)*(t-31)/2,\n",
    "\t\t\t\t\t   \t   \t   0.0075*LinearSpline(12,1,12) + 0.001* (24-12)*(24-11)/2 + 0.002*(40-32)*(40-31)/2\n",
    "\t\t\t\t\t   \t   ))))\n",
    "\tgg  \n",
    "}\n",
    "\n",
    "\n"
   ]
  },
  {
   "cell_type": "markdown",
   "id": "e97be3e2",
   "metadata": {},
   "source": [
    "The code below generates the data set as specified in our paper. If you want to use our data set, use a seed of 130. Otherwise, use different seeds to produce different data sets. Or change `use_data_set` to 1, 2 or 4 to use data sets simulated in a similar way to those in our paper."
   ]
  },
  {
   "cell_type": "code",
   "execution_count": 4,
   "id": "4024308f",
   "metadata": {
    "lines_to_next_cell": 0
   },
   "outputs": [],
   "source": [
    "\n",
    "use_data_set <- 3       # which data set to use\n",
    "use_data_set_seed <- 130  # seed to generate data\n",
    "num_periods <- 40   # size of data set\n",
    "\n",
    "set.seed(use_data_set_seed)\n",
    "\n",
    "dat <- CreateSyntheticData(whichsim=use_data_set, numperiods=num_periods)\n",
    "\n"
   ]
  },
  {
   "cell_type": "markdown",
   "id": "aaabbd88",
   "metadata": {},
   "source": []
  },
  {
   "cell_type": "markdown",
   "id": "b6b09186",
   "metadata": {},
   "source": [
    "Let's have a look at the data:\n",
    "\n",
    "* `acc` / `dev` / `cal` = accident / development / calendar quarter\n",
    "* `pmts` = simulated payments\n",
    "* `mu` = underlying mean\n",
    "* `train_ind`: TRUE for past values and FALSE for future."
   ]
  },
  {
   "cell_type": "code",
   "execution_count": 5,
   "id": "fce7d4e7",
   "metadata": {
    "lines_to_next_cell": 2
   },
   "outputs": [
    {
     "data": {
      "text/html": [
       "<table class=\"table table-striped table-hover table-condensed\" style=\"width: auto !important; margin-left: auto; margin-right: auto;\">\n",
       " <thead>\n",
       "  <tr>\n",
       "   <th style=\"text-align:right;\"> pmts </th>\n",
       "   <th style=\"text-align:right;\"> acc </th>\n",
       "   <th style=\"text-align:right;\"> dev </th>\n",
       "   <th style=\"text-align:right;\"> cal </th>\n",
       "   <th style=\"text-align:right;\"> mu </th>\n",
       "   <th style=\"text-align:left;\"> train_ind </th>\n",
       "  </tr>\n",
       " </thead>\n",
       "<tbody>\n",
       "  <tr>\n",
       "   <td style=\"text-align:right;\"> 242,671 </td>\n",
       "   <td style=\"text-align:right;\"> 1 </td>\n",
       "   <td style=\"text-align:right;\"> 1 </td>\n",
       "   <td style=\"text-align:right;\"> 1 </td>\n",
       "   <td style=\"text-align:right;\"> 71,653 </td>\n",
       "   <td style=\"text-align:left;\"> TRUE </td>\n",
       "  </tr>\n",
       "  <tr>\n",
       "   <td style=\"text-align:right;\"> 164,001 </td>\n",
       "   <td style=\"text-align:right;\"> 1 </td>\n",
       "   <td style=\"text-align:right;\"> 2 </td>\n",
       "   <td style=\"text-align:right;\"> 2 </td>\n",
       "   <td style=\"text-align:right;\"> 1,042,776 </td>\n",
       "   <td style=\"text-align:left;\"> TRUE </td>\n",
       "  </tr>\n",
       "  <tr>\n",
       "   <td style=\"text-align:right;\"> 3,224,478 </td>\n",
       "   <td style=\"text-align:right;\"> 1 </td>\n",
       "   <td style=\"text-align:right;\"> 3 </td>\n",
       "   <td style=\"text-align:right;\"> 3 </td>\n",
       "   <td style=\"text-align:right;\"> 4,362,600 </td>\n",
       "   <td style=\"text-align:left;\"> TRUE </td>\n",
       "  </tr>\n",
       "  <tr>\n",
       "   <td style=\"text-align:right;\"> 3,682,531 </td>\n",
       "   <td style=\"text-align:right;\"> 1 </td>\n",
       "   <td style=\"text-align:right;\"> 4 </td>\n",
       "   <td style=\"text-align:right;\"> 4 </td>\n",
       "   <td style=\"text-align:right;\"> 10,955,670 </td>\n",
       "   <td style=\"text-align:left;\"> TRUE </td>\n",
       "  </tr>\n",
       "  <tr>\n",
       "   <td style=\"text-align:right;\"> 10,149,369 </td>\n",
       "   <td style=\"text-align:right;\"> 1 </td>\n",
       "   <td style=\"text-align:right;\"> 5 </td>\n",
       "   <td style=\"text-align:right;\"> 5 </td>\n",
       "   <td style=\"text-align:right;\"> 20,800,545 </td>\n",
       "   <td style=\"text-align:left;\"> TRUE </td>\n",
       "  </tr>\n",
       "  <tr>\n",
       "   <td style=\"text-align:right;\"> 28,578,275 </td>\n",
       "   <td style=\"text-align:right;\"> 1 </td>\n",
       "   <td style=\"text-align:right;\"> 6 </td>\n",
       "   <td style=\"text-align:right;\"> 6 </td>\n",
       "   <td style=\"text-align:right;\"> 33,089,167 </td>\n",
       "   <td style=\"text-align:left;\"> TRUE </td>\n",
       "  </tr>\n",
       "  <tr>\n",
       "   <td style=\"text-align:right;\"> 29,022,301 </td>\n",
       "   <td style=\"text-align:right;\"> 1 </td>\n",
       "   <td style=\"text-align:right;\"> 7 </td>\n",
       "   <td style=\"text-align:right;\"> 7 </td>\n",
       "   <td style=\"text-align:right;\"> 46,588,740 </td>\n",
       "   <td style=\"text-align:left;\"> TRUE </td>\n",
       "  </tr>\n",
       "  <tr>\n",
       "   <td style=\"text-align:right;\"> 56,795,754 </td>\n",
       "   <td style=\"text-align:right;\"> 1 </td>\n",
       "   <td style=\"text-align:right;\"> 8 </td>\n",
       "   <td style=\"text-align:right;\"> 8 </td>\n",
       "   <td style=\"text-align:right;\"> 59,989,023 </td>\n",
       "   <td style=\"text-align:left;\"> TRUE </td>\n",
       "  </tr>\n",
       "  <tr>\n",
       "   <td style=\"text-align:right;\"> 47,360,541 </td>\n",
       "   <td style=\"text-align:right;\"> 1 </td>\n",
       "   <td style=\"text-align:right;\"> 9 </td>\n",
       "   <td style=\"text-align:right;\"> 9 </td>\n",
       "   <td style=\"text-align:right;\"> 72,148,133 </td>\n",
       "   <td style=\"text-align:left;\"> TRUE </td>\n",
       "  </tr>\n",
       "  <tr>\n",
       "   <td style=\"text-align:right;\"> 99,139,255 </td>\n",
       "   <td style=\"text-align:right;\"> 1 </td>\n",
       "   <td style=\"text-align:right;\"> 10 </td>\n",
       "   <td style=\"text-align:right;\"> 10 </td>\n",
       "   <td style=\"text-align:right;\"> 82,224,253 </td>\n",
       "   <td style=\"text-align:left;\"> TRUE </td>\n",
       "  </tr>\n",
       "</tbody>\n",
       "</table>"
      ]
     },
     "metadata": {},
     "output_type": "display_data"
    }
   ],
   "source": [
    "\n",
    "# head(dat,10) gives the same information, the rest is just formatting\n",
    "\n",
    "head(dat, 10) %>%\n",
    "    kable(digits=0, format.args = list(big.mark = \",\", scientific = FALSE)) %>%\n",
    "    kable_styling(full_width=FALSE, bootstrap_options = c(\"striped\", \"hover\", \"condensed\")) %>%\n",
    "    as.character() %>%\n",
    "    display_html()\n",
    "\n",
    "\n"
   ]
  },
  {
   "cell_type": "markdown",
   "id": "2564cf95",
   "metadata": {},
   "source": [
    "It may also be helpful to visualise the data, using shading to indicate the size of the payments (specifically, log(payments)).\n"
   ]
  },
  {
   "cell_type": "code",
   "execution_count": 6,
   "id": "aea9e5c5",
   "metadata": {
    "lines_to_next_cell": 0
   },
   "outputs": [
    {
     "data": {
      "image/png": "[encoded data removed]",
      "text/plain": [
       "plot without title"
      ]
     },
     "metadata": {
      "image/png": {
       "height": 420,
       "width": 420
      }
     },
     "output_type": "display_data"
    }
   ],
   "source": [
    "\n",
    "# get limits for use with raster plots\n",
    "data_raster_limits <- c(floor(dat[, min(log(pmts))]), ceiling(dat[, max(log(pmts))]))\n",
    "\n",
    "ggplot(dat, aes(dev, acc)) +\n",
    "  geom_raster(aes(fill = log(pmts)))+\n",
    "  geom_line(aes(x=num_periods+1-acc, y=acc), colour=dgrey, size=2)+\n",
    "  scale_y_reverse()+\n",
    "  scale_fill_viridis_c(begin=1, end=0, limits=data_raster_limits)+\n",
    "  theme_classic()+\n",
    "  labs(x=\"Development quarter\", y=\"Accident quarter\", title=\"Log(payments)\")+\n",
    "  NULL\n",
    "\n"
   ]
  },
  {
   "cell_type": "markdown",
   "id": "f9f69155",
   "metadata": {},
   "source": [
    "\n"
   ]
  },
  {
   "cell_type": "markdown",
   "id": "200dec0b",
   "metadata": {},
   "source": [
    "## Specifying the LASSO model\n",
    "\n",
    "The LASSO model requires data (which we have), basis functions or regressors and model settings for the LASSO procedure. In our example we have 3 regressors - accident, development and calendar periods. If we use these as is, then all our model can potentially contain are a linear effect related to each of these. That won't come anywhere close to modelling the data.\n",
    "Therefore, a key part of our paper was how to expand these 3 regressors into a flexible set of basis functions, capable of capturing a variety of shapes in the model experience."
   ]
  },
  {
   "cell_type": "markdown",
   "id": "e997af8a",
   "metadata": {},
   "source": [
    "### Set of basis functions\n",
    "\n",
    "In the paper we proposed creating a basis function set consisting of ramp functions and step (or heaviside) functions, as shown in the plot below:\n",
    "\n",
    "* Ramps start flat at 0, then have a knot (turning point) after which they increase linearly\n",
    "* Step or heaviside functions start at 0, then step up to 1 and a specific point and remain there.\n"
   ]
  },
  {
   "cell_type": "code",
   "execution_count": 7,
   "id": "16ae3064",
   "metadata": {
    "fig.height": 4,
    "lines_to_next_cell": 2,
    "tags": [
     "remove_input"
    ]
   },
   "outputs": [
    {
     "data": {
      "image/png": "[encoded data removed]",
      "text/plain": [
       "plot without title"
      ]
     },
     "metadata": {
      "image/png": {
       "height": 420,
       "width": 420
      }
     },
     "output_type": "display_data"
    }
   ],
   "source": [
    "\n",
    "dt1 <- data.table(acc=1:40)\n",
    "dt1[, ramp1 := pmax(0, acc-15)\n",
    "    ][, step1 := fifelse(acc<=22, 0, 1)]\n",
    "\n",
    "dt1_long <- melt(dt1, id.vars=\"acc\")\n",
    "\n",
    "g1 <- ggplot(data=dt1_long[variable %like% \"ramp\"], aes(x=acc, y=value, colour=variable))+\n",
    "  geom_line(size=1.25, alpha=0.7) +\n",
    "  scale_colour_manual(values=c(mblue)) +\n",
    "  theme_classic() +\n",
    "  labs(x=NULL, y=NULL) +\n",
    "  theme(legend.position = \"none\")\n",
    "\n",
    "\n",
    "g2 <- ggplot(data=dt1_long[variable %like% \"step\"], aes(x=acc, y=value, colour=variable))+\n",
    "  geom_line(size=1.25, alpha=0.7) +\n",
    "  scale_colour_manual(values=c(mblue)) +\n",
    "  theme_classic() +\n",
    "  labs(x=NULL, y=NULL) +\n",
    "  theme(legend.position = \"none\")\n",
    "\n",
    "g1 / g2\n"
   ]
  },
  {
   "cell_type": "markdown",
   "id": "d8caedcf",
   "metadata": {},
   "source": [
    "More specifically we use the ramp functions for main effects and the heaviside functions for interactions.\n",
    "\n",
    "Since the procedure is intended to be automatic, the default basis function set includes all possible main effects ramps and all possible two-way interaction step functions.\n",
    "\n",
    "For the particular data set here, this means that our basis functions include:\n",
    "\n",
    "* 3 x 39 ramp functions, e.g.\n",
    "  $$\\max(\\text{acc} - k, 0), \\;\\; k=1, 2, ..., 39$$\n",
    "\n",
    "  + and similar for `dev` and `cal`.\n",
    "\n",
    "* 3 x 39 x 39 interactions\n",
    "  $$I(\\text{acc} \\geq k)*I(\\text{acc} \\geq j), \\;\\; k, j = 2,3,..., 40$$\n",
    "\n",
    "   + similar for (`acc`, `cal`) and (`dev`, `cal`)\n",
    "\n",
    "* This leads to 4680(!) basis functions.\n",
    "\n",
    "Since there are really only 2 regressors (as in, once you know two of accident, development and calendar, you know the third), there are a lot of correlated variables. For real problems (as in the real data example in the paper), where you have prior knowledge about what effects are likely to be in the data we would recommend more discernment in the selection of which of the effects to include. For example, if you expect only development and calendar effects, then do not include the accident period basis functions."
   ]
  },
  {
   "cell_type": "markdown",
   "id": "8bf68828",
   "metadata": {},
   "source": [
    "### Scaling\n",
    "\n",
    "Referring back to the introduction of this article, the loss function to be minimised for the LASSO is\n",
    "\n",
    "$$\\mathcal{L} (y; X, \\hat{\\beta}) = D(y; X, \\hat{\\beta}) + \\lambda ||\\hat{\\beta}||_1$$\n",
    "\n",
    "We noted that $\\lambda$ controlled the size of the penalty attaching to each parameter, and therefore each basis function.\n",
    "However, as the size of the parameters also features in this equation, it is important that the basis functions be on similar scales.\n",
    "Otherwise whether a parameter is included or not could depend on whether the corresponding basis function has large values (and therefore smaller $\\hat{\\beta}$) or small values (and therefore larger $\\hat{\\beta}$), which is clearly undesirable.\n",
    "\n",
    "Once you're aware of this issue, it should come as no surprise that scaling parameters is something that is common in machine learning work like this one. Indeed, the **glmnet** package which we will be using comes with an in-built scaling tool. However this scaling will scale each variable independently. This isn't what we want since the basis functions are not independent - we have over 4000 of these, but really we only have 3 fundamental regressors so we probably want all `acc` functions to be scaled similarly (and the same is true for `dev` and `cal`).\n",
    "\n",
    "Our paper has some more discussion around scaling. In a nutshell, we calculate a scaling factor for each of the 3 fundamental regressors and then apply that to all basis functions generated from that regressor. The scaling we use is $\\rho$ scaling which is calculated as\n",
    "\n",
    "$$\\sum_{i=1}^n {\\frac{(x_i-\\bar{x})^2}{n}}$$\n",
    "\n",
    "where\n",
    "\n",
    "* $\\bar{x}$ is the mean of the regressor $x$ and\n",
    "* $n$ is the number of elements in the regressor.\n",
    "\n",
    "Another nuance to note is that in the real world, the future data will not be available. So our fundamental regressors contain only past data and the scaling factors should therefore be calculated using past data only."
   ]
  },
  {
   "cell_type": "markdown",
   "id": "135dd827",
   "metadata": {},
   "source": [
    "In other implementations of the LASSO, it is often common to centre the variables as well. We don't do that here as we want to preserve interactions having a zero level."
   ]
  },
  {
   "cell_type": "markdown",
   "id": "82edad46",
   "metadata": {},
   "source": [
    "### Code\n",
    "\n",
    "Now we'll go through the code used to generate the set of basis functions.\n",
    "\n",
    "We first write a function to do the $\\rho$-scaling. The input is a vector and the output is a scaling factor.\n",
    "Having this as a function makes sense because we need to call it three times (once for each of `acc`, `dev` and `cal`)."
   ]
  },
  {
   "cell_type": "code",
   "execution_count": 8,
   "id": "d8203eb8",
   "metadata": {
    "lines_to_next_cell": 2
   },
   "outputs": [],
   "source": [
    "\n",
    "# function to calculate scaling factors for the basis functions\n",
    "# scaling is discussed in the paper\n",
    "GetScaling <- function(vec) {\n",
    "  fn <- length(vec)\n",
    "  fm <- mean(vec)\n",
    "  fc <- vec - fm\n",
    "  rho_factor <- ((sum(fc^2))/fn)^0.5\n",
    "}\n",
    "\n"
   ]
  },
  {
   "cell_type": "markdown",
   "id": "ebe15a76",
   "metadata": {},
   "source": [
    "We next write some code to calculate the main effects ramp functions.\n",
    "This is also a function, again because we need to run it three times.\n",
    "\n",
    "Inputs to this function are the fundamental regressor and its name and scaling and the number of periods, which in turn tell the function what ramps to generate (you might think that is not needed because we can calculate it from the input vector, but it is important if we are working with vectors that contain future time periods - vectors of future `cal` will contain calendar periods not present in the past data and we don't want to generate ramp functions for these values).\n",
    "\n",
    "The output is a matrix with named columns - e.g. `L_1_999_acc`, `L_2_999_acc`, ..., `L_39_999_acc` where each column is the scaled ramp vector."
   ]
  },
  {
   "cell_type": "code",
   "execution_count": 9,
   "id": "9db8c24d",
   "metadata": {
    "lines_to_next_cell": 2
   },
   "outputs": [],
   "source": [
    "\n",
    "# function to create the ramps for a particular primary vector\n",
    "GetRamps <- function(vec, vecname, np, scaling){\n",
    "\n",
    "  # vec = fundamental regressor\n",
    "  # vecname = name of regressor\n",
    "  # np = number of periods\n",
    "  # scaling = scaling factor to use\n",
    "\n",
    "  # pre-allocate the matrix to hold the results for speed/efficiency\n",
    "  n <- length(vec)\n",
    "  nramps <- (np-1)\n",
    "\n",
    "  mat <- matrix(data=NA, nrow=n, ncol=nramps)\n",
    "  cnames <- vector(mode=\"character\", length=nramps)\n",
    "\n",
    "\n",
    "  col_indx <- 0\n",
    "\n",
    "  for (i in 1:(np-1)){\n",
    "    col_indx <- col_indx + 1\n",
    "\n",
    "    mat[, col_indx] <- LinearSpline(vec, i, 999) / scaling\n",
    "    cnames[col_indx] <- paste0(\"L_\", i, \"_999_\", vecname)\n",
    "  }\n",
    "\n",
    "  colnames(mat) <- cnames\n",
    "\n",
    "  return(mat)\n",
    "}\n",
    "\n"
   ]
  },
  {
   "cell_type": "markdown",
   "id": "e3188ff4",
   "metadata": {},
   "source": [
    "We also need to calculate the interactions which the function does below for a given pair of input vectors, e.g. accident and development periods.\n",
    "The inputs are similar to those for the `GetRamps()` function, except that we have two sets, one for each input fundamental regressor.\n",
    "The output is also a column-named matrix where names are, e.g., `I_acc_ge_5xI_dev_ge_14`."
   ]
  },
  {
   "cell_type": "code",
   "execution_count": 10,
   "id": "dec12508",
   "metadata": {
    "lines_to_next_cell": 2
   },
   "outputs": [],
   "source": [
    "\n",
    "# create the step (heaviside) function interactions\n",
    "GetInts <- function(vec1, vec2, vecname1, vecname2, np, scaling1, scaling2) {\n",
    "\n",
    "  # vec1 = fundamental regressor 1\n",
    "  # vec2 = fundamental regressor 2\n",
    "  # vecname1 = name of regressor 1\n",
    "  # vecname2 = name of regressor 2\n",
    "  # np = number of periods\n",
    "  # scaling1 = scaling factor to use for regressor 1\n",
    "  # scaling2 = scaling factor to use for regressor 2\n",
    "\n",
    "\n",
    "  # pre-allocate the matrix to hold the results for speed/efficiency\n",
    "  n <- length(vec1)\n",
    "  nints <- (np-1)*(np-1)\n",
    "\n",
    "  mat <- matrix(data=NA_real_, nrow=n, ncol=nints)\n",
    "  cnames <- vector(mode=\"character\", length=nints)\n",
    "\n",
    "\n",
    "  col_indx <- 0\n",
    "\n",
    "  for (i in 2:np){\n",
    "\n",
    "    ivec <- LinearSpline(vec1, i-1, i) / scaling1\n",
    "    iname <- paste0(\"I_\", vecname1, \"_ge_\", i)\n",
    "\n",
    "    if (length(ivec[is.na(ivec)]>0)) print(paste(\"NAs in ivec for\", i))\n",
    "\n",
    "    for (j in 2:np){\n",
    "      col_indx <- col_indx + 1  \n",
    "      mat[, col_indx] <- ivec * LinearSpline(vec2, j-1, j) / scaling2\n",
    "      cnames[col_indx] <- paste0(iname, \"xI_\", vecname2, \"_ge_\", j)\n",
    "\n",
    "      jvec <- LinearSpline(vec2, j-1, j) / scaling2\n",
    "      if (length(jvec[is.na(jvec)]>0)) print(paste(\"NAs in jvec for\", j))\n",
    "\n",
    "    }\n",
    "  }\n",
    "\n",
    "  colnames(mat) <- cnames\n",
    "\n",
    "  return(mat)\n",
    "\n",
    "\n",
    "}\n",
    "\n"
   ]
  },
  {
   "cell_type": "markdown",
   "id": "c9d43bf3",
   "metadata": {},
   "source": [
    "Finally we put all these functions together and run the code to:\n",
    "\n",
    "* calculate the scaling factors\n",
    "* generate the ramp functions\n",
    "* generate the interactions\n",
    "* put everything together into a single matrix, `varset`\n",
    "  + We create `varset` as a matrix and not a data.frame or a data.table since this is the form required by **glmnet**."
   ]
  },
  {
   "cell_type": "markdown",
   "id": "f93249af",
   "metadata": {},
   "source": [
    "Note that we calculate the basis functions for all the data, both past and future. However we only use past data when calculating the scaling factors - `dat[train_ind == TRUE,]` is the data.table way to select the past rows in the data set."
   ]
  },
  {
   "cell_type": "code",
   "execution_count": 11,
   "id": "8c041465",
   "metadata": {
    "lines_to_next_cell": 2
   },
   "outputs": [],
   "source": [
    "# get the scaling values\n",
    "rho_factor_list <- vector(mode=\"list\", length=3)\n",
    "names(rho_factor_list) <- c(\"acc\", \"dev\", \"cal\")\n",
    "\n",
    "for (v in c(\"acc\", \"dev\", \"cal\")){\n",
    "  # NB: only calculating scaling using past data    \n",
    "  rho_factor_list[[v]] <- GetScaling(dat[train_ind == TRUE, get(v)])\n",
    "}\n",
    "\n",
    "\n",
    "# main effects - matrix of values of Ramp functions\n",
    "\n",
    "main_effects_acc <- GetRamps(vec = dat[, acc], vecname = \"acc\", np = num_periods, scaling = rho_factor_list[[\"acc\"]])\n",
    "main_effects_dev <- GetRamps(vec = dat[, dev], vecname = \"dev\", np = num_periods, scaling = rho_factor_list[[\"dev\"]])\n",
    "main_effects_cal <- GetRamps(vec = dat[, cal], vecname = \"cal\", np = num_periods, scaling = rho_factor_list[[\"cal\"]])\n",
    "\n",
    "main_effects <- cbind(main_effects_acc, main_effects_dev, main_effects_cal)\n",
    "\n",
    "\n",
    "# interaction effects\n",
    "int_effects <- cbind(\n",
    "    GetInts(vec1=dat[, acc], vecname1=\"acc\", scaling1=rho_factor_list[[\"acc\"]], np=num_periods,\n",
    "            vec2=dat[, dev], vecname2=\"dev\", scaling2=rho_factor_list[[\"dev\"]]),\n",
    "\n",
    "    GetInts(vec1=dat[, dev], vecname1=\"dev\", scaling1=rho_factor_list[[\"dev\"]], np=num_periods,\n",
    "            vec2=dat[, cal], vecname2=\"cal\", scaling2=rho_factor_list[[\"cal\"]]),\n",
    "\n",
    "    GetInts(vec1=dat[, acc], vecname1=\"acc\", scaling1=rho_factor_list[[\"acc\"]], np=num_periods,\n",
    "            vec2=dat[, cal], vecname2=\"cal\", scaling2=rho_factor_list[[\"cal\"]])\n",
    ")\n",
    "\n",
    "\n",
    "varset <- cbind(main_effects, int_effects)"
   ]
  },
  {
   "cell_type": "markdown",
   "id": "6687a7e3",
   "metadata": {},
   "source": [
    "Have a look at a subset of the data"
   ]
  },
  {
   "cell_type": "code",
   "execution_count": 12,
   "id": "81f9022c",
   "metadata": {},
   "outputs": [
    {
     "data": {
      "text/html": [
       "<table class=\"dataframe\">\n",
       "<caption>A matrix: 10 × 6 of type dbl</caption>\n",
       "<thead>\n",
       "\t<tr><th scope=col>L_39_999_acc</th><th scope=col>L_1_999_dev</th><th scope=col>L_2_999_dev</th><th scope=col>L_3_999_dev</th><th scope=col>L_4_999_dev</th><th scope=col>L_5_999_dev</th></tr>\n",
       "</thead>\n",
       "<tbody>\n",
       "\t<tr><td>0</td><td>0.0000000</td><td>0.0000000</td><td>0.0000000</td><td>0.0000000</td><td>0.0000000</td></tr>\n",
       "\t<tr><td>0</td><td>0.1048285</td><td>0.0000000</td><td>0.0000000</td><td>0.0000000</td><td>0.0000000</td></tr>\n",
       "\t<tr><td>0</td><td>0.2096570</td><td>0.1048285</td><td>0.0000000</td><td>0.0000000</td><td>0.0000000</td></tr>\n",
       "\t<tr><td>0</td><td>0.3144855</td><td>0.2096570</td><td>0.1048285</td><td>0.0000000</td><td>0.0000000</td></tr>\n",
       "\t<tr><td>0</td><td>0.4193139</td><td>0.3144855</td><td>0.2096570</td><td>0.1048285</td><td>0.0000000</td></tr>\n",
       "\t<tr><td>0</td><td>0.5241424</td><td>0.4193139</td><td>0.3144855</td><td>0.2096570</td><td>0.1048285</td></tr>\n",
       "\t<tr><td>0</td><td>0.6289709</td><td>0.5241424</td><td>0.4193139</td><td>0.3144855</td><td>0.2096570</td></tr>\n",
       "\t<tr><td>0</td><td>0.7337994</td><td>0.6289709</td><td>0.5241424</td><td>0.4193139</td><td>0.3144855</td></tr>\n",
       "\t<tr><td>0</td><td>0.8386279</td><td>0.7337994</td><td>0.6289709</td><td>0.5241424</td><td>0.4193139</td></tr>\n",
       "\t<tr><td>0</td><td>0.9434564</td><td>0.8386279</td><td>0.7337994</td><td>0.6289709</td><td>0.5241424</td></tr>\n",
       "</tbody>\n",
       "</table>\n"
      ],
      "text/latex": [
       "A matrix: 10 × 6 of type dbl\n",
       "\\begin{tabular}{llllll}\n",
       " L\\_39\\_999\\_acc & L\\_1\\_999\\_dev & L\\_2\\_999\\_dev & L\\_3\\_999\\_dev & L\\_4\\_999\\_dev & L\\_5\\_999\\_dev\\\\\n",
       "\\hline\n",
       "\t 0 & 0.0000000 & 0.0000000 & 0.0000000 & 0.0000000 & 0.0000000\\\\\n",
       "\t 0 & 0.1048285 & 0.0000000 & 0.0000000 & 0.0000000 & 0.0000000\\\\\n",
       "\t 0 & 0.2096570 & 0.1048285 & 0.0000000 & 0.0000000 & 0.0000000\\\\\n",
       "\t 0 & 0.3144855 & 0.2096570 & 0.1048285 & 0.0000000 & 0.0000000\\\\\n",
       "\t 0 & 0.4193139 & 0.3144855 & 0.2096570 & 0.1048285 & 0.0000000\\\\\n",
       "\t 0 & 0.5241424 & 0.4193139 & 0.3144855 & 0.2096570 & 0.1048285\\\\\n",
       "\t 0 & 0.6289709 & 0.5241424 & 0.4193139 & 0.3144855 & 0.2096570\\\\\n",
       "\t 0 & 0.7337994 & 0.6289709 & 0.5241424 & 0.4193139 & 0.3144855\\\\\n",
       "\t 0 & 0.8386279 & 0.7337994 & 0.6289709 & 0.5241424 & 0.4193139\\\\\n",
       "\t 0 & 0.9434564 & 0.8386279 & 0.7337994 & 0.6289709 & 0.5241424\\\\\n",
       "\\end{tabular}\n"
      ],
      "text/markdown": [
       "\n",
       "A matrix: 10 × 6 of type dbl\n",
       "\n",
       "| L_39_999_acc | L_1_999_dev | L_2_999_dev | L_3_999_dev | L_4_999_dev | L_5_999_dev |\n",
       "|---|---|---|---|---|---|\n",
       "| 0 | 0.0000000 | 0.0000000 | 0.0000000 | 0.0000000 | 0.0000000 |\n",
       "| 0 | 0.1048285 | 0.0000000 | 0.0000000 | 0.0000000 | 0.0000000 |\n",
       "| 0 | 0.2096570 | 0.1048285 | 0.0000000 | 0.0000000 | 0.0000000 |\n",
       "| 0 | 0.3144855 | 0.2096570 | 0.1048285 | 0.0000000 | 0.0000000 |\n",
       "| 0 | 0.4193139 | 0.3144855 | 0.2096570 | 0.1048285 | 0.0000000 |\n",
       "| 0 | 0.5241424 | 0.4193139 | 0.3144855 | 0.2096570 | 0.1048285 |\n",
       "| 0 | 0.6289709 | 0.5241424 | 0.4193139 | 0.3144855 | 0.2096570 |\n",
       "| 0 | 0.7337994 | 0.6289709 | 0.5241424 | 0.4193139 | 0.3144855 |\n",
       "| 0 | 0.8386279 | 0.7337994 | 0.6289709 | 0.5241424 | 0.4193139 |\n",
       "| 0 | 0.9434564 | 0.8386279 | 0.7337994 | 0.6289709 | 0.5241424 |\n",
       "\n"
      ],
      "text/plain": [
       "      L_39_999_acc L_1_999_dev L_2_999_dev L_3_999_dev L_4_999_dev L_5_999_dev\n",
       " [1,] 0            0.0000000   0.0000000   0.0000000   0.0000000   0.0000000  \n",
       " [2,] 0            0.1048285   0.0000000   0.0000000   0.0000000   0.0000000  \n",
       " [3,] 0            0.2096570   0.1048285   0.0000000   0.0000000   0.0000000  \n",
       " [4,] 0            0.3144855   0.2096570   0.1048285   0.0000000   0.0000000  \n",
       " [5,] 0            0.4193139   0.3144855   0.2096570   0.1048285   0.0000000  \n",
       " [6,] 0            0.5241424   0.4193139   0.3144855   0.2096570   0.1048285  \n",
       " [7,] 0            0.6289709   0.5241424   0.4193139   0.3144855   0.2096570  \n",
       " [8,] 0            0.7337994   0.6289709   0.5241424   0.4193139   0.3144855  \n",
       " [9,] 0            0.8386279   0.7337994   0.6289709   0.5241424   0.4193139  \n",
       "[10,] 0            0.9434564   0.8386279   0.7337994   0.6289709   0.5241424  "
      ]
     },
     "metadata": {},
     "output_type": "display_data"
    }
   ],
   "source": [
    "varset[1:10, 39:44]\n"
   ]
  },
  {
   "cell_type": "markdown",
   "id": "3a9f5d3c",
   "metadata": {},
   "source": [
    "We can also look at the scaling factors used"
   ]
  },
  {
   "cell_type": "code",
   "execution_count": 13,
   "id": "6d2d9b6c",
   "metadata": {
    "lines_to_next_cell": 2
   },
   "outputs": [
    {
     "name": "stdout",
     "output_type": "stream",
     "text": [
      "$acc\n",
      "[1] 9.539392\n",
      "\n",
      "$dev\n",
      "[1] 9.539392\n",
      "\n",
      "$cal\n",
      "[1] 9.539392\n",
      "\n"
     ]
    }
   ],
   "source": [
    "print(rho_factor_list)"
   ]
  },
  {
   "cell_type": "markdown",
   "id": "f1120b70",
   "metadata": {},
   "source": [
    "The factors are all equal in this case. In hindsight this makes sense - we have the complete 40 x 40 past triangle, and all regressors are numbered from 1, so all three regressors are permutations of the same numbers.\n",
    "\n",
    "<br>\n",
    "\n",
    "Some of the interactions will be constant over the past data set - i.e. those that involve combinations of parameters that are only possible in the future such as `I_acc_ge35xI_dev_ge30`. We don't have to remove these but we can do if we want.\n",
    "\n",
    "This next block of code does this.\n"
   ]
  },
  {
   "cell_type": "code",
   "execution_count": 14,
   "id": "ad38d55b",
   "metadata": {
    "lines_to_next_cell": 2
   },
   "outputs": [],
   "source": [
    "# drop any constant columns over the training data set\n",
    "# do this by identifying the constant columns and dropping them\n",
    "\n",
    "# get the past data subset only using TRUE/FALSE from train_ind in dat\n",
    "varset_train <- varset[dat$train_ind, ]\n",
    "\n",
    "# identify constant columns as those with max=min\n",
    "rm_cols <- varset_train[, apply(varset_train, MARGIN=2, function(x) max(x, na.rm = TRUE) == min(x, na.rm = TRUE))]\n",
    "\n",
    "# drop these constant columns\n",
    "varset <- varset[, !(colnames(varset) %in% colnames(rm_cols))]\n",
    "\n"
   ]
  },
  {
   "cell_type": "markdown",
   "id": "cdbf7725",
   "metadata": {},
   "source": [
    "<br>\n",
    "\n",
    "## Fitting a LASSO\n",
    "\n",
    "The **glmnet** package has two functions for fitting a LASSO: `glmnet()` and `cv.glmnet()`.\n",
    "\n",
    "* `glmnet()` fits a regularised regression model for various values of the penalty parameter, $\\lambda$.\n",
    "* `cv.glmnet()` adds a cross-validation (\"CV\") layer on top of this so helps us to select the particular value of $\\lambda$ to use - $\\lambda$ values that have lower cross-validation error values are preferred.\n",
    "\n",
    "We'll use the latter function here."
   ]
  },
  {
   "cell_type": "markdown",
   "id": "bd5084f3",
   "metadata": {},
   "source": [
    "In addition to the data and basis functions, `cv.glmnet()` has a number of parameters. These include:\n",
    "\n",
    "* `family` - the response type to use. We'll use the Poisson distribution here, but note that recent versions of the **glmnet** package have widened the options available for this parameter. At the time we did this work, the Poisson (with a log link) was the most suitable option.  \n",
    "\n",
    "* `nlambda` and `lambda.min.ratio` - control the vector of lambda values calculated by `cv.glmnet()`\n",
    "\n",
    "* `pmax` - the maximum number of variables ever to be non-zero in a model\n",
    "\n",
    "* `dfmax` - maximum number of variables in a model\n",
    "\n",
    "* `alpha` - set this to 1 for the LASSO\n",
    "\n",
    "* `thresh` - convergence parameter. Default is 1E-7\n",
    "\n",
    "* `maxit` - maximum number of interations\n",
    "\n",
    "* `nfolds` - number of cross-validation folds\n",
    "\n",
    "* `standardize` - whether to standardise the x variables (we set this to FALSE since we have done our own standardisation)."
   ]
  },
  {
   "cell_type": "markdown",
   "id": "18eefa3e",
   "metadata": {},
   "source": [
    "There's also a `parallel` argument which will use parallel processing to speed things up. This is worth using if you have a large data set and access to a multi-core machine."
   ]
  },
  {
   "cell_type": "markdown",
   "id": "9d9435f1",
   "metadata": {},
   "source": [
    "Below we fit the LASSO via `cv.glmnet()` with our selections for the parameters above.\n",
    "\n"
   ]
  },
  {
   "cell_type": "code",
   "execution_count": null,
   "id": "65e67d0c",
   "metadata": {
    "collapse": true,
    "lines_to_next_cell": 2
   },
   "outputs": [],
   "source": [
    "my_pmax <- num_periods^2   # max number of variables ever to be nonzero\n",
    "my_dfmax <- num_periods*10  #max number of vars in the model\n",
    "\n",
    "time1 <- Sys.time()\n",
    "cv_fit <- cv.glmnet(x = varset[dat$train_ind,],\n",
    "                  y = dat[train_ind==TRUE, pmts],\n",
    "                  family = \"poisson\",\n",
    "                  nlambda = 200,  # default is 100 but often not enough for this type of problem\n",
    "                  nfolds = 8,\n",
    "                  thresh = 1e-08, # default is 1e-7 but we found we needed to reduce it from time to time\n",
    "                  lambda.min.ratio = 0, # allow very small values in lambda\n",
    "                  dfmax = my_dfmax,\n",
    "                  pmax = my_pmax,\n",
    "                  alpha = 1,\n",
    "                  standardize = FALSE,\n",
    "                  maxit = 200000)  # convergence can be slow so increase max number of iterations\n",
    "print(\"time taken for cross validation fit: \")\n",
    "Sys.time() - time1\n"
   ]
  },
  {
   "cell_type": "markdown",
   "id": "4a12d022",
   "metadata": {},
   "source": [
    "`cv.glmnet` objects have a plot method associated with them which plots the CV fit:\n"
   ]
  },
  {
   "cell_type": "code",
   "execution_count": null,
   "id": "08984217",
   "metadata": {
    "lines_to_next_cell": 2
   },
   "outputs": [],
   "source": [
    "plot(cv_fit)"
   ]
  },
  {
   "cell_type": "markdown",
   "id": "d7b84612",
   "metadata": {},
   "source": [
    "Each point shows the average error across all folds, the bars show the standard deviation. The dashed lines represent the minimum CV error model (smaller $\\lambda$, called `lambda.min`) and one a standard deviation away (`lambda.1se`). These are selections commonly used by modellers. The numbers across the upper y-axis are the number of non-zero parameters in the model for that value of $\\lambda$.\n",
    "\n",
    "Occasionally, the minimum CV value is the final point in the lambda sequence. In this case you should rerun `cv.glmnet()` with a longer lambda vector - one easy way to do this is to extract the `lambda` vector from the `cv.glmnet` object, and then extend it by adding values at the end, e.g. using a decay factor. Then rerun the cross-validation fit with this longer vector (specify its use via the `lambda` function argument) and, all going well, the minimum CV error lambda will now be a true minimum, rather than the last evaluated point. The original article does something like this, if you would like to see some more details around this.\n"
   ]
  },
  {
   "cell_type": "markdown",
   "id": "92c8601c",
   "metadata": {},
   "source": [
    "## Analysing the model\n",
    "\n",
    "### Model coefficients\n",
    "\n",
    "We used the model corresponding to the minimum CV error in the paper (`lambda.min` in the `cv.glmnet` results object, `cv_fit`). First let's look at the coefficients in this model.\n",
    "\n"
   ]
  },
  {
   "cell_type": "code",
   "execution_count": null,
   "id": "eb81a86b",
   "metadata": {
    "scrolled": false
   },
   "outputs": [],
   "source": [
    "# all coefficients, including those that are 0\n",
    "coefs_min <- predict(cv_fit, type = \"coefficients\", s = cv_fit$lambda.min)  # NB this is a data.frame not a vector\n",
    "coefnames <- c(\"Intercept\", colnames(varset))  # don't forget the intercept  # coeff names - this is a vector\n",
    "\n",
    "# get indicators for non-zero ones\n",
    "ind_nz_min<-which(!(coefs_min == 0))\n",
    "\n",
    "# make a data.table for easy viewing\n",
    "nzcoefs_min <- data.table(Parameter = coefnames[ind_nz_min], Coefficient = coefs_min[ind_nz_min,])\n",
    "\n",
    "# print the table\n",
    "nzcoefs_min %>%\n",
    "    kable(digits=4, format.args = list(scientific = FALSE)) %>%\n",
    "    kable_styling(full_width=FALSE, bootstrap_options = c(\"striped\", \"hover\", \"condensed\")) %>%\n",
    "    as.character() %>%\n",
    "    display_html()\n"
   ]
  },
  {
   "cell_type": "markdown",
   "id": "7a0f1735",
   "metadata": {},
   "source": [
    "Note the interactions at the end. Are these detecting the interaction that we know is in this simulated data set? We will find out below."
   ]
  },
  {
   "cell_type": "markdown",
   "id": "4e1d50ed",
   "metadata": {},
   "source": [
    "### Tracking plots\n",
    "\n",
    "We plot the model results in a number of different ways in the paper. Below we replicate some of these plots.\n",
    "\n",
    "First, we add the fitted values to the data.table."
   ]
  },
  {
   "cell_type": "code",
   "execution_count": null,
   "id": "9374a691",
   "metadata": {
    "lines_to_next_cell": 0
   },
   "outputs": [],
   "source": [
    "dat[, fitted := as.vector(predict(cv_fit,\n",
    "                                  newx = varset,\n",
    "                                  s = cv_fit$lambda.min,\n",
    "                                  type=\"response\"))]"
   ]
  },
  {
   "cell_type": "markdown",
   "id": "86efcddc",
   "metadata": {},
   "source": []
  },
  {
   "cell_type": "markdown",
   "id": "53ddf0d4",
   "metadata": {},
   "source": [
    "The function below produces the tracking graphs shown in the paper - plot values for all levels of one fundamental predictor holding a second predictor at a fixed value. To help with interpreting the results, it also shades the past part of the data in grey.\n",
    "\n"
   ]
  },
  {
   "cell_type": "code",
   "execution_count": null,
   "id": "77d981e3",
   "metadata": {
    "lines_to_next_cell": 0
   },
   "outputs": [],
   "source": [
    "\n",
    "\n",
    "GraphModelVals<-function(dat, primary_predictor, secondary_predictor, secondary_predictor_val,\n",
    "                         xaxis_label, yaxis_label, var_names, log_values = TRUE,\n",
    "                         include_st=FALSE, include_legend=FALSE, font_size=6){\n",
    "\n",
    "  # dat = input data. Must be in wide format\n",
    "  # primary_predictor = plot values for this predictor\n",
    "  # secondary_predictor = hold this predictor fixed\n",
    "  # secondary_predictor_val = value to hold secondary_predictor fixed at\n",
    "  # xaxis_label = label for x axis\n",
    "  # yaxis_label = label for y axis\n",
    "  # var_names = names of actual / fitted variables in the input data to plot.     \n",
    "  #    var_names must be list with names like this: list(actual=\"pmts\", mean=\"mu\", fitted=\"fitted\")\n",
    "  # log_values = plot log(values) - default = TRUE\n",
    "  # include_st = include a subtitle in the plot saying the grey rectangle is past data, default=FALSE    \n",
    "  # include_legend = include the legend in the plot, default=FALSE    \n",
    "  # font_size = size of font, default = 6\n",
    "  # (these last 3 variables + default values might seem odd - this function is used in a later article\n",
    "  #    and the defaults are sensible in that context)    \n",
    "\n",
    "\n",
    "  # extract data we want to use\n",
    "  use_dat <- dat[get(secondary_predictor) == secondary_predictor_val, ]\n",
    "\n",
    "  # turn into long format (tidy format in this case) using melt.data.table since that works better with ggplot\n",
    "  dat_long <- melt(dat[get(secondary_predictor) == secondary_predictor_val, ],\n",
    "                   measure.vars = unlist(var_names),\n",
    "                   id.vars = primary_predictor)\n",
    "\n",
    "  # make the names nicer - colnames and labels\n",
    "  setnames(dat_long, primary_predictor, \"predictor\")\n",
    "\n",
    "  dat_long[variable == var_names$actual, variable := \"Simulated\"\n",
    "           ][variable == var_names$mean, variable := \"Underlying\"\n",
    "             ][variable == var_names$fitted, variable := \"Fitted\"]\n",
    "\n",
    "  # get the levels of the variables right so that they are plotted in the right order\n",
    "  dat_long[, variable := factor(variable, levels=c(\"Fitted\", \"Simulated\", \"Underlying\"))]\n",
    "\n",
    "\n",
    "  if (log_values) dat_long[, value := log(value)]\n",
    "\n",
    "  # figure out past data rectangle coordinates\n",
    "  xmin1 <- use_dat[train_ind == TRUE, min(get(primary_predictor))]\n",
    "  xmax1 <- use_dat[train_ind == TRUE, max(get(primary_predictor))]\n",
    "\n",
    "  ymin1 <- dat_long[, min(value)]*0.95\n",
    "  ymax1 <- dat_long[, max(value)]*1.05\n",
    "\n",
    "\n",
    "  # draw the tracking plots\n",
    "  g <- ggplot(data=dat_long, aes(x=predictor, y=value, group=variable))+\n",
    "    geom_line(aes(linetype=variable, colour=variable, size=variable, alpha=variable))+\n",
    "    geom_line(aes(linetype=variable, colour=variable))+\n",
    "    scale_colour_manual(name=\"\", values=c(red, dgrey, dgrey))+\n",
    "    scale_linetype_manual(name=\"\", values=c(\"solid\", \"solid\", \"dotted\"))+\n",
    "    scale_size_manual(name=\"\", values=c(2,1,1))+\n",
    "    scale_alpha_manual(name=\"\", values=c(0.8, 0.5, 0.5))+\n",
    "    theme_classic()+\n",
    "    annotate(geom=\"rect\", xmin=xmin1, xmax=xmax1, ymin=ymin1, ymax=ymax1, alpha=0.1)+\n",
    "    labs(x=xaxis_label, y=yaxis_label, title=paste(xaxis_label, \"tracking for\", secondary_predictor, \"=\", secondary_predictor_val)) +\n",
    "    theme(axis.title = element_text(size = font_size), axis.text = element_text(size = font_size-1))\n",
    "\n",
    "  if(include_st==TRUE) g <- g + labs(subtitle=\"Past data in grey rectangle\") + theme(plot.subtitle = element_text (size = font_size))\n",
    "\n",
    "  g <- if(include_legend==TRUE) g + theme(legend.position=\"bottom\") else g + theme(legend.position = \"none\")\n",
    "\n",
    "\n",
    "\n",
    "  # return the results  \n",
    "  invisible(list(data=dat_long, graph=g))\n",
    "}\n",
    "\n"
   ]
  },
  {
   "cell_type": "markdown",
   "id": "d3101507",
   "metadata": {},
   "source": []
  },
  {
   "cell_type": "markdown",
   "id": "73786ddc",
   "metadata": {},
   "source": [
    "Now let's look at development quarter when accident quarter is 20. Remember the step-interaction starts at dev=21 - which we see in the graph.\n",
    "\n"
   ]
  },
  {
   "cell_type": "code",
   "execution_count": null,
   "id": "c071f7d8",
   "metadata": {},
   "outputs": [],
   "source": [
    "dev_graph_list <- GraphModelVals(dat,\n",
    "                                 primary_predictor = \"dev\",\n",
    "                                 secondary_predictor = \"acc\",\n",
    "                                 secondary_predictor_val = 20,\n",
    "                                 xaxis_label = \"Development quarter\",\n",
    "                                 yaxis_label = \"Log(Payments)\",\n",
    "                                 var_names = list(actual=\"pmts\", mean=\"mu\", fitted=\"fitted\"),\n",
    "                                 include_st = TRUE,\n",
    "                                 include_legend = TRUE,\n",
    "                                 font_size = 10)\n",
    "\n",
    "dev_graph_list$graph"
   ]
  },
  {
   "cell_type": "markdown",
   "id": "3cade07c",
   "metadata": {},
   "source": [
    "Similarly we can look at accident quarter tracking when development quarter is 24 and again see the interaction.\n"
   ]
  },
  {
   "cell_type": "code",
   "execution_count": null,
   "id": "91fa6ac6",
   "metadata": {},
   "outputs": [],
   "source": [
    "acc_graph_list <- GraphModelVals(dat,\n",
    "                                 primary_predictor = \"acc\",\n",
    "                                 secondary_predictor = \"dev\",\n",
    "                                 secondary_predictor_val = 24,\n",
    "                                 xaxis_label = \"Accident quarter\",\n",
    "                                 yaxis_label = \"Log(Payments)\",\n",
    "                                 var_names = list(actual=\"pmts\", mean=\"mu\", fitted=\"fitted\"),\n",
    "                                 include_st = TRUE,\n",
    "                                 include_legend = TRUE,\n",
    "                                 font_size = 10)\n",
    "acc_graph_list$graph"
   ]
  },
  {
   "cell_type": "markdown",
   "id": "4d2809a6",
   "metadata": {},
   "source": [
    "You can explore other combinations of `primary_predictor`, `secondary_predictor` and `secondary_predictor_val` to see how the models track the past and future experience in other parts of the triangle\n"
   ]
  },
  {
   "cell_type": "markdown",
   "id": "fda8701b",
   "metadata": {},
   "source": [
    "### Heat map\n",
    "\n",
    "Plotting colour-coded actual/fitted values can be a useful way of looking at the model fit. The function below plots these values (subject to lower and upper bounds of 25% and 400%) and shades them with blue values being less than 100% and red values being greater than 100%. The darker the shading, the further from 100%.\n",
    "\n",
    "The function below will draw the heatmap."
   ]
  },
  {
   "cell_type": "code",
   "execution_count": null,
   "id": "5a0f1e8f",
   "metadata": {
    "lines_to_next_cell": 0
   },
   "outputs": [],
   "source": [
    "\n",
    "# heat maps\n",
    "\n",
    "GraphHeatMap <- function(dat, x=\"dev\", y=\"acc\", actual, fitted, lims=c(0.25, 4),\n",
    "                         xlab=\"Development quarter\", ylab=\"Accident Quarter\"){\n",
    "\n",
    "  # copy data to avoid modifying original\n",
    "  localdat <- copy(dat)\n",
    "\n",
    "  # get fails if there is a variable with the same name so make local copies\n",
    "  local_x <- x\n",
    "  local_y <- y\n",
    "  local_actual <- actual\n",
    "  local_fitted <- fitted\n",
    "\n",
    "  # make restricted Avs F for heatmap and set up past/future split line\n",
    "  np <- max(localdat[[y]])\n",
    "\n",
    "  localdat[, .avsf := get(local_actual) / get(local_fitted)\n",
    "           ][, .avsf_restrict_log := log(pmax(min(lims), pmin(max(lims), .avsf)))\n",
    "             ][, .past_line := np + 1 - get(local_y)]\n",
    "\n",
    "\n",
    "  g <- ggplot(data=localdat, aes_string(x=local_x, y=local_y)) +\n",
    "    geom_tile(aes(fill = .avsf_restrict_log))+scale_y_reverse()+\n",
    "    theme_classic()+\n",
    "    scale_fill_gradient2(name=\"AvF_min\", low=mblue, mid=\"white\", high=red, midpoint=0,\n",
    "                         space=\"Lab\", na.value=lgrey, guide=\"colourbar\")+\n",
    "    labs(x=xlab, y=ylab)+\n",
    "    geom_line(aes_string(x=\".past_line\", y=local_y), colour=dgrey, size=2)+\n",
    "    theme(strip.text = element_text(size=8,colour=dgrey),\n",
    "          strip.background = element_rect(colour=\"white\", fill=\"white\"))+\n",
    "    theme(axis.title.x = element_text(size=10), axis.text.x  = element_text(size=10))+\n",
    "    theme(axis.title.y = element_text(size=10), axis.text.y  = element_text(size=10))+\n",
    "    theme(element_line(size=0.25, colour=dgrey))+\n",
    "    theme(legend.position=\"none\", )+  \n",
    "    NULL    \n",
    "\n",
    "\n",
    "  invisible(list(data=localdat, graph=g))\n",
    "\n",
    "\n",
    "}\n"
   ]
  },
  {
   "cell_type": "markdown",
   "id": "fe25a151",
   "metadata": {},
   "source": [
    "\n"
   ]
  },
  {
   "cell_type": "code",
   "execution_count": null,
   "id": "1c40f9ae",
   "metadata": {
    "fig.height": 5,
    "lines_to_next_cell": 2
   },
   "outputs": [],
   "source": [
    "\n",
    "g <- GraphHeatMap(dat, x=\"dev\", y=\"acc\", actual=\"pmts\", fitted=\"fitted\")\n",
    "g$graph\n"
   ]
  },
  {
   "cell_type": "markdown",
   "id": "9b5bd88f",
   "metadata": {},
   "source": [
    "You should, of course, carry out a full model validation exercise on any model prior to use. These plots may be helpful tools in this.\n"
   ]
  },
  {
   "cell_type": "markdown",
   "id": "f281bdec",
   "metadata": {},
   "source": [
    "## Claims reserves\n",
    "\n",
    "Finally, let's have a look at the claim reserve estimates and compare them to those from an 8-period chain ladder.\n",
    "\n",
    "The code below uses data.table functionality to sum up the reserves by accident period and overall."
   ]
  },
  {
   "cell_type": "code",
   "execution_count": null,
   "id": "a6dddc49",
   "metadata": {
    "lines_to_next_cell": 2
   },
   "outputs": [],
   "source": [
    "\n",
    "os_acc <- dat[train_ind == FALSE,\n",
    "              .(LASSO = sum(fitted), simulated = sum(pmts), underlying = sum(mu)),\n",
    "              keyby=.(acc)]\n",
    "\n",
    "os <- os_acc[, .(LASSO = sum(LASSO),\n",
    "                 simulated = sum(simulated),\n",
    "                 underlying = sum(underlying))]\n"
   ]
  },
  {
   "cell_type": "markdown",
   "id": "28e9f081",
   "metadata": {},
   "source": [
    "### Chainladder reserves\n",
    "\n",
    "In the paper we compared some of our results to the 8-period Chainladder reserve.\n",
    "This is calculated below.\n"
   ]
  },
  {
   "cell_type": "code",
   "execution_count": null,
   "id": "9dea189d",
   "metadata": {
    "lines_to_next_cell": 2
   },
   "outputs": [],
   "source": [
    "# get cumulative payments to make it easier to calculate CL factors\n",
    "dat[, cumpmts := cumsum(pmts), by=.(acc)][train_ind==FALSE, cumpmts := NA]\n",
    "\n",
    "# 8-period average\n",
    "cl_fac <- numeric(num_periods-1) # hold CL factors\n",
    "\n",
    "for (j in 1:num_periods-1){\n",
    "\n",
    "  cl_fac[j] <-\n",
    "      dat[train_ind==TRUE & dev == (j+1) & acc > (num_periods-8-j) & acc <= (num_periods-j), sum(cumpmts)] /\n",
    "      dat[train_ind==TRUE & dev == (j) & acc > (num_periods-8-j) & acc <= (num_periods-j), sum(cumpmts)]\n",
    "}\n",
    "\n",
    "# accumulate the CL factors\n",
    "cl_cum <- cumprod(rev(cl_fac))\n",
    "\n",
    "# leading diagonal for projection\n",
    "leading_diagonal <- dat[train_ind==TRUE & cal == num_periods & acc > 1, cumpmts]\n",
    "\n",
    "# CL amounts now\n",
    "cl_os <- cl_cum * leading_diagonal - leading_diagonal\n",
    "\n"
   ]
  },
  {
   "cell_type": "markdown",
   "id": "6a735f5a",
   "metadata": {},
   "source": [
    "We will attach these results to the data.tables holding the results from the LASSO.\n"
   ]
  },
  {
   "cell_type": "code",
   "execution_count": null,
   "id": "3eecd737",
   "metadata": {
    "lines_to_next_cell": 2
   },
   "outputs": [],
   "source": [
    "\n",
    "os_acc[, Chainladder := cl_os]\n",
    "\n",
    "os[, Chainladder := sum(cl_os)]"
   ]
  },
  {
   "cell_type": "markdown",
   "id": "ae28c8bc",
   "metadata": {},
   "source": [
    "### Results by accident period\n",
    "\n",
    "Here's a plot of the results (similar to that in the paper). Note that the y-axis is restricted for readability so that the actual chain ladder value (488 Bn) for accident period 40 does not display on the graph.\n"
   ]
  },
  {
   "cell_type": "code",
   "execution_count": null,
   "id": "0e63fc06",
   "metadata": {},
   "outputs": [],
   "source": [
    "\n",
    "# make a long [tidy format] version of the data for use with ggplot2\n",
    "os_acc_long <- melt(os_acc, id.vars = \"acc\")\n",
    "\n",
    "# divide by Bn to make numbers more readable\n",
    "os_acc_long[, value := value/1e9]\n",
    "\n",
    "os_plot <-\n",
    "\tggplot(data=os_acc_long, aes(x=acc, y=value, colour=variable,\n",
    "\t                             linetype=variable, size=variable, alpha=variable))+\n",
    "\tgeom_line()+\n",
    " \tscale_linetype_manual(name=\"\", values=c(\"solid\", \"dashed\", \"dotted\", \"solid\" ))+\n",
    " \tscale_colour_manual(name=\"\", values=c(red, dgrey, dgrey, mblue ))+\n",
    "    scale_size_manual(name=\"\", values=c(2, 1, 1, 1.5))+\n",
    "    scale_alpha_manual(name=\"\", values=c(0.8, 0.5, 0.5, 0.8))+\n",
    "    coord_cartesian(ylim=c(0, 40))+\n",
    "\ttheme_classic()+\n",
    "\ttheme(legend.position=\"bottom\", legend.title=element_blank())+\n",
    " \tlabs(x=\"Accident quarter\", y=\"Amount (B)\")+\n",
    "    annotate(geom=\"text\", x=37, y=40, label=\"488B->\")+\n",
    "    ggtitle(\"Outstanding amounts\")\n",
    "\n",
    "os_plot"
   ]
  },
  {
   "cell_type": "markdown",
   "id": "36544404",
   "metadata": {},
   "source": [
    "You can see from the graph that - despite the presence of an interaction affecting only a small number of cells, the LASSO model detects and responds appropriately to this change. By contrast, the chainladder model does not perform so well.\n",
    "\n",
    "The table below displays these results also."
   ]
  },
  {
   "cell_type": "code",
   "execution_count": null,
   "id": "8f0fbbd5",
   "metadata": {
    "lines_to_next_cell": 2
   },
   "outputs": [],
   "source": [
    "os_acc[, lapply(.SD, function(x) x/1e9)][, acc := acc*1e9] %>%\n",
    "    kable(digits=2, format.args = list(big.mark = \",\", scientific = FALSE)) %>%\n",
    "    kable_styling(full_width=FALSE, bootstrap_options = c(\"striped\", \"hover\", \"condensed\")) %>%\n",
    "    as.character() %>%\n",
    "    display_html()\n"
   ]
  },
  {
   "cell_type": "markdown",
   "id": "fbe71f2c",
   "metadata": {},
   "source": [
    "### Total reserves"
   ]
  },
  {
   "cell_type": "markdown",
   "id": "8f0e715e",
   "metadata": {},
   "source": [
    "The overall reserve values (in units of B) are"
   ]
  },
  {
   "cell_type": "code",
   "execution_count": null,
   "id": "587f52e1",
   "metadata": {
    "lines_to_next_cell": 0
   },
   "outputs": [],
   "source": [
    "\n",
    "os[, lapply(.SD, function(x) x/1e9)] %>%\n",
    "    kable(digits=1, format.args = list(big.mark = \",\", scientific = FALSE)) %>%\n",
    "    kable_styling(full_width=FALSE, bootstrap_options = c(\"striped\", \"hover\", \"condensed\"))  %>%\n",
    "    as.character() %>%\n",
    "    display_html()\n",
    "\n"
   ]
  },
  {
   "cell_type": "markdown",
   "id": "ecfea430",
   "metadata": {},
   "source": [
    "### Commentary\n",
    "\n",
    "In practice, no actuary would fit the 8-period chainladder (or any other estimating period) without significant review and likely modification based on actuarial judgement. So in an example like this, the gains from a method like the LASSO will not be as large as suggested by the results above. Furthermore, the large step change in this data set would likely result from something like a legislative change that the actuary should know about and be able to estimate its effect and then incorporate this into any projection.\n",
    "\n",
    "Nonetheless, there is benefit from the raw or naive model projection being closer to what we might want to project and in that sense, the LASSO model clearly outperforms the chainladder."
   ]
  },
  {
   "cell_type": "markdown",
   "id": "141ca854",
   "metadata": {},
   "source": [
    "# Conclusion\n",
    "\n",
    "The aim of this article has been to demonstrate the fitting of a claims reserving model using a LASSO approach in R and to produce some of the model diagnostic and results output that a user might wish to examine. If you would like to experiment some more, you could try modifying the synthetic data set code to produce other types of simulated data (such as those in our paper), or try it out on a real data example.  "
   ]
  },
  {
   "cell_type": "markdown",
   "id": "99a0ee32",
   "metadata": {},
   "source": [
    "# Session information\n",
    "\n",
    "To assist with reproducibility, here are the details of R session used to run the code.\n"
   ]
  },
  {
   "cell_type": "code",
   "execution_count": null,
   "id": "45f4cc44",
   "metadata": {},
   "outputs": [],
   "source": [
    "sessionInfo()"
   ]
  }
 ],
 "metadata": {
  "jupytext": {
   "cell_metadata_filter": "tags,fig.height,warning,message,collapse,-all",
   "formats": "Rmd,ipynb",
   "notebook_metadata_filter": "-all"
  },
  "kernelspec": {
   "display_name": "R",
   "language": "R",
   "name": "ir"
  },
  "language_info": {
   "codemirror_mode": "r",
   "file_extension": ".r",
   "mimetype": "text/x-r-source",
   "name": "R",
   "pygments_lexer": "r",
   "version": "4.1.0"
  }
 },
 "nbformat": 4,
 "nbformat_minor": 5
}
