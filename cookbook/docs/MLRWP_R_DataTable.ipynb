{
 "cells": [
  {
   "cell_type": "raw",
   "id": "4f7bb56c",
   "metadata": {},
   "source": [
    "---\n",
    "title: \"R's data.table - a useful package for actuaries\"\n",
    "date: \"2020-10-19T16:00:00Z\"\n",
    "slug: datatable\n",
    "authors: \n",
    "  - gmcguire\n",
    "tags: [\"foundations\", \"R\", \"data\"]\n",
    "\n",
    "---"
   ]
  },
  {
   "cell_type": "markdown",
   "id": "21f7fabb",
   "metadata": {},
   "source": [
    "*This is the second of two articles that discusses packages in R that are useful for data manipulation.*\n",
    "*The [first article](/mlr-blog/post/tidyverse/) covers the tidyverse ecosystem of packages.*\n"
   ]
  },
  {
   "cell_type": "code",
   "execution_count": 1,
   "id": "eda86f12",
   "metadata": {
    "lines_to_next_cell": 2,
    "name": "setup",
    "tags": [
     "remove_cell"
    ]
   },
   "outputs": [],
   "source": [
    "knitr::opts_chunk$set(echo = TRUE)"
   ]
  },
  {
   "cell_type": "markdown",
   "id": "0c05e6ed",
   "metadata": {},
   "source": [
    "# data.table for actuaries (R)\n",
    "## What is data.table?\n",
    "\n",
    "`data.table` is a package for carrying out data manipulations in R of tabular data. This includes:\n",
    "\n",
    "* adding and removing columns in a data set\n",
    "* filtering columns \n",
    "* sorting data\n",
    "* joining different data sources\n",
    "* rolling joins\n",
    "* summarising data\n",
    "\n",
    "Tabular structure includes columns of data where that data column is actually a list (unsurprisingly, called a list column). \n",
    "This greatly increases what you can do with your data.\n",
    "Essentially, if you need to do any type of data manipulation, you can probably do it with `data.table`."
   ]
  },
  {
   "cell_type": "markdown",
   "id": "1fa90ff0",
   "metadata": {},
   "source": [
    "## Why use data.table?\n",
    "\n",
    "There are a number of reasons for choosing `data.table`:\n",
    "\n",
    "* It is very fast and memory efficient, even for large data sets\n",
    "* Actively maintained and used by many people\n",
    "* No dependencies other than baseR\n",
    "* Flexible\n",
    "* Concise syntax\n",
    "\n",
    "Of course, there are other options for manipulating data. \n",
    "Popular choices include dplyr from the tidyverse suite, SQL software, or even just the tools in baseR. \n",
    "In this post we will focus on `data.table`.\n",
    "\n",
    "## Now for the details\n",
    "\n",
    "### data.table is fast\n",
    "\n",
    "`data.table` is much faster than dplyr or baseR for data manipulation tasks and can handle larger datasets.\n",
    "All development of data.table is done with speed in mind. It uses a number of tricks to produce better performance:\n",
    "\n",
    "* Adding or removing columns from a data.table are done by reference or modifying in place, rather than by copying the entire table to a new location in memory.\n",
    "* A data.table may have a key - once the key is created, extracting subgroups or joining tables by that key are extremely quick. Similarly, secondary indices allow fast access for other variables.\n",
    "* `data.table` supplies a number of optimised functions - e.g. `fread()` and `fwrite()` to read/write CSV files, `fifelse()`, `fcoalesce()`. `fread()` and `fwrite()` are so fast that there are many people who use the `data.table` package solely to access these functions.\n",
    "    \n",
    "Some benchmarks for data manipulation are maintained at https://h2oai.github.io/db-benchmark/. \n",
    "Timings are given for datasets of different sizes - as data sets get larger, `data.table` really shines. \n",
    "Google data.table performance and you will find this message repeated in many places.\n",
    "\n",
    "Machine learning and large amounts of data often go hand-in-hand. \n",
    "So if you are doing your data manipulation in R, and have large amounts of data, you should strongly consider using `data.table`.\n",
    "\n",
    "Similarly, if a lot of your work involves programming with large amounts of data, or where speed and memory optimisation is important, then `data.table` has a lot to offer."
   ]
  },
  {
   "cell_type": "markdown",
   "id": "db046ddd",
   "metadata": {},
   "source": [
    "### data.table is actively maintained\n",
    "\n",
    "In the open source world, it is important to consider carefully the packages you are using before selecting a tool for repeat use. \n",
    "\n",
    "* Are they actively maintained? \n",
    "* Are bugs quickly fixed?\n",
    "* Are new features regularly added?\n",
    "* Are lots of people using the package to find the bugs / missing features?\n",
    "\n",
    "`data.table` is a very popular package and is regularly maintained."
   ]
  },
  {
   "cell_type": "markdown",
   "id": "a4ac0f67",
   "metadata": {},
   "source": [
    "### data.table has no dependencies\n",
    "\n",
    "Strictly speaking, it has no dependencies other than baseR, with a policy to make the dependency on baseR as old as possible for as long as possible.\n",
    "For example, the current release of data.table (V1.31.1 as at October 2020) will still work with R v3.1.0 which was released in April 2014.\n",
    "This leads to a more stable product - code that you write now to manipulate data will most likely still work in 2 or 3 years time - and you won't have to update 20 different packages before running that code either.\n",
    "\n"
   ]
  },
  {
   "cell_type": "markdown",
   "id": "6694de96",
   "metadata": {},
   "source": [
    "### data.table is flexible\n",
    "\n",
    "As noted above, `data.table` contains a full suite of data manipulation tools.\n",
    "Furthermore, a data.table is also a data.frame so any data.frame code will work on a data.table. \n",
    "So you lose nothing, but gain a lot."
   ]
  },
  {
   "cell_type": "markdown",
   "id": "9015b971",
   "metadata": {},
   "source": [
    "### Concise syntax\n",
    "\n",
    "`data.table` syntax is very concise and minimalist. \n",
    "Whether this is a pro or con is subjective - this will appeal to some but the steep learning curve will be off-putting for others.\n",
    "Speaking for myself, verbose code such as `dplyr` or SQL or SAS make my head and fingers hurt(!) - terse data.table code is much more appealing to me.\n",
    "It's fast to read and fast to type. However, the functions in `dplyr` are more transparent to newcomers.\n",
    "\n",
    "For those new to `data.table`, there are plenty of online resources to draw on. In my experience, I've managed to find example code for many complex data manipulation jobs on StackOverflow; the difficult part has been coming up with the appropriate search phrase.\n",
    "\n",
    "As an example of the syntax, the code below:\n",
    "\n",
    "* extracts the subset of the iris data where Sepal.Length < 6\n",
    "* groups the data by Species\n",
    "* calculates the number and the mean of the Sepal.Width and Petal.Length in each group and assigns column names to these summary statistics"
   ]
  },
  {
   "cell_type": "code",
   "execution_count": 2,
   "id": "ea64de7a",
   "metadata": {},
   "outputs": [
    {
     "data": {
      "text/html": [
       "<table class=\"dataframe\">\n",
       "<caption>A data.table: 3 × 4</caption>\n",
       "<thead>\n",
       "\t<tr><th scope=col>Species</th><th scope=col>num</th><th scope=col>mean_sepal_width</th><th scope=col>mean_petal_length</th></tr>\n",
       "\t<tr><th scope=col>&lt;fct&gt;</th><th scope=col>&lt;int&gt;</th><th scope=col>&lt;dbl&gt;</th><th scope=col>&lt;dbl&gt;</th></tr>\n",
       "</thead>\n",
       "<tbody>\n",
       "\t<tr><td>setosa    </td><td>50</td><td>3.428000</td><td>1.462000</td></tr>\n",
       "\t<tr><td>versicolor</td><td>26</td><td>2.673077</td><td>3.969231</td></tr>\n",
       "\t<tr><td>virginica </td><td> 7</td><td>2.714286</td><td>4.971429</td></tr>\n",
       "</tbody>\n",
       "</table>\n"
      ],
      "text/latex": [
       "A data.table: 3 × 4\n",
       "\\begin{tabular}{llll}\n",
       " Species & num & mean\\_sepal\\_width & mean\\_petal\\_length\\\\\n",
       " <fct> & <int> & <dbl> & <dbl>\\\\\n",
       "\\hline\n",
       "\t setosa     & 50 & 3.428000 & 1.462000\\\\\n",
       "\t versicolor & 26 & 2.673077 & 3.969231\\\\\n",
       "\t virginica  &  7 & 2.714286 & 4.971429\\\\\n",
       "\\end{tabular}\n"
      ],
      "text/markdown": [
       "\n",
       "A data.table: 3 × 4\n",
       "\n",
       "| Species &lt;fct&gt; | num &lt;int&gt; | mean_sepal_width &lt;dbl&gt; | mean_petal_length &lt;dbl&gt; |\n",
       "|---|---|---|---|\n",
       "| setosa     | 50 | 3.428000 | 1.462000 |\n",
       "| versicolor | 26 | 2.673077 | 3.969231 |\n",
       "| virginica  |  7 | 2.714286 | 4.971429 |\n",
       "\n"
      ],
      "text/plain": [
       "  Species    num mean_sepal_width mean_petal_length\n",
       "1 setosa     50  3.428000         1.462000         \n",
       "2 versicolor 26  2.673077         3.969231         \n",
       "3 virginica   7  2.714286         4.971429         "
      ]
     },
     "metadata": {},
     "output_type": "display_data"
    }
   ],
   "source": [
    "# setup\n",
    "library(data.table)\n",
    "\n",
    "data(iris)\n",
    "setDT(iris)    # make iris a data.table\n",
    "\n",
    "# now do the data manipulation operations\n",
    "iris[Sepal.Length < 6.0, \n",
    "     .(num=.N, \n",
    "       mean_sepal_width = mean(Sepal.Width), \n",
    "       mean_petal_length = mean(Petal.Length)), \n",
    "     keyby=.(Species)]\n"
   ]
  },
  {
   "cell_type": "markdown",
   "id": "8b8f18c9",
   "metadata": {},
   "source": [
    "<br>"
   ]
  },
  {
   "cell_type": "markdown",
   "id": "e1503351",
   "metadata": {},
   "source": [
    "## Conclusion\n",
    "\n",
    "If you or your team use R, then you should consider having `data.table` in your toolkit, particularly if:\n",
    "\n",
    "* you work with large data sets in R\n",
    "* you need fast, efficient code\n",
    "* You need to optimise your use of RAM\n",
    "* you are writing packages, software or repeatable tasks and want to minimise your dependencies for more robust and easier to maintain code.\n",
    "* you want shorter code\n",
    "\n"
   ]
  },
  {
   "cell_type": "markdown",
   "id": "f77a72cc",
   "metadata": {},
   "source": [
    "## Resources to learn data.table\n",
    "\n",
    "The obvious place to start is with the package itself and its help documentation (links below), but there are many additional on-line resources to learn data.table. "
   ]
  },
  {
   "cell_type": "markdown",
   "id": "828d18d9",
   "metadata": {},
   "source": [
    "* [Package home on github](https://github.com/Rdatatable/data.table) including news, updates, a brief guide and a cheat sheet.\n",
    "\n",
    "* [CRAN home with links to vignettes](https://cran.r-project.org/web/packages/data.table/index.html). \n",
    "   Vignettes also available in R via `browseVignettes(package=\"data.table\")` after you have installed the package.\n",
    "   There are currently 9 of these covering a wide range of topics.\n",
    "   \n",
    "* If you are more comfortable with `dplyr` code and don't mind the dependencies, then [dtplyr](https://cran.r-project.org/web/packages/dtplyr/index.html) provides a `data.table` backend to `dplyr`.   \n",
    "   "
   ]
  }
 ],
 "metadata": {
  "jupytext": {
   "cell_metadata_filter": "name,tags,-all",
   "formats": "Rmd,ipynb",
   "notebook_metadata_filter": "-all"
  },
  "kernelspec": {
   "display_name": "R",
   "language": "R",
   "name": "ir"
  },
  "language_info": {
   "codemirror_mode": "r",
   "file_extension": ".r",
   "mimetype": "text/x-r-source",
   "name": "R",
   "pygments_lexer": "r",
   "version": "4.1.0"
  }
 },
 "nbformat": 4,
 "nbformat_minor": 5
}
