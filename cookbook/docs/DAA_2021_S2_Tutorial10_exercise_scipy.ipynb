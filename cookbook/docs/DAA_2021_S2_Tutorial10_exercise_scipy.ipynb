{
 "cells": [
  {
   "cell_type": "markdown",
   "metadata": {
    "id": "aWgDIQjDJo4X"
   },
   "source": [
    "# Py: Linear Programming\n",
    "**This notebook was originally created by Amanda Aitken for the Data Analytics Applications subject, as *Tutorial 10 exercise - linear programming in Python* in the *DAA M08 Business optimisation* module.**\n",
    "\n",
    "**Data Analytics Applications is a Fellowship Applications (Module 3) subject with the Actuaries Institute that aims to teach students how to apply a range of data analytics skills, such as neural networks, natural language processing, unsupervised learning and optimisation techniques, together with their professional judgement, to solve a variety of complex and challenging business problems. The business problems used as examples in this subject are drawn from a wide range of industries.**\n",
    "\n",
    "**Find out more about the course [here](https://www.actuaries.asn.au/education-program/fellowship/subjects-and-syllabus/data-analytics-applications-subject).**\n",
    "\n",
    "### Scenario\n",
    "Best Toy is a toy maker that owns three warehouses in different locations. Best Toy only produces one type of toy.\n",
    "\n",
    "Best Toy supplies four major toy retailers. Each quarter, the toy retailers submit orders to Best Toy to be delivered weekly.\n",
    "\n",
    "Best Toy incurs the following costs:\n",
    "\n",
    " * costs to produce each toy—this cost varies by warehouse and by retailer (each retailer has slightly different specifications for their version of the toy); and\n",
    " * costs to deliver each toy—this cost varies by the distance between the warehouse and the retailer.\n",
    "\n",
    "Each of Best Toy’s warehouses has a maximum production capacity. Assume that all warehouses are open and no additional costs are incurred.\n",
    "\n",
    "Best Toy must fulfil the orders from each retailer.\n",
    "\n",
    "Best Toy wishes to determine how many toys to produce at each of its warehouses for each retailer to optimise its costs. Let:\n",
    " * $w_{i}$ denote each warehouse, where $i∈{1,2,3}$;\n",
    " * $r_{j}$ denote each retailer, where $j∈{1,2,3,4}$;\n",
    " * $p_{i,j}$ denote the cost of producing one toy by warehouse $i (w_{i})$ for retailer $j (r_{j})$;\n",
    " * $d_{i,j}$ denote the cost of delivering one toy from warehouse $i (w_{i})$ to retailer $j (r_{j})$;\n",
    " * $q_{i,j}$ denote the quantity of toys produced by warehouse $i (w_{i})$ for retailer $j (r_{j})$;\n",
    " * $D_{j}$ denote the quantity of toys ordered by retailer $j (r_{j})$; and\n",
    " * $W_{i}$ denote the production capacity of warehouse $i (w_{i})$. "
   ]
  },
  {
   "cell_type": "markdown",
   "metadata": {},
   "source": [
    "![image.png](../_static/daa/optim_problem.png)"
   ]
  },
  {
   "cell_type": "markdown",
   "metadata": {
    "id": "aWgDIQjDJo4X"
   },
   "source": [
    "This notebook uses the following data and the scipy.optimize package (this video might help: https://www.youtube.com/watch?v=cXHvC_FGx24) to find an optimal solution to the warehouse supply management problem outlined above."
   ]
  },
  {
   "cell_type": "markdown",
   "metadata": {
    "id": "q3fiRJ7turGo"
   },
   "source": [
    "## Packages\n",
    "This section installs packages that will be required for this exercise/case study."
   ]
  },
  {
   "cell_type": "code",
   "execution_count": 1,
   "metadata": {
    "id": "O63vSpE7WXNQ"
   },
   "outputs": [],
   "source": [
    "import numpy as np\n",
    "from scipy.optimize import minimize\n",
    "\n",
    "# To make the output of numpy arrays in this notebook easier to read,\n",
    "# the line of code below specifies that integers and floats in numpy arrays\n",
    "# should be printed with a comma to indicate place value,\n",
    "# with 0 decimal places for floats, and\n",
    "# with the automatic conversion of small numbers to scientific notation suppressed. \n",
    "np.set_printoptions(formatter={'int':'{:,}'.format,'float':'{:,.0f}'.format},\n",
    "                    suppress=True)"
   ]
  },
  {
   "cell_type": "markdown",
   "metadata": {
    "id": "Hhu9ZyMvu6q_"
   },
   "source": [
    "## Variables\n",
    "This section sets out the variables that will be referenced in the optimisation problem."
   ]
  },
  {
   "cell_type": "code",
   "execution_count": 2,
   "metadata": {
    "id": "h9R_eUIbIM2q"
   },
   "outputs": [],
   "source": [
    "# Create a range object for the warehouses to make it easier to iterate over them.\n",
    "warehouses_total = 3\n",
    "warehouses = range(warehouses_total)\n",
    "\n",
    "# Create a range object for the retailers to make it easier to iterate over them.\n",
    "retailers_total = 4\n",
    "retailers = range(retailers_total)"
   ]
  },
  {
   "cell_type": "code",
   "execution_count": 3,
   "metadata": {
    "id": "Fah2FVyPJW5K"
   },
   "outputs": [],
   "source": [
    "# Create the cost variables that have fixed values.\n",
    "# The costs in this variable reflect both production and delivery costs\n",
    "# for each warehouse/retailer combination.\n",
    "costs = [[0.5,1,0.35,0.9],\n",
    "        [0.7,0.89,0.45,1.3],\n",
    "        [1.2,0.5,0.8,0.95]]"
   ]
  },
  {
   "cell_type": "code",
   "execution_count": 4,
   "metadata": {
    "id": "TYdDKLmPFfo3"
   },
   "outputs": [],
   "source": [
    "# Initialise the production quantities matrix.\n",
    "initial_quantities = [[2500,2500,2500,2500],\n",
    "                   [2500,2500,2500,2500],\n",
    "                   [2500,2500,2500,2500]]"
   ]
  },
  {
   "cell_type": "markdown",
   "metadata": {
    "id": "pB1Sr_XuHljU"
   },
   "source": [
    "## Objective\n",
    "This section defines the objective function that will be optimised."
   ]
  },
  {
   "cell_type": "code",
   "execution_count": 5,
   "metadata": {
    "id": "1cd3mpqurs5v"
   },
   "outputs": [],
   "source": [
    "# Specify the objective as being to minimise the total cost of production.\n",
    "# This is defined in the funtion 'objective' where the total production quanities\n",
    "# are an input to the function, which will then use a cost matrix to calculate\n",
    "# the total cost for the given quantities.\n",
    "def objective(x):\n",
    "    production_quantities = np.reshape(x,(warehouses_total, retailers_total))\n",
    "        # The scipy.optimize.minimize function needs an array of\n",
    "        # initial 'guesses' for production quantities, so this\n",
    "        # reshape expression is used to turn the production quantities vector\n",
    "        # into a matrix of warehouse rows and retailer columns to make it\n",
    "        # easier to manipulate.\n",
    "    total_cost = np.sum(np.multiply(production_quantities,costs))\n",
    "        # np.multiply is used to calculate the element-wise product of the\n",
    "        # production_quantities and costs matrices.\n",
    "        # np.sum() calculates the sum of all the values in the resulting\n",
    "        # matrix. \n",
    "    return total_cost"
   ]
  },
  {
   "cell_type": "code",
   "execution_count": 6,
   "metadata": {
    "colab": {
     "base_uri": "https://localhost:8080/"
    },
    "id": "qZLIk-bvFKlu",
    "outputId": "25ba20ee-c801-40ee-8083-07e7e3aba5f2"
   },
   "outputs": [
    {
     "name": "stdout",
     "output_type": "stream",
     "text": [
      "$23,850\n"
     ]
    }
   ],
   "source": [
    "# Test that the objective function works as expected.\n",
    "test_quantities = initial_quantities\n",
    "\n",
    "test_outcome = objective(test_quantities)\n",
    "print('${:,.0f}'.format(test_outcome))"
   ]
  },
  {
   "cell_type": "markdown",
   "metadata": {
    "id": "CNyLhL3bLsPN"
   },
   "source": [
    "The total production and delivery cost of the initial quantities, worked out by manually multiplying the individual initial quantities and costs, should be $23,850. This is the cost given by the objective function applied to the initial quantities so the objective function seems to be working."
   ]
  },
  {
   "cell_type": "markdown",
   "metadata": {
    "id": "H90PXTQbHdxm"
   },
   "source": [
    "## Constraints\n",
    "This section sets out the constraints that will be imposed on the optimisation solution."
   ]
  },
  {
   "cell_type": "markdown",
   "metadata": {
    "id": "QEBFcHBG4dYX"
   },
   "source": [
    "### Warehouse capacity constraint\n",
    "The first constraint is that the amount produced at each warehouse must be less than or equal to the warehouse's capacity.\n",
    "\n",
    "This is an inequality constraint, as the amount produced must be 'less than or equal' to something.\n",
    "\n",
    "In the scipy.optimize package, these inequality constraints need to be expressed as:\n",
    "\n",
    "***'inequality constraint' >= 0***\n",
    "\n",
    "\n",
    "Therefore, the warehouse capacity constraint will be expressed as:\n",
    "\n",
    "***warehouse capacity - warehouse production >= 0***\n",
    "\n",
    "\n",
    "\n"
   ]
  },
  {
   "cell_type": "code",
   "execution_count": 7,
   "metadata": {
    "id": "8KwihlVuLZjf"
   },
   "outputs": [],
   "source": [
    "# Specify the capacity of each warehouse.\n",
    "capacity = [15000,\n",
    "            10000,\n",
    "            10000]\n",
    "\n",
    "# Create a function to define the warehouse capacity constraint.\n",
    "def capacity_constraint(x):\n",
    "    production_quantities = np.reshape(x,(warehouses_total, retailers_total))\n",
    "        # The scipy.optimize.minimize function needs an array of\n",
    "        # initial 'guesses' for production quantities, so this\n",
    "        # reshape expression is used to turn the production quantities vector\n",
    "        # into a matrix of warehouse rows and retailer columns to make it\n",
    "        # easier to manipulate.\n",
    "    constraint = capacity - np.sum(production_quantities,axis=1)\n",
    "        # np.sum(x, axis=1) calculates the sum of all columns (retailers)\n",
    "        # for each row (warehouse) in the matrix x.\n",
    "        # This constraint therefore produces a vector of size 3, where\n",
    "        # each element in the vector must be greater than or equal to 0.\n",
    "    return constraint\n",
    "\n",
    "# Specify that this first constraint is an inequality constraint\n",
    "# with the constraint expression being calculated by the function 'capacity_constraint'\n",
    "constraint1 = {'type':'ineq','fun':capacity_constraint}"
   ]
  },
  {
   "cell_type": "code",
   "execution_count": 8,
   "metadata": {
    "colab": {
     "base_uri": "https://localhost:8080/"
    },
    "id": "3wBRgLgsDH5O",
    "outputId": "aa8c12b3-8696-4326-9f81-aedcb3e79449"
   },
   "outputs": [
    {
     "name": "stdout",
     "output_type": "stream",
     "text": [
      "[5,000 0 0]\n"
     ]
    }
   ],
   "source": [
    "# Test that the capacity_constraint function works as expected\n",
    "test_quantities = [[2500,2500,2500,2500],\n",
    "                   [2500,2500,2500,2500],\n",
    "                   [2500,2500,2500,2500]]\n",
    "\n",
    "test_outcome = capacity_constraint(test_quantities)\n",
    "print(test_outcome)"
   ]
  },
  {
   "cell_type": "markdown",
   "metadata": {
    "id": "gvnzZfF2DOo7"
   },
   "source": [
    "This capacity constraint function seems to be doing what we expect - there is:\n",
    "- excess capacity of 5,000 toys at Warehouse 1 (15,000 - 4x2,500);\n",
    "- but no excess capacity at Warehouses 2 or 3 (10,000 - 4x2,500)."
   ]
  },
  {
   "cell_type": "markdown",
   "metadata": {
    "id": "gdhUeZYc6YB0"
   },
   "source": [
    "### Retailer demand constraint\n",
    "\n",
    "The second constraint is that the amount produced for each retailer must be greater than or equal to the demand for that retailer.\n",
    "\n",
    "This is again an inequality constraint and must be expressed as:\n",
    "\n",
    "***'inequality constraint' >= 0***\n",
    "\n",
    "Therefore, the retailer demand constraint will be expressed as:\n",
    "\n",
    "***retailer production - retailer demand >= 0***"
   ]
  },
  {
   "cell_type": "code",
   "execution_count": 9,
   "metadata": {
    "id": "peXIe8OLOaof"
   },
   "outputs": [],
   "source": [
    "# Specify the demand of each retailer.\n",
    "demand = [5000,\n",
    "          15000,\n",
    "          3000,\n",
    "          9500]\n",
    "\n",
    "# Create a function to define the retailer demand constraint.\n",
    "def demand_constraint(x):\n",
    "    production_quantities = np.reshape(x,(warehouses_total, retailers_total))\n",
    "        # The scipy.optimize.minimize function needs an array of\n",
    "        # initial 'guesses' for production quantities, so this\n",
    "        # reshape expression is used to turn the production quantities vector\n",
    "        # into a matrix of warehouse rows and retailer columns to make it\n",
    "        # easier to manipulate.\n",
    "    constraint = np.sum(production_quantities,axis=0)-demand\n",
    "        # np.sum(x, axis=0) calculates the sum of all rows (warehouses)\n",
    "        # for each column (retailers) in the matrix x.\n",
    "        # This constraint therefore produces a vector of size 4, where\n",
    "        # each element in the vector must be greater than or equal to 0.\n",
    "    return constraint\n",
    "\n",
    "# Specify that this second constraint is an inequality constraint\n",
    "# with the constraint expression being calculated by the function 'demand_constraint'\n",
    "constraint2 = {'type':'ineq','fun':demand_constraint}"
   ]
  },
  {
   "cell_type": "code",
   "execution_count": 10,
   "metadata": {
    "colab": {
     "base_uri": "https://localhost:8080/"
    },
    "id": "tSfsPoe1DdNm",
    "outputId": "78c8969d-8a99-4a4e-f05e-8649863e6369"
   },
   "outputs": [
    {
     "name": "stdout",
     "output_type": "stream",
     "text": [
      "[2,500 -7,500 4,500 -2,000]\n"
     ]
    }
   ],
   "source": [
    "# Test that the demand_constraint function works as expected\n",
    "test_quantities = [[2500,2500,2500,2500],\n",
    "                   [2500,2500,2500,2500],\n",
    "                   [2500,2500,2500,2500]]\n",
    "\n",
    "test_outcome = demand_constraint(test_quantities)\n",
    "print(test_outcome)"
   ]
  },
  {
   "cell_type": "markdown",
   "metadata": {
    "id": "7IGRQaaAEMJv"
   },
   "source": [
    "This demand constraint function seems to be doing what we expect as there is:\n",
    "- excess production of 2,500 toys for Retailer 1 (7,500 - 5,000);\n",
    "- under production of 7,500 toys for Retailer 2 (7,500 - 15,000);\n",
    "- excess production of 4,500 toys for Retailer 3 (7,500 - 3,000); and\n",
    "- under production of 2,000 toys for Retailer 4 (7,500 - 9,500);"
   ]
  },
  {
   "cell_type": "markdown",
   "metadata": {
    "id": "jOXND9fh8Fis"
   },
   "source": [
    "### Individual production constraint\n",
    "\n",
    "The third constraint is that the amount produced for each retailer and each warehouse must be greater than or equal to zero.\n",
    "\n",
    "This can be specified by creating a lower bound of 0 for each entry in the production_quantities matrix."
   ]
  },
  {
   "cell_type": "code",
   "execution_count": 11,
   "metadata": {
    "colab": {
     "base_uri": "https://localhost:8080/"
    },
    "id": "u2JYwrz1mibD",
    "outputId": "cf08c6e8-669e-477a-9f8d-d6cdaf35e602"
   },
   "outputs": [
    {
     "name": "stdout",
     "output_type": "stream",
     "text": [
      "((0, 100000), (0, 100000), (0, 100000), (0, 100000), (0, 100000), (0, 100000), (0, 100000), (0, 100000), (0, 100000), (0, 100000), (0, 100000), (0, 100000))\n"
     ]
    }
   ],
   "source": [
    "# Specify that there is a lower bound of 0 for each entry in the\n",
    "# production_quantities matrix\n",
    "\n",
    "bound = (0,100000)\n",
    "    # This specifies that the lower bound is 0.\n",
    "    # An upper bound of 100,000 has also been set as the bound\n",
    "    # component of the SciPy Optimizer needs a lower and upper bound.\n",
    "bounds = (bound,)*warehouses_total*retailers_total\n",
    "print(bounds)"
   ]
  },
  {
   "cell_type": "markdown",
   "metadata": {
    "id": "qVolZq6W_9OV"
   },
   "source": [
    "## Solve the optimisation problem by minimising the objective function"
   ]
  },
  {
   "cell_type": "code",
   "execution_count": 12,
   "metadata": {
    "id": "vSrrmS0EAAsM"
   },
   "outputs": [],
   "source": [
    "# Create a list of all the constraints that will be imposed on the solution.\n",
    "constraints = [constraint1, constraint2]"
   ]
  },
  {
   "cell_type": "code",
   "execution_count": 13,
   "metadata": {
    "id": "NVLnlvEsEuxX"
   },
   "outputs": [],
   "source": [
    "# Solve the optimisation problem using the scipy.optimize.minimize function.\n",
    "\n",
    "# There are various methods that can be used in the scipy.optimize.minize function.\n",
    "# These methods are listed below.\n",
    "\n",
    "methods = ['Nelder-Mead',     # also known as Downhill Simplex, Amoeba or Polytope\n",
    "           'Powell',\n",
    "           'CG',              # Conjugate Gradient\n",
    "           'BFGS',            # Broyden–Fletcher–Goldfarb–Shanno (quasi-Newton method)\n",
    "           'Newton-CG',       # Newton Conjugate Gradient (Newton method)\n",
    "           'L-BFGS-B',        # Limited-memory BFGS (quasi-Newton method)\n",
    "           'TNC',             # Truncated Newton (quasi-Newton method)\n",
    "           'COBYLA',          # Constrained Optimization BY Linear Approximation\n",
    "           'SLSQP',           # Sequential Least Squares Programming \n",
    "           'trust-constr',    # Trust-Region Constrained\n",
    "           'dogleg',          # Trust-Region dogleg\n",
    "           'trust-ncg',       # Trust-Region Newton Conjugate Gradient\n",
    "           'trust-krylov',    # Trust-Region Truncated Generalized Lanczos\n",
    "           'trust-exact']     # Trust-Region Nearly Exact\n",
    "\n",
    "method = methods[8]\n",
    "\n",
    "solution = minimize(objective,initial_quantities,\n",
    "                    method = method,\n",
    "                    bounds = bounds,\n",
    "                    constraints = constraints)"
   ]
  },
  {
   "cell_type": "markdown",
   "metadata": {
    "id": "GheT31Gy34Lf"
   },
   "source": [
    "According to the scipy.optimize.minimize documentation, if the optimisation method is not specified in the call to minimize, it is chosen to be one of the following methods, depending on whether the problem has constraints or bounds:\n",
    "- BFGS (cannot handle constraints or bounds);\n",
    "- L-BFGS-B (cannot handle constraints); or\n",
    "- SLSQP (can handle constraints and bounds).\n",
    "\n",
    "As an additional exercise, you could try running the optimiser using each of the different methods available in scipy.optimize.minimize.\n",
    "\n",
    "Do they all work? If not, what error messages do they produce?"
   ]
  },
  {
   "cell_type": "code",
   "execution_count": 14,
   "metadata": {
    "colab": {
     "base_uri": "https://localhost:8080/"
    },
    "id": "4rhtPkoQTc4N",
    "outputId": "db35fe44-520e-41e4-f316-d5e4d7f1fef8"
   },
   "outputs": [
    {
     "name": "stdout",
     "output_type": "stream",
     "text": [
      "The production quantities that minimise the cost of production\n",
      "for each warehouse (rows) and each retailer (columns) are:\n",
      "[[5,000 0 500 9,500]\n",
      " [0 5,000 2,500 0]\n",
      " [0 10,000 0 0]]\n",
      "\n",
      "The total cost using these production quantities is:\n",
      "$21,800\n"
     ]
    }
   ],
   "source": [
    "# Reshape the output of the optimiser so that it is easier to visualise\n",
    "# the optimiser's selected quantities for each warehouse (row) and\n",
    "# retailer (column).\n",
    "solution_quantities = np.reshape(np.round(solution.x,0),\n",
    "                                 (warehouses_total,retailers_total))\n",
    "\n",
    "# Print the solution to the problem.\n",
    "print('The production quantities that minimise the cost of production')\n",
    "print('for each warehouse (rows) and each retailer (columns) are:')\n",
    "print(solution_quantities)\n",
    "\n",
    "# Print the cost of the optimised solution.\n",
    "print('\\nThe total cost using these production quantities is:')\n",
    "print('${:,.0f}'.format(objective(solution_quantities)))"
   ]
  }
 ],
 "metadata": {
  "colab": {
   "collapsed_sections": [],
   "name": "DAA_2021_S2_Tutorial10_exercise_scipy.ipynb",
   "provenance": [],
   "toc_visible": true
  },
  "kernelspec": {
   "display_name": "Python 3",
   "language": "python",
   "name": "python3"
  },
  "language_info": {
   "codemirror_mode": {
    "name": "ipython",
    "version": 3
   },
   "file_extension": ".py",
   "mimetype": "text/x-python",
   "name": "python",
   "nbconvert_exporter": "python",
   "pygments_lexer": "ipython3",
   "version": "3.9.1"
  }
 },
 "nbformat": 4,
 "nbformat_minor": 1
}
