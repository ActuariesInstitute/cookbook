{
 "cells": [
  {
   "cell_type": "raw",
   "id": "d8279c59",
   "metadata": {},
   "source": [
    "---\n",
    "title: \"Life industry stats\"\n",
    "subtitle: \"With APRA data\"\n",
    "description: | \n",
    "  This article sets out a simple recipe for visualising Australian life industry data from APRA using Tableau.\n",
    "output: \n",
    "    self_contained: false\n",
    "    code_folding: hide\n",
    "---"
   ]
  },
  {
   "cell_type": "markdown",
   "id": "e396c32d",
   "metadata": {},
   "source": [
    "# R: Life Industry Stats in Tableau and R"
   ]
  },
  {
   "cell_type": "markdown",
   "id": "1567a621",
   "metadata": {},
   "source": [
    "By Pat Reen - originally published on his GitHub site [here](https://pat-reen.github.io/More-Modelling-Recipes/), which has the [original code](https://github.com/Pat-Reen/More-Modelling-Recipes)."
   ]
  },
  {
   "cell_type": "markdown",
   "id": "1f28e601",
   "metadata": {},
   "source": [
    "# Overview\n",
    "APRA release Australian life industry data on performance quarterly at a product level as well as aggregated results by company. Bi-annually APRA release other statistics on lapse rates, new business rates, decline rates and market share. This section presents a visualisation of these datasources in Tableau. Also included is an R script which could be used to extract results from the APRA data.\n",
    "\n",
    "Tableau public is a free to use visualisation tool that can ingest data in a number of different formats and is useful at creating flexible visualisation. \n",
    "\n",
    "See link above to GitHub repository which has data and tableau workbook for this recipe.\n",
    "\n",
    "# Introducing radial bar charts\n",
    "A radial bar chart is a bar chart plotted in polar co-ordinates rather than a Cartesian plane. [This site](https://www.thedataschool.co.uk/jack-parry/create-a-radial-bar-chart-in-tableau) sets out a very simple approach, which are  used here.\n",
    "\n",
    "# The result\n",
    "\n",
    "A preview of the final visualisation is below (click through to Tableau):\n",
    "\n",
    "[![](../_static/life_stats/prev_life.png)](https://public.tableau.com/app/profile/pat5787/viz/AustralianLifeInsuranceReporting/LifeStats)\n",
    "\n",
    "# Using r to view industry stats\n",
    "As with most data sources, an alternative visualisation tool is R. The below extracts the individual disability income profits and revenue and calculates the margin."
   ]
  },
  {
   "cell_type": "code",
   "execution_count": 1,
   "id": "cb629e7d",
   "metadata": {
    "class.source": "fold-show",
    "lines_to_next_cell": 0,
    "message": false,
    "name": "Industry stats in r",
    "warning": false
   },
   "outputs": [],
   "source": [
    "not_run_sample_only <- function(){\n",
    "# this script reads in the APRA data and produces a few graphs for presentation\n",
    "\n",
    "packages <- c(\"tidyverse\", \"ggplot2\", \"readxl\", \"lubridate\", \"scales\", \"xtable\")\n",
    "install.packages(setdiff(packages, rownames(installed.packages())))  \n",
    "for (package in packages) {\n",
    "    library(package, character.only = TRUE)\n",
    "}\n",
    "\n",
    "percent0 <- function(value) {\n",
    "  return(percent(value, accuracy = 0.1))\n",
    "}\n",
    "\n",
    "# update names\n",
    "# [1] \"Reporting date\"      \"Industry sector\"     \"Subject\"\n",
    "# [4] \"Category\"            \"Data item\"           \"Reporting Structure\"\n",
    "# [7] \"Class of business\"   \"Product Group\"       \"Calculation basis\"\n",
    "# [10] \"Value\"               \"Notes\"\n",
    "\n",
    "qrt_col_name <- c(\n",
    "  \"rep_date\", \"sector\", \"subject\", \"category\", \"data_item\",\n",
    "  \"rep_struc\", \"class\", \"product\", \"calc_basis\", \"value\",\n",
    "  \"notes\"\n",
    ")\n",
    "qrt_col_type <- c(\"date\", rep(\"text\", 8), \"numeric\", \"text\")\n",
    "\n",
    "#---------- read in quarterly data\n",
    "qrt_data <- read_xlsx(\n",
    "# update to relevant path\n",
    "  path = \"Quarterly life insurance performance statistics database - June 2008 to June 2021.xlsx\",\n",
    "  sheet = \"Data\", \n",
    "  col_names = qrt_col_name, \n",
    "  skip = 1, \n",
    "  col_types = qrt_col_type,\n",
    "  trim_ws = TRUE, na = \"N/A\"\n",
    ")\n",
    "\n",
    "# add fiscal years\n",
    "qrt_data$fin_year <- paste0(\"FY\", format(year(qrt_data$rep_date) +\n",
    "  as.integer(month(qrt_data$rep_date) > 6)))\n",
    "# also add calendar year as an alternative aggregation\n",
    "qrt_data$cal_year <- format(year(qrt_data$rep_date))\n",
    "\n",
    "\n",
    "\n",
    "# DI Profit by Year -----------------------------------------------------\n",
    "\n",
    "DI_risk_type <- \"Individual Disability Income Insurance\"\n",
    "\n",
    "data_items <- c(\n",
    "    \"Profit / loss before tax ($m)\" = \"Profit / loss before tax\",\n",
    "    \"Premiums after reinsurance ($m)\" = \"Net policy revenue\",\n",
    "    \"Premiums before reinsurance ($m)\" = \"Gross policy revenue\"\n",
    ")\n",
    "\n",
    "DI_profit <- qrt_data %>%\n",
    "  filter(data_item %in% data_items) %>%\n",
    "  filter(is.na(class)) %>%\n",
    "  filter(product == DI_risk_type) %>%\n",
    "  group_by(`Fin year` = fin_year, data_item) %>%\n",
    "  summarise(risk_value = sum(value)) %>%\n",
    "  spread(data_item, risk_value) %>% \n",
    "  mutate(`Margin (%)` = percent0(`Profit / loss before tax` /\n",
    "  `Net policy revenue`)) %>%\n",
    "  rename(data_items)\n",
    "\n",
    "DI_profit_print <- xtable(\n",
    "    x = DI_profit,\n",
    "    caption = \"Individual Disability Income Industry Profit\",\n",
    "    align = \"llrrrr\",\n",
    "    digits = 0\n",
    ")\n",
    "\n",
    "print(DI_profit_print, \n",
    "      type = \"html\",\n",
    "      file = \"DI_profit\",\n",
    "      include.rownames = FALSE,\n",
    "      ) \n",
    "}"
   ]
  },
  {
   "cell_type": "markdown",
   "id": "4ca0c7d4",
   "metadata": {},
   "source": []
  }
 ],
 "metadata": {
  "jupytext": {
   "cell_metadata_filter": "name,class.source,warning,message,-all",
   "main_language": "R",
   "notebook_metadata_filter": "-all"
  },
  "kernelspec": {
   "display_name": "R",
   "language": "R",
   "name": "ir"
  },
  "language_info": {
   "codemirror_mode": "r",
   "file_extension": ".r",
   "mimetype": "text/x-r-source",
   "name": "R",
   "pygments_lexer": "r",
   "version": "3.6.3"
  }
 },
 "nbformat": 4,
 "nbformat_minor": 5
}
