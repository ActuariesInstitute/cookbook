{
 "cells": [
  {
   "cell_type": "markdown",
   "id": "1617668c",
   "metadata": {},
   "source": [
    "# Introduction to R"
   ]
  },
  {
   "cell_type": "markdown",
   "id": "d16c9374",
   "metadata": {},
   "source": [
    "Instead of reinventing the wheel for essential R knowledge, we will refer readers to useful introductory content online instead:\n",
    "\n",
    " * [R for Data Science](https://r4ds.had.co.nz/) by Hadley Wickham and Garrett Grolemund is a comprehensive overview of core data science skills in R. \n",
    "\n",
    " * Monash University has an [Introduction to R](https://monashdatafluency.github.io/r-intro-2/index.html) book. It takes you through all the basics, including variables, data frames, plotting and summarising.\n",
    " \n",
    "Please consider these resources, then join us in the next chapter for intermediate R."
   ]
  }
 ],
 "metadata": {
  "kernelspec": {
   "display_name": "R",
   "language": "R",
   "name": "ir"
  },
  "language_info": {
   "codemirror_mode": "r",
   "file_extension": ".r",
   "mimetype": "text/x-r-source",
   "name": "R",
   "pygments_lexer": "r",
   "version": "4.1.0"
  }
 },
 "nbformat": 4,
 "nbformat_minor": 5
}
