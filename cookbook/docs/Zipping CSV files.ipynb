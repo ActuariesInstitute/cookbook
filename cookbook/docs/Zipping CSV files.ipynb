{
 "cells": [
  {
   "cell_type": "markdown",
   "id": "a05a7928",
   "metadata": {},
   "source": [
    "This notebook zips up CSV files into individual zip files, such that reading it with pandas directly is not a problem.\n",
    "\n",
    "It is currently not used as an example piece of code within the cookbook, but used for reducing dataset sizes for inclusion in the static folder of the site."
   ]
  },
  {
   "cell_type": "code",
   "execution_count": 3,
   "id": "2e0fe6ae",
   "metadata": {},
   "outputs": [],
   "source": [
    "import os\n",
    "import sys\n",
    "import zipfile\n",
    "\n",
    "\n",
    "def csv_files(source_dir):\n",
    "    for filename in os.listdir(source_dir):\n",
    "        if filename.endswith('.csv'):\n",
    "            yield filename\n",
    "\n",
    "\n",
    "source_dir = '~/Downloads/drive-download-20211120T082520Z-001' \n",
    "dest_dir = '~/Downloads/drive-download-20211120T082520Z-001'\n",
    "\n",
    "os.chdir(dest_dir)  # To work around zipfile limitations\n",
    "\n",
    "for csv_filename in csv_files(source_dir):\n",
    "    file_root = os.path.splitext(csv_filename)[0]\n",
    "    zip_file_name = file_root + '.zip'\n",
    "    zip_file_path = os.path.join(dest_dir, zip_file_name)\n",
    "    with zipfile.ZipFile(zip_file_path, 'w', zipfile.ZIP_DEFLATED) as zf:\n",
    "        zf.write(csv_filename)\n"
   ]
  }
 ],
 "metadata": {
  "kernelspec": {
   "display_name": "Python 3",
   "language": "python",
   "name": "python3"
  },
  "language_info": {
   "codemirror_mode": {
    "name": "ipython",
    "version": 3
   },
   "file_extension": ".py",
   "mimetype": "text/x-python",
   "name": "python",
   "nbconvert_exporter": "python",
   "pygments_lexer": "ipython3",
   "version": "3.9.1"
  }
 },
 "nbformat": 4,
 "nbformat_minor": 5
}
