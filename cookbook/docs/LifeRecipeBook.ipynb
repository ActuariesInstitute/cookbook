{
 "cells": [
  {
   "cell_type": "markdown",
   "id": "05453c10",
   "metadata": {},
   "source": [
    "# R: Life Modelling Recipes"
   ]
  },
  {
   "cell_type": "markdown",
   "id": "649ba506",
   "metadata": {
    "name": "htmlHeader",
    "tags": [
     "remove_input"
    ]
   },
   "source": [
    "By Pat Reen - originally published on his GitHub site [here](https://pat-reen.github.io/Modelling-Recipes/).\n",
    "<!-- Add icon library -->\n",
    "<link rel=\"stylesheet\" href=\"https://cdnjs.cloudflare.com/ajax/libs/font-awesome/4.7.0/css/font-awesome.min.css\">\n",
    "\n",
    "<!-- Add icon font -->\n",
    "<p style=\"position:absolute; top:0; right:20px; \">\n",
    "    <a href=\"https://www.linkedin.com/in/patrick-reen/\" target=\"_blank\" class=\"fa fa-linkedin\" style=\"font-size:24px\"></a>\n",
    "    <a href=\"https://github.com/Pat-Reen/\" target=\"_blank\" class=\"fa fa-github\" style=\"font-size:24px\"></a>\n",
    "</p>"
   ]
  },
  {
   "cell_type": "markdown",
   "id": "5a811e85",
   "metadata": {},
   "source": [
    "# Overview\n",
    "## Background \n",
    "This document sets out a few practical recipes for modelling with (life) insurance data. Insurance events are typically of low probability - these recipes consider some of the limitations of \"small data\" model fitting (where the observations of interest are sparse) and other topics for insurance like comparisons to standard tables. Themes\n",
    "\n",
    "* Common data transforms, summary stats, and simple visualisations\n",
    "* Regression \n",
    "  + Grouped vs ungrouped data\n",
    "  + Choice of: response distribution, link (and offsets), explanatory variables \n",
    "  + Modelling variance to industry/ reference (A/E or A - E)\n",
    "  + Model selection: stepwise regression, likelihood tests, model evaluation\n",
    "  + Predictions, confidence intervals and visualisations\n",
    "* Bayesian regression and other classification models - to follow.\n",
    "\n",
    "See link to [GitHub repository](https://github.com/Pat-Reen/Modelling-Recipes) which has the [detailed code](https://github.com/Pat-Reen/Modelling-Recipes/blob/main/RecipeBook.Rmd).\n",
    "\n",
    "## Libraries\n",
    "A list of packages used in the recipe book."
   ]
  },
  {
   "cell_type": "code",
   "execution_count": 1,
   "id": "c2fc3073",
   "metadata": {
    "class.source": "fold-show",
    "message": false,
    "name": "Setup",
    "tags": [
     "remove_output"
    ],
    "warning": false
   },
   "outputs": [
    {
     "name": "stderr",
     "output_type": "stream",
     "text": [
      "\n",
      "Attaching package: ‘dplyr’\n",
      "\n",
      "\n",
      "The following object is masked from ‘package:kableExtra’:\n",
      "\n",
      "    group_rows\n",
      "\n",
      "\n",
      "The following objects are masked from ‘package:stats’:\n",
      "\n",
      "    filter, lag\n",
      "\n",
      "\n",
      "The following objects are masked from ‘package:base’:\n",
      "\n",
      "    intersect, setdiff, setequal, union\n",
      "\n",
      "\n",
      "corrplot 0.90 loaded\n",
      "\n",
      "Registered S3 method overwritten by 'GGally':\n",
      "  method from   \n",
      "  +.gg   ggplot2\n",
      "\n",
      "\n",
      "Attaching package: ‘plotly’\n",
      "\n",
      "\n",
      "The following object is masked from ‘package:ggplot2’:\n",
      "\n",
      "    last_plot\n",
      "\n",
      "\n",
      "The following object is masked from ‘package:stats’:\n",
      "\n",
      "    filter\n",
      "\n",
      "\n",
      "The following object is masked from ‘package:graphics’:\n",
      "\n",
      "    layout\n",
      "\n",
      "\n",
      "Loading required package: lattice\n",
      "\n",
      "Type 'citation(\"pROC\")' for a citation.\n",
      "\n",
      "\n",
      "Attaching package: ‘pROC’\n",
      "\n",
      "\n",
      "The following objects are masked from ‘package:stats’:\n",
      "\n",
      "    cov, smooth, var\n",
      "\n",
      "\n",
      "Loading required package: zoo\n",
      "\n",
      "\n",
      "Attaching package: ‘zoo’\n",
      "\n",
      "\n",
      "The following objects are masked from ‘package:base’:\n",
      "\n",
      "    as.Date, as.Date.numeric\n",
      "\n",
      "\n",
      "Loading required package: MASS\n",
      "\n",
      "\n",
      "Attaching package: ‘MASS’\n",
      "\n",
      "\n",
      "The following object is masked from ‘package:plotly’:\n",
      "\n",
      "    select\n",
      "\n",
      "\n",
      "The following object is masked from ‘package:dplyr’:\n",
      "\n",
      "    select\n",
      "\n",
      "\n",
      "Loading required package: Matrix\n",
      "\n",
      "\n",
      "Attaching package: ‘Matrix’\n",
      "\n",
      "\n",
      "The following objects are masked from ‘package:tidyr’:\n",
      "\n",
      "    expand, pack, unpack\n",
      "\n",
      "\n",
      "Loading required package: lme4\n",
      "\n",
      "\n",
      "arm (Version 1.12-2, built: 2021-10-15)\n",
      "\n",
      "\n",
      "Working directory is /Users/Jacky/GitHub/cookbookJ/cookbook/docs\n",
      "\n",
      "\n",
      "\n",
      "Attaching package: ‘arm’\n",
      "\n",
      "\n",
      "The following object is masked from ‘package:corrplot’:\n",
      "\n",
      "    corrplot\n",
      "\n",
      "\n",
      "The following object is masked from ‘package:scales’:\n",
      "\n",
      "    rescale\n",
      "\n",
      "\n"
     ]
    }
   ],
   "source": [
    "library(rmdformats) # theme for the HTML doc\n",
    "library(bookdown)   # bibliography formatting\n",
    "library(kableExtra) # formatting tables\n",
    "library(scales)     # data formatting  \n",
    "library(dplyr)      # tidyverse: data manipulation\n",
    "library(tidyr)      # tidyverse: tidy messy data\n",
    "library(corrplot)   # correlation matrix visualisation, optional\n",
    "library(ggplot2)    # tidyverse: graphs\n",
    "library(pdp)        # tidyverse: arranging plots\n",
    "library(GGally)     # tidyverse: extension of ggplot2\n",
    "library(ggthemes)   # tidyverse: additional themes for ggplot, optional\n",
    "library(plotly)     # graphs, including 3D \n",
    "library(caret)      # sampling techniques\n",
    "library(broom)      # tidyverse: visualising statistical objects\n",
    "library(pROC)       # visualising ROC curves\n",
    "library(lmtest)     # tests for regression models\n",
    "\n",
    "# packages below have some interaction with earlier packages, not always needed\n",
    "library(arm)        # binned residual plot\n",
    "library(msme)       # statistical tests, pearson dispersion\n",
    "library(MASS)       # statistics\n"
   ]
  },
  {
   "cell_type": "code",
   "execution_count": 2,
   "id": "ee59a606",
   "metadata": {
    "class.source": "fold-show",
    "message": false,
    "name": "Setup - remove object if exists",
    "results": false,
    "tags": [
     "remove_input"
    ],
    "warning": false
   },
   "outputs": [],
   "source": [
    "ifrm <- function(x, env = globalenv()) \n",
    "{\n",
    "  if(exists(x, envir = env)) \n",
    "  {\n",
    "    rm(list = x, envir = env)\n",
    "  }\n",
    "}"
   ]
  },
  {
   "cell_type": "markdown",
   "id": "25ab0800",
   "metadata": {},
   "source": [
    "## Further reading\n",
    "A few books and articles of interest:\n",
    "\n",
    "* [R Markdown Cookbook](https://bookdown.org/yihui/rmarkdown-cookbook/) has everything you need to know to set up an r markdown document like this one.\n",
    "* [Generalised Linear Models for Insurance Data](https://www.cambridge.org/au/academic/subjects/statistics-probability/statistics-econometrics-finance-and-insurance/generalized-linear-models-insurance-data?format=HB&isbn=9780521879149) is a great book introducing GLMs in the context of insurance, considering problems specific to insurance data.\n",
    "* [Tidyverse documentation](https://www.tidyverse.org/) full set of documentation for Tidyverse packages (packages for data science) e.g. dplyr for data manipulation; tidyr for tidying up messy data; ggplot for visualisation.\n",
    "\n",
    "# Data Simulation\n",
    "This section sets out a method for generating dummy data. The simulated data is intended to reflect typical data used in an analysis of disability income incidence experience and is used throughout this analysis. Replace this data with your actual data.\n",
    "\n",
    "More detail on the techniques used can be found in the section on data manipulation.\n",
    "\n",
    "## Simulating policies\n",
    "We start by simulating a mix of 200k policies over 3 years. Some simplifying assumptions e.g. nil lapse/ new bus (no allowance for part years of exposure), no indexation. Mix of business assumptions for benefit period, waiting period and occupation taken  taken from [@BusMix], with the remainder based on an anecdotal view of industry mix not intended to be reflective of any one business. "
   ]
  },
  {
   "cell_type": "code",
   "execution_count": 3,
   "id": "67408be9",
   "metadata": {
    "name": "Generate dataframe"
   },
   "outputs": [],
   "source": [
    "# set the seed value (for the random number generator) so that the simulated data frame can be replicated later\n",
    "set.seed(10)\n",
    "# create 200k policies\n",
    "n <- 200000\n",
    "\n",
    "# data frame columns\n",
    "# policy_year skewed to early years, but tail is fat\n",
    "df <- data.frame(id = c(1:n), cal_year = 2018,policy_year = round(rweibull(n, scale=5, shape=2),0)) \n",
    "df <- df %>% mutate(sex = replicate(n,sample(c(\"m\",\"f\",\"u\"), size=1, replace=TRUE, prob=c(.75,.20,.05))),\n",
    "smoker = replicate(n,sample(c(\"n\",\"s\",\"u\"), size=1, replace=TRUE, prob=c(.85,.1,.05))),\n",
    "# mix of business for benefit_period, waiting_period, occupation taken from industry presentation\n",
    "benefit_period = replicate(n,sample(c(\"a65\",\"2yr\",\"5yr\"), size=1, replace=TRUE, prob=c(.76,.12,.12))),\n",
    "waiting_period = replicate(n,sample(c(\"14d\",\"30d\",\"90d\",\"720d\"), size=1, replace=TRUE, prob=c(.04,.7,.15,.11))),\n",
    "occupation = replicate(n,sample(c(\"prof\",\"sed\",\"techn\",\"blue\",\"white\"), size=1, replace=TRUE, prob=c(.4,.2,.2,.1,.1))),\n",
    "# age and policy year correlated; age normally distributed around 40 + policy_year (where policy_year is distributed around 5 years), floored at 25, capped at 60\n",
    "age = round(pmax(pmin(rnorm(n,mean = 40+policy_year, sd = 5),60),25),0),\n",
    "# sum_assured, age and occupation are correlated; sum assured normally distributed around some mean (dependent on age rounded to 10 and on occupation), floored at 500\n",
    "sum_assured = \n",
    "  round(\n",
    "    pmax(\n",
    "      rnorm(n,mean = (round(age,-1)*100+ 1000) * \n",
    "      case_when(occupation %in% c(\"white\",\"prof\") ~ 1.5, occupation %in% c(\"sed\") ~ 1.3 , TRUE ~ 1), \n",
    "      sd = 2000),500),\n",
    "      0)\n",
    "  )\n",
    "# generate 3 years of exposure for the 200k policies => assume no lapses or new business\n",
    "df2 <- df %>% mutate(cal_year=cal_year+1,policy_year=policy_year+1,age=age+1)\n",
    "df3 <- df2 %>% mutate(cal_year=cal_year+1,policy_year=policy_year+1,age=age+1)\n",
    "df <- rbind(df,df2,df3)\n"
   ]
  },
  {
   "cell_type": "markdown",
   "id": "ec259970",
   "metadata": {},
   "source": [
    "## Expected claim rate \n",
    "Set p values from which to simulate claims. The crude p values below were derived from the Society of Actuaries Analysis of USA Individual Disability Claim Incidence Experience from 2006 to 2014 [@SOA_study], with some allowance for Australian industry differentials [@BusMix_FSC]."
   ]
  },
  {
   "cell_type": "code",
   "execution_count": 4,
   "id": "3dc11dad",
   "metadata": {
    "name": "Expected claim rate"
   },
   "outputs": [],
   "source": [
    "# by cause, age and sex, based upon polynomials fitted to crude actual rates\n",
    "# sickness\n",
    "f_sick_age_m <- function(age) {-0.0000003*age^3 + 0.000047*age^2 - 0.00203*age + 0.02715}\n",
    "f_sick_age_f <- function(age) {-0.0000002*age^3 + 0.000026*age^2 - 0.00107*age + 0.01550} \t  \t \t  \n",
    "f_sick_age_u <- function(age) {f_sick_age_f(age)*1.2}\n",
    "f_sick_age   <- function(age,sex) {case_when(sex == \"m\" ~ f_sick_age_m(age), sex == \"f\" ~ f_sick_age_f(age), sex == \"u\" ~ f_sick_age_u(age))}\n",
    "\n",
    "# accident\n",
    "f_acc_age_m <- function(age) {-0.00000002*age^3 + 0.000004*age^2 - 0.00020*age + 0.00340}\n",
    "f_acc_age_f <- function(age) {-0.00000004*age^3 + 0.000007*age^2 - 0.00027*age + 0.00374} \t  \t \t  \n",
    "f_acc_age_u <- function(age) {f_sick_age_f(age)*1.2}\n",
    "f_acc_age   <- function(age,sex) {case_when(sex == \"m\" ~ f_acc_age_m(age), sex == \"f\" ~ f_acc_age_f(age), sex == \"u\" ~ f_acc_age_u(age))}\n",
    "\n",
    "# smoker, wp and occ based upon ratio of crude actual rates by category\n",
    "# occupation adjustment informed by FSC commentary on DI incidence experience\n",
    "f_smoker   <- function(smoker) {case_when(smoker == \"n\" ~ 1, smoker == \"s\" ~ 1.45, smoker == \"u\" ~ 0.9)}\n",
    "f_wp   <- function(waiting_period) {case_when(waiting_period == \"14d\" ~ 1.4, waiting_period == \"30d\" ~ 1, waiting_period == \"90d\" ~ 0.3, waiting_period == \"720d\" ~ 0.2)}\n",
    "f_occ_sick   <- function(occupation) {case_when(occupation == \"prof\" ~ 1, occupation == \"sed\" ~ 1, occupation == \"techn\" ~ 1, occupation == \"blue\" ~ 1, occupation == \"white\" ~ 1)}\n",
    "f_occ_acc   <- function(occupation) {case_when(occupation == \"prof\" ~ 1, occupation == \"sed\" ~ 1, occupation == \"techn\" ~ 4.5, occupation == \"blue\" ~ 4.5, occupation == \"white\" ~ 1)}\n",
    "\n",
    "# anecdotal allowance for higher rates at larger policy size and for older policies\n",
    "f_sa_sick <- function(sum_assured) {case_when(sum_assured<=6000 ~ 1, sum_assured>6000 & sum_assured<=10000 ~ 1.1, sum_assured>10000 ~ 1.3)}\n",
    "f_sa_acc <- function(sum_assured) {case_when(sum_assured<=6000 ~ 1, sum_assured>6000 & sum_assured<=10000 ~ 1, sum_assured>10000 ~ 1)}\n",
    "f_pol_yr_sick <- function(policy_year) {case_when(policy_year<=5 ~ 1, policy_year>5 & policy_year<=10 ~ 1.1, policy_year>10 ~ 1.3)}\n",
    "f_pol_yr_acc <- function(policy_year) {case_when(policy_year<=5 ~ 1, policy_year>5 & policy_year<=10 ~ 1, policy_year>10 ~ 1)}"
   ]
  },
  {
   "cell_type": "markdown",
   "id": "4b02352b",
   "metadata": {},
   "source": [
    "## Expected claims\n",
    "Add the crude p values to the data and simulate 1 draw from a binomial with prob = p for each record. Gives us a vector of claim/no-claim for each policy. Some simplifying assumptions like independence of sample across years for each policy and independence of accident and sickness incidences."
   ]
  },
  {
   "cell_type": "code",
   "execution_count": 5,
   "id": "65e61ccf",
   "metadata": {
    "name": "Expected claims"
   },
   "outputs": [],
   "source": [
    "# add crude expected\n",
    "df$inc_sick_expected=f_sick_age(df$age,df$sex)*f_smoker(df$smoker)*f_wp(df$waiting_period)*f_occ_sick(df$occupation)*f_sa_sick(df$sum_assured)*f_pol_yr_sick(df$policy_year)\n",
    "df$inc_acc_expected=f_acc_age(df$age,df$sex)*f_smoker(df$smoker)*f_wp(df$waiting_period)*f_occ_acc(df$occupation)*f_sa_acc(df$sum_assured)*f_pol_yr_acc(df$policy_year)\n",
    "# add prediction\n",
    "df$inc_count_sick = sapply(df$inc_sick_expected,function(z){rbinom(1,1,z)})\n",
    "df$inc_count_acc = sapply(df$inc_acc_expected,function(z){rbinom(1,1,z)})*(1-df$inc_count_sick)\n",
    "df$inc_count_tot = df$inc_count_sick + df$inc_count_acc\n",
    "# add amounts prediction\n",
    "df$inc_amount_sick = df$inc_count_sick * df$sum_assured\n",
    "df$inc_amount_acc =  df$inc_count_acc * df$sum_assured\n",
    "df$inc_amount_tot =  df$inc_count_tot * df$sum_assured"
   ]
  },
  {
   "cell_type": "markdown",
   "id": "3fa86086",
   "metadata": {},
   "source": [
    "## Grouped data\n",
    "\n",
    "The data generated above are records for each individual policy, however data like this is often grouped as it is easier to store and computation is easier [@GLM_Insurance, p49, 105]. Later we will consider the differences between a model on ungrouped vs grouped data."
   ]
  },
  {
   "cell_type": "code",
   "execution_count": 6,
   "id": "4f23748e",
   "metadata": {
    "name": "Grouped Data"
   },
   "outputs": [],
   "source": [
    "# group data (see section on data manipulation below)\n",
    "df_grp <- df %>% group_by(cal_year, policy_year, sex, smoker, benefit_period, waiting_period, occupation, age) %>% \n",
    "summarise(sum_assured=sum(sum_assured),inc_count_sick_exp=sum(inc_sick_expected),inc_count_acc_exp=sum(inc_acc_expected),        inc_count_sick=sum(inc_count_sick),inc_count_acc=sum(inc_count_acc),inc_count_tot=sum(inc_count_tot),inc_amount_sick=sum(inc_amount_sick),inc_amount_acc=sum(inc_amount_acc),inc_amount_tot=sum(inc_amount_tot), exposure=n(),.groups = 'drop') \n"
   ]
  },
  {
   "cell_type": "markdown",
   "id": "262ddeb4",
   "metadata": {
    "lines_to_next_cell": 0
   },
   "source": [
    "Check that the exposure for the grouped data is the same as the total on ungrouped:"
   ]
  },
  {
   "cell_type": "code",
   "execution_count": 7,
   "id": "cf800867",
   "metadata": {
    "lines_to_next_cell": 0,
    "name": "Grouped Data - exposure"
   },
   "outputs": [
    {
     "data": {
      "text/html": [
       "600000"
      ],
      "text/latex": [
       "600000"
      ],
      "text/markdown": [
       "600000"
      ],
      "text/plain": [
       "[1] 600000"
      ]
     },
     "metadata": {},
     "output_type": "display_data"
    }
   ],
   "source": [
    "# check count - same as total row count of the main df\n",
    "sum(df_grp$exposure)"
   ]
  },
  {
   "cell_type": "markdown",
   "id": "5488b343",
   "metadata": {
    "lines_to_next_cell": 0
   },
   "source": [
    "And that the number of rows of data are significantly lower:"
   ]
  },
  {
   "cell_type": "code",
   "execution_count": 8,
   "id": "a892971e",
   "metadata": {
    "name": "Grouped Data - row count"
   },
   "outputs": [
    {
     "data": {
      "text/html": [
       "109590"
      ],
      "text/latex": [
       "109590"
      ],
      "text/markdown": [
       "109590"
      ],
      "text/plain": [
       "[1] 109590"
      ]
     },
     "metadata": {},
     "output_type": "display_data"
    }
   ],
   "source": [
    "# number of rows of the grouped data is significantly lower\n",
    "nrow(df_grp)"
   ]
  },
  {
   "cell_type": "markdown",
   "id": "8677a698",
   "metadata": {},
   "source": [
    "# Data Exploration\n",
    "\n",
    "The sections below rely heavily upon the dplyr package. \n",
    "\n",
    "## Data structure\n",
    "Looking at the metadata for the data frame and a sample of the contents."
   ]
  },
  {
   "cell_type": "code",
   "execution_count": 9,
   "id": "aea99a71",
   "metadata": {},
   "outputs": [],
   "source": [
    "# MASS package interferes with select()\n",
    "select <- dplyr::select"
   ]
  },
  {
   "cell_type": "code",
   "execution_count": 10,
   "id": "369ea653",
   "metadata": {
    "class.source": "fold-show",
    "name": "Data structure"
   },
   "outputs": [
    {
     "name": "stdout",
     "output_type": "stream",
     "text": [
      "Rows: 600,000\n",
      "Columns: 18\n",
      "$ id                \u001b[3m\u001b[90m<int>\u001b[39m\u001b[23m 1, 2, 3, 4, 5, 6, 7, 8, 9, 10, 11, 12, 13, 14, 15, 1…\n",
      "$ cal_year          \u001b[3m\u001b[90m<dbl>\u001b[39m\u001b[23m 2018, 2018, 2018, 2018, 2018, 2018, 2018, 2018, 2018…\n",
      "$ policy_year       \u001b[3m\u001b[90m<dbl>\u001b[39m\u001b[23m 4, 5, 5, 3, 8, 6, 6, 6, 3, 5, 3, 4, 7, 4, 5, 5, 9, 6…\n",
      "$ sex               \u001b[3m\u001b[90m<chr>\u001b[39m\u001b[23m \"m\", \"f\", \"m\", \"m\", \"f\", \"f\", \"m\", \"m\", \"m\", \"m\", \"m…\n",
      "$ smoker            \u001b[3m\u001b[90m<chr>\u001b[39m\u001b[23m \"n\", \"n\", \"n\", \"n\", \"n\", \"n\", \"n\", \"n\", \"s\", \"n\", \"n…\n",
      "$ benefit_period    \u001b[3m\u001b[90m<chr>\u001b[39m\u001b[23m \"a65\", \"5yr\", \"a65\", \"a65\", \"a65\", \"2yr\", \"a65\", \"a6…\n",
      "$ waiting_period    \u001b[3m\u001b[90m<chr>\u001b[39m\u001b[23m \"90d\", \"30d\", \"30d\", \"30d\", \"30d\", \"14d\", \"720d\", \"3…\n",
      "$ occupation        \u001b[3m\u001b[90m<chr>\u001b[39m\u001b[23m \"techn\", \"blue\", \"blue\", \"prof\", \"sed\", \"prof\", \"tec…\n",
      "$ age               \u001b[3m\u001b[90m<dbl>\u001b[39m\u001b[23m 41, 46, 41, 27, 53, 49, 54, 42, 43, 52, 36, 47, 47, …\n",
      "$ sum_assured       \u001b[3m\u001b[90m<dbl>\u001b[39m\u001b[23m 7119, 5582, 6113, 5147, 8864, 11209, 6378, 6780, 597…\n",
      "$ inc_sick_expected \u001b[3m\u001b[90m<dbl>\u001b[39m\u001b[23m 0.000742731, 0.001828800, 0.002475770, 0.000698100, …\n",
      "$ inc_acc_expected  \u001b[3m\u001b[90m<dbl>\u001b[39m\u001b[23m 0.0007365330, 0.0100735200, 0.0024551100, 0.00052234…\n",
      "$ inc_count_sick    \u001b[3m\u001b[90m<int>\u001b[39m\u001b[23m 0, 0, 0, 0, 0, 0, 0, 0, 0, 0, 0, 0, 0, 0, 0, 0, 0, 0…\n",
      "$ inc_count_acc     \u001b[3m\u001b[90m<dbl>\u001b[39m\u001b[23m 0, 0, 0, 0, 0, 0, 0, 0, 0, 0, 0, 0, 0, 0, 0, 0, 0, 0…\n",
      "$ inc_count_tot     \u001b[3m\u001b[90m<dbl>\u001b[39m\u001b[23m 0, 0, 0, 0, 0, 0, 0, 0, 0, 0, 0, 0, 0, 0, 0, 0, 0, 0…\n",
      "$ inc_amount_sick   \u001b[3m\u001b[90m<dbl>\u001b[39m\u001b[23m 0, 0, 0, 0, 0, 0, 0, 0, 0, 0, 0, 0, 0, 0, 0, 0, 0, 0…\n",
      "$ inc_amount_acc    \u001b[3m\u001b[90m<dbl>\u001b[39m\u001b[23m 0, 0, 0, 0, 0, 0, 0, 0, 0, 0, 0, 0, 0, 0, 0, 0, 0, 0…\n",
      "$ inc_amount_tot    \u001b[3m\u001b[90m<dbl>\u001b[39m\u001b[23m 0, 0, 0, 0, 0, 0, 0, 0, 0, 0, 0, 0, 0, 0, 0, 0, 0, 0…\n"
     ]
    }
   ],
   "source": [
    "# glimpse() or str() returns detail on the structure of the data frame. Our data consists of 600k rows and 15 columns. The columns are policy ID, several explanatory variables like sex and smoker, expected counts of claim (inc_sick_expected and inc_acc_expected) and actual counts of claim (inc_count_sick/acc/tot).\n",
    "glimpse(df)"
   ]
  },
  {
   "cell_type": "code",
   "execution_count": 11,
   "id": "c7e42fb2",
   "metadata": {
    "class.source": "fold-show",
    "name": "Data structure"
   },
   "outputs": [
    {
     "data": {
      "text/html": [
       "<table class=\"dataframe\">\n",
       "<caption>A data.frame: 6 × 18</caption>\n",
       "<thead>\n",
       "\t<tr><th></th><th scope=col>id</th><th scope=col>cal_year</th><th scope=col>policy_year</th><th scope=col>sex</th><th scope=col>smoker</th><th scope=col>benefit_period</th><th scope=col>waiting_period</th><th scope=col>occupation</th><th scope=col>age</th><th scope=col>sum_assured</th><th scope=col>inc_sick_expected</th><th scope=col>inc_acc_expected</th><th scope=col>inc_count_sick</th><th scope=col>inc_count_acc</th><th scope=col>inc_count_tot</th><th scope=col>inc_amount_sick</th><th scope=col>inc_amount_acc</th><th scope=col>inc_amount_tot</th></tr>\n",
       "\t<tr><th></th><th scope=col>&lt;int&gt;</th><th scope=col>&lt;dbl&gt;</th><th scope=col>&lt;dbl&gt;</th><th scope=col>&lt;chr&gt;</th><th scope=col>&lt;chr&gt;</th><th scope=col>&lt;chr&gt;</th><th scope=col>&lt;chr&gt;</th><th scope=col>&lt;chr&gt;</th><th scope=col>&lt;dbl&gt;</th><th scope=col>&lt;dbl&gt;</th><th scope=col>&lt;dbl&gt;</th><th scope=col>&lt;dbl&gt;</th><th scope=col>&lt;int&gt;</th><th scope=col>&lt;dbl&gt;</th><th scope=col>&lt;dbl&gt;</th><th scope=col>&lt;dbl&gt;</th><th scope=col>&lt;dbl&gt;</th><th scope=col>&lt;dbl&gt;</th></tr>\n",
       "</thead>\n",
       "<tbody>\n",
       "\t<tr><th scope=row>1</th><td>1</td><td>2018</td><td>4</td><td>m</td><td>n</td><td>a65</td><td>90d</td><td>techn</td><td>41</td><td> 7119</td><td>0.000742731</td><td>0.000736533</td><td>0</td><td>0</td><td>0</td><td>0</td><td>0</td><td>0</td></tr>\n",
       "\t<tr><th scope=row>2</th><td>2</td><td>2018</td><td>5</td><td>f</td><td>n</td><td>5yr</td><td>30d</td><td>blue </td><td>46</td><td> 5582</td><td>0.001828800</td><td>0.010073520</td><td>0</td><td>0</td><td>0</td><td>0</td><td>0</td><td>0</td></tr>\n",
       "\t<tr><th scope=row>3</th><td>3</td><td>2018</td><td>5</td><td>m</td><td>n</td><td>a65</td><td>30d</td><td>blue </td><td>41</td><td> 6113</td><td>0.002475770</td><td>0.002455110</td><td>0</td><td>0</td><td>0</td><td>0</td><td>0</td><td>0</td></tr>\n",
       "\t<tr><th scope=row>4</th><td>4</td><td>2018</td><td>3</td><td>m</td><td>n</td><td>a65</td><td>30d</td><td>prof </td><td>27</td><td> 5147</td><td>0.000698100</td><td>0.000522340</td><td>0</td><td>0</td><td>0</td><td>0</td><td>0</td><td>0</td></tr>\n",
       "\t<tr><th scope=row>5</th><td>5</td><td>2018</td><td>8</td><td>f</td><td>n</td><td>a65</td><td>30d</td><td>sed  </td><td>53</td><td> 8864</td><td>0.002478806</td><td>0.003137920</td><td>0</td><td>0</td><td>0</td><td>0</td><td>0</td><td>0</td></tr>\n",
       "\t<tr><th scope=row>6</th><td>6</td><td>2018</td><td>6</td><td>f</td><td>n</td><td>2yr</td><td>14d</td><td>prof </td><td>49</td><td>11209</td><td>0.003936332</td><td>0.003655456</td><td>0</td><td>0</td><td>0</td><td>0</td><td>0</td><td>0</td></tr>\n",
       "</tbody>\n",
       "</table>\n"
      ],
      "text/latex": [
       "A data.frame: 6 × 18\n",
       "\\begin{tabular}{r|llllllllllllllllll}\n",
       "  & id & cal\\_year & policy\\_year & sex & smoker & benefit\\_period & waiting\\_period & occupation & age & sum\\_assured & inc\\_sick\\_expected & inc\\_acc\\_expected & inc\\_count\\_sick & inc\\_count\\_acc & inc\\_count\\_tot & inc\\_amount\\_sick & inc\\_amount\\_acc & inc\\_amount\\_tot\\\\\n",
       "  & <int> & <dbl> & <dbl> & <chr> & <chr> & <chr> & <chr> & <chr> & <dbl> & <dbl> & <dbl> & <dbl> & <int> & <dbl> & <dbl> & <dbl> & <dbl> & <dbl>\\\\\n",
       "\\hline\n",
       "\t1 & 1 & 2018 & 4 & m & n & a65 & 90d & techn & 41 &  7119 & 0.000742731 & 0.000736533 & 0 & 0 & 0 & 0 & 0 & 0\\\\\n",
       "\t2 & 2 & 2018 & 5 & f & n & 5yr & 30d & blue  & 46 &  5582 & 0.001828800 & 0.010073520 & 0 & 0 & 0 & 0 & 0 & 0\\\\\n",
       "\t3 & 3 & 2018 & 5 & m & n & a65 & 30d & blue  & 41 &  6113 & 0.002475770 & 0.002455110 & 0 & 0 & 0 & 0 & 0 & 0\\\\\n",
       "\t4 & 4 & 2018 & 3 & m & n & a65 & 30d & prof  & 27 &  5147 & 0.000698100 & 0.000522340 & 0 & 0 & 0 & 0 & 0 & 0\\\\\n",
       "\t5 & 5 & 2018 & 8 & f & n & a65 & 30d & sed   & 53 &  8864 & 0.002478806 & 0.003137920 & 0 & 0 & 0 & 0 & 0 & 0\\\\\n",
       "\t6 & 6 & 2018 & 6 & f & n & 2yr & 14d & prof  & 49 & 11209 & 0.003936332 & 0.003655456 & 0 & 0 & 0 & 0 & 0 & 0\\\\\n",
       "\\end{tabular}\n"
      ],
      "text/markdown": [
       "\n",
       "A data.frame: 6 × 18\n",
       "\n",
       "| <!--/--> | id &lt;int&gt; | cal_year &lt;dbl&gt; | policy_year &lt;dbl&gt; | sex &lt;chr&gt; | smoker &lt;chr&gt; | benefit_period &lt;chr&gt; | waiting_period &lt;chr&gt; | occupation &lt;chr&gt; | age &lt;dbl&gt; | sum_assured &lt;dbl&gt; | inc_sick_expected &lt;dbl&gt; | inc_acc_expected &lt;dbl&gt; | inc_count_sick &lt;int&gt; | inc_count_acc &lt;dbl&gt; | inc_count_tot &lt;dbl&gt; | inc_amount_sick &lt;dbl&gt; | inc_amount_acc &lt;dbl&gt; | inc_amount_tot &lt;dbl&gt; |\n",
       "|---|---|---|---|---|---|---|---|---|---|---|---|---|---|---|---|---|---|---|\n",
       "| 1 | 1 | 2018 | 4 | m | n | a65 | 90d | techn | 41 |  7119 | 0.000742731 | 0.000736533 | 0 | 0 | 0 | 0 | 0 | 0 |\n",
       "| 2 | 2 | 2018 | 5 | f | n | 5yr | 30d | blue  | 46 |  5582 | 0.001828800 | 0.010073520 | 0 | 0 | 0 | 0 | 0 | 0 |\n",
       "| 3 | 3 | 2018 | 5 | m | n | a65 | 30d | blue  | 41 |  6113 | 0.002475770 | 0.002455110 | 0 | 0 | 0 | 0 | 0 | 0 |\n",
       "| 4 | 4 | 2018 | 3 | m | n | a65 | 30d | prof  | 27 |  5147 | 0.000698100 | 0.000522340 | 0 | 0 | 0 | 0 | 0 | 0 |\n",
       "| 5 | 5 | 2018 | 8 | f | n | a65 | 30d | sed   | 53 |  8864 | 0.002478806 | 0.003137920 | 0 | 0 | 0 | 0 | 0 | 0 |\n",
       "| 6 | 6 | 2018 | 6 | f | n | 2yr | 14d | prof  | 49 | 11209 | 0.003936332 | 0.003655456 | 0 | 0 | 0 | 0 | 0 | 0 |\n",
       "\n"
      ],
      "text/plain": [
       "  id cal_year policy_year sex smoker benefit_period waiting_period occupation\n",
       "1 1  2018     4           m   n      a65            90d            techn     \n",
       "2 2  2018     5           f   n      5yr            30d            blue      \n",
       "3 3  2018     5           m   n      a65            30d            blue      \n",
       "4 4  2018     3           m   n      a65            30d            prof      \n",
       "5 5  2018     8           f   n      a65            30d            sed       \n",
       "6 6  2018     6           f   n      2yr            14d            prof      \n",
       "  age sum_assured inc_sick_expected inc_acc_expected inc_count_sick\n",
       "1 41   7119       0.000742731       0.000736533      0             \n",
       "2 46   5582       0.001828800       0.010073520      0             \n",
       "3 41   6113       0.002475770       0.002455110      0             \n",
       "4 27   5147       0.000698100       0.000522340      0             \n",
       "5 53   8864       0.002478806       0.003137920      0             \n",
       "6 49  11209       0.003936332       0.003655456      0             \n",
       "  inc_count_acc inc_count_tot inc_amount_sick inc_amount_acc inc_amount_tot\n",
       "1 0             0             0               0              0             \n",
       "2 0             0             0               0              0             \n",
       "3 0             0             0               0              0             \n",
       "4 0             0             0               0              0             \n",
       "5 0             0             0               0              0             \n",
       "6 0             0             0               0              0             "
      ]
     },
     "metadata": {},
     "output_type": "display_data"
    }
   ],
   "source": [
    "# head() returns the first 6 rows of the data frame. Similar to head(), sample_n() returns rows from our data frame, however these are chosen randomly. e.g. sample_n(df,5,replace=FALSE)\n",
    "head(df)"
   ]
  },
  {
   "cell_type": "code",
   "execution_count": 12,
   "id": "6f5a1f9f",
   "metadata": {
    "class.source": "fold-show",
    "name": "Data structure"
   },
   "outputs": [
    {
     "data": {
      "text/html": [
       "'character'"
      ],
      "text/latex": [
       "'character'"
      ],
      "text/markdown": [
       "'character'"
      ],
      "text/plain": [
       "[1] \"character\""
      ]
     },
     "metadata": {},
     "output_type": "display_data"
    }
   ],
   "source": [
    "# class() returns the class of a column.\n",
    "class(df$benefit_period)"
   ]
  },
  {
   "cell_type": "markdown",
   "id": "dc55dd4f",
   "metadata": {},
   "source": [
    "## Factors\n",
    "From the above you'll note that the categorical columns are stored as characters. Factorising these makes them easier to work with in our models e.g. for BP factorise a65|2yr|5yr as 1|2|3. Factors are stored as integers and have labels that tell us what they are, they can be ordered and are useful for statistical analysis. \n",
    "\n",
    "table() returns a table of counts at each combination of column values. prop.table() converts these to a proportion. For example, applying this to the column \"sex\" shows us that ~75% of our data is \"m\" and that the other data are either \"f\" or \"u\" (unknown)."
   ]
  },
  {
   "cell_type": "code",
   "execution_count": 13,
   "id": "1db6a19b",
   "metadata": {
    "class.source": "fold-show",
    "name": "Factorise columns - proportions"
   },
   "outputs": [
    {
     "data": {
      "text/plain": [
       "\n",
       "     f      m      u \n",
       "120951 449487  29562 "
      ]
     },
     "metadata": {},
     "output_type": "display_data"
    },
    {
     "data": {
      "text/plain": [
       "\n",
       "       f        m        u \n",
       "0.201585 0.749145 0.049270 "
      ]
     },
     "metadata": {},
     "output_type": "display_data"
    }
   ],
   "source": [
    "table(df$sex)\n",
    "prop.table(table(df$sex))"
   ]
  },
  {
   "cell_type": "markdown",
   "id": "96045709",
   "metadata": {
    "lines_to_next_cell": 0
   },
   "source": [
    "We can then convert the columns to factors based upon the values of the column and ordering by frequency. Base level should be chosen such that it has sufficient observations for an intercept to be computed meaningfully."
   ]
  },
  {
   "cell_type": "code",
   "execution_count": 14,
   "id": "ab66e980",
   "metadata": {
    "class.source": "fold-show",
    "name": "Factorise columns - factors"
   },
   "outputs": [],
   "source": [
    "df$sex <- factor(df$sex, levels = c(\"m\",\"f\",\"u\"))\n",
    "df$smoker <- factor(df$smoker, levels = c(\"n\",\"s\",\"u\"))\n",
    "df$benefit_period <- factor(df$benefit_period, levels = c(\"a65\",\"2yr\",\"5yr\"))\n",
    "df$waiting_period <- factor(df$waiting_period, labels = c(\"30d\",\"14d\",\"720d\",\"90d\"))\n",
    "df$occupation <- factor(df$occupation, labels = c(\"prof\", \"sed\",\"techn\",\"white\",\"blue\"))\n",
    "\n",
    "# do the same for the grouped data\n",
    "df_grp$sex <- factor(df_grp$sex, levels = c(\"m\",\"f\",\"u\"))\n",
    "df_grp$smoker <- factor(df_grp$smoker, levels = c(\"n\",\"s\",\"u\"))\n",
    "df_grp$benefit_period <- factor(df_grp$benefit_period, levels = c(\"a65\",\"2yr\",\"5yr\"))\n",
    "df_grp$waiting_period <- factor(df_grp$waiting_period, labels = c(\"30d\",\"14d\",\"720d\",\"90d\"))\n",
    "df_grp$occupation <- factor(df_grp$occupation, labels = c(\"prof\", \"sed\",\"techn\",\"white\",\"blue\"))"
   ]
  },
  {
   "cell_type": "markdown",
   "id": "9b005e0c",
   "metadata": {
    "lines_to_next_cell": 0
   },
   "source": [
    "If the column is already a factor, you can extract the levels to show what order they will be used in our models"
   ]
  },
  {
   "cell_type": "code",
   "execution_count": 15,
   "id": "c616ff38",
   "metadata": {
    "class.source": "fold-show",
    "name": "Factorise columns - levels"
   },
   "outputs": [
    {
     "data": {
      "text/html": [
       "<style>\n",
       ".list-inline {list-style: none; margin:0; padding: 0}\n",
       ".list-inline>li {display: inline-block}\n",
       ".list-inline>li:not(:last-child)::after {content: \"\\00b7\"; padding: 0 .5ex}\n",
       "</style>\n",
       "<ol class=list-inline><li>'m'</li><li>'f'</li><li>'u'</li></ol>\n"
      ],
      "text/latex": [
       "\\begin{enumerate*}\n",
       "\\item 'm'\n",
       "\\item 'f'\n",
       "\\item 'u'\n",
       "\\end{enumerate*}\n"
      ],
      "text/markdown": [
       "1. 'm'\n",
       "2. 'f'\n",
       "3. 'u'\n",
       "\n",
       "\n"
      ],
      "text/plain": [
       "[1] \"m\" \"f\" \"u\""
      ]
     },
     "metadata": {},
     "output_type": "display_data"
    }
   ],
   "source": [
    "levels(df$sex)"
   ]
  }
 ],
 "metadata": {
  "jupytext": {
   "cell_metadata_filter": "tags,results,language,class.source,name,warning,eval,message,-all",
   "formats": "Rmd,ipynb",
   "notebook_metadata_filter": "-all"
  },
  "kernelspec": {
   "display_name": "R",
   "language": "R",
   "name": "ir"
  },
  "language_info": {
   "codemirror_mode": "r",
   "file_extension": ".r",
   "mimetype": "text/x-r-source",
   "name": "R",
   "pygments_lexer": "r",
   "version": "4.1.0"
  }
 },
 "nbformat": 4,
 "nbformat_minor": 5
}
