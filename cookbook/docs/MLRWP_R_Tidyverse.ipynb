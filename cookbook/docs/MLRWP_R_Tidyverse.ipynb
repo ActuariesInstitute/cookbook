{
 "cells": [
  {
   "cell_type": "raw",
   "id": "839a3e97",
   "metadata": {},
   "source": [
    "---\n",
    "title: 'The tidyverse for actuaries'\n",
    "date: \"2020-10-06T17:00:00Z\"\n",
    "slug: tidyverse\n",
    "authors: \n",
    "  - ogrossman\n",
    "tags: [\"foundations\", \"R\", \"data\"]\n",
    "\n",
    "---"
   ]
  },
  {
   "cell_type": "markdown",
   "id": "e1890552",
   "metadata": {},
   "source": [
    "*This is the first of two articles that will discuss packages in R that are useful for data manipulation.*\n",
    "*The second article will discuss the data.table package.*\n",
    "*Our [previous post](/mlr-blog/post/topten-r-packages/) also has some comments on the tidyverse.*"
   ]
  },
  {
   "cell_type": "markdown",
   "id": "cb58655c",
   "metadata": {},
   "source": [
    "# The tidyverse for actuaries (R)"
   ]
  },
  {
   "cell_type": "markdown",
   "id": "83d0b01b",
   "metadata": {},
   "source": [
    "**A short introduction to how R’s “tidyverse” library makes data processing easy**\n",
    "\n",
    "The [tidyverse](https://www.tidyverse.org/), developed by Hadley Wickham, is a collection of R packages designed to make every step of data analysis clear and easy to perform. \n",
    "Throughout this blog, I introduce the three packages from the tidyverse library that I have found most useful for my own actuarial work and explain how they can help overcome the shortcomings of more traditional methods such as Excel:\n",
    "\n",
    "* `readr` – for reading and writing data quickly\n",
    "* `tidyr` – for cleaning data\n",
    "* `dplyr` – for summarising and transforming data\n",
    "\n",
    "You can download the full contents of the tidyverse in one go by installing the tidyverse “mega-package” directly.\n",
    "Alternatively you can download each package separately, as and when needed. \n",
    "For more information about using R, in general, our blog [Introduction to R](/mlr-blog/post/intro-to-r/), provides a helpful introduction."
   ]
  },
  {
   "cell_type": "markdown",
   "id": "2190cbd0",
   "metadata": {},
   "source": [
    "## readr\n",
    "\n",
    "Datasets with billions of data points are no longer uncommon. \n",
    "Just 20 years of a company’s premium data can easily exceed this. \n",
    "By specifying the number of rows and columns to be imported, `readr`’s `read_csv` function allows users to import large datasets (or subsets of the data) into R quickly. \n",
    "It is faster than opening the same files in Excel, particularly when your only purpose is to check the first few rows of content. \n",
    "This becomes especially practical when the number of rows of data exceed the number of rows in an Excel spreadsheet. \n",
    "Similarly, once you’ve used R to import and play around with your data, you can quickly write the file back out using the `write_csv` function.\n",
    "\n",
    "## tidyr\n",
    "\n",
    "`tidyr` contains a collection of tools for transforming data into an easy-to-process format. \n",
    "To list a few, there are functions that can remove/replace NAs; separate out individual column entries; and expand/contract datasets into more manageable formats. \n",
    "Rather than resort to Excel, where these operations can often require hard coding or complex functions, `tidyr` provides a clear and reproducible way of transforming data. \n",
    "\n",
    "One of my favourite `tidyr` functions is the complete function, which can be used to populate an incomplete table of triangular claims data with missing cohort and development period entries.\n",
    "\n",
    "## dplyr\n",
    "\n",
    "Once data has been imported and tidied, `dplyr` contains the functions to filter, group, merge and summarise data. \n",
    "The speed of operations is also less sensitive to dataset size than Excel – unlike Index Match, which will break down on a few thousand rows of data, `dplyr`’s equivalent `left_join` function can handle millions of rows in a matter of seconds. \n",
    "\n",
    "If, for example, you have separate claims data files for individual lines of business, `left_join` provides a convenient way of aligning all datasets with their appropriate development periods and cohorts in one table.\n",
    "\n",
    "The `dplyr` syntax sits at the heart of the tidyverse and is therefore a great first package to learn. \n",
    "The function names are deliberately interpretable making collaborative projects easy to follow. \n",
    "For those already familiar with `dplyr`, take a look at the blog post accompanying the [most recent major update](https://www.tidyverse.org/blog/2020/06/dplyr-1-0-0/), which lists some useful new features.\n",
    "\n",
    "Since all tidyverse packages share the same design philosophy, each new package learned can naturally be incorporated into your existing models/processes.\n",
    "\n",
    "It's also possible to use `dplyr` with other backends for accessing code. \n",
    "In particular:\n",
    "\n",
    "* `dtplyr` works with `data.table` so you have access to `data.table`'s speed while using `dplyr` syntax\n",
    "* `dbplyr` translates your dplyr code to SQL for data stored in relational databases"
   ]
  },
  {
   "cell_type": "markdown",
   "id": "cf0ebd50",
   "metadata": {},
   "source": [
    "## Where to look next\n",
    "\n",
    "All packages have their pros and cons, although the tidyverse is both fast and easy to read, there is a trade-off present, namely speed and dependencies.\n",
    "If processing speed is your number one priority and you want to limit your dependencies, then the [data.table package](https://rdatatable.gitlab.io/data.table/) may be of particular interest.\n",
    "The performances of popular data processing packages are benchmarked at https://h2oai.github.io/db-benchmark/, which can be a useful page to check before deciding what package to use for a certain piece of work."
   ]
  },
  {
   "cell_type": "markdown",
   "id": "b5202c5a",
   "metadata": {},
   "source": [
    "I encourage anyone wishing to learn more to read [R for data science](https://r4ds.had.co.nz/) by Garrett Grolemund and Hadley Wickham, which is available for free online. \n",
    "It formally introduces the points above as well as other tidyverse tools for data science including the `ggplot2` package for data visualisation, the `stringr` package for working with strings and the `purrr` package for more advanced functional programming. \n",
    "There is an active tidyverse community on Twitter and Stack Overflow with answers to practical problems other users have already faced and the packages themselves are constantly being developed and improved. \n",
    "I also recommend following Keith McNulty, who shares a lot of useful material on LinkedIn, [Towards Data Science](https://towardsdatascience.com/) and his [own blog](https://drkeithmcnulty.com/) as well as having a look at the [tidyverse website](https://www.tidyverse.org/) itself."
   ]
  },
  {
   "cell_type": "markdown",
   "id": "96e407df",
   "metadata": {},
   "source": [
    "## Final take away\n",
    "\n",
    "Whether you work with big data or not, the tidyverse provides a great framework to write reproducible, easy-to-follow code for manipulating and summarising data. \n",
    "It will certainly help to:\n",
    "\n",
    "* avoid hard coding and misinterpreting complex excel functions\n",
    "* improve the interpretation and speed of existing R models\n",
    "* construct new models/data processing systems in a harmonious framework"
   ]
  }
 ],
 "metadata": {
  "jupytext": {
   "cell_metadata_filter": "-all",
   "formats": "Rmd,ipynb",
   "notebook_metadata_filter": "-all"
  },
  "kernelspec": {
   "display_name": "Python 3",
   "language": "python",
   "name": "python3"
  },
  "language_info": {
   "codemirror_mode": {
    "name": "ipython",
    "version": 3
   },
   "file_extension": ".py",
   "mimetype": "text/x-python",
   "name": "python",
   "nbconvert_exporter": "python",
   "pygments_lexer": "ipython3",
   "version": "3.9.1"
  }
 },
 "nbformat": 4,
 "nbformat_minor": 5
}
