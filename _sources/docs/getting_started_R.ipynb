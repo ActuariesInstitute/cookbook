{
 "cells": [
  {
   "cell_type": "markdown",
   "id": "3f25c414",
   "metadata": {},
   "source": [
    "# Setting Up R"
   ]
  },
  {
   "cell_type": "markdown",
   "id": "312a43b6",
   "metadata": {},
   "source": [
    "By YAP and YDAWG members.\n",
    "\n",
    "This document will help you to get ready with R. Original version as a Word document can be found [here](https://github.com/ActuariesInstitute/YAP-YDAWG-R-Workshop/raw/master/R_Session_Prework.docx)."
   ]
  },
  {
   "cell_type": "markdown",
   "id": "b16fac7c",
   "metadata": {},
   "source": [
    "## Step 1 – Install base R\n",
    "### Windows\n",
    " * Download the Windows R installer from https://cran.r-project.org/bin/windows/base/"
   ]
  },
  {
   "cell_type": "markdown",
   "id": "2dd77768",
   "metadata": {},
   "source": [
    "![image.png](/_static/install_r_img/install_R_win.png)"
   ]
  },
  {
   "cell_type": "markdown",
   "id": "b37c9980",
   "metadata": {},
   "source": [
    " * Run the installer"
   ]
  },
  {
   "cell_type": "markdown",
   "id": "d7dbee1c",
   "metadata": {},
   "source": [
    "![image.png](/_static/install_r_img/install_R_win2.png)"
   ]
  },
  {
   "cell_type": "markdown",
   "id": "40226087",
   "metadata": {},
   "source": [
    "### MacOS\n",
    "![image.png](/_static/install_r_img/install_R_mac.png)"
   ]
  },
  {
   "cell_type": "markdown",
   "id": "861f407e",
   "metadata": {},
   "source": [
    " * Run the installer"
   ]
  },
  {
   "cell_type": "markdown",
   "id": "85a27f61",
   "metadata": {},
   "source": [
    "![image.png](/_static/install_r_img/install_R_mac2.png)"
   ]
  },
  {
   "cell_type": "markdown",
   "id": "0843db95",
   "metadata": {},
   "source": [
    "## Step 2 – Install RStudio\n",
    "\n",
    "RStudio is an open source development environment for R. It adds functionality to make R coding easier and faster.\n",
    " * Download the RStudio installer from https://www.rstudio.com/products/rstudio/download/#download (Windows marked in red, use the one below for MacOS."
   ]
  },
  {
   "cell_type": "markdown",
   "id": "0298d69c",
   "metadata": {},
   "source": [
    "![image.png](/_static/install_r_img/dl_Rstudio_win.png)"
   ]
  },
  {
   "cell_type": "markdown",
   "id": "02c8e058",
   "metadata": {},
   "source": [
    " * Install RStudio (Windows)"
   ]
  },
  {
   "cell_type": "markdown",
   "id": "98c95478",
   "metadata": {},
   "source": [
    "![image.png](/_static/install_r_img/install_Rstudio_win.png)"
   ]
  },
  {
   "cell_type": "markdown",
   "id": "91e4a730",
   "metadata": {},
   "source": [
    " * Install Rstudio (MacOS)\n",
    "  ![image.png](/_static/install_r_img/install_Rstudio_mac.png)"
   ]
  },
  {
   "cell_type": "markdown",
   "id": "052bba2b",
   "metadata": {},
   "source": [
    "## Step 3 – Setup package installation location\n",
    " * Open RStudio"
   ]
  },
  {
   "cell_type": "markdown",
   "id": "3e80ea04",
   "metadata": {},
   "source": [
    "![image.png](/_static/install_r_img/code_editor.png)"
   ]
  },
  {
   "cell_type": "markdown",
   "id": "fb879edd",
   "metadata": {},
   "source": [
    "Packages are additional functions and tools that extend R’s functionality.  They are critical to making full use of R and RStudio."
   ]
  },
  {
   "cell_type": "markdown",
   "id": "03c657c9",
   "metadata": {},
   "source": [
    "## Step 4 – Install the packages\n",
    "\n",
    "You may now run code or commands by typing it into editor and using ``Ctrl+Enter`` to run, or directly into the R console and pressing ``Enter``.\n",
    "\n",
    " * The ``install.packages`` command will download and install R packages\n",
    " * Packages that require other packages will install all dependencies at once\n",
    "\n",
    " * Run ``install.packages(<<package name>>)`` for each of the packages listed above → This will download and install the packages into your library\n",
    " * Finally, run the ``library(<<package name>>)`` command to load the library into your R session\n",
    "\n",
    "You can use the ``sessionInfo()`` command to list out the packages your R session has attached."
   ]
  }
 ],
 "metadata": {
  "jupytext": {
   "formats": "ipynb,md:myst",
   "text_representation": {
    "extension": ".md",
    "format_name": "myst",
    "format_version": 0.13,
    "jupytext_version": "1.11.3"
   }
  },
  "kernelspec": {
   "display_name": "R",
   "language": "R",
   "name": "ir"
  },
  "source_map": [
   13,
   17,
   22,
   28,
   32,
   36,
   40,
   45,
   49,
   53,
   60,
   64,
   68,
   72,
   77,
   82,
   86,
   90
  ]
 },
 "nbformat": 4,
 "nbformat_minor": 5
}