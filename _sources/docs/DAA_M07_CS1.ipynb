{
 "cells": [
  {
   "cell_type": "markdown",
   "metadata": {
    "id": "njI8FKEItd9W"
   },
   "source": [
    "# Py: Classifying review sentiment\n",
    "**This notebook was originally created by Rob Daly for the Data Analytics Applications subject, as *Case study 7.1 - Classifying automative reviews* in the *DAA M07 Natural language processing* module.**\n",
    "\n",
    "**Data Analytics Applications is a Fellowship Applications (Module 3) subject with the Actuaries Institute that aims to teach students how to apply a range of data analytics skills, such as neural networks, natural language processing, unsupervised learning and optimisation techniques, together with their professional judgement, to solve a variety of complex and challenging business problems. The business problems used as examples in this subject are drawn from a wide range of industries.**\n",
    "\n",
    "**Find out more about the course [here](https://www.actuaries.asn.au/education-program/fellowship/subjects-and-syllabus/data-analytics-applications-subject).**\n",
    "\n",
    "### Purpose:\n",
    "This notebook walks through the use of NLP to analyse customer sentiment. The objective of the case study is to identify 'complaints' from a sample of YELP reviews for automotive companies. YELP is a North American review service where customers review different service providers. Reviewers write a text review and are then asked to rate the service on a five point scale.\n",
    "\n",
    "### References:\n",
    "The dataset that is used in this case study was sourced from a Kaggle competition in which YELP provided a set of reviews: https://www.kaggle.com/yelp-dataset/yelp-dataset.\n",
    "\n",
    "It contains information about businesses across 8 metropolitan areas in the USA and Canada.\n",
    "\n",
    "For this case study, the dataset has been refined to contain 50,000 reviews for companies tagged as 'automotive'."
   ]
  },
  {
   "cell_type": "markdown",
   "metadata": {
    "id": "i6Y14-b-TExF"
   },
   "source": [
    "## Packages\n",
    "This section installs packages that will be required for this exercise/case study."
   ]
  },
  {
   "cell_type": "code",
   "execution_count": 1,
   "metadata": {
    "colab": {
     "base_uri": "https://localhost:8080/"
    },
    "id": "7yh6NJoqtd9h",
    "outputId": "232d97a7-9593-4f3e-83eb-875b63724ce3"
   },
   "outputs": [
    {
     "name": "stderr",
     "output_type": "stream",
     "text": [
      "[nltk_data] Downloading package punkt to /Users/Jacky/nltk_data...\n",
      "[nltk_data]   Package punkt is already up-to-date!\n"
     ]
    }
   ],
   "source": [
    "import json # Json is used to load json files.\n",
    "import os # os is used to join paths for windows and unix use.\n",
    "import random # For random number generation.\n",
    "import time # Useful for timing processes.\n",
    "\n",
    "from collections import Counter # Counter provides a quick way to add items in a list.\n",
    "from collections import defaultdict # Enhanced mapping dictionary that can take a default value.\n",
    "import numpy as np # For mathematical operations.\n",
    "import matplotlib.pyplot as plt # For plotting.\n",
    "\n",
    "from nltk.tokenize import word_tokenize\n",
    "  # 'word_tokenize' is a tokeniser for natural language.\n",
    "  # There are many such options available.\n",
    "import nltk\n",
    "nltk.download('punkt')\n",
    "\n",
    "# Sklearn has many useful machine learning packages.\n",
    "# The following are used in the notebook.\n",
    "from sklearn.model_selection import train_test_split\n",
    "from sklearn.linear_model import LogisticRegression\n",
    "from sklearn.preprocessing import StandardScaler\n",
    "from sklearn import metrics\n",
    "\n",
    "# Used to read files from a web URL\n",
    "from urllib.request import urlretrieve\n",
    "\n",
    "# Package used in the confusion matrix function.\n",
    "import itertools\n"
   ]
  },
  {
   "cell_type": "markdown",
   "metadata": {
    "id": "HdyuBuTTTij1"
   },
   "source": [
    "## Functions\n",
    "This section defines functions that will be used for this exercise/case study."
   ]
  },
  {
   "cell_type": "code",
   "execution_count": 2,
   "metadata": {
    "id": "PNRRGSdqTjg5"
   },
   "outputs": [],
   "source": [
    "# Define a function to load a json data file.\n",
    "def load_json(data_set_name, dir = '', verbose=True):\n",
    "    '''\n",
    "    This is a function to load the yelp dataset which is stored in json format.\n",
    "    Use the optional dir argument if the file is not in the same directory\n",
    "    as the notebook.\n",
    "    '''\n",
    "    if verbose:\n",
    "        print('loading', data_set_name, 'data ', end = '')\n",
    "        # If the user has set Verbose = True (or omitted this argument),\n",
    "        # these lines of code provide a message to the person running the code\n",
    "        # that the dataset is being loaded.\n",
    "    \n",
    "    filename = os.path.join(dir, data_set_name)\n",
    "    f = open(filename, encoding='utf8')\n",
    "\n",
    "    data_set = list()\n",
    "    for counter, line in enumerate(f):\n",
    "        data_set.append(json.loads(line))\n",
    "        \n",
    "        if verbose and ((counter % 100000) == 0):\n",
    "            print('.', end='')\n",
    "            # If the dataset is very big, these lines of code print '.'s to\n",
    "            # show that the import step is progressing.\n",
    "\n",
    "    f.close()\n",
    "    \n",
    "    if verbose: \n",
    "        print(' {:,} observations have been imported.'.format(len(data_set)))\n",
    "        # This statement summarises the number of observations that have been\n",
    "        # imported from the dataset.\n",
    "    \n",
    "    return data_set"
   ]
  },
  {
   "cell_type": "code",
   "execution_count": 3,
   "metadata": {
    "id": "jSUuz1h_-8eM"
   },
   "outputs": [],
   "source": [
    "# Define a function to print the Yelp reviews neatly.\n",
    "def print_review(review):\n",
    "    for item in ['business_id', 'stars', 'funny', 'review_id', 'date', 'useful',\n",
    "                 'user_id', 'cool']:\n",
    "        print('{:<12s}: {:}'.format(item, review[item]))\n",
    "    print ('text: \"', review['text'], '\"', sep = '')\n",
    "    # The default for print() is to put a space between each argument. \n",
    "    # Here sep='' is used to overrule this.\n",
    "    print()\n",
    "    \n",
    "    return"
   ]
  },
  {
   "cell_type": "code",
   "execution_count": 4,
   "metadata": {
    "id": "jv_QA5aNAPMB"
   },
   "outputs": [],
   "source": [
    "# Define a function to select reviews with a certain rating (number of stars).\n",
    "def sample_with_rating(review_data, rating, sample_size):\n",
    "    select_data = [data_row for data_row in review_data \\\n",
    "                   if data_row['stars'] == rating]\n",
    "    review_sample = random.sample(select_data, sample_size)\n",
    "    return review_sample"
   ]
  },
  {
   "cell_type": "code",
   "execution_count": 5,
   "metadata": {
    "id": "9EzaYmgDBgtv"
   },
   "outputs": [],
   "source": [
    "# Define a function to format the summary of review ratings.\n",
    "def print_review_count(review_count):\n",
    "    head_format = '{:<7s}  {:>10s} {:>10s}'\n",
    "    row_format = '{:<7}  {:>10,} {:>10.1%}'\n",
    "    \n",
    "    print(head_format.format('Stars', 'Total', 'Percent'))\n",
    "    print(head_format.format('-----', '-----', '-------'))\n",
    "        \n",
    "    total_reviews = sum([count for count in review_count.values()])\n",
    "\n",
    "    # Add the percent to a dictionary indexed in the same way.\n",
    "    review_perc = dict()\n",
    "    for rating, review in review_count.items():\n",
    "        review_perc[rating] = review/total_reviews\n",
    "    \n",
    "    for k in range(5, 0, -1):\n",
    "        print(row_format.format(('*'*k), review_count[k], review_perc[k]))\n",
    "\n",
    "    print(head_format.format('','-------','-------'))\n",
    "    print(row_format.format('Total', total_reviews, 1))"
   ]
  },
  {
   "cell_type": "code",
   "execution_count": 6,
   "metadata": {
    "id": "vXjUDOUUjLVm"
   },
   "outputs": [],
   "source": [
    "# Define a function to print some example reviews based on a user input\n",
    "# of 'min', 'max', 'average' etc summary function.\n",
    "def print_certain_reviews(data, summ_func, descr):\n",
    "    # The 'summ_func' will be 'min', 'max', 'average', 'median' etc.\n",
    "    certain_review = summ_func([length for (review, length) in data])\n",
    "    reviews = [review for (review, length) in data if length == certain_review]\n",
    "    review_count = len(reviews)\n",
    "    if review_count == 1:\n",
    "        print(\"Below is the 1 {:s} review of {:,} words:\".format(descr, certain_review))\n",
    "    else:\n",
    "        print(\"Below are the {:,} {:s} reviews of {:,} words:\".format(review_count, descr, certain_review))\n",
    "      \n",
    "    for review in reviews:\n",
    "        print('\"',review,'\"')\n",
    "    print()"
   ]
  },
  {
   "cell_type": "code",
   "execution_count": 7,
   "metadata": {
    "id": "dzXLDKVKtd9_",
    "tags": []
   },
   "outputs": [],
   "source": [
    "# Define a function to perform the Bag of Words vectorisation.\n",
    "def vectorise_data(data_set, vocab):\n",
    "    matrix = []\n",
    "    for k, review in enumerate(data_set):\n",
    "        if k % 1000 == 0:\n",
    "            print('.', end='')\n",
    "            # Prints '.' every 1,000 reviews so that you\n",
    "            # know the code is still running.\n",
    "        token_count = Counter(review['tokens'])\n",
    "            # Create a count of all the unique tokens in the review.\n",
    "        matrix.append([token_count.get(token, 0) for token in vocab])\n",
    "            # The token counts for the review are added to 'matrix'. \n",
    "            # The 'get' function of Counter is used to return a 0\n",
    "            # for any tokens in the vocabulary that are not in a review.\n",
    "    print()\n",
    "    \n",
    "    return matrix"
   ]
  },
  {
   "cell_type": "code",
   "execution_count": 8,
   "metadata": {
    "id": "OJMAGu5EQCSF"
   },
   "outputs": [],
   "source": [
    "# Define a function to calculate a range of success metrics for a fitted model.\n",
    "def return_metrics(y, y_pred):\n",
    "    scores = dict()\n",
    "    scores['Accuracy'] = metrics.accuracy_score(y, y_pred)\n",
    "    scores['F1-score'] = metrics.f1_score(y, y_pred, average='binary', pos_label=True)\n",
    "    scores['Precision'] = metrics.precision_score(y, y_pred, pos_label=True)\n",
    "    scores['Recall'] = metrics.recall_score(y, y_pred, pos_label=True)   \n",
    "    scores['Confusion Matrix'] = metrics.confusion_matrix(y, y_pred)\n",
    "\n",
    "    return scores"
   ]
  },
  {
   "cell_type": "code",
   "execution_count": 9,
   "metadata": {
    "id": "pm8fM0QCTRaF"
   },
   "outputs": [],
   "source": [
    "# Define a function to plot confusion matrices in an easy to visualise format.\n",
    "def plot_confusion_matrix(cm, classes,\n",
    "                          title='Confusion matrix',\n",
    "                          cmap=plt.cm.Blues):\n",
    "    '''\n",
    "    This function prints and plots a nicely formatted confusion matrix.\n",
    "    '''\n",
    "    plt.imshow(cm, interpolation='nearest', cmap=cmap)\n",
    "    plt.title(title)\n",
    "    plt.colorbar()\n",
    "    tick_marks = np.arange(len(classes))\n",
    "    plt.xticks(tick_marks, classes, rotation=45)\n",
    "    plt.yticks(tick_marks, classes)\n",
    "\n",
    "    thresh = cm.max() / 2.\n",
    "    for i, j in itertools.product(range(cm.shape[0]), range(cm.shape[1])):\n",
    "        plt.text(j, i, cm[i, j],\n",
    "                 horizontalalignment='center',\n",
    "                 color='white' if cm[i, j] > thresh else 'black')\n",
    "\n",
    "    plt.tight_layout()\n",
    "    plt.ylabel('True response')\n",
    "    plt.xlabel('Predicted response')"
   ]
  },
  {
   "cell_type": "code",
   "execution_count": 10,
   "metadata": {
    "id": "VnItZVATQlGN"
   },
   "outputs": [],
   "source": [
    "# Define a function to print out the success metrics of a model.\n",
    "def print_scores(scores, confused = False):\n",
    "    print(('{:^9} '*4).format(*scores.keys()))\n",
    "    print(('{:^9.1%} '*4).format(*scores.values()))\n",
    "\n",
    "    if confused:\n",
    "            plot_confusion_matrix(scores['Confusion Matrix'],\n",
    "                                   classes = ['Non-complaint', 'Complaint'])"
   ]
  },
  {
   "cell_type": "markdown",
   "metadata": {
    "id": "upjgBFUTTmId"
   },
   "source": [
    "## Data\n",
    "This section:\n",
    "- imports the data that will be used in the modelling;\n",
    "- explores the data; and\n",
    "- prepares the data for modelling."
   ]
  },
  {
   "cell_type": "markdown",
   "metadata": {
    "id": "5ypYqnjDTtYf"
   },
   "source": [
    "### Import data\n"
   ]
  },
  {
   "cell_type": "code",
   "execution_count": 11,
   "metadata": {},
   "outputs": [
    {
     "data": {
      "text/plain": [
       "('DAA_M07_CS1_data.json', <http.client.HTTPMessage at 0x1297bdca0>)"
      ]
     },
     "execution_count": 11,
     "metadata": {},
     "output_type": "execute_result"
    }
   ],
   "source": [
    "# Specify the URL of the dataset to be imported.\n",
    "url = 'https://actuariesinstitute.github.io/cookbook/_static/daa_datasets/DAA_M07_CS1_data.json'\n",
    "\n",
    "urlretrieve(url, \"DAA_M07_CS1_data.json\")"
   ]
  },
  {
   "cell_type": "code",
   "execution_count": 12,
   "metadata": {
    "colab": {
     "base_uri": "https://localhost:8080/"
    },
    "id": "OVFWecR-bDq1",
    "outputId": "f0e49ea8-3cdd-47bf-d303-5b7e7ca3f11c"
   },
   "outputs": [
    {
     "name": "stdout",
     "output_type": "stream",
     "text": [
      "loading DAA_M07_CS1_data.json data . 50,000 observations have been imported.\n"
     ]
    }
   ],
   "source": [
    "# Read the required YELP file.\n",
    "review_data = load_json(\"DAA_M07_CS1_data.json\")\n",
    "\n",
    "# Alternatively, use the code below with Google Colab to upload the file\n",
    "# from your computer.\n",
    "\n",
    "# from google.colab import files\n",
    "# files.upload()\n",
    "  # When prompted, select the DAA_M07_CS1_data.json dataset to upload.\n",
    "  # Note that this may take some time to upload as the file is large.\n",
    "# review_data = load_json('DAA_M07_CS1_data.json')"
   ]
  },
  {
   "cell_type": "markdown",
   "metadata": {
    "id": "SySVliURtd9p"
   },
   "source": [
    "### Explore data (EDA)\n",
    "The following data exploration is performed below:\n",
    "- look at the features available in the data;\n",
    "- show some example reviews;\n",
    "- see how many reviews there are in each rating category; and\n",
    "- look at how long the reviews are.\n"
   ]
  },
  {
   "cell_type": "code",
   "execution_count": 13,
   "metadata": {
    "colab": {
     "base_uri": "https://localhost:8080/"
    },
    "id": "ZmKcMhoKtd9q",
    "outputId": "bdeb110f-9c0d-4c59-996b-ee5d5ec18351",
    "tags": []
   },
   "outputs": [
    {
     "name": "stdout",
     "output_type": "stream",
     "text": [
      "{'user_id', 'date', 'review_id', 'text', 'funny', 'business_id', 'useful', 'cool', 'stars'}\n",
      "{'user_id', 'date', 'review_id', 'text', 'funny', 'business_id', 'useful', 'cool', 'stars'}\n"
     ]
    }
   ],
   "source": [
    "# Extract the feature names from the data.\n",
    "features = {key for review in review_data for key in review.keys()}\n",
    "  # The '{}' brackets are used to define a set that contains unique entries.\n",
    "print(features)\n",
    "\n",
    "# The feature names could also be obtained used a for loop per the code below.\n",
    "# This is a less efficient way of extracting the information.\n",
    "features2 = set() # This creates an empty set.\n",
    "for review in review_data:\n",
    "    for key in review.keys():\n",
    "        features2.add(key)\n",
    "print(features2)"
   ]
  },
  {
   "cell_type": "code",
   "execution_count": 14,
   "metadata": {
    "colab": {
     "base_uri": "https://localhost:8080/"
    },
    "id": "-aHfNSzztd9u",
    "outputId": "0e5ff8fb-5121-452d-f3d4-9aee192754ae",
    "tags": []
   },
   "outputs": [
    {
     "name": "stdout",
     "output_type": "stream",
     "text": [
      "business_id : MqcUTJ6T_DsJVBreh5r68g\n",
      "stars       : 5.0\n",
      "funny       : 1\n",
      "review_id   : DbOWQ9bysVDBo9ILkWZf6g\n",
      "date        : 2019-06-26 14:03:43\n",
      "useful      : 0\n",
      "user_id     : OJz7Rbav0tm1AAXwArGE6A\n",
      "cool        : 0\n",
      "text: \"Well Just picked up 4th vehicle that has gone to Notorious. Also referred a number of friends to them. Quality work, come up with great ideas on little details, shop and staff are unreal and pricing is fair but you get what you pay for! Will be dropping off #5 as soon as it gets delivered!\"\n",
      "\n",
      "business_id : H7mjnD5AZoMZDyNjUEcVDg\n",
      "stars       : 5.0\n",
      "funny       : 0\n",
      "review_id   : v1153so3LG3Pfbd0ojx6IA\n",
      "date        : 2011-08-15 21:37:48\n",
      "useful      : 0\n",
      "user_id     : JV1lIvs4oUevaPJh5O4Yqw\n",
      "cool        : 1\n",
      "text: \"Had the guys from suburban come out and install  shower glass and a wall to wall mirror for us, they did a great job for us. When we had an issue with one of the shower pieces and they came right away and fixed it for us at no additional charge.\"\n",
      "\n",
      "business_id : ApG6TS7aDiYSZaGjcuzEHA\n",
      "stars       : 5.0\n",
      "funny       : 0\n",
      "review_id   : yEZfm2_UlRoOMljPG7STsg\n",
      "date        : 2017-12-13 00:19:38\n",
      "useful      : 2\n",
      "user_id     : Njgb90oPFcntk7ErRozvwA\n",
      "cool        : 0\n",
      "text: \"I recently purchased a 2015 A6 from the Audi Chandler dealership and am very happy with the whole process. The saleswoman Adora was not pushy and awesome to work with me on pricing. I spent about 3 hours there on a Friday night (time well spent) and was finally able to make a deal. They also worked with me on dropping off my previous lease and taking care of the whole lease drop off process.\n",
      "\n",
      "Appreciate Adora and team for working with me on the purchase. Will be doing more business here in the future.\"\n",
      "\n",
      "business_id : LwNZ1AR4_5iukgQYuhmTOg\n",
      "stars       : 1.0\n",
      "funny       : 0\n",
      "review_id   : kshpl7b25ndcTM2oa7eHJg\n",
      "date        : 2017-04-22 02:48:47\n",
      "useful      : 1\n",
      "user_id     : bfyel8hfVMpbwmYZRAKmJQ\n",
      "cool        : 0\n",
      "text: \"So I came here looking at a 2005 Bentley Continental Gt that they had pre-owned. Met a fantastic guy named Sal, great person, very friendly and pretty much closed the deal. Once we got inside for paperwork, a person by the name of Zayne disrespected me so fouly, I don't want to put down here what he did, but, I immediately walked away because of the amount of disrespect he gave me, very disgusting. I highly recommend you do not do business with Zayne. I rate 1 star solely because of that man.\"\n",
      "\n",
      "business_id : 8Ivagy4hMgx7hHdY_QJ_hA\n",
      "stars       : 5.0\n",
      "funny       : 1\n",
      "review_id   : BQZ_18SrDN4WIo20waGlmQ\n",
      "date        : 2014-05-24 16:38:03\n",
      "useful      : 1\n",
      "user_id     : yTiYaNdjrHvUtQgmYyybbg\n",
      "cool        : 0\n",
      "text: \"Customer service was top notch all the way around. Fast and easy process, no games. Extremely happy with the entire experience. Will definitely be back for my next vehicle and will recommend family and friends.\n",
      "\n",
      "Spencer was a big help. \n",
      "\n",
      "Thanks Matt!!\"\n",
      "\n"
     ]
    }
   ],
   "source": [
    "# Print a sample of 5 random reviews from the full dataset.\n",
    "review_sample = random.sample(review_data, 5)\n",
    "  # The 'sample' method in the 'random' package selects, without replacement,\n",
    "  # the number of items you want from a list.\n",
    "\n",
    "for review in review_sample:\n",
    "    print_review(review)"
   ]
  },
  {
   "cell_type": "code",
   "execution_count": 15,
   "metadata": {
    "colab": {
     "base_uri": "https://localhost:8080/"
    },
    "id": "9a5_butntd9w",
    "outputId": "896daf1a-e0d2-45b6-d716-6721863b9a27",
    "tags": []
   },
   "outputs": [
    {
     "name": "stdout",
     "output_type": "stream",
     "text": [
      "business_id : hKC0ZeoiCUmYCsJVTAQEgQ\n",
      "stars       : 1.0\n",
      "funny       : 0\n",
      "review_id   : DjkV7-E7wngueXpeI1DGjQ\n",
      "date        : 2013-10-18 12:51:01\n",
      "useful      : 2\n",
      "user_id     : hm1MLz1yJV--ceZG4RY1oA\n",
      "cool        : 0\n",
      "text: \"Had an unexpected brake problem with my Honda. Called in advance to see if they could look at my vehicle that day. Had it towed in and it took them two days to put new brakes on. I never received an estimate. Every time they gave me that it would be completed they missed. They called at 4:45 and said it was almost done. When I arrived one hour later it still was not done. And as I pulled out of the parking lot I noticed my clock and radio were not working and need to be reset. How can a brake job affect your radio?! I wouldn't trust these fools to put air in my tires. Overpriced, under deliver, disrespectful and incompetent. BEWARE!\"\n",
      "\n",
      "business_id : 4r_oR7zo2oV0_BGlAN6ltw\n",
      "stars       : 1.0\n",
      "funny       : 0\n",
      "review_id   : jw5_7C9XQZyHLem6oEw9iw\n",
      "date        : 2017-02-11 19:23:32\n",
      "useful      : 0\n",
      "user_id     : qC3OGrFVAKacAvT51scF-w\n",
      "cool        : 0\n",
      "text: \"**SCAM ALERT**\n",
      "Thought their alignment / oil change package was a good deal on Groupon so I bought it and took in my truck. My left front ball joint was dry as a bone and a little squeaky when I dropped it off. When I got it back the manager, an older honest looking white guy, told me my ball joint was shot and so were my shocks and that I'd need to put a few grand into the repairs in the near future if I wanted to keep her on the road. He said they did what they could with the alignment but it wouldn't stay out with such a damaged joint. Needless to say the alignment went out of whack quickly. Took the truck in to a friend at another shop and it turns out the guys at Fletcher's had loosened the joint to make it worse and left it dry in an attempt to con me. All it needed was a tightening and some lube. I hate to leave negative reviews but this place is trouble and you guys need to know about it.\n",
      "**AVOID THIS SHOP**\"\n",
      "\n",
      "business_id : QC8cV2iUE7dtXW-CayBgUg\n",
      "stars       : 1.0\n",
      "funny       : 1\n",
      "review_id   : O6MawRG6VC90AOHoKWygqA\n",
      "date        : 2016-10-28 19:08:49\n",
      "useful      : 4\n",
      "user_id     : IfX18Uxx_zjipapPOG7CwQ\n",
      "cool        : 1\n",
      "text: \"My wife and myself just moved to the Summerlin area from Rancho Mirage, Ca. We have been Porsche owners for the past 30 years... most recently a Cayenne Turbo. We went to the dealer looking for a Panamera. We had another trade in for them to look at. We found a silver Panamera that we liked and the salesman ( not named to protect the guilty) said he would give us a great deal. We probably should have walked out then when he said that. I gave him the vin# for the trade in and he then put everything into the computer. After about 10 minutes of plugging everything in he then left to supposedly talk to his manager to \"give us a great deal.\" After another 10 minutes he came back with a lowball trade in number which he claimed was from KBB,  and also virtually nothing off the Panamera...he previously said that they wanted to move the car and it would show in the numbers he was going to give me. I then gave him my printed copy of the KBB  dealer trade in value which was $10,000 higher than his trade in number. He must have sized us up and thought we were stupid. We then left. The next day I called my old dealership and one more on an identical Panamera, and not only received the KBB trade in value, but also $8,000 off the new Panamera. It was pretty obvious that Gaudin was just trying to pick us off. Needless to say we will never go back even for servicing on our cars.\"\n",
      "\n",
      "business_id : DOGLO1H45GV3C2cd-FzcOw\n",
      "stars       : 1.0\n",
      "funny       : 0\n",
      "review_id   : _jDN7Re70eQV224gDkkULw\n",
      "date        : 2017-07-05 07:02:10\n",
      "useful      : 1\n",
      "user_id     : EUZu6ds0MHtyUDwLgezWOQ\n",
      "cool        : 0\n",
      "text: \"My 2008 Kia Sedona had a recall so I called to make an appointment. I also had a jammed seat so I figured I would get both issues taken care of at the same time. I was advised if my seat was an easy fix there would be no charge. If it was more complicated they would have to charge me. Fair enough. I brought my car in at the scheduled time. I was told 2 hours so I decided not to wait. No shuttle was offered so I called for a ride. Over 4 hours later I received a call that my car was ready. I showed up and they were just finishing drying my car. I was handed my keys and was told my car was washed, recall fixed and my seat fixed. No charge. I was not given any paperwork for what was done on my car. I thought it was odd but figured it was because I wasn't charged anything. I was thrilled. The next day I needed to take my seats out. My seat was still jammed!!  I called immediately. Was told the Service dept was closed but a manger would definitely call as I should have been given paperwork on what was completed and she also said it was unacceptable that I was told a service was preformed and it wasn't. I am not even sure if the recall issue was completed. I never received a call from the manager of the service dept. I am extremely unhappy with the (lack) of service and follow up. I will never again go back. They obviously don't care about their customers.\"\n",
      "\n",
      "business_id : dWsQ4HSqSQU3vetA0us10w\n",
      "stars       : 1.0\n",
      "funny       : 1\n",
      "review_id   : 3Jug_Ik6CStmymKoexmxXA\n",
      "date        : 2010-02-25 04:53:54\n",
      "useful      : 2\n",
      "user_id     : -NcqwXiuFY9b1nsz3VJ27g\n",
      "cool        : 1\n",
      "text: \"I bought my brand new Jeep from Courtesy Dodge. The customer service for that was great. They went out of their way, rented me a car until my new Jeep was available for pick up etc.\n",
      "My experience in their service dept. was not so impressive. Do not let them run a diagnostics test on your vehicle unless you want to be ripped off. I asked them (1 year after purchasing) \"why is my engine light on?\"  And without asking us any questions or giving us any quotes the handy-dandy mechanic went ahead and ran one of their handy-dandy diagnostic tests to reveal the possible cause for this handy-dandy engine indicator light going off . $200 or so later (just for the test) it turns out engine light goes off because locking gascap (that was installed 2 months prior ) was not  \"compatible\" \n",
      "Who would have thought?? \n",
      "\n",
      "This is my advice:\n",
      "Save yourself the money and go buy a diagnostics tester from Canadian Tire and test it yourself! This new on-board diagnostic indicator stuff  in vehicles now is apparently a whole different line of technology than what people are used to. Another scam for the automobile consumers!  I Wish I would have known this before.\n",
      "Has anyone else had a bad experience with them because I would like to know seeing that I apparently have no choice but to take my Jeep back there for maintenance and repairs... Thanks.\"\n",
      "\n"
     ]
    }
   ],
   "source": [
    "# Print 5 random reviews with 1 star ratings using the\n",
    "# 'sample_with_rating' function defined at the top of the notebook.\n",
    "review_sample = sample_with_rating(review_data, rating=1, sample_size=5)\n",
    "for review in review_sample:\n",
    "    print_review(review)"
   ]
  },
  {
   "cell_type": "code",
   "execution_count": 16,
   "metadata": {
    "colab": {
     "base_uri": "https://localhost:8080/"
    },
    "id": "vN8kLDTRtd9x",
    "outputId": "e36bcd41-095e-446c-d40e-19879b1606e2",
    "tags": []
   },
   "outputs": [
    {
     "name": "stdout",
     "output_type": "stream",
     "text": [
      "Stars         Total    Percent\n",
      "-----         -----    -------\n",
      "*****        27,101      54.2%\n",
      "****          3,915       7.8%\n",
      "***           1,790       3.6%\n",
      "**            2,470       4.9%\n",
      "*            14,724      29.4%\n",
      "            -------    -------\n",
      "Total        50,000     100.0%\n"
     ]
    }
   ],
   "source": [
    "# Count the number of reviews in each rating category.\n",
    "# This is done using a counter as an efficient method to iterate through items.\n",
    "\n",
    "review_count = Counter([review['stars'] for review in review_data])\n",
    "  # A list constructor is used to produce a list of all the star ratings\n",
    "  # and the Counter function is then used to count how many reviews there are\n",
    "  # in each star rating group.\n",
    "\n",
    "print_review_count(review_count)"
   ]
  },
  {
   "cell_type": "code",
   "execution_count": 17,
   "metadata": {
    "colab": {
     "base_uri": "https://localhost:8080/"
    },
    "id": "vJXWzM7Ktd91",
    "outputId": "29839b82-5d98-4209-8cae-d9a9b5042f83",
    "tags": []
   },
   "outputs": [
    {
     "name": "stdout",
     "output_type": "stream",
     "text": [
      "The longest character length in a review is 5,000.\n",
      "The shortest character length in a review is 1.\n",
      "The average character length of reviews is 630.\n",
      "The median character length of reviews is 436.\n",
      "\n",
      "The longest word length in a review is 1,051.\n",
      "The shortest word length in a review is 1.\n",
      "The average word length of reviews is 119.\n",
      "The median word lenth of reviews is 82.\n"
     ]
    }
   ],
   "source": [
    "# Check the length of different reviews.\n",
    "# A list constructor is used to produce a list of how long each review is\n",
    "# in characters. \n",
    "review_length_characters = [len(review['text']) for review in review_data]\n",
    "\n",
    "# Print summary statistics for the number of characters in each review.\n",
    "print('The longest character length in a review is {:,}.'.format(max(review_length_characters)))\n",
    "print('The shortest character length in a review is {:,}.'.format(min(review_length_characters)))\n",
    "print('The average character length of reviews is {:.0f}.'.format(np.mean(review_length_characters)))\n",
    "print('The median character length of reviews is {:.0f}.'.format(np.median(review_length_characters)))\n",
    "print()\n",
    "\n",
    "# A list constructor is used to produce a list of how long each review is\n",
    "# in words.\n",
    "review_length_words = [len(review['text'].split()) for review in review_data]\n",
    "  # The str.split() function breaks a string by approximate word breaks. \n",
    "\n",
    "## Print summary statistics for the number of words in each review.\n",
    "print('The longest word length in a review is {:,}.'.format(max(review_length_words)))\n",
    "print('The shortest word length in a review is {:,}.'.format(min(review_length_words)))\n",
    "print('The average word length of reviews is {:.0f}.'.format(np.mean(review_length_words)))\n",
    "print('The median word lenth of reviews is {:.0f}.'.format(np.median(review_length_words)))"
   ]
  },
  {
   "cell_type": "code",
   "execution_count": 18,
   "metadata": {
    "colab": {
     "base_uri": "https://localhost:8080/"
    },
    "id": "4tLD-2D_td93",
    "outputId": "aa302ce3-49e4-4d7d-9e3f-13d27b1da85c",
    "tags": []
   },
   "outputs": [
    {
     "name": "stdout",
     "output_type": "stream",
     "text": [
      "Below are the 4 shortest reviews of 1 words:\n",
      "\" L \"\n",
      "\" Great! \"\n",
      "\" :) \"\n",
      "\" :) \"\n",
      "\n",
      "Below is the 1 longest review of 1,051 words:\n",
      "\" CAUTION!!!!!! DO NOT GO HERE!!!! If I could I'd give this place a -5 star!!! That's the first red flag u should know. I have a long story & from reading ALOT of reviews id say about 98% of them r poor reviews about this place. About 5 of them r very similar to mine. So here's my horrible story and experience...It was last month in Oct of 2015 ,I've been hearing about the Tent sale on 83rd between Bell rd & T-bird. Sale started Oct 22nd. So I have a 2014 Crystler 200 & it was my first car I've owned, by this time I had it for about 7 months. My heart was set on a Kia Optima but ended up settling for the 200. So when we get there we are given a person to take us around to look at cars. We were with 2 guys, Brian & Tavo from Vans Chevy. Before I go on, Tavo is an amazing nice guy that is very honest, very helpful so I have nothing bad to say about Tavo. Anyways, Brian shows me a few white optimas but eventually I see a black one w/ black rims, pretty much wanted it . I test drove it & all. Sat down & we negotiated a lot mainly on payments. I wanted 0 down & $350/month. I wanted 0 down because I did not have anything to put down but my trade in & had to make my payment for my 200 on Oct 27th of $330. Brian told me after all the negotiations, ok how about u put down $330 of the payment u were gonna do for the 200 & I said, R u sure I can do that since I have to make that payment for my 200? He said yes, once you sign over the 200 to us you don't have to make payments to them. So I believed him & ended up doing $375/month for the Kia, which we financed with Sammy. Brian also stated that my credit score was great. So I had a good feeling no need for a cosigner which I didn't have for my 200. We swapped keys & the Kia was mine ! I finally felt like I was complete with the car I've been wanting and it was perfect for our baby on the way! About a week goes by & Sammy calls letting me know about the banks he's seeing which one will take the loan. In the mean time my credit union calls me a day after my payment for the 200 was due asking for the payment so I told them,car is not in my possession I traded it in & Brian told me I don't need to pay for this month. The credit union guy tells me that I'm still responsible for my loan payment until they do the pay off. I told him no that's not how it works & they told me diff,I don't have to pay u guys it's not in my possession. About a week & a half goes by & Sammy is asking if I have a cosigner. I say no. Try the TruWest bank my 200 is through.They accepted me. After almost two weeks I try calling & calling his number to speak with Sammy. I can't get through and I leave messages to the front desk to have him call me back . Days go by-nothing. I even call over there while I'm at work to see if he called the credit union, supposedly he said he did but I doubt he did cuz when I spoke w/ credit union they have no notes or record of them calling.\n",
      "I'm getting really impatient by now & it's taking longer than it should . I keep calling & finally speak w/ Sammy & he said we still \"need\" a cosigner to do this deal so I give him my fiancés info & I know for sure they could check if he qualifies in no less than 5 min. It took him another week & a half to tell me he wasn't approved either. I felt like he kept us in the dark & this whole time I'm still wondering if the Kia is going to be mine. At this time it's almost been 3 weeks of attempting phone calls to him. The girl just says he's with customers and I tell her to have him call me back & he doesn't for days.Credit union calls me letting me know that I'm being put into collections cuz of how late my payment is. We decide to drive all the way over there on nov 20th to see what is actually going on & we drove 20miles to speak w/ the finance manager. I told him the situation & said its been pretty Much a month & your finance guy hasn't pushed anything through. He was shocked,but I'm sure this isn't the first time . He had us sit & wait for a sales manager to help us. We sit & wait & wait, 40 min we are still waiting & I'm pissed so we just left back home. I called the next day to speak with the general manager & the lady said he was in a meeting and I asked how long,she said 2 hours. I said ok I'll call back but I just called back & left my name and number & said its really urgent and regarded Sammy w/ finance.Not even 30 min passed & GM called me. I told him my situation & he was very rude. I said you get all the paper work done Today cuz I'm getting my 200 tomorrow! He Didn't apologize & just said,So u are coming in tomorrow? I said Yes. He just bluntly said,Ok see u tomorrow. We get there & see Tavo. I told him I'm here to get my 200. He was shocked cuz he told us that the guys were just passing my file around not getting it done.they told Tavo to stay out of it & he's they one who was pushing it to get done. Overall I got my 200 back&Brian&Sammy didn't come out to like scared liars&cheaters! Never go here! Dont get anything done! \"\n",
      "\n"
     ]
    }
   ],
   "source": [
    "# Print some examples of the shortest and longest reviews.\n",
    "review_and_length = [(review['text'],len(review['text'].split())) for review in review_data]\n",
    "\n",
    "print_certain_reviews(review_and_length, min, 'shortest')\n",
    "print_certain_reviews(review_and_length, max, 'longest')"
   ]
  },
  {
   "cell_type": "code",
   "execution_count": 19,
   "metadata": {
    "colab": {
     "base_uri": "https://localhost:8080/"
    },
    "id": "sQTLSCfftd94",
    "outputId": "bcfdd3f8-e895-436e-b5f3-43b7129d55b2",
    "tags": []
   },
   "outputs": [
    {
     "name": "stdout",
     "output_type": "stream",
     "text": [
      "Word          Count\n",
      "----     ----------\n",
      "the         227,409\n",
      "and         201,289\n",
      "I           194,839\n",
      "to          183,683\n",
      "a           138,253\n",
      "was          92,536\n",
      "my           89,669\n",
      "for          70,787\n",
      "in           65,321\n",
      "of           65,069\n",
      "that         55,917\n",
      "they         55,752\n",
      "it           54,209\n",
      "car          49,644\n",
      "me           48,401\n",
      "with         46,183\n",
      "is           45,623\n",
      "on           44,690\n",
      "have         39,543\n",
      "you          34,432\n"
     ]
    }
   ],
   "source": [
    "# Print the 20 most common words across the whole corpus of complaints.\n",
    "word_count = Counter([word for review in review_data for word in review['text'].split()])\n",
    "print(\"{:<6} {:>12}\".format(\"Word\", \"Count\"))\n",
    "print(\"{:<6} {:>12}\".format(\"----\", \"----------\"))\n",
    "for word, count in word_count.most_common(20):\n",
    "    # 'most_common' is a helpful method that can be applied to Counter.\n",
    "    print(\"{:<6} {:>12,}\".format(word, count))"
   ]
  },
  {
   "cell_type": "markdown",
   "metadata": {
    "id": "gRf9t76kmFMH"
   },
   "source": [
    "### Prepare data\n",
    "This section performs the following NLP tasks:\n",
    "- tokenisation;\n",
    "- splitting the data into training and test sets;\n",
    "- defining the response variable;\n",
    "- creating the vocabulary;\n",
    "- cleaning; and\n",
    "- vectorisation.\n"
   ]
  },
  {
   "cell_type": "markdown",
   "metadata": {
    "id": "IVxtZOCytd95"
   },
   "source": [
    "#### Tokenise\n",
    "\n",
    "In the data exploration sections above, tokenising was performed using the Python str function 'split'. This function splits on white space and does not, for example, tokenise end of sentence markers such as '?' or '.' .\n",
    "\n",
    "The 'word_tokenize' tokeniser from the nltk package can provide a better tokenisation outcome than the 'split' function because it identifies items such as end of sentence markers."
   ]
  },
  {
   "cell_type": "code",
   "execution_count": 20,
   "metadata": {
    "colab": {
     "base_uri": "https://localhost:8080/"
    },
    "id": "ezh2F1wLtd96",
    "outputId": "f2d02841-c48d-4dff-ad2f-8a1de24650b4",
    "tags": []
   },
   "outputs": [
    {
     "name": "stdout",
     "output_type": "stream",
     "text": [
      "..................................................\n",
      "Tokenising took 45 seconds\n",
      "\n",
      "The service department at North Hills Toyota is absolutely terrible. A car inspection took almost 2 hours. The staff sit around and play in their phones the entire time. They do not come check up on you or provide an update on your service. I will forever go to Kenny Ross in Moon.\n",
      "['The', 'service', 'department', 'at', 'North', 'Hills', 'Toyota', 'is', 'absolutely', 'terrible', '.', 'A', 'car', 'inspection', 'took', 'almost', '2', 'hours', '.', 'The', 'staff', 'sit', 'around', 'and', 'play', 'in', 'their', 'phones', 'the', 'entire', 'time', '.', 'They', 'do', 'not', 'come', 'check', 'up', 'on', 'you', 'or', 'provide', 'an', 'update', 'on', 'your', 'service', '.', 'I', 'will', 'forever', 'go', 'to', 'Kenny', 'Ross', 'in', 'Moon', '.'] \n",
      "\n",
      "I agree with Jesse, wholeheartedly. \n",
      "\n",
      "I'm sorry for those of you silver-spooners with a narrow and socially constricted view of the world. Let's hope none of you experience the many, many misfortunes that this world plagues people with, which often is what lands them as 'vagrants.'  \n",
      "\n",
      "Poor you, seriously.\n",
      "['I', 'agree', 'with', 'Jesse', ',', 'wholeheartedly', '.', 'I', \"'m\", 'sorry', 'for', 'those', 'of', 'you', 'silver-spooners', 'with', 'a', 'narrow', 'and', 'socially', 'constricted', 'view', 'of', 'the', 'world', '.', 'Let', \"'s\", 'hope', 'none', 'of', 'you', 'experience', 'the', 'many', ',', 'many', 'misfortunes', 'that', 'this', 'world', 'plagues', 'people', 'with', ',', 'which', 'often', 'is', 'what', 'lands', 'them', 'as', \"'vagrants\", '.', \"'\", 'Poor', 'you', ',', 'seriously', '.'] \n",
      "\n",
      "Great service at the car wash section! The attendant was friendly, used painters tape to ensure my back wind shield wiper didn't move/wasn't damaged during the wash. A truck came up behind me and I saw the attendant check their truck bed and hand them small items so they wouldn't get wet. Will definitely come again when I'm in the area. Paid $3 for the simple car wash and they have free vacuums.\n",
      "['Great', 'service', 'at', 'the', 'car', 'wash', 'section', '!', 'The', 'attendant', 'was', 'friendly', ',', 'used', 'painters', 'tape', 'to', 'ensure', 'my', 'back', 'wind', 'shield', 'wiper', 'did', \"n't\", 'move/was', \"n't\", 'damaged', 'during', 'the', 'wash.', 'A', 'truck', 'came', 'up', 'behind', 'me', 'and', 'I', 'saw', 'the', 'attendant', 'check', 'their', 'truck', 'bed', 'and', 'hand', 'them', 'small', 'items', 'so', 'they', 'would', \"n't\", 'get', 'wet', '.', 'Will', 'definitely', 'come', 'again', 'when', 'I', \"'m\", 'in', 'the', 'area', '.', 'Paid', '$', '3', 'for', 'the', 'simple', 'car', 'wash', 'and', 'they', 'have', 'free', 'vacuums', '.'] \n",
      "\n",
      "Quality work every time!! Thanks Joe and Todd for attention to detail on every job!! These guys are wheel repair experts and leave a flawless finish every time. The caliper color change is spot on to what we wanted. Thanks again guys!!!\n",
      "['Quality', 'work', 'every', 'time', '!', '!', 'Thanks', 'Joe', 'and', 'Todd', 'for', 'attention', 'to', 'detail', 'on', 'every', 'job', '!', '!', 'These', 'guys', 'are', 'wheel', 'repair', 'experts', 'and', 'leave', 'a', 'flawless', 'finish', 'every', 'time', '.', 'The', 'caliper', 'color', 'change', 'is', 'spot', 'on', 'to', 'what', 'we', 'wanted', '.', 'Thanks', 'again', 'guys', '!', '!', '!'] \n",
      "\n",
      "Been going there for years, repairs always done fairly, until this week.  AC fan motor stopped blowing.  took it in, it was a fuse.  Wanted to charge me $100, talked down to $75.  Got car home, radio button different, and covered with grease.  Called back to tell them of this, crack in radio face, and the lights on the radio now don't come on.  I cannot believe the yelling and ranting at me.  I thought telling him of the issues would encourage him to work with his employees.  Instead, he has lost a customer.\n",
      "['Been', 'going', 'there', 'for', 'years', ',', 'repairs', 'always', 'done', 'fairly', ',', 'until', 'this', 'week', '.', 'AC', 'fan', 'motor', 'stopped', 'blowing', '.', 'took', 'it', 'in', ',', 'it', 'was', 'a', 'fuse', '.', 'Wanted', 'to', 'charge', 'me', '$', '100', ',', 'talked', 'down', 'to', '$', '75', '.', 'Got', 'car', 'home', ',', 'radio', 'button', 'different', ',', 'and', 'covered', 'with', 'grease', '.', 'Called', 'back', 'to', 'tell', 'them', 'of', 'this', ',', 'crack', 'in', 'radio', 'face', ',', 'and', 'the', 'lights', 'on', 'the', 'radio', 'now', 'do', \"n't\", 'come', 'on', '.', 'I', 'can', 'not', 'believe', 'the', 'yelling', 'and', 'ranting', 'at', 'me', '.', 'I', 'thought', 'telling', 'him', 'of', 'the', 'issues', 'would', 'encourage', 'him', 'to', 'work', 'with', 'his', 'employees', '.', 'Instead', ',', 'he', 'has', 'lost', 'a', 'customer', '.'] \n",
      "\n"
     ]
    }
   ],
   "source": [
    "t0 = time.time()\n",
    "  # This sets the starting time so the time taken\n",
    "  # to tokenise can be measured.\n",
    "\n",
    "# Tokenise the reviews using 'word_tokeniser'.\n",
    "for counter, review in enumerate(review_data):\n",
    "    if counter % 1000 == 1:\n",
    "        print ('.', end='')\n",
    "        # This prints a '.' every 1,000 reviews to reassure\n",
    "        # you that the code is still running.\n",
    "    review['tokens'] = word_tokenize(review['text'])\n",
    "        # word_tokenize is an nltk tokeniser.\n",
    "        # The set of tokens from each review is added to the review\n",
    "        # dictionary under a new dictionary index 'tokens'.\n",
    "print()\n",
    "\n",
    "print(\"Tokenising took {:.0f} seconds\".format(time.time()-t0))\n",
    "print()\n",
    "\n",
    "# Look at five sample sets of tokens across the whole data set.\n",
    "review_sample = random.sample(review_data, 5)\n",
    "for review in review_sample:\n",
    "    print(review['text'])\n",
    "    print(review['tokens'], '\\n')\n"
   ]
  },
  {
   "cell_type": "markdown",
   "metadata": {
    "id": "WgmnYAH6fF4O"
   },
   "source": [
    "#### Clean data\n",
    "The 'word_tokenize' tokeniser distinguishes between upper and lower case words such that 'Great' and 'great' are considered as two separate tokens. For this data set, such distinction between case may not be warranted and the model might perform better if all words are converted to their lower case form.\n",
    "This is done in the code below."
   ]
  },
  {
   "cell_type": "code",
   "execution_count": 21,
   "metadata": {
    "colab": {
     "base_uri": "https://localhost:8080/"
    },
    "id": "Sl9N_xLle9Kt",
    "outputId": "05eb6653-384d-4f61-9d69-81802780a09f"
   },
   "outputs": [
    {
     "name": "stdout",
     "output_type": "stream",
     "text": [
      "Took the finance people 2.5 hours to get around to physically accepting our check. We were just buying a cheap car, though, for a college kid so the lack of care kinda makes sense. This is more of a place looking shake down people; while we waited I got to listen to a sales guy running game on some old man, adding onto the price based on color choice. When we finally got in to hand over the check, the same sales guy burst in to interrupt for his own deal, so we waited a bit longer. Go figure...\n",
      "['took', 'the', 'finance', 'people', '2.5', 'hours', 'to', 'get', 'around', 'to', 'physically', 'accepting', 'our', 'check', '.', 'we', 'were', 'just', 'buying', 'a', 'cheap', 'car', ',', 'though', ',', 'for', 'a', 'college', 'kid', 'so', 'the', 'lack', 'of', 'care', 'kinda', 'makes', 'sense', '.', 'this', 'is', 'more', 'of', 'a', 'place', 'looking', 'shake', 'down', 'people', ';', 'while', 'we', 'waited', 'i', 'got', 'to', 'listen', 'to', 'a', 'sales', 'guy', 'running', 'game', 'on', 'some', 'old', 'man', ',', 'adding', 'onto', 'the', 'price', 'based', 'on', 'color', 'choice', '.', 'when', 'we', 'finally', 'got', 'in', 'to', 'hand', 'over', 'the', 'check', ',', 'the', 'same', 'sales', 'guy', 'burst', 'in', 'to', 'interrupt', 'for', 'his', 'own', 'deal', ',', 'so', 'we', 'waited', 'a', 'bit', 'longer', '.', 'go', 'figure', '...'] \n",
      "\n",
      "they used to be decent years ago -  always went to the location on Maryland Parkway/Twain.  Last year (2018) - had a rude piece of trash attendant with an attitude.  Emailed to complain to their gmail account on their website -  received a response from Eric Wahrer - ewahrer@gmail.com -  said he'd comp my next smog check for free.  Well this year smog check time comes and no response from him or the other e-mail:  jiffysmog@gmail.com    ( I have copies or the e-mails).  \n",
      "Don't waste your time -  better options and better pricing and most importantly BETTER CUSTOMER SERVICE!!!\n",
      "['they', 'used', 'to', 'be', 'decent', 'years', 'ago', '-', 'always', 'went', 'to', 'the', 'location', 'on', 'maryland', 'parkway/twain', '.', 'last', 'year', '(', '2018', ')', '-', 'had', 'a', 'rude', 'piece', 'of', 'trash', 'attendant', 'with', 'an', 'attitude', '.', 'emailed', 'to', 'complain', 'to', 'their', 'gmail', 'account', 'on', 'their', 'website', '-', 'received', 'a', 'response', 'from', 'eric', 'wahrer', '-', 'ewahrer', '@', 'gmail.com', '-', 'said', 'he', \"'d\", 'comp', 'my', 'next', 'smog', 'check', 'for', 'free', '.', 'well', 'this', 'year', 'smog', 'check', 'time', 'comes', 'and', 'no', 'response', 'from', 'him', 'or', 'the', 'other', 'e-mail', ':', 'jiffysmog', '@', 'gmail.com', '(', 'i', 'have', 'copies', 'or', 'the', 'e-mails', ')', '.', 'do', \"n't\", 'waste', 'your', 'time', '-', 'better', 'options', 'and', 'better', 'pricing', 'and', 'most', 'importantly', 'better', 'customer', 'service', '!', '!', '!'] \n",
      "\n",
      "This is my go-to spot for airport parking near Toronto-Pearson. There are 3 lots available: the very expensive valet lot, self-park, and economy. Self-park and economy are pretty similar, though I recall self-park being a little more expensive. Economy is further away than self-park for sure. Economy is around $38/week, which is way cheaper than taking a taxi both ways.\n",
      "\n",
      "On the way in, take your printed parking ticket with barcode. You can either place it in your car in a safe place, but don't put it on the dashboard. You'll need it when you leave. I suggest removing anything visible that looks valuable, like a GPS or your garage door opener. The location is fairly sketchy. On the way out, scan your ticket, then your rewards card, then the discount coupon, then your credit card.\n",
      "\n",
      "The economy lot is a pain when it rains. There isn't proper drainage, so rain forms pools of water. The shuttle buses usually come by every 15 minutes, unless it's very busy, in which case the shuttle bus driver should call for backup if they're too full to pick you up.\n",
      "\n",
      "A few tips:\n",
      "1. Enroll in the rewards program to earn Aeroplan miles.\n",
      "2. Visit the Park'n Fly website to print a coupon. It will save you a substantial amount of money.\n",
      "3. When parking, take note of which area your car is in. There are signs by the road that indicate the location (e.g. B95). This is different than the shelter location (e.g. B11). It's important to write down both otherwise you'll end up like me and arrive at the right shelter but walk around until you can find your car in the sea of cars.\n",
      "4. If you want a guaranteed spot on the shuttle bus, walk to the shelter closest to the entrance.\n",
      "['this', 'is', 'my', 'go-to', 'spot', 'for', 'airport', 'parking', 'near', 'toronto-pearson', '.', 'there', 'are', '3', 'lots', 'available', ':', 'the', 'very', 'expensive', 'valet', 'lot', ',', 'self-park', ',', 'and', 'economy', '.', 'self-park', 'and', 'economy', 'are', 'pretty', 'similar', ',', 'though', 'i', 'recall', 'self-park', 'being', 'a', 'little', 'more', 'expensive', '.', 'economy', 'is', 'further', 'away', 'than', 'self-park', 'for', 'sure', '.', 'economy', 'is', 'around', '$', '38/week', ',', 'which', 'is', 'way', 'cheaper', 'than', 'taking', 'a', 'taxi', 'both', 'ways', '.', 'on', 'the', 'way', 'in', ',', 'take', 'your', 'printed', 'parking', 'ticket', 'with', 'barcode', '.', 'you', 'can', 'either', 'place', 'it', 'in', 'your', 'car', 'in', 'a', 'safe', 'place', ',', 'but', 'do', \"n't\", 'put', 'it', 'on', 'the', 'dashboard', '.', 'you', \"'ll\", 'need', 'it', 'when', 'you', 'leave', '.', 'i', 'suggest', 'removing', 'anything', 'visible', 'that', 'looks', 'valuable', ',', 'like', 'a', 'gps', 'or', 'your', 'garage', 'door', 'opener', '.', 'the', 'location', 'is', 'fairly', 'sketchy', '.', 'on', 'the', 'way', 'out', ',', 'scan', 'your', 'ticket', ',', 'then', 'your', 'rewards', 'card', ',', 'then', 'the', 'discount', 'coupon', ',', 'then', 'your', 'credit', 'card', '.', 'the', 'economy', 'lot', 'is', 'a', 'pain', 'when', 'it', 'rains', '.', 'there', 'is', \"n't\", 'proper', 'drainage', ',', 'so', 'rain', 'forms', 'pools', 'of', 'water', '.', 'the', 'shuttle', 'buses', 'usually', 'come', 'by', 'every', '15', 'minutes', ',', 'unless', 'it', \"'s\", 'very', 'busy', ',', 'in', 'which', 'case', 'the', 'shuttle', 'bus', 'driver', 'should', 'call', 'for', 'backup', 'if', 'they', \"'re\", 'too', 'full', 'to', 'pick', 'you', 'up', '.', 'a', 'few', 'tips', ':', '1', '.', 'enroll', 'in', 'the', 'rewards', 'program', 'to', 'earn', 'aeroplan', 'miles', '.', '2', '.', 'visit', 'the', \"park'n\", 'fly', 'website', 'to', 'print', 'a', 'coupon', '.', 'it', 'will', 'save', 'you', 'a', 'substantial', 'amount', 'of', 'money', '.', '3', '.', 'when', 'parking', ',', 'take', 'note', 'of', 'which', 'area', 'your', 'car', 'is', 'in', '.', 'there', 'are', 'signs', 'by', 'the', 'road', 'that', 'indicate', 'the', 'location', '(', 'e.g', '.', 'b95', ')', '.', 'this', 'is', 'different', 'than', 'the', 'shelter', 'location', '(', 'e.g', '.', 'b11', ')', '.', 'it', \"'s\", 'important', 'to', 'write', 'down', 'both', 'otherwise', 'you', \"'ll\", 'end', 'up', 'like', 'me', 'and', 'arrive', 'at', 'the', 'right', 'shelter', 'but', 'walk', 'around', 'until', 'you', 'can', 'find', 'your', 'car', 'in', 'the', 'sea', 'of', 'cars', '.', '4', '.', 'if', 'you', 'want', 'a', 'guaranteed', 'spot', 'on', 'the', 'shuttle', 'bus', ',', 'walk', 'to', 'the', 'shelter', 'closest', 'to', 'the', 'entrance', '.'] \n",
      "\n",
      "If you have a Mercedes probably not a good idea to bring it here. I did and they quoted me $3,300 to have catalytic converted replaced. I check with my previous shop in Mesa and the quote was less than $800. I took it to Mesa and had the job done for $812 including tax. This company may be good for Fords or Chevy's but not a high end car. Just say'n.\n",
      "['if', 'you', 'have', 'a', 'mercedes', 'probably', 'not', 'a', 'good', 'idea', 'to', 'bring', 'it', 'here', '.', 'i', 'did', 'and', 'they', 'quoted', 'me', '$', '3,300', 'to', 'have', 'catalytic', 'converted', 'replaced', '.', 'i', 'check', 'with', 'my', 'previous', 'shop', 'in', 'mesa', 'and', 'the', 'quote', 'was', 'less', 'than', '$', '800', '.', 'i', 'took', 'it', 'to', 'mesa', 'and', 'had', 'the', 'job', 'done', 'for', '$', '812', 'including', 'tax', '.', 'this', 'company', 'may', 'be', 'good', 'for', 'fords', 'or', 'chevy', \"'s\", 'but', 'not', 'a', 'high', 'end', 'car', '.', 'just', \"say'n\", '.'] \n",
      "\n",
      "Great staff! Friendly, professional,helpful. Great environment. Everyone was knowledgeable and able to resolve issues.\n",
      "['great', 'staff', '!', 'friendly', ',', 'professional', ',', 'helpful', '.', 'great', 'environment', '.', 'everyone', 'was', 'knowledgeable', 'and', 'able', 'to', 'resolve', 'issues', '.'] \n",
      "\n"
     ]
    }
   ],
   "source": [
    "# Convert the tokens for each review to lower case.\n",
    "for review in review_data:\n",
    "    review['tokens'] = [token.lower() for token in review['tokens']]\n",
    "\n",
    "# Look at another five sample sets of lower case tokens across the whole data set.\n",
    "review_sample = random.sample(review_data, 5)\n",
    "for review in review_sample:\n",
    "    print(review['text'])\n",
    "    print(review['tokens'], '\\n')"
   ]
  },
  {
   "cell_type": "markdown",
   "metadata": {
    "id": "xmUsKkGVtd97"
   },
   "source": [
    "#### Split into training and test data\n",
    "\n",
    "Now the data is partioned into a training and a test set. The chosen partion is 50% training and 50% test. This is because the dataset is quite large, with \n",
    "50,0000 reviews and having a large training set can cause Colab to crash when fitting the model. In practice, if RAM was not an issue, you might want to fit the model with more training data using, for example, an 80%/20% split.\n",
    "\n",
    "Note that as has been shown in previous case studies in this subject, you might want to further split the training data into a training and validation set. The validation dataset can then be used to select different hyperparameters for your model. Alternatively, cross-validation can be used on the training data to help you select these hyperparameters.\n",
    "\n",
    "This further splitting of the training data into a training and validation data set has been omitted from this case study."
   ]
  },
  {
   "cell_type": "code",
   "execution_count": 22,
   "metadata": {
    "colab": {
     "base_uri": "https://localhost:8080/"
    },
    "id": "3IkBy-bltd97",
    "outputId": "b3cd0b96-e200-4d9b-c4c2-eebefbce1176",
    "tags": []
   },
   "outputs": [
    {
     "name": "stdout",
     "output_type": "stream",
     "text": [
      "  training      test     total\n",
      "    25,000    25,000    50,000\n"
     ]
    }
   ],
   "source": [
    "train, test = train_test_split(review_data, test_size = 0.5)\n",
    "  # The Sklearn package 'train_test_split' is used to automate this step. \n",
    "print(('{:>10s}'*3).format('training', 'test', 'total'))\n",
    "print(('{:10,}'*3).format(len(train), len(test), len(review_data)))"
   ]
  },
  {
   "cell_type": "markdown",
   "metadata": {
    "id": "jPZir0SLtd97"
   },
   "source": [
    "#### Define response"
   ]
  },
  {
   "cell_type": "code",
   "execution_count": 23,
   "metadata": {
    "colab": {
     "base_uri": "https://localhost:8080/"
    },
    "id": "NNf_Izxqtd98",
    "outputId": "0e998e44-f09c-45d3-8502-71000e954717",
    "tags": []
   },
   "outputs": [
    {
     "name": "stdout",
     "output_type": "stream",
     "text": [
      "17194\n",
      "17194\n"
     ]
    }
   ],
   "source": [
    "# Define the response variable as 1 (a complaint) if the number of stars given\n",
    "# is 1 or 2. Otherwise define the response as 0 (non complaint).\n",
    "train_y = [review['stars']<3 for review in train]\n",
    "test_y = [review['stars']<3 for review in test]\n",
    "\n",
    "# Check the total number of complaints is still the same\n",
    "# across the training and test sets.\n",
    "print(sum(train_y+test_y))\n",
    "print(review_count[1]+review_count[2])"
   ]
  },
  {
   "cell_type": "markdown",
   "metadata": {
    "id": "zWt0rzqW4-lL"
   },
   "source": [
    "#### Create vocabulary\n",
    "A vocabulary is created, based on all reviews in the training dataset (the corpus).\n",
    "Note that the test data is not used to create the vocabulary as this is 'held out' until the end of the modelling process to test how well the model performs on unseen data."
   ]
  },
  {
   "cell_type": "code",
   "execution_count": 24,
   "metadata": {
    "colab": {
     "base_uri": "https://localhost:8080/"
    },
    "id": "5WHbnZc-td9_",
    "outputId": "e228d04b-a073-4e5e-ddd9-5fd3eebb4e9c",
    "tags": []
   },
   "outputs": [
    {
     "name": "stdout",
     "output_type": "stream",
     "text": [
      "The vocabulary has 39,391 tokens\n",
      "Some examples are: \n",
      "Count  Token \n",
      "   115 jose \n",
      "    10 eaten \n",
      "     1 black/red \n",
      "     2 42,000 \n",
      "     1 sc430 \n",
      "     2 10:50 \n",
      "     2 brookpark \n",
      "     5 mangers \n",
      "     1 averaged \n",
      "     1 dilligence \n",
      "     7 engineering \n",
      "   126 regret \n",
      "     3 vancouver \n",
      "     1 ambassor \n",
      "     1 zeros \n",
      "     2 farid \n",
      "    13 calmly \n",
      "     5 prick \n",
      "     1 95k \n",
      "    43 constant \n",
      "     1 problemo \n",
      "    33 signal \n",
      "     1 pinching \n",
      "     3 deadlines \n",
      "    18 managing \n",
      "     1 tarde \n",
      "     4 crossover \n",
      "     1 concentrating \n",
      "     8 cindy \n",
      "     2 coughed \n",
      "     1 betos \n",
      "     2 flashy \n",
      "     1 inputting \n",
      "     1 leeper \n",
      "     1 piercy \n",
      "     1 maxx \n",
      "     1 5/10/19 \n",
      "     1 kozak \n",
      "     2 chemically \n",
      "     2 d/t \n",
      "     5 aesthetic \n",
      "     9 cube \n",
      "     1 augie \n",
      "     1 airbag-related \n",
      "     4 mixture \n",
      "     9 rap \n",
      "     3 imbeciles \n",
      "     1 up-charge \n",
      "     3 deion \n",
      "     1 bern \n"
     ]
    }
   ],
   "source": [
    "# Create the vocabulary \n",
    "vocab_count = Counter([token for review in train for token in review['tokens']])\n",
    "print('The vocabulary has {:,} tokens'.format(len(vocab_count)))\n",
    "print('Some examples are: ')\n",
    "print('{:6s} {:s} '.format('Count', 'Token'))\n",
    "for token in random.sample(list(vocab_count), 50):\n",
    "    print('{1:6,} {0:s} '.format(token, vocab_count[token]))"
   ]
  },
  {
   "cell_type": "markdown",
   "metadata": {
    "id": "d2vyDatKtd-A"
   },
   "source": [
    "The vocabulary is large, with many unique tokens. The code below reduces the vocabulary to only include tokens that appear a certain number of times in the training corpus. The count of each word is not needed after this point so this is also dropped in the code below. \n",
    "\n",
    "The minimum count for a token to be retained in the vocabulary is a model parameter that can be varied later when tuning the model."
   ]
  },
  {
   "cell_type": "code",
   "execution_count": 25,
   "metadata": {
    "colab": {
     "base_uri": "https://localhost:8080/"
    },
    "id": "CeAXQaDHtd-A",
    "outputId": "e27fc616-3aa9-487f-d52f-05554b6db646",
    "tags": []
   },
   "outputs": [
    {
     "name": "stdout",
     "output_type": "stream",
     "text": [
      "There are 6,196 tokens used 15 or more times. Some examples are:\n",
      "austin\n",
      "american\n",
      "constant\n",
      "mechanical\n",
      "guests\n",
      "perhaps\n",
      "hardest\n",
      "ignored\n",
      "aligned\n",
      "service\n",
      "due\n",
      "cons\n",
      "mine\n",
      "l\n",
      "leadership\n",
      "sent\n",
      "straight\n",
      "canceling\n",
      "9:00\n",
      "promise\n"
     ]
    }
   ],
   "source": [
    "# Define the minimum count for a token to be retained.\n",
    "min_count = 15\n",
    "\n",
    "# Reduce the size of the vocabulary.\n",
    "vocab = {token for token, count in vocab_count.items() if count >= min_count}\n",
    "\n",
    "print('There are {:,} tokens used {:n} or more times. Some examples are:'.\n",
    "      format(len(vocab), min_count))\n",
    "for token in random.sample(tuple(vocab), 20):\n",
    "    print(token)"
   ]
  },
  {
   "cell_type": "code",
   "execution_count": 26,
   "metadata": {
    "id": "ynqboVmMtd-C"
   },
   "outputs": [],
   "source": [
    "# Convert the reduced vocab into a dictionary to make it easier to check each column\n",
    "# of the matrix later.\n",
    "vocab = {token: k for k, token in enumerate(vocab)}"
   ]
  },
  {
   "cell_type": "markdown",
   "metadata": {
    "id": "4BErIgfdtd98"
   },
   "source": [
    "#### Vectorise\n",
    "\n",
    "This section vectorises the tokens in the corpus using the Bag of Words approach. This involves creating a vector, for each review, that is as long as the corpus's vocabulary. The vector for each review shows how often each word in the vocabulary appears in the review.\n",
    "\n",
    "For example, assume a vocabulary contains the letters 'a' to 'e'. The text 'a, b, b, c, d' would be vectorised as follows:\n",
    "{a:1, b:2, c:1, d:1, e:0}.\n"
   ]
  },
  {
   "cell_type": "code",
   "execution_count": 27,
   "metadata": {
    "colab": {
     "base_uri": "https://localhost:8080/"
    },
    "id": "vMJV-48ktd-E",
    "outputId": "fbb6ab0d-5f2b-41d0-9273-a31012afb2dd",
    "tags": []
   },
   "outputs": [
    {
     "name": "stdout",
     "output_type": "stream",
     "text": [
      ".........................\n",
      ".........................\n"
     ]
    }
   ],
   "source": [
    "# Vectorise the training and test data.\n",
    "train_X = vectorise_data(train, vocab)\n",
    "test_X = vectorise_data(test,vocab)"
   ]
  },
  {
   "cell_type": "code",
   "execution_count": 28,
   "metadata": {
    "id": "1_uoL1ejSYdu"
   },
   "outputs": [],
   "source": [
    "# Create a scaler so that the features in the dataset (the vectorised tokens)\n",
    "# can be scaled to have a mean of 0 and a standard deviation of 1.\n",
    "# Even though the features in this dataset are all on the same scale already,\n",
    "# this step can sometimes help a model converge on an optimal solution\n",
    "# faster during the fitting process.\n",
    "scaler = StandardScaler()\n",
    "train_X_scaled = scaler.fit_transform(train_X)\n",
    "test_X_scaled = scaler.fit_transform(test_X)"
   ]
  },
  {
   "cell_type": "markdown",
   "metadata": {
    "id": "jsDRJMDetd-C"
   },
   "source": [
    "## Modelling\n",
    "\n",
    "A logistic regression model is now trained. The aim of this model is to predict whether a review is a complaint (i.e. has less than 3 stars) based on the vectorised features for each review."
   ]
  },
  {
   "cell_type": "code",
   "execution_count": 29,
   "metadata": {
    "colab": {
     "base_uri": "https://localhost:8080/"
    },
    "id": "mvcSba6Otd-F",
    "outputId": "44e4dfe9-83d6-4b57-e2ad-60e617548c39",
    "tags": []
   },
   "outputs": [
    {
     "name": "stderr",
     "output_type": "stream",
     "text": [
      "[Parallel(n_jobs=1)]: Using backend SequentialBackend with 1 concurrent workers.\n"
     ]
    },
    {
     "name": "stdout",
     "output_type": "stream",
     "text": [
      "max_iter reached after 1199 seconds\n"
     ]
    },
    {
     "name": "stderr",
     "output_type": "stream",
     "text": [
      "/Users/Jacky/opt/miniconda3/lib/python3.9/site-packages/sklearn/linear_model/_sag.py:328: ConvergenceWarning: The max_iter was reached which means the coef_ did not converge\n",
      "  warnings.warn(\"The max_iter was reached which means \"\n",
      "[Parallel(n_jobs=1)]: Done   1 out of   1 | elapsed: 20.0min finished\n"
     ]
    },
    {
     "data": {
      "text/plain": [
       "LogisticRegression(C=5, max_iter=1000, solver='sag', verbose=1)"
      ]
     },
     "execution_count": 29,
     "metadata": {},
     "output_type": "execute_result"
    }
   ],
   "source": [
    "# Specify the model.\n",
    "model = LogisticRegression(C = 5, solver = 'sag', verbose=1, max_iter=1000)\n",
    "  # This line of code creates a logistic regression model.\n",
    "  # 'C' is the inverse of regularisation strength and must be a positive float;\n",
    "  # smaller values of C specify stronger regularisation.\n",
    "  # solver = 'sag' specifies that the stochastic average gradient descent solver\n",
    "  # should be used to optimise the parameters of the model.  \n",
    "  # The model can be tuned by selecting different values for C and\n",
    "  # also by specifying other parameters for the LogisticRegression module.\n",
    "\n",
    "# Fit the model.\n",
    "model.fit(train_X, train_y)\n",
    "  # The training data can be supplied in several formats including\n",
    "  # a list of lists (a matrix) for the X data and a list for the y data or\n",
    "  # numpy arrays.\n"
   ]
  },
  {
   "cell_type": "markdown",
   "metadata": {
    "id": "uK0Zkb18XVEl"
   },
   "source": [
    "The warning message given above suggests that the model did not converge on an optimal solution after the maximum number of iterations (100) was performed. You could experiment with the model parameters to see if an optimal solution can be found.\n",
    "Either way, the evaluation section below suggests that the solution found, while not necessarily optimal, is still reasonably good."
   ]
  },
  {
   "cell_type": "code",
   "execution_count": 30,
   "metadata": {
    "id": "UAMypSJHtd-G",
    "tags": []
   },
   "outputs": [],
   "source": [
    "# Make predictions using the reviews in the test dataset.\n",
    "pred_y = model.predict(test_X)"
   ]
  },
  {
   "cell_type": "markdown",
   "metadata": {
    "id": "ZRk1uZUGtd-G"
   },
   "source": [
    "## Evaluate model\n",
    "The next section prints key metrics for the predictions."
   ]
  },
  {
   "cell_type": "code",
   "execution_count": 31,
   "metadata": {
    "colab": {
     "base_uri": "https://localhost:8080/",
     "height": 348
    },
    "id": "4GG9WIqxtd-H",
    "outputId": "286f2e4c-bb1d-4548-baca-d4a33346a288",
    "tags": []
   },
   "outputs": [
    {
     "name": "stdout",
     "output_type": "stream",
     "text": [
      "Accuracy  F1-score  Precision  Recall   \n",
      "  93.1%     90.0%     90.9%     89.0%   \n"
     ]
    },
    {
     "data": {
      "image/png": "[encoded data removed]",
      "text/plain": [
       "<Figure size 432x288 with 2 Axes>"
      ]
     },
     "metadata": {
      "needs_background": "light"
     },
     "output_type": "display_data"
    }
   ],
   "source": [
    "# Use the return_metrics and print_scores functions defined at the top\n",
    "# of the notebook to review how well this logistic regression model\n",
    "# has predicted complaints and non-complaints.\n",
    "scores =  return_metrics(test_y, pred_y)\n",
    "print_scores(scores, confused = True)"
   ]
  },
  {
   "cell_type": "markdown",
   "metadata": {
    "id": "X1Un_YbXS_on"
   },
   "source": [
    "The results are reasonably good, with all printed metrics in the order of 90% or higher.\n",
    "\n",
    "This suggests that the model has identified a high proportion of both true complaints and true non-complaints and a low proportion of false complaints and false non-complaints."
   ]
  },
  {
   "cell_type": "code",
   "execution_count": 32,
   "metadata": {
    "colab": {
     "base_uri": "https://localhost:8080/",
     "height": 368
    },
    "id": "j1iKbZYBbnPE",
    "outputId": "3d98d5e0-4022-41f4-9f94-538ff68d90c9"
   },
   "outputs": [
    {
     "name": "stdout",
     "output_type": "stream",
     "text": [
      "The AUC for the model is:  0.9215204981314656\n"
     ]
    },
    {
     "data": {
      "image/png": "[encoded data removed]",
      "text/plain": [
       "<Figure size 360x360 with 1 Axes>"
      ]
     },
     "metadata": {
      "needs_background": "light"
     },
     "output_type": "display_data"
    }
   ],
   "source": [
    "# Print a ROC curve and calculate the AUC for the model.\n",
    "print('The AUC for the model is: ', metrics.roc_auc_score(test_y, pred_y))\n",
    "\n",
    "# Retrieve the sensitivity (true positive rate) and false positive rate for\n",
    "# each threshold value (where the threshold value decides how high the\n",
    "# predicted probability of being a complaint has to be before an observation\n",
    "# is classified as a complaint.)\n",
    "\n",
    "false_positive_rate, true_positive_rate, threshold = metrics.roc_curve(test_y, pred_y)\n",
    "plt.subplots(1, figsize=(5,5))\n",
    "plt.title('Receiver Operating Characteristic - review classifier')\n",
    "plt.plot(false_positive_rate, true_positive_rate,color='dodgerblue')\n",
    "plt.plot([0, 1], ls=\"--\",color='black')\n",
    "plt.ylabel('Sensitivity (True Positive Rate)')\n",
    "plt.xlabel('False Positive Rate')\n",
    "plt.show()"
   ]
  },
  {
   "cell_type": "markdown",
   "metadata": {
    "id": "xHoSiICwtd-I"
   },
   "source": [
    "It is instructive to see which tokens have the greatest and smallest weights in the fitted model. The greatest weights imply that these words predict complaints while the smallest weights show that these words predict non-complaints."
   ]
  },
  {
   "cell_type": "code",
   "execution_count": 33,
   "metadata": {
    "colab": {
     "base_uri": "https://localhost:8080/"
    },
    "id": "Rsq-lPALtd-J",
    "outputId": "590bc3ac-5ce3-491a-bb79-4c3de8d836eb",
    "tags": []
   },
   "outputs": [
    {
     "name": "stdout",
     "output_type": "stream",
     "text": [
      "Words driving complaints:\n",
      "Word                   Weight\n",
      "----                   ------\n",
      "worst                     1.7\n",
      "horrible                  1.7\n",
      "rude                      1.6\n",
      "terrible                  1.6\n",
      "avoid                     1.4\n",
      "poor                      1.3\n",
      "beware                    1.1\n",
      "unprofessional            0.9\n",
      "disappointed              0.9\n",
      "elsewhere                 0.9\n",
      "\n",
      "Words driving non-complaints:\n",
      "Word                   Weight\n",
      "----                   ------\n",
      "excellent                -1.5\n",
      "amazing                  -1.4\n",
      "awesome                  -1.4\n",
      "thank                    -1.4\n",
      "great                    -1.3\n",
      "best                     -1.3\n",
      "highly                   -1.2\n",
      "honest                   -1.2\n",
      "quick                    -1.2\n",
      "fair                     -1.2\n",
      "\n"
     ]
    }
   ],
   "source": [
    "# Retrieve the weights from the model for each token in the vocabulary.\n",
    "def print_by_weight(model, vocab, k = 5, verbose = True):\n",
    "    mod_coefs = model.coef_\n",
    "    \n",
    "    # Create a list of vocab words and their weights.\n",
    "    token_weight = list()\n",
    "    for token, count in vocab.items():\n",
    "        token_weight.append((token, mod_coefs[0, count]))\n",
    "   \n",
    "    # Sort and print the top k items.\n",
    "    def print_list(tokens):\n",
    "        print('{:20s}  {:>7s}'.format('Word', 'Weight'))\n",
    "        print('{:20s}  {:>7s}'.format('----', '------'))\n",
    "        for token in tokens:\n",
    "            print ('{:20s}  {:7.1f}'.format(*token))\n",
    "        print()\n",
    "        return\n",
    "\n",
    "    token_weight.sort(key = lambda x : x[1], reverse = True)\n",
    "    complaint_keywords = token_weight[:k]\n",
    "    print('Words driving complaints:')\n",
    "    print_list(token_weight[:k])\n",
    "    \n",
    "    token_weight.sort(key = lambda x : x[1])\n",
    "    non_complaint_keywords = token_weight[:k]\n",
    "    print('Words driving non-complaints:')\n",
    "    print_list(token_weight[:k])\n",
    "\n",
    "    return complaint_keywords, non_complaint_keywords\n",
    "\n",
    "complaint_keywords, non_complaint_keywords = print_by_weight(model, vocab, 10)"
   ]
  },
  {
   "cell_type": "markdown",
   "metadata": {
    "id": "qkRKLrhJd1um"
   },
   "source": [
    "## Comments\n",
    "\n",
    "The model fitted provides a reasonable prediction of whether each review is a complaint (less than 3 stars) or a non-complaint (3 or more stars). The output of the model also makes sense in that the top 'complaint' words all have clear negative sentiment and the top 'non-complaint' words all have clear positive sentiment.\n",
    "\n",
    "As an exercise, you should experiment with the tokenisation of reviews by trying the following:\n",
    "- remove standard stop words; and\n",
    "- perform stemming or lemmatisation.\n",
    "\n",
    "You may like to review the code in Case Study 2 first and then come back to try the above."
   ]
  }
 ],
 "metadata": {
  "colab": {
   "collapsed_sections": [
    "QENGw1c-td99",
    "tk4j1SXytd9_",
    "2MA6UG1utd-B",
    "4R7XbwkVtd-H",
    "YhmgCp3wtd-L",
    "0TMydqW1td-M"
   ],
   "name": "DAA_M07_CS1_v4.ipynb",
   "provenance": [],
   "toc_visible": true
  },
  "kernelspec": {
   "display_name": "Python 3",
   "language": "python",
   "name": "python3"
  },
  "language_info": {
   "codemirror_mode": {
    "name": "ipython",
    "version": 3
   },
   "file_extension": ".py",
   "mimetype": "text/x-python",
   "name": "python",
   "nbconvert_exporter": "python",
   "pygments_lexer": "ipython3",
   "version": "3.9.1"
  }
 },
 "nbformat": 4,
 "nbformat_minor": 1
}
