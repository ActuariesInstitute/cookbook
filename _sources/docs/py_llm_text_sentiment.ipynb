{
 "cells": [
  {
   "cell_type": "markdown",
   "id": "761626e3-51b0-4e81-a3bf-00d38e055f49",
   "metadata": {},
   "source": [
    " # Py: LLM Unstructured Text Transformation\n",
    "  *Leverage Large Language Models to extract structured data from free-form text for actuarial analysis*\n",
    "\n",
    "  ***By Alice Tran***\n",
    "\n",
    " ## Introduction\n",
    "\n",
    " Actuaries increasingly encounter free-form text data across various aspects of their work. Whether it's analyzing **claim diaries** that capture detailed notes about claim investigations, **customer feedback** from policy reviews, **underwriting notes** documenting risk assessments, or **regulatory correspondence** containing compliance-related communications, the ability to extract meaningful insights from unstructured text has become a critical skill.\n",
    "\n",
    " Traditional approaches to text analysis often rely on keyword searches or basic sentiment analysis tools, which can miss nuanced patterns and context. Large Language Models (LLMs) offer a powerful alternative, capable of transforming unstructured text into structured data that can be used for exploratory data analysis, predictive modeling, and business intelligence.\n",
    "\n",
    " In this tutorial, we'll demonstrate how to use LLMs to analyze customer reviews of travel insurance policies, extracting sentiment, categorizing feedback types, and identifying specific issues. This approach can be adapted for various actuarial applications where text analysis is needed.\n",
    " The tutorial continues on from the previous tutorial on [sentiment analysis using old natural language programming](https://actuariesinstitute.github.io/cookbook/docs/DAA_M07_CS2.html)"
   ]
  },
  {
   "cell_type": "code",
   "execution_count": null,
   "id": "42178779-c858-4e48-badb-fd42c4bbecd7",
   "metadata": {},
   "outputs": [],
   "source": [
    "import json\n",
    "import ollama\n",
    "from openai import OpenAI\n",
    "import pandas as pd\n",
    "from tqdm import tqdm\n",
    "import matplotlib.pyplot as plt\n",
    "import seaborn as sns"
   ]
  },
  {
   "cell_type": "markdown",
   "id": "ad3a2ebc-0d5b-4900-8584-8bf20dcf7eb6",
   "metadata": {},
   "source": [
    " ## Setting Up the LLM Client\n",
    "\n",
    " The key advantage of using Ollama with the OpenAI-compatible API is **flexibility**. By simply changing the `base_url` parameter, you can switch between local and cloud-based models without changing your code structure.\n",
    "\n",
    " When working with potentially sensitive data, privacy is a consideration. Running models locally is one approach to maintain data confidentiality.\n",
    " This tutorial uses **Ollama** with the OpenAI-compatible API, giving you the flexibility to choose between:\n",
    "\n",
    " - **Local models** (via Ollama): Complete data privacy, no external API calls, but requires local compute resources\n",
    " - **Cloud-based models** (via OpenAI API): More powerful models with faster processing, but data is sent to external services\n",
    "\n",
    " **For local models (Ollama):**\n",
    " - Set `base_url='http://localhost:11434/v1'`\n",
    " - Use any model name available in your local Ollama installation\n",
    "\n",
    " **For OpenAI models:**\n",
    " - Set `base_url='https://api.openai.com/v1'`\n",
    " - Use your actual OpenAI API key\n",
    " - Choose from models like 'gpt-3.5-turbo', 'gpt-4', etc.\n"
   ]
  },
  {
   "cell_type": "code",
   "execution_count": null,
   "id": "cde411f4-2df9-4c8b-8ef8-2db349c4bf8c",
   "metadata": {},
   "outputs": [],
   "source": [
    "# Initialize the OpenAI client to point to your LOCAL Ollama server\n",
    "# This configuration ensures all data processing happens locally for privacy\n",
    "client = OpenAI(\n",
    "    base_url='http://localhost:11434/v1',\n",
    "    api_key='ollama',  # required but ignored by Ollama, can be anything\n",
    ")"
   ]
  },
  {
   "cell_type": "markdown",
   "id": "4a040fb9-5ebd-4555-adfb-4536723ccbbe",
   "metadata": {},
   "source": [
    " ## Configuration Parameters\n",
    "\n",
    " We'll define our key parameters upfront for easy modification. The model name should correspond to a model available in your local Ollama installation. Popular choices include:\n",
    " - `llama3.2`: Good balance of performance and resource usage\n",
    " - `mistral`: Strong performance on analytical tasks\n",
    " - `gemma:2b`: Lightweight option for resource-constrained environments"
   ]
  },
  {
   "cell_type": "code",
   "execution_count": null,
   "id": "cd402a2b-7128-4f26-9642-2086268e2a4e",
   "metadata": {},
   "outputs": [],
   "source": [
    "# Configuration parameters\n",
    "MODEL_NAME = 'llama3.2'  # Or 'llama3.2', 'mistral', 'gemma:2b', etc.\n",
    "INPUT_CSV = 'https://actuariesinstitute.github.io/cookbook/_static/daa_datasets/DAA_M07_CS2_data.csv.zip'\n",
    "OUTPUT_CSV = 'reviews_with_extracted_claims_data.csv'"
   ]
  },
  {
   "cell_type": "markdown",
   "id": "d09d0874-f250-41db-9c17-24c6d4acb3e0",
   "metadata": {},
   "source": [
    " ## Data Loading and Initial Exploration\n",
    "\n",
    " We'll work with a dataset of travel insurance customer reviews. This dataset is representative of the type of unstructured text data that actuaries might encounter when analyzing customer satisfaction, claim patterns, or product performance.\n",
    "\n",
    " We'll limit our analysis to the first 50 reviews to keep processing time manageable while still showcasing the methodology.\n",
    " We will also pretend the review score is not there for the purpose of this tutorial - but there is a comparison at the end."
   ]
  },
  {
   "cell_type": "code",
   "execution_count": null,
   "id": "6fc65dfb-51f4-48ba-965a-571c03fad2b7",
   "metadata": {},
   "outputs": [
    {
     "name": "stdout",
     "output_type": "stream",
     "text": [
      "Loaded 50 reviews from 'https://actuariesinstitute.github.io/cookbook/_static/daa_datasets/DAA_M07_CS2_data.csv.zip'.\n",
      "Dataset shape: (50, 7)\n",
      "Column names: ['pubDate', 'rating', 'title', 'body', 'url', 'pubMonth', 'full_review']\n",
      "\n",
      "Sample review:\n",
      "Excellent value.: I used this travel insurance mainly for the car hire excess. I paid $108 for cover for a family of 5, compared to the car company  excess only insurance of $200. Booking online very ...\n"
     ]
    }
   ],
   "source": [
    "# Load the customer review data\n",
    "try:\n",
    "    df = pd.read_csv(\n",
    "        INPUT_CSV,\n",
    "        encoding='cp1252'\n",
    "    )\n",
    "    df = df.head(50)  # Limit to 50 reviews for demonstration    \n",
    "    df['full_review'] = df['title'] + \": \" + df['body'] # Get full review text combining title and body\n",
    "    print(f\"Loaded {len(df)} reviews from '{INPUT_CSV}'.\")\n",
    "    print(f\"Dataset shape: {df.shape}\")\n",
    "    print(f\"Column names: {list(df.columns)}\")\n",
    "    print(f\"\\nSample review:\\n{df['full_review'].iloc[0][:200]}...\")\n",
    "except FileNotFoundError:\n",
    "    print(f\"Error: The file '{INPUT_CSV}' was not found.\")\n",
    "    exit()"
   ]
  },
  {
   "cell_type": "markdown",
   "id": "b272557d-640f-4c80-bfc2-5b570d19f205",
   "metadata": {},
   "source": [
    " ## The LLM Analysis Function: From Unstructured to Structured\n",
    "\n",
    " This is where the magic happens. We'll create a comprehensive function that takes raw review text and extracts multiple structured data points:\n",
    "\n",
    " 1. **Sentiment Classification**: Positive, Negative, or Neutral\n",
    " 2. **Feedback Categorization**: What aspect of the service is being discussed\n",
    " 3. **Specific Issue Identification**: The particular event or item mentioned\n",
    "\n",
    " The key to effective LLM prompting for actuarial applications is **precision and consistency**. We provide clear categories and examples to ensure reliable, standardized output that can be used for downstream analysis."
   ]
  },
  {
   "cell_type": "code",
   "execution_count": null,
   "id": "7bd2c51a-a356-472f-b40f-f420d930e123",
   "metadata": {},
   "outputs": [],
   "source": [
    "def extract_full_analysis(review_text: str) -> dict:\n",
    "    \"\"\"\n",
    "    Analyzes a review and extracts sentiment, feedback category and specific issue\n",
    "    as a single JSON object.\n",
    "    \n",
    "    This function demonstrates how to use LLMs to transform unstructured text\n",
    "    into structured data suitable for actuarial analysis.\n",
    "    \"\"\"\n",
    "    # Comprehensive prompt designed for consistent, structured output\n",
    "    prompt = f\"\"\"\n",
    "You are a senior Customer Experience Analyst. Your task is to analyze the following review\n",
    "and return a single, valid JSON object and nothing else.\n",
    "\n",
    "1. \"sentiment\": Classify the sentiment. Must be one of: \"Positive\", \"Negative\", or \"Neutral\".\n",
    "2.  \"feedback_category\": Classify the primary subject of the customer's feedback. Must be one of the following strings:\n",
    "    - \"Product Design & Wording\": Feedback on policy coverage, exclusions, price, or clarity of the Product Disclosure Statement (PDS).\n",
    "    - \"Sales & Purchase Process\": Feedback on the experience of buying the policy online or via an agent.\n",
    "    - \"Claims Process\": Feedback on the experience of submitting, managing, or the outcome of a formal claim.\n",
    "    - \"Customer Support & Communication\": Feedback on general interactions with staff via phone or email.\n",
    "    - \"Emergency Assistance (24/7 Support)\": Specific feedback on using the emergency helpline during a trip.\n",
    "    - \"Factual Claim Notification\": The customer is stating facts to lodge a claim without providing feedback on service or product yet.\n",
    "3.  \"specific_issue\": Identify the specific event or item mentioned (e.g., \"flight cancellation\", \"lost baggage\", \"confusing PDS\", \"helpful agent\"). If none, use \"N/A\".\n",
    "\n",
    "Review:\n",
    "\"{review_text}\"\n",
    "\n",
    "JSON Output:\"\"\"\n",
    "\n",
    "    try:\n",
    "        # Use Ollama's chat function with JSON formatting for reliable structured output\n",
    "        response = ollama.chat(\n",
    "            model=MODEL_NAME,\n",
    "            messages=[{'role': 'user', 'content': prompt}],\n",
    "            format='json',  # Ensures output is valid JSON\n",
    "            options={'temperature': 0}  # Deterministic output for consistency\n",
    "        )\n",
    "        \n",
    "        # Parse and return the structured response\n",
    "        data = json.loads(response['message']['content'])\n",
    "        return data\n",
    "            \n",
    "    except (json.JSONDecodeError, KeyError):\n",
    "        # Safety net for rare cases where the output is not valid JSON\n",
    "        return {'sentiment': 'Error', 'feedback_category': 'Error', 'specific_issue': 'Error'}\n",
    "    except Exception as e:\n",
    "        print(f\"\\nAn error occurred: {e}\")\n",
    "        return {'sentiment': 'Error', 'feedback_category': 'Error', 'specific_issue': 'Error'}"
   ]
  },
  {
   "cell_type": "markdown",
   "id": "f4f21b26-83ea-4452-9c49-4476dbcd4f97",
   "metadata": {},
   "source": [
    " ## Batch Processing and Data Transformation\n",
    "\n",
    " Now we'll apply our LLM analysis function to the entire dataset. This process transforms each unstructured review into three structured data points, dramatically expanding our analytical capabilities.\n",
    "\n",
    " The `tqdm` library provides a progress bar, which is particularly useful when processing large datasets. The `pd.json_normalize` function elegantly converts the nested JSON responses into DataFrame columns."
   ]
  },
  {
   "cell_type": "code",
   "execution_count": null,
   "id": "bc0fe3a8-2730-42c9-8efd-4028800f5fa2",
   "metadata": {},
   "outputs": [
    {
     "name": "stderr",
     "output_type": "stream",
     "text": [
      "Performing analysis with llama3.2: 100%|██████████| 50/50 [00:42<00:00,  1.19it/s]"
     ]
    },
    {
     "name": "stdout",
     "output_type": "stream",
     "text": [
      "\n",
      "Full data extraction complete.\n",
      "Results saved to 'reviews_with_extracted_claims_data.csv'.\n",
      "\n",
      "Sample of the final, enriched DataFrame:\n",
      "                                                body sentiment  \\\n",
      "0  I used this travel insurance mainly for the ca...  Positive   \n",
      "1  We took out a cover more policy for a quick 10...  Positive   \n",
      "2  My wife developed a medical condition so we ha...  Negative   \n",
      "3  Prices getting more expensive as we get older ...  Positive   \n",
      "4  needed to make a claim when I had to cut short...  Positive   \n",
      "\n",
      "                  feedback_category  \\\n",
      "0          Product Design & Wording   \n",
      "1  Customer Support & Communication   \n",
      "2          Product Design & Wording   \n",
      "3          Product Design & Wording   \n",
      "4                    Claims Process   \n",
      "\n",
      "                                  specific_issue  \n",
      "0                                            N/A  \n",
      "1                                  Great service  \n",
      "2                    tricked up Insurance Policy  \n",
      "3  Prices getting more expensive as we get older  \n",
      "4                                            N/A  \n"
     ]
    },
    {
     "name": "stderr",
     "output_type": "stream",
     "text": [
      "\n"
     ]
    }
   ],
   "source": [
    "# Apply the LLM analysis function to review sample\n",
    "tqdm.pandas(desc=f\"Performing analysis with {MODEL_NAME}\")\n",
    "\n",
    "# The result will be a Series of dictionaries\n",
    "results_series = df['full_review'].progress_apply(extract_full_analysis)\n",
    "\n",
    "# Use pd.json_normalize to elegantly convert the dictionaries into DataFrame columns\n",
    "results_df = pd.json_normalize(results_series)\n",
    "\n",
    "# Combine the new structured data with our original DataFrame\n",
    "df = pd.concat([df.reset_index(drop=True), results_df.reset_index(drop=True)], axis=1)\n",
    "\n",
    "print(\"\\nFull data extraction complete.\")\n",
    "df.to_csv(OUTPUT_CSV, index=False)\n",
    "print(f\"Results saved to '{OUTPUT_CSV}'.\")\n",
    "print(\"\\nSample of the final, enriched DataFrame:\")\n",
    "print(df[['body', 'sentiment', 'feedback_category', 'specific_issue']].head())"
   ]
  },
  {
   "cell_type": "markdown",
   "id": "6e1ea9f3-7e87-4409-95d6-dab6ac65d525",
   "metadata": {},
   "source": [
    " ## Root Cause Analysis: Identifying Key Issues\n",
    "\n",
    " With our text data now structured, we can perform analysis to identify patterns and root causes - and look to understand:\n",
    "\n",
    " - **Risk factors**: What issues lead to claims or customer dissatisfaction?\n",
    " - **Process improvements**: Where are the bottlenecks in customer experience?\n",
    " - **Product development**: What features or coverage gaps need attention?\n",
    "\n",
    " We'll focus on negative reviews to identify the primary drivers of customer dissatisfaction."
   ]
  },
  {
   "cell_type": "code",
   "execution_count": null,
   "id": "8c3a1bf0-8076-4b9d-8b11-9ce86a8a33f4",
   "metadata": {},
   "outputs": [
    {
     "name": "stdout",
     "output_type": "stream",
     "text": [
      "\n",
      "--- Root Cause Analysis for 13 Negative Reviews ---\n",
      "Negative sentiment rate: 26.0%\n",
      "\n",
      "Breakdown of negative feedback by category:\n",
      "feedback_category\n",
      "Product Design & Wording            7\n",
      "Customer Support & Communication    4\n",
      "Claims Process                      2\n",
      "Name: count, dtype: int64\n"
     ]
    }
   ],
   "source": [
    "# Filter to focus on negative reviews for root cause analysis\n",
    "negative_df = df[df['sentiment'] == 'Negative'].copy()\n",
    "\n",
    "print(f\"\\n--- Root Cause Analysis for {len(negative_df)} Negative Reviews ---\")\n",
    "print(f\"Negative sentiment rate: {len(negative_df)/len(df)*100:.1f}%\")\n",
    "\n",
    "if negative_df.empty:\n",
    "    print(\"No negative reviews were found to analyze.\")\n",
    "else:\n",
    "    # Display distribution of feedback categories in negative reviews\n",
    "    print(\"\\nBreakdown of negative feedback by category:\")\n",
    "    print(negative_df['feedback_category'].value_counts())"
   ]
  },
  {
   "cell_type": "markdown",
   "id": "534befde-8c91-46f7-8a6e-c54a647b246f",
   "metadata": {},
   "source": [
    "\n",
    " ## Primary Drivers of Negative Sentiment by Category\n",
    "\n",
    " This visualization helps identify which aspects of the travel insurance service are causing the most dissatisfaction. For actuaries, this information is crucial for:\n",
    "\n",
    " - **Risk assessment**: Understanding which processes have the highest failure rates\n",
    " - **Resource allocation**: Prioritizing improvement efforts where they'll have the most impact\n",
    " - **Product pricing**: Factoring in customer experience risks to pricing models"
   ]
  },
  {
   "cell_type": "code",
   "execution_count": null,
   "id": "9bc5f86a-ba78-49e7-aad0-29c4ed8003f8",
   "metadata": {},
   "outputs": [
    {
     "name": "stderr",
     "output_type": "stream",
     "text": [
      "<ipython-input-8-6cff36d9f359>:5: FutureWarning: \n",
      "\n",
      "Passing `palette` without assigning `hue` is deprecated and will be removed in v0.14.0. Assign the `y` variable to `hue` and set `legend=False` for the same effect.\n",
      "\n",
      "  sns.countplot(data=negative_df, y='feedback_category',\n"
     ]
    },
    {
     "data": {
      "image/png": "[encoded data removed]",
      "text/plain": [
       "<Figure size 1200x800 with 1 Axes>"
      ]
     },
     "metadata": {},
     "output_type": "display_data"
    },
    {
     "name": "stdout",
     "output_type": "stream",
     "text": [
      "\n",
      "Top negative feedback category: Product Design & Wording\n",
      "This represents 7 out of 13 negative reviews\n"
     ]
    }
   ],
   "source": [
    "if not negative_df.empty:\n",
    "    # Analysis 1: Primary drivers of negative sentiment by feedback category\n",
    "    plt.figure(figsize=(12, 8))\n",
    "    sns.countplot(data=negative_df, y='feedback_category', \n",
    "                  order=negative_df['feedback_category'].value_counts().index, \n",
    "                  palette=\"flare\")\n",
    "    plt.title('Primary Drivers of Negative Sentiment by Feedback Category', \n",
    "              fontsize=16, fontweight='bold')\n",
    "    plt.xlabel('Number of Negative Reviews', fontsize=12)\n",
    "    plt.ylabel('Feedback Category', fontsize=12)\n",
    "    plt.tight_layout()\n",
    "    plt.show()\n",
    "    \n",
    "    print(f\"\\nTop negative feedback category: {negative_df['feedback_category'].value_counts().index[0]}\")\n",
    "    print(f\"This represents {negative_df['feedback_category'].value_counts().iloc[0]} out of {len(negative_df)} negative reviews\")"
   ]
  },
  {
   "cell_type": "markdown",
   "id": "07d7d772-d293-40e6-bf6e-7da7a455e1d6",
   "metadata": {},
   "source": [
    " ## Specific Issues Driving Negative Sentiment\n",
    "\n",
    " While categories tell us the general area of concern, specific issues may provide actionable insights.\n",
    " We can sample a few specific issues to look for operational failure points or customer journey pain points."
   ]
  },
  {
   "cell_type": "code",
   "execution_count": null,
   "id": "830ba707-0632-4303-8223-118f802d7476",
   "metadata": {},
   "outputs": [
    {
     "data": {
      "application/vnd.microsoft.datawrangler.viewer.v0+json": {
       "columns": [
        {
         "name": "specific_issue",
         "rawType": "object",
         "type": "string"
        },
        {
         "name": "count",
         "rawType": "int64",
         "type": "integer"
        }
       ],
       "ref": "d0a707c5-3a4e-4828-85c4-137f647ddcc7",
       "rows": [
        [
         "tricked up Insurance Policy",
         "1"
        ],
        [
         "lost baggage",
         "1"
        ],
        [
         "broken surfboard",
         "1"
        ],
        [
         "Corona virus coverage",
         "1"
        ],
        [
         "family policy exclusion",
         "1"
        ],
        [
         "incorrect birth dates on certificate",
         "1"
        ],
        [
         "delayed claim processing and lack of support",
         "1"
        ],
        [
         "Policy interpretation and lack of clarity",
         "1"
        ],
        [
         "poor service",
         "1"
        ],
        [
         "unhelpful agent",
         "1"
        ]
       ],
       "shape": {
        "columns": 1,
        "rows": 10
       }
      },
      "text/plain": [
       "specific_issue\n",
       "tricked up Insurance Policy                     1\n",
       "lost baggage                                    1\n",
       "broken surfboard                                1\n",
       "Corona virus coverage                           1\n",
       "family policy exclusion                         1\n",
       "incorrect birth dates on certificate            1\n",
       "delayed claim processing and lack of support    1\n",
       "Policy interpretation and lack of clarity       1\n",
       "poor service                                    1\n",
       "unhelpful agent                                 1\n",
       "Name: count, dtype: int64"
      ]
     },
     "metadata": {},
     "output_type": "display_data"
    }
   ],
   "source": [
    "if not negative_df.empty:\n",
    "    # Analysis 2: Specific issues driving negative sentiment\n",
    "    # Filter out 'N/A' values and get top issues\n",
    "    specific_issues = negative_df[negative_df['specific_issue'] != 'N/A']['specific_issue'].value_counts()\n",
    "    \n",
    "    if not specific_issues.empty:\n",
    "        from IPython.display import display\n",
    "        # Show top 10 specific issues\n",
    "        top_issues = specific_issues.head(10)\n",
    "        display(top_issues)"
   ]
  },
  {
   "cell_type": "markdown",
   "id": "97dd32a0-cb22-4bab-9977-695c30953219",
   "metadata": {},
   "source": [
    " ## Summary and Next Steps\n",
    "\n",
    " This tutorial has demonstrated how LLMs can transform unstructured text data into structured insights valuable for actuarial analysis.\n",
    " We converted free-form reviews into structured sentiment, category, and issue data.\n",
    " The code optionally uses local LLM processing to maintain data confidentiality.\n",
    " With the structured data, one can identify primary drivers of customer dissatisfaction and potentially find actionable insights.\n",
    "\n",
    " The overall approach is generalisable - and may have other applications for actuaries - for example:\n",
    " - **Claim Analysis**: Extract patterns from claim diaries and adjuster notes\n",
    " - **Underwriting Risk Assessment**: From freeform underwriting notes\n",
    " - **Product Development**: Understand coverage from products of the business and its competitors\n",
    " - **Customer Experience**: Quantify service quality impacts on retention and satisfaction\n"
   ]
  },
  {
   "cell_type": "markdown",
   "id": "c8436a46-d8ea-4bc5-83f3-a3d0c27e53d1",
   "metadata": {},
   "source": [
    " ## Additional Analysis: Sentiment Distribution\n",
    "\n",
    " Let's conclude with an overall view of sentiment distribution across the reviews to\n",
    " see how the LLM has fared in reading the text compared to the true review score."
   ]
  },
  {
   "cell_type": "code",
   "execution_count": null,
   "id": "3fd392c0-4af2-4297-b514-2f0f00692a4f",
   "metadata": {},
   "outputs": [
    {
     "data": {
      "text/plain": [
       "<Figure size 1200x800 with 0 Axes>"
      ]
     },
     "metadata": {},
     "output_type": "display_data"
    },
    {
     "data": {
      "image/png": "[encoded data removed]",
      "text/plain": [
       "<Figure size 1200x800 with 1 Axes>"
      ]
     },
     "metadata": {},
     "output_type": "display_data"
    }
   ],
   "source": [
    "# Overall sentiment distribution\n",
    "# Create the stacked bar chart showing proportion of sentiments within each rating\n",
    "plt.figure(figsize=(12, 8))\n",
    "\n",
    "# Calculate sentiment proportions by rating\n",
    "rating_sentiment_props = df.groupby('rating')['sentiment'].value_counts(normalize=True).unstack().fillna(0)\n",
    "\n",
    "# Create the stacked bar chart\n",
    "rating_sentiment_props.plot(kind='bar', stacked=True, \n",
    "                           color=['#ff6b6b', '#4ecdc4', '#45b7d1'],\n",
    "                           figsize=(12, 8))\n",
    "\n",
    "plt.title('Sentiment Proportions by Rating', fontsize=16, fontweight='bold')\n",
    "plt.xlabel('Rating (1-5)', fontsize=12)\n",
    "plt.ylabel('Proportion', fontsize=12)\n",
    "plt.legend(title='Sentiment', fontsize=11)\n",
    "plt.xticks(rotation=0)\n",
    "plt.grid(axis='y', alpha=0.3)\n",
    "plt.tight_layout()\n",
    "plt.show()"
   ]
  },
  {
   "cell_type": "markdown",
   "id": "d852a20d-5515-4241-96b5-5e98fca20818",
   "metadata": {},
   "source": [
    " It appears the LLM reading of the reviews is fairly consistent with the sentiment distribution."
   ]
  },
  {
   "cell_type": "markdown",
   "id": "0e878980-8590-4e55-b7d3-32062780f83b",
   "metadata": {},
   "source": [
    " ---\n",
    "\n",
    " *This tutorial demonstrates how by leveraging LLMs to structure unstructured data, actuaries can unlock new insights from text sources that were previously difficult to analyze systematically.*"
   ]
  }
 ],
 "metadata": {
  "language_info": {
   "codemirror_mode": {
    "name": "ipython",
    "version": 3
   },
   "file_extension": ".py",
   "mimetype": "text/x-python",
   "name": "python",
   "nbconvert_exporter": "python",
   "pygments_lexer": "ipython3",
   "version": 3
  }
 },
 "nbformat": 4,
 "nbformat_minor": 2
}
