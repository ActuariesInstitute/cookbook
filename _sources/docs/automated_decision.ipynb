{
 "cells": [
  {
   "cell_type": "markdown",
   "id": "d59efd8c",
   "metadata": {},
   "source": [
    "# Automated Decision-Making Systems"
   ]
  },
  {
   "cell_type": "markdown",
   "id": "193b179d",
   "metadata": {},
   "source": [
    "In this final Information Note, following member consultation and feedback, the Data Analytics Practice Committee outlines a set of high-level principles taking cues from several existing AI ethics frameworks, together with a practical set of activities that actuaries can perform when designing, building, monitoring or reviewing automated decisioning systems, linked to the actuarial control cycle. We hope that this provides a solid starting point for actuaries to assess their methods and processes when designing, operating, managing or reviewing automated decisioning systems.\n",
    "\n",
    "[Read the note.](https://actuaries.logicaldoc.cloud/download-ticket?ticketId=85c37260-4721-4864-ae2b-24e043bef8ce)"
   ]
  }
 ],
 "metadata": {
  "jupytext": {
   "formats": "ipynb,md:myst",
   "text_representation": {
    "extension": ".md",
    "format_name": "myst",
    "format_version": 0.13,
    "jupytext_version": "1.11.3"
   }
  },
  "kernelspec": {
   "display_name": "Python 3",
   "language": "python",
   "name": "python3"
  },
  "source_map": [
   13,
   17
  ]
 },
 "nbformat": 4,
 "nbformat_minor": 5
}