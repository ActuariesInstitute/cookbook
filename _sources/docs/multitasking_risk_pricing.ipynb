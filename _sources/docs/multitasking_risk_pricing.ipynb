{
 "cells": [
  {
   "cell_type": "markdown",
   "metadata": {},
   "source": [
    "# Py/R: Multitasking Risk Pricing Using Deep Learning"
   ]
  },
  {
   "cell_type": "markdown",
   "metadata": {},
   "source": [
    "By Jacky Poon. Originally published in Actuaries Digital as [Analytics Snippet: Multitasking Risk Pricing Using Deep Learning](https://www.actuaries.digital/2018/08/23/analytics-snippet-multitasking-risk-pricing-using-deep-learning/)."
   ]
  },
  {
   "cell_type": "markdown",
   "metadata": {},
   "source": [
    "So, you have been asked to build a risk premium pricing model for a motor portfolio - a classic GI problem. \n",
    "\n",
    "The standard approach would be to:\n",
    "* Split the claims into perils, or peril groups based on the cause of loss\n",
    "* Build separate generalised linear models (GLMs) of the frequency and severity of each peril group.\n",
    "* Calibrate non-linear effects such as curves and interactions (typically manually).\n",
    "\n",
    "This approach has its challenges. Key limitations would be:\n",
    "* Choice of peril groups - finer groups increases granularity, but decreases the data available to each model as they are estimated independently\n",
    "* In the event that frequency and severity are correlated, there is no clear way to model expected cost other than to create a third, independent Tweedie model\n",
    "* Challenges in finding the right interactions and curves based on the data.\n",
    "\n",
    "What if, there was a model structure that:\n",
    "* Can estimate multiple frequency, severity and expected cost responses in a single model\n",
    "* While sharing commonalities between those outputs\n",
    "* Is a [universal approximator](https://en.wikipedia.org/wiki/Universal_approximation_theorem) so non-linear effects can be captured automatically\n",
    "* Can be expanded to use freeform text, photos, voice, or time series data as inputs?\n",
    "\n",
    "In this analytics snippet, we introduce <b>multi-task deep learning for general insurance risk pricing</b>.\n",
    "\n",
    "We apply the flexible structure of deep learning - in particular, multi-task learning, a variation where the model has multiple outputs - to predict all of the expected claims outcomes in a general insurance scenario."
   ]
  },
  {
   "cell_type": "markdown",
   "metadata": {},
   "source": [
    "## Python and R\n",
    "The tutorial below includes code to implement the model, with the option for readers to pick from Python or R.\n",
    "\n",
    "Python is generally considered to be better for neural network modelling due to its better support for deep learning packages. Consequently it is the recommended language for this snippet and only the output for the Python version is shown. However, R code that implements similar functionality is also included for those who prefer to work exclusively in R. If you are completely new to Python, and feel that the code below a bit intimidating, I would recommend the excellent free introductory tutorial by [DataCamp](https://www.datacamp.com/courses/intro-to-python-for-data-science). \n",
    "\n",
    "Python is free software - you can download it and run it on your pc - either through a distribution which comes with an installer and complete set of packages like [Anaconda](https://www.anaconda.com/download/) or a more barebones download directly from [python.org](https://www.python.org/downloads/). Alternatively, you can also run it online through a web \"notebook\" interface which works on any device including phones and tablets. Free services includes [Google Colaboratory](https://colab.research.google.com/) which links in with Google Drive, [Microsoft Azure Notebooks](https://notebooks.azure.com/) which links in with OneDrive, and [Binder](https://mybinder.org/) which links to Github."
   ]
  },
  {
   "cell_type": "markdown",
   "metadata": {},
   "source": [
    "## Packages\n",
    "This example uses keras with Google's tensorflow library to build the neural networks:\n",
    "* [keras](https://keras.io/), a neural network framework, and \n",
    "* [tensorflow](https://www.tensorflow.org/) Google's computational library which works with Keras.\n",
    "\n",
    "Other standard packages include:\n",
    "* [pandas](https://pandas.pydata.org/), the \"panel data\" data frames library for python, \n",
    "* [numpy](http://www.numpy.org/) for array based calculations,\n",
    "* [sci-kit learn](http://scikit-learn.org/stable/index.html), a framework for machine learning, \n",
    "* [jupyter](http://jupyter.org/), a common tool to viewing and reproducing code \n",
    "* [pydot](https://github.com/erocarrera/pydot), required to plot the neural network graph, which relies on:\n",
    "* [graphwiz](https://graphviz.gitlab.io/_pages/Download/Download_windows.html). For Graphwiz installation on Windows, you may need to manually add the \"bin\" subfolder of the installed folder location to your PATH for pydot to access."
   ]
  },
  {
   "cell_type": "markdown",
   "metadata": {},
   "source": [
    "#### Python"
   ]
  },
  {
   "cell_type": "code",
   "execution_count": 1,
   "metadata": {},
   "outputs": [
    {
     "name": "stderr",
     "output_type": "stream",
     "text": [
      "D:\\Anaconda3\\lib\\site-packages\\h5py\\__init__.py:36: FutureWarning: Conversion of the second argument of issubdtype from `float` to `np.floating` is deprecated. In future, it will be treated as `np.float64 == np.dtype(float).type`.\n",
      "  from ._conv import register_converters as _register_converters\n",
      "Using TensorFlow backend.\n"
     ]
    }
   ],
   "source": [
    "import pandas as pd\n",
    "import numpy as np\n",
    "\n",
    "from keras.layers import Input, Embedding, LSTM, Dense, Reshape, concatenate\n",
    "from keras.models import Model\n",
    "from keras.utils.vis_utils import model_to_dot\n",
    "\n",
    "from sklearn.model_selection import train_test_split\n",
    "\n",
    "from IPython.display import SVG\n",
    "\n",
    "%matplotlib inline"
   ]
  },
  {
   "cell_type": "markdown",
   "metadata": {},
   "source": [
    "#### R\n",
    "In R, we can interface with keras as well using one of two packages, either through Rstudio's [\"keras\"](https://keras.rstudio.com/) or alternatively [\"kerasR\"](https://cran.r-project.org/web/packages/kerasR/vignettes/introduction.html). The R code below uses the \"keras\" package. See [website](https://keras.rstudio.com/) for installation instructions."
   ]
  },
  {
   "cell_type": "markdown",
   "metadata": {},
   "source": [
    "```r\n",
    "library(keras)\n",
    "library(dplyr)\n",
    "```"
   ]
  },
  {
   "cell_type": "markdown",
   "metadata": {},
   "source": [
    "## Reproducibility\n",
    "Neural network trainings include randomisation in the starting conditions and evolution.\n",
    "\n",
    "Including the code below (Python only) will fix the random number generation to a specific value by defining the ‘seeds’ ahead of model fitting, which should lead to a model result that is very close to the results in the article. However, calculations may run slower when fixing seeds."
   ]
  },
  {
   "cell_type": "markdown",
   "metadata": {},
   "source": [
    "#### Python (Optional)"
   ]
  },
  {
   "cell_type": "code",
   "execution_count": 2,
   "metadata": {},
   "outputs": [],
   "source": [
    "import tensorflow as tf\n",
    "import random as rn\n",
    "import os\n",
    "os.environ['PYTHONHASHSEED'] = '0'\n",
    "np.random.seed(42)\n",
    "rn.seed(12345)\n",
    "session_conf = tf.ConfigProto(intra_op_parallelism_threads=1, inter_op_parallelism_threads=1)\n",
    "from keras import backend as K\n",
    "tf.set_random_seed(1234)\n",
    "sess = tf.Session(graph=tf.get_default_graph(), config=session_conf)\n",
    "K.set_session(sess)"
   ]
  },
  {
   "cell_type": "markdown",
   "metadata": {},
   "source": [
    "## Data\n",
    "\n",
    "Unfortunately, there are very few public insurance datasets that have a great amount of detail. The example dataset we will use is the \"Third party motor insurance claims in Sweden in 1977\", a real-life motor insurance dataset. More information on the dataset can be found [here](http://www.statsci.org/data/general/motorins.html).\n",
    "\n",
    "This has no perils to split by, however we will create a deep learning model that estimates both claim frequency and average risk premium in a single model. First we will read in and inspect the data:"
   ]
  },
  {
   "cell_type": "markdown",
   "metadata": {},
   "source": [
    "#### Python"
   ]
  },
  {
   "cell_type": "code",
   "execution_count": 3,
   "metadata": {},
   "outputs": [],
   "source": [
    "df = pd.read_csv(\"http://www.statsci.org/data/general/motorins.txt\", sep='\\t') \\\n",
    "    .assign(\n",
    "        frequency = lambda x: x.Claims / x.Insured,\n",
    "        severity =  lambda x: np.where(x.Claims == 0, 0, x.Payment / x.Claims),\n",
    "        risk_premium = lambda x: x.Payment / x.Insured\n",
    "    )"
   ]
  },
  {
   "cell_type": "code",
   "execution_count": 4,
   "metadata": {
    "scrolled": true
   },
   "outputs": [
    {
     "data": {
      "text/html": [
       "<div>\n",
       "<style scoped>\n",
       "    .dataframe tbody tr th:only-of-type {\n",
       "        vertical-align: middle;\n",
       "    }\n",
       "\n",
       "    .dataframe tbody tr th {\n",
       "        vertical-align: top;\n",
       "    }\n",
       "\n",
       "    .dataframe thead th {\n",
       "        text-align: right;\n",
       "    }\n",
       "</style>\n",
       "<table border=\"1\" class=\"dataframe\">\n",
       "  <thead>\n",
       "    <tr style=\"text-align: right;\">\n",
       "      <th></th>\n",
       "      <th>Kilometres</th>\n",
       "      <th>Zone</th>\n",
       "      <th>Bonus</th>\n",
       "      <th>Make</th>\n",
       "      <th>Insured</th>\n",
       "      <th>Claims</th>\n",
       "      <th>Payment</th>\n",
       "      <th>frequency</th>\n",
       "      <th>severity</th>\n",
       "      <th>risk_premium</th>\n",
       "    </tr>\n",
       "  </thead>\n",
       "  <tbody>\n",
       "    <tr>\n",
       "      <th>0</th>\n",
       "      <td>1</td>\n",
       "      <td>1</td>\n",
       "      <td>1</td>\n",
       "      <td>1</td>\n",
       "      <td>455.13</td>\n",
       "      <td>108</td>\n",
       "      <td>392491</td>\n",
       "      <td>0.237295</td>\n",
       "      <td>3634.175926</td>\n",
       "      <td>862.371191</td>\n",
       "    </tr>\n",
       "    <tr>\n",
       "      <th>1</th>\n",
       "      <td>1</td>\n",
       "      <td>1</td>\n",
       "      <td>1</td>\n",
       "      <td>2</td>\n",
       "      <td>69.17</td>\n",
       "      <td>19</td>\n",
       "      <td>46221</td>\n",
       "      <td>0.274686</td>\n",
       "      <td>2432.684211</td>\n",
       "      <td>668.223218</td>\n",
       "    </tr>\n",
       "    <tr>\n",
       "      <th>2</th>\n",
       "      <td>1</td>\n",
       "      <td>1</td>\n",
       "      <td>1</td>\n",
       "      <td>3</td>\n",
       "      <td>72.88</td>\n",
       "      <td>13</td>\n",
       "      <td>15694</td>\n",
       "      <td>0.178375</td>\n",
       "      <td>1207.230769</td>\n",
       "      <td>215.340285</td>\n",
       "    </tr>\n",
       "    <tr>\n",
       "      <th>3</th>\n",
       "      <td>1</td>\n",
       "      <td>1</td>\n",
       "      <td>1</td>\n",
       "      <td>4</td>\n",
       "      <td>1292.39</td>\n",
       "      <td>124</td>\n",
       "      <td>422201</td>\n",
       "      <td>0.095946</td>\n",
       "      <td>3404.846774</td>\n",
       "      <td>326.682348</td>\n",
       "    </tr>\n",
       "    <tr>\n",
       "      <th>4</th>\n",
       "      <td>1</td>\n",
       "      <td>1</td>\n",
       "      <td>1</td>\n",
       "      <td>5</td>\n",
       "      <td>191.01</td>\n",
       "      <td>40</td>\n",
       "      <td>119373</td>\n",
       "      <td>0.209413</td>\n",
       "      <td>2984.325000</td>\n",
       "      <td>624.956809</td>\n",
       "    </tr>\n",
       "  </tbody>\n",
       "</table>\n",
       "</div>"
      ],
      "text/plain": [
       "   Kilometres  Zone  Bonus  Make  Insured  Claims  Payment  frequency  \\\n",
       "0           1     1      1     1   455.13     108   392491   0.237295   \n",
       "1           1     1      1     2    69.17      19    46221   0.274686   \n",
       "2           1     1      1     3    72.88      13    15694   0.178375   \n",
       "3           1     1      1     4  1292.39     124   422201   0.095946   \n",
       "4           1     1      1     5   191.01      40   119373   0.209413   \n",
       "\n",
       "      severity  risk_premium  \n",
       "0  3634.175926    862.371191  \n",
       "1  2432.684211    668.223218  \n",
       "2  1207.230769    215.340285  \n",
       "3  3404.846774    326.682348  \n",
       "4  2984.325000    624.956809  "
      ]
     },
     "execution_count": 4,
     "metadata": {},
     "output_type": "execute_result"
    }
   ],
   "source": [
    "df.head()"
   ]
  },
  {
   "cell_type": "markdown",
   "metadata": {},
   "source": [
    "#### R"
   ]
  },
  {
   "cell_type": "markdown",
   "metadata": {},
   "source": [
    "```r\n",
    "df <- read.csv(url(\"http://www.statsci.org/data/general/motorins.txt\"), sep=\"\\t\") %>%\n",
    "  mutate(frequency = Claims / Insured, \n",
    "         severity = ifelse(Claims == 0, 0, Payment / Claims), \n",
    "         risk_premium = Payment / Insured)\n",
    "```"
   ]
  },
  {
   "cell_type": "markdown",
   "metadata": {},
   "source": [
    "```r\n",
    "head(df)\n",
    "```"
   ]
  },
  {
   "cell_type": "markdown",
   "metadata": {},
   "source": [
    "Next, we will split the dataset up into a training dataset and set aside a test dataset for validating our model.\n",
    "\n",
    "This will also conveniently randomise the ordering of the data. Neural networks train on batches of data records, so we would prefer the data to be in a random order so that each batch is a representative sample rather than the neatly sorted table above."
   ]
  },
  {
   "cell_type": "markdown",
   "metadata": {},
   "source": [
    "#### Python"
   ]
  },
  {
   "cell_type": "code",
   "execution_count": 5,
   "metadata": {},
   "outputs": [],
   "source": [
    "train, test = train_test_split(df, test_size=0.2, random_state=12345)"
   ]
  },
  {
   "cell_type": "markdown",
   "metadata": {},
   "source": [
    "#### R"
   ]
  },
  {
   "cell_type": "markdown",
   "metadata": {},
   "source": [
    "```r\n",
    "train_ind <- sample(seq_len(nrow(df)), size = floor(0.8 * nrow(df)))\n",
    "\n",
    "train <- df[train_ind,]\n",
    "test  <- df[-train_ind,]\n",
    "```"
   ]
  },
  {
   "cell_type": "markdown",
   "metadata": {},
   "source": [
    "To rescale the output data, the average frequency, severity and risk premium in the training dataset is calculated."
   ]
  },
  {
   "cell_type": "markdown",
   "metadata": {},
   "source": [
    "#### Python"
   ]
  },
  {
   "cell_type": "code",
   "execution_count": 6,
   "metadata": {},
   "outputs": [],
   "source": [
    "totals = train.loc[:, [\"Insured\", \"Claims\", \"Payment\"]].agg('sum') "
   ]
  },
  {
   "cell_type": "code",
   "execution_count": 7,
   "metadata": {},
   "outputs": [
    {
     "name": "stdout",
     "output_type": "stream",
     "text": [
      "0.04749109486158422 4959.405313081085 235.52758818057862\n"
     ]
    }
   ],
   "source": [
    "train_average_frequency = totals[\"Claims\"] / totals[\"Insured\"]\n",
    "train_average_severity = totals[\"Payment\"] / totals[\"Claims\"]\n",
    "train_average_risk_premium = totals[\"Payment\"] / totals[\"Insured\"]\n",
    "\n",
    "print(train_average_frequency, train_average_severity, train_average_risk_premium)"
   ]
  },
  {
   "cell_type": "markdown",
   "metadata": {},
   "source": [
    "#### R"
   ]
  },
  {
   "cell_type": "markdown",
   "metadata": {},
   "source": [
    "```r\n",
    "summary <- train %>% summarise(\n",
    "  train_average_frequency = sum(Claims) / sum(Insured),\n",
    "  train_average_severity = sum(Payment) / sum(Claims),\n",
    "  train_average_risk_premium = sum(Payment) / sum(Insured))\n",
    "  \n",
    "summary\n",
    "```"
   ]
  },
  {
   "cell_type": "markdown",
   "metadata": {},
   "source": [
    "## Neural Network\n",
    "\n",
    "Designing a neural network architecture is analogous to piecing some building blocks together. We will design the model using the functional API of Keras, which allows us to composite neural network layers to form our model architecture."
   ]
  },
  {
   "cell_type": "markdown",
   "metadata": {},
   "source": [
    "### Embeddings\n",
    "When fitting statistical models, categorical variables typically need to be converted to a series of numerical vectors. Often for GLMs, [indicator variables](https://en.wikipedia.org/wiki/Dummy_variable_(statistics)) are set. \n",
    "\n",
    "In deep learning we can use an \"embedding\" encoding, which will encode the sequence down to a small number of vectors and gets fit as part of the model. We will do this for zone and make."
   ]
  },
  {
   "cell_type": "markdown",
   "metadata": {},
   "source": [
    "#### Python"
   ]
  },
  {
   "cell_type": "code",
   "execution_count": 8,
   "metadata": {},
   "outputs": [],
   "source": [
    "zone_input = Input(shape=(1,), name='zone_input')\n",
    "make_input = Input(shape=(1,), name='make_input')"
   ]
  },
  {
   "cell_type": "markdown",
   "metadata": {},
   "source": [
    "#### R"
   ]
  },
  {
   "cell_type": "markdown",
   "metadata": {},
   "source": [
    "```r\n",
    "zone_input = layer_input(shape=c(1), name='zone_input')\n",
    "make_input = layer_input(shape=c(1), name='make_input')\n",
    "```"
   ]
  },
  {
   "cell_type": "markdown",
   "metadata": {},
   "source": [
    "According to Google's Tensorflow guide, a rough rule of thumb for setting the size of the output vector of an embedding would be the quartic root (^0.25) of the number of categories. However since the the number of categories is so small, we will just keep to output dimensions of 2."
   ]
  },
  {
   "cell_type": "markdown",
   "metadata": {},
   "source": [
    "#### Python"
   ]
  },
  {
   "cell_type": "code",
   "execution_count": 9,
   "metadata": {},
   "outputs": [],
   "source": [
    "zone_embedding = Embedding(output_dim=2, input_dim=7)(zone_input)\n",
    "zone_embedding = Reshape(target_shape=(2,))(zone_embedding)\n",
    "                         \n",
    "make_embedding = Embedding(output_dim=2, input_dim=9)(make_input)\n",
    "make_embedding = Reshape(target_shape=(2,))(make_embedding)"
   ]
  },
  {
   "cell_type": "markdown",
   "metadata": {},
   "source": [
    "#### R"
   ]
  },
  {
   "cell_type": "markdown",
   "metadata": {},
   "source": [
    "```r\n",
    "zone_embedding = layer_embedding(output_dim=2, input_dim=7)(zone_input) %>%\n",
    "  layer_reshape(target_shape=c(2))\n",
    "\n",
    "make_embedding = layer_embedding(output_dim=2, input_dim=9)(make_input) %>% \n",
    "  layer_reshape(target_shape=c(2))\n",
    "```"
   ]
  },
  {
   "cell_type": "markdown",
   "metadata": {},
   "source": [
    "### Other inputs\n",
    "Kilometres and Bonus already have an implicit relationship between the value of the factor and the meaning - i.e. higher Kilometres factors represents a higher amount of kilometres driven, so we will put in the data as is. "
   ]
  },
  {
   "cell_type": "markdown",
   "metadata": {},
   "source": [
    "#### Python"
   ]
  },
  {
   "cell_type": "code",
   "execution_count": 10,
   "metadata": {},
   "outputs": [],
   "source": [
    "kilometres_input = Input(shape=(1,), name='kilometres_input')\n",
    "bonus_input = Input(shape=(1,), name='bonus_input')"
   ]
  },
  {
   "cell_type": "markdown",
   "metadata": {},
   "source": [
    "#### R"
   ]
  },
  {
   "cell_type": "markdown",
   "metadata": {},
   "source": [
    "```r\n",
    "kilometres_input = layer_input(shape=c(1), name='kilometres_input')\n",
    "bonus_input = layer_input(shape=c(1), name='bonus_input')\n",
    "```"
   ]
  },
  {
   "cell_type": "markdown",
   "metadata": {},
   "source": [
    "We then concatenate the inputs together."
   ]
  },
  {
   "cell_type": "markdown",
   "metadata": {},
   "source": [
    "#### Python"
   ]
  },
  {
   "cell_type": "code",
   "execution_count": 11,
   "metadata": {},
   "outputs": [],
   "source": [
    "x = concatenate([zone_embedding, make_embedding, kilometres_input, bonus_input])"
   ]
  },
  {
   "cell_type": "markdown",
   "metadata": {},
   "source": [
    "#### R"
   ]
  },
  {
   "cell_type": "markdown",
   "metadata": {},
   "source": [
    "```r\n",
    "x = layer_concatenate(c(zone_embedding, make_embedding, kilometres_input, bonus_input))\n",
    "```"
   ]
  },
  {
   "cell_type": "markdown",
   "metadata": {},
   "source": [
    "### Dense layers\n",
    "Next we get to the actual \"brains\" of the deep learning model. For the example we will keep it simple with a sequential series of dense layers, however it is possible to use more complex structures or choices of layers which may improve prediction performance."
   ]
  },
  {
   "cell_type": "markdown",
   "metadata": {},
   "source": [
    "#### Python"
   ]
  },
  {
   "cell_type": "code",
   "execution_count": 12,
   "metadata": {},
   "outputs": [],
   "source": [
    "x = Dense(64, activation='relu')(x)\n",
    "x = Dense(64, activation='relu')(x)\n",
    "x = Dense(64, activation='relu')(x)"
   ]
  },
  {
   "cell_type": "markdown",
   "metadata": {},
   "source": [
    "#### R"
   ]
  },
  {
   "cell_type": "markdown",
   "metadata": {},
   "source": [
    "```r\n",
    "x = x %>% layer_dense(64, activation='relu') %>% \n",
    "  layer_dense(64, activation='relu') %>%\n",
    "  layer_dense(64, activation='relu')\n",
    " ```"
   ]
  },
  {
   "cell_type": "markdown",
   "metadata": {},
   "source": [
    "Here we have added three hidden \"layers\", with each layer consisting of 64 nodes (or \"neurons\"). \n",
    "\n",
    "This should give enough flexibility for non-linear effects and interactions, while not adding too much complexity, given the scale of the dataset. \n",
    "\n",
    "Each node uses a [rectified linear unit](https://en.wikipedia.org/wiki/Rectifier_(neural_networks), or \"ReLU\" activation function, which is akin to a truncated linear model, with the truncation giving the overal network its non-linear capabilties.   \n",
    "\n",
    "Ideas to potentially explore with the goal of improving predictivness include adjusting the number of layers, or adding drop out, batch normalisation, or skip layer structures into the model.\n",
    "\n",
    "The deep learning approach also opens the possibility of using more complex data such as images as inputs into the model. Even a small image dataset can be leveraged to provide insights by connecting it to one of many publically available pre-trained image recognition networks and then \"fine-tuned\" to provide insights into your motor risk rating."
   ]
  },
  {
   "cell_type": "markdown",
   "metadata": {},
   "source": [
    "### Output\n",
    "Finally, we add the output regression layer that describes our three outcomes of interest:"
   ]
  },
  {
   "cell_type": "markdown",
   "metadata": {},
   "source": [
    "#### Python"
   ]
  },
  {
   "cell_type": "code",
   "execution_count": 13,
   "metadata": {},
   "outputs": [],
   "source": [
    "frequency_output = Dense(1, activation='relu', name='frequency')(x)\n",
    "severity_output = Dense(1, activation='relu', name='severity')(x)\n",
    "risk_premium_output = Dense(1, activation='relu', name='risk_premium')(x)"
   ]
  },
  {
   "cell_type": "markdown",
   "metadata": {},
   "source": [
    "#### R"
   ]
  },
  {
   "cell_type": "markdown",
   "metadata": {},
   "source": [
    "```r\n",
    "frequency_output    = x %>% layer_dense(1, activation='relu', name='frequency')\n",
    "severity_output     = x %>% layer_dense(1, activation='relu', name='severity')\n",
    "risk_premium_output = x %>% layer_dense(1, activation='relu', name='risk_premium')\n",
    "```"
   ]
  },
  {
   "cell_type": "markdown",
   "metadata": {},
   "source": [
    "More outputs can be added - if there are multiple risk perils, you could then include each of the frequency, severity and risk premium values as an additional output. \n",
    "\n",
    "It is also possible to include input variables as outputs to infer missing values or just help the model \"understand\" the features - in fact the winning solution of a claims prediction Kaggle competition heavily used denoising autoencoders together with model stacking and ensembling - read more [here](https://www.kaggle.com/c/porto-seguro-safe-driver-prediction/discussion/44629)."
   ]
  },
  {
   "cell_type": "markdown",
   "metadata": {},
   "source": [
    "### Model Definition\n"
   ]
  },
  {
   "cell_type": "markdown",
   "metadata": {},
   "source": [
    "#### Python"
   ]
  },
  {
   "cell_type": "code",
   "execution_count": 14,
   "metadata": {},
   "outputs": [],
   "source": [
    "model = Model(inputs=[zone_input, make_input, kilometres_input, bonus_input], \n",
    "              outputs=[frequency_output, severity_output, risk_premium_output])"
   ]
  },
  {
   "cell_type": "markdown",
   "metadata": {},
   "source": [
    "#### R"
   ]
  },
  {
   "cell_type": "markdown",
   "metadata": {},
   "source": [
    "```r\n",
    "model = keras_model(inputs=c(zone_input, make_input, kilometres_input, bonus_input), \n",
    "              outputs=c(frequency_output, severity_output, risk_premium_output))\n",
    "```"
   ]
  },
  {
   "cell_type": "markdown",
   "metadata": {},
   "source": [
    "The standard poisson will be used for frequency. \n",
    "A simple mean squared error will be used for risk premium. \n",
    "\n",
    "Keras allows definition of custom loss functions, so it would be possible to improve this by potentially including a gamma claim size (as suggested by the paper from which the dataset comes from) and a tweedie risk premium model. \n",
    "\n",
    "However for this snippet we will just keep it simple and use the available standard losses."
   ]
  },
  {
   "cell_type": "markdown",
   "metadata": {},
   "source": [
    "#### Python"
   ]
  },
  {
   "cell_type": "code",
   "execution_count": 15,
   "metadata": {},
   "outputs": [],
   "source": [
    "model.compile(optimizer='adam',\n",
    "              loss={'risk_premium': 'mean_squared_error', 'frequency': 'poisson', 'severity': 'mean_squared_logarithmic_error'}, \n",
    "              loss_weights={'risk_premium': 1.0, 'frequency': 1.0, 'severity': 1.0})"
   ]
  },
  {
   "cell_type": "markdown",
   "metadata": {},
   "source": [
    "#### R"
   ]
  },
  {
   "cell_type": "markdown",
   "metadata": {},
   "source": [
    "```r\n",
    "model %>% compile(optimizer='adam',\n",
    "              loss=list(risk_premium='mean_squared_error', \n",
    "                        frequency='poisson', \n",
    "                        severity='mean_squared_logarithmic_error'), \n",
    "              loss_weights=list(risk_premium= 1.0, frequency= 1.0, severity= 1.0))\n",
    "```"
   ]
  },
  {
   "cell_type": "markdown",
   "metadata": {},
   "source": [
    "This is how our model looks like diagrammatically:"
   ]
  },
  {
   "cell_type": "markdown",
   "metadata": {},
   "source": [
    "#### Python"
   ]
  },
  {
   "cell_type": "code",
   "execution_count": 16,
   "metadata": {},
   "outputs": [
    {
     "data": {
      "image/svg+xml": [
       "<svg height=\"556pt\" viewBox=\"0.00 0.00 691.50 556.00\" width=\"692pt\" xmlns=\"http://www.w3.org/2000/svg\" xmlns:xlink=\"http://www.w3.org/1999/xlink\">\n",
       "<g class=\"graph\" id=\"graph0\" transform=\"scale(1 1) rotate(0) translate(4 552)\">\n",
       "<title>G</title>\n",
       "<polygon fill=\"white\" points=\"-4,4 -4,-552 687.5,-552 687.5,4 -4,4\" stroke=\"none\"/>\n",
       "<!-- 2070225749496 -->\n",
       "<g class=\"node\" id=\"node1\"><title>2070225749496</title>\n",
       "<polygon fill=\"none\" points=\"8.5,-511.5 8.5,-547.5 154.5,-547.5 154.5,-511.5 8.5,-511.5\" stroke=\"black\"/>\n",
       "<text font-family=\"Times New Roman,serif\" font-size=\"14.00\" text-anchor=\"middle\" x=\"81.5\" y=\"-525.8\">zone_input: InputLayer</text>\n",
       "</g>\n",
       "<!-- 2070225950144 -->\n",
       "<g class=\"node\" id=\"node3\"><title>2070225950144</title>\n",
       "<polygon fill=\"none\" points=\"0,-438.5 0,-474.5 163,-474.5 163,-438.5 0,-438.5\" stroke=\"black\"/>\n",
       "<text font-family=\"Times New Roman,serif\" font-size=\"14.00\" text-anchor=\"middle\" x=\"81.5\" y=\"-452.8\">embedding_1: Embedding</text>\n",
       "</g>\n",
       "<!-- 2070225749496&#45;&gt;2070225950144 -->\n",
       "<g class=\"edge\" id=\"edge1\"><title>2070225749496-&gt;2070225950144</title>\n",
       "<path d=\"M81.5,-511.313C81.5,-503.289 81.5,-493.547 81.5,-484.569\" fill=\"none\" stroke=\"black\"/>\n",
       "<polygon fill=\"black\" points=\"85.0001,-484.529 81.5,-474.529 78.0001,-484.529 85.0001,-484.529\" stroke=\"black\"/>\n",
       "</g>\n",
       "<!-- 2070225749720 -->\n",
       "<g class=\"node\" id=\"node2\"><title>2070225749720</title>\n",
       "<polygon fill=\"none\" points=\"188,-511.5 188,-547.5 337,-547.5 337,-511.5 188,-511.5\" stroke=\"black\"/>\n",
       "<text font-family=\"Times New Roman,serif\" font-size=\"14.00\" text-anchor=\"middle\" x=\"262.5\" y=\"-525.8\">make_input: InputLayer</text>\n",
       "</g>\n",
       "<!-- 2070225951880 -->\n",
       "<g class=\"node\" id=\"node4\"><title>2070225951880</title>\n",
       "<polygon fill=\"none\" points=\"181,-438.5 181,-474.5 344,-474.5 344,-438.5 181,-438.5\" stroke=\"black\"/>\n",
       "<text font-family=\"Times New Roman,serif\" font-size=\"14.00\" text-anchor=\"middle\" x=\"262.5\" y=\"-452.8\">embedding_2: Embedding</text>\n",
       "</g>\n",
       "<!-- 2070225749720&#45;&gt;2070225951880 -->\n",
       "<g class=\"edge\" id=\"edge2\"><title>2070225749720-&gt;2070225951880</title>\n",
       "<path d=\"M262.5,-511.313C262.5,-503.289 262.5,-493.547 262.5,-484.569\" fill=\"none\" stroke=\"black\"/>\n",
       "<polygon fill=\"black\" points=\"266,-484.529 262.5,-474.529 259,-484.529 266,-484.529\" stroke=\"black\"/>\n",
       "</g>\n",
       "<!-- 2070225950984 -->\n",
       "<g class=\"node\" id=\"node5\"><title>2070225950984</title>\n",
       "<polygon fill=\"none\" points=\"26.5,-365.5 26.5,-401.5 154.5,-401.5 154.5,-365.5 26.5,-365.5\" stroke=\"black\"/>\n",
       "<text font-family=\"Times New Roman,serif\" font-size=\"14.00\" text-anchor=\"middle\" x=\"90.5\" y=\"-379.8\">reshape_1: Reshape</text>\n",
       "</g>\n",
       "<!-- 2070225950144&#45;&gt;2070225950984 -->\n",
       "<g class=\"edge\" id=\"edge3\"><title>2070225950144-&gt;2070225950984</title>\n",
       "<path d=\"M83.6786,-438.313C84.6957,-430.289 85.9306,-420.547 87.0687,-411.569\" fill=\"none\" stroke=\"black\"/>\n",
       "<polygon fill=\"black\" points=\"90.556,-411.89 88.3414,-401.529 83.6116,-411.009 90.556,-411.89\" stroke=\"black\"/>\n",
       "</g>\n",
       "<!-- 2070225950928 -->\n",
       "<g class=\"node\" id=\"node6\"><title>2070225950928</title>\n",
       "<polygon fill=\"none\" points=\"189.5,-365.5 189.5,-401.5 317.5,-401.5 317.5,-365.5 189.5,-365.5\" stroke=\"black\"/>\n",
       "<text font-family=\"Times New Roman,serif\" font-size=\"14.00\" text-anchor=\"middle\" x=\"253.5\" y=\"-379.8\">reshape_2: Reshape</text>\n",
       "</g>\n",
       "<!-- 2070225951880&#45;&gt;2070225950928 -->\n",
       "<g class=\"edge\" id=\"edge4\"><title>2070225951880-&gt;2070225950928</title>\n",
       "<path d=\"M260.321,-438.313C259.304,-430.289 258.069,-420.547 256.931,-411.569\" fill=\"none\" stroke=\"black\"/>\n",
       "<polygon fill=\"black\" points=\"260.388,-411.009 255.659,-401.529 253.444,-411.89 260.388,-411.009\" stroke=\"black\"/>\n",
       "</g>\n",
       "<!-- 2070225750280 -->\n",
       "<g class=\"node\" id=\"node9\"><title>2070225750280</title>\n",
       "<polygon fill=\"none\" points=\"252,-292.5 252,-328.5 425,-328.5 425,-292.5 252,-292.5\" stroke=\"black\"/>\n",
       "<text font-family=\"Times New Roman,serif\" font-size=\"14.00\" text-anchor=\"middle\" x=\"338.5\" y=\"-306.8\">concatenate_1: Concatenate</text>\n",
       "</g>\n",
       "<!-- 2070225950984&#45;&gt;2070225750280 -->\n",
       "<g class=\"edge\" id=\"edge5\"><title>2070225950984-&gt;2070225750280</title>\n",
       "<path d=\"M149.902,-365.494C185.682,-355.25 231.417,-342.157 268.888,-331.429\" fill=\"none\" stroke=\"black\"/>\n",
       "<polygon fill=\"black\" points=\"270.073,-334.731 278.723,-328.614 268.146,-328.001 270.073,-334.731\" stroke=\"black\"/>\n",
       "</g>\n",
       "<!-- 2070225950928&#45;&gt;2070225750280 -->\n",
       "<g class=\"edge\" id=\"edge6\"><title>2070225950928-&gt;2070225750280</title>\n",
       "<path d=\"M274.076,-365.313C284.934,-356.243 298.422,-344.977 310.246,-335.1\" fill=\"none\" stroke=\"black\"/>\n",
       "<polygon fill=\"black\" points=\"312.682,-337.626 318.113,-328.529 308.195,-332.253 312.682,-337.626\" stroke=\"black\"/>\n",
       "</g>\n",
       "<!-- 2070225750840 -->\n",
       "<g class=\"node\" id=\"node7\"><title>2070225750840</title>\n",
       "<polygon fill=\"none\" points=\"335.5,-365.5 335.5,-401.5 511.5,-401.5 511.5,-365.5 335.5,-365.5\" stroke=\"black\"/>\n",
       "<text font-family=\"Times New Roman,serif\" font-size=\"14.00\" text-anchor=\"middle\" x=\"423.5\" y=\"-379.8\">kilometres_input: InputLayer</text>\n",
       "</g>\n",
       "<!-- 2070225750840&#45;&gt;2070225750280 -->\n",
       "<g class=\"edge\" id=\"edge7\"><title>2070225750840-&gt;2070225750280</title>\n",
       "<path d=\"M402.924,-365.313C392.066,-356.243 378.578,-344.977 366.754,-335.1\" fill=\"none\" stroke=\"black\"/>\n",
       "<polygon fill=\"black\" points=\"368.805,-332.253 358.887,-328.529 364.318,-337.626 368.805,-332.253\" stroke=\"black\"/>\n",
       "</g>\n",
       "<!-- 2070225751904 -->\n",
       "<g class=\"node\" id=\"node8\"><title>2070225751904</title>\n",
       "<polygon fill=\"none\" points=\"529.5,-365.5 529.5,-401.5 683.5,-401.5 683.5,-365.5 529.5,-365.5\" stroke=\"black\"/>\n",
       "<text font-family=\"Times New Roman,serif\" font-size=\"14.00\" text-anchor=\"middle\" x=\"606.5\" y=\"-379.8\">bonus_input: InputLayer</text>\n",
       "</g>\n",
       "<!-- 2070225751904&#45;&gt;2070225750280 -->\n",
       "<g class=\"edge\" id=\"edge8\"><title>2070225751904-&gt;2070225750280</title>\n",
       "<path d=\"M542.307,-365.494C503.395,-355.185 453.587,-341.99 412.951,-331.224\" fill=\"none\" stroke=\"black\"/>\n",
       "<polygon fill=\"black\" points=\"413.661,-327.791 403.098,-328.614 411.868,-334.558 413.661,-327.791\" stroke=\"black\"/>\n",
       "</g>\n",
       "<!-- 2070227217544 -->\n",
       "<g class=\"node\" id=\"node10\"><title>2070227217544</title>\n",
       "<polygon fill=\"none\" points=\"286.5,-219.5 286.5,-255.5 390.5,-255.5 390.5,-219.5 286.5,-219.5\" stroke=\"black\"/>\n",
       "<text font-family=\"Times New Roman,serif\" font-size=\"14.00\" text-anchor=\"middle\" x=\"338.5\" y=\"-233.8\">dense_1: Dense</text>\n",
       "</g>\n",
       "<!-- 2070225750280&#45;&gt;2070227217544 -->\n",
       "<g class=\"edge\" id=\"edge9\"><title>2070225750280-&gt;2070227217544</title>\n",
       "<path d=\"M338.5,-292.313C338.5,-284.289 338.5,-274.547 338.5,-265.569\" fill=\"none\" stroke=\"black\"/>\n",
       "<polygon fill=\"black\" points=\"342,-265.529 338.5,-255.529 335,-265.529 342,-265.529\" stroke=\"black\"/>\n",
       "</g>\n",
       "<!-- 2070227218272 -->\n",
       "<g class=\"node\" id=\"node11\"><title>2070227218272</title>\n",
       "<polygon fill=\"none\" points=\"286.5,-146.5 286.5,-182.5 390.5,-182.5 390.5,-146.5 286.5,-146.5\" stroke=\"black\"/>\n",
       "<text font-family=\"Times New Roman,serif\" font-size=\"14.00\" text-anchor=\"middle\" x=\"338.5\" y=\"-160.8\">dense_2: Dense</text>\n",
       "</g>\n",
       "<!-- 2070227217544&#45;&gt;2070227218272 -->\n",
       "<g class=\"edge\" id=\"edge10\"><title>2070227217544-&gt;2070227218272</title>\n",
       "<path d=\"M338.5,-219.313C338.5,-211.289 338.5,-201.547 338.5,-192.569\" fill=\"none\" stroke=\"black\"/>\n",
       "<polygon fill=\"black\" points=\"342,-192.529 338.5,-182.529 335,-192.529 342,-192.529\" stroke=\"black\"/>\n",
       "</g>\n",
       "<!-- 2070227337512 -->\n",
       "<g class=\"node\" id=\"node12\"><title>2070227337512</title>\n",
       "<polygon fill=\"none\" points=\"286.5,-73.5 286.5,-109.5 390.5,-109.5 390.5,-73.5 286.5,-73.5\" stroke=\"black\"/>\n",
       "<text font-family=\"Times New Roman,serif\" font-size=\"14.00\" text-anchor=\"middle\" x=\"338.5\" y=\"-87.8\">dense_3: Dense</text>\n",
       "</g>\n",
       "<!-- 2070227218272&#45;&gt;2070227337512 -->\n",
       "<g class=\"edge\" id=\"edge11\"><title>2070227218272-&gt;2070227337512</title>\n",
       "<path d=\"M338.5,-146.313C338.5,-138.289 338.5,-128.547 338.5,-119.569\" fill=\"none\" stroke=\"black\"/>\n",
       "<polygon fill=\"black\" points=\"342,-119.529 338.5,-109.529 335,-119.529 342,-119.529\" stroke=\"black\"/>\n",
       "</g>\n",
       "<!-- 2070227582592 -->\n",
       "<g class=\"node\" id=\"node13\"><title>2070227582592</title>\n",
       "<polygon fill=\"none\" points=\"157,-0.5 157,-36.5 270,-36.5 270,-0.5 157,-0.5\" stroke=\"black\"/>\n",
       "<text font-family=\"Times New Roman,serif\" font-size=\"14.00\" text-anchor=\"middle\" x=\"213.5\" y=\"-14.8\">frequency: Dense</text>\n",
       "</g>\n",
       "<!-- 2070227337512&#45;&gt;2070227582592 -->\n",
       "<g class=\"edge\" id=\"edge12\"><title>2070227337512-&gt;2070227582592</title>\n",
       "<path d=\"M308.559,-73.4937C291.83,-63.9914 270.782,-52.0363 252.747,-41.7924\" fill=\"none\" stroke=\"black\"/>\n",
       "<polygon fill=\"black\" points=\"254.053,-38.5092 243.63,-36.6136 250.596,-44.5959 254.053,-38.5092\" stroke=\"black\"/>\n",
       "</g>\n",
       "<!-- 2070227580968 -->\n",
       "<g class=\"node\" id=\"node14\"><title>2070227580968</title>\n",
       "<polygon fill=\"none\" points=\"288,-0.5 288,-36.5 389,-36.5 389,-0.5 288,-0.5\" stroke=\"black\"/>\n",
       "<text font-family=\"Times New Roman,serif\" font-size=\"14.00\" text-anchor=\"middle\" x=\"338.5\" y=\"-14.8\">severity: Dense</text>\n",
       "</g>\n",
       "<!-- 2070227337512&#45;&gt;2070227580968 -->\n",
       "<g class=\"edge\" id=\"edge13\"><title>2070227337512-&gt;2070227580968</title>\n",
       "<path d=\"M338.5,-73.3129C338.5,-65.2895 338.5,-55.5475 338.5,-46.5691\" fill=\"none\" stroke=\"black\"/>\n",
       "<polygon fill=\"black\" points=\"342,-46.5288 338.5,-36.5288 335,-46.5289 342,-46.5288\" stroke=\"black\"/>\n",
       "</g>\n",
       "<!-- 2070227650208 -->\n",
       "<g class=\"node\" id=\"node15\"><title>2070227650208</title>\n",
       "<polygon fill=\"none\" points=\"407.5,-0.5 407.5,-36.5 541.5,-36.5 541.5,-0.5 407.5,-0.5\" stroke=\"black\"/>\n",
       "<text font-family=\"Times New Roman,serif\" font-size=\"14.00\" text-anchor=\"middle\" x=\"474.5\" y=\"-14.8\">risk_premium: Dense</text>\n",
       "</g>\n",
       "<!-- 2070227337512&#45;&gt;2070227650208 -->\n",
       "<g class=\"edge\" id=\"edge14\"><title>2070227337512-&gt;2070227650208</title>\n",
       "<path d=\"M371.075,-73.4937C389.528,-63.8606 412.808,-51.7068 432.607,-41.3705\" fill=\"none\" stroke=\"black\"/>\n",
       "<polygon fill=\"black\" points=\"434.474,-44.3442 441.719,-36.6136 431.235,-38.1389 434.474,-44.3442\" stroke=\"black\"/>\n",
       "</g>\n",
       "</g>\n",
       "</svg>"
      ],
      "text/plain": [
       "<IPython.core.display.SVG object>"
      ]
     },
     "execution_count": 16,
     "metadata": {},
     "output_type": "execute_result"
    }
   ],
   "source": [
    "SVG(model_to_dot(model).create(prog='dot', format='svg'))"
   ]
  },
  {
   "cell_type": "markdown",
   "metadata": {},
   "source": [
    "#### R (text summary only)"
   ]
  },
  {
   "cell_type": "markdown",
   "metadata": {},
   "source": [
    "```r\n",
    "summary(model)\n",
    "```"
   ]
  },
  {
   "cell_type": "markdown",
   "metadata": {},
   "source": [
    "### Flexibility in Inputs and Outputs\n",
    "While it is not possible with our example dataset based on historical data, it is worth noting the flexibility that a neural network can give to your model inputs - for example:\n",
    "* images (e.g. photos of the vehicle),\n",
    "* freeform text descriptions (e.g. claims diary of accident history),\n",
    "* time series (e.g. driving behaviours)\n",
    "\n",
    "These can all be included as predictors if they were available - leveraging image recognition and natural language processing models and other advances in deep learning.\n",
    "\n",
    "Outputs can also be the images, freeform texts or time series. They can also include the missing data in inputs - for example, the first place solution in the [Porto Seguro Kaggle data mining competition](https://www.kaggle.com/c/porto-seguro-safe-driver-prediction/discussion/44629) was based on auto-encoders which predicts the inputs as outputs."
   ]
  },
  {
   "cell_type": "markdown",
   "metadata": {},
   "source": [
    "### Fit\n",
    "Fitting the model. Some things to note are:\n",
    "* keras factors for embeddings count from 0, 1, 2... but our data is set up as 1, 2 3 so we need to subtract 1 from each predictor,\n",
    "* sample weights are set individually - frequency and risk premium use the same exposure weights, but had we included claim size, that would use claim count as the weight,\n",
    "* do some basic normalising - on the Bonus and Kilometres inputs and particularly on the outputs to get frequency and risk premium to be in the same scale."
   ]
  },
  {
   "cell_type": "markdown",
   "metadata": {},
   "source": [
    "#### Python"
   ]
  },
  {
   "cell_type": "code",
   "execution_count": 17,
   "metadata": {},
   "outputs": [],
   "source": [
    "def InputDataTransformer(x):\n",
    "    return {\n",
    "    'kilometres_input': (x.Kilometres.values - 1) / 5,\n",
    "    'zone_input': x.Zone.values - 1,\n",
    "    'bonus_input': (x.Bonus.values - 1) / 7,\n",
    "    'make_input': x.Make.values - 1}"
   ]
  },
  {
   "cell_type": "code",
   "execution_count": 18,
   "metadata": {
    "scrolled": true
   },
   "outputs": [
    {
     "name": "stdout",
     "output_type": "stream",
     "text": [
      "Epoch 1/40\n",
      "1745/1745 [==============================] - 1s 378us/step - loss: 2576.4842 - frequency_loss: 1495.8723 - severity_loss: 15.2120 - risk_premium_loss: 1065.3999\n",
      "Epoch 2/40\n",
      "1745/1745 [==============================] - 0s 75us/step - loss: 1579.1398 - frequency_loss: 1146.6263 - severity_loss: 2.6367 - risk_premium_loss: 429.8768\n",
      "Epoch 3/40\n",
      "1745/1745 [==============================] - 0s 69us/step - loss: 1286.9174 - frequency_loss: 1045.1732 - severity_loss: 3.3395 - risk_premium_loss: 238.4046\n",
      "Epoch 4/40\n",
      "1745/1745 [==============================] - 0s 80us/step - loss: 1211.8722 - frequency_loss: 1020.3159 - severity_loss: 3.3936 - risk_premium_loss: 188.1627\n",
      "Epoch 5/40\n",
      "1745/1745 [==============================] - 0s 69us/step - loss: 1176.7366 - frequency_loss: 1008.0177 - severity_loss: 3.0215 - risk_premium_loss: 165.6974\n",
      "Epoch 6/40\n",
      "1745/1745 [==============================] - 0s 57us/step - loss: 1160.6227 - frequency_loss: 1003.7292 - severity_loss: 2.5391 - risk_premium_loss: 154.3544\n",
      "Epoch 7/40\n",
      "1745/1745 [==============================] - 0s 69us/step - loss: 1150.7917 - frequency_loss: 1000.5314 - severity_loss: 2.2280 - risk_premium_loss: 148.0323\n",
      "Epoch 8/40\n",
      "1745/1745 [==============================] - 0s 46us/step - loss: 1148.0303 - frequency_loss: 999.7820 - severity_loss: 1.7652 - risk_premium_loss: 146.4831\n",
      "Epoch 9/40\n",
      "1745/1745 [==============================] - 0s 39us/step - loss: 1145.7089 - frequency_loss: 999.1424 - severity_loss: 1.5042 - risk_premium_loss: 145.0623\n",
      "Epoch 10/40\n",
      "1745/1745 [==============================] - 0s 34us/step - loss: 1142.1324 - frequency_loss: 998.8911 - severity_loss: 1.2705 - risk_premium_loss: 141.9709\n",
      "Epoch 11/40\n",
      "1745/1745 [==============================] - 0s 46us/step - loss: 1137.5478 - frequency_loss: 997.9134 - severity_loss: 1.1348 - risk_premium_loss: 138.4996\n",
      "Epoch 12/40\n",
      "1745/1745 [==============================] - 0s 34us/step - loss: 1137.4215 - frequency_loss: 997.7291 - severity_loss: 1.0760 - risk_premium_loss: 138.6164\n",
      "Epoch 13/40\n",
      "1745/1745 [==============================] - 0s 40us/step - loss: 1133.3355 - frequency_loss: 996.5345 - severity_loss: 0.9844 - risk_premium_loss: 135.8166\n",
      "Epoch 14/40\n",
      "1745/1745 [==============================] - 0s 40us/step - loss: 1131.6330 - frequency_loss: 996.5850 - severity_loss: 0.9626 - risk_premium_loss: 134.0853\n",
      "Epoch 15/40\n",
      "1745/1745 [==============================] - 0s 37us/step - loss: 1132.3984 - frequency_loss: 996.4491 - severity_loss: 0.9251 - risk_premium_loss: 135.0242\n",
      "Epoch 16/40\n",
      "1745/1745 [==============================] - 0s 43us/step - loss: 1131.7467 - frequency_loss: 996.9224 - severity_loss: 0.9063 - risk_premium_loss: 133.9181\n",
      "Epoch 17/40\n",
      "1745/1745 [==============================] - 0s 46us/step - loss: 1129.9941 - frequency_loss: 995.8470 - severity_loss: 0.8818 - risk_premium_loss: 133.2653\n",
      "Epoch 18/40\n",
      "1745/1745 [==============================] - 0s 115us/step - loss: 1136.2895 - frequency_loss: 997.5839 - severity_loss: 0.8912 - risk_premium_loss: 137.8144\n",
      "Epoch 19/40\n",
      "1745/1745 [==============================] - 0s 75us/step - loss: 1130.5242 - frequency_loss: 996.5334 - severity_loss: 0.8940 - risk_premium_loss: 133.0969\n",
      "Epoch 20/40\n",
      "1745/1745 [==============================] - 0s 50us/step - loss: 1127.7015 - frequency_loss: 995.9074 - severity_loss: 0.8783 - risk_premium_loss: 130.9158\n",
      "Epoch 21/40\n",
      "1745/1745 [==============================] - 0s 53us/step - loss: 1125.8479 - frequency_loss: 995.1697 - severity_loss: 0.8580 - risk_premium_loss: 129.8203\n",
      "Epoch 22/40\n",
      "1745/1745 [==============================] - 0s 43us/step - loss: 1127.6638 - frequency_loss: 995.6313 - severity_loss: 0.8427 - risk_premium_loss: 131.1897\n",
      "Epoch 23/40\n",
      "1745/1745 [==============================] - 0s 40us/step - loss: 1124.9932 - frequency_loss: 994.5914 - severity_loss: 0.8554 - risk_premium_loss: 129.5464\n",
      "Epoch 24/40\n",
      "1745/1745 [==============================] - 0s 35us/step - loss: 1127.6583 - frequency_loss: 995.0747 - severity_loss: 0.8425 - risk_premium_loss: 131.7410\n",
      "Epoch 25/40\n",
      "1745/1745 [==============================] - 0s 46us/step - loss: 1124.8433 - frequency_loss: 994.2487 - severity_loss: 0.8253 - risk_premium_loss: 129.7693\n",
      "Epoch 26/40\n",
      "1745/1745 [==============================] - 0s 74us/step - loss: 1127.7154 - frequency_loss: 996.0589 - severity_loss: 0.8291 - risk_premium_loss: 130.8273\n",
      "Epoch 27/40\n",
      "1745/1745 [==============================] - 0s 98us/step - loss: 1127.4021 - frequency_loss: 996.5992 - severity_loss: 0.8513 - risk_premium_loss: 129.9517\n",
      "Epoch 28/40\n",
      "1745/1745 [==============================] - 0s 45us/step - loss: 1127.3233 - frequency_loss: 996.1896 - severity_loss: 0.8132 - risk_premium_loss: 130.3205\n",
      "Epoch 29/40\n",
      "1745/1745 [==============================] - 0s 40us/step - loss: 1122.5198 - frequency_loss: 994.2507 - severity_loss: 0.8180 - risk_premium_loss: 127.4511\n",
      "Epoch 30/40\n",
      "1745/1745 [==============================] - 0s 40us/step - loss: 1121.7726 - frequency_loss: 993.9928 - severity_loss: 0.8055 - risk_premium_loss: 126.9742\n",
      "Epoch 31/40\n",
      "1745/1745 [==============================] - 0s 82us/step - loss: 1122.6986 - frequency_loss: 993.6934 - severity_loss: 0.7891 - risk_premium_loss: 128.2160\n",
      "Epoch 32/40\n",
      "1745/1745 [==============================] - 0s 89us/step - loss: 1122.3087 - frequency_loss: 994.4129 - severity_loss: 0.7747 - risk_premium_loss: 127.1210\n",
      "Epoch 33/40\n",
      "1745/1745 [==============================] - 0s 52us/step - loss: 1126.8087 - frequency_loss: 995.5003 - severity_loss: 0.7701 - risk_premium_loss: 130.5384\n",
      "Epoch 34/40\n",
      "1745/1745 [==============================] - 0s 52us/step - loss: 1122.1210 - frequency_loss: 994.2129 - severity_loss: 0.7666 - risk_premium_loss: 127.1415\n",
      "Epoch 35/40\n",
      "1745/1745 [==============================] - 0s 45us/step - loss: 1123.9050 - frequency_loss: 995.0833 - severity_loss: 0.7603 - risk_premium_loss: 128.0613\n",
      "Epoch 36/40\n",
      "1745/1745 [==============================] - 0s 51us/step - loss: 1119.8890 - frequency_loss: 993.2532 - severity_loss: 0.7509 - risk_premium_loss: 125.8849\n",
      "Epoch 37/40\n",
      "1745/1745 [==============================] - 0s 46us/step - loss: 1119.8933 - frequency_loss: 993.8133 - severity_loss: 0.7344 - risk_premium_loss: 125.3456\n",
      "Epoch 38/40\n",
      "1745/1745 [==============================] - 0s 51us/step - loss: 1119.7043 - frequency_loss: 993.3680 - severity_loss: 0.7384 - risk_premium_loss: 125.5979\n",
      "Epoch 39/40\n",
      "1745/1745 [==============================] - 0s 52us/step - loss: 1119.2908 - frequency_loss: 993.1987 - severity_loss: 0.7300 - risk_premium_loss: 125.3621\n",
      "Epoch 40/40\n",
      "1745/1745 [==============================] - 0s 45us/step - loss: 1119.1891 - frequency_loss: 993.4587 - severity_loss: 0.7206 - risk_premium_loss: 125.0097\n"
     ]
    },
    {
     "data": {
      "text/plain": [
       "<keras.callbacks.History at 0x1e20349e6d8>"
      ]
     },
     "execution_count": 18,
     "metadata": {},
     "output_type": "execute_result"
    }
   ],
   "source": [
    "model.fit(\n",
    "    InputDataTransformer(train),\n",
    "    {'frequency': train.frequency.values / train_average_frequency,\n",
    "     'severity': train.severity.values / train_average_severity,\n",
    "     'risk_premium': train.risk_premium.values / train_average_risk_premium}, \n",
    "    sample_weight={\n",
    "        'frequency': train.Insured.values,\n",
    "        'severity': train.Claims.values,\n",
    "        'risk_premium': train.Insured.values\n",
    "    },\n",
    "    epochs=40, batch_size=32)"
   ]
  },
  {
   "cell_type": "markdown",
   "metadata": {},
   "source": [
    "#### R"
   ]
  },
  {
   "cell_type": "markdown",
   "metadata": {},
   "source": [
    "```r\n",
    "InputDataTransformer <- function(x){\n",
    "  list(\n",
    "    kilometres_input= (x$Kilometres - 1) / 5,\n",
    "    zone_input= (x$Zone - 1),\n",
    "    bonus_input= (x$Bonus - 1) / 7,\n",
    "    make_input= x$Make - 1\n",
    "  )}\n",
    "```"
   ]
  },
  {
   "cell_type": "markdown",
   "metadata": {},
   "source": [
    "```r\n",
    "model %>% fit(\n",
    "  x=InputDataTransformer(train),\n",
    "  y=list(\n",
    "    frequency=train$frequency / summary$train_average_frequency,\n",
    "    severity=train$severity / summary$train_average_severity,\n",
    "    risk_premium=train$risk_premium / summary$train_average_risk_premium),\n",
    "  sample_weight=list(\n",
    "    frequency=train$Insured,\n",
    "    severity=train$Claims,\n",
    "    risk_premium=train$Insured),\n",
    "  epochs=40, batch_size=32)\n",
    "```"
   ]
  },
  {
   "cell_type": "markdown",
   "metadata": {},
   "source": [
    "## Model Validation"
   ]
  },
  {
   "cell_type": "markdown",
   "metadata": {},
   "source": [
    "We will now apply this to the test set to see how well the model has worked."
   ]
  },
  {
   "cell_type": "markdown",
   "metadata": {},
   "source": [
    "The plots below show the observations ordered from least risky to most risky, with the modelled vs actual frequency and risk premiums, for the training and test sets."
   ]
  },
  {
   "cell_type": "markdown",
   "metadata": {},
   "source": [
    "#### Python"
   ]
  },
  {
   "cell_type": "code",
   "execution_count": 19,
   "metadata": {},
   "outputs": [],
   "source": [
    "def predict_and_plot(df, train_average_frequency, train_average_risk_premium):\n",
    "    model_frequency, model_severity, model_risk_premium = model.predict(InputDataTransformer(df))\n",
    "\n",
    "    # Reverse the normalisation\n",
    "    # Score, sort by lowest to higher\n",
    "    df_new = df.assign(model_frequency = model_frequency * train_average_frequency, \n",
    "                       model_risk_premium = model_risk_premium * train_average_risk_premium) \\\n",
    "        .assign(model_payment = lambda x: x.model_risk_premium * x.Insured,\n",
    "                model_claim_count = lambda x: x.model_frequency * x.Insured) \\\n",
    "        .sort_values(by=['model_frequency']) \\\n",
    "        .assign(model_claim_count_band = lambda x: np.floor(x.model_claim_count.cumsum() / x.model_claim_count.agg('sum') * 10) / 10) \\\n",
    "        .sort_values(by=['model_risk_premium']) \\\n",
    "        .assign(model_payment_band = lambda x: np.floor(x.model_payment.cumsum() / x.model_payment.agg('sum') * 10) / 10)\n",
    "        \n",
    "    # Summarise and plot frequency by weighted decile rank\n",
    "    df_new.loc[:,['model_claim_count_band', 'Insured', 'Claims', 'model_claim_count']] \\\n",
    "        .groupby('model_claim_count_band') \\\n",
    "        .agg('sum') \\\n",
    "        .assign(model_frequency = lambda x: x.model_claim_count / x.Insured,\n",
    "               actual_frequency = lambda x: x.Claims / x.Insured) \\\n",
    "        .loc[:,['model_frequency', 'actual_frequency']] \\\n",
    "        .plot.bar()\n",
    "                \n",
    "    # Summarise and plot risk premium by weighted decile rank\n",
    "    df_new.loc[:,['model_payment_band', 'Insured', 'Payment', 'model_payment']] \\\n",
    "        .groupby('model_payment_band') \\\n",
    "        .agg('sum') \\\n",
    "        .assign(model_risk_premium = lambda x: x.model_payment / x.Insured,\n",
    "               actual_risk_premium = lambda x: x.Payment / x.Insured) \\\n",
    "        .loc[:,['model_risk_premium', 'actual_risk_premium']] \\\n",
    "        .plot.bar()\n",
    "    \n",
    "    return df_new"
   ]
  },
  {
   "cell_type": "code",
   "execution_count": 20,
   "metadata": {},
   "outputs": [
    {
     "data": {
      "image/png": "[encoded data removed]",
      "text/plain": [
       "<matplotlib.figure.Figure at 0x1e203cd0ac8>"
      ]
     },
     "metadata": {},
     "output_type": "display_data"
    },
    {
     "data": {
      "image/png": "[encoded data removed]",
      "text/plain": [
       "<matplotlib.figure.Figure at 0x1e203c2eb00>"
      ]
     },
     "metadata": {},
     "output_type": "display_data"
    }
   ],
   "source": [
    "train = predict_and_plot(train, train_average_frequency, train_average_risk_premium)"
   ]
  },
  {
   "cell_type": "code",
   "execution_count": 21,
   "metadata": {},
   "outputs": [
    {
     "data": {
      "image/png": "[encoded data removed]",
      "text/plain": [
       "<matplotlib.figure.Figure at 0x1e20600cc18>"
      ]
     },
     "metadata": {},
     "output_type": "display_data"
    },
    {
     "data": {
      "image/png": "[encoded data removed]",
      "text/plain": [
       "<matplotlib.figure.Figure at 0x1e206101a90>"
      ]
     },
     "metadata": {},
     "output_type": "display_data"
    }
   ],
   "source": [
    "test = predict_and_plot(test, train_average_frequency, train_average_risk_premium)"
   ]
  },
  {
   "cell_type": "markdown",
   "metadata": {},
   "source": [
    "#### R"
   ]
  },
  {
   "cell_type": "markdown",
   "metadata": {},
   "source": [
    "```r\n",
    "predict_and_plot <- function(df, train_average_frequency, train_average_risk_premium){\n",
    "  predictions <- model %>% predict(InputDataTransformer(df)) %>% as.data.frame()\n",
    "  colnames(predictions) <- c(\"model_frequency\", \"model_severity\", \"model_risk_premium\")\n",
    "  \n",
    "  # Reverse the normalisation\n",
    "  df_new <- df %>% cbind(predictions) %>%\n",
    "    mutate(model_frequency = model_frequency * train_average_frequency,\n",
    "           model_risk_premium = model_risk_premium * train_average_risk_premium) %>%\n",
    "    mutate(model_payment = model_risk_premium * Insured,\n",
    "           model_claim_count = model_frequency * Insured)\n",
    "  \n",
    "  df_summary <- df_new %>%\n",
    "    summarise(model_claim_count_sum = sum(model_claim_count),\n",
    "              model_payment_sum = sum(model_payment))\n",
    "  \n",
    "  # Score, sort by lowest to higher\n",
    "  df_new <- df_new %>%\n",
    "    arrange(model_frequency) %>%\n",
    "    mutate(model_claim_count_band = floor(cumsum(model_claim_count) / df_summary$model_claim_count_sum * 10) / 10) %>%\n",
    "    arrange(model_risk_premium) %>%\n",
    "    mutate(model_payment_band = floor(cumsum(model_payment) / df_summary$model_payment_sum * 10) / 10)\n",
    "  \n",
    "  # Summarise and plot frequency by weighted decile rank\n",
    "  df_new %>% group_by(model_claim_count_band) %>%\n",
    "    summarise(model_frequency = sum(model_claim_count) / sum(Insured),\n",
    "              actual_frequency = sum(Claims) / sum(Insured)) %>%\n",
    "    select(-model_claim_count_band) %>% as.matrix() %>% t() %>%\n",
    "    barplot(xlab = \"Frequency Decile\", ylab=\"Frequency\", beside = TRUE)\n",
    "\n",
    "  # Summarise and plot risk premium by weighted decile rank\n",
    "  df_new %>% group_by(model_payment_band) %>%\n",
    "    summarise(model_risk_premium = sum(model_payment) / sum(Insured),\n",
    "              actual_risk_premium = sum(Payment) / sum(Insured)) %>%\n",
    "    select(-model_payment_band) %>% as.matrix() %>% t() %>%\n",
    "    barplot(xlab = \"Risk Premium Decile\", ylab=\"Risk Premium\", beside = TRUE)\n",
    "\n",
    "  df_new\n",
    "}\n",
    "\n",
    "train = predict_and_plot(train, summary$train_average_frequency, summary$train_average_risk_premium)\n",
    "test = predict_and_plot(test, summary$train_average_frequency, summary$train_average_risk_premium)\n",
    "```"
   ]
  },
  {
   "cell_type": "markdown",
   "metadata": {},
   "source": [
    "Neural networks can be fragile. Data needs to be transformed in the right way, and the model architecture and optimiser settings can all have impact on the model performance. This makes validation tests such as the test data testing above especially important. \n",
    "\n",
    "The model appears to be performing well even on the test data set, with the best and worse having a wide differential in predicted outcomes, and actual matching well to those predictions. Try and see the variations if you remove the reproducible constraint at the start and train it multiple times. Does the model fit well every time?\n",
    "\n",
    "In the event a neural network model behaves oddly, some good resources for diagnosing issues can be found [here](http://theorangeduck.com/page/neural-network-not-working) and [here](https://blog.slavv.com/37-reasons-why-your-neural-network-is-not-working-4020854bd607)."
   ]
  },
  {
   "cell_type": "markdown",
   "metadata": {},
   "source": [
    "## Run this code in your browser!\n",
    "\n",
    "All the Python and R code from this snippet can be run interactively in your browser. \n",
    "\n",
    "For Python, use the rocket icon at the top of the page and select Colab (fairly quick, requires Google account) or Live Code (slower).\n",
    "\n",
    "Alternatively, you can use the links below:\n",
    "\n",
    "* [Python](https://mybinder.org/v2/gh/ActuariesInstitute/analytics-snippet-multitask/master?filepath=Multitasking%20Risk%20Pricing.ipynb)\n",
    "* [R](https://mybinder.org/v2/gh/ActuariesInstitute/analytics-snippet-multitask/master?filepath=multitask_risk_pricing.R&urlpath=rstudio)\n",
    "\n",
    "Some loading time is expected with the latter, as the [Binder](https://mybinder.org/) server needs to load and start up a virtual machine with all the packages and code installed."
   ]
  },
  {
   "cell_type": "markdown",
   "metadata": {},
   "source": [
    "## Afterward\n",
    "Often media article tends to describe \"AI\" in science-fiction or occult terms, but it is important to recognise that it is only a particular class of models. Just like other models, actuaries should ask tough questions about its appropriateness - such as on the quality of data inputs, the understanding of outliers, and the distribution assumptions.\n",
    "\n",
    "It is also a model with some very useful properties. As we have seen above, a fully functional, multi-tasking neural network for potentially automating general insurance pricing is possible in only around 100 lines of Python or R code. It is not too hard for actuaries with good grounding in statistics to learn, and perhaps it may be useful for your next project!\n",
    "\n",
    "To learn more on neural networks from first principles, Google's [Intro to Deep Learning](https://www.udacity.com/course/deep-learning--ud730) seems like a good choice. Alternatively, for those who prefer to plunge straight into applications, there is the [fast.ai course](http://course17.fast.ai/) - the older v1 of the course uses Keras similar to this tutorial. "
   ]
  }
 ],
 "metadata": {
  "kernelspec": {
   "display_name": "Python 3",
   "language": "python",
   "name": "python3"
  },
  "language_info": {
   "codemirror_mode": {
    "name": "ipython",
    "version": 3
   },
   "file_extension": ".py",
   "mimetype": "text/x-python",
   "name": "python",
   "nbconvert_exporter": "python",
   "pygments_lexer": "ipython3",
   "version": "3.9.1"
  }
 },
 "nbformat": 4,
 "nbformat_minor": 2
}
